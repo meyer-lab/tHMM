{
 "cells": [
  {
   "cell_type": "markdown",
   "metadata": {},
   "source": [
    "### Importing Necessaries and Getting the parameters for distributions from the Data"
   ]
  },
  {
   "cell_type": "code",
   "execution_count": 1,
   "metadata": {},
   "outputs": [
    {
     "name": "stdout",
     "output_type": "stream",
     "text": [
      "#--------- Gamma parameters for G1 and G2 ----------#\n",
      "\n",
      " G1: \n",
      " shape parameter:  9.13170441393343 and scale parameter is:  1.9456299161549493\n",
      "\n",
      " G2: \n",
      " shape parameter:  15.753604883780861 and scale parameter is:  1.2695506931617295\n"
     ]
    }
   ],
   "source": [
    "## importing the functions\n",
    "import pandas as pd\n",
    "import numpy as np\n",
    "import matplotlib.pyplot as plt\n",
    "import seaborn as ss; ss.set()\n",
    "\n",
    "from model.cell import CellNode\n",
    "from model.cell_utils import generateLineageWithTime, separate_pop, inG1_or_G2\n",
    "from model.parameter_estimate import GAnalytical\n",
    "\n",
    "## Reading the data\n",
    "df = pd.read_excel(r'./model/G1_G2_duration_control.xlsx')\n",
    "\n",
    "##----------------------- Preprocessing the data ------------------------##\n",
    "\n",
    "# dataFrmae into numpy array\n",
    "a = df.values\n",
    "G1 = a[:, 0]\n",
    "G2 = a[:, 1]\n",
    "\n",
    "# removing nan from the array\n",
    "G2 = G2[~np.isnan(G2)]\n",
    "\n",
    "# converting from unit of [frames] into [hours]\n",
    "# every frame is every 30 minutes, so dividing the numbers by 2 gives unit of [hours]\n",
    "G1 = G1/2\n",
    "G2 = G2/2\n",
    "\n",
    "\n",
    "## Calculating the parameters of Gamma distributions\n",
    "g1_a, g1_b = GAnalytical(G1)\n",
    "g2_a, g2_b = GAnalytical(G2)\n",
    "print('#--------- Gamma parameters for G1 and G2 ----------#')\n",
    "print('\\n G1: \\n shape parameter: ', g1_a, 'and scale parameter is: ', g1_b)\n",
    "print('\\n G2: \\n shape parameter: ', g2_a, 'and scale parameter is: ', g2_b)"
   ]
  },
  {
   "cell_type": "markdown",
   "metadata": {},
   "source": [
    "### Generating the cell population based on the parameters and visualizing the number of cells in G1, G2, and in total."
   ]
  },
  {
   "cell_type": "code",
   "execution_count": 16,
   "metadata": {},
   "outputs": [
    {
     "data": {
      "image/png": "[encoded data removed]",
      "text/plain": [
       "<Figure size 432x288 with 1 Axes>"
      ]
     },
     "metadata": {
      "needs_background": "light"
     },
     "output_type": "display_data"
    },
    {
     "data": {
      "image/png": "[encoded data removed]",
      "text/plain": [
       "<Figure size 432x288 with 1 Axes>"
      ]
     },
     "metadata": {
      "needs_background": "light"
     },
     "output_type": "display_data"
    }
   ],
   "source": [
    "initCells = 1\n",
    "experimentTime = 200\n",
    "locBern = 0.99\n",
    "\n",
    "# creating the lineage\n",
    "lin = generateLineageWithTime(initCells, experimentTime, locBern, g1_a, g1_b, g2_a, g2_b)\n",
    "\n",
    "# set the number of lineages as the number of intial cells we start with\n",
    "num_of_lins = initCells\n",
    "\n",
    "# separating the population in terms of their root parent\n",
    "pop = separate_pop(num_of_lins, lin)\n",
    "\n",
    "time = np.linspace(1, 100, 50)\n",
    "\n",
    "# Determining the number of cells in G1 or G2 phase for every time point\n",
    "num_g1, num_g2, num_cell = inG1_or_G2(lin, time)   \n",
    "\n",
    "# Plotting the # of cells in G1, G2, and totall # of cells\n",
    "plt.figure()\n",
    "plt.scatter(time, num_g1, label = 'g1')\n",
    "plt.scatter(time, num_g2, label = 'g2')\n",
    "plt.ylabel('# of cells in G1 and G2')\n",
    "plt.xlabel('time [hours]')\n",
    "plt.legend()\n",
    "plt.show()\n",
    "\n",
    "plt.figure()\n",
    "plt.scatter(time, num_cell)\n",
    "plt.ylabel('total # of cells')\n",
    "plt.xlabel('time [hours]')\n",
    "plt.show()\n"
   ]
  },
  {
   "cell_type": "code",
   "execution_count": null,
   "metadata": {},
   "outputs": [],
   "source": []
  }
 ],
 "metadata": {
  "kernelspec": {
   "display_name": "Python 3",
   "language": "python",
   "name": "python3"
  },
  "language_info": {
   "codemirror_mode": {
    "name": "ipython",
    "version": 3
   },
   "file_extension": ".py",
   "mimetype": "text/x-python",
   "name": "python",
   "nbconvert_exporter": "python",
   "pygments_lexer": "ipython3",
   "version": "3.7.3"
  }
 },
 "nbformat": 4,
 "nbformat_minor": 2
}
