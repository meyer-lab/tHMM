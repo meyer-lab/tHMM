{
 "cells": [
  {
   "cell_type": "markdown",
   "metadata": {},
   "source": [
    "### Read the Data into dataframe"
   ]
  },
  {
   "cell_type": "code",
   "execution_count": 1,
   "metadata": {
    "scrolled": true
   },
   "outputs": [],
   "source": [
    "import pandas as pd\n",
    "import numpy as np\n",
    "import matplotlib.pyplot as plt\n",
    "import scipy.stats as sp\n",
    "import seaborn as ss; ss.set()\n",
    "\n",
    "# The G1 and G2 durations for control cells\n",
    "df = pd.read_excel(r'C:\\Users\\farna\\Desktop\\emission\\data.xlsx')\n",
    "#print(df)"
   ]
  },
  {
   "cell_type": "markdown",
   "metadata": {},
   "source": [
    "### Pre-processing and Visualization"
   ]
  },
  {
   "cell_type": "code",
   "execution_count": 2,
   "metadata": {
    "scrolled": true
   },
   "outputs": [
    {
     "data": {
      "image/png": "[encoded data removed]",
      "text/plain": [
       "<Figure size 432x288 with 1 Axes>"
      ]
     },
     "metadata": {
      "needs_background": "light"
     },
     "output_type": "display_data"
    },
    {
     "data": {
      "image/png": "[encoded data removed]",
      "text/plain": [
       "<Figure size 432x288 with 1 Axes>"
      ]
     },
     "metadata": {
      "needs_background": "light"
     },
     "output_type": "display_data"
    }
   ],
   "source": [
    "# dataframe into numpy array\n",
    "a = df.values\n",
    "G1 = a[:,0]\n",
    "G2 = a[:,1]\n",
    "\n",
    "# removing nan from the array\n",
    "G2 = G2[~np.isnan(G2)]\n",
    "\n",
    "# converting from unit of [frames] into [hours]\n",
    "# every frame is every 30 minutes so we divide the numbers by 2 to have [hours]\n",
    "G1_ = G1/2\n",
    "G2_ = G2/2\n",
    "\n",
    "# we need to normalize the data to be able to compare them with standard distributions\n",
    "# Data points are now in interval [0, 1]\n",
    "#G1 = (G1 - min(G1)) / (max(G1) - min(G1))\n",
    "#G2 = (G2 - min(G2)) / (max(G2) - min(G2))\n",
    "\n",
    "\n",
    "plt.hist(G1, bins = 30, label = 'G1')\n",
    "plt.legend()\n",
    "plt.show()\n",
    "\n",
    "plt.hist(G2, bins = 30, label = 'G2')\n",
    "plt.legend()\n",
    "plt.show()"
   ]
  },
  {
   "cell_type": "markdown",
   "metadata": {},
   "source": [
    "### To see if G1 and G2 are statistically independent:\n",
    "\n",
    "### incomplete"
   ]
  },
  {
   "cell_type": "code",
   "execution_count": 3,
   "metadata": {},
   "outputs": [
    {
     "name": "stdout",
     "output_type": "stream",
     "text": [
      "[0.04124785]\n"
     ]
    },
    {
     "name": "stderr",
     "output_type": "stream",
     "text": [
      "C:\\Users\\farna\\Anaconda3\\lib\\site-packages\\sklearn\\utils\\validation.py:578: DataConversionWarning: A column-vector y was passed when a 1d array was expected. Please change the shape of y to (n_samples, ), for example using ravel().\n",
      "  y = column_or_1d(y, warn=True)\n"
     ]
    }
   ],
   "source": [
    "from sklearn.feature_selection import mutual_info_regression\n",
    "\n",
    "print(mutual_info_regression(G1.reshape(-1,1)[0:65],G2.reshape(-1,1)))"
   ]
  },
  {
   "cell_type": "code",
   "execution_count": 4,
   "metadata": {
    "scrolled": false
   },
   "outputs": [],
   "source": [
    "import math\n",
    "import operator\n",
    "import warnings\n",
    "warnings.filterwarnings('ignore')\n",
    "\n",
    "### A list of candidate distributions with [0, inf] range:\n",
    "\n",
    "distributions = ['betaprime', 'fatiguelife', 'chi', 'expon', 'f', 'foldnorm',\n",
    "                 'frechet_r', 'frechet_l', 'gamma', 'erlang', 'invgamma', 'gompertz',\n",
    "                'fisk', 'lognorm', 'loggamma', 'nakagami', 'pareto', 'rice', 'rayleigh',\n",
    "                'dweibull']\n",
    "\n",
    "#distributions = ['alpha', 'beta', 'dgamma', 'dweibull', 'expon', 'exponweib', \n",
    "#           'foldcauchy', 'foldnorm', 'gamma', 'gompertz', 'logistic', \n",
    "#           'lognorm', 'norm', 'rayleigh', 'anglit', 'arcsine', 'betaprime',\n",
    "#           'bradford', 'burr', 'cauchy', 'chi', 'chi2', 'cosine', 'dgamma', \n",
    "#           'fatiguelife', 'f', 'fisk', 'frechet_r', 'frechet_l', 'gausshyper',\n",
    "#          'genpareto', 'genexpon', 'pareto', 'invgamma', 'halflogistic', 'hypsecant',\n",
    "#          'laplace', 'loggamma', 'maxwell', 'nakagami', 'ncx2', 'nct', 'rdist',\n",
    "#           'reciprocal', 'rice', 't', 'triang', 'truncexpon', 'truncnorm',\n",
    "#          'ksone']\n",
    "\n",
    "#######------Check the list of distributions and fit to the data --------#######\n",
    "\n",
    "def check_dist(data, dist, verbose = False):\n",
    "    '''\n",
    "    The function to check the data against distributions.\n",
    "    \n",
    "    This function uses fit method in scipy package to find the maximum likelihood estimate\n",
    "    distribution that fits the data, p-value is then obtained from ks-test, and returns\n",
    "    the best distribution and its p-value.\n",
    "    \n",
    "    Args:\n",
    "    -----------\n",
    "    data (1D-array): the data we want to find the fit distribution for.\n",
    "    dist (list of str): a list of strings that are pre-defined distributions in scipy package\n",
    "    verbose (bool): if it is True, when we call the function it will print out every distribution \n",
    "    and its p-value that is evaluated.\n",
    "    \n",
    "    Returns:\n",
    "    -----------\n",
    "    best_dist (str): the best fit distribution found by ks-test\n",
    "    p_val[best_dist] (float): the p-value corresponding to the best fit distribution \n",
    "    \n",
    "    '''\n",
    "    p_val = {}\n",
    "    for i , val in enumerate(dist):\n",
    "        parameters = eval('sp.'+val+'.fit(data, fscale =1)')\n",
    "    \n",
    "        D, p = sp.kstest(data, val, args = parameters)\n",
    "    \n",
    "        if math.isnan(D): D = 0\n",
    "        if math.isnan(p): p = 0\n",
    "            \n",
    "\n",
    "        if verbose:\n",
    "            print(dist[i], ':   ', 'p-value = ', p)\n",
    "        p_val[val] = p\n",
    "    \n",
    "    best_dist = max(p_val, key = p_val.get)\n",
    "    \n",
    "    return(best_dist, p_val[best_dist])\n"
   ]
  },
  {
   "cell_type": "code",
   "execution_count": 5,
   "metadata": {},
   "outputs": [
    {
     "name": "stdout",
     "output_type": "stream",
     "text": [
      "betaprime :    p-value =  0.9496245807703753\n",
      "fatiguelife :    p-value =  0.0\n",
      "chi :    p-value =  0.0\n",
      "expon :    p-value =  0.0\n",
      "f :    p-value =  0.0\n",
      "foldnorm :    p-value =  0.0\n",
      "frechet_r :    p-value =  0.0\n",
      "frechet_l :    p-value =  0.0\n",
      "gamma :    p-value =  0.7730477413285115\n",
      "erlang :    p-value =  0.7730478543522439\n",
      "invgamma :    p-value =  0.0\n",
      "gompertz :    p-value =  0.0\n",
      "fisk :    p-value =  0.0\n",
      "lognorm :    p-value =  0.0\n",
      "loggamma :    p-value =  2.220446049250313e-16\n",
      "nakagami :    p-value =  0.0\n",
      "pareto :    p-value =  0.0\n",
      "rice :    p-value =  0.0\n",
      "rayleigh :    p-value =  0.0\n",
      "dweibull :    p-value =  8.881784197001252e-16\n",
      "\n",
      " -----------------------------------------\n",
      " best distribution to estimate G1 is: \n",
      " betaprime with p_value =  0.9496245807703753\n",
      "params g1 (12.41238053679903, 50.00946709025631, -1.216101493210673, 145.11320270207517)\n"
     ]
    },
    {
     "data": {
      "image/png": "[encoded data removed]",
      "text/plain": [
       "<Figure size 540x360 with 1 Axes>"
      ]
     },
     "metadata": {
      "needs_background": "light"
     },
     "output_type": "display_data"
    }
   ],
   "source": [
    "######-----------------------------G1-----------------------------########\n",
    "\n",
    "G1_dist_est , G1_pval_est = check_dist(G1, distributions, verbose = True)\n",
    "print('\\n -----------------------------------------\\n best distribution to estimate G1 is: \\n',\n",
    "      G1_dist_est, 'with p_value = ', G1_pval_est)\n",
    "\n",
    "\n",
    "# this is the best fit\n",
    "params_G1 = eval('sp.'+G1_dist_est+'.fit(G1)')\n",
    "print('params g1', params_G1)\n",
    "\n",
    "# want to plot the histogram of the best fit and data\n",
    "y = eval('sp.'+G1_dist_est+'.rvs(params_G1[0], params_G1[1], params_G1[2], params_G1[3], size = len(G1), random_state = 0)')\n",
    "#estimated_G2_dist = (x - min(x)) / (max(x) - min(x))\n",
    "\n",
    "\n",
    "# plot histogram\n",
    "plt.figure(dpi = 90)\n",
    "plt.hist(y, bins = 30, label = 'best fit')\n",
    "plt.hist(G1, bins = 30, alpha = 0.5, label = 'G1')\n",
    "plt.title('best fit is {}'.format(G1_dist_est))\n",
    "plt.legend()\n",
    "plt.show()\n"
   ]
  },
  {
   "cell_type": "code",
   "execution_count": 6,
   "metadata": {},
   "outputs": [
    {
     "name": "stdout",
     "output_type": "stream",
     "text": [
      "betaprime :    p-value =  0.06029922688363665\n",
      "fatiguelife :    p-value =  0.0\n",
      "chi :    p-value =  1.5481615989187958e-11\n",
      "expon :    p-value =  0.0\n",
      "f :    p-value =  0.0\n",
      "foldnorm :    p-value =  7.07144089950873e-08\n",
      "frechet_r :    p-value =  0.0\n",
      "frechet_l :    p-value =  0.0\n",
      "gamma :    p-value =  0.04329344124461376\n",
      "erlang :    p-value =  0.043293992146724136\n",
      "invgamma :    p-value =  0.0\n",
      "gompertz :    p-value =  0.0\n",
      "fisk :    p-value =  0.0\n",
      "lognorm :    p-value =  0.0\n",
      "loggamma :    p-value =  0.0001415951932970394\n",
      "nakagami :    p-value =  0.0\n",
      "pareto :    p-value =  0.0\n",
      "rice :    p-value =  0\n",
      "rayleigh :    p-value =  0.0\n",
      "dweibull :    p-value =  6.396234070105145e-05\n",
      "\n",
      " -----------------------------------------\n",
      " best distribution to estimate G2 is: \n",
      " betaprime with p_value =  0.06029922688363665\n",
      "params g2 (45.53151785098447, 1437.0990644341746, -22.97025918531139, 1985.8953005700723)\n"
     ]
    },
    {
     "data": {
      "image/png": "[encoded data removed]",
      "text/plain": [
       "<Figure size 540x360 with 1 Axes>"
      ]
     },
     "metadata": {
      "needs_background": "light"
     },
     "output_type": "display_data"
    }
   ],
   "source": [
    "######-----------------------------G2-----------------------------########\n",
    "\n",
    "G2_dist_est , G2_pval_est = check_dist(G2, distributions, verbose = True)\n",
    "print('\\n -----------------------------------------\\n best distribution to estimate G2 is: \\n',\n",
    "      G2_dist_est, 'with p_value = ', G2_pval_est)\n",
    "\n",
    "\n",
    "# this is the best fit\n",
    "params_G2 = eval('sp.'+G2_dist_est+'.fit(G2)')\n",
    "print('params g2', params_G2)\n",
    "\n",
    "# want to plot the histogram of the best fit and data\n",
    "x = eval('sp.'+G2_dist_est+'.rvs(params_G2[0], params_G2[1], params_G2[2], params_G2[3], size = len(G2), random_state = 0)')\n",
    "#estimated_G2_dist = (x - min(x)) / (max(x) - min(x))\n",
    "\n",
    "\n",
    "# plot histogram\n",
    "plt.figure(dpi = 90)\n",
    "plt.hist(x, bins = 15, label = 'best fit')\n",
    "plt.hist(G2, bins = 30, alpha = 0.5, label = 'G2')\n",
    "plt.title('best fit is {}'.format(G2_dist_est))\n",
    "plt.legend()\n",
    "plt.show()\n"
   ]
  }
 ],
 "metadata": {
  "kernelspec": {
   "display_name": "Python 3",
   "language": "python",
   "name": "python3"
  },
  "language_info": {
   "codemirror_mode": {
    "name": "ipython",
    "version": 3
   },
   "file_extension": ".py",
   "mimetype": "text/x-python",
   "name": "python",
   "nbconvert_exporter": "python",
   "pygments_lexer": "ipython3",
   "version": "3.5.6"
  }
 },
 "nbformat": 4,
 "nbformat_minor": 2
}
