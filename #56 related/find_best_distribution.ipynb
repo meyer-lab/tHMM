{
 "cells": [
  {
   "cell_type": "markdown",
   "metadata": {},
   "source": [
    "### Read the Data into dataframe"
   ]
  },
  {
   "cell_type": "code",
   "execution_count": 1,
   "metadata": {
    "scrolled": true
   },
   "outputs": [],
   "source": [
    "import pandas as pd\n",
    "import numpy as np\n",
    "import matplotlib.pyplot as plt\n",
    "import scipy.stats as sp\n",
    "import seaborn as ss; ss.set()\n",
    "\n",
    "# The G1 and G2 durations for control cells\n",
    "df = pd.read_excel(r'C:\\Users\\farna\\Desktop\\emission\\data.xlsx')\n",
    "#print(df)"
   ]
  },
  {
   "cell_type": "markdown",
   "metadata": {},
   "source": [
    "### Pre-processing and Visualization"
   ]
  },
  {
   "cell_type": "code",
   "execution_count": 2,
   "metadata": {
    "scrolled": true
   },
   "outputs": [
    {
     "data": {
      "image/png": "[encoded data removed]",
      "text/plain": [
       "<Figure size 432x288 with 1 Axes>"
      ]
     },
     "metadata": {
      "needs_background": "light"
     },
     "output_type": "display_data"
    },
    {
     "data": {
      "image/png": "[encoded data removed]",
      "text/plain": [
       "<Figure size 432x288 with 1 Axes>"
      ]
     },
     "metadata": {
      "needs_background": "light"
     },
     "output_type": "display_data"
    }
   ],
   "source": [
    "# dataframe into numpy array\n",
    "a = df.values\n",
    "G1 = a[:,0]\n",
    "G2 = a[:,1]\n",
    "\n",
    "# removing nan from the array\n",
    "G2 = G2[~np.isnan(G2)]\n",
    "\n",
    "# converting from unit of [frames] into [hours]\n",
    "# every frame is every 30 minutes so we divide the numbers by 2 to have [hours]\n",
    "G1_ = G1/2\n",
    "G2_ = G2/2\n",
    "\n",
    "# we need to normalize the data to be able to compare them with standard distributions\n",
    "# Data points are now in interval [0, 1]\n",
    "G1 = (G1 - min(G1)) / (max(G1) - min(G1))\n",
    "G2 = (G2 - min(G2)) / (max(G2) - min(G2))\n",
    "\n",
    "\n",
    "plt.hist(G1, bins = 30, label = 'G1')\n",
    "plt.legend()\n",
    "plt.show()\n",
    "\n",
    "plt.hist(G2, bins = 30, label = 'G2')\n",
    "plt.legend()\n",
    "plt.show()"
   ]
  },
  {
   "cell_type": "markdown",
   "metadata": {},
   "source": [
    "### To see if G1 and G2 are statistically independent:\n",
    "\n",
    "### incomplete"
   ]
  },
  {
   "cell_type": "code",
   "execution_count": 8,
   "metadata": {},
   "outputs": [
    {
     "name": "stdout",
     "output_type": "stream",
     "text": [
      "[0.02209054]\n"
     ]
    }
   ],
   "source": [
    "from sklearn.feature_selection import mutual_info_regression\n",
    "\n",
    "print(mutual_info_regression(G1.reshape(-1,1)[0:65],G2.reshape(-1,1)))"
   ]
  },
  {
   "cell_type": "code",
   "execution_count": 4,
   "metadata": {
    "scrolled": false
   },
   "outputs": [],
   "source": [
    "import math\n",
    "import operator\n",
    "import warnings\n",
    "warnings.filterwarnings('ignore')\n",
    "\n",
    "### A list of candidate distributions with [0, inf] range:\n",
    "\n",
    "distributions = ['betaprime', 'fatiguelife', 'chi', 'expon', 'f', 'foldnorm',\n",
    "                 'frechet_r', 'frechet_l', 'gamma', 'erlang', 'invgamma', 'gompertz',\n",
    "                'fisk', 'lognorm', 'loggamma', 'nakagami', 'pareto', 'rice', 'rayleigh',\n",
    "                'dweibull']\n",
    "\n",
    "#distributions = ['alpha', 'beta', 'dgamma', 'dweibull', 'expon', 'exponweib', \n",
    "#           'foldcauchy', 'foldnorm', 'gamma', 'gompertz', 'logistic', \n",
    "#           'lognorm', 'norm', 'rayleigh', 'anglit', 'arcsine', 'betaprime',\n",
    "#           'bradford', 'burr', 'cauchy', 'chi', 'chi2', 'cosine', 'dgamma', \n",
    "#           'fatiguelife', 'f', 'fisk', 'frechet_r', 'frechet_l', 'gausshyper',\n",
    "#          'genpareto', 'genexpon', 'pareto', 'invgamma', 'halflogistic', 'hypsecant',\n",
    "#          'laplace', 'loggamma', 'maxwell', 'nakagami', 'ncx2', 'nct', 'rdist',\n",
    "#           'reciprocal', 'rice', 't', 'triang', 'truncexpon', 'truncnorm',\n",
    "#          'ksone']\n",
    "\n",
    "#######------Check the list of distributions and fit to the data --------#######\n",
    "\n",
    "def check_dist(data, dist, verbose = False):\n",
    "    '''\n",
    "    The function to check the data against distributions.\n",
    "    \n",
    "    This function uses fit method in scipy package to find the maximum likelihood estimate\n",
    "    distribution that fits the data, p-value is then obtained from ks-test, and returns\n",
    "    the best distribution and its p-value.\n",
    "    \n",
    "    Args:\n",
    "    -----------\n",
    "    data (1D-array): the data we want to find the fit distribution for.\n",
    "    dist (list of str): a list of strings that are pre-defined distributions in scipy package\n",
    "    verbose (bool): if it is True, when we call the function it will print out every distribution \n",
    "    and its p-value that is evaluated.\n",
    "    \n",
    "    Returns:\n",
    "    -----------\n",
    "    best_dist (str): the best fit distribution found by ks-test\n",
    "    p_val[best_dist] (float): the p-value corresponding to the best fit distribution \n",
    "    \n",
    "    '''\n",
    "    p_val = {}\n",
    "    for i , val in enumerate(dist):\n",
    "        parameters = eval('sp.'+val+'.fit(data, fscale = 1)')\n",
    "    \n",
    "        D, p = sp.kstest(data, val, args = parameters)\n",
    "    \n",
    "        if math.isnan(D): D = 0\n",
    "        if math.isnan(p): p = 0\n",
    "            \n",
    "\n",
    "        if verbose:\n",
    "            print(dist[i], ':   ', 'p-value = ', p)\n",
    "        p_val[val] = p\n",
    "    \n",
    "    best_dist = max(p_val, key = p_val.get)\n",
    "    \n",
    "    return(best_dist, p_val[best_dist])\n"
   ]
  },
  {
   "cell_type": "code",
   "execution_count": 5,
   "metadata": {},
   "outputs": [
    {
     "name": "stdout",
     "output_type": "stream",
     "text": [
      "betaprime :    p-value =  0.9372183053740019\n",
      "fatiguelife :    p-value =  0.985561247333698\n",
      "chi :    p-value =  2.1078272460783865e-10\n",
      "expon :    p-value =  0.0\n",
      "f :    p-value =  0.0\n",
      "foldnorm :    p-value =  0.0\n",
      "frechet_r :    p-value =  0.0\n",
      "frechet_l :    p-value =  0.9187473360463104\n",
      "gamma :    p-value =  1.212008271522791e-10\n",
      "erlang :    p-value =  2.4524160480154933e-11\n",
      "invgamma :    p-value =  0.012496235607655448\n",
      "gompertz :    p-value =  0.0009008094819491497\n",
      "fisk :    p-value =  0.0\n",
      "lognorm :    p-value =  0.9862185509586847\n",
      "loggamma :    p-value =  0.2739811500882232\n",
      "nakagami :    p-value =  0.0\n",
      "pareto :    p-value =  1.6214011711035425e-07\n",
      "rice :    p-value =  6.661338147750939e-16\n",
      "rayleigh :    p-value =  6.661338147750939e-16\n",
      "dweibull :    p-value =  1.3446519453452765e-09\n",
      "\n",
      " ------------------------------- \n",
      " best distribution to estimate G1 is: \n",
      " lognorm with p_value =  0.9862185509586847\n"
     ]
    },
    {
     "data": {
      "image/png": "[encoded data removed]",
      "text/plain": [
       "<Figure size 540x360 with 1 Axes>"
      ]
     },
     "metadata": {
      "needs_background": "light"
     },
     "output_type": "display_data"
    }
   ],
   "source": [
    "    \n",
    "#########--------------------------G1------------------------------########\n",
    "\n",
    "\n",
    "G1_dist_est , G1_pval_est = check_dist(G1, distributions, verbose = True)\n",
    "print('\\n ------------------------------- \\n best distribution to estimate G1 is: \\n', G1_dist_est, 'with p_value = ', G1_pval_est)\n",
    "\n",
    "\n",
    "# this is the best fit\n",
    "params_G1 = eval('sp.'+G1_dist_est+'.fit(G1, fscale = 1)')\n",
    "\n",
    "\n",
    "# want to plot the histogram of the best fit and data\n",
    "x = eval('sp.'+G1_dist_est+'.rvs(params_G1[0], params_G1[1], params_G1[2], size = len(G1), random_state = 0)')\n",
    "estimated_G1_dist = (x - min(x)) / (max(x) - min(x))\n",
    "\n",
    "\n",
    "# plot histogram\n",
    "plt.figure(dpi = 90)\n",
    "plt.hist(estimated_G1_dist, bins = 30, label = 'best fit')\n",
    "plt.hist(G1, bins = 30, alpha = 0.5, label = 'G1')\n",
    "plt.title('best fit is {}'.format(G1_dist_est))\n",
    "plt.legend()\n",
    "plt.show()\n",
    "\n"
   ]
  },
  {
   "cell_type": "code",
   "execution_count": 6,
   "metadata": {},
   "outputs": [
    {
     "name": "stdout",
     "output_type": "stream",
     "text": [
      "betaprime :    p-value =  0.05630913601930243\n",
      "fatiguelife :    p-value =  0.049958040171395046\n",
      "chi :    p-value =  7.327471962526033e-15\n",
      "expon :    p-value =  0.0\n",
      "f :    p-value =  0.0\n",
      "foldnorm :    p-value =  0.0\n",
      "frechet_r :    p-value =  0.0006334446164824037\n",
      "frechet_l :    p-value =  0.0163256000341796\n",
      "gamma :    p-value =  4.814504350747484e-10\n",
      "erlang :    p-value =  0.0\n",
      "invgamma :    p-value =  1.318257227822528e-07\n",
      "gompertz :    p-value =  1.3065104553788842e-12\n",
      "fisk :    p-value =  0.30478364129900415\n",
      "lognorm :    p-value =  0.05179701194317299\n",
      "loggamma :    p-value =  0.007423766476533311\n",
      "nakagami :    p-value =  0.022542808918845525\n",
      "pareto :    p-value =  1.1102230246251565e-15\n",
      "rice :    p-value =  1.5987211554602254e-14\n",
      "rayleigh :    p-value =  1.5987211554602254e-14\n",
      "dweibull :    p-value =  9.290153517360622e-06\n",
      "\n",
      " -----------------------------------------\n",
      " best distribution to estimate G2 is: \n",
      " fisk with p_value =  0.30478364129900415\n"
     ]
    },
    {
     "data": {
      "image/png": "[encoded data removed]",
      "text/plain": [
       "<Figure size 540x360 with 1 Axes>"
      ]
     },
     "metadata": {
      "needs_background": "light"
     },
     "output_type": "display_data"
    }
   ],
   "source": [
    "######-----------------------------G2-----------------------------########\n",
    "\n",
    "G2_dist_est , G2_pval_est = check_dist(G2, distributions, verbose = True)\n",
    "print('\\n -----------------------------------------\\n best distribution to estimate G2 is: \\n', G2_dist_est, 'with p_value = ', G2_pval_est)\n",
    "\n",
    "\n",
    "# this is the best fit\n",
    "params_G2 = eval('sp.'+G2_dist_est+'.fit(G2, fscale = 1)')\n",
    "\n",
    "\n",
    "# want to plot the histogram of the best fit and data\n",
    "x = eval('sp.'+G2_dist_est+'.rvs(params_G2[0], params_G2[1], params_G2[2], size = len(G2), random_state = 0)')\n",
    "estimated_G2_dist = (x - min(x)) / (max(x) - min(x))\n",
    "\n",
    "\n",
    "# plot histogram\n",
    "plt.figure(dpi = 90)\n",
    "plt.hist(estimated_G2_dist, bins = 30, label = 'best fit')\n",
    "plt.hist(G2, bins = 30, alpha = 0.5, label = 'G2')\n",
    "plt.title('best fit is {}'.format(G2_dist_est))\n",
    "plt.legend()\n",
    "plt.show()\n"
   ]
  }
 ],
 "metadata": {
  "kernelspec": {
   "display_name": "Python 3",
   "language": "python",
   "name": "python3"
  },
  "language_info": {
   "codemirror_mode": {
    "name": "ipython",
    "version": 3
   },
   "file_extension": ".py",
   "mimetype": "text/x-python",
   "name": "python",
   "nbconvert_exporter": "python",
   "pygments_lexer": "ipython3",
   "version": "3.5.6"
  }
 },
 "nbformat": 4,
 "nbformat_minor": 2
}
