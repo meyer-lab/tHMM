{
 "cells": [
  {
   "cell_type": "markdown",
   "metadata": {},
   "source": [
    "### The class to make the two doughter cells"
   ]
  },
  {
   "cell_type": "code",
   "execution_count": null,
   "metadata": {},
   "outputs": [],
   "source": [
    "class cell:\n",
    "    def __init__(self, state, left, right, parent):\n",
    "\n",
    "        self.state = state\n",
    "        self.left = left\n",
    "        self.right = right\n",
    "        self.parent = parent\n",
    "#         self.observation = observation\n",
    "        \n",
    "    def divide(self, state, T):\n",
    "\n",
    "        state = self.state\n",
    "        left_state, right_state = double(state, T)\n",
    "        self.left = cell(state = left_state, left = None, right = None, parent = self)\n",
    "        self.right = cell(state = right_state, left = None, right = None, parent = self)\n",
    "        \n",
    "        return [self.left, self.right]\n"
   ]
  },
  {
   "cell_type": "markdown",
   "metadata": {},
   "source": [
    "### A function that takes in Transition mat and the current state of a cell and returns the states of the two daughters"
   ]
  },
  {
   "cell_type": "code",
   "execution_count": 171,
   "metadata": {},
   "outputs": [],
   "source": [
    "import scipy.stats as sp\n",
    "import numpy as np\n",
    "\n",
    "# second function\n",
    "def double(state, T):\n",
    "\n",
    "    num_states = len(T[0])\n",
    "#     assertIn(state, range(num_state)), \"the state you provided is not in the range\"\n",
    "\n",
    "    state_decider = sp.multinomial.rvs(2, T[state])\n",
    "    s = state_decider.tolist()\n",
    "\n",
    "    if 2 in s:\n",
    "        same_index = s.index(2)\n",
    "        left_state = same_index\n",
    "        right_state = same_index\n",
    "        new_states = [left_state, right_state]\n",
    "\n",
    "    elif 1 in s:\n",
    "        indexes = [i for i, x in enumerate(s) if x == 1]\n",
    "        left_state = indexes[0]\n",
    "        right_state = indexes[1]\n",
    "        new_states = [left_state, right_state]\n",
    "\n",
    "    return new_states"
   ]
  },
  {
   "cell_type": "markdown",
   "metadata": {},
   "source": [
    "### The main function that the user deals with, given Transition mat, Initial prob. and the required number of  cells to create the lineage"
   ]
  },
  {
   "cell_type": "code",
   "execution_count": 180,
   "metadata": {},
   "outputs": [],
   "source": [
    "# Main function\n",
    "def generate(T, Pi, num_cells):\n",
    "    state_dice = sp.multinomial.rvs(1, Pi)\n",
    "    s = state_dice.tolist()\n",
    "    first_cell_state = s.index(1) \n",
    "    first_cell = cell(state = first_cell_state, left = None, right = None, parent = None)\n",
    "    X = [first_cell]\n",
    "    \n",
    "    for cel in X:\n",
    "        if cel.left is None:\n",
    "            state = cel.state\n",
    "            cel_l, cel_r = cel.divide(state, T)\n",
    "            X.append(cel_l)\n",
    "            X.append(cel_r)\n",
    "\n",
    "        if len(X) >= num_cells:\n",
    "            break\n",
    "    return X"
   ]
  },
  {
   "cell_type": "markdown",
   "metadata": {},
   "source": [
    "### Example"
   ]
  },
  {
   "cell_type": "code",
   "execution_count": 181,
   "metadata": {},
   "outputs": [
    {
     "data": {
      "text/plain": [
       "[<__main__.cell at 0x7f1420b50eb8>,\n",
       " <__main__.cell at 0x7f1420b50f98>,\n",
       " <__main__.cell at 0x7f1420b50fd0>,\n",
       " <__main__.cell at 0x7f1420b50e10>,\n",
       " <__main__.cell at 0x7f1420b506a0>,\n",
       " <__main__.cell at 0x7f1420b50dd8>,\n",
       " <__main__.cell at 0x7f1420b506d8>,\n",
       " <__main__.cell at 0x7f1420b50e48>,\n",
       " <__main__.cell at 0x7f1420b50d68>,\n",
       " <__main__.cell at 0x7f1420b50400>,\n",
       " <__main__.cell at 0x7f1420b50438>,\n",
       " <__main__.cell at 0x7f1420b504a8>,\n",
       " <__main__.cell at 0x7f1420b504e0>,\n",
       " <__main__.cell at 0x7f1420b54048>,\n",
       " <__main__.cell at 0x7f1420b54080>,\n",
       " <__main__.cell at 0x7f1420b540b8>,\n",
       " <__main__.cell at 0x7f1420b540f0>,\n",
       " <__main__.cell at 0x7f1420b54128>,\n",
       " <__main__.cell at 0x7f1420b54160>,\n",
       " <__main__.cell at 0x7f1420b54198>,\n",
       " <__main__.cell at 0x7f1420b541d0>]"
      ]
     },
     "execution_count": 181,
     "metadata": {},
     "output_type": "execute_result"
    }
   ],
   "source": [
    "T = [[0.85, 0.15], [0.1, 0.9]]\n",
    "Pi = [0.8, 0.2]\n",
    "num_cells = 20\n",
    "\n",
    "generate(T, Pi, num_cells)"
   ]
  },
  {
   "cell_type": "code",
   "execution_count": 166,
   "metadata": {},
   "outputs": [
    {
     "name": "stdout",
     "output_type": "stream",
     "text": [
      "[(1, 30.85264716467128), (1, 30.266432696362767), (1, 31.382828863770143), (0, 30.76715787347553), (1, 30.306667197736022), (1, 33.75977946685876), (1, 30.989851745805225), (1, 30.221629459731467), (1, 30.989807779882742), (1, 30.47985380681872), (1, 31.357012514854723), (1, 30.886057303423815), (1, 34.80170901411053), (1, 30.959565474132628), (1, 30.019502335511262), (1, 33.86039218140177), (0, 30.531568515752568), (1, 30.11432036334927), (1, 30.40936908052103), (1, 30.09263197607671)]\n",
      "[(1, 20.838608051213726), (0, 20.022584402811727), (1, 20.595270473692224), (1, 21.381575239208484), (1, 24.04939244309556), (0, 20.94132581757122), (1, 21.057045113305808), (1, 20.162584519026357), (1, 21.7174201608087), (1, 20.35503762550671), (1, 20.025403855615863), (1, 21.274487127478928), (1, 21.71299645956111), (0, 20.860331852668033), (0, 20.333656292532563), (0, 21.456008930938484), (1, 20.50070249620866), (1, 22.27311001299753), (0, 20.03971159391166), (1, 21.418294164386534)]\n"
     ]
    }
   ],
   "source": [
    "# TODO\n",
    "import scipy.stats as sp\n",
    "import matplotlib.pyplot as plt\n",
    "\n",
    "def emiss(n_samples, bern, exp):\n",
    "\n",
    "    fom = sp.bernoulli.rvs(bern, size = n_samples)\n",
    "    tau = sp.expon.rvs(exp, size = n_samples)\n",
    "\n",
    "    return list(zip(fom, tau))\n",
    "\n",
    "\n",
    "a = emiss(n_samples = 20, bern = 0.95, exp = 30.0)\n",
    "print(a)\n",
    "\n",
    "b = emiss(n_samples = 20, bern = 0.70, exp = 20.0)\n",
    "print(b)\n",
    "\n"
   ]
  }
 ],
 "metadata": {
  "kernelspec": {
   "display_name": "Python 3",
   "language": "python",
   "name": "python3"
  },
  "language_info": {
   "codemirror_mode": {
    "name": "ipython",
    "version": 3
   },
   "file_extension": ".py",
   "mimetype": "text/x-python",
   "name": "python",
   "nbconvert_exporter": "python",
   "pygments_lexer": "ipython3",
   "version": "3.7.3"
  }
 },
 "nbformat": 4,
 "nbformat_minor": 4
}
