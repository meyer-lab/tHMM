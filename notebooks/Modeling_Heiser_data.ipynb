{
 "cells": [
  {
   "cell_type": "code",
   "execution_count": 1,
   "metadata": {},
   "outputs": [],
   "source": [
    "from lineage.LineageInputOutput import import_Heiser\n",
    "from lineage.LineageTree import LineageTree\n",
    "from lineage.plotTree import plotLineage\n",
    "from lineage.states.StateDistributionGaPhs import StateDistribution\n",
    "from lineage.tHMM import tHMM"
   ]
  },
  {
   "cell_type": "code",
   "execution_count": 2,
   "metadata": {},
   "outputs": [],
   "source": [
    "desired_num_states = 2\n",
    "E = [StateDistribution() for i in range(desired_num_states)]\n",
    "population = [LineageTree(list_of_cells, E) for list_of_cells in import_Heiser()]"
   ]
  },
  {
   "cell_type": "code",
   "execution_count": 3,
   "metadata": {},
   "outputs": [
    {
     "name": "stdout",
     "output_type": "stream",
     "text": [
      "[\n",
      " Generation: 1, State: None, Observation: [1, 1, nan, 5.0, nan, 0]\n",
      " Generation: 2, State: None, Observation: [1, 0, 112.0, 0, 1, 1]\n",
      " Generation: 2, State: None, Observation: [0, nan, 140.0, nan, 1, nan], \n",
      " Generation: 1, State: None, Observation: [0, nan, 80, nan, 0, nan], \n",
      " Generation: 1, State: None, Observation: [0, nan, 145, nan, 0, nan], \n",
      " Generation: 1, State: None, Observation: [1, 1, nan, 24.0, nan, 0]\n",
      " Generation: 2, State: None, Observation: [1, 1, 82.0, 39.0, 1, 1]\n",
      " Generation: 2, State: None, Observation: [1, 1, 97.0, 24.0, 1, 1], \n",
      " Generation: 1, State: None, Observation: [1, 0, nan, nan, nan, 0], \n",
      " Generation: 1, State: None, Observation: [1, 1, nan, 37.0, nan, 0]\n",
      " Generation: 2, State: None, Observation: [1, 0, 96.0, 0, 1, 1]\n",
      " Generation: 2, State: None, Observation: [0, nan, 108.0, nan, 1, nan], \n",
      " Generation: 1, State: None, Observation: [1, 1, nan, 3.0, nan, 0]\n",
      " Generation: 2, State: None, Observation: [1, 1, 46.0, 85.0, 1, 1]\n",
      " Generation: 2, State: None, Observation: [1, 1, 137.0, 5.0, 1, 1]\n",
      " Generation: 3, State: None, Observation: [0, nan, 11.0, nan, 1, nan]\n",
      " Generation: 3, State: None, Observation: [0, nan, 11.0, nan, 1, nan], \n",
      " Generation: 1, State: None, Observation: [1, 1, nan, 24.0, nan, 0]\n",
      " Generation: 2, State: None, Observation: [0, nan, 121.0, nan, 1, nan]\n",
      " Generation: 2, State: None, Observation: [0, nan, 121.0, nan, 1, nan], \n",
      " Generation: 1, State: None, Observation: [1, 1, 126, 19.0, 0, 1], \n",
      " Generation: 1, State: None, Observation: [1, 1, nan, 6.0, nan, 0]\n",
      " Generation: 2, State: None, Observation: [0, nan, 139.0, nan, 1, nan]\n",
      " Generation: 2, State: None, Observation: [0, nan, 139.0, nan, 1, nan], \n",
      " Generation: 1, State: None, Observation: [1, 1, nan, 18.0, nan, 0]\n",
      " Generation: 2, State: None, Observation: [1, 1, 75.0, 43.0, 1, 1]\n",
      " Generation: 2, State: None, Observation: [0, nan, 127.0, nan, 1, nan]\n",
      " Generation: 3, State: None, Observation: [0, nan, 9.0, nan, 1, nan]\n",
      " Generation: 3, State: None, Observation: [0, nan, 9.0, nan, 1, nan], \n",
      " Generation: 1, State: None, Observation: [1, 1, 25, 49.0, 0, 1]\n",
      " Generation: 2, State: None, Observation: [1, 0, 6.0, 0, 1, 1]\n",
      " Generation: 2, State: None, Observation: [1, 0, 6.0, 0, 1, 1], \n",
      " Generation: 1, State: None, Observation: [1, 1, 72, 73.0, 0, 1], \n",
      " Generation: 1, State: None, Observation: [1, 0, 14, 116, 0, 1], \n",
      " Generation: 1, State: None, Observation: [1, 0, 14, 0, 0, 1], \n",
      " Generation: 1, State: None, Observation: [1, 1, nan, 36.0, nan, 0]\n",
      " Generation: 2, State: None, Observation: [1, 0, 8.0, 0, 1, 1]\n",
      " Generation: 2, State: None, Observation: [1, 0, 8.0, 0, 1, 1], \n",
      " Generation: 1, State: None, Observation: [1, 1, nan, 5.0, nan, 0]\n",
      " Generation: 2, State: None, Observation: [0, nan, 140.0, nan, 1, nan]\n",
      " Generation: 2, State: None, Observation: [0, nan, 140.0, nan, 1, nan], \n",
      " Generation: 1, State: None, Observation: [1, 1, nan, 38.0, nan, 0]\n",
      " Generation: 2, State: None, Observation: [1, 0, 7.0, 0, 1, 1]\n",
      " Generation: 2, State: None, Observation: [1, 0, 7.0, 0, 1, 1], \n",
      " Generation: 1, State: None, Observation: [1, 1, nan, 24.0, nan, 0]\n",
      " Generation: 2, State: None, Observation: [1, 0, 109.0, 0, 1, 1]\n",
      " Generation: 2, State: None, Observation: [1, 0, 93.0, 0, 1, 1], \n",
      " Generation: 1, State: None, Observation: [1, 1, 65, 65.0, 0, 1]\n",
      " Generation: 2, State: None, Observation: [0, nan, 15.0, nan, 1, nan]\n",
      " Generation: 2, State: None, Observation: [0, nan, 15.0, nan, 1, nan], \n",
      " Generation: 1, State: None, Observation: [1, 1, nan, 28.0, nan, 0]\n",
      " Generation: 2, State: None, Observation: [1, 0, 94.0, 0, 1, 1]\n",
      " Generation: 2, State: None, Observation: [0, nan, 117.0, nan, 1, nan], \n",
      " Generation: 1, State: None, Observation: [0, nan, 145, nan, 0, nan], \n",
      " Generation: 1, State: None, Observation: [1, 0, nan, nan, nan, 0], \n",
      " Generation: 1, State: None, Observation: [1, 1, 23, 51.0, 0, 1]\n",
      " Generation: 2, State: None, Observation: [0, nan, 71.0, nan, 1, nan]\n",
      " Generation: 2, State: None, Observation: [0, nan, 71.0, nan, 1, nan], \n",
      " Generation: 1, State: None, Observation: [1, 0, 42, 74, 0, 1]]\n"
     ]
    }
   ],
   "source": [
    "print(population)"
   ]
  },
  {
   "cell_type": "code",
   "execution_count": 4,
   "metadata": {},
   "outputs": [],
   "source": [
    "# plotting code doesn't handle nans yet\n",
    "# plotLineage(population[3], \"lineage/data/heiser_data/lineage_plots/lineage_plot.svg\")"
   ]
  },
  {
   "cell_type": "code",
   "execution_count": 5,
   "metadata": {},
   "outputs": [],
   "source": [
    "tHMM_solver = tHMM(X=population, num_states=desired_num_states)"
   ]
  },
  {
   "cell_type": "code",
   "execution_count": 6,
   "metadata": {},
   "outputs": [
    {
     "name": "stdout",
     "output_type": "stream",
     "text": [
      "[array([[6.75000000e-01, 6.75000000e-01],\n",
      "       [0.00000000e+00, 0.00000000e+00],\n",
      "       [2.58530099e-15, 2.58530099e-15]]), array([[1.66939681e-07, 1.66939681e-07]]), array([[2.05794029e-15, 2.05794029e-15]]), array([[6.74948478e-01, 6.74948478e-01],\n",
      "       [2.61106514e-10, 2.61106514e-10],\n",
      "       [1.06594561e-13, 1.06594561e-13]]), array([[nan, nan]]), array([[6.71906260e-01, 6.71906260e-01],\n",
      "       [0.00000000e+00, 0.00000000e+00],\n",
      "       [2.33754459e-11, 2.33754459e-11]]), array([[6.75000000e-01, 6.75000000e-01],\n",
      "       [1.55249596e-05, 1.55249596e-05],\n",
      "       [4.52860793e-26, 4.52860793e-26],\n",
      "       [2.87582021e-03, 2.87582021e-03],\n",
      "       [2.87582021e-03, 2.87582021e-03]]), array([[6.74948478e-01, 6.74948478e-01],\n",
      "       [6.06717943e-13, 6.06717943e-13],\n",
      "       [6.06717943e-13, 6.06717943e-13]]), array([[1.2482178e-17, 1.2482178e-17]]), array([[6.75000000e-01, 6.75000000e-01],\n",
      "       [3.45618139e-15, 3.45618139e-15],\n",
      "       [3.45618139e-15, 3.45618139e-15]]), array([[6.74997704e-01, 6.74997704e-01],\n",
      "       [2.87989292e-09, 2.87989292e-09],\n",
      "       [1.09776146e-13, 1.09776146e-13],\n",
      "       [1.68031356e-03, 1.68031356e-03],\n",
      "       [1.68031356e-03, 1.68031356e-03]]), array([[0.00101173, 0.00101173],\n",
      "       [0.        , 0.        ],\n",
      "       [0.        , 0.        ]]), array([[1.58113641e-07, 1.58113641e-07]]), array([[0.00103132, 0.00103132]]), array([[0., 0.]]), array([[0.67255077, 0.67255077],\n",
      "       [0.        , 0.        ],\n",
      "       [0.        , 0.        ]]), array([[6.75000000e-01, 6.75000000e-01],\n",
      "       [2.58530099e-15, 2.58530099e-15],\n",
      "       [2.58530099e-15, 2.58530099e-15]]), array([[0.6711311, 0.6711311],\n",
      "       [0.       , 0.       ],\n",
      "       [0.       , 0.       ]]), array([[0.67494848, 0.67494848],\n",
      "       [0.        , 0.        ],\n",
      "       [0.        , 0.        ]]), array([[7.64507295e-07, 7.64507295e-07],\n",
      "       [4.87409360e-03, 4.87409360e-03],\n",
      "       [4.87409360e-03, 4.87409360e-03]]), array([[6.74757216e-01, 6.74757216e-01],\n",
      "       [0.00000000e+00, 0.00000000e+00],\n",
      "       [1.88126119e-12, 1.88126119e-12]]), array([[2.05794029e-15, 2.05794029e-15]]), array([[nan, nan]]), array([[1.58112375e-03, 1.58112375e-03],\n",
      "       [4.28613726e-07, 4.28613726e-07],\n",
      "       [4.28613726e-07, 4.28613726e-07]]), array([[5.76288306e-05, 5.76288306e-05]])]\n"
     ]
    }
   ],
   "source": [
    "print(tHMM_solver.EL)"
   ]
  },
  {
   "cell_type": "code",
   "execution_count": 7,
   "metadata": {},
   "outputs": [
    {
     "name": "stderr",
     "output_type": "stream",
     "text": [
      "/home/shakthi/Projects/lineage-growth/tHMM/lineage/states/stateCommon.py:46: RuntimeWarning: divide by zero encountered in log\n",
      "  s = np.log(gammaCor) - sum(gammas * np.log(gamma_obs)) / sum(gammas)\n",
      "/home/shakthi/Projects/lineage-growth/tHMM/lineage/states/stateCommon.py:46: RuntimeWarning: invalid value encountered in multiply\n",
      "  s = np.log(gammaCor) - sum(gammas * np.log(gamma_obs)) / sum(gammas)\n",
      "/home/shakthi/Projects/lineage-growth/tHMM/lineage/states/stateCommon.py:61: RuntimeWarning: invalid value encountered in multiply\n",
      "  uncens = uncens_gammas * sp.gamma.logpdf(uncens_obs, a=x[0], scale=x[1])\n"
     ]
    },
    {
     "ename": "AssertionError",
     "evalue": "[nan] and nan and [0.54856161 0.45143839] and [nan nan]",
     "output_type": "error",
     "traceback": [
      "\u001b[0;31m---------------------------------------------------------------------------\u001b[0m",
      "\u001b[0;31mAssertionError\u001b[0m                            Traceback (most recent call last)",
      "\u001b[0;32m<ipython-input-7-34a86d5b3c77>\u001b[0m in \u001b[0;36m<module>\u001b[0;34m\u001b[0m\n\u001b[0;32m----> 1\u001b[0;31m \u001b[0mtHMM_solver\u001b[0m\u001b[0;34m.\u001b[0m\u001b[0mfit\u001b[0m\u001b[0;34m(\u001b[0m\u001b[0;34m)\u001b[0m\u001b[0;34m\u001b[0m\u001b[0;34m\u001b[0m\u001b[0m\n\u001b[0m",
      "\u001b[0;32m~/Projects/lineage-growth/tHMM/lineage/tHMM.py\u001b[0m in \u001b[0;36mfit\u001b[0;34m(self, tolerance, max_iter)\u001b[0m\n\u001b[1;32m     71\u001b[0m \u001b[0;34m\u001b[0m\u001b[0m\n\u001b[1;32m     72\u001b[0m         \u001b[0;31m# Step 1: first E step\u001b[0m\u001b[0;34m\u001b[0m\u001b[0;34m\u001b[0m\u001b[0;34m\u001b[0m\u001b[0m\n\u001b[0;32m---> 73\u001b[0;31m         \u001b[0mMSD\u001b[0m\u001b[0;34m,\u001b[0m \u001b[0mNF\u001b[0m\u001b[0;34m,\u001b[0m \u001b[0mbetas\u001b[0m\u001b[0;34m,\u001b[0m \u001b[0mgammas\u001b[0m \u001b[0;34m=\u001b[0m \u001b[0mdo_E_step\u001b[0m\u001b[0;34m(\u001b[0m\u001b[0mself\u001b[0m\u001b[0;34m)\u001b[0m\u001b[0;34m\u001b[0m\u001b[0;34m\u001b[0m\u001b[0m\n\u001b[0m\u001b[1;32m     74\u001b[0m         \u001b[0mnew_LL\u001b[0m \u001b[0;34m=\u001b[0m \u001b[0mcalculate_log_likelihood\u001b[0m\u001b[0;34m(\u001b[0m\u001b[0mNF\u001b[0m\u001b[0;34m)\u001b[0m\u001b[0;34m\u001b[0m\u001b[0;34m\u001b[0m\u001b[0m\n\u001b[1;32m     75\u001b[0m \u001b[0;34m\u001b[0m\u001b[0m\n",
      "\u001b[0;32m~/Projects/lineage-growth/tHMM/lineage/BaumWelch.py\u001b[0m in \u001b[0;36mdo_E_step\u001b[0;34m(tHMMobj)\u001b[0m\n\u001b[1;32m     25\u001b[0m     \u001b[0mEL\u001b[0m \u001b[0;34m=\u001b[0m \u001b[0mget_Emission_Likelihoods\u001b[0m\u001b[0;34m(\u001b[0m\u001b[0mtHMMobj\u001b[0m\u001b[0;34m)\u001b[0m\u001b[0;34m\u001b[0m\u001b[0;34m\u001b[0m\u001b[0m\n\u001b[1;32m     26\u001b[0m     \u001b[0mtHMMobj\u001b[0m\u001b[0;34m.\u001b[0m\u001b[0mEL\u001b[0m \u001b[0;34m=\u001b[0m \u001b[0mEL\u001b[0m\u001b[0;34m\u001b[0m\u001b[0;34m\u001b[0m\u001b[0m\n\u001b[0;32m---> 27\u001b[0;31m     \u001b[0mNF\u001b[0m \u001b[0;34m=\u001b[0m \u001b[0mget_leaf_Normalizing_Factors\u001b[0m\u001b[0;34m(\u001b[0m\u001b[0mtHMMobj\u001b[0m\u001b[0;34m,\u001b[0m \u001b[0mMSD\u001b[0m\u001b[0;34m,\u001b[0m \u001b[0mEL\u001b[0m\u001b[0;34m)\u001b[0m\u001b[0;34m\u001b[0m\u001b[0;34m\u001b[0m\u001b[0m\n\u001b[0m\u001b[1;32m     28\u001b[0m     \u001b[0mbetas\u001b[0m \u001b[0;34m=\u001b[0m \u001b[0mget_leaf_betas\u001b[0m\u001b[0;34m(\u001b[0m\u001b[0mtHMMobj\u001b[0m\u001b[0;34m,\u001b[0m \u001b[0mMSD\u001b[0m\u001b[0;34m,\u001b[0m \u001b[0mEL\u001b[0m\u001b[0;34m,\u001b[0m \u001b[0mNF\u001b[0m\u001b[0;34m)\u001b[0m\u001b[0;34m\u001b[0m\u001b[0;34m\u001b[0m\u001b[0m\n\u001b[1;32m     29\u001b[0m     \u001b[0mget_nonleaf_NF_and_betas\u001b[0m\u001b[0;34m(\u001b[0m\u001b[0mtHMMobj\u001b[0m\u001b[0;34m,\u001b[0m \u001b[0mMSD\u001b[0m\u001b[0;34m,\u001b[0m \u001b[0mEL\u001b[0m\u001b[0;34m,\u001b[0m \u001b[0mNF\u001b[0m\u001b[0;34m,\u001b[0m \u001b[0mbetas\u001b[0m\u001b[0;34m)\u001b[0m\u001b[0;34m\u001b[0m\u001b[0;34m\u001b[0m\u001b[0m\n",
      "\u001b[0;32m~/Projects/lineage-growth/tHMM/lineage/UpwardRecursion.py\u001b[0m in \u001b[0;36mget_leaf_Normalizing_Factors\u001b[0;34m(tHMMobj, MSD, EL)\u001b[0m\n\u001b[1;32m    116\u001b[0m             \u001b[0;31m# the sum of the joint probabilities is the marginal probability\u001b[0m\u001b[0;34m\u001b[0m\u001b[0;34m\u001b[0m\u001b[0;34m\u001b[0m\u001b[0m\n\u001b[1;32m    117\u001b[0m             \u001b[0mNF_array\u001b[0m\u001b[0;34m[\u001b[0m\u001b[0mleaf_cell_idx\u001b[0m\u001b[0;34m]\u001b[0m \u001b[0;34m=\u001b[0m \u001b[0mnp\u001b[0m\u001b[0;34m.\u001b[0m\u001b[0msum\u001b[0m\u001b[0;34m(\u001b[0m\u001b[0mMSD_array\u001b[0m\u001b[0;34m[\u001b[0m\u001b[0mleaf_cell_idx\u001b[0m\u001b[0;34m,\u001b[0m \u001b[0;34m:\u001b[0m\u001b[0;34m]\u001b[0m \u001b[0;34m*\u001b[0m \u001b[0mEL_array\u001b[0m\u001b[0;34m[\u001b[0m\u001b[0mleaf_cell_idx\u001b[0m\u001b[0;34m,\u001b[0m \u001b[0;34m:\u001b[0m\u001b[0;34m]\u001b[0m\u001b[0;34m)\u001b[0m  \u001b[0;31m# def of conditional prob\u001b[0m\u001b[0;34m\u001b[0m\u001b[0;34m\u001b[0m\u001b[0m\n\u001b[0;32m--> 118\u001b[0;31m             assert NF_array[leaf_cell_idx] > 0.0, \"{} and {} and {} and {}\".format(\n\u001b[0m\u001b[1;32m    119\u001b[0m                 \u001b[0mNF_array\u001b[0m\u001b[0;34m,\u001b[0m \u001b[0mNF_array\u001b[0m\u001b[0;34m[\u001b[0m\u001b[0mleaf_cell_idx\u001b[0m\u001b[0;34m]\u001b[0m\u001b[0;34m,\u001b[0m \u001b[0mMSD_array\u001b[0m\u001b[0;34m[\u001b[0m\u001b[0mleaf_cell_idx\u001b[0m\u001b[0;34m,\u001b[0m \u001b[0;34m:\u001b[0m\u001b[0;34m]\u001b[0m\u001b[0;34m,\u001b[0m \u001b[0mEL_array\u001b[0m\u001b[0;34m[\u001b[0m\u001b[0mleaf_cell_idx\u001b[0m\u001b[0;34m,\u001b[0m \u001b[0;34m:\u001b[0m\u001b[0;34m]\u001b[0m\u001b[0;34m\u001b[0m\u001b[0;34m\u001b[0m\u001b[0m\n\u001b[1;32m    120\u001b[0m             )\n",
      "\u001b[0;31mAssertionError\u001b[0m: [nan] and nan and [0.54856161 0.45143839] and [nan nan]"
     ]
    }
   ],
   "source": [
    "tHMM_solver.fit()"
   ]
  },
  {
   "cell_type": "code",
   "execution_count": 11,
   "metadata": {},
   "outputs": [
    {
     "name": "stdout",
     "output_type": "stream",
     "text": [
      "[0.71875, 0.43478260869565216, 2.8185672728621127, 20.0, 1.0, 20.0]\n"
     ]
    }
   ],
   "source": [
    "print(tHMM_solver.estimate.E[1])"
   ]
  },
  {
   "cell_type": "code",
   "execution_count": 12,
   "metadata": {},
   "outputs": [
    {
     "name": "stdout",
     "output_type": "stream",
     "text": [
      "\n",
      " Generation: 1, State: None, Observation: [1, 1, nan, 5.0, nan, 0]\n",
      " Generation: 2, State: None, Observation: [1, 0, 112.0, 0, 1, 1]\n",
      " Generation: 2, State: None, Observation: [0, nan, 140.0, nan, 1, nan]\n"
     ]
    }
   ],
   "source": [
    "print(population[0])"
   ]
  },
  {
   "cell_type": "code",
   "execution_count": 13,
   "metadata": {},
   "outputs": [],
   "source": [
    "tHMM_solver_smaller = tHMM(X=[population[0]], num_states=desired_num_states)"
   ]
  },
  {
   "cell_type": "code",
   "execution_count": 14,
   "metadata": {},
   "outputs": [
    {
     "name": "stdout",
     "output_type": "stream",
     "text": [
      "[array([[6.75000000e-01, 6.75000000e-01],\n",
      "       [0.00000000e+00, 0.00000000e+00],\n",
      "       [2.58530099e-15, 2.58530099e-15]])]\n"
     ]
    }
   ],
   "source": [
    "print(tHMM_solver_smaller.EL)"
   ]
  },
  {
   "cell_type": "code",
   "execution_count": 15,
   "metadata": {},
   "outputs": [
    {
     "name": "stderr",
     "output_type": "stream",
     "text": [
      "/home/shakthi/Projects/lineage-growth/tHMM/lineage/states/stateCommon.py:46: RuntimeWarning: divide by zero encountered in log\n",
      "  s = np.log(gammaCor) - sum(gammas * np.log(gamma_obs)) / sum(gammas)\n",
      "/usr/local/lib/python3.8/dist-packages/scipy/optimize/_numdiff.py:497: RuntimeWarning: invalid value encountered in subtract\n",
      "  df = fun(x) - f0\n",
      "/home/shakthi/Projects/lineage-growth/tHMM/lineage/states/stateCommon.py:27: RuntimeWarning: invalid value encountered in long_scalars\n",
      "  return sum(gammas * bern_obs) / sum(gammas)\n",
      "/home/shakthi/Projects/lineage-growth/tHMM/lineage/states/stateCommon.py:27: RuntimeWarning: invalid value encountered in double_scalars\n",
      "  return sum(gammas * bern_obs) / sum(gammas)\n",
      "/home/shakthi/Projects/lineage-growth/tHMM/lineage/states/stateCommon.py:45: RuntimeWarning: invalid value encountered in double_scalars\n",
      "  gammaCor = sum(gammas * gamma_obs) / sum(gammas)\n",
      "/home/shakthi/Projects/lineage-growth/tHMM/lineage/states/stateCommon.py:46: RuntimeWarning: invalid value encountered in double_scalars\n",
      "  s = np.log(gammaCor) - sum(gammas * np.log(gamma_obs)) / sum(gammas)\n",
      "/home/shakthi/Projects/lineage-growth/tHMM/lineage/states/stateCommon.py:46: RuntimeWarning: invalid value encountered in multiply\n",
      "  s = np.log(gammaCor) - sum(gammas * np.log(gamma_obs)) / sum(gammas)\n"
     ]
    },
    {
     "ename": "AssertionError",
     "evalue": "[ 0. nan  0.] and nan and [0.57130541 0.42869459] and [ 0. nan]",
     "output_type": "error",
     "traceback": [
      "\u001b[0;31m---------------------------------------------------------------------------\u001b[0m",
      "\u001b[0;31mAssertionError\u001b[0m                            Traceback (most recent call last)",
      "\u001b[0;32m<ipython-input-15-35ae6499cea5>\u001b[0m in \u001b[0;36m<module>\u001b[0;34m\u001b[0m\n\u001b[0;32m----> 1\u001b[0;31m \u001b[0mtHMM_solver_smaller\u001b[0m\u001b[0;34m.\u001b[0m\u001b[0mfit\u001b[0m\u001b[0;34m(\u001b[0m\u001b[0;34m)\u001b[0m\u001b[0;34m\u001b[0m\u001b[0;34m\u001b[0m\u001b[0m\n\u001b[0m",
      "\u001b[0;32m~/Projects/lineage-growth/tHMM/lineage/tHMM.py\u001b[0m in \u001b[0;36mfit\u001b[0;34m(self, tolerance, max_iter)\u001b[0m\n\u001b[1;32m     71\u001b[0m \u001b[0;34m\u001b[0m\u001b[0m\n\u001b[1;32m     72\u001b[0m         \u001b[0;31m# Step 1: first E step\u001b[0m\u001b[0;34m\u001b[0m\u001b[0;34m\u001b[0m\u001b[0;34m\u001b[0m\u001b[0m\n\u001b[0;32m---> 73\u001b[0;31m         \u001b[0mMSD\u001b[0m\u001b[0;34m,\u001b[0m \u001b[0mNF\u001b[0m\u001b[0;34m,\u001b[0m \u001b[0mbetas\u001b[0m\u001b[0;34m,\u001b[0m \u001b[0mgammas\u001b[0m \u001b[0;34m=\u001b[0m \u001b[0mdo_E_step\u001b[0m\u001b[0;34m(\u001b[0m\u001b[0mself\u001b[0m\u001b[0;34m)\u001b[0m\u001b[0;34m\u001b[0m\u001b[0;34m\u001b[0m\u001b[0m\n\u001b[0m\u001b[1;32m     74\u001b[0m         \u001b[0mnew_LL\u001b[0m \u001b[0;34m=\u001b[0m \u001b[0mcalculate_log_likelihood\u001b[0m\u001b[0;34m(\u001b[0m\u001b[0mNF\u001b[0m\u001b[0;34m)\u001b[0m\u001b[0;34m\u001b[0m\u001b[0;34m\u001b[0m\u001b[0m\n\u001b[1;32m     75\u001b[0m \u001b[0;34m\u001b[0m\u001b[0m\n",
      "\u001b[0;32m~/Projects/lineage-growth/tHMM/lineage/BaumWelch.py\u001b[0m in \u001b[0;36mdo_E_step\u001b[0;34m(tHMMobj)\u001b[0m\n\u001b[1;32m     25\u001b[0m     \u001b[0mEL\u001b[0m \u001b[0;34m=\u001b[0m \u001b[0mget_Emission_Likelihoods\u001b[0m\u001b[0;34m(\u001b[0m\u001b[0mtHMMobj\u001b[0m\u001b[0;34m)\u001b[0m\u001b[0;34m\u001b[0m\u001b[0;34m\u001b[0m\u001b[0m\n\u001b[1;32m     26\u001b[0m     \u001b[0mtHMMobj\u001b[0m\u001b[0;34m.\u001b[0m\u001b[0mEL\u001b[0m \u001b[0;34m=\u001b[0m \u001b[0mEL\u001b[0m\u001b[0;34m\u001b[0m\u001b[0;34m\u001b[0m\u001b[0m\n\u001b[0;32m---> 27\u001b[0;31m     \u001b[0mNF\u001b[0m \u001b[0;34m=\u001b[0m \u001b[0mget_leaf_Normalizing_Factors\u001b[0m\u001b[0;34m(\u001b[0m\u001b[0mtHMMobj\u001b[0m\u001b[0;34m,\u001b[0m \u001b[0mMSD\u001b[0m\u001b[0;34m,\u001b[0m \u001b[0mEL\u001b[0m\u001b[0;34m)\u001b[0m\u001b[0;34m\u001b[0m\u001b[0;34m\u001b[0m\u001b[0m\n\u001b[0m\u001b[1;32m     28\u001b[0m     \u001b[0mbetas\u001b[0m \u001b[0;34m=\u001b[0m \u001b[0mget_leaf_betas\u001b[0m\u001b[0;34m(\u001b[0m\u001b[0mtHMMobj\u001b[0m\u001b[0;34m,\u001b[0m \u001b[0mMSD\u001b[0m\u001b[0;34m,\u001b[0m \u001b[0mEL\u001b[0m\u001b[0;34m,\u001b[0m \u001b[0mNF\u001b[0m\u001b[0;34m)\u001b[0m\u001b[0;34m\u001b[0m\u001b[0;34m\u001b[0m\u001b[0m\n\u001b[1;32m     29\u001b[0m     \u001b[0mget_nonleaf_NF_and_betas\u001b[0m\u001b[0;34m(\u001b[0m\u001b[0mtHMMobj\u001b[0m\u001b[0;34m,\u001b[0m \u001b[0mMSD\u001b[0m\u001b[0;34m,\u001b[0m \u001b[0mEL\u001b[0m\u001b[0;34m,\u001b[0m \u001b[0mNF\u001b[0m\u001b[0;34m,\u001b[0m \u001b[0mbetas\u001b[0m\u001b[0;34m)\u001b[0m\u001b[0;34m\u001b[0m\u001b[0;34m\u001b[0m\u001b[0m\n",
      "\u001b[0;32m~/Projects/lineage-growth/tHMM/lineage/UpwardRecursion.py\u001b[0m in \u001b[0;36mget_leaf_Normalizing_Factors\u001b[0;34m(tHMMobj, MSD, EL)\u001b[0m\n\u001b[1;32m    116\u001b[0m             \u001b[0;31m# the sum of the joint probabilities is the marginal probability\u001b[0m\u001b[0;34m\u001b[0m\u001b[0;34m\u001b[0m\u001b[0;34m\u001b[0m\u001b[0m\n\u001b[1;32m    117\u001b[0m             \u001b[0mNF_array\u001b[0m\u001b[0;34m[\u001b[0m\u001b[0mleaf_cell_idx\u001b[0m\u001b[0;34m]\u001b[0m \u001b[0;34m=\u001b[0m \u001b[0mnp\u001b[0m\u001b[0;34m.\u001b[0m\u001b[0msum\u001b[0m\u001b[0;34m(\u001b[0m\u001b[0mMSD_array\u001b[0m\u001b[0;34m[\u001b[0m\u001b[0mleaf_cell_idx\u001b[0m\u001b[0;34m,\u001b[0m \u001b[0;34m:\u001b[0m\u001b[0;34m]\u001b[0m \u001b[0;34m*\u001b[0m \u001b[0mEL_array\u001b[0m\u001b[0;34m[\u001b[0m\u001b[0mleaf_cell_idx\u001b[0m\u001b[0;34m,\u001b[0m \u001b[0;34m:\u001b[0m\u001b[0;34m]\u001b[0m\u001b[0;34m)\u001b[0m  \u001b[0;31m# def of conditional prob\u001b[0m\u001b[0;34m\u001b[0m\u001b[0;34m\u001b[0m\u001b[0m\n\u001b[0;32m--> 118\u001b[0;31m             assert NF_array[leaf_cell_idx] > 0.0, \"{} and {} and {} and {}\".format(\n\u001b[0m\u001b[1;32m    119\u001b[0m                 \u001b[0mNF_array\u001b[0m\u001b[0;34m,\u001b[0m \u001b[0mNF_array\u001b[0m\u001b[0;34m[\u001b[0m\u001b[0mleaf_cell_idx\u001b[0m\u001b[0;34m]\u001b[0m\u001b[0;34m,\u001b[0m \u001b[0mMSD_array\u001b[0m\u001b[0;34m[\u001b[0m\u001b[0mleaf_cell_idx\u001b[0m\u001b[0;34m,\u001b[0m \u001b[0;34m:\u001b[0m\u001b[0;34m]\u001b[0m\u001b[0;34m,\u001b[0m \u001b[0mEL_array\u001b[0m\u001b[0;34m[\u001b[0m\u001b[0mleaf_cell_idx\u001b[0m\u001b[0;34m,\u001b[0m \u001b[0;34m:\u001b[0m\u001b[0;34m]\u001b[0m\u001b[0;34m\u001b[0m\u001b[0;34m\u001b[0m\u001b[0m\n\u001b[1;32m    120\u001b[0m             )\n",
      "\u001b[0;31mAssertionError\u001b[0m: [ 0. nan  0.] and nan and [0.57130541 0.42869459] and [ 0. nan]"
     ]
    }
   ],
   "source": [
    "tHMM_solver_smaller.fit()"
   ]
  },
  {
   "cell_type": "code",
   "execution_count": 16,
   "metadata": {},
   "outputs": [
    {
     "name": "stdout",
     "output_type": "stream",
     "text": [
      "[0.5555555555555556, 0.8, 3.444197057525258, 20.0, 1.0, 20.0]\n"
     ]
    }
   ],
   "source": [
    "print(tHMM_solver.estimate.E[0])"
   ]
  },
  {
   "cell_type": "code",
   "execution_count": null,
   "metadata": {},
   "outputs": [],
   "source": []
  }
 ],
 "metadata": {
  "kernelspec": {
   "display_name": "Python 3",
   "language": "python",
   "name": "python3"
  },
  "language_info": {
   "codemirror_mode": {
    "name": "ipython",
    "version": 3
   },
   "file_extension": ".py",
   "mimetype": "text/x-python",
   "name": "python",
   "nbconvert_exporter": "python",
   "pygments_lexer": "ipython3",
   "version": "3.8.2"
  }
 },
 "nbformat": 4,
 "nbformat_minor": 4
}
