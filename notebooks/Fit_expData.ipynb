{
 "cells": [
  {
   "cell_type": "code",
   "execution_count": 1,
   "metadata": {},
   "outputs": [
    {
     "name": "stdout",
     "output_type": "stream",
     "text": [
      "\n",
      " Generation: 1, State: None, Observation: [1, 1, nan, 22, nan, 0]\n",
      " Generation: 2, State: None, Observation: [1, 1, 31, 43, 1, 1]\n",
      " Generation: 2, State: None, Observation: [1, 1, 30, 36, 1, 1]\n",
      " Generation: 3, State: None, Observation: [1, 1, 22, 43, 1, 1]\n",
      " Generation: 3, State: None, Observation: [1, 1, 26, 50, 1, 1]\n",
      " Generation: 3, State: None, Observation: [1, 1, 25, 44, 1, 1]\n",
      " Generation: 3, State: None, Observation: [1, 1, 24, 44, 1, 1]\n",
      " Generation: 4, State: None, Observation: [1, nan, 18, 13, 1, 0]\n",
      " Generation: 4, State: None, Observation: [1, nan, 23, 8, 1, 0]\n",
      " Generation: 4, State: None, Observation: [0, nan, 20, nan, 1, nan]\n",
      " Generation: 4, State: None, Observation: [0, nan, 20, nan, 1, nan]\n",
      " Generation: 4, State: None, Observation: [1, nan, 34, 1, 1, 0]\n",
      " Generation: 4, State: None, Observation: [0, nan, 35, nan, 1, nan]\n",
      " Generation: 4, State: None, Observation: [0, nan, 36, nan, 1, nan]\n",
      " Generation: 4, State: None, Observation: [0, nan, 36, nan, 1, nan]\n"
     ]
    }
   ],
   "source": [
    "from lineage.data.Lineage_collections import Gemcitabine_Control\n",
    "from lineage.tHMM import tHMM\n",
    "from lineage.Analyze import Analyze\n",
    "from lineage.plotTree import plotLineage\n",
    "import numpy as np\n",
    "\n",
    "print(Gemcitabine_Control[0])"
   ]
  },
  {
   "cell_type": "code",
   "execution_count": 2,
   "metadata": {},
   "outputs": [],
   "source": [
    "tHMM_solver = tHMM(X=Gemcitabine_Control[0:10], num_states=2)\n",
    "tHMM_solver.fit();"
   ]
  },
  {
   "cell_type": "code",
   "execution_count": 3,
   "metadata": {},
   "outputs": [
    {
     "name": "stdout",
     "output_type": "stream",
     "text": [
      "state 0:  [0.2773409970423528, 1.0, 1.308030140303401, 18.328023265528017, 2.217875388936256, 14.990393413687437]\n",
      "state 1:  [0.9999999931847121, 1.0, 12.44562424298886, 2.0425632794106625, 4.314339808395734, 8.448544248798315]\n"
     ]
    }
   ],
   "source": [
    "print(\"state 0: \", tHMM_solver.estimate.E[0])\n",
    "print(\"state 1: \", tHMM_solver.estimate.E[1])"
   ]
  },
  {
   "cell_type": "markdown",
   "metadata": {},
   "source": [
    "### Using `Analyze` to fit."
   ]
  },
  {
   "cell_type": "code",
   "execution_count": 4,
   "metadata": {},
   "outputs": [],
   "source": [
    "thmm_obj, vit_states, LL = Analyze(Gemcitabine_Control[0:10], 2)"
   ]
  },
  {
   "cell_type": "code",
   "execution_count": 5,
   "metadata": {},
   "outputs": [
    {
     "data": {
      "text/plain": [
       "array([[0.98971762, 0.01028238],\n",
       "       [0.27725801, 0.72274199]])"
      ]
     },
     "execution_count": 5,
     "metadata": {},
     "output_type": "execute_result"
    }
   ],
   "source": [
    "thmm_obj.estimate.T"
   ]
  },
  {
   "cell_type": "code",
   "execution_count": 6,
   "metadata": {},
   "outputs": [
    {
     "data": {
      "text/plain": [
       "array([7.16425937e-238, 1.00000000e+000])"
      ]
     },
     "execution_count": 6,
     "metadata": {},
     "output_type": "execute_result"
    }
   ],
   "source": [
    "thmm_obj.estimate.pi"
   ]
  },
  {
   "cell_type": "code",
   "execution_count": 7,
   "metadata": {},
   "outputs": [
    {
     "name": "stdout",
     "output_type": "stream",
     "text": [
      "state 0:  [0.278797699826285, 1.0, 1.3100932206053362, 18.304277043927925, 2.225518004253175, 14.957671041248112]\n",
      "state 1:  [0.9999999999998541, 1.0, 12.449229926590588, 2.041774746320673, 4.3145592167511, 8.448216187846468]\n"
     ]
    }
   ],
   "source": [
    "print(\"state 0: \", thmm_obj.estimate.E[0].params)\n",
    "print(\"state 1: \", thmm_obj.estimate.E[1].params)"
   ]
  }
 ],
 "metadata": {
  "kernelspec": {
   "display_name": "Python 3",
   "language": "python",
   "name": "python3"
  },
  "language_info": {
   "codemirror_mode": {
    "name": "ipython",
    "version": 3
   },
   "file_extension": ".py",
   "mimetype": "text/x-python",
   "name": "python",
   "nbconvert_exporter": "python",
   "pygments_lexer": "ipython3",
   "version": "3.8.2"
  }
 },
 "nbformat": 4,
 "nbformat_minor": 4
}
