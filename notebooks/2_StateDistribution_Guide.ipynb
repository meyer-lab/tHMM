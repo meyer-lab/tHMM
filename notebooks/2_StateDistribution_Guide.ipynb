{
 "cells": [
  {
   "cell_type": "code",
   "execution_count": 1,
   "metadata": {},
   "outputs": [
    {
     "data": {
      "text/plain": [
       "'/home/staylor/lineage-growth/notebooks'"
      ]
     },
     "execution_count": 1,
     "metadata": {},
     "output_type": "execute_result"
    }
   ],
   "source": [
    "######################################################\n",
    "#                RUN THIS CODE BLOCK                 #\n",
    "#     THIS CODE BLOCK DOES NOT NEED TO BE EDITED     #\n",
    "#  DO NOT CHANGE UNLESS YOU KNOW WHAT YOU'RE DOING!! #\n",
    "######################################################s\n",
    "# Use this code block and the following to make sure you're outside the notebooks folder.\n",
    "# This will avoid any import errors.\n",
    "# You'll want the directory to be changed to the same directory containing the\n",
    "# makefile, the README.md file, and the lineage folder.\n",
    "# If this is the first time you're running this notebook or if you've recently restarted the\n",
    "# kernel of this notebook, then %pwd should return that you're in the notebooks folder.\n",
    "%pwd\n",
    "######################################################\n",
    "#                RUN THIS CODE BLOCK                 #\n",
    "#     THIS CODE BLOCK DOES NOT NEED TO BE EDITED     #\n",
    "#  DO NOT CHANGE UNLESS YOU KNOW WHAT YOU'RE DOING!! #\n",
    "######################################################"
   ]
  },
  {
   "cell_type": "code",
   "execution_count": 2,
   "metadata": {},
   "outputs": [
    {
     "name": "stdout",
     "output_type": "stream",
     "text": [
      "/home/staylor/lineage-growth\n"
     ]
    },
    {
     "data": {
      "text/plain": [
       "['~/lineage-growth/notebooks']"
      ]
     },
     "execution_count": 2,
     "metadata": {},
     "output_type": "execute_result"
    }
   ],
   "source": [
    "######################################################\n",
    "#                RUN THIS CODE BLOCK                 #\n",
    "#     THIS CODE BLOCK DOES NOT NEED TO BE EDITED     #\n",
    "#  DO NOT CHANGE UNLESS YOU KNOW WHAT YOU'RE DOING!! #\n",
    "######################################################\n",
    "# If the above isn't saying that you're in the notebooks folder, \n",
    "# then there's no need to worry. The following code will automatically\n",
    "# identify where you've installed the lineage-growth repository and the \n",
    "# lineage repository. It will then automatically move you to outside the \n",
    "# notebooks folder to ensure that the rest of the code in the notebook \n",
    "# works.\n",
    "tHMM_loc = !find ~ -name \"tHMM.py\" -printf '%h' | sort -u \n",
    "lineage_growth_repo = f\"{tHMM_loc[0]}/..\";\n",
    "%pushd $lineage_growth_repo\n",
    "# Note that pushd keeps a stack of directories before changing directories\n",
    "# and the list that is returned is the stack of directories. You might see that\n",
    "# the stack contains the notebooks directory, because that was our last working\n",
    "# directory.\n",
    "######################################################\n",
    "#                RUN THIS CODE BLOCK                 #\n",
    "#     THIS CODE BLOCK DOES NOT NEED TO BE EDITED     #\n",
    "#  DO NOT CHANGE UNLESS YOU KNOW WHAT YOU'RE DOING!! #\n",
    "######################################################"
   ]
  },
  {
   "cell_type": "markdown",
   "metadata": {},
   "source": [
    "## State Distributions - How to create"
   ]
  },
  {
   "cell_type": "markdown",
   "metadata": {},
   "source": [
    "Assuming the user has reviewed the Overview notebook, they should be aware that the Emissions matrix is created using State Distribution objects. A state can be defined as a particular condition the cell is in (eg. Resistant vs Susceptible to drug), but also by it's distributions/parameters. Just as a state can be defined in whatever way one desires, so can the distributions - typically as some type of physical observation/phenotype. "
   ]
  },
  {
   "cell_type": "markdown",
   "metadata": {},
   "source": [
    "Review the StateDistribution class below. Note that this particular distribution uses two separate distributions corresponding to two different measurements a particular cell can have - a bernoulli variable to define whether the cell lives or dies, and gamma variables to define cell lifetime. In this case, they are independent of each other, but that may not always be the case.\n"
   ]
  },
  {
   "cell_type": "code",
   "execution_count": 3,
   "metadata": {},
   "outputs": [],
   "source": [
    "\"\"\" This file is completely user defined. We have provided a general starting point for the user to use as an example. \"\"\"\n",
    "from math import gamma\n",
    "import numpy as np\n",
    "import scipy.stats as sp\n",
    "from numba import njit\n",
    "import scipy.special as sc\n",
    "from scipy.optimize import brentq\n",
    "\n",
    "\n",
    "from lineage.states.stateCommon import bern_pdf, bernoulli_estimator\n",
    "\n",
    "\n",
    "class StateDistribution:\n",
    "    def __init__(self, bern_p, gamma_a, gamma_scale):\n",
    "        \"\"\" Initialization function should take in just in the parameters for the observations that comprise the multivariate random variable emission they expect their data to have. \"\"\"\n",
    "        self.bern_p = bern_p\n",
    "        self.gamma_a = gamma_a\n",
    "        self.gamma_scale = gamma_scale\n",
    "        self.params = [self.bern_p, self.gamma_a, self.gamma_scale]\n",
    "\n",
    "    def rvs(self, size):  # user has to identify what the multivariate (or univariate if he or she so chooses) random variable looks like\n",
    "        \"\"\" User-defined way of calculating a random variable given the parameters of the state stored in that observation's object. \"\"\"\n",
    "        # {\n",
    "        bern_obs = sp.bernoulli.rvs(p=self.bern_p, size=size)  # bernoulli observations\n",
    "        gamma_obs = sp.gamma.rvs(a=self.gamma_a, scale=self.gamma_scale, size=size)  # gamma observations\n",
    "        time_censor = [1] * len(gamma_obs)  # 1 if observed\n",
    "        # } is user-defined in that they have to define and maintain the order of the multivariate random variables.\n",
    "        # These tuples of observations will go into the cells in the lineage tree.\n",
    "        list_of_tuple_of_obs = list(map(list, zip(bern_obs, gamma_obs, time_censor)))\n",
    "        return list_of_tuple_of_obs\n",
    "\n",
    "    def pdf(self, tuple_of_obs):  # user has to define how to calculate the likelihood\n",
    "        \"\"\" User-defined way of calculating the likelihood of the observation stored in a cell. \"\"\"\n",
    "        # In the case of a univariate observation, the user still has to define how the likelihood is calculated,\n",
    "        # but has the ability to just return the output of a known scipy.stats.<distribution>.<{pdf,pmf}> function.\n",
    "        # In the case of a multivariate observation, the user has to decide how the likelihood is calculated.\n",
    "        # In our example, we assume the observation's are uncorrelated across the dimensions (across the different\n",
    "        # distribution observations), so the likelihood of observing the multivariate observation is just the product of\n",
    "        # the individual observation likelihoods.\n",
    "\n",
    "        try:\n",
    "            bern_ll = bern_pdf(tuple_of_obs[0], self.bern_p)\n",
    "        except ZeroDivisionError:\n",
    "            assert False, f\"{tuple_of_obs[0]}, {self.bern_p}\"\n",
    "\n",
    "        try:\n",
    "            gamma_ll = gamma_pdf(tuple_of_obs[1], self.gamma_a, self.gamma_scale)\n",
    "        except ZeroDivisionError:\n",
    "            assert False, f\"{tuple_of_obs[1]}, {self.gamma_a}, {self.gamma_scale}\"\n",
    "\n",
    "        return bern_ll * gamma_ll\n",
    "\n",
    "    def estimator(self, list_of_tuples_of_obs, gammas):\n",
    "        \"\"\" User-defined way of estimating the parameters given a list of the tuples of observations from a group of cells. \"\"\"\n",
    "        # unzipping the list of tuples\n",
    "        unzipped_list_of_tuples_of_obs = list(zip(*list_of_tuples_of_obs))\n",
    "\n",
    "        # getting the observations as individual lists\n",
    "        # {\n",
    "        try:\n",
    "            bern_obs = list(unzipped_list_of_tuples_of_obs[0])\n",
    "            gamma_obs = list(unzipped_list_of_tuples_of_obs[1])\n",
    "            gamma_censor_obs = list(unzipped_list_of_tuples_of_obs[2])\n",
    "        except BaseException:\n",
    "            bern_obs = []\n",
    "            gamma_obs = []\n",
    "            gamma_censor_obs = []\n",
    "\n",
    "        bern_p_estimate = bernoulli_estimator(bern_obs, (self.bern_p,), gammas)\n",
    "        gamma_a_estimate, gamma_scale_estimate = gamma_estimator(gamma_obs, gamma_censor_obs, (self.gamma_a, self.gamma_scale,), gammas)\n",
    "\n",
    "        state_estimate_obj = StateDistribution(bern_p=bern_p_estimate, gamma_a=gamma_a_estimate, gamma_scale=gamma_scale_estimate)\n",
    "        # } requires the user's attention.\n",
    "        # Note that we return an instance of the state distribution class, but now instantiated with the parameters\n",
    "        # from estimation. This is then stored in the original state distribution object which then gets updated\n",
    "        # if this function runs again.\n",
    "        return state_estimate_obj\n",
    "\n",
    "    def tHMM_E_init(self):\n",
    "        \"\"\"\n",
    "        Initialize a default state distribution.\n",
    "        \"\"\"\n",
    "        return StateDistribution(0.9, 7, 3 + (1 * (np.random.uniform())))\n",
    "\n",
    "    def __repr__(self):\n",
    "        \"\"\"\n",
    "        Method to print out a state distribution object.\n",
    "        \"\"\"\n",
    "        return \"State object w/ parameters: {}, {}, {}.\".format(self.bern_p, self.gamma_a, self.gamma_scale)\n",
    "\n",
    "\n",
    "# Because parameter estimation requires that estimators be written or imported,\n",
    "# the user should be able to provide\n",
    "# estimators that can solve for the parameters that describe the distributions.\n",
    "# We provide some estimators below as an example.\n",
    "# Their use in the StateDistribution class is shown in the estimator class method.\n",
    "# User must take care to define estimators that\n",
    "# can handle the case where the list of observations is empty.\n",
    "\n",
    "\n",
    "def gamma_estimator(gamma_obs, gamma_censor_obs, old_params, gammas):\n",
    "    \"\"\"\n",
    "    This is a closed-form estimator for two parameters\n",
    "    of the Gamma distribution, which is corrected for bias.\n",
    "    \"\"\"\n",
    "    gammaCor = sum(gammas * gamma_obs) / sum(gammas)\n",
    "    s = np.log(gammaCor) - sum(gammas * np.log(gamma_obs)) / sum(gammas)\n",
    "    def f(k): return np.log(k) - sc.polygamma(0, k) - s\n",
    "\n",
    "    if f(0.01) * f(100.0) > 0.0:\n",
    "        a_hat = 10.0\n",
    "    else:\n",
    "        a_hat = brentq(f, 0.01, 100.0)\n",
    "\n",
    "    scale_hat = gammaCor / a_hat\n",
    "\n",
    "    return a_hat, scale_hat\n",
    "\n",
    "\n",
    "@njit\n",
    "def gamma_pdf(x, a, scale):\n",
    "    \"\"\"\n",
    "    This function takes in 1 observation and gamma shape and scale parameters\n",
    "    and returns the likelihood of the observation based on the gamma\n",
    "    probability distribution function.\n",
    "    \"\"\"\n",
    "    return x**(a - 1.) * np.exp(-1. * x / scale) / gamma(a) / (scale**a)\n"
   ]
  },
  {
   "cell_type": "markdown",
   "metadata": {},
   "source": [
    "Below is an alternative version of the StateDistribution class, using a Gaussian distribution instead of Bernoulli and Gamma. As an example, this could represent cell size. There could, for example, be a population of cells that are split between a luminal state and basal state, which for the sake of this have different cell sizes (which we assume are normally distributed). We could then define the states through normal distributions of their size. \n"
   ]
  },
  {
   "cell_type": "code",
   "execution_count": 4,
   "metadata": {},
   "outputs": [],
   "source": [
    "\"\"\" This file is completely user defined. We have provided a general starting point for the user to use as an example. \"\"\"\n",
    "import numpy as np\n",
    "import scipy.stats as sp\n",
    "\n",
    "\n",
    "\n",
    "class StateDistribution:\n",
    "    def __init__(self, norm_loc, norm_scale):\n",
    "        \"\"\" Initialization function should take in just in the parameters for the observations that comprise the multivariate random variable emission they expect their data to have. \"\"\"\n",
    "        self.norm_loc = norm_loc\n",
    "        assert norm_scale > 0, \"A non-valid scale has been given. Please provide a scale > 0\"\n",
    "        self.norm_scale = norm_scale\n",
    "        self.params = [self.norm_loc, self.norm_scale]\n",
    "\n",
    "    def rvs(self, size):  # user has to identify what the multivariate (or univariate if he or she so chooses) random variable looks like\n",
    "        \"\"\" User-defined way of calculating a random variable given the parameters of the state stored in that observation's object. \"\"\"\n",
    "        # {\n",
    "        norm_obs = sp.norm.rvs(loc=self.norm_loc, scale=self.norm_scale, size=size)  # normal observations\n",
    "        #time_censor = [1] * len(gamma_obs)  # 1 if observed\n",
    "        # } is user-defined in that they have to define and maintain the order of the multivariate random variables.\n",
    "        # These tuples of observations will go into the cells in the lineage tree.\n",
    "        list_of_tuple_of_obs = list(map(list, zip(norm_obs)))\n",
    "        return list_of_tuple_of_obs\n",
    "\n",
    "    def pdf(self, tuple_of_obs):  # user has to define how to calculate the likelihood\n",
    "        \"\"\" User-defined way of calculating the likelihood of the observation stored in a cell. \"\"\"\n",
    "        # In the case of a univariate observation, the user still has to define how the likelihood is calculated,\n",
    "        # but has the ability to just return the output of a known scipy.stats.<distribution>.<{pdf,pmf}> function.\n",
    "        # In the case of a multivariate observation, the user has to decide how the likelihood is calculated.\n",
    "        # In our example, we assume the observation's are uncorrelated across the dimensions (across the different\n",
    "        # distribution observations), so the likelihood of observing the multivariate observation is just the product of\n",
    "        # the individual observation likelihoods.\n",
    "\n",
    "        norm_ll = sp.norm.pdf(tuple_of_obs[0], self.norm_loc, self.norm_scale)\n",
    "\n",
    "        return norm_ll\n",
    "\n",
    "    def estimator(self, list_of_tuples_of_obs, gammas):\n",
    "        \"\"\" User-defined way of estimating the parameters given a list of the tuples of observations from a group of cells. \"\"\"\n",
    "        # unzipping the list of tuples\n",
    "        unzipped_list_of_tuples_of_obs = list(zip(*list_of_tuples_of_obs))\n",
    "\n",
    "        # getting the observations as individual lists\n",
    "        # {\n",
    "        try:\n",
    "            norm_obs = list(unzipped_list_of_tuples_of_obs[0])\n",
    "        except BaseException:\n",
    "            norm_obs = []\n",
    "\n",
    "        norm_loc_estimate, norm_scale_estimate = norm_estimator(norm_obs, gammas)\n",
    "\n",
    "        state_estimate_obj = StateDistribution(norm_loc=norm_loc_estimate, norm_scale=norm_scale_estimate)\n",
    "        # } requires the user's attention.\n",
    "        # Note that we return an instance of the state distribution class, but now instantiated with the parameters\n",
    "        # from estimation. This is then stored in the original state distribution object which then gets updated\n",
    "        # if this function runs again.\n",
    "        return state_estimate_obj\n",
    "\n",
    "    def tHMM_E_init(self):\n",
    "        \"\"\"\n",
    "        Initialize a default state distribution.\n",
    "        \"\"\"\n",
    "        return StateDistribution(10, 1 + 10 * (np.random.uniform()))\n",
    "\n",
    "    def __repr__(self):\n",
    "        \"\"\"\n",
    "        Method to print out a state distribution object.\n",
    "        \"\"\"\n",
    "        return \"State object w/ parameters: {}, {}.\".format(self.norm_loc, self.norm_scale)\n",
    "\n",
    "\n",
    "# Because parameter estimation requires that estimators be written or imported,\n",
    "# the user should be able to provide\n",
    "# estimators that can solve for the parameters that describe the distributions.\n",
    "# We provide some estimators below as an example.\n",
    "# Their use in the StateDistribution class is shown in the estimator class method.\n",
    "# User must take care to define estimators that\n",
    "# can handle the case where the list of observations is empty.\n",
    "\n",
    "\n",
    "def norm_estimator(norm_obs, gammas):\n",
    "    '''This function is an estimator for the mean and standard deviation of a normal distribution, including weighting for each state'''\n",
    "    mu = (sum(gammas * norm_obs) + 1e-10) / (sum(gammas)+ 1e-10)\n",
    "    std = ((sum(gammas*(norm_obs-mu)**2) + 1e-10)/ (sum(gammas)+ 1e-10))**.5\n",
    "    if mu == 0:\n",
    "        print(\"mu == 0\")\n",
    "    if std == 0:\n",
    "        print(\"std == 0\")\n",
    "    if sum(gammas) == 0:\n",
    "        print(\"sum(gammas) == 0\")\n",
    "    return mu, std\n"
   ]
  },
  {
   "cell_type": "markdown",
   "metadata": {},
   "source": [
    "The following cells compare the two StateDistributions and show how one might make one. For the most part, the pieces are essential cut and paste, but there is a need to understand the parts to ensure proper creation."
   ]
  },
  {
   "cell_type": "markdown",
   "metadata": {},
   "source": [
    "First the initialization function - this should take in all defining parameters for all distributions being used. For a normal distribution, this would be mu - called loc in scipy functions, so I used it here - (the population average) and the population standard deviation, or scale. These are assigned as parameters of the class object. This is essentially just cut and paste. One can assert that the given values actually make sense for the distribution. For example, a normal distribution cannot have a negative or zero standard deviation."
   ]
  },
  {
   "cell_type": "code",
   "execution_count": 5,
   "metadata": {},
   "outputs": [],
   "source": [
    "#Bernoulli/Gamma\n",
    "def __init__(self, bern_p, gamma_a, gamma_scale):\n",
    "    \"\"\" Initialization function should take in just in the parameters for the observations that comprise the multivariate random variable emission they expect their data to have. \"\"\"\n",
    "    self.bern_p = bern_p\n",
    "    self.gamma_a = gamma_a\n",
    "    self.gamma_scale = gamma_scale\n",
    "    self.params = [self.bern_p, self.gamma_a, self.gamma_scale]\n",
    "\n",
    "#Normal \n",
    "def __init__(self, norm_loc, norm_scale):\n",
    "    \"\"\" Initialization function should take in just in the parameters for the observations that comprise the multivariate random variable emission they expect their data to have. \"\"\"\n",
    "    self.norm_loc = norm_loc\n",
    "    assert norm_scale > 0, \"A non-valid scale has been given. Please provide a scale > 0\"\n",
    "    self.norm_scale = norm_scale\n",
    "    self.params = [self.norm_loc, self.norm_scale]"
   ]
  },
  {
   "cell_type": "markdown",
   "metadata": {},
   "source": [
    "The next required function is one of three key functions for State Distributions. It takes in size, which represents the number of cells in the lineage, and assigns each one a random variable from the characteristic distributions of that state. There is one per distribution. The time_censor variable exists due to the time based nature of the gamma distribution. Such a variable is unnecessary in the normal example, but may be needed depending on the type of censoring done. \n",
    "\n",
    "If the variable is more complex - ie. a multivariate - the user may have to define what that variable looks like, as stated in the function. "
   ]
  },
  {
   "cell_type": "code",
   "execution_count": 6,
   "metadata": {},
   "outputs": [],
   "source": [
    "def rvs(self, size):  # user has to identify what the multivariate (or univariate if he or she so chooses) random variable looks like\n",
    "    \"\"\" User-defined way of calculating a random variable given the parameters of the state stored in that observation's object. \"\"\"\n",
    "    # {\n",
    "    bern_obs = sp.bernoulli.rvs(p=self.bern_p, size=size)  # bernoulli observations\n",
    "    gamma_obs = sp.gamma.rvs(a=self.gamma_a, scale=self.gamma_scale, size=size)  # gamma observations\n",
    "    time_censor = [1] * len(gamma_obs)  # 1 if observed\n",
    "    # } is user-defined in that they have to define and maintain the order of the multivariate random variables.\n",
    "    # These tuples of observations will go into the cells in the lineage tree.\n",
    "    list_of_tuple_of_obs = list(map(list, zip(bern_obs, gamma_obs, time_censor)))\n",
    "    return list_of_tuple_of_obs\n",
    "\n",
    "def rvs(self, size):  # user has to identify what the multivariate (or univariate if he or she so chooses) random variable looks like\n",
    "    \"\"\" User-defined way of calculating a random variable given the parameters of the state stored in that observation's object. \"\"\"\n",
    "    # {\n",
    "    norm_obs = sp.norm.rvs(loc=self.norm_loc, scale=self.norm_scale, size=size)  # normal observations\n",
    "    #time_censor = [1] * len(gamma_obs)  # 1 if observed\n",
    "    # } is user-defined in that they have to define and maintain the order of the multivariate random variables.\n",
    "    # These tuples of observations will go into the cells in the lineage tree.\n",
    "    list_of_tuple_of_obs = list(map(list, zip(norm_obs)))\n",
    "    return list_of_tuple_of_obs"
   ]
  },
  {
   "cell_type": "markdown",
   "metadata": {},
   "source": [
    "The second key function is the probability distribution function. The function documentation describes most of how to implement the pdf. For univariate and independent multivariate distributions, it is fairly simple and can just use the already implemented pdf functions in scipy. For more complex multivariate distributions, the pdf might be more complicated and require a custom function. \n",
    "\n",
    "In our Gaussian example, we just return the result of the pdf, given the StateDistribution's parameters and the observation. "
   ]
  },
  {
   "cell_type": "code",
   "execution_count": 7,
   "metadata": {},
   "outputs": [],
   "source": [
    "def pdf(self, tuple_of_obs):  # user has to define how to calculate the likelihood\n",
    "    \"\"\" User-defined way of calculating the likelihood of the observation stored in a cell. \"\"\"\n",
    "    # In the case of a univariate observation, the user still has to define how the likelihood is calculated,\n",
    "    # but has the ability to just return the output of a known scipy.stats.<distribution>.<{pdf,pmf}> function.\n",
    "    # In the case of a multivariate observation, the user has to decide how the likelihood is calculated.\n",
    "    # In our example, we assume the observation's are uncorrelated across the dimensions (across the different\n",
    "    # distribution observations), so the likelihood of observing the multivariate observation is just the product of\n",
    "    # the individual observation likelihoods.\n",
    "\n",
    "    try:\n",
    "        bern_ll = bern_pdf(tuple_of_obs[0], self.bern_p)\n",
    "    except ZeroDivisionError:\n",
    "        assert False, f\"{tuple_of_obs[0]}, {self.bern_p}\"\n",
    "\n",
    "    try:\n",
    "        gamma_ll = gamma_pdf(tuple_of_obs[1], self.gamma_a, self.gamma_scale)\n",
    "    except ZeroDivisionError:\n",
    "        assert False, f\"{tuple_of_obs[1]}, {self.gamma_a}, {self.gamma_scale}\"\n",
    "\n",
    "    return bern_ll * gamma_ll\n",
    "\n",
    "def pdf(self, tuple_of_obs):  # user has to define how to calculate the likelihood\n",
    "    \"\"\" User-defined way of calculating the likelihood of the observation stored in a cell. \"\"\"\n",
    "    # In the case of a univariate observation, the user still has to define how the likelihood is calculated,\n",
    "    # but has the ability to just return the output of a known scipy.stats.<distribution>.<{pdf,pmf}> function.\n",
    "    # In the case of a multivariate observation, the user has to decide how the likelihood is calculated.\n",
    "    # In our example, we assume the observation's are uncorrelated across the dimensions (across the different\n",
    "    # distribution observations), so the likelihood of observing the multivariate observation is just the product of\n",
    "    # the individual observation likelihoods.\n",
    "    try:\n",
    "        norm_ll = sp.norm.pdf(tuple_of_obs[0], self.norm_loc, self.norm_scale)\n",
    "    except ZeroDivisionError:\n",
    "        assert False, f\"{tuple_of_obs[0]}, {self.norm_loc}, {self.norm_scale}\"\n",
    "    \n",
    "    return norm_ll"
   ]
  },
  {
   "cell_type": "markdown",
   "metadata": {},
   "source": [
    "This function is the third key StateDistribution function, used to estimate the parameters of the distribution given only observations (stored in cell objects in a lineage). While the previous functions are mostly cut and paste, this one requires a bit more effort in one specific part. Specifically, the user must define their own estimator function. Typically this would just be the maximum likelihood estimate, but due the the incorporation of the gammas term it is slightly more complicated. \n",
    "\n",
    "Namely, one must find the MLE by taking the product of the pdf over all obervations (the likelihood), then taking the log, then the derivative and setting equal to zero to find the optimal value. For the Bernoulli, for example, the likelihood is the product from i=1 to n (where there are n observations) of p^x_i * (1-p)^1-x_i. \n",
    "\n",
    "However, the gammas term acts as a weighting variable for each observation as to which state it might belong to, and can be included in the likelihood as an exponent, z_i, to which the pdf is raised. So for the Bernoulli it becomes the product from i=1 to n of (p^x_i * (1-p)^1-x_i)^z_i. The MLE is then calculated as normal. Once this modified MLE is found for each parameter, the estimator function must simply calculate and return it given the observations and gammas. \n",
    "\n",
    "The norm estimator function is at the bottom of the following cell. The small values are there to correct for empty lists of observations, or when the gammas term sums to 0."
   ]
  },
  {
   "cell_type": "code",
   "execution_count": 8,
   "metadata": {},
   "outputs": [],
   "source": [
    "def estimator(self, list_of_tuples_of_obs, gammas):\n",
    "    \"\"\" User-defined way of estimating the parameters given a list of the tuples of observations from a group of cells. \"\"\"\n",
    "    # unzipping the list of tuples\n",
    "    unzipped_list_of_tuples_of_obs = list(zip(*list_of_tuples_of_obs))\n",
    "\n",
    "    # getting the observations as individual lists\n",
    "    # {\n",
    "    try:\n",
    "        bern_obs = list(unzipped_list_of_tuples_of_obs[0])\n",
    "        gamma_obs = list(unzipped_list_of_tuples_of_obs[1])\n",
    "        gamma_censor_obs = list(unzipped_list_of_tuples_of_obs[2])\n",
    "    except BaseException:\n",
    "        bern_obs = []\n",
    "        gamma_obs = []\n",
    "        gamma_censor_obs = []\n",
    "\n",
    "    bern_p_estimate = bernoulli_estimator(bern_obs, (self.bern_p,), gammas)\n",
    "    gamma_a_estimate, gamma_scale_estimate = gamma_estimator(gamma_obs, gamma_censor_obs, (self.gamma_a, self.gamma_scale,), gammas)\n",
    "\n",
    "    state_estimate_obj = StateDistribution(bern_p=bern_p_estimate, gamma_a=gamma_a_estimate, gamma_scale=gamma_scale_estimate)\n",
    "    # } requires the user's attention.\n",
    "    # Note that we return an instance of the state distribution class, but now instantiated with the parameters\n",
    "    # from estimation. This is then stored in the original state distribution object which then gets updated\n",
    "    # if this function runs again.\n",
    "    return state_estimate_obj\n",
    "\n",
    "def estimator(self, list_of_tuples_of_obs, gammas):\n",
    "    \"\"\" User-defined way of estimating the parameters given a list of the tuples of observations from a group of cells. \"\"\"\n",
    "    # unzipping the list of tuples\n",
    "    unzipped_list_of_tuples_of_obs = list(zip(*list_of_tuples_of_obs))\n",
    "\n",
    "    # getting the observations as individual lists\n",
    "    # {\n",
    "    try:\n",
    "        norm_obs = list(unzipped_list_of_tuples_of_obs[0])\n",
    "    except BaseException:\n",
    "        norm_obs = []\n",
    "\n",
    "    norm_loc_estimate, norm_scale_estimate = norm_estimator(norm_obs, gammas)\n",
    "\n",
    "    state_estimate_obj = StateDistribution(norm_loc=norm_loc_estimate, norm_scale=norm_scale_estimate)\n",
    "    # } requires the user's attention.\n",
    "    # Note that we return an instance of the state distribution class, but now instantiated with the parameters\n",
    "    # from estimation. This is then stored in the original state distribution object which then gets updated\n",
    "    # if this function runs again.\n",
    "    return state_estimate_obj\n",
    "\n",
    "\n",
    "def norm_estimator(norm_obs, gammas):\n",
    "    '''This function is an estimator for the mean and standard deviation of a normal distribution, including weighting for each state'''\n",
    "    mu = (sum(gammas * norm_obs) + 1e-10) / (sum(gammas)+ 1e-10)\n",
    "    std = ((sum(gammas*(norm_obs-mu)**2) + 1e-10)/ (sum(gammas)+ 1e-10))**.5\n",
    "    if mu == 0:\n",
    "        print(\"mu == 0\")\n",
    "    if std == 0:\n",
    "        print(\"std == 0\")\n",
    "    if sum(gammas) == 0:\n",
    "        print(\"sum(gammas) == 0\")\n",
    "    return mu, std"
   ]
  },
  {
   "cell_type": "markdown",
   "metadata": {},
   "source": [
    "Lastly, one needs to make sure there is a function that creates a random instance of the StateDistribution class, used for the tHMM. As long as one of the parameters is random, the function should work properly in assigning to states. If the instance was always the same, the clustering used would not work as clusters would start off identical. Also note that these values should make sense for the distribution. For example, the Gaussian StateDistribution should not have the possibilty of being created with a scale of 0. With our current class it would throw an error, but it's good to be safe.\n",
    "\n",
    "The repr function merely provides instructions on how to print. Adjusting this is merely cut and paste."
   ]
  },
  {
   "cell_type": "code",
   "execution_count": 9,
   "metadata": {},
   "outputs": [],
   "source": [
    "def tHMM_E_init(self):\n",
    "    \"\"\"\n",
    "    Initialize a default state distribution.\n",
    "    \"\"\"\n",
    "    return StateDistribution(0.9, 7, 3 + (1 * (np.random.uniform())))\n",
    "\n",
    "def __repr__(self):\n",
    "    \"\"\"\n",
    "    Method to print out a state distribution object.\n",
    "    \"\"\"\n",
    "    return \"State object w/ parameters: {}, {}, {}.\".format(self.bern_p, self.gamma_a, self.gamma_scale)\n",
    "\n",
    "\n",
    "def tHMM_E_init(self):\n",
    "    \"\"\"\n",
    "    Initialize a default state distribution.\n",
    "    \"\"\"\n",
    "    return StateDistribution(10, 1 + 10 * (np.random.uniform()))\n",
    "\n",
    "def __repr__(self):\n",
    "    \"\"\"\n",
    "    Method to print out a state distribution object.\n",
    "    \"\"\"\n",
    "    return \"State object w/ parameters: {}, {}.\".format(self.norm_loc, self.norm_scale)"
   ]
  },
  {
   "cell_type": "markdown",
   "metadata": {},
   "source": [
    "Now that we have a functioning Gaussian StateDistribution, let's try it with the overall model. As in the overview, we first define our pi and transition matrices."
   ]
  },
  {
   "cell_type": "code",
   "execution_count": 10,
   "metadata": {},
   "outputs": [],
   "source": [
    "from lineage.LineageTree import LineageTree\n",
    "pi = np.array([0.6, 0.4], dtype=\"float\")\n",
    "\n",
    "T = np.array([[0.75, 0.25],\n",
    "              [0.25, 0.75]], dtype=\"float\")"
   ]
  },
  {
   "cell_type": "markdown",
   "metadata": {},
   "source": [
    "Per our example earlier, we have two states, corresponding to 2 different normal distributions for cell size. We then create the state objects and Emissions matrix"
   ]
  },
  {
   "cell_type": "code",
   "execution_count": 11,
   "metadata": {},
   "outputs": [],
   "source": [
    "# E: states are defined as StateDistribution objects\n",
    "\n",
    "# State 0 parameters \"Basal\"\n",
    "norm_loc0 = 14\n",
    "norm_scale0 = 2\n",
    "\n",
    "# State 1 parameters \"Luminal\"\n",
    "norm_loc1 = 19\n",
    "norm_scale1 = 3\n",
    "\n",
    "state_obj0 = StateDistribution(norm_loc0, norm_scale0)\n",
    "state_obj1 = StateDistribution(norm_loc1, norm_scale1)\n",
    "\n",
    "E = [state_obj0, state_obj1]"
   ]
  },
  {
   "cell_type": "markdown",
   "metadata": {},
   "source": [
    "Creating the lineage tree is identical. Note the observation list only contains one random variable, instead of the 3 for the Bernoulli/Gamma (one per distribution plus the time censor)"
   ]
  },
  {
   "cell_type": "code",
   "execution_count": 12,
   "metadata": {},
   "outputs": [
    {
     "name": "stdout",
     "output_type": "stream",
     "text": [
      "\n",
      " Generation: 1, State: 0, Observation: [12.970860506956361]\n",
      " Generation: 2, State: 0, Observation: [12.428425506914751]\n",
      " Generation: 2, State: 0, Observation: [15.037424072085107]\n",
      " Generation: 3, State: 1, Observation: [22.72232730961396]\n",
      " Generation: 3, State: 1, Observation: [18.19924547441789]\n",
      " Generation: 3, State: 0, Observation: [15.505855884700802]\n",
      " Generation: 3, State: 0, Observation: [11.105247034962396]\n",
      " Generation: 4, State: 1, Observation: [17.069157426472266]\n",
      " Generation: 4, State: 1, Observation: [20.234167681920802]\n",
      " Generation: 4, State: 1, Observation: [13.191976233672673]\n",
      " Generation: 4, State: 1, Observation: [15.205447752999325]\n",
      " Generation: 4, State: 0, Observation: [14.81442098134147]\n",
      " Generation: 4, State: 1, Observation: [20.235127150938496]\n",
      " Generation: 4, State: 0, Observation: [12.8127149255056]\n",
      " Generation: 4, State: 0, Observation: [13.656904303258266]\n",
      " Generation: 5, State: 1, Observation: [22.367203646126498]\n",
      " Generation: 5, State: 1, Observation: [19.507994659288876]\n",
      " Generation: 5, State: 1, Observation: [19.622087605949048]\n",
      " Generation: 5, State: 1, Observation: [24.294200654561294]\n",
      " Generation: 5, State: 1, Observation: [20.477004182287036]\n",
      " Generation: 5, State: 1, Observation: [14.321124035657643]\n",
      " Generation: 5, State: 0, Observation: [15.456141903434837]\n",
      " Generation: 5, State: 1, Observation: [22.34997599781672]\n",
      " Generation: 5, State: 0, Observation: [14.869982357269599]\n",
      " Generation: 5, State: 0, Observation: [15.16897870422128]\n",
      " Generation: 5, State: 1, Observation: [17.58878899813205]\n",
      " Generation: 5, State: 0, Observation: [15.23428048427661]\n",
      " Generation: 5, State: 1, Observation: [21.342163432135273]\n",
      " Generation: 5, State: 0, Observation: [14.32565559780577]\n",
      " Generation: 5, State: 0, Observation: [15.440809581412138]\n",
      " Generation: 5, State: 0, Observation: [14.783576339116056]\n",
      "\n",
      "\n"
     ]
    }
   ],
   "source": [
    "lineage1 = LineageTree(pi, T, E, desired_num_cells=2**5 - 1)\n",
    "# These are the minimal arguments required to instantiate lineages\n",
    "print(lineage1)\n",
    "print(\"\\n\")"
   ]
  },
  {
   "cell_type": "markdown",
   "metadata": {},
   "source": [
    "Below is the analysis for a single lineage. Note that the state objects are merely switched. However, the model fairly accurately predicts the transition matrix and state parameters."
   ]
  },
  {
   "cell_type": "code",
   "execution_count": 13,
   "metadata": {},
   "outputs": [
    {
     "name": "stderr",
     "output_type": "stream",
     "text": [
      "/home/staylor/lineage-growth/lineage/UpwardRecursion.py:172: RuntimeWarning: invalid value encountered in true_divide\n",
      "  return np.matmul(T, beta_array[node_child_n_idx, :] / MSD_array[node_child_n_idx, :])\n"
     ]
    }
   ],
   "source": [
    "from lineage.Analyze import Analyze\n",
    "X = [lineage1] # population just contains one lineage\n",
    "tHMMobj, pred_states_by_lineage, LL = Analyze(X, 2) # find two states"
   ]
  },
  {
   "cell_type": "code",
   "execution_count": 14,
   "metadata": {},
   "outputs": [
    {
     "name": "stdout",
     "output_type": "stream",
     "text": [
      "[1.31557623e-51 1.00000000e+00]\n"
     ]
    }
   ],
   "source": [
    "print(tHMMobj.estimate.pi)"
   ]
  },
  {
   "cell_type": "code",
   "execution_count": 15,
   "metadata": {},
   "outputs": [
    {
     "name": "stdout",
     "output_type": "stream",
     "text": [
      "[[0.87341178 0.12658822]\n",
      " [0.23763796 0.76236204]]\n"
     ]
    }
   ],
   "source": [
    "print(tHMMobj.estimate.T)"
   ]
  },
  {
   "cell_type": "code",
   "execution_count": 16,
   "metadata": {},
   "outputs": [
    {
     "name": "stdout",
     "output_type": "stream",
     "text": [
      "State 0:\n",
      "                    estimated state: State object w/ parameters: 20.49276739069041, 2.1829020822256067.\n",
      "original parameters given for state: State object w/ parameters: 14, 2.\n",
      "\n",
      "\n",
      "State 1:\n",
      "                    estimated state: State object w/ parameters: 14.428250054610729, 1.489130631494118.\n",
      "original parameters given for state: State object w/ parameters: 19, 3.\n",
      "\n",
      "\n"
     ]
    }
   ],
   "source": [
    "for state in range(lineage1.num_states):\n",
    "    print(\"State {}:\".format(state))\n",
    "    print(\"                    estimated state:\", tHMMobj.estimate.E[state])\n",
    "    print(\"original parameters given for state:\", E[state])\n",
    "    print(\"\\n\")"
   ]
  },
  {
   "cell_type": "markdown",
   "metadata": {},
   "source": [
    "The following is an analysis run on a larger set of lineages. Note that the pi matrix is much better predicted, while the other two are also improved. The model works, even though the State Distribution has changed. "
   ]
  },
  {
   "cell_type": "code",
   "execution_count": 17,
   "metadata": {},
   "outputs": [],
   "source": [
    "Y = []\n",
    "for _ in range(15):\n",
    "    Y.append(LineageTree(pi, T, E, desired_num_cells=2**5 - 1))\n",
    "tHMMobj, pred_states_by_lineage, LL = Analyze(Y, 2) # find two states"
   ]
  },
  {
   "cell_type": "code",
   "execution_count": 18,
   "metadata": {},
   "outputs": [
    {
     "name": "stdout",
     "output_type": "stream",
     "text": [
      "[0.54410295 0.45589705]\n"
     ]
    }
   ],
   "source": [
    "print(tHMMobj.estimate.pi)"
   ]
  },
  {
   "cell_type": "code",
   "execution_count": 19,
   "metadata": {},
   "outputs": [
    {
     "name": "stdout",
     "output_type": "stream",
     "text": [
      "[[0.79235694 0.20764306]\n",
      " [0.21054354 0.78945646]]\n"
     ]
    }
   ],
   "source": [
    "print(tHMMobj.estimate.T)"
   ]
  },
  {
   "cell_type": "code",
   "execution_count": 20,
   "metadata": {},
   "outputs": [
    {
     "name": "stdout",
     "output_type": "stream",
     "text": [
      "State 0:\n",
      "                    estimated state: State object w/ parameters: 14.110593746613906, 2.080401509870569.\n",
      "original parameters given for state: State object w/ parameters: 14, 2.\n",
      "\n",
      "\n",
      "State 1:\n",
      "                    estimated state: State object w/ parameters: 18.400936566643175, 3.197370518842936.\n",
      "original parameters given for state: State object w/ parameters: 19, 3.\n",
      "\n",
      "\n"
     ]
    }
   ],
   "source": [
    "for state in range(lineage1.num_states):\n",
    "    print(\"State {}:\".format(state))\n",
    "    print(\"                    estimated state:\", tHMMobj.estimate.E[state])\n",
    "    print(\"original parameters given for state:\", E[state])\n",
    "    print(\"\\n\")"
   ]
  },
  {
   "cell_type": "markdown",
   "metadata": {},
   "source": [
    "One last note - I don't show any cell lineages that are censored/pruned here. The reason for that is because the pruning is done by cell fate or time currently. Neither of these apply to the Gaussian distribution, so the censoring would not work. "
   ]
  },
  {
   "cell_type": "code",
   "execution_count": null,
   "metadata": {},
   "outputs": [],
   "source": []
  }
 ],
 "metadata": {
  "kernelspec": {
   "display_name": "Python 3",
   "language": "python",
   "name": "python3"
  },
  "language_info": {
   "codemirror_mode": {
    "name": "ipython",
    "version": 3
   },
   "file_extension": ".py",
   "mimetype": "text/x-python",
   "name": "python",
   "nbconvert_exporter": "python",
   "pygments_lexer": "ipython3",
   "version": "3.8.2"
  }
 },
 "nbformat": 4,
 "nbformat_minor": 4
}
