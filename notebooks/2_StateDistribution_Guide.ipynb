{
 "cells": [
  {
   "cell_type": "code",
   "execution_count": 1,
   "metadata": {},
   "outputs": [
    {
     "data": {
      "text/plain": [
       "'/home/staylor/lineage-growth/notebooks'"
      ]
     },
     "execution_count": 1,
     "metadata": {},
     "output_type": "execute_result"
    }
   ],
   "source": [
    "######################################################\n",
    "#                RUN THIS CODE BLOCK                 #\n",
    "#     THIS CODE BLOCK DOES NOT NEED TO BE EDITED     #\n",
    "#  DO NOT CHANGE UNLESS YOU KNOW WHAT YOU'RE DOING!! #\n",
    "######################################################s\n",
    "# Use this code block and the following to make sure you're outside the notebooks folder.\n",
    "# This will avoid any import errors.\n",
    "# You'll want the directory to be changed to the same directory containing the\n",
    "# makefile, the README.md file, and the lineage folder.\n",
    "# If this is the first time you're running this notebook or if you've recently restarted the\n",
    "# kernel of this notebook, then %pwd should return that you're in the notebooks folder.\n",
    "%pwd\n",
    "######################################################\n",
    "#                RUN THIS CODE BLOCK                 #\n",
    "#     THIS CODE BLOCK DOES NOT NEED TO BE EDITED     #\n",
    "#  DO NOT CHANGE UNLESS YOU KNOW WHAT YOU'RE DOING!! #\n",
    "######################################################"
   ]
  },
  {
   "cell_type": "code",
   "execution_count": 2,
   "metadata": {},
   "outputs": [
    {
     "name": "stdout",
     "output_type": "stream",
     "text": [
      "/home/staylor/lineage-growth\n"
     ]
    },
    {
     "data": {
      "text/plain": [
       "['~/lineage-growth/notebooks']"
      ]
     },
     "execution_count": 2,
     "metadata": {},
     "output_type": "execute_result"
    }
   ],
   "source": [
    "######################################################\n",
    "#                RUN THIS CODE BLOCK                 #\n",
    "#     THIS CODE BLOCK DOES NOT NEED TO BE EDITED     #\n",
    "#  DO NOT CHANGE UNLESS YOU KNOW WHAT YOU'RE DOING!! #\n",
    "######################################################\n",
    "# If the above isn't saying that you're in the notebooks folder, \n",
    "# then there's no need to worry. The following code will automatically\n",
    "# identify where you've installed the lineage-growth repository and the \n",
    "# lineage repository. It will then automatically move you to outside the \n",
    "# notebooks folder to ensure that the rest of the code in the notebook \n",
    "# works.\n",
    "tHMM_loc = !find ~ -name \"tHMM.py\" -printf '%h' | sort -u \n",
    "lineage_growth_repo = f\"{tHMM_loc[0]}/..\";\n",
    "%pushd $lineage_growth_repo\n",
    "# Note that pushd keeps a stack of directories before changing directories\n",
    "# and the list that is returned is the stack of directories. You might see that\n",
    "# the stack contains the notebooks directory, because that was our last working\n",
    "# directory.\n",
    "######################################################\n",
    "#                RUN THIS CODE BLOCK                 #\n",
    "#     THIS CODE BLOCK DOES NOT NEED TO BE EDITED     #\n",
    "#  DO NOT CHANGE UNLESS YOU KNOW WHAT YOU'RE DOING!! #\n",
    "######################################################"
   ]
  },
  {
   "cell_type": "code",
   "execution_count": 6,
   "metadata": {},
   "outputs": [],
   "source": [
    "\"\"\" This file is completely user defined. We have provided a general starting point for the user to use as an example. \"\"\"\n",
    "import numpy as np\n",
    "import scipy.stats as sp\n",
    "\n",
    "\n",
    "\n",
    "class StateDistribution:\n",
    "    def __init__(self, norm_loc, norm_scale):\n",
    "        \"\"\" Initialization function should take in just in the parameters for the observations that comprise the multivariate random variable emission they expect their data to have. \"\"\"\n",
    "        self.norm_loc = norm_loc\n",
    "        self.norm_scale = norm_scale\n",
    "        self.params = [self.norm_loc, self.norm_scale]\n",
    "\n",
    "    def rvs(self, size):  # user has to identify what the multivariate (or univariate if he or she so chooses) random variable looks like\n",
    "        \"\"\" User-defined way of calculating a random variable given the parameters of the state stored in that observation's object. \"\"\"\n",
    "        # {\n",
    "        norm_obs = sp.norm.rvs(loc=self.norm_loc, scale=self.norm_scale, size=size)  # normal observations\n",
    "        #time_censor = [1] * len(gamma_obs)  # 1 if observed\n",
    "        # } is user-defined in that they have to define and maintain the order of the multivariate random variables.\n",
    "        # These tuples of observations will go into the cells in the lineage tree.\n",
    "        list_of_tuple_of_obs = list(map(list, zip(norm_obs)))\n",
    "        return list_of_tuple_of_obs\n",
    "\n",
    "    def pdf(self, tuple_of_obs):  # user has to define how to calculate the likelihood\n",
    "        \"\"\" User-defined way of calculating the likelihood of the observation stored in a cell. \"\"\"\n",
    "        # In the case of a univariate observation, the user still has to define how the likelihood is calculated,\n",
    "        # but has the ability to just return the output of a known scipy.stats.<distribution>.<{pdf,pmf}> function.\n",
    "        # In the case of a multivariate observation, the user has to decide how the likelihood is calculated.\n",
    "        # In our example, we assume the observation's are uncorrelated across the dimensions (across the different\n",
    "        # distribution observations), so the likelihood of observing the multivariate observation is just the product of\n",
    "        # the individual observation likelihoods.\n",
    "\n",
    "        norm_ll = sp.norm.pdf(tuple_of_obs[0], self.norm_loc, self.norm_scale)\n",
    "\n",
    "        return norm_ll\n",
    "\n",
    "    def estimator(self, list_of_tuples_of_obs, gammas):\n",
    "        \"\"\" User-defined way of estimating the parameters given a list of the tuples of observations from a group of cells. \"\"\"\n",
    "        # unzipping the list of tuples\n",
    "        unzipped_list_of_tuples_of_obs = list(zip(*list_of_tuples_of_obs))\n",
    "\n",
    "        # getting the observations as individual lists\n",
    "        # {\n",
    "        try:\n",
    "            norm_obs = list(unzipped_list_of_tuples_of_obs[0])\n",
    "        except BaseException:\n",
    "            norm_obs = []\n",
    "\n",
    "        norm_loc_estimate, norm_scale_estimate = norm_estimator(norm_obs, gammas)\n",
    "\n",
    "        state_estimate_obj = StateDistribution(norm_loc=norm_loc_estimate, norm_scale=norm_scale_estimate)\n",
    "        # } requires the user's attention.\n",
    "        # Note that we return an instance of the state distribution class, but now instantiated with the parameters\n",
    "        # from estimation. This is then stored in the original state distribution object which then gets updated\n",
    "        # if this function runs again.\n",
    "        return state_estimate_obj\n",
    "\n",
    "    def tHMM_E_init(self):\n",
    "        \"\"\"\n",
    "        Initialize a default state distribution.\n",
    "        \"\"\"\n",
    "        return StateDistribution(0, 1 * (np.random.uniform()))\n",
    "\n",
    "    def __repr__(self):\n",
    "        \"\"\"\n",
    "        Method to print out a state distribution object.\n",
    "        \"\"\"\n",
    "        return \"State object w/ parameters: {}, {}, {}.\".format(self.norm_loc, self.norm_scale)\n",
    "\n",
    "\n",
    "# Because parameter estimation requires that estimators be written or imported,\n",
    "# the user should be able to provide\n",
    "# estimators that can solve for the parameters that describe the distributions.\n",
    "# We provide some estimators below as an example.\n",
    "# Their use in the StateDistribution class is shown in the estimator class method.\n",
    "# User must take care to define estimators that\n",
    "# can handle the case where the list of observations is empty.\n",
    "\n",
    "\n",
    "def norm_estimator(norm_obs, gammas):\n",
    "    '''This function is an estimator for the mean and standard deviation of a normal distribution, including weighting for each state'''\n",
    "    mu = (sum(gammas*norm_obs)/sum(gammas))\n",
    "    std = sum(gammas*(norm_obs-mu)**2)/sum(gammas)\n",
    "    \n",
    "    return mu, std\n",
    "\n",
    "\n"
   ]
  },
  {
   "cell_type": "code",
   "execution_count": 7,
   "metadata": {},
   "outputs": [],
   "source": [
    "from lineage.LineageTree import LineageTree\n",
    "pi = np.array([0.6, 0.4], dtype=\"float\")\n",
    "\n",
    "T = np.array([[0.75, 0.25],\n",
    "              [0.25, 0.75]], dtype=\"float\")"
   ]
  },
  {
   "cell_type": "code",
   "execution_count": 8,
   "metadata": {},
   "outputs": [],
   "source": [
    "# E: states are defined as StateDistribution objects\n",
    "\n",
    "# State 0 parameters \"Small\"\n",
    "norm_loc0 = 13\n",
    "norm_scale0 = 2.5\n",
    "\n",
    "# State 1 parameters \"Large\"\n",
    "norm_loc1 = 18\n",
    "norm_scale1 = 4\n",
    "\n",
    "state_obj0 = StateDistribution(norm_loc0, norm_scale0)\n",
    "state_obj1 = StateDistribution(norm_loc1, norm_scale1)\n",
    "\n",
    "E = [state_obj0, state_obj1]"
   ]
  },
  {
   "cell_type": "code",
   "execution_count": 9,
   "metadata": {},
   "outputs": [
    {
     "ename": "IndexError",
     "evalue": "list index out of range",
     "output_type": "error",
     "traceback": [
      "\u001b[0;31m---------------------------------------------------------------------------\u001b[0m",
      "\u001b[0;31mIndexError\u001b[0m                                Traceback (most recent call last)",
      "\u001b[0;32m<ipython-input-9-d893f3d1725a>\u001b[0m in \u001b[0;36m<module>\u001b[0;34m\u001b[0m\n\u001b[0;32m----> 1\u001b[0;31m \u001b[0mlineage1\u001b[0m \u001b[0;34m=\u001b[0m \u001b[0mLineageTree\u001b[0m\u001b[0;34m(\u001b[0m\u001b[0mpi\u001b[0m\u001b[0;34m,\u001b[0m \u001b[0mT\u001b[0m\u001b[0;34m,\u001b[0m \u001b[0mE\u001b[0m\u001b[0;34m,\u001b[0m \u001b[0mdesired_num_cells\u001b[0m\u001b[0;34m=\u001b[0m\u001b[0;36m2\u001b[0m\u001b[0;34m**\u001b[0m\u001b[0;36m5\u001b[0m \u001b[0;34m-\u001b[0m \u001b[0;36m1\u001b[0m\u001b[0;34m)\u001b[0m\u001b[0;34m\u001b[0m\u001b[0;34m\u001b[0m\u001b[0m\n\u001b[0m\u001b[1;32m      2\u001b[0m \u001b[0;31m# These are the minimal arguments required to instantiate lineages\u001b[0m\u001b[0;34m\u001b[0m\u001b[0;34m\u001b[0m\u001b[0;34m\u001b[0m\u001b[0m\n\u001b[1;32m      3\u001b[0m \u001b[0mprint\u001b[0m\u001b[0;34m(\u001b[0m\u001b[0mlineage1\u001b[0m\u001b[0;34m)\u001b[0m\u001b[0;34m\u001b[0m\u001b[0;34m\u001b[0m\u001b[0m\n\u001b[1;32m      4\u001b[0m \u001b[0mprint\u001b[0m\u001b[0;34m(\u001b[0m\u001b[0;34m\"\\n\"\u001b[0m\u001b[0;34m)\u001b[0m\u001b[0;34m\u001b[0m\u001b[0;34m\u001b[0m\u001b[0m\n",
      "\u001b[0;32m~/lineage-growth/lineage/LineageTree.py\u001b[0m in \u001b[0;36m__init__\u001b[0;34m(self, pi, T, E, desired_num_cells, censor_condition, **kwargs)\u001b[0m\n\u001b[1;32m     60\u001b[0m         \u001b[0mself\u001b[0m\u001b[0;34m.\u001b[0m\u001b[0mfull_leaves_idx\u001b[0m\u001b[0;34m,\u001b[0m \u001b[0mself\u001b[0m\u001b[0;34m.\u001b[0m\u001b[0mfull_leaves\u001b[0m \u001b[0;34m=\u001b[0m \u001b[0mget_leaves\u001b[0m\u001b[0;34m(\u001b[0m\u001b[0mself\u001b[0m\u001b[0;34m.\u001b[0m\u001b[0mfull_lineage\u001b[0m\u001b[0;34m)\u001b[0m\u001b[0;34m\u001b[0m\u001b[0;34m\u001b[0m\u001b[0m\n\u001b[1;32m     61\u001b[0m \u001b[0;34m\u001b[0m\u001b[0m\n\u001b[0;32m---> 62\u001b[0;31m         \u001b[0massign_times\u001b[0m\u001b[0;34m(\u001b[0m\u001b[0mself\u001b[0m\u001b[0;34m)\u001b[0m\u001b[0;34m\u001b[0m\u001b[0;34m\u001b[0m\u001b[0m\n\u001b[0m\u001b[1;32m     63\u001b[0m \u001b[0;34m\u001b[0m\u001b[0m\n\u001b[1;32m     64\u001b[0m         \u001b[0;31m# Begin censoring:\u001b[0m\u001b[0;34m\u001b[0m\u001b[0;34m\u001b[0m\u001b[0;34m\u001b[0m\u001b[0m\n",
      "\u001b[0;32m~/lineage-growth/lineage/states/stateCommon.py\u001b[0m in \u001b[0;36massign_times\u001b[0;34m(lineageObj)\u001b[0m\n\u001b[1;32m     49\u001b[0m             \u001b[0;32mfor\u001b[0m \u001b[0mcell\u001b[0m \u001b[0;32min\u001b[0m \u001b[0mlevel\u001b[0m\u001b[0;34m:\u001b[0m\u001b[0;34m\u001b[0m\u001b[0;34m\u001b[0m\u001b[0m\n\u001b[1;32m     50\u001b[0m                 \u001b[0;32massert\u001b[0m \u001b[0mcell\u001b[0m\u001b[0;34m.\u001b[0m\u001b[0misRootParent\u001b[0m\u001b[0;34m(\u001b[0m\u001b[0;34m)\u001b[0m\u001b[0;34m\u001b[0m\u001b[0;34m\u001b[0m\u001b[0m\n\u001b[0;32m---> 51\u001b[0;31m                 \u001b[0mcell\u001b[0m\u001b[0;34m.\u001b[0m\u001b[0mtime\u001b[0m \u001b[0;34m=\u001b[0m \u001b[0mTime\u001b[0m\u001b[0;34m(\u001b[0m\u001b[0;36m0\u001b[0m\u001b[0;34m,\u001b[0m \u001b[0mcell\u001b[0m\u001b[0;34m.\u001b[0m\u001b[0mobs\u001b[0m\u001b[0;34m[\u001b[0m\u001b[0;36m1\u001b[0m\u001b[0;34m]\u001b[0m\u001b[0;34m)\u001b[0m\u001b[0;34m\u001b[0m\u001b[0;34m\u001b[0m\u001b[0m\n\u001b[0m\u001b[1;32m     52\u001b[0m         \u001b[0;32melse\u001b[0m\u001b[0;34m:\u001b[0m\u001b[0;34m\u001b[0m\u001b[0;34m\u001b[0m\u001b[0m\n\u001b[1;32m     53\u001b[0m             \u001b[0;32mfor\u001b[0m \u001b[0mcell\u001b[0m \u001b[0;32min\u001b[0m \u001b[0mlevel\u001b[0m\u001b[0;34m:\u001b[0m\u001b[0;34m\u001b[0m\u001b[0;34m\u001b[0m\u001b[0m\n",
      "\u001b[0;31mIndexError\u001b[0m: list index out of range"
     ]
    }
   ],
   "source": [
    "lineage1 = LineageTree(pi, T, E, desired_num_cells=2**5 - 1)\n",
    "# These are the minimal arguments required to instantiate lineages\n",
    "print(lineage1)\n",
    "print(\"\\n\")"
   ]
  },
  {
   "cell_type": "code",
   "execution_count": null,
   "metadata": {},
   "outputs": [],
   "source": []
  }
 ],
 "metadata": {
  "kernelspec": {
   "display_name": "Python 3",
   "language": "python",
   "name": "python3"
  },
  "language_info": {
   "codemirror_mode": {
    "name": "ipython",
    "version": 3
   },
   "file_extension": ".py",
   "mimetype": "text/x-python",
   "name": "python",
   "nbconvert_exporter": "python",
   "pygments_lexer": "ipython3",
   "version": "3.8.2"
  }
 },
 "nbformat": 4,
 "nbformat_minor": 4
}
