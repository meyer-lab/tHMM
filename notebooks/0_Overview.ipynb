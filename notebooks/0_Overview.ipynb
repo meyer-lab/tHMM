{
 "cells": [
  {
   "cell_type": "code",
   "execution_count": 1,
   "metadata": {},
   "outputs": [
    {
     "data": {
      "text/plain": [
       "'/home/shakthi/Projects/CAPSTONE/notebooks'"
      ]
     },
     "execution_count": 1,
     "metadata": {},
     "output_type": "execute_result"
    }
   ],
   "source": [
    "######################################################\n",
    "#                RUN THIS CODE BLOCK                 #\n",
    "#     THIS CODE BLOCK DOES NOT NEED TO BE EDITED     #\n",
    "#  DO NOT CHANGE UNLESS YOU KNOW WHAT YOU'RE DOING!! #\n",
    "######################################################\n",
    "# Use this code block and the following to make sure you're outside the notebooks folder.\n",
    "# This will avoid any import errors.\n",
    "# You'll want the directory to be changed to the same directory containing the\n",
    "# makefile, the README.md file, and the lineage folder.\n",
    "# If this is the first time you're running this notebook or if you've recently restarted the\n",
    "# kernel of this notebook, then %pwd should return that you're in the notebooks folder.\n",
    "%pwd\n",
    "######################################################\n",
    "#                RUN THIS CODE BLOCK                 #\n",
    "#     THIS CODE BLOCK DOES NOT NEED TO BE EDITED     #\n",
    "#  DO NOT CHANGE UNLESS YOU KNOW WHAT YOU'RE DOING!! #\n",
    "######################################################"
   ]
  },
  {
   "cell_type": "code",
   "execution_count": 2,
   "metadata": {},
   "outputs": [
    {
     "name": "stdout",
     "output_type": "stream",
     "text": [
      "/home/shakthi/Projects/CAPSTONE\n"
     ]
    },
    {
     "data": {
      "text/plain": [
       "['~/Projects/CAPSTONE/notebooks']"
      ]
     },
     "execution_count": 2,
     "metadata": {},
     "output_type": "execute_result"
    }
   ],
   "source": [
    "######################################################\n",
    "#                RUN THIS CODE BLOCK                 #\n",
    "#     THIS CODE BLOCK DOES NOT NEED TO BE EDITED     #\n",
    "#  DO NOT CHANGE UNLESS YOU KNOW WHAT YOU'RE DOING!! #\n",
    "######################################################\n",
    "# If the above isn't saying that you're in the notebooks folder, \n",
    "# then there's no need to worry. The following code will automatically\n",
    "# identify where you've installed the lineage-growth repository and the \n",
    "# lineage repository. It will then automatically move you to outside the \n",
    "# notebooks folder to ensure that the rest of the code in the notebook \n",
    "# works.\n",
    "tHMM_loc = !find ~ -name \"tHMM.py\" -printf '%h' | sort -u \n",
    "lineage_growth_repo = f\"{tHMM_loc[0]}/..\";\n",
    "%pushd $lineage_growth_repo\n",
    "# Note that pushd keeps a stack of directories before changing directories\n",
    "# and the list that is returned is the stack of directories. You might see that\n",
    "# the stack contains the notebooks directory, because that was our last working\n",
    "# directory.\n",
    "######################################################\n",
    "#                RUN THIS CODE BLOCK                 #\n",
    "#     THIS CODE BLOCK DOES NOT NEED TO BE EDITED     #\n",
    "#  DO NOT CHANGE UNLESS YOU KNOW WHAT YOU'RE DOING!! #\n",
    "######################################################"
   ]
  },
  {
   "cell_type": "markdown",
   "metadata": {},
   "source": [
    "# __Overview__: A guide to the tree-hidden Markov model for analyzing heterogeneous cell lineages\n",
    "\n",
    "### Authors: Shakthi Visagan, Farnaz Mohammadi, Nikan Namiri, Adam Wiener, Ali Farhat, Alex Lim, JC Lagarde, and Aaron Meyer, PhD"
   ]
  },
  {
   "cell_type": "markdown",
   "metadata": {},
   "source": [
    "#### We present a model to analyze populations of heterogeneous lineages, that is, lineages containing objects that belong to different states and can be clustered according to their different states. In particular, we study lineages of cells that present heterogeneous behaviour and observations. Some examples of possible input to our model are lineages of cells in a developmental sequence that start as undifferentiated stem cells and end up as clusters of differentiated cells or lineages of cells in a cancerous population rapidly differentiating over time growing resistance to different chemotherapies. We also present a way to computationally synthesize such populations. \n",
    "\n",
    "#### We first introduce how to synthesize these populations by working up from the basic unit, cells. We then introduce how to synthesize lineages, which are just hierarchical lineage tree groupings of cells based on their family history. Our model ultimately analyzes populations which are groups of one or more lineages that share the same states."
   ]
  },
  {
   "cell_type": "markdown",
   "metadata": {},
   "source": [
    "---"
   ]
  },
  {
   "cell_type": "markdown",
   "metadata": {},
   "source": [
    "## 1. Synthesizing Cells"
   ]
  },
  {
   "cell_type": "markdown",
   "metadata": {},
   "source": [
    "Users will rarely ever have to create individual cells, but their functionality is presented so the user is familiar with them. Users will however, create lineages, and as such, they will have to become comfortable with creating transition matrices using `numpy`. Transition matrices define the probabilities of how cells will divide. Cells can only be made (new cells as a result of an existing cell dividing) when given a transition matrix. We provide an example below. \n",
    "\n",
    "The transition matrix defines the rate at which cells are likely to change from one state to another. We use the defintion of a stochastic transition rate matrix from Wikipedia, that is, the column index defines the state in which we start, and the row defines the state at which we end up. That is, if an element at the index of a transition matrix $T$ at row $i$ and at column $j$, is defined as $T_{i,j}$, then $$T_{i,j} = \\mathbb{P}(z = j | z = i).$$ Indexing for this matrix and the states starts at $0$. Usually the number of states is represented as the capital letter $K$ and indexed by the lower-case letter $k$. For most of our examples, we will deal with two states, i.e., $K=2$."
   ]
  },
  {
   "cell_type": "code",
   "execution_count": 3,
   "metadata": {},
   "outputs": [],
   "source": [
    "import numpy as np\n",
    "# The capital letter T will represent the transition matrix.\n",
    "# This transition matrix, in particular, is the two-dimensional \n",
    "# identity matrix. Recall that the elements of the transition matrix\n",
    "# represent the probability of transitioning from one state to another.\n",
    "T = np.array([[1.0, 0.0],\n",
    "              [0.0, 1.0]],  dtype=\"float\")\n",
    "# This identity matrix implies that there are no transitions between cells of\n",
    "# state 0 to cells of state 1. It also implies that there are no transitions \n",
    "# between cells of state 1 to cells of state 0.\n",
    "# Another transition matrix could be the following:\n",
    "#\n",
    "# T = np.array([[0.75, 0.25],\n",
    "#               [0.15, 0.85]], dtype=\"float\")\n",
    "#\n",
    "# Note that the rows of the transition matrix have to sum one because of the\n",
    "# Law of Total Probability and the Law of Conditional Probability. This will be\n",
    "# expanded on in a later notebook."
   ]
  },
  {
   "cell_type": "markdown",
   "metadata": {},
   "source": [
    "Cells are defined by their state, their relationships to other cells, and collections of observations. Knowing how to create cells, however, is not required by the user. It is beneficial to understand how the `CellVar` class is designed to create objects that store a `state`, its relationships (`left`, `right`, `parent`) to other cells, and its multivariate observations (`obs`). When cells are created via the `member` function, their familiar relationships are automatically assigned. The two daughters are assigned to `left` and `right` and for the daughters, the parent is assigned to `parent`. Other familiar relationships can be accessed through other member variables and functions. Note that the first generation is empty (we can see this because the `parent_cell` is instantiated with `parent=None` and with `gen=1` which means that `gen=0` of the lineage contains nothing except `None`). As such, indexing for generations of lineages starts at `1`. We will discuss more about the multivariate observations that cells store later; for now, the following exercises will focus on the transition matrix and the familiar relationships of cells."
   ]
  },
  {
   "cell_type": "code",
   "execution_count": 4,
   "metadata": {},
   "outputs": [],
   "source": [
    "from lineage.CellVar import CellVar as c, double\n",
    "# Question 3 will focus on the code written here.\n",
    "parent_cell = c(state=0, left=None, right=None, parent=None, gen=1)\n",
    "left_cell, right_cell = parent_cell.divide(T)"
   ]
  },
  {
   "cell_type": "markdown",
   "metadata": {},
   "source": [
    "---"
   ]
  },
  {
   "cell_type": "markdown",
   "metadata": {},
   "source": [
    "QUESTION 1: \n",
    "\n",
    "The transition matrix above is the two-dimensional Identity matrix. What does this imply about the transitions between cells that follow this transition process? Are there any transitions that go from state $1$ to state $0$, what about from state $0$ to state $1$? Show that you're correct by printing out the states of all the cells involved. Write your answer and code below. Find the probability of transitioning from state $0$ to state $0$, by accessing the element of the transition rate matrix that represents this."
   ]
  },
  {
   "cell_type": "code",
   "execution_count": null,
   "metadata": {},
   "outputs": [],
   "source": []
  },
  {
   "cell_type": "code",
   "execution_count": null,
   "metadata": {},
   "outputs": [],
   "source": []
  },
  {
   "cell_type": "code",
   "execution_count": null,
   "metadata": {},
   "outputs": [],
   "source": []
  },
  {
   "cell_type": "markdown",
   "metadata": {},
   "source": [
    "ANSWER 1:"
   ]
  },
  {
   "cell_type": "code",
   "execution_count": 5,
   "metadata": {},
   "outputs": [
    {
     "name": "stdout",
     "output_type": "stream",
     "text": [
      "\n",
      " Generation: 1, State: 0, Observation: []\n",
      "\n",
      " Generation: 2, State: 0, Observation: This cell has no observations to report. \n",
      " Generation: 2, State: 0, Observation: This cell has no observations to report.\n",
      "\n",
      "The value of the element at (0,0) of the transition rate matrix is 1.0\n"
     ]
    }
   ],
   "source": [
    "# The transition matrix being the identity matrix implies that the cells never transition between \n",
    "# different states because the probability of doing so is 0.\n",
    "# The parent cell is state 0, so the daughters should also be state 0, because the probability of transitioning\n",
    "# from state 0 to state 0 is 1.\n",
    "\n",
    "print(parent_cell)\n",
    "print(left_cell, right_cell)\n",
    "print(f\"\\nThe value of the element at (0,0) of the transition rate matrix is {T[0,0]},\")"
   ]
  },
  {
   "cell_type": "markdown",
   "metadata": {},
   "source": [
    "---"
   ]
  },
  {
   "cell_type": "markdown",
   "metadata": {},
   "source": [
    "QUESTION 2: \n",
    "\n",
    "The `gen` argument for instantiating cells represents the generation of the cell. Are generations in the tHMM / lineage-growth codebase `0`-indexed or `1`-indexed? (Do the generations of cell lineages start at `0` or `1`?) Write your answer below."
   ]
  },
  {
   "cell_type": "code",
   "execution_count": null,
   "metadata": {},
   "outputs": [],
   "source": []
  },
  {
   "cell_type": "code",
   "execution_count": null,
   "metadata": {},
   "outputs": [],
   "source": []
  },
  {
   "cell_type": "code",
   "execution_count": null,
   "metadata": {},
   "outputs": [],
   "source": []
  },
  {
   "cell_type": "markdown",
   "metadata": {},
   "source": [
    "ANSWER 2:"
   ]
  },
  {
   "cell_type": "code",
   "execution_count": 18,
   "metadata": {},
   "outputs": [],
   "source": [
    "# The generations of cells start at 1. The 0-generation of a lineage contains the None."
   ]
  },
  {
   "cell_type": "markdown",
   "metadata": {},
   "source": [
    "---"
   ]
  },
  {
   "cell_type": "markdown",
   "metadata": {},
   "source": [
    "QUESTION 3: \n",
    "\n",
    "`parent_cell`, `left_cell`, and `right_cell` define a 3 cell lineage, with 2 generations. The first generation has one cell which was declared and can be accessed at `parent_cell`. Calling the member function `_divide` on `parent_cell` created two new cells which can be accessed at `left_cell` and `right_cell`. The daughter cells of any cell can also ALWAYS be accessed using \"dot\" notation, using the member variables, `left` and `right`. Note that the division process utilizes the transition matrix. Our code provides some very basic printing methods to print out cells. Verify that the object stored at the `left_cell` and `right_cell` variables are the same as the object referenced at `parent_cell.left` and `parent_cell.right` by printing out these variables or using `assert` statements."
   ]
  },
  {
   "cell_type": "code",
   "execution_count": null,
   "metadata": {},
   "outputs": [],
   "source": []
  },
  {
   "cell_type": "code",
   "execution_count": null,
   "metadata": {},
   "outputs": [],
   "source": []
  },
  {
   "cell_type": "code",
   "execution_count": null,
   "metadata": {},
   "outputs": [],
   "source": []
  },
  {
   "cell_type": "markdown",
   "metadata": {},
   "source": [
    "ANSWER 3:"
   ]
  },
  {
   "cell_type": "code",
   "execution_count": 19,
   "metadata": {},
   "outputs": [],
   "source": [
    "# Use the `is` keyword to compare Python objects.\n",
    "assert left_cell is parent_cell.left\n",
    "assert right_cell is parent_cell.right"
   ]
  },
  {
   "cell_type": "markdown",
   "metadata": {},
   "source": [
    "---"
   ]
  },
  {
   "cell_type": "markdown",
   "metadata": {},
   "source": [
    "QUESTION 4:\n",
    "\n",
    "Check that `left_cell.parent` and `right_cell.parent` are equivalent to `parent_cell` by printing the cells out, just as you did in QUESTION 3."
   ]
  },
  {
   "cell_type": "code",
   "execution_count": null,
   "metadata": {},
   "outputs": [],
   "source": []
  },
  {
   "cell_type": "code",
   "execution_count": null,
   "metadata": {},
   "outputs": [],
   "source": []
  },
  {
   "cell_type": "code",
   "execution_count": null,
   "metadata": {},
   "outputs": [],
   "source": []
  },
  {
   "cell_type": "markdown",
   "metadata": {},
   "source": [
    "ANSWER 4:"
   ]
  },
  {
   "cell_type": "code",
   "execution_count": 20,
   "metadata": {},
   "outputs": [],
   "source": [
    "assert left_cell.parent is right_cell.parent is parent_cell"
   ]
  },
  {
   "cell_type": "markdown",
   "metadata": {},
   "source": [
    "---"
   ]
  },
  {
   "cell_type": "markdown",
   "metadata": {},
   "source": [
    "## 2. Creating a synthetic lineage"
   ]
  },
  {
   "cell_type": "code",
   "execution_count": 6,
   "metadata": {},
   "outputs": [],
   "source": [
    "from lineage.LineageTree import LineageTree\n",
    "from lineage.states.StateDistribution import StateDistribution"
   ]
  },
  {
   "cell_type": "markdown",
   "metadata": {},
   "source": [
    "#### Defining the $\\pi$ initial probability vector and $T$ stochastic transition rate matrix"
   ]
  },
  {
   "cell_type": "markdown",
   "metadata": {},
   "source": [
    "Before, we \"hard-coded\" that the first cell in our lineage should be state $0$. In a Markov model, this first state (the state of the root cell), like the states of the daughter cells, are probabilistically expressed. These probabilities are stored in the $\\pi$ initial probability vector. In particular, if an element of the initial probability vector , $\\pi$, at index $i$, is defined as $\\pi_{i}$, then $$\\pi_{i}=\\mathbb{P}(z_{0}=i).$$ We require for $\\pi$ a $K\\times 1$ list of probabilities. These probabilities must add up to $1$ and they should be either in a $1$-dimensional list or a $1$-dimensional numpy array. An example is shown below."
   ]
  },
  {
   "cell_type": "code",
   "execution_count": 22,
   "metadata": {},
   "outputs": [],
   "source": [
    "# pi: the initial probability vector\n",
    "pi = np.array([0.6, 0.4], dtype=\"float\")\n",
    "# Recall that this means that the first cell in our lineage in generation 1 \n",
    "# has a 60% change of being state 0 and a 40% chance of being state 1.\n",
    "# The values of this vector have to add up to 1 because of the \n",
    "# Law of Total Probability.\n",
    "\n",
    "# T: transition probability matrix\n",
    "T = np.array([[0.75, 0.25],\n",
    "              [0.15, 0.85]], dtype=\"float\")"
   ]
  },
  {
   "cell_type": "markdown",
   "metadata": {},
   "source": [
    "#### Defining the $E$ emissions matrix using state distributions"
   ]
  },
  {
   "cell_type": "markdown",
   "metadata": {},
   "source": [
    "The emission matrix $E$ is a little more complicated to define because this is where the user has complete freedom in defining what type of observation they care about. In particular, the user has to first begin with defining what physical observation they will want to extract from images of their cells, or test on synthetically created lineages. For example, if one is observing kinematics or physics, they might want to use the Gaussian distribution parameterized by a mean and covariance to model their observations (velocity, acceleration, etc.). If one wanted to model lifetimes of cell, one could utilize one of many of the exponential distributions with a nonnegative support to define time.\n",
    "\n",
    "Ultimately, the user needs to provide three things based on the phenotype they wish to observe, model, and predict:\n",
    "\n",
    "1. a probability distribution function: a function that returns a likelihood when given a sample and parameters describing the distribution\n",
    "2. a random variable: a function that returns samples from the distribution when given parameters describing the distribution\n",
    "3. a estimator: a function that returns parameters that describe a distribution when given samples \n",
    "\n",
    "These three things fundamentally define a multivariate probability distribution\n",
    "\n",
    "An optional boolean function can be provided to \"prune\" or \"censor\" cells based on the observation. In our example, cells with a Bernoulli observation of $0$, which implies that the cell died, are pruned from the tree. Another prune rule we've implemented is removing cells that were born after an experimental time.\n",
    "\n",
    "We have already built, as an example, and as bioengineers interested in studying cancer cell heterogeneity, a model that resembles lineage trees of cancer cells. In our synthetic model, our emissions are multivariate. This first emission is a Bernoulli observation, $0$ implying death and $1$ implying division. The second emission is continuous and are gamma distributed. Though these can be thought of cell lifetimes or periods in a certain cell phase, we want the user to know that these values can really mean anything and they are completely free in choosing what the emissions and their values mean. We provide, as mentioned above, a probability distribution function that takes in as input multivariate samples, a Bernoulli rate parameter, and three parameters that define the gamma distribution, and returns a likelihood. We also define a random variable that takes in a Bernoulli parameter and three gamma parameters and returns multivariate samples. We also define estimators for these observations as well. Finally, we also define a prune rule, as explained previously.\n",
    "\n",
    "\n",
    "Ultimately, $E$ is defined as a $k\\times 1$ size list of state distribution objects. These distribution objects are rich in what they can already do, and a user can easily add more to their functionality. They only need to be instantiated by what parameters define that state's distribution."
   ]
  },
  {
   "cell_type": "code",
   "execution_count": 8,
   "metadata": {},
   "outputs": [],
   "source": [
    "# E: states are defined as StateDistribution objects\n",
    "\n",
    "# State 0 parameters \"Resistant\"\n",
    "bern_p0 = 0.99\n",
    "gamma_a0 = 20\n",
    "gamma_scale0 = 5\n",
    "\n",
    "# State 1 parameters \"Susceptible\"\n",
    "bern_p1 = 0.88\n",
    "gamma_a1 = 10\n",
    "gamma_scale1 = 1\n",
    "\n",
    "state_obj0 = StateDistribution(bern_p0, gamma_a0, gamma_scale0)\n",
    "state_obj1 = StateDistribution(bern_p1, gamma_a1, gamma_scale1)\n",
    "\n",
    "E = [state_obj0, state_obj1]"
   ]
  },
  {
   "cell_type": "markdown",
   "metadata": {},
   "source": [
    "The final required parameters are more obvious. The first is the desired number of cells one would like in their full unpruned lineage tree. This can be any number. Since one of our observations is time-based, we can also add a prune condition based on time as well. Ultimately, these design choices are left up to the user to customize based on their state distribution type. Without loss of generality, we provide the following example of an 'unpruned' lineage tree."
   ]
  },
  {
   "cell_type": "code",
   "execution_count": 9,
   "metadata": {},
   "outputs": [
    {
     "name": "stdout",
     "output_type": "stream",
     "text": [
      "\n",
      " Generation: 1, State: 0, Observation: [1, 126.69110400565616, 1]\n",
      " Generation: 2, State: 0, Observation: [0, 79.82755245144142, 1]\n",
      " Generation: 2, State: 0, Observation: [1, 103.78855569567706, 1]\n",
      " Generation: 3, State: 0, Observation: [1, 68.47608962545321, 1]\n",
      " Generation: 3, State: 0, Observation: [1, 105.9356821113095, 1]\n",
      " Generation: 3, State: 0, Observation: [1, 96.33172247130253, 1]\n",
      " Generation: 3, State: 0, Observation: [1, 73.83643996086997, 1]\n",
      " Generation: 4, State: 0, Observation: [1, 121.991810948429, 1]\n",
      " Generation: 4, State: 0, Observation: [1, 110.08269758951776, 1]\n",
      " Generation: 4, State: 1, Observation: [1, 6.897931686732962, 1]\n",
      " Generation: 4, State: 1, Observation: [0, 5.354252041970434, 1]\n",
      " Generation: 4, State: 0, Observation: [1, 76.70004617895222, 1]\n",
      " Generation: 4, State: 0, Observation: [1, 72.12816021834114, 1]\n",
      " Generation: 4, State: 1, Observation: [1, 13.754410227153077, 1]\n",
      " Generation: 4, State: 0, Observation: [1, 135.8889612267234, 1]\n",
      "\n",
      "\n"
     ]
    }
   ],
   "source": [
    "lineage1 = LineageTree(pi, T, E, desired_num_cells=2**4 - 1)\n",
    "print(lineage1)\n",
    "print(\"\\n\")"
   ]
  },
  {
   "cell_type": "markdown",
   "metadata": {},
   "source": [
    "### Estimation of distribution parameters using our estimators for full (unpruned) lineage\n",
    "\n",
    "We can estimate the parameters of the state distributions that make up our cells by running the estimator built into our state distribution objects. Recall that these are stored in the Emissions list of state distribution objects `E`. Calling the estimator member function (using dot notation again) on a set of tuples that represent the observations held in each cell can give us the Maximum Likelihood Estimate (the best frequentist estimate) of the parameters that describe the distributions that the cells were originally sampled from. This is a good way of pre-checking if our model can analyze your data using synthetic lineages, before you begin running wet lab experiments to collect actual observations. This is also a good way to check that everything is working internally, apart from running tests."
   ]
  },
  {
   "cell_type": "code",
   "execution_count": 10,
   "metadata": {},
   "outputs": [],
   "source": [
    "#add code later"
   ]
  },
  {
   "cell_type": "markdown",
   "metadata": {},
   "source": [
    "### Estimation of distribution parameters using our estimators for pruned lineage\n",
    "\n",
    "We can do the same as above on both the pruned and unpruned trees. The estimator only requires a set of observations. Note that for the pruned lineage, estimations of the parameters that describe the distributions of the observations are worse than they are for the full unpruned lineage. We believe that this happens because:\n",
    "1. Pruning a lineage tree biases estimators to count for cells that lived earlier on in a lineage rather than later\n",
    "2. Cutting off trees based on experimental times creates cells that died at times unrepresentative of their original lifetime distributions\n",
    "3. Cells that live for shorter times create more samples while cells that live longer create fewer samples and pruning the tree can hurt estimating the distributions of longer living cells\n"
   ]
  },
  {
   "cell_type": "code",
   "execution_count": 11,
   "metadata": {},
   "outputs": [],
   "source": [
    "#add code later"
   ]
  },
  {
   "cell_type": "markdown",
   "metadata": {},
   "source": [
    "### Analyzing our first full lineage\n",
    "\n",
    "Our project's goal is to analyze heterogeneity. We packaged our entire codebase's capabilities into one function `Analyze`, which runs the tree-hidden Markov Model on an appropriately formatted dataset. In the following example, we analyze the unrpuned lineage from above."
   ]
  },
  {
   "cell_type": "code",
   "execution_count": 12,
   "metadata": {},
   "outputs": [],
   "source": [
    "from lineage.Analyze import Analyze\n",
    "\n",
    "X = [lineage1] # population just contains one lineage\n",
    "tHMMobj, pred_states_by_lineage, LL = Analyze(X, 2) # find two states"
   ]
  },
  {
   "cell_type": "markdown",
   "metadata": {},
   "source": [
    "### Estimated Markov parameters ($\\pi$, $T$, $E$)\n",
    "\n",
    "Let's see how well our model estimated the parameters that created this lineage. Recall that the model is BLIND to the true states of the cells (unlike the code blocks above where we knew the identity of the cells (in terms of their state)). This model primarily has to segment or partition the tree and its cells into the number of states we think is present in our data, and then identify the parameters that describe each state's distributions. We can not only check how well it estimated the state parameters, but also the initial probability vector $\\pi$ and transition matrix $T$ vector. Note that estimating these also get better as more lineages are added (for the $\\pi$ vector in particular) and in general as more cells and more lineages are added."
   ]
  },
  {
   "cell_type": "code",
   "execution_count": 13,
   "metadata": {},
   "outputs": [
    {
     "name": "stdout",
     "output_type": "stream",
     "text": [
      "[1.07850914e-29 1.00000000e+00]\n"
     ]
    }
   ],
   "source": [
    "print(tHMMobj.estimate.pi)"
   ]
  },
  {
   "cell_type": "code",
   "execution_count": 14,
   "metadata": {},
   "outputs": [
    {
     "name": "stdout",
     "output_type": "stream",
     "text": [
      "[[1.17055173e-04 9.99882945e-01]\n",
      " [3.55694590e-01 6.44305410e-01]]\n"
     ]
    }
   ],
   "source": [
    "print(tHMMobj.estimate.T)"
   ]
  },
  {
   "cell_type": "code",
   "execution_count": 15,
   "metadata": {},
   "outputs": [
    {
     "name": "stdout",
     "output_type": "stream",
     "text": [
      "State 0:\n",
      "                    estimated state: State object w/ parameters: 0.5000000000075, 0.831632938179884, 31.815161938204728.\n",
      "original parameters given for state: State object w/ parameters: 0.99, 20, 5.\n",
      "\n",
      "\n",
      "State 1:\n",
      "                    estimated state: State object w/ parameters: 0.9999999999981818, 18.77278481464646, 5.287399144333991.\n",
      "original parameters given for state: State object w/ parameters: 0.88, 10, 1.\n",
      "\n",
      "\n"
     ]
    }
   ],
   "source": [
    "for state in range(lineage1.num_states):\n",
    "    print(\"State {}:\".format(state))\n",
    "    print(\"                    estimated state:\", tHMMobj.estimate.E[state])\n",
    "    print(\"original parameters given for state:\", E[state])\n",
    "    print(\"\\n\")"
   ]
  },
  {
   "cell_type": "markdown",
   "metadata": {},
   "source": [
    "## Trying another lineage, this time pruning branches with ancestors that die and cells that live past the experiment time"
   ]
  },
  {
   "cell_type": "code",
   "execution_count": 16,
   "metadata": {},
   "outputs": [
    {
     "ename": "NameError",
     "evalue": "name 'desired_num_cells' is not defined",
     "output_type": "error",
     "traceback": [
      "\u001b[0;31m---------------------------------------------------------------------------\u001b[0m",
      "\u001b[0;31mNameError\u001b[0m                                 Traceback (most recent call last)",
      "\u001b[0;32m<ipython-input-16-40a510f9c326>\u001b[0m in \u001b[0;36m<module>\u001b[0;34m\u001b[0m\n\u001b[0;32m----> 1\u001b[0;31m \u001b[0mlineage2\u001b[0m \u001b[0;34m=\u001b[0m \u001b[0mLineageTree\u001b[0m\u001b[0;34m(\u001b[0m\u001b[0mpi\u001b[0m\u001b[0;34m,\u001b[0m \u001b[0mT\u001b[0m\u001b[0;34m,\u001b[0m \u001b[0mE\u001b[0m\u001b[0;34m,\u001b[0m \u001b[0mdesired_num_cells\u001b[0m\u001b[0;34m,\u001b[0m \u001b[0mcensor_condition\u001b[0m\u001b[0;34m=\u001b[0m\u001b[0;36m3\u001b[0m\u001b[0;34m,\u001b[0m \u001b[0mdesired_experiment_time\u001b[0m\u001b[0;34m=\u001b[0m\u001b[0;36m300\u001b[0m\u001b[0;34m)\u001b[0m\u001b[0;34m\u001b[0m\u001b[0;34m\u001b[0m\u001b[0m\n\u001b[0m\u001b[1;32m      2\u001b[0m \u001b[0mprint\u001b[0m\u001b[0;34m(\u001b[0m\u001b[0mlineage2\u001b[0m\u001b[0;34m)\u001b[0m\u001b[0;34m\u001b[0m\u001b[0;34m\u001b[0m\u001b[0m\n",
      "\u001b[0;31mNameError\u001b[0m: name 'desired_num_cells' is not defined"
     ]
    }
   ],
   "source": [
    "lineage2 = LineageTree(pi, T, E, desired_num_cells, censor_condition=3, desired_experiment_time=300)\n",
    "print(lineage2)"
   ]
  },
  {
   "cell_type": "markdown",
   "metadata": {},
   "source": [
    "### Estimation of distribution parameters using our estimators for pruned lineage"
   ]
  },
  {
   "cell_type": "code",
   "execution_count": null,
   "metadata": {},
   "outputs": [],
   "source": [
    "#add code later"
   ]
  },
  {
   "cell_type": "markdown",
   "metadata": {},
   "source": [
    "## Analyzing a pruned lineage"
   ]
  },
  {
   "cell_type": "code",
   "execution_count": null,
   "metadata": {},
   "outputs": [],
   "source": [
    "X = [lineage2] # population just contains one lineage\n",
    "tHMMobj, pred_states_by_lineage, LL = Analyze(X, 2) # find two states"
   ]
  },
  {
   "cell_type": "markdown",
   "metadata": {},
   "source": [
    "### Estimated Markov parameters ($\\pi$, $T$, $E$)"
   ]
  },
  {
   "cell_type": "code",
   "execution_count": null,
   "metadata": {},
   "outputs": [],
   "source": [
    "print(tHMMobj.estimate.pi)"
   ]
  },
  {
   "cell_type": "code",
   "execution_count": null,
   "metadata": {},
   "outputs": [],
   "source": [
    "print(tHMMobj.estimate.T)"
   ]
  },
  {
   "cell_type": "code",
   "execution_count": null,
   "metadata": {},
   "outputs": [],
   "source": [
    "for state in range(lineage2.num_states):\n",
    "    print(\"State {}:\".format(state))\n",
    "    print(\"                    estimated state:\", tHMMobj.estimate.E[state])\n",
    "    print(\"original parameters given for state:\", E[state])\n",
    "    print(\"\\n\")"
   ]
  },
  {
   "cell_type": "markdown",
   "metadata": {},
   "source": [
    "### Analyzing a population of lineages"
   ]
  },
  {
   "cell_type": "code",
   "execution_count": null,
   "metadata": {},
   "outputs": [],
   "source": [
    "X = [lineage1, lineage2] # population just contains one lineage\n",
    "\n",
    "tHMMobj, pred_states_by_lineage, LL = Analyze(X, 2) # find two states"
   ]
  },
  {
   "cell_type": "markdown",
   "metadata": {},
   "source": [
    "### Estimated Markov parameters ($\\pi$, $T$, $E$)"
   ]
  },
  {
   "cell_type": "code",
   "execution_count": null,
   "metadata": {},
   "outputs": [],
   "source": [
    "print(tHMMobj.estimate.pi)"
   ]
  },
  {
   "cell_type": "code",
   "execution_count": null,
   "metadata": {},
   "outputs": [],
   "source": [
    "print(tHMMobj.estimate.T)"
   ]
  },
  {
   "cell_type": "code",
   "execution_count": null,
   "metadata": {},
   "outputs": [],
   "source": [
    "for state in range(tHMMobj.num_states):\n",
    "    print(\"State {}:\".format(state))\n",
    "    print(\"                    estimated state:\", tHMMobj.estimate.E[state])\n",
    "    print(\"original parameters given for state:\", E[state])\n",
    "    print(\"\\n\")"
   ]
  },
  {
   "cell_type": "markdown",
   "metadata": {},
   "source": [
    "QUESTION 5: In your own words, describe what a \"state\" is. Explain how the `StateDistribution` class used in defining the emissions helps us describe states. Give an example of a set of physical observations and how you can describe heterogeneous observations using two or more states. Write your answer below."
   ]
  },
  {
   "cell_type": "markdown",
   "metadata": {},
   "source": []
  },
  {
   "cell_type": "markdown",
   "metadata": {},
   "source": [
    "QUESTION 6: Using the example you wrote about in QUESTION 5, write the three things that are used in the user-defined `StateDistribution` class in terms of your example. If possible, also include a possible `prune_rule`. For example, we've written a `StateDistribution` class that provides a Bernoulli and gamma multivariate random variable, parameterized by the Bernoulli rate parameter (`p`), and the three gamma parameters (`a`, `loc`, `scale`). We also provide a probability density function and estimators. We use this to describe the physical observations of fate and lifetime, respectively. Write your answer below."
   ]
  },
  {
   "cell_type": "markdown",
   "metadata": {},
   "source": []
  },
  {
   "cell_type": "markdown",
   "metadata": {},
   "source": [
    "QUESTION 7: Create a population of 50 UNPRUNED lineages with two states. Use any paramter set you desire. Use `Analyze` to analyze the populations. Print out the estimated Markov parameters. Write your code below. (If your code is taking a long time to run, consider decreasing the `desired_num_cells`. Feel free to print out the lineage variable to see how many cells it contains.)"
   ]
  },
  {
   "cell_type": "code",
   "execution_count": null,
   "metadata": {},
   "outputs": [],
   "source": []
  },
  {
   "cell_type": "code",
   "execution_count": null,
   "metadata": {},
   "outputs": [],
   "source": []
  },
  {
   "cell_type": "code",
   "execution_count": null,
   "metadata": {},
   "outputs": [],
   "source": []
  },
  {
   "cell_type": "code",
   "execution_count": null,
   "metadata": {},
   "outputs": [],
   "source": []
  },
  {
   "cell_type": "markdown",
   "metadata": {},
   "source": [
    "QUESTION 8: Using the same parameter set from QUESTION 7, create a new population of 50 PRUNED lineages with two states. Use `Analyze` to analyze the populations and print out the estimated Markov parameters as before. Write your code below. Describe how the estimation differs between the two cases (unpruned vs pruned)."
   ]
  },
  {
   "cell_type": "code",
   "execution_count": null,
   "metadata": {},
   "outputs": [],
   "source": []
  },
  {
   "cell_type": "code",
   "execution_count": null,
   "metadata": {},
   "outputs": [],
   "source": []
  },
  {
   "cell_type": "code",
   "execution_count": null,
   "metadata": {},
   "outputs": [],
   "source": []
  },
  {
   "cell_type": "code",
   "execution_count": null,
   "metadata": {},
   "outputs": [],
   "source": []
  },
  {
   "cell_type": "markdown",
   "metadata": {},
   "source": []
  }
 ],
 "metadata": {
  "kernelspec": {
   "display_name": "Python 3",
   "language": "python",
   "name": "python3"
  },
  "language_info": {
   "codemirror_mode": {
    "name": "ipython",
    "version": 3
   },
   "file_extension": ".py",
   "mimetype": "text/x-python",
   "name": "python",
   "nbconvert_exporter": "python",
   "pygments_lexer": "ipython3",
   "version": "3.8.2"
  }
 },
 "nbformat": 4,
 "nbformat_minor": 4
}
