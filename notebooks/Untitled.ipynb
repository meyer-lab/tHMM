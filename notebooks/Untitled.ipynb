{
 "cells": [
  {
   "cell_type": "code",
   "execution_count": 1,
   "metadata": {},
   "outputs": [],
   "source": [
    "from lineage.LineageInputOutput import import_Heiser\n",
    "from lineage.LineageTree import LineageTree\n",
    "from lineage.plotTree import plotLineage\n",
    "from lineage.states.StateDistributionGaPhs import StateDistribution\n",
    "from lineage.tHMM import tHMM"
   ]
  },
  {
   "cell_type": "code",
   "execution_count": 2,
   "metadata": {},
   "outputs": [],
   "source": [
    "desired_num_states = 2\n",
    "E = [StateDistribution() for i in range(desired_num_states)]\n",
    "population = [LineageTree(list_of_cells, E) for list_of_cells in import_Heiser()]"
   ]
  },
  {
   "cell_type": "code",
   "execution_count": 20,
   "metadata": {},
   "outputs": [
    {
     "name": "stdout",
     "output_type": "stream",
     "text": [
      "[\n",
      " Generation: 1, State: None, Observation: [1, 1, nan, 5.0, nan, 0]\n",
      " Generation: 2, State: None, Observation: [1, 0, 112.0, 0, 1, 1]\n",
      " Generation: 2, State: None, Observation: [0, nan, 140.0, nan, 1, nan], \n",
      " Generation: 1, State: None, Observation: [0, nan, 80, nan, 0, nan], \n",
      " Generation: 1, State: None, Observation: [0, nan, 145, nan, 0, nan], \n",
      " Generation: 1, State: None, Observation: [1, 1, nan, 24.0, nan, 0]\n",
      " Generation: 2, State: None, Observation: [1, 1, 82.0, 39.0, 1, 1]\n",
      " Generation: 2, State: None, Observation: [1, 1, 97.0, 24.0, 1, 1], \n",
      " Generation: 1, State: None, Observation: [1, 0, nan, nan, nan, 0], \n",
      " Generation: 1, State: None, Observation: [1, 1, nan, 37.0, nan, 0]\n",
      " Generation: 2, State: None, Observation: [1, 0, 96.0, 0, 1, 1]\n",
      " Generation: 2, State: None, Observation: [0, nan, 108.0, nan, 1, nan], \n",
      " Generation: 1, State: None, Observation: [1, 1, nan, 3.0, nan, 0]\n",
      " Generation: 2, State: None, Observation: [1, 1, 46.0, 85.0, 1, 1]\n",
      " Generation: 2, State: None, Observation: [1, 1, 137.0, 5.0, 1, 1]\n",
      " Generation: 3, State: None, Observation: [0, nan, 11.0, nan, 1, nan]\n",
      " Generation: 3, State: None, Observation: [0, nan, 11.0, nan, 1, nan], \n",
      " Generation: 1, State: None, Observation: [1, 1, nan, 24.0, nan, 0]\n",
      " Generation: 2, State: None, Observation: [0, nan, 121.0, nan, 1, nan]\n",
      " Generation: 2, State: None, Observation: [0, nan, 121.0, nan, 1, nan], \n",
      " Generation: 1, State: None, Observation: [1, 1, 126, 19.0, 0, 1], \n",
      " Generation: 1, State: None, Observation: [1, 1, nan, 6.0, nan, 0]\n",
      " Generation: 2, State: None, Observation: [0, nan, 139.0, nan, 1, nan]\n",
      " Generation: 2, State: None, Observation: [0, nan, 139.0, nan, 1, nan], \n",
      " Generation: 1, State: None, Observation: [1, 1, nan, 18.0, nan, 0]\n",
      " Generation: 2, State: None, Observation: [1, 1, 75.0, 43.0, 1, 1]\n",
      " Generation: 2, State: None, Observation: [0, nan, 127.0, nan, 1, nan]\n",
      " Generation: 3, State: None, Observation: [0, nan, 9.0, nan, 1, nan]\n",
      " Generation: 3, State: None, Observation: [0, nan, 9.0, nan, 1, nan], \n",
      " Generation: 1, State: None, Observation: [1, 1, 25, 49.0, 0, 1]\n",
      " Generation: 2, State: None, Observation: [1, 0, 6.0, 0, 1, 1]\n",
      " Generation: 2, State: None, Observation: [1, 0, 6.0, 0, 1, 1], \n",
      " Generation: 1, State: None, Observation: [1, 1, 72, 73.0, 0, 1], \n",
      " Generation: 1, State: None, Observation: [1, 0, 14, 116, 0, 1], \n",
      " Generation: 1, State: None, Observation: [1, 0, 14, 0, 0, 1], \n",
      " Generation: 1, State: None, Observation: [1, 1, nan, 36.0, nan, 0]\n",
      " Generation: 2, State: None, Observation: [1, 0, 8.0, 0, 1, 1]\n",
      " Generation: 2, State: None, Observation: [1, 0, 8.0, 0, 1, 1], \n",
      " Generation: 1, State: None, Observation: [1, 1, nan, 5.0, nan, 0]\n",
      " Generation: 2, State: None, Observation: [0, nan, 140.0, nan, 1, nan]\n",
      " Generation: 2, State: None, Observation: [0, nan, 140.0, nan, 1, nan], \n",
      " Generation: 1, State: None, Observation: [1, 1, nan, 38.0, nan, 0]\n",
      " Generation: 2, State: None, Observation: [1, 0, 7.0, 0, 1, 1]\n",
      " Generation: 2, State: None, Observation: [1, 0, 7.0, 0, 1, 1], \n",
      " Generation: 1, State: None, Observation: [1, 1, nan, 24.0, nan, 0]\n",
      " Generation: 2, State: None, Observation: [1, 0, 109.0, 0, 1, 1]\n",
      " Generation: 2, State: None, Observation: [1, 0, 93.0, 0, 1, 1], \n",
      " Generation: 1, State: None, Observation: [1, 1, 65, 65.0, 0, 1]\n",
      " Generation: 2, State: None, Observation: [0, nan, 15.0, nan, 1, nan]\n",
      " Generation: 2, State: None, Observation: [0, nan, 15.0, nan, 1, nan], \n",
      " Generation: 1, State: None, Observation: [1, 1, nan, 28.0, nan, 0]\n",
      " Generation: 2, State: None, Observation: [1, 0, 94.0, 0, 1, 1]\n",
      " Generation: 2, State: None, Observation: [0, nan, 117.0, nan, 1, nan], \n",
      " Generation: 1, State: None, Observation: [0, nan, 145, nan, 0, nan], \n",
      " Generation: 1, State: None, Observation: [1, 0, nan, nan, nan, 0], \n",
      " Generation: 1, State: None, Observation: [1, 1, 23, 51.0, 0, 1]\n",
      " Generation: 2, State: None, Observation: [0, nan, 71.0, nan, 1, nan]\n",
      " Generation: 2, State: None, Observation: [0, nan, 71.0, nan, 1, nan], \n",
      " Generation: 1, State: None, Observation: [1, 0, 42, 74, 0, 1]]\n"
     ]
    }
   ],
   "source": [
    "print(population)"
   ]
  },
  {
   "cell_type": "code",
   "execution_count": 4,
   "metadata": {},
   "outputs": [],
   "source": [
    "# plotting code doesn't handle nans yet\n",
    "# plotLineage(population[3], \"lineage/data/heiser_data/lineage_plots/lineage_plot.svg\")"
   ]
  },
  {
   "cell_type": "code",
   "execution_count": 14,
   "metadata": {},
   "outputs": [],
   "source": [
    "tHMM_solver = tHMM(X=population, num_states=desired_num_states)"
   ]
  },
  {
   "cell_type": "code",
   "execution_count": 19,
   "metadata": {},
   "outputs": [
    {
     "name": "stdout",
     "output_type": "stream",
     "text": [
      "[array([[6.75000000e-01, 6.75000000e-01],\n",
      "       [0.00000000e+00, 0.00000000e+00],\n",
      "       [2.58530099e-15, 2.58530099e-15]]), array([[1.66939681e-07, 1.66939681e-07]]), array([[2.05794029e-15, 2.05794029e-15]]), array([[6.74948478e-01, 6.74948478e-01],\n",
      "       [2.61106514e-10, 2.61106514e-10],\n",
      "       [1.06594561e-13, 1.06594561e-13]]), array([[nan, nan]]), array([[6.71906260e-01, 6.71906260e-01],\n",
      "       [0.00000000e+00, 0.00000000e+00],\n",
      "       [2.33754459e-11, 2.33754459e-11]]), array([[6.75000000e-01, 6.75000000e-01],\n",
      "       [1.55249596e-05, 1.55249596e-05],\n",
      "       [4.52860793e-26, 4.52860793e-26],\n",
      "       [2.87582021e-03, 2.87582021e-03],\n",
      "       [2.87582021e-03, 2.87582021e-03]]), array([[6.74948478e-01, 6.74948478e-01],\n",
      "       [6.06717943e-13, 6.06717943e-13],\n",
      "       [6.06717943e-13, 6.06717943e-13]]), array([[1.2482178e-17, 1.2482178e-17]]), array([[6.75000000e-01, 6.75000000e-01],\n",
      "       [3.45618139e-15, 3.45618139e-15],\n",
      "       [3.45618139e-15, 3.45618139e-15]]), array([[6.74997704e-01, 6.74997704e-01],\n",
      "       [2.87989292e-09, 2.87989292e-09],\n",
      "       [1.09776146e-13, 1.09776146e-13],\n",
      "       [1.68031356e-03, 1.68031356e-03],\n",
      "       [1.68031356e-03, 1.68031356e-03]]), array([[0.00101173, 0.00101173],\n",
      "       [0.        , 0.        ],\n",
      "       [0.        , 0.        ]]), array([[1.58113641e-07, 1.58113641e-07]]), array([[0.00103132, 0.00103132]]), array([[0., 0.]]), array([[0.67255077, 0.67255077],\n",
      "       [0.        , 0.        ],\n",
      "       [0.        , 0.        ]]), array([[6.75000000e-01, 6.75000000e-01],\n",
      "       [2.58530099e-15, 2.58530099e-15],\n",
      "       [2.58530099e-15, 2.58530099e-15]]), array([[0.6711311, 0.6711311],\n",
      "       [0.       , 0.       ],\n",
      "       [0.       , 0.       ]]), array([[0.67494848, 0.67494848],\n",
      "       [0.        , 0.        ],\n",
      "       [0.        , 0.        ]]), array([[7.64507295e-07, 7.64507295e-07],\n",
      "       [4.87409360e-03, 4.87409360e-03],\n",
      "       [4.87409360e-03, 4.87409360e-03]]), array([[6.74757216e-01, 6.74757216e-01],\n",
      "       [0.00000000e+00, 0.00000000e+00],\n",
      "       [1.88126119e-12, 1.88126119e-12]]), array([[2.05794029e-15, 2.05794029e-15]]), array([[nan, nan]]), array([[1.58112375e-03, 1.58112375e-03],\n",
      "       [4.28613726e-07, 4.28613726e-07],\n",
      "       [4.28613726e-07, 4.28613726e-07]]), array([[5.76288306e-05, 5.76288306e-05]])]\n"
     ]
    }
   ],
   "source": [
    "print(tHMM_solver.EL)"
   ]
  },
  {
   "cell_type": "code",
   "execution_count": 21,
   "metadata": {},
   "outputs": [
    {
     "name": "stdout",
     "output_type": "stream",
     "text": [
      "\n",
      " Generation: 1, State: None, Observation: [1, 1, nan, 5.0, nan, 0]\n",
      " Generation: 2, State: None, Observation: [1, 0, 112.0, 0, 1, 1]\n",
      " Generation: 2, State: None, Observation: [0, nan, 140.0, nan, 1, nan]\n"
     ]
    }
   ],
   "source": [
    "print(population[0])"
   ]
  },
  {
   "cell_type": "code",
   "execution_count": 22,
   "metadata": {},
   "outputs": [],
   "source": [
    "tHMM_solver_smaller = tHMM(X=[population[0]], num_states=desired_num_states)"
   ]
  },
  {
   "cell_type": "code",
   "execution_count": 23,
   "metadata": {},
   "outputs": [
    {
     "name": "stdout",
     "output_type": "stream",
     "text": [
      "[array([[6.75000000e-01, 6.75000000e-01],\n",
      "       [0.00000000e+00, 0.00000000e+00],\n",
      "       [2.58530099e-15, 2.58530099e-15]])]\n"
     ]
    }
   ],
   "source": [
    "print(tHMM_solver_smaller.EL)"
   ]
  },
  {
   "cell_type": "code",
   "execution_count": null,
   "metadata": {},
   "outputs": [],
   "source": []
  }
 ],
 "metadata": {
  "kernelspec": {
   "display_name": "Python 3",
   "language": "python",
   "name": "python3"
  },
  "language_info": {
   "codemirror_mode": {
    "name": "ipython",
    "version": 3
   },
   "file_extension": ".py",
   "mimetype": "text/x-python",
   "name": "python",
   "nbconvert_exporter": "python",
   "pygments_lexer": "ipython3",
   "version": "3.8.2"
  }
 },
 "nbformat": 4,
 "nbformat_minor": 4
}
