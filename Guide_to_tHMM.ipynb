{
 "cells": [
  {
   "cell_type": "markdown",
   "metadata": {},
   "source": [
    "# Guide to tHMM"
   ]
  },
  {
   "cell_type": "code",
   "execution_count": 1,
   "metadata": {},
   "outputs": [],
   "source": [
    "import numpy as np\n",
    "import scipy.stats as sp"
   ]
  },
  {
   "cell_type": "markdown",
   "metadata": {},
   "source": [
    "### Synthesizing Cells (not required by the user)"
   ]
  },
  {
   "cell_type": "code",
   "execution_count": 2,
   "metadata": {},
   "outputs": [],
   "source": [
    "from lineage.CellVar import CellVar as c\n",
    "from lineage.CellVar import _double"
   ]
  },
  {
   "cell_type": "code",
   "execution_count": 3,
   "metadata": {},
   "outputs": [],
   "source": [
    "T = np.array([[1.0, 0.0],\n",
    "              [0.0, 1.0]])\n",
    "    \n",
    "parent_state = 1\n",
    "parent_cell = c(state=parent_state, left=None, right=None, parent=None, gen=1)\n",
    "left_cell, right_cell = parent_cell._divide(T)"
   ]
  },
  {
   "cell_type": "code",
   "execution_count": 4,
   "metadata": {},
   "outputs": [
    {
     "name": "stdout",
     "output_type": "stream",
     "text": [
      "\n",
      " Generation: 2, State: 1, Observation: This cell has no observations to report. \n",
      " Generation: 2, State: 1, Observation: This cell has no observations to report.\n"
     ]
    }
   ],
   "source": [
    "print(left_cell, parent_cell.left)"
   ]
  },
  {
   "cell_type": "code",
   "execution_count": 5,
   "metadata": {},
   "outputs": [
    {
     "name": "stdout",
     "output_type": "stream",
     "text": [
      "\n",
      " Generation: 2, State: 1, Observation: This cell has no observations to report. \n",
      " Generation: 2, State: 1, Observation: This cell has no observations to report.\n"
     ]
    }
   ],
   "source": [
    "print(right_cell, parent_cell.right)"
   ]
  },
  {
   "cell_type": "markdown",
   "metadata": {},
   "source": [
    "## Creating a synthetic lineage (required by the user) \"Two State Model\""
   ]
  },
  {
   "cell_type": "code",
   "execution_count": 6,
   "metadata": {},
   "outputs": [],
   "source": [
    "from lineage.LineageTree import LineageTree\n",
    "from lineage.StateDistribution import StateDistribution, get_experiment_time"
   ]
  },
  {
   "cell_type": "markdown",
   "metadata": {},
   "source": [
    "### Creating a lineage and setting the full lineage (unpruned) as the one to be used"
   ]
  },
  {
   "cell_type": "markdown",
   "metadata": {},
   "source": [
    "The required probabilities are those that define the tree and act of state switching. This process works by first creating a hidden tree of empty cells. Empty cells are those that have their states set but do not have any observations attached to them. We then draw as many observations from each state distribution and assign those observations to those cells. The $\\pi$ and $T$ parameters are easy to define. The number of states is $k$. We require for $\\pi$ a $k\\times 1$ list of probabilities. These probabilities must add up to $1$ and they should be either in a $1$-dimensional list or a $1$-dimensional numpy array. The $T$ parameter should be a square numpy matrix of size $k\\times k$. The rows are the states in which we are transitioning from and the columns are the states in which we are transitioning to. Each row of $T$ should sum to $1$. The columns need not sum to $1$."
   ]
  },
  {
   "cell_type": "code",
   "execution_count": 7,
   "metadata": {},
   "outputs": [],
   "source": [
    "# pi: the initial probability vector\n",
    "pi = np.array([0.6, 0.4], dtype=\"float\")\n",
    "\n",
    "# T: transition probability matrix\n",
    "T = np.array([[0.85, 0.15],\n",
    "              [0.15, 0.85]], dtype=\"float\")"
   ]
  },
  {
   "cell_type": "markdown",
   "metadata": {},
   "source": [
    "The emission matrix $E$ is a little more complicated to define because this is where the user has complete freedom in defining what type of observation they care about. In particular, the user has to first begin with defining what observation he or she will want in their cells in their synthetic images. For example, if one is observing kinematics or physics, they might want to use Gaaussian distribution observations. In defining the random variables, the user will pull from a Gaussian distribution based on the mean and standard deviation of the different states he or she picks. They can also utilize the Gaussian probability distribution to define the likelihood as well. Furthermore, they can build an analytical estimator for their state distributions that yield the parameter estimates when given a list of observations. Finally, the user can also define a prune rule, which is essentially a boolean function that inspects a cell's observations and returns True if the cell's subtree (all the cells that are related to the cell in question and are of older generation) is to be pruned or False if the cell is safe from pruning. In the Gaussian example, a user can remove a cell's subtree if its observation is higher or lower than some fixed value.\n",
    "\n",
    "We have already built, as an example, and as bioengineers, a model that resembles lineage trees. In our synthetic model, our emissions are multivariate. This first emission is a Bernoulli observation, $0$ implying death and $1$ implying division. The second and third emissions are continuous and are from exponential and gamma distributions respectively. Though these can be thought of cell lifetime's or periods in a certain cell phase, we want the user to know that these values can really mean anything and they are completely free in choosing what the emissions and their values mean. We define ways to calculate random variables for these multivariate observations and likelihoods of an observations. We also provide as a prune rule, keeping with the cell analogy, that if a cell has a $0$ in its Bernoulli observation, then its subtree is pruned from the full lineage tree. Though this will obviously introduce bias into estimation, we keep both the full tree and the pruned tree in the lineage objects, in the case a user would like to see the effects of analyzing on one versus the other.\n",
    "\n",
    "Ultimately, $E$ is defined as a $k\\times 1$ size list of state distribution objects. These distribution objects are rich in what they can already do, and a user can easily add more to their functionality. They only need to be instantiated by what parameters define that state's distribution."
   ]
  },
  {
   "cell_type": "code",
   "execution_count": 8,
   "metadata": {},
   "outputs": [],
   "source": [
    "# E: states are defined as StateDistribution objects\n",
    "\n",
    "# State 0 parameters \"Resistant\"\n",
    "state0 = 0\n",
    "bern_p0 = 0.8\n",
    "exp_a0 = 10.0\n",
    "\n",
    "# State 1 parameters \"Susciptible\"\n",
    "state1 = 1\n",
    "bern_p1 = 0.8\n",
    "exp_a1 = 80.0\n",
    "\n",
    "state_obj0 = StateDistribution(state0, bern_p0, exp_a0)\n",
    "state_obj1 = StateDistribution(state1, bern_p1, exp_a1)\n",
    "\n",
    "E = [state_obj0, state_obj1]"
   ]
  },
  {
   "cell_type": "markdown",
   "metadata": {},
   "source": [
    "The final required parameters are more obvious. The first is the desired number of cells one would like in their full unpruned lineage tree. This can be any number. The lineage tree is built 'from left to right'. What this means is that, we construct the binary tree by going to the left-most cell, dividing then walking through the generation. For example, if someone requested for"
   ]
  },
  {
   "cell_type": "code",
   "execution_count": 9,
   "metadata": {},
   "outputs": [],
   "source": [
    "desired_num_cells = 2**7 - 1 \n",
    "prune_boolean = False # To get the full tree"
   ]
  },
  {
   "cell_type": "code",
   "execution_count": 10,
   "metadata": {},
   "outputs": [
    {
     "name": "stdout",
     "output_type": "stream",
     "text": [
      "This tree is NOT pruned. It is made of 2 states.\n",
      " For each state in this tree: \n",
      " \t There are 42 cells of state 0, \n",
      " \t There are 85 cells of state 1.\n",
      " This UNpruned tree has 127 cells in total\n"
     ]
    }
   ],
   "source": [
    "lineage1 = LineageTree(pi, T, E, desired_num_cells, prune_boolean)\n",
    "print(lineage1)"
   ]
  },
  {
   "cell_type": "markdown",
   "metadata": {},
   "source": [
    "### Obtaining how long the experiment ran by checking the time length of the longest branch"
   ]
  },
  {
   "cell_type": "code",
   "execution_count": 11,
   "metadata": {},
   "outputs": [
    {
     "name": "stdout",
     "output_type": "stream",
     "text": [
      "1165.5688916028514\n"
     ]
    }
   ],
   "source": [
    "longest_branch_time = get_experiment_time(lineage1)\n",
    "print(longest_branch_time)"
   ]
  },
  {
   "cell_type": "markdown",
   "metadata": {},
   "source": [
    "### Estimation of distribution parameters using our estimators for full lineage"
   ]
  },
  {
   "cell_type": "code",
   "execution_count": 12,
   "metadata": {},
   "outputs": [
    {
     "name": "stdout",
     "output_type": "stream",
     "text": [
      "State 0:\n",
      "33.0\n",
      "42.0\n",
      "0.7857142857142857\n",
      "                    estimated state State object w/ parameters: 0.7857142857142857, 9.648972848616301.\n",
      "original parameters given for state State object w/ parameters: 0.8, 10.0.\n",
      "State 1:\n",
      "65.0\n",
      "85.0\n",
      "0.7647058823529411\n",
      "                    estimated state State object w/ parameters: 0.7647058823529411, 102.48725875936749.\n",
      "original parameters given for state State object w/ parameters: 0.8, 80.0.\n"
     ]
    }
   ],
   "source": [
    "for state in range(lineage1.num_states):\n",
    "    print(\"State {}:\".format(state))\n",
    "    print(\"                    estimated state\", E[state].estimator(lineage1.lineage_stats[state].full_lin_cells_obs))\n",
    "    print(\"original parameters given for state\", E[state])"
   ]
  },
  {
   "cell_type": "markdown",
   "metadata": {},
   "source": [
    "### Estimation of distribution parameters using our estimators for pruned lineage"
   ]
  },
  {
   "cell_type": "code",
   "execution_count": 13,
   "metadata": {},
   "outputs": [
    {
     "name": "stdout",
     "output_type": "stream",
     "text": [
      "State 0:\n",
      "8.0\n",
      "9.0\n",
      "0.8888888888888888\n",
      "                    estimated state State object w/ parameters: 0.8888888888888888, 8.308413255668903.\n",
      "original parameters given for state State object w/ parameters: 0.8, 10.0.\n",
      "State 1:\n",
      "24.0\n",
      "34.0\n",
      "0.7058823529411765\n",
      "                    estimated state State object w/ parameters: 0.7058823529411765, 98.9875477394689.\n",
      "original parameters given for state State object w/ parameters: 0.8, 80.0.\n"
     ]
    }
   ],
   "source": [
    "for state in range(lineage1.num_states):\n",
    "    print(\"State {}:\".format(state))\n",
    "    print(\"                    estimated state\", E[state].estimator(lineage1.lineage_stats[state].pruned_lin_cells_obs))\n",
    "    print(\"original parameters given for state\", E[state])"
   ]
  },
  {
   "cell_type": "markdown",
   "metadata": {},
   "source": [
    "### Analyzing our first full lineage"
   ]
  },
  {
   "cell_type": "code",
   "execution_count": 14,
   "metadata": {},
   "outputs": [
    {
     "name": "stdout",
     "output_type": "stream",
     "text": [
      "1.0000000000000002\n",
      "1.0000000000000004\n",
      "0.9999999999999998\n",
      "97.0\n",
      "126.0\n",
      "0.7698412698412699\n",
      "[-737.4084501590413]\n",
      "10.0\n",
      "10.0\n",
      "1.0\n",
      "88.0\n",
      "117.0\n",
      "0.7521367521367521\n",
      "[-729.842696640492]\n",
      "22.0\n",
      "22.0\n",
      "1.0\n",
      "76.0\n",
      "105.0\n",
      "0.7238095238095238\n",
      "[-728.9650774612435]\n",
      "22.0\n",
      "22.0\n",
      "1.0\n",
      "76.0\n",
      "105.0\n",
      "0.7238095238095238\n",
      "[-729.117408893528]\n",
      "21.0\n",
      "21.0\n",
      "1.0\n",
      "77.0\n",
      "106.0\n",
      "0.7264150943396226\n",
      "[-729.3461379059992]\n",
      "19.0\n",
      "19.0\n",
      "1.0\n",
      "79.0\n",
      "108.0\n",
      "0.7314814814814815\n",
      "[-730.1106718578059]\n",
      "16.0\n",
      "16.0\n",
      "1.0\n",
      "82.0\n",
      "111.0\n",
      "0.7387387387387387\n",
      "[-730.9714261223082]\n",
      "15.0\n",
      "15.0\n",
      "1.0\n",
      "83.0\n",
      "112.0\n",
      "0.7410714285714286\n",
      "[-731.1607167482837]\n",
      "15.0\n",
      "15.0\n",
      "1.0\n",
      "83.0\n",
      "112.0\n",
      "0.7410714285714286\n",
      "[-731.1047270492829]\n",
      "13.0\n",
      "13.0\n",
      "1.0\n",
      "85.0\n",
      "114.0\n",
      "0.7456140350877193\n",
      "[-731.5280107685838]\n",
      "13.0\n",
      "13.0\n",
      "1.0\n",
      "85.0\n",
      "114.0\n",
      "0.7456140350877193\n",
      "[-731.495917953839]\n",
      "12.0\n",
      "12.0\n",
      "1.0\n",
      "86.0\n",
      "115.0\n",
      "0.7478260869565218\n",
      "[-731.9235124059701]\n",
      "12.0\n",
      "12.0\n",
      "1.0\n",
      "86.0\n",
      "115.0\n",
      "0.7478260869565218\n",
      "[-731.8984388166738]\n",
      "12.0\n",
      "12.0\n",
      "1.0\n",
      "86.0\n",
      "115.0\n",
      "0.7478260869565218\n",
      "[-731.892887309107]\n"
     ]
    }
   ],
   "source": [
    "from lineage.Analyze import Analyze\n",
    "\n",
    "X = [lineage1] # population just contains one lineage\n",
    "states = [cell.state for cell in lineage1.output_lineage]\n",
    "deltas, state_ptrs, all_states, tHMMobj, NF, LL = Analyze(X, 2) # find two states"
   ]
  },
  {
   "cell_type": "code",
   "execution_count": 15,
   "metadata": {},
   "outputs": [
    {
     "name": "stdout",
     "output_type": "stream",
     "text": [
      "Accuracy or 1-Accuracy is 0.7559055118110236\n",
      "(1, 32.058294061477085) 1 1 True\n",
      "(1, 94.51573065232776) 1 1 True\n",
      "(1, 78.92334337717766) 1 1 True\n",
      "(1, 90.16900961302689) 1 1 True\n",
      "(0, 73.04673804100639) 1 1 True\n",
      "(1, 59.02690731690302) 1 1 True\n",
      "(1, 2.1662050383209004) 1 0 False\n",
      "(1, 326.7361284096637) 1 1 True\n",
      "(1, 64.04967178510348) 1 1 True\n",
      "(1, 9.993102470705121) 1 1 True\n",
      "(1, 4.022591611510871) 1 1 True\n",
      "(0, 83.31189027828376) 1 1 True\n",
      "(0, 21.73069251904623) 1 1 True\n",
      "(1, 111.18944102495406) 1 1 True\n",
      "(0, 365.16219752169087) 1 1 True\n",
      "(1, 214.79092153794062) 1 1 True\n",
      "(1, 7.683336315476652) 0 1 False\n",
      "(0, 52.4106446975273) 1 1 True\n",
      "(1, 121.39343628567971) 1 1 True\n",
      "(1, 51.584288633102666) 1 1 True\n",
      "(1, 115.62223738640435) 1 1 True\n",
      "(1, 104.74298218302084) 1 1 True\n",
      "(1, 106.6823671694131) 1 1 True\n",
      "(1, 668.1449099366802) 1 1 True\n",
      "(0, 221.37836864869604) 1 1 True\n",
      "(1, 3.145974785421608) 0 1 False\n",
      "(1, 66.80777654220765) 1 1 True\n",
      "(1, 28.027079877352318) 1 1 True\n",
      "(1, 67.80705698310085) 1 1 True\n",
      "(1, 2.5998906028349595) 0 0 True\n",
      "(1, 23.42549344200038) 1 1 True\n",
      "(0, 167.35216615284514) 1 1 True\n",
      "(0, 17.60697639788856) 1 1 True\n",
      "(1, 17.21898779259123) 0 1 False\n",
      "(1, 3.4350780092300743) 0 1 False\n",
      "(1, 3.8663271101656944) 0 0 True\n",
      "(1, 1.7609824658898852) 0 0 True\n",
      "(0, 39.08646870998437) 1 1 True\n",
      "(1, 111.87900721155067) 1 1 True\n",
      "(1, 83.02135706289178) 1 1 True\n",
      "(1, 0.9801897946873473) 0 0 True\n",
      "(1, 226.85553852919304) 1 1 True\n",
      "(0, 9.196201039864434) 0 1 False\n",
      "(1, 20.27886601582305) 1 1 True\n",
      "(1, 44.926440375570124) 1 1 True\n",
      "(1, 71.34927956368935) 1 1 True\n",
      "(1, 136.16693658466784) 1 1 True\n",
      "(1, 7.234413586553533) 1 1 True\n",
      "(1, 10.987751427403724) 1 1 True\n",
      "(1, 99.76032877888782) 1 1 True\n",
      "(1, 7.151095733100505) 1 1 True\n",
      "(0, 1.5516860762981488) 0 1 False\n",
      "(0, 17.560882322703783) 0 1 False\n",
      "(1, 154.73118800679234) 1 1 True\n",
      "(0, 1.673109324842451) 0 1 False\n",
      "(1, 73.47726456276564) 1 1 True\n",
      "(1, 30.658617524293543) 1 1 True\n",
      "(1, 71.34278176376529) 1 1 True\n",
      "(1, 42.67207777962395) 1 1 True\n",
      "(1, 0.2256295886685303) 0 0 True\n",
      "(0, 20.407970050925456) 0 1 False\n",
      "(1, 46.38947627153581) 1 1 True\n",
      "(1, 22.918218798763796) 1 1 True\n",
      "(1, 65.82944094949787) 1 1 True\n",
      "(1, 223.62677231551103) 1 1 True\n",
      "(1, 1.2203684469506466) 0 0 True\n",
      "(0, 59.57850197587913) 1 1 True\n",
      "(1, 1.3564485708976235) 0 0 True\n",
      "(0, 10.636545715575354) 0 1 False\n",
      "(1, 17.21838996104594) 0 1 False\n",
      "(1, 9.566408760271209) 0 1 False\n",
      "(1, 2.3352118467003966) 0 0 True\n",
      "(1, 34.542072078582336) 0 1 False\n",
      "(1, 12.858933168597623) 0 1 False\n",
      "(1, 7.570941562949734) 0 1 False\n",
      "(1, 102.96264905393184) 1 1 True\n",
      "(0, 1.223814525513762) 1 1 True\n",
      "(0, 18.255616272186675) 1 1 True\n",
      "(1, 90.32899930586811) 1 1 True\n",
      "(0, 71.26881999980108) 1 1 True\n",
      "(1, 122.26553441018224) 1 1 True\n",
      "(1, 31.395524552189407) 0 1 False\n",
      "(1, 10.72587516939702) 0 1 False\n",
      "(1, 92.65083290114403) 1 1 True\n",
      "(1, 387.34191224428884) 1 1 True\n",
      "(1, 8.515279752544613) 0 1 False\n",
      "(0, 2.6322500100588253) 0 1 False\n",
      "(1, 2.1218848422544747) 0 0 True\n",
      "(1, 20.87038676785899) 0 1 False\n",
      "(1, 0.34750220497506046) 0 0 True\n",
      "(1, 89.46428151825214) 1 1 True\n",
      "(1, 104.8000729111539) 1 1 True\n",
      "(0, 17.540338069571412) 1 1 True\n",
      "(0, 6.814558695497057) 1 1 True\n",
      "(1, 106.13011167987088) 1 1 True\n",
      "(1, 56.351883186226985) 1 1 True\n",
      "(0, 21.74686834640614) 1 1 True\n",
      "(1, 106.49736951071222) 1 1 True\n",
      "(0, 233.11579520492612) 1 1 True\n",
      "(1, 46.82152449376499) 1 1 True\n",
      "(0, 151.6886931889683) 1 1 True\n",
      "(1, 16.664647922198558) 0 1 False\n",
      "(1, 104.77526761558941) 1 1 True\n",
      "(1, 8.966775786577132) 0 1 False\n",
      "(1, 8.84420348361673) 0 1 False\n",
      "(0, 27.7474264856001) 0 1 False\n",
      "(1, 15.908412467339051) 0 1 False\n",
      "(1, 22.358853005654524) 1 1 True\n",
      "(1, 74.18743887318979) 1 1 True\n",
      "(1, 5.943253304290459) 0 1 False\n",
      "(1, 32.636641820640634) 1 1 True\n",
      "(1, 243.25892544282766) 1 1 True\n",
      "(1, 190.07617290072486) 1 1 True\n",
      "(1, 57.43886019617901) 1 1 True\n",
      "(1, 198.39511993696317) 1 1 True\n",
      "(1, 2.09880191464046) 0 0 True\n",
      "(0, 9.504165517655519) 1 1 True\n",
      "(1, 117.72801444623725) 1 1 True\n",
      "(1, 5.561722261291562) 0 1 False\n",
      "(1, 1.5734820928411128) 0 0 True\n",
      "(1, 57.86560558029041) 1 1 True\n",
      "(1, 4.755490998790849) 0 1 False\n",
      "(1, 27.514955101429898) 0 1 False\n",
      "(0, 225.75536692737217) 1 1 True\n",
      "(0, 14.457419132819137) 0 1 False\n",
      "(1, 360.1248664679848) 1 1 True\n",
      "(1, 96.24154717386202) 1 1 True\n"
     ]
    }
   ],
   "source": [
    "for num, lineageObj in enumerate(X):\n",
    "    lin_estimated_states = all_states[num]\n",
    "    lin_true_states = [cell.state for cell in lineageObj.output_lineage]\n",
    "    total = len(lin_estimated_states)\n",
    "    assert total == len(lin_true_states)\n",
    "    counter = [1 if a==b else 0 for (a,b) in zip(lin_estimated_states,lin_true_states)]\n",
    "    print(\"Accuracy or 1-Accuracy is {}\".format(sum(counter)/total))\n",
    "    \n",
    "obs = [cell.obs for cell in lineage1.output_lineage]\n",
    "for idx, ob in enumerate(obs):\n",
    "    print(ob, states[idx], all_states[0][idx], states[idx]==all_states[0][idx])"
   ]
  },
  {
   "cell_type": "code",
   "execution_count": null,
   "metadata": {},
   "outputs": [],
   "source": []
  },
  {
   "cell_type": "code",
   "execution_count": null,
   "metadata": {},
   "outputs": [],
   "source": []
  },
  {
   "cell_type": "code",
   "execution_count": null,
   "metadata": {},
   "outputs": [],
   "source": []
  },
  {
   "cell_type": "markdown",
   "metadata": {},
   "source": [
    "### Estimated Markov parameters ($\\pi$, $T$, $E$)"
   ]
  },
  {
   "cell_type": "code",
   "execution_count": 16,
   "metadata": {},
   "outputs": [
    {
     "name": "stdout",
     "output_type": "stream",
     "text": [
      "[6.44086162e-54 1.00000000e+00]\n"
     ]
    }
   ],
   "source": [
    "print(tHMMobj.estimate.pi)"
   ]
  },
  {
   "cell_type": "code",
   "execution_count": 17,
   "metadata": {},
   "outputs": [
    {
     "name": "stdout",
     "output_type": "stream",
     "text": [
      "[[0.19039613 0.80960387]\n",
      " [0.07634696 0.92365304]]\n"
     ]
    }
   ],
   "source": [
    "print(tHMMobj.estimate.T)"
   ]
  },
  {
   "cell_type": "code",
   "execution_count": 18,
   "metadata": {},
   "outputs": [
    {
     "name": "stdout",
     "output_type": "stream",
     "text": [
      "State object w/ parameters: 1.0, 1.5655497841384507.\n",
      "State object w/ parameters: 0.7478260869565218, 79.11206310242139.\n"
     ]
    }
   ],
   "source": [
    "for state in range(tHMMobj.numStates):\n",
    "    print(tHMMobj.estimate.E[state])"
   ]
  },
  {
   "cell_type": "markdown",
   "metadata": {},
   "source": [
    "## Trying another lineage, this time pruning branches with ancestors that die"
   ]
  },
  {
   "cell_type": "code",
   "execution_count": 19,
   "metadata": {},
   "outputs": [],
   "source": [
    "desired_num_cells = 2**12 -1 \n",
    "prune_boolean = False # To get pruned tree"
   ]
  },
  {
   "cell_type": "code",
   "execution_count": 20,
   "metadata": {},
   "outputs": [
    {
     "name": "stdout",
     "output_type": "stream",
     "text": [
      "This tree is NOT pruned. It is made of 2 states.\n",
      " For each state in this tree: \n",
      " \t There are 2048 cells of state 0, \n",
      " \t There are 2047 cells of state 1.\n",
      " This UNpruned tree has 4095 cells in total\n"
     ]
    }
   ],
   "source": [
    "lineage2 = LineageTree(pi, T, E, desired_num_cells, prune_boolean)\n",
    "print(lineage2)"
   ]
  },
  {
   "cell_type": "code",
   "execution_count": 21,
   "metadata": {},
   "outputs": [
    {
     "name": "stdout",
     "output_type": "stream",
     "text": [
      "1420.8534552060032\n"
     ]
    }
   ],
   "source": [
    "longest2 = get_experiment_time(lineage2)\n",
    "print(longest2)"
   ]
  },
  {
   "cell_type": "markdown",
   "metadata": {},
   "source": [
    "### Estimation of distribution parameters using our estimators for pruned lineage"
   ]
  },
  {
   "cell_type": "code",
   "execution_count": 22,
   "metadata": {},
   "outputs": [
    {
     "name": "stdout",
     "output_type": "stream",
     "text": [
      "State 0:\n",
      "161.0\n",
      "197.0\n",
      "0.817258883248731\n",
      "                    estimated state State object w/ parameters: 0.817258883248731, 11.375698747581142.\n",
      "original parameters given for state State object w/ parameters: 0.8, 10.0.\n",
      "State 1:\n",
      "182.0\n",
      "228.0\n",
      "0.7982456140350878\n",
      "                    estimated state State object w/ parameters: 0.7982456140350878, 72.69543187556351.\n",
      "original parameters given for state State object w/ parameters: 0.8, 80.0.\n"
     ]
    }
   ],
   "source": [
    "for state in range(lineage2.num_states):\n",
    "    print(\"State {}:\".format(state))\n",
    "    print(\"                    estimated state\", E[state].estimator(lineage2.lineage_stats[state].pruned_lin_cells_obs))\n",
    "    print(\"original parameters given for state\", E[state])"
   ]
  },
  {
   "cell_type": "markdown",
   "metadata": {},
   "source": [
    "### Analyzing a population of lineages"
   ]
  },
  {
   "cell_type": "code",
   "execution_count": 23,
   "metadata": {},
   "outputs": [
    {
     "name": "stdout",
     "output_type": "stream",
     "text": [
      "Accuracy or 1-Accuracy is 0.7559055118110236\n"
     ]
    }
   ],
   "source": [
    "for num, lineageObj in enumerate(X):\n",
    "    lin_estimated_states = all_states[num]\n",
    "    lin_true_states = [cell.state for cell in lineageObj.output_lineage]\n",
    "    total = len(lin_estimated_states)\n",
    "    assert total == len(lin_true_states)\n",
    "    counter = [1 if a==b else 0 for (a,b) in zip(lin_estimated_states,lin_true_states)]\n",
    "    print(\"Accuracy or 1-Accuracy is {}\".format(sum(counter)/total))"
   ]
  },
  {
   "cell_type": "markdown",
   "metadata": {},
   "source": [
    "### Estimated Markov parameters ($\\pi$, $T$, $E$)"
   ]
  },
  {
   "cell_type": "code",
   "execution_count": 24,
   "metadata": {},
   "outputs": [
    {
     "name": "stdout",
     "output_type": "stream",
     "text": [
      "[6.44086162e-54 1.00000000e+00]\n"
     ]
    }
   ],
   "source": [
    "print(tHMMobj.estimate.pi)"
   ]
  },
  {
   "cell_type": "code",
   "execution_count": 25,
   "metadata": {},
   "outputs": [
    {
     "name": "stdout",
     "output_type": "stream",
     "text": [
      "[[0.19039613 0.80960387]\n",
      " [0.07634696 0.92365304]]\n"
     ]
    }
   ],
   "source": [
    "print(tHMMobj.estimate.T)"
   ]
  },
  {
   "cell_type": "code",
   "execution_count": 26,
   "metadata": {},
   "outputs": [
    {
     "name": "stdout",
     "output_type": "stream",
     "text": [
      "State object w/ parameters: 1.0, 1.5655497841384507.\n",
      "State object w/ parameters: 0.7478260869565218, 79.11206310242139.\n"
     ]
    }
   ],
   "source": [
    "for state in range(tHMMobj.numStates):\n",
    "    print(tHMMobj.estimate.E[state])"
   ]
  },
  {
   "cell_type": "markdown",
   "metadata": {},
   "source": [
    "## Creating a synthetic lineage that has three states"
   ]
  },
  {
   "cell_type": "markdown",
   "metadata": {},
   "source": [
    "Here we generate a lineage with three states, which would be 1) Susciptible 2) Middle State 3) Resistant. The aim here is to show the transition from susciptible to resistant state doesn't happen immediately, and there is a gradual transition which is modeled as a middle state. The point to be considered here is that transition from 1 to 3 or otherwise is not possible so the probability of these transitions are zero, and most likely the initial cells are in susciptible state.\n",
    "\n",
    "**State 1**: Susceptible\n",
    "\n",
    "**State 2**: Transition state\n",
    "\n",
    "**State 3**: Resistant state\n"
   ]
  },
  {
   "cell_type": "code",
   "execution_count": 27,
   "metadata": {},
   "outputs": [],
   "source": [
    "# pi: the initial probability vector\n",
    "pi_3 = np.array([0.5, 0.25, 0.25])\n",
    "\n",
    "# T: transition probability matrix\n",
    "T_3 = np.array([[0.65, 0.35, 0.00],\n",
    "                [0.20, 0.40, 0.40],\n",
    "                [0.00, 0.10, 0.90]])"
   ]
  },
  {
   "cell_type": "code",
   "execution_count": 28,
   "metadata": {},
   "outputs": [
    {
     "ename": "TypeError",
     "evalue": "__init__() takes 4 positional arguments but 5 were given",
     "output_type": "error",
     "traceback": [
      "\u001b[0;31m---------------------------------------------------------------------------\u001b[0m",
      "\u001b[0;31mTypeError\u001b[0m                                 Traceback (most recent call last)",
      "\u001b[0;32m<ipython-input-28-4ddf43f1b53c>\u001b[0m in \u001b[0;36m<module>\u001b[0;34m\u001b[0m\n\u001b[1;32m     22\u001b[0m \u001b[0mgamma_scale2\u001b[0m \u001b[0;34m=\u001b[0m \u001b[0;36m3.0\u001b[0m\u001b[0;34m\u001b[0m\u001b[0;34m\u001b[0m\u001b[0m\n\u001b[1;32m     23\u001b[0m \u001b[0;34m\u001b[0m\u001b[0m\n\u001b[0;32m---> 24\u001b[0;31m \u001b[0mstate_obj0\u001b[0m \u001b[0;34m=\u001b[0m \u001b[0mStateDistribution\u001b[0m\u001b[0;34m(\u001b[0m\u001b[0mstate0\u001b[0m\u001b[0;34m,\u001b[0m \u001b[0mbern_p0\u001b[0m\u001b[0;34m,\u001b[0m \u001b[0mgamma_a0\u001b[0m\u001b[0;34m,\u001b[0m \u001b[0mgamma_scale0\u001b[0m\u001b[0;34m)\u001b[0m\u001b[0;34m\u001b[0m\u001b[0;34m\u001b[0m\u001b[0m\n\u001b[0m\u001b[1;32m     25\u001b[0m \u001b[0mstate_obj1\u001b[0m \u001b[0;34m=\u001b[0m \u001b[0mStateDistribution\u001b[0m\u001b[0;34m(\u001b[0m\u001b[0mstate1\u001b[0m\u001b[0;34m,\u001b[0m \u001b[0mbern_p1\u001b[0m\u001b[0;34m,\u001b[0m \u001b[0mgamma_a1\u001b[0m\u001b[0;34m,\u001b[0m \u001b[0mgamma_scale1\u001b[0m\u001b[0;34m)\u001b[0m\u001b[0;34m\u001b[0m\u001b[0;34m\u001b[0m\u001b[0m\n\u001b[1;32m     26\u001b[0m \u001b[0mstate_obj2\u001b[0m \u001b[0;34m=\u001b[0m \u001b[0mStateDistribution\u001b[0m\u001b[0;34m(\u001b[0m\u001b[0mstate2\u001b[0m\u001b[0;34m,\u001b[0m \u001b[0mbern_p2\u001b[0m\u001b[0;34m,\u001b[0m \u001b[0mgamma_a2\u001b[0m\u001b[0;34m,\u001b[0m \u001b[0mgamma_scale2\u001b[0m\u001b[0;34m)\u001b[0m\u001b[0;34m\u001b[0m\u001b[0;34m\u001b[0m\u001b[0m\n",
      "\u001b[0;31mTypeError\u001b[0m: __init__() takes 4 positional arguments but 5 were given"
     ]
    }
   ],
   "source": [
    "# E: states are defined as StateDistribution objects\n",
    "\n",
    "# State 0 parameters \"Susciptible\"\n",
    "state0 = 0\n",
    "bern_p0 = 0.7\n",
    "expon_scale_beta0 = 20\n",
    "gamma_a0 = 5.0\n",
    "gamma_scale0 = 1.0\n",
    "\n",
    "# State 1 parameters \"Middle state\"\n",
    "state1 = 1\n",
    "bern_p1 = 0.85\n",
    "expon_scale_beta1 = 60\n",
    "gamma_a1 = 10.0\n",
    "gamma_scale1 = 2.0\n",
    "\n",
    "# State 2 parameters \"Resistant\"\n",
    "state2 = 2\n",
    "bern_p2 = 0.99\n",
    "expon_scale_beta2 = 80\n",
    "gamma_a2 = 15.0\n",
    "gamma_scale2 = 3.0\n",
    "\n",
    "state_obj0 = StateDistribution(state0, bern_p0, gamma_a0, gamma_scale0)\n",
    "state_obj1 = StateDistribution(state1, bern_p1, gamma_a1, gamma_scale1)\n",
    "state_obj2 = StateDistribution(state2, bern_p2, gamma_a2, gamma_scale2)\n",
    "\n",
    "E_3 = [state_obj0, state_obj1, state_obj2]"
   ]
  },
  {
   "cell_type": "code",
   "execution_count": null,
   "metadata": {},
   "outputs": [],
   "source": [
    "desired_num_cells = 2**13 - 1 \n",
    "prune_boolean = False # To get the full tree"
   ]
  },
  {
   "cell_type": "code",
   "execution_count": null,
   "metadata": {},
   "outputs": [],
   "source": [
    "lineage3 = LineageTree(pi_3, T_3, E_3, desired_num_cells, prune_boolean)\n",
    "print(lineage3)"
   ]
  },
  {
   "cell_type": "code",
   "execution_count": null,
   "metadata": {},
   "outputs": [],
   "source": [
    "longest3 = get_experiment_time(lineage3)\n",
    "print(longest3)"
   ]
  },
  {
   "cell_type": "markdown",
   "metadata": {},
   "source": [
    "### Estimation of distribution parameters using our estimators for full lineage (3 state)"
   ]
  },
  {
   "cell_type": "code",
   "execution_count": null,
   "metadata": {},
   "outputs": [],
   "source": [
    "for state in range(lineage3.num_states):\n",
    "    print(\"State {}:\".format(state))\n",
    "    print(\"estimated state\", E_3[state].estimator(lineage3.lineage_stats[state].full_lin_cells_obs))\n",
    "    print(\"estimated state\", E_3[state].estimator(lineage3.lineage_stats[state].pruned_lin_cells_obs))\n",
    "    print(\"true_____ state\", E_3[state])"
   ]
  },
  {
   "cell_type": "markdown",
   "metadata": {},
   "source": [
    "### Analyzing a three state lineage"
   ]
  },
  {
   "cell_type": "code",
   "execution_count": null,
   "metadata": {},
   "outputs": [],
   "source": [
    "X = [lineage3] # population just contains one lineage\n",
    "\n",
    "deltas, state_ptrs, all_states, tHMMobj, NF, LL = Analyze(X, 3) # find three states"
   ]
  },
  {
   "cell_type": "code",
   "execution_count": null,
   "metadata": {},
   "outputs": [],
   "source": [
    "for num, lineageObj in enumerate(X):\n",
    "    lin_estimated_states = all_states[num]\n",
    "    lin_true_states = [cell.state for cell in lineageObj.output_lineage]\n",
    "    total = len(lin_estimated_states)\n",
    "    assert total == len(lin_true_states)\n",
    "    counter = [1 if a==b else 0 for (a,b) in zip(lin_estimated_states,lin_true_states)]\n",
    "    print(\"Accuracy {}\".format(sum(counter)/total))"
   ]
  },
  {
   "cell_type": "markdown",
   "metadata": {},
   "source": [
    "### Estimated Markov parameters ($\\pi$, $T$, $E$)"
   ]
  },
  {
   "cell_type": "code",
   "execution_count": null,
   "metadata": {},
   "outputs": [],
   "source": [
    "print(tHMMobj.estimate.pi)"
   ]
  },
  {
   "cell_type": "code",
   "execution_count": null,
   "metadata": {},
   "outputs": [],
   "source": [
    "print(tHMMobj.estimate.T)"
   ]
  },
  {
   "cell_type": "code",
   "execution_count": null,
   "metadata": {},
   "outputs": [],
   "source": [
    "for state in range(tHMMobj.numStates):\n",
    "    print(tHMMobj.estimate.E[state])"
   ]
  },
  {
   "cell_type": "code",
   "execution_count": null,
   "metadata": {},
   "outputs": [],
   "source": [
    "\n",
    "\n",
    "\n",
    "\n"
   ]
  },
  {
   "cell_type": "code",
   "execution_count": null,
   "metadata": {},
   "outputs": [],
   "source": []
  },
  {
   "cell_type": "code",
   "execution_count": null,
   "metadata": {},
   "outputs": [],
   "source": [
    "import matplotlib.pyplot as plt\n",
    "%matplotlib inline"
   ]
  },
  {
   "cell_type": "code",
   "execution_count": null,
   "metadata": {},
   "outputs": [],
   "source": [
    "A = sp.gamma.rvs(a=20,scale=4,size=2)\n",
    "B = sp.gamma.rvs(a=5,scale=1,size=1000)\n",
    "plt.hist(A)\n",
    "plt.hist(B)"
   ]
  },
  {
   "cell_type": "code",
   "execution_count": null,
   "metadata": {},
   "outputs": [],
   "source": [
    "from lineage.StateDistribution import gamma_estimator \n",
    "a, b = gamma_estimator(A)"
   ]
  },
  {
   "cell_type": "code",
   "execution_count": null,
   "metadata": {},
   "outputs": [],
   "source": [
    "import scipy.stats as sp\n",
    "gamma_ll = sp.gamma.pdf(x=A, a=a, scale=b)  # gamma likelihood\n",
    "print(gamma_ll)"
   ]
  },
  {
   "cell_type": "code",
   "execution_count": null,
   "metadata": {},
   "outputs": [],
   "source": [
    "import scipy.stats as sp\n",
    "\n",
    "exp_ll = sp.expon.pdf(80.12274208215076, 80.87972524126674)\n",
    "print(exp_ll)\n"
   ]
  },
  {
   "cell_type": "code",
   "execution_count": null,
   "metadata": {},
   "outputs": [],
   "source": []
  }
 ],
 "metadata": {
  "kernelspec": {
   "display_name": "Python 3",
   "language": "python",
   "name": "python3"
  },
  "language_info": {
   "codemirror_mode": {
    "name": "ipython",
    "version": 3
   },
   "file_extension": ".py",
   "mimetype": "text/x-python",
   "name": "python",
   "nbconvert_exporter": "python",
   "pygments_lexer": "ipython3",
   "version": "3.7.3"
  }
 },
 "nbformat": 4,
 "nbformat_minor": 4
}
