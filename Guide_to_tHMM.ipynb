{
 "cells": [
  {
   "cell_type": "markdown",
   "metadata": {},
   "source": [
    "# Guide to tHMM"
   ]
  },
  {
   "cell_type": "code",
   "execution_count": 20,
   "metadata": {},
   "outputs": [],
   "source": [
    "import numpy as np\n",
    "import scipy.stats as sp"
   ]
  },
  {
   "cell_type": "markdown",
   "metadata": {},
   "source": [
    "### Synthesizing Cells (not required by the user)"
   ]
  },
  {
   "cell_type": "code",
   "execution_count": 21,
   "metadata": {},
   "outputs": [],
   "source": [
    "from lineage.CellVar import CellVar as c\n",
    "from lineage.CellVar import _double"
   ]
  },
  {
   "cell_type": "code",
   "execution_count": 22,
   "metadata": {},
   "outputs": [],
   "source": [
    "T = np.array([[1.0, 0.0],\n",
    "              [0.0, 1.0]])\n",
    "    \n",
    "parent_state = 1\n",
    "parent_cell = c(state=parent_state, left=None, right=None, parent=None, gen=1)\n",
    "left_cell, right_cell = parent_cell._divide(T)"
   ]
  },
  {
   "cell_type": "code",
   "execution_count": 23,
   "metadata": {},
   "outputs": [
    {
     "name": "stdout",
     "output_type": "stream",
     "text": [
      "\n",
      " Generation: 2, State: 1, Observation: This cell has no observations to report. \n",
      " Generation: 2, State: 1, Observation: This cell has no observations to report.\n"
     ]
    }
   ],
   "source": [
    "print(left_cell, parent_cell.left)"
   ]
  },
  {
   "cell_type": "code",
   "execution_count": 24,
   "metadata": {},
   "outputs": [
    {
     "name": "stdout",
     "output_type": "stream",
     "text": [
      "\n",
      " Generation: 2, State: 1, Observation: This cell has no observations to report. \n",
      " Generation: 2, State: 1, Observation: This cell has no observations to report.\n"
     ]
    }
   ],
   "source": [
    "print(right_cell, parent_cell.right)"
   ]
  },
  {
   "cell_type": "markdown",
   "metadata": {},
   "source": [
    "## Creating a synthetic lineage (required by the user) \"Two State Model\""
   ]
  },
  {
   "cell_type": "code",
   "execution_count": 25,
   "metadata": {},
   "outputs": [],
   "source": [
    "from lineage.LineageTree import LineageTree\n",
    "from lineage.StateDistribution import StateDistribution, get_experiment_time"
   ]
  },
  {
   "cell_type": "markdown",
   "metadata": {},
   "source": [
    "### Creating a lineage and setting the full lineage (unpruned) as the one to be used"
   ]
  },
  {
   "cell_type": "markdown",
   "metadata": {},
   "source": [
    "The required probabilities are those that define the tree and act of state switching. This process works by first creating a hidden tree of empty cells. Empty cells are those that have their states set but do not have any observations attached to them. We then draw as many observations from each state distribution and assign those observations to those cells. The $\\pi$ and $T$ parameters are easy to define. The number of states is $k$. We require for $\\pi$ a $k\\times 1$ list of probabilities. These probabilities must add up to $1$ and they should be either in a $1$-dimensional list or a $1$-dimensional numpy array. The $T$ parameter should be a square numpy matrix of size $k\\times k$. The rows are the states in which we are transitioning from and the columns are the states in which we are transitioning to. Each row of $T$ should sum to $1$. The columns need not sum to $1$."
   ]
  },
  {
   "cell_type": "code",
   "execution_count": 26,
   "metadata": {},
   "outputs": [],
   "source": [
    "# pi: the initial probability vector\n",
    "pi = np.array([0.6, 0.4], dtype=\"float\")\n",
    "\n",
    "# T: transition probability matrix\n",
    "T = np.array([[0.85, 0.15],\n",
    "              [0.15, 0.85]])"
   ]
  },
  {
   "cell_type": "markdown",
   "metadata": {},
   "source": [
    "The emission matrix $E$ is a little more complicated to define because this is where the user has complete freedom in defining what type of observation they care about. In particular, the user has to first begin with defining what observation he or she will want in their cells in their synthetic images. For example, if one is observing kinematics or physics, they might want to use Gaaussian distribution observations. In defining the random variables, the user will pull from a Gaussian distribution based on the mean and standard deviation of the different states he or she picks. They can also utilize the Gaussian probability distribution to define the likelihood as well. Furthermore, they can build an analytical estimator for their state distributions that yield the parameter estimates when given a list of observations. Finally, the user can also define a prune rule, which is essentially a boolean function that inspects a cell's observations and returns True if the cell's subtree (all the cells that are related to the cell in question and are of older generation) is to be pruned or False if the cell is safe from pruning. In the Gaussian example, a user can remove a cell's subtree if its observation is higher or lower than some fixed value.\n",
    "\n",
    "We have already built, as an example, and as bioengineers, a model that resembles lineage trees. In our synthetic model, our emissions are multivariate. This first emission is a Bernoulli observation, $0$ implying death and $1$ implying division. The second and third emissions are continuous and are from exponential and gamma distributions respectively. Though these can be thought of cell lifetime's or periods in a certain cell phase, we want the user to know that these values can really mean anything and they are completely free in choosing what the emissions and their values mean. We define ways to calculate random variables for these multivariate observations and likelihoods of an observations. We also provide as a prune rule, keeping with the cell analogy, that if a cell has a $0$ in its Bernoulli observation, then its subtree is pruned from the full lineage tree. Though this will obviously introduce bias into estimation, we keep both the full tree and the pruned tree in the lineage objects, in the case a user would like to see the effects of analyzing on one versus the other.\n",
    "\n",
    "Ultimately, $E$ is defined as a $k\\times 1$ size list of state distribution objects. These distribution objects are rich in what they can already do, and a user can easily add more to their functionality. They only need to be instantiated by what parameters define that state's distribution."
   ]
  },
  {
   "cell_type": "code",
   "execution_count": 27,
   "metadata": {},
   "outputs": [],
   "source": [
    "# E: states are defined as StateDistribution objects\n",
    "\n",
    "# State 0 parameters \"Resistant\"\n",
    "state0 = 0\n",
    "bern_p0 = 0.99\n",
    "gamma_a0 = 20\n",
    "gamma_scale0 = 5\n",
    "\n",
    "# State 1 parameters \"Susceptible\"\n",
    "state1 = 1\n",
    "bern_p1 = 0.88\n",
    "gamma_a1 = 10\n",
    "gamma_scale1 = 1\n",
    "\n",
    "state_obj0 = StateDistribution(state0, bern_p0, gamma_a0, gamma_scale0)\n",
    "state_obj1 = StateDistribution(state1, bern_p1, gamma_a1, gamma_scale1)\n",
    "\n",
    "E = [state_obj0, state_obj1]"
   ]
  },
  {
   "cell_type": "markdown",
   "metadata": {},
   "source": [
    "The final required parameters are more obvious. The first is the desired number of cells one would like in their full unpruned lineage tree. This can be any number. The lineage tree is built 'from left to right'. What this means is that, we construct the binary tree by going to the left-most cell, dividing then walking through the generation. For example, if someone requested for"
   ]
  },
  {
   "cell_type": "code",
   "execution_count": 28,
   "metadata": {},
   "outputs": [],
   "source": [
    "desired_num_cells = 2**7 - 1 \n",
    "prune_boolean = False # To get the full tree"
   ]
  },
  {
   "cell_type": "code",
   "execution_count": 29,
   "metadata": {},
   "outputs": [
    {
     "name": "stdout",
     "output_type": "stream",
     "text": [
      "This tree is NOT pruned. It is made of 2 states.\n",
      " For each state in this tree: \n",
      " \t There are 79 cells of state 0, \n",
      " \t There are 48 cells of state 1.\n",
      " This UNpruned tree has 127 cells in total\n"
     ]
    }
   ],
   "source": [
    "lineage1 = LineageTree(pi, T, E, desired_num_cells, prune_boolean)\n",
    "print(lineage1)"
   ]
  },
  {
   "cell_type": "markdown",
   "metadata": {},
   "source": [
    "### Obtaining how long the experiment ran by checking the time length of the longest branch"
   ]
  },
  {
   "cell_type": "code",
   "execution_count": 30,
   "metadata": {},
   "outputs": [
    {
     "name": "stdout",
     "output_type": "stream",
     "text": [
      "740.0069369957155\n"
     ]
    }
   ],
   "source": [
    "longest_branch_time = get_experiment_time(lineage1)\n",
    "print(longest_branch_time)"
   ]
  },
  {
   "cell_type": "markdown",
   "metadata": {},
   "source": [
    "### Estimation of distribution parameters using our estimators for full lineage"
   ]
  },
  {
   "cell_type": "code",
   "execution_count": 31,
   "metadata": {},
   "outputs": [
    {
     "name": "stdout",
     "output_type": "stream",
     "text": [
      "State 0:\n",
      "the number of gamma observations 79\n",
      "                    estimated state State object w/ parameters: 0.9999999999987341, 21.266701038553798, 4.5974366798975215.\n",
      "original parameters given for state State object w/ parameters: 0.99, 20, 5.\n",
      "State 1:\n",
      "the number of gamma observations 48\n",
      "                    estimated state State object w/ parameters: 0.8749999999984376, 9.400847172871407, 1.012736650373819.\n",
      "original parameters given for state State object w/ parameters: 0.88, 10, 1.\n"
     ]
    }
   ],
   "source": [
    "for state in range(lineage1.num_states):\n",
    "    print(\"State {}:\".format(state))\n",
    "    print(\"                    estimated state\", E[state].estimator(lineage1.lineage_stats[state].full_lin_cells_obs))\n",
    "    print(\"original parameters given for state\", E[state])"
   ]
  },
  {
   "cell_type": "markdown",
   "metadata": {},
   "source": [
    "### Estimation of distribution parameters using our estimators for pruned lineage"
   ]
  },
  {
   "cell_type": "code",
   "execution_count": 32,
   "metadata": {},
   "outputs": [
    {
     "name": "stdout",
     "output_type": "stream",
     "text": [
      "State 0:\n",
      "the number of gamma observations 67\n",
      "                    estimated state State object w/ parameters: 0.9999999999985074, 20.780765041304136, 4.672130413953954.\n",
      "original parameters given for state State object w/ parameters: 0.99, 20, 5.\n",
      "State 1:\n",
      "the number of gamma observations 28\n",
      "                    estimated state State object w/ parameters: 0.8928571428543367, 10, 1.\n",
      "original parameters given for state State object w/ parameters: 0.88, 10, 1.\n"
     ]
    }
   ],
   "source": [
    "for state in range(lineage1.num_states):\n",
    "    print(\"State {}:\".format(state))\n",
    "    print(\"                    estimated state\", E[state].estimator(lineage1.lineage_stats[state].pruned_lin_cells_obs))\n",
    "    print(\"original parameters given for state\", E[state])"
   ]
  },
  {
   "cell_type": "markdown",
   "metadata": {},
   "source": [
    "### Analyzing our first full lineage"
   ]
  },
  {
   "cell_type": "code",
   "execution_count": 33,
   "metadata": {},
   "outputs": [
    {
     "name": "stdout",
     "output_type": "stream",
     "text": [
      "[0, 0, 0, 1, 0, 0, 0, 1, 1, 0, 0, 0, 0, 0, 0, 0, 1, 1, 1, 0, 1, 0, 0, 0, 0, 1, 0, 0, 1, 0, 0, 0, 0, 1, 1, 1, 1, 1, 0, 0, 1, 1, 1, 1, 0, 0, 0, 0, 0, 0, 0, 0, 0, 1, 0, 0, 0, 1, 1, 0, 0, 0, 1, 0, 1, 0, 0, 1, 1, 1, 1, 0, 1, 1, 1, 1, 0, 0, 0, 0, 0, 1, 0, 1, 1, 0, 1, 1, 1, 0, 0, 0, 0, 0, 0, 0, 0, 0, 0, 0, 0, 0, 1, 0, 0, 0, 1, 1, 1, 0, 0, 1, 0, 0, 0, 1, 1, 1, 1, 0, 0, 0, 0, 1, 0, 1, 0]\n",
      "the number of gamma observations 125\n",
      "the number of gamma observations 2\n",
      "[-648.8024408414793]\n",
      "the number of gamma observations 127\n",
      "[-645.5430671449243]\n",
      "the number of gamma observations 127\n",
      "[-643.6035384051496]\n",
      "the number of gamma observations 113\n",
      "the number of gamma observations 14\n",
      "[-640.1208274910446]\n",
      "the number of gamma observations 104\n",
      "the number of gamma observations 23\n",
      "[-635.7020107379819]\n",
      "the number of gamma observations 92\n",
      "the number of gamma observations 35\n",
      "[-603.5763086385449]\n",
      "the number of gamma observations 79\n",
      "the number of gamma observations 48\n",
      "[-531.3326343453194]\n",
      "the number of gamma observations 79\n",
      "the number of gamma observations 48\n",
      "[-531.1510600062278]\n",
      "the number of gamma observations 79\n",
      "the number of gamma observations 48\n",
      "[-531.1510600062278]\n"
     ]
    }
   ],
   "source": [
    "from lineage.Analyze import Analyze, accuracy\n",
    "\n",
    "X = [lineage1] # population just contains one lineage\n",
    "states = [cell.state for cell in lineage1.output_lineage]\n",
    "print(states)\n",
    "deltas, state_ptrs, all_states, tHMMobj, NF, LL = Analyze(X, 2) # find two states\n"
   ]
  },
  {
   "cell_type": "code",
   "execution_count": 34,
   "metadata": {},
   "outputs": [
    {
     "data": {
      "text/plain": [
       "[State object w/ parameters: 0.9999999999987341, 21.266701038553798, 4.5974366798975215.,\n",
       " State object w/ parameters: 0.8749999999984376, 9.400847172871407, 1.012736650373819.]"
      ]
     },
     "execution_count": 34,
     "metadata": {},
     "output_type": "execute_result"
    }
   ],
   "source": [
    "tHMMobj.estimate.E"
   ]
  },
  {
   "cell_type": "code",
   "execution_count": 35,
   "metadata": {},
   "outputs": [],
   "source": [
    "def accuracy_for_lineages(tHMMobj, all_states):\n",
    "    accuracy = []\n",
    "    for num, lineageObj in enumerate(tHMMobj.X):\n",
    "        lin_true_states = [cell.state for cell in lineageObj.output_lineage]\n",
    "\n",
    "        bern_diff = np.zeros((lineageObj.num_states))\n",
    "        gamma_a_diff = np.zeros((lineageObj.num_states))\n",
    "        gamma_scale_diff = np.zeros((lineageObj.num_states))\n",
    "        for state in range(lineageObj.num_states):\n",
    "            bern_diff[state] = abs(tHMMobj.estimate.E[state].bern_p - lineageObj.E[0].bern_p)\n",
    "            gamma_a_diff[state] = abs(tHMMobj.estimate.E[state].gamma_a - lineageObj.E[0].gamma_a)\n",
    "            gamma_scale_diff[state] = abs(tHMMobj.estimate.E[state].gamma_scale - lineageObj.E[0].gamma_scale)\n",
    "\n",
    "        bern_diff = bern_diff / sum(bern_diff)\n",
    "        gamma_a_diff = gamma_a_diff / sum(gamma_a_diff)\n",
    "        gamma_scale_diff = gamma_scale_diff / sum(gamma_scale_diff)\n",
    "\n",
    "        total_errs = bern_diff + gamma_a_diff + gamma_scale_diff\n",
    "        if total_errs[0] <= total_errs[1]:\n",
    "            new_all_states = all_states[num]\n",
    "        else:\n",
    "            print('SWITCHING!')\n",
    "            new_all_states = [not(x) for x in all_states[num]] \n",
    "            tmp = cp.deepcopy(tHMMobj.estimate.E[1])\n",
    "            tHMMobj.estimate.E[1] = tHMMobj.estimate.E[0]\n",
    "            tHMMobj.estimate.E[0] = tmp\n",
    "\n",
    "        counter = [1 if a==b else 0 for (a,b) in zip(new_all_states,lin_true_states)]\n",
    "        acc = sum(counter)/len(lin_true_states)\n",
    "        accuracy.append(acc)\n",
    "\n",
    "    return accuracy"
   ]
  },
  {
   "cell_type": "code",
   "execution_count": 53,
   "metadata": {},
   "outputs": [
    {
     "name": "stdout",
     "output_type": "stream",
     "text": [
      "the number of gamma observations 63\n",
      "[-288.1199454058292]\n",
      "the number of gamma observations 63\n",
      "[-288.119945263112]\n",
      "the number of gamma observations 63\n",
      "[-288.11994555705223]\n",
      "the number of gamma observations 63\n",
      "[-288.119945263112]\n",
      "SWITCHING!\n",
      "the number of gamma observations 87\n",
      "the number of gamma observations 39\n",
      "[-288.2735747942462, -276.1230800466056]\n",
      "the number of gamma observations 126\n",
      "[-304.7259229531559, -291.872557251549]\n",
      "the number of gamma observations 126\n",
      "[-288.6663234842803, -275.81295778265246]\n",
      "the number of gamma observations 126\n",
      "[-288.6663234842803, -275.81295778265246]\n",
      "the number of gamma observations 114\n",
      "[-288.6121916847601, -222.73907506462322]\n",
      "the number of gamma observations 114\n",
      "[-288.5862767135105, -222.7177570738455]\n",
      "the number of gamma observations 114\n",
      "[-288.5862767135105, -222.7177570738455]\n",
      "the number of gamma observations 189\n",
      "[-291.2488303971074, -283.52414733698566, -338.6377747863752]\n",
      "the number of gamma observations 189\n",
      "[-291.248830256547, -283.52414719642525, -338.71663638802136]\n",
      "the number of gamma observations 189\n",
      "[-291.248830256547, -283.52414719642525, -338.71663638802136]\n",
      "the number of gamma observations 177\n",
      "[-291.5528506417834, -230.01134014678826, -337.5163566108521]\n",
      "the number of gamma observations 177\n",
      "[-291.550539004497, -230.00902850950195, -337.5140449735657]\n",
      "the number of gamma observations 177\n",
      "[-291.550539004497, -230.00902850950195, -337.5140449735657]\n",
      "the number of gamma observations 168\n",
      "the number of gamma observations 84\n",
      "[-290.0344939578141, -283.05263059782544, -340.51453563020266, -298.01935359391723]\n",
      "the number of gamma observations 168\n",
      "the number of gamma observations 84\n",
      "[-290.03449388230763, -283.05263178817756, -340.5145355117081, -298.01935345519536]\n",
      "the number of gamma observations 238\n",
      "[-291.0865865282087, -229.39954665410224, -339.2018605018271, -290.54766168557234]\n",
      "the number of gamma observations 238\n",
      "[-291.0827320081229, -229.39569213401643, -339.1980060092889, -290.54380716815837]\n",
      "the number of gamma observations 238\n",
      "[-291.0827320081229, -229.39569213401643, -339.1980060092889, -290.54380716815837]\n",
      "SWITCHING!\n",
      "this is accurcy unpruned [[1.0], [1.0, 1.0], [1.0, 1.0, 0.9365079365079365], [0.3333333333333333, 0.6666666666666666, 0.6349206349206349, 0.6507936507936508]]\n",
      "this is unprunedddddddddddddd [1.0]\n",
      "this is unprunedddddddddddddd [1.0, 1.0]\n",
      "this is unprunedddddddddddddd [1.0, 1.0, 0.978835978835979]\n",
      "this is unprunedddddddddddddd [1.0, 1.0, 0.978835978835979, 0.5714285714285714]\n"
     ]
    }
   ],
   "source": [
    "import copy as cp\n",
    "# pi: the initial probability vector\n",
    "pi = np.array([0.5, 0.5], dtype=\"float\")\n",
    "\n",
    "# T: transition probability matrix\n",
    "T = np.array([[0.99, 0.01],\n",
    "              [0.15, 0.85]], dtype='float')\n",
    "\n",
    "# State 0 parameters \"Resistant\"\n",
    "state0 = 0\n",
    "bern_p0 = 0.99\n",
    "gamma_a0 = 20\n",
    "gamma_scale0 = 5\n",
    "\n",
    "# State 1 parameters \"Susciptible\"\n",
    "state1 = 1\n",
    "bern_p1 = 0.8\n",
    "gamma_a1 = 10\n",
    "gamma_scale1 = 1\n",
    "\n",
    "state_obj0 = StateDistribution(state0, bern_p0, gamma_a0, gamma_scale0)\n",
    "state_obj1 = StateDistribution(state1, bern_p1, gamma_a1, gamma_scale1)\n",
    "\n",
    "E = [state_obj0, state_obj1]\n",
    "\n",
    "desired_num_cells = 2**6 - 1\n",
    "# increasing number of lineages from 1 to 10 and calculating accuracy and estimate parameters for both pruned and unpruned lineages.\n",
    "num_lineages = list(range(1, 5))\n",
    "\n",
    "accuracies_unpruned = []\n",
    "accuracies_pruned = []\n",
    "bern_unpruned = []\n",
    "gamma_a_unpruned = []\n",
    "gamma_scale_unpruned = []\n",
    "bern_pruned = []\n",
    "gamma_a_pruned = []\n",
    "gamma_scale_pruned = []\n",
    "\n",
    "prunedNewAcc = []\n",
    "unprunedNewAcc = []\n",
    "X_p = []\n",
    "X_unp = []\n",
    "for num in num_lineages:\n",
    "    lineage_unpruned = LineageTree(pi, T, E, desired_num_cells, prune_boolean=False)\n",
    "    lineage_pruned = cp.deepcopy(lineage_unpruned)\n",
    "    lineage_pruned.prune_boolean = True\n",
    "\n",
    "    X_unp.append(lineage_unpruned)\n",
    "    X_p.append(lineage_pruned)\n",
    "    deltas, state_ptrs, all_states, tHMMobj, NF, LL = Analyze(X_unp, 2)\n",
    "    deltas2, state_ptrs2, all_states2, tHMMobj2, NF2, LL2 = Analyze(X_p, 2)\n",
    "    acc1 = accuracy_for_lineages(tHMMobj, all_states)\n",
    "    acc2 = accuracy_for_lineages(tHMMobj2, all_states2)\n",
    "    accuracies_unpruned.append(acc1)\n",
    "    accuracies_pruned.append(acc2)\n",
    "\n",
    "    bern_p_total = ()\n",
    "    gamma_a_total = ()\n",
    "    gamma_scale_total = ()\n",
    "    bern_p_total2 = ()\n",
    "    gamma_a_total2 = ()\n",
    "    gamma_scale_total2 = ()\n",
    "\n",
    "    for state in range(tHMMobj.numStates):\n",
    "        bern_p_total += (tHMMobj.estimate.E[state].bern_p,)\n",
    "        gamma_a_total += (tHMMobj.estimate.E[state].gamma_a,)\n",
    "        gamma_scale_total += (tHMMobj.estimate.E[state].gamma_scale,)\n",
    "\n",
    "        bern_p_total2 += (tHMMobj2.estimate.E[state].bern_p,)\n",
    "        gamma_a_total2 += (tHMMobj2.estimate.E[state].gamma_a,)\n",
    "        gamma_scale_total2 += (tHMMobj2.estimate.E[state].gamma_scale,)\n",
    "\n",
    "    bern_unpruned.append(bern_p_total)\n",
    "    gamma_a_unpruned.append(gamma_a_total)\n",
    "    gamma_scale_unpruned.append(gamma_scale_total)\n",
    "    bern_pruned.append(bern_p_total2)\n",
    "    gamma_a_pruned.append(gamma_a_total2)\n",
    "    gamma_scale_pruned.append(gamma_scale_total2)\n",
    "\n",
    "print(\"this is accurcy unpruned\", accuracies_unpruned)\n",
    "for i in range(len(accuracies_unpruned)):\n",
    "    unprunedNewAcc.append(sum(accuracies_unpruned[i])/(i+1))\n",
    "    prunedNewAcc.append(sum(accuracies_pruned[i])/(i+1))\n",
    "    print(\"this is unprunedddddddddddddd\", unprunedNewAcc)"
   ]
  },
  {
   "cell_type": "code",
   "execution_count": null,
   "metadata": {},
   "outputs": [],
   "source": [
    "accuracy_for_lineages(tHMMobj, all_states)"
   ]
  },
  {
   "cell_type": "code",
   "execution_count": null,
   "metadata": {},
   "outputs": [],
   "source": [
    "import matplotlib.pyplot as plt\n",
    "for state in range(lineage1.num_states):\n",
    "    askjdha, sduhfksj = list(zip(*lineage1.lineage_stats[state].pruned_lin_cells_obs))\n",
    "    plt.hist(sduhfksj)\n",
    "    plt.show()\n"
   ]
  },
  {
   "cell_type": "code",
   "execution_count": null,
   "metadata": {},
   "outputs": [],
   "source": [
    "for state in range(lineage1.num_states):\n",
    "    askjdha, sduhfksj = list(zip(*lineage1.lineage_stats[state].full_lin_cells_obs))\n",
    "    plt.hist(sduhfksj)"
   ]
  },
  {
   "cell_type": "markdown",
   "metadata": {},
   "source": [
    "### Estimated Markov parameters ($\\pi$, $T$, $E$)"
   ]
  },
  {
   "cell_type": "code",
   "execution_count": null,
   "metadata": {},
   "outputs": [],
   "source": [
    "print(tHMMobj.estimate.pi)"
   ]
  },
  {
   "cell_type": "code",
   "execution_count": null,
   "metadata": {},
   "outputs": [],
   "source": [
    "print(tHMMobj.estimate.T)"
   ]
  },
  {
   "cell_type": "code",
   "execution_count": null,
   "metadata": {},
   "outputs": [],
   "source": [
    "for state in range(tHMMobj.numStates):\n",
    "    print(tHMMobj.estimate.E[state])"
   ]
  },
  {
   "cell_type": "markdown",
   "metadata": {},
   "source": [
    "## Trying another lineage, this time pruning branches with ancestors that die"
   ]
  },
  {
   "cell_type": "code",
   "execution_count": null,
   "metadata": {},
   "outputs": [],
   "source": [
    "desired_num_cells = 2**12 -1 \n",
    "prune_boolean = True # To get pruned tree"
   ]
  },
  {
   "cell_type": "code",
   "execution_count": null,
   "metadata": {},
   "outputs": [],
   "source": [
    "lineage2 = LineageTree(pi, T, E, desired_num_cells, prune_boolean)\n",
    "print(lineage2)"
   ]
  },
  {
   "cell_type": "code",
   "execution_count": null,
   "metadata": {},
   "outputs": [],
   "source": [
    "longest2 = get_experiment_time(lineage2)\n",
    "print(longest2)"
   ]
  },
  {
   "cell_type": "markdown",
   "metadata": {},
   "source": [
    "### Estimation of distribution parameters using our estimators for pruned lineage"
   ]
  },
  {
   "cell_type": "code",
   "execution_count": null,
   "metadata": {},
   "outputs": [],
   "source": [
    "for state in range(lineage2.num_states):\n",
    "    print(\"State {}:\".format(state))\n",
    "    print(\"                    estimated state\", E[state].estimator(lineage2.lineage_stats[state].pruned_lin_cells_obs))\n",
    "    print(\"original parameters given for state\", E[state])"
   ]
  },
  {
   "cell_type": "markdown",
   "metadata": {},
   "source": [
    "### Analyzing a population of lineages"
   ]
  },
  {
   "cell_type": "code",
   "execution_count": null,
   "metadata": {},
   "outputs": [],
   "source": [
    "X = [lineage1, lineage2] # population just contains one lineage\n",
    "\n",
    "#deltas, state_ptrs, all_states, tHMMobj, NF, LL = Analyze(X, 2) # find two states"
   ]
  },
  {
   "cell_type": "code",
   "execution_count": null,
   "metadata": {},
   "outputs": [],
   "source": [
    "for num, lineageObj in enumerate(X):\n",
    "    lin_estimated_states = all_states[num]\n",
    "    lin_true_states = [cell.state for cell in lineageObj.output_lineage]\n",
    "    total = len(lin_estimated_states)\n",
    "    assert total == len(lin_true_states)\n",
    "    counter = [1 if a==b else 0 for (a,b) in zip(lin_estimated_states,lin_true_states)]\n",
    "    print(\"Accuracy or 1-Accuracy is {}\".format(sum(counter)/total))"
   ]
  },
  {
   "cell_type": "markdown",
   "metadata": {},
   "source": [
    "### Estimated Markov parameters ($\\pi$, $T$, $E$)"
   ]
  },
  {
   "cell_type": "code",
   "execution_count": null,
   "metadata": {},
   "outputs": [],
   "source": [
    "print(tHMMobj.estimate.pi)"
   ]
  },
  {
   "cell_type": "code",
   "execution_count": null,
   "metadata": {},
   "outputs": [],
   "source": [
    "print(tHMMobj.estimate.T)"
   ]
  },
  {
   "cell_type": "code",
   "execution_count": null,
   "metadata": {},
   "outputs": [],
   "source": [
    "for state in range(tHMMobj.numStates):\n",
    "    print(tHMMobj.estimate.E[state])"
   ]
  },
  {
   "cell_type": "markdown",
   "metadata": {},
   "source": [
    "## Creating a synthetic lineage that has three states"
   ]
  },
  {
   "cell_type": "markdown",
   "metadata": {},
   "source": [
    "Here we generate a lineage with three states, which would be 1) Susciptible 2) Middle State 3) Resistant. The aim here is to show the transition from susciptible to resistant state doesn't happen immediately, and there is a gradual transition which is modeled as a middle state. The point to be considered here is that transition from 1 to 3 or otherwise is not possible so the probability of these transitions are zero, and most likely the initial cells are in susciptible state.\n",
    "\n",
    "**State 1**: Susceptible\n",
    "\n",
    "**State 2**: Transition state\n",
    "\n",
    "**State 3**: Resistant state\n"
   ]
  },
  {
   "cell_type": "code",
   "execution_count": null,
   "metadata": {},
   "outputs": [],
   "source": [
    "# pi: the initial probability vector\n",
    "pi_3 = np.array([0.5, 0.25, 0.25])\n",
    "\n",
    "# T: transition probability matrix\n",
    "T_3 = np.array([[0.65, 0.35, 0.00],\n",
    "                [0.20, 0.40, 0.40],\n",
    "                [0.00, 0.10, 0.90]])"
   ]
  },
  {
   "cell_type": "code",
   "execution_count": null,
   "metadata": {},
   "outputs": [],
   "source": [
    "# E: states are defined as StateDistribution objects\n",
    "\n",
    "# State 0 parameters \"Susciptible\"\n",
    "state0 = 0\n",
    "bern_p0 = 0.7\n",
    "expon_scale_beta0 = 20\n",
    "gamma_a0 = 5.0\n",
    "gamma_scale0 = 1.0\n",
    "\n",
    "# State 1 parameters \"Middle state\"\n",
    "state1 = 1\n",
    "bern_p1 = 0.85\n",
    "expon_scale_beta1 = 60\n",
    "gamma_a1 = 10.0\n",
    "gamma_scale1 = 2.0\n",
    "\n",
    "# State 2 parameters \"Resistant\"\n",
    "state2 = 2\n",
    "bern_p2 = 0.99\n",
    "expon_scale_beta2 = 80\n",
    "gamma_a2 = 15.0\n",
    "gamma_scale2 = 3.0\n",
    "\n",
    "state_obj0 = StateDistribution(state0, bern_p0, gamma_a0, gamma_scale0)\n",
    "state_obj1 = StateDistribution(state1, bern_p1, gamma_a1, gamma_scale1)\n",
    "state_obj2 = StateDistribution(state2, bern_p2, gamma_a2, gamma_scale2)\n",
    "\n",
    "E_3 = [state_obj0, state_obj1, state_obj2]"
   ]
  },
  {
   "cell_type": "code",
   "execution_count": null,
   "metadata": {},
   "outputs": [],
   "source": [
    "desired_num_cells = 2**13 - 1 \n",
    "prune_boolean = False # To get the full tree"
   ]
  },
  {
   "cell_type": "code",
   "execution_count": null,
   "metadata": {},
   "outputs": [],
   "source": [
    "lineage3 = LineageTree(pi_3, T_3, E_3, desired_num_cells, prune_boolean)\n",
    "print(lineage3)"
   ]
  },
  {
   "cell_type": "code",
   "execution_count": null,
   "metadata": {},
   "outputs": [],
   "source": [
    "longest3 = get_experiment_time(lineage3)\n",
    "print(longest3)"
   ]
  },
  {
   "cell_type": "markdown",
   "metadata": {},
   "source": [
    "### Estimation of distribution parameters using our estimators for full lineage (3 state)"
   ]
  },
  {
   "cell_type": "code",
   "execution_count": null,
   "metadata": {},
   "outputs": [],
   "source": [
    "for state in range(lineage3.num_states):\n",
    "    print(\"State {}:\".format(state))\n",
    "    print(\"estimated state\", E_3[state].estimator(lineage3.lineage_stats[state].full_lin_cells_obs))\n",
    "    print(\"estimated state\", E_3[state].estimator(lineage3.lineage_stats[state].pruned_lin_cells_obs))\n",
    "    print(\"true_____ state\", E_3[state])"
   ]
  },
  {
   "cell_type": "markdown",
   "metadata": {},
   "source": [
    "### Analyzing a three state lineage"
   ]
  },
  {
   "cell_type": "code",
   "execution_count": null,
   "metadata": {},
   "outputs": [],
   "source": [
    "X = [lineage3] # population just contains one lineage\n",
    "\n",
    "#deltas, state_ptrs, all_states, tHMMobj, NF, LL = Analyze(X, 3) # find three states"
   ]
  },
  {
   "cell_type": "code",
   "execution_count": null,
   "metadata": {},
   "outputs": [],
   "source": [
    "for num, lineageObj in enumerate(X):\n",
    "    lin_estimated_states = all_states[num]\n",
    "    lin_true_states = [cell.state for cell in lineageObj.output_lineage]\n",
    "    total = len(lin_estimated_states)\n",
    "    assert total == len(lin_true_states)\n",
    "    counter = [1 if a==b else 0 for (a,b) in zip(lin_estimated_states,lin_true_states)]\n",
    "    print(\"Accuracy {}\".format(sum(counter)/total))"
   ]
  },
  {
   "cell_type": "markdown",
   "metadata": {},
   "source": [
    "### Estimated Markov parameters ($\\pi$, $T$, $E$)"
   ]
  },
  {
   "cell_type": "code",
   "execution_count": null,
   "metadata": {},
   "outputs": [],
   "source": [
    "print(tHMMobj.estimate.pi)"
   ]
  },
  {
   "cell_type": "code",
   "execution_count": null,
   "metadata": {},
   "outputs": [],
   "source": [
    "print(tHMMobj.estimate.T)"
   ]
  },
  {
   "cell_type": "code",
   "execution_count": null,
   "metadata": {},
   "outputs": [],
   "source": [
    "for state in range(tHMMobj.numStates):\n",
    "    print(tHMMobj.estimate.E[state].shape[0])"
   ]
  },
  {
   "cell_type": "code",
   "execution_count": null,
   "metadata": {},
   "outputs": [],
   "source": [
    "\n",
    "\n",
    "\n",
    "\n"
   ]
  },
  {
   "cell_type": "code",
   "execution_count": null,
   "metadata": {},
   "outputs": [],
   "source": []
  },
  {
   "cell_type": "code",
   "execution_count": null,
   "metadata": {},
   "outputs": [],
   "source": [
    "import matplotlib.pyplot as plt\n",
    "%matplotlib inline"
   ]
  },
  {
   "cell_type": "code",
   "execution_count": null,
   "metadata": {},
   "outputs": [],
   "source": [
    "A = sp.gamma.rvs(a=20,scale=4,size=2)\n",
    "B = sp.gamma.rvs(a=5,scale=1,size=1000)\n",
    "plt.hist(A)\n",
    "plt.figure()\n",
    "plt.hist(B)"
   ]
  },
  {
   "cell_type": "code",
   "execution_count": null,
   "metadata": {},
   "outputs": [],
   "source": [
    "from lineage.StateDistribution import gamma_estimator \n",
    "a, b = gamma_estimator(A)"
   ]
  },
  {
   "cell_type": "code",
   "execution_count": null,
   "metadata": {},
   "outputs": [],
   "source": [
    "import scipy.stats as sp\n",
    "gamma_ll = sp.gamma.pdf(x=A, a=a, scale=b)  # gamma likelihood\n",
    "print(gamma_ll)"
   ]
  },
  {
   "cell_type": "code",
   "execution_count": null,
   "metadata": {},
   "outputs": [],
   "source": []
  }
 ],
 "metadata": {
  "kernelspec": {
   "display_name": "Python 3",
   "language": "python",
   "name": "python3"
  },
  "language_info": {
   "codemirror_mode": {
    "name": "ipython",
    "version": 3
   },
   "file_extension": ".py",
   "mimetype": "text/x-python",
   "name": "python",
   "nbconvert_exporter": "python",
   "pygments_lexer": "ipython3",
   "version": "3.7.3"
  }
 },
 "nbformat": 4,
 "nbformat_minor": 4
}
