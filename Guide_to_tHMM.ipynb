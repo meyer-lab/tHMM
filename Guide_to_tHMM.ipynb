{
 "cells": [
  {
   "cell_type": "markdown",
   "metadata": {},
   "source": [
    "# Guide to tHMM"
   ]
  },
  {
   "cell_type": "code",
   "execution_count": 1,
   "metadata": {},
   "outputs": [],
   "source": [
    "import numpy as np\n",
    "import scipy.stats as sp"
   ]
  },
  {
   "cell_type": "markdown",
   "metadata": {},
   "source": [
    "### Synthesizing Cells (not required by the user)"
   ]
  },
  {
   "cell_type": "code",
   "execution_count": 2,
   "metadata": {},
   "outputs": [],
   "source": [
    "from lineage.CellVar import CellVar as c\n",
    "from lineage.CellVar import _double"
   ]
  },
  {
   "cell_type": "code",
   "execution_count": 3,
   "metadata": {},
   "outputs": [],
   "source": [
    "T = np.array([[1.0, 0.0],\n",
    "              [0.0, 1.0]])\n",
    "    \n",
    "parent_state = 1\n",
    "parent_cell = c(state=parent_state, left=None, right=None, parent=None, gen=1)\n",
    "left_cell, right_cell = parent_cell._divide(T)"
   ]
  },
  {
   "cell_type": "code",
   "execution_count": 4,
   "metadata": {},
   "outputs": [
    {
     "name": "stdout",
     "output_type": "stream",
     "text": [
      "\n",
      " Generation: 2, State: 1, Observation: This cell has no observations to report. \n",
      " Generation: 2, State: 1, Observation: This cell has no observations to report.\n"
     ]
    }
   ],
   "source": [
    "print(left_cell, parent_cell.left)"
   ]
  },
  {
   "cell_type": "code",
   "execution_count": 5,
   "metadata": {},
   "outputs": [
    {
     "name": "stdout",
     "output_type": "stream",
     "text": [
      "\n",
      " Generation: 2, State: 1, Observation: This cell has no observations to report. \n",
      " Generation: 2, State: 1, Observation: This cell has no observations to report.\n"
     ]
    }
   ],
   "source": [
    "print(right_cell, parent_cell.right)"
   ]
  },
  {
   "cell_type": "markdown",
   "metadata": {},
   "source": [
    "## Creating a synthetic lineage (required by the user) \"Two State Model\""
   ]
  },
  {
   "cell_type": "code",
   "execution_count": 6,
   "metadata": {},
   "outputs": [],
   "source": [
    "from lineage.LineageTree import LineageTree\n",
    "from lineage.StateDistribution import StateDistribution, get_experiment_time"
   ]
  },
  {
   "cell_type": "markdown",
   "metadata": {},
   "source": [
    "### Creating a lineage and setting the full lineage (unpruned) as the one to be used"
   ]
  },
  {
   "cell_type": "markdown",
   "metadata": {},
   "source": [
    "The required probabilities are those that define the tree and act of state switching. This process works by first creating a hidden tree of empty cells. Empty cells are those that have their states set but do not have any observations attached to them. We then draw as many observations from each state distribution and assign those observations to those cells. The $\\pi$ and $T$ parameters are easy to define. The number of states is $k$. We require for $\\pi$ a $k\\times 1$ list of probabilities. These probabilities must add up to $1$ and they should be either in a $1$-dimensional list or a $1$-dimensional numpy array. The $T$ parameter should be a square numpy matrix of size $k\\times k$. The rows are the states in which we are transitioning from and the columns are the states in which we are transitioning to. Each row of $T$ should sum to $1$. The columns need not sum to $1$."
   ]
  },
  {
   "cell_type": "code",
   "execution_count": 7,
   "metadata": {},
   "outputs": [],
   "source": [
    "# pi: the initial probability vector\n",
    "pi = np.array([0.6, 0.4], dtype=\"float\")\n",
    "\n",
    "# T: transition probability matrix\n",
    "T = np.array([[0.85, 0.15],\n",
    "              [0.15, 0.85]], dtype=\"float\")"
   ]
  },
  {
   "cell_type": "markdown",
   "metadata": {},
   "source": [
    "The emission matrix $E$ is a little more complicated to define because this is where the user has complete freedom in defining what type of observation they care about. In particular, the user has to first begin with defining what observation he or she will want in their cells in their synthetic images. For example, if one is observing kinematics or physics, they might want to use Gaaussian distribution observations. In defining the random variables, the user will pull from a Gaussian distribution based on the mean and standard deviation of the different states he or she picks. They can also utilize the Gaussian probability distribution to define the likelihood as well. Furthermore, they can build an analytical estimator for their state distributions that yield the parameter estimates when given a list of observations. Finally, the user can also define a prune rule, which is essentially a boolean function that inspects a cell's observations and returns True if the cell's subtree (all the cells that are related to the cell in question and are of older generation) is to be pruned or False if the cell is safe from pruning. In the Gaussian example, a user can remove a cell's subtree if its observation is higher or lower than some fixed value.\n",
    "\n",
    "We have already built, as an example, and as bioengineers, a model that resembles lineage trees. In our synthetic model, our emissions are multivariate. This first emission is a Bernoulli observation, $0$ implying death and $1$ implying division. The second and third emissions are continuous and are from exponential and gamma distributions respectively. Though these can be thought of cell lifetime's or periods in a certain cell phase, we want the user to know that these values can really mean anything and they are completely free in choosing what the emissions and their values mean. We define ways to calculate random variables for these multivariate observations and likelihoods of an observations. We also provide as a prune rule, keeping with the cell analogy, that if a cell has a $0$ in its Bernoulli observation, then its subtree is pruned from the full lineage tree. Though this will obviously introduce bias into estimation, we keep both the full tree and the pruned tree in the lineage objects, in the case a user would like to see the effects of analyzing on one versus the other.\n",
    "\n",
    "Ultimately, $E$ is defined as a $k\\times 1$ size list of state distribution objects. These distribution objects are rich in what they can already do, and a user can easily add more to their functionality. They only need to be instantiated by what parameters define that state's distribution."
   ]
  },
  {
   "cell_type": "code",
   "execution_count": 8,
   "metadata": {},
   "outputs": [],
   "source": [
    "# E: states are defined as StateDistribution objects\n",
    "\n",
    "# State 0 parameters \"Resistant\"\n",
    "state0 = 0\n",
    "bern_p0 = 0.8\n",
    "exp_a0 = 10.0\n",
    "\n",
    "# State 1 parameters \"Susciptible\"\n",
    "state1 = 1\n",
    "bern_p1 = 0.8\n",
    "exp_a1 = 80.0\n",
    "\n",
    "state_obj0 = StateDistribution(state0, bern_p0, exp_a0)\n",
    "state_obj1 = StateDistribution(state1, bern_p1, exp_a1)\n",
    "\n",
    "E = [state_obj0, state_obj1]"
   ]
  },
  {
   "cell_type": "markdown",
   "metadata": {},
   "source": [
    "The final required parameters are more obvious. The first is the desired number of cells one would like in their full unpruned lineage tree. This can be any number. The lineage tree is built 'from left to right'. What this means is that, we construct the binary tree by going to the left-most cell, dividing then walking through the generation. For example, if someone requested for"
   ]
  },
  {
   "cell_type": "code",
   "execution_count": 9,
   "metadata": {},
   "outputs": [],
   "source": [
    "desired_num_cells = 2**7 - 1 \n",
    "prune_boolean = False # To get the full tree"
   ]
  },
  {
   "cell_type": "code",
   "execution_count": 10,
   "metadata": {},
   "outputs": [
    {
     "name": "stdout",
     "output_type": "stream",
     "text": [
      "This tree is NOT pruned. It is made of 2 states.\n",
      " For each state in this tree: \n",
      " \t There are 38 cells of state 0, \n",
      " \t There are 89 cells of state 1.\n",
      " This UNpruned tree has 127 cells in total\n"
     ]
    }
   ],
   "source": [
    "lineage1 = LineageTree(pi, T, E, desired_num_cells, prune_boolean)\n",
    "print(lineage1)"
   ]
  },
  {
   "cell_type": "markdown",
   "metadata": {},
   "source": [
    "### Obtaining how long the experiment ran by checking the time length of the longest branch"
   ]
  },
  {
   "cell_type": "code",
   "execution_count": 11,
   "metadata": {},
   "outputs": [
    {
     "name": "stdout",
     "output_type": "stream",
     "text": [
      "793.7614432407485\n"
     ]
    }
   ],
   "source": [
    "longest_branch_time = get_experiment_time(lineage1)\n",
    "print(longest_branch_time)"
   ]
  },
  {
   "cell_type": "markdown",
   "metadata": {},
   "source": [
    "### Estimation of distribution parameters using our estimators for full lineage"
   ]
  },
  {
   "cell_type": "code",
   "execution_count": 12,
   "metadata": {},
   "outputs": [
    {
     "name": "stdout",
     "output_type": "stream",
     "text": [
      "State 0:\n",
      "33.0\n",
      "38.0\n",
      "0.868421052631579\n",
      "                    estimated state State object w/ parameters: 0.868421052631579, 9.72354271331449.\n",
      "original parameters given for state State object w/ parameters: 0.8, 10.0.\n",
      "State 1:\n",
      "70.0\n",
      "89.0\n",
      "0.7865168539325843\n",
      "                    estimated state State object w/ parameters: 0.7865168539325843, 72.30021231384241.\n",
      "original parameters given for state State object w/ parameters: 0.8, 80.0.\n"
     ]
    }
   ],
   "source": [
    "for state in range(lineage1.num_states):\n",
    "    print(\"State {}:\".format(state))\n",
    "    print(\"                    estimated state\", E[state].estimator(lineage1.lineage_stats[state].full_lin_cells_obs))\n",
    "    print(\"original parameters given for state\", E[state])"
   ]
  },
  {
   "cell_type": "markdown",
   "metadata": {},
   "source": [
    "### Estimation of distribution parameters using our estimators for pruned lineage"
   ]
  },
  {
   "cell_type": "code",
   "execution_count": 13,
   "metadata": {},
   "outputs": [
    {
     "name": "stdout",
     "output_type": "stream",
     "text": [
      "State 0:\n",
      "20.0\n",
      "24.0\n",
      "0.8333333333333334\n",
      "                    estimated state State object w/ parameters: 0.8333333333333334, 9.43392307657434.\n",
      "original parameters given for state State object w/ parameters: 0.8, 10.0.\n",
      "State 1:\n",
      "32.0\n",
      "37.0\n",
      "0.8648648648648649\n",
      "                    estimated state State object w/ parameters: 0.8648648648648649, 68.51582704872233.\n",
      "original parameters given for state State object w/ parameters: 0.8, 80.0.\n"
     ]
    }
   ],
   "source": [
    "for state in range(lineage1.num_states):\n",
    "    print(\"State {}:\".format(state))\n",
    "    print(\"                    estimated state\", E[state].estimator(lineage1.lineage_stats[state].pruned_lin_cells_obs))\n",
    "    print(\"original parameters given for state\", E[state])"
   ]
  },
  {
   "cell_type": "markdown",
   "metadata": {},
   "source": [
    "### Analyzing our first full lineage"
   ]
  },
  {
   "cell_type": "code",
   "execution_count": 14,
   "metadata": {},
   "outputs": [
    {
     "name": "stdout",
     "output_type": "stream",
     "text": [
      "103.0\n",
      "103.0\n",
      "1.0\n",
      "2.220446049250313e-16\n",
      "24.0\n",
      "9.25185853854297e-18\n",
      "[-721.3592966301293]\n",
      "103.0\n",
      "103.0\n",
      "1.0\n",
      "2.220446049250313e-16\n",
      "24.0\n",
      "9.25185853854297e-18\n",
      "[-692.6767967513653]\n",
      "103.0\n",
      "103.0\n",
      "1.0\n",
      "2.220446049250313e-16\n",
      "24.0\n",
      "9.25185853854297e-18\n",
      "[-692.6767967513653]\n"
     ]
    }
   ],
   "source": [
    "from lineage.Analyze import Analyze\n",
    "\n",
    "X = [lineage1] # population just contains one lineage\n",
    "states = [cell.state for cell in lineage1.output_lineage]\n",
    "deltas, state_ptrs, all_states, tHMMobj, NF, LL = Analyze(X, 2) # find two states"
   ]
  },
  {
   "cell_type": "code",
   "execution_count": 15,
   "metadata": {},
   "outputs": [
    {
     "name": "stdout",
     "output_type": "stream",
     "text": [
      "Accuracy or 1-Accuracy is 0.4094488188976378\n",
      "(1, 88.66498356851582) 1 0 False\n",
      "(1, 24.924368561801053) 1 0 False\n",
      "(0, 72.07430719697561) 1 1 True\n",
      "(1, 37.15454953337352) 1 0 False\n",
      "(1, 36.02870497859633) 1 0 False\n",
      "(0, 75.1758684214805) 1 1 True\n",
      "(0, 21.588123472679307) 1 1 True\n",
      "(1, 64.5809564669714) 1 0 False\n",
      "(1, 98.37895525851314) 1 0 False\n",
      "(1, 53.001003955675536) 1 0 False\n",
      "(1, 8.49427021846005) 1 0 False\n",
      "(1, 8.545539067673705) 1 0 False\n",
      "(0, 45.47489957365556) 1 1 True\n",
      "(0, 7.536591657286904) 1 1 True\n",
      "(0, 100.48655630632206) 1 1 True\n",
      "(1, 28.367275731052246) 1 0 False\n",
      "(1, 262.0659407903667) 1 0 False\n",
      "(1, 4.725596125348851) 0 0 True\n",
      "(1, 20.644490189925584) 1 0 False\n",
      "(1, 200.21850594364466) 1 0 False\n",
      "(1, 12.79079370598307) 0 0 True\n",
      "(1, 60.363867169092345) 1 0 False\n",
      "(1, 24.794931305500576) 1 0 False\n",
      "(0, 68.0643574016233) 1 1 True\n",
      "(1, 4.1204727238188275) 1 0 False\n",
      "(1, 27.626103633563154) 0 0 True\n",
      "(0, 71.16222824971769) 1 1 True\n",
      "(1, 32.73298234430734) 1 0 False\n",
      "(1, 151.60149992745164) 1 0 False\n",
      "(1, 69.18965254662044) 1 0 False\n",
      "(1, 133.52283840162602) 1 0 False\n",
      "(1, 1.3416542342134847) 0 0 True\n",
      "(1, 18.687484280497237) 1 0 False\n",
      "(1, 34.567350255413885) 0 0 True\n",
      "(1, 50.72783029267213) 1 0 False\n",
      "(1, 3.5901706747127755) 0 0 True\n",
      "(1, 10.29961846141408) 0 0 True\n",
      "(1, 6.189583994723983) 0 0 True\n",
      "(1, 19.72612739649723) 1 0 False\n",
      "(1, 225.92539159436706) 1 0 False\n",
      "(1, 37.54487996236961) 1 0 False\n",
      "(1, 1.2695300557642508) 0 0 True\n",
      "(0, 16.309748440129386) 0 1 False\n",
      "(1, 80.42957327336921) 1 0 False\n",
      "(1, 35.83015993577246) 1 0 False\n",
      "(1, 235.1675252272733) 1 0 False\n",
      "(0, 28.538624074861254) 1 1 True\n",
      "(1, 1.5066209090410614) 1 0 False\n",
      "(1, 26.50482902112996) 1 0 False\n",
      "(1, 13.50929094879775) 1 0 False\n",
      "(1, 66.75065913624007) 1 0 False\n",
      "(1, 34.78065039205666) 0 0 True\n",
      "(1, 5.447563148880217) 0 0 True\n",
      "(1, 57.094676929921306) 1 0 False\n",
      "(1, 8.559425981439965) 0 0 True\n",
      "(1, 40.120200466136815) 1 0 False\n",
      "(0, 67.5675059242933) 1 1 True\n",
      "(1, 34.38374352119232) 1 0 False\n",
      "(1, 6.604603712509229) 1 0 False\n",
      "(1, 20.536132194596224) 1 0 False\n",
      "(1, 88.72606568632764) 1 0 False\n",
      "(0, 278.5178530092028) 1 1 True\n",
      "(1, 53.38394654291505) 1 0 False\n",
      "(1, 27.978846249930513) 0 0 True\n",
      "(1, 2.4588099295873382) 0 0 True\n",
      "(1, 13.701856271023594) 1 0 False\n",
      "(1, 6.15735813440463) 1 0 False\n",
      "(0, 14.262186220220086) 0 1 False\n",
      "(1, 7.575626741705232) 0 0 True\n",
      "(1, 8.167753248302386) 1 0 False\n",
      "(1, 3.3250112017343536) 0 0 True\n",
      "(1, 8.294241176053955) 0 0 True\n",
      "(1, 1.4718874432051372) 0 0 True\n",
      "(0, 16.69515289483329) 0 1 False\n",
      "(1, 0.3166481906120277) 0 0 True\n",
      "(0, 8.125733483173835) 0 1 False\n",
      "(1, 10.511969279148447) 0 0 True\n",
      "(1, 1.0830094824167555) 1 0 False\n",
      "(1, 6.366001123513899) 0 0 True\n",
      "(0, 34.44803224419576) 1 1 True\n",
      "(1, 32.651541356215425) 1 0 False\n",
      "(1, 216.18919265181037) 1 0 False\n",
      "(1, 3.7129016862107402) 0 0 True\n",
      "(1, 68.47181132424252) 1 0 False\n",
      "(1, 20.06089154304615) 0 0 True\n",
      "(1, 15.610300900104562) 0 0 True\n",
      "(0, 94.5482279358543) 1 1 True\n",
      "(1, 1.4748843002066578) 1 0 False\n",
      "(0, 36.246297912498406) 1 1 True\n",
      "(0, 128.14216664022103) 1 1 True\n",
      "(1, 18.739297865152814) 1 0 False\n",
      "(1, 157.27769246589148) 1 0 False\n",
      "(1, 4.174200727105384) 0 0 True\n",
      "(1, 12.16824220982989) 0 0 True\n",
      "(1, 216.83802144086528) 1 0 False\n",
      "(1, 119.40247707696415) 1 0 False\n",
      "(1, 232.97997077592927) 1 0 False\n",
      "(1, 28.153901470737544) 1 0 False\n",
      "(1, 28.525390890787193) 1 0 False\n",
      "(1, 46.42748498803118) 1 0 False\n",
      "(0, 73.26277398854164) 1 1 True\n",
      "(1, 29.99353128896118) 1 0 False\n",
      "(1, 250.25409229930017) 1 0 False\n",
      "(1, 10.162921467961523) 0 0 True\n",
      "(0, 1.2672271370221833) 0 1 False\n",
      "(1, 4.653035583020849) 0 0 True\n",
      "(1, 4.185236944036046) 0 0 True\n",
      "(1, 59.51870022414659) 1 0 False\n",
      "(1, 81.06169872638668) 1 0 False\n",
      "(1, 1.819912010518712) 0 0 True\n",
      "(1, 5.554589488739294) 0 0 True\n",
      "(1, 42.27587197391634) 1 0 False\n",
      "(1, 69.54294461228356) 1 0 False\n",
      "(1, 1.6300466298195524) 0 0 True\n",
      "(1, 78.88597324316098) 1 0 False\n",
      "(1, 105.49685540970616) 1 0 False\n",
      "(1, 9.615213741173958) 0 0 True\n",
      "(1, 268.8305921722997) 1 0 False\n",
      "(1, 24.023736785487348) 1 0 False\n",
      "(1, 17.46656583200864) 1 0 False\n",
      "(0, 3.613978875836885) 1 1 True\n",
      "(0, 29.6141389821798) 1 1 True\n",
      "(0, 204.0676658932756) 1 1 True\n",
      "(1, 80.3890000186857) 1 0 False\n",
      "(1, 98.90678128542689) 1 0 False\n",
      "(1, 37.67506712494448) 1 0 False\n",
      "(1, 33.4701137169657) 1 0 False\n"
     ]
    }
   ],
   "source": [
    "for num, lineageObj in enumerate(X):\n",
    "    lin_estimated_states = all_states[num]\n",
    "    lin_true_states = [cell.state for cell in lineageObj.output_lineage]\n",
    "    total = len(lin_estimated_states)\n",
    "    assert total == len(lin_true_states)\n",
    "    counter = [1 if a==b else 0 for (a,b) in zip(lin_estimated_states,lin_true_states)]\n",
    "    print(\"Accuracy or 1-Accuracy is {}\".format(sum(counter)/total))\n",
    "    \n",
    "obs = [cell.obs for cell in lineage1.output_lineage]\n",
    "for idx, ob in enumerate(obs):\n",
    "    print(ob, states[idx], all_states[0][idx], states[idx]==all_states[0][idx])"
   ]
  },
  {
   "cell_type": "code",
   "execution_count": null,
   "metadata": {},
   "outputs": [],
   "source": []
  },
  {
   "cell_type": "code",
   "execution_count": null,
   "metadata": {},
   "outputs": [],
   "source": []
  },
  {
   "cell_type": "code",
   "execution_count": null,
   "metadata": {},
   "outputs": [],
   "source": []
  },
  {
   "cell_type": "markdown",
   "metadata": {},
   "source": [
    "### Estimated Markov parameters ($\\pi$, $T$, $E$)"
   ]
  },
  {
   "cell_type": "code",
   "execution_count": 16,
   "metadata": {},
   "outputs": [
    {
     "name": "stdout",
     "output_type": "stream",
     "text": [
      "[1.00000000e+00 1.55002605e-34]\n"
     ]
    }
   ],
   "source": [
    "print(tHMMobj.estimate.pi)"
   ]
  },
  {
   "cell_type": "code",
   "execution_count": 17,
   "metadata": {},
   "outputs": [
    {
     "name": "stdout",
     "output_type": "stream",
     "text": [
      "[[0.83333333 0.16666667]\n",
      " [0.70833333 0.29166667]]\n"
     ]
    }
   ],
   "source": [
    "print(tHMMobj.estimate.T)"
   ]
  },
  {
   "cell_type": "code",
   "execution_count": 18,
   "metadata": {},
   "outputs": [
    {
     "name": "stdout",
     "output_type": "stream",
     "text": [
      "State object w/ parameters: 1.0, 51.52838129225093.\n",
      "State object w/ parameters: 9.25185853854297e-18, 62.3662602473367.\n"
     ]
    }
   ],
   "source": [
    "for state in range(tHMMobj.numStates):\n",
    "    print(tHMMobj.estimate.E[state])"
   ]
  },
  {
   "cell_type": "markdown",
   "metadata": {},
   "source": [
    "## Trying another lineage, this time pruning branches with ancestors that die"
   ]
  },
  {
   "cell_type": "code",
   "execution_count": 19,
   "metadata": {},
   "outputs": [],
   "source": [
    "desired_num_cells = 2**12 -1 \n",
    "prune_boolean = False # To get pruned tree"
   ]
  },
  {
   "cell_type": "code",
   "execution_count": 20,
   "metadata": {},
   "outputs": [
    {
     "name": "stdout",
     "output_type": "stream",
     "text": [
      "This tree is NOT pruned. It is made of 2 states.\n",
      " For each state in this tree: \n",
      " \t There are 2124 cells of state 0, \n",
      " \t There are 1971 cells of state 1.\n",
      " This UNpruned tree has 4095 cells in total\n"
     ]
    }
   ],
   "source": [
    "lineage2 = LineageTree(pi, T, E, desired_num_cells, prune_boolean)\n",
    "print(lineage2)"
   ]
  },
  {
   "cell_type": "code",
   "execution_count": 21,
   "metadata": {},
   "outputs": [
    {
     "name": "stdout",
     "output_type": "stream",
     "text": [
      "1916.5199346305487\n"
     ]
    }
   ],
   "source": [
    "longest2 = get_experiment_time(lineage2)\n",
    "print(longest2)"
   ]
  },
  {
   "cell_type": "markdown",
   "metadata": {},
   "source": [
    "### Estimation of distribution parameters using our estimators for pruned lineage"
   ]
  },
  {
   "cell_type": "code",
   "execution_count": 22,
   "metadata": {},
   "outputs": [
    {
     "name": "stdout",
     "output_type": "stream",
     "text": [
      "State 0:\n",
      "2.220446049250313e-16\n",
      "4.440892098500626e-16\n",
      "0.5\n",
      "                    estimated state State object w/ parameters: 0.5, 50.0.\n",
      "original parameters given for state State object w/ parameters: 0.8, 10.0.\n",
      "State 1:\n",
      "2.220446049250313e-16\n",
      "1.0000000000000004\n",
      "2.220446049250312e-16\n",
      "                    estimated state State object w/ parameters: 2.220446049250312e-16, 59.119613141907344.\n",
      "original parameters given for state State object w/ parameters: 0.8, 80.0.\n"
     ]
    }
   ],
   "source": [
    "for state in range(lineage2.num_states):\n",
    "    print(\"State {}:\".format(state))\n",
    "    print(\"                    estimated state\", E[state].estimator(lineage2.lineage_stats[state].pruned_lin_cells_obs))\n",
    "    print(\"original parameters given for state\", E[state])"
   ]
  },
  {
   "cell_type": "markdown",
   "metadata": {},
   "source": [
    "### Analyzing a population of lineages"
   ]
  },
  {
   "cell_type": "code",
   "execution_count": 23,
   "metadata": {},
   "outputs": [
    {
     "name": "stdout",
     "output_type": "stream",
     "text": [
      "Accuracy or 1-Accuracy is 0.4094488188976378\n"
     ]
    }
   ],
   "source": [
    "for num, lineageObj in enumerate(X):\n",
    "    lin_estimated_states = all_states[num]\n",
    "    lin_true_states = [cell.state for cell in lineageObj.output_lineage]\n",
    "    total = len(lin_estimated_states)\n",
    "    assert total == len(lin_true_states)\n",
    "    counter = [1 if a==b else 0 for (a,b) in zip(lin_estimated_states,lin_true_states)]\n",
    "    print(\"Accuracy or 1-Accuracy is {}\".format(sum(counter)/total))"
   ]
  },
  {
   "cell_type": "markdown",
   "metadata": {},
   "source": [
    "### Estimated Markov parameters ($\\pi$, $T$, $E$)"
   ]
  },
  {
   "cell_type": "code",
   "execution_count": 24,
   "metadata": {},
   "outputs": [
    {
     "name": "stdout",
     "output_type": "stream",
     "text": [
      "[1.00000000e+00 1.55002605e-34]\n"
     ]
    }
   ],
   "source": [
    "print(tHMMobj.estimate.pi)"
   ]
  },
  {
   "cell_type": "code",
   "execution_count": 25,
   "metadata": {},
   "outputs": [
    {
     "name": "stdout",
     "output_type": "stream",
     "text": [
      "[[0.83333333 0.16666667]\n",
      " [0.70833333 0.29166667]]\n"
     ]
    }
   ],
   "source": [
    "print(tHMMobj.estimate.T)"
   ]
  },
  {
   "cell_type": "code",
   "execution_count": 26,
   "metadata": {},
   "outputs": [
    {
     "name": "stdout",
     "output_type": "stream",
     "text": [
      "State object w/ parameters: 1.0, 51.52838129225093.\n",
      "State object w/ parameters: 9.25185853854297e-18, 62.3662602473367.\n"
     ]
    }
   ],
   "source": [
    "for state in range(tHMMobj.numStates):\n",
    "    print(tHMMobj.estimate.E[state])"
   ]
  },
  {
   "cell_type": "markdown",
   "metadata": {},
   "source": [
    "## Creating a synthetic lineage that has three states"
   ]
  },
  {
   "cell_type": "markdown",
   "metadata": {},
   "source": [
    "Here we generate a lineage with three states, which would be 1) Susciptible 2) Middle State 3) Resistant. The aim here is to show the transition from susciptible to resistant state doesn't happen immediately, and there is a gradual transition which is modeled as a middle state. The point to be considered here is that transition from 1 to 3 or otherwise is not possible so the probability of these transitions are zero, and most likely the initial cells are in susciptible state.\n",
    "\n",
    "**State 1**: Susceptible\n",
    "\n",
    "**State 2**: Transition state\n",
    "\n",
    "**State 3**: Resistant state\n"
   ]
  },
  {
   "cell_type": "code",
   "execution_count": 27,
   "metadata": {},
   "outputs": [],
   "source": [
    "# pi: the initial probability vector\n",
    "pi_3 = np.array([0.5, 0.25, 0.25])\n",
    "\n",
    "# T: transition probability matrix\n",
    "T_3 = np.array([[0.65, 0.35, 0.00],\n",
    "                [0.20, 0.40, 0.40],\n",
    "                [0.00, 0.10, 0.90]])"
   ]
  },
  {
   "cell_type": "code",
   "execution_count": 28,
   "metadata": {},
   "outputs": [
    {
     "ename": "TypeError",
     "evalue": "__init__() takes 4 positional arguments but 5 were given",
     "output_type": "error",
     "traceback": [
      "\u001b[0;31m---------------------------------------------------------------------------\u001b[0m",
      "\u001b[0;31mTypeError\u001b[0m                                 Traceback (most recent call last)",
      "\u001b[0;32m<ipython-input-28-4ddf43f1b53c>\u001b[0m in \u001b[0;36m<module>\u001b[0;34m\u001b[0m\n\u001b[1;32m     22\u001b[0m \u001b[0mgamma_scale2\u001b[0m \u001b[0;34m=\u001b[0m \u001b[0;36m3.0\u001b[0m\u001b[0;34m\u001b[0m\u001b[0;34m\u001b[0m\u001b[0m\n\u001b[1;32m     23\u001b[0m \u001b[0;34m\u001b[0m\u001b[0m\n\u001b[0;32m---> 24\u001b[0;31m \u001b[0mstate_obj0\u001b[0m \u001b[0;34m=\u001b[0m \u001b[0mStateDistribution\u001b[0m\u001b[0;34m(\u001b[0m\u001b[0mstate0\u001b[0m\u001b[0;34m,\u001b[0m \u001b[0mbern_p0\u001b[0m\u001b[0;34m,\u001b[0m \u001b[0mgamma_a0\u001b[0m\u001b[0;34m,\u001b[0m \u001b[0mgamma_scale0\u001b[0m\u001b[0;34m)\u001b[0m\u001b[0;34m\u001b[0m\u001b[0;34m\u001b[0m\u001b[0m\n\u001b[0m\u001b[1;32m     25\u001b[0m \u001b[0mstate_obj1\u001b[0m \u001b[0;34m=\u001b[0m \u001b[0mStateDistribution\u001b[0m\u001b[0;34m(\u001b[0m\u001b[0mstate1\u001b[0m\u001b[0;34m,\u001b[0m \u001b[0mbern_p1\u001b[0m\u001b[0;34m,\u001b[0m \u001b[0mgamma_a1\u001b[0m\u001b[0;34m,\u001b[0m \u001b[0mgamma_scale1\u001b[0m\u001b[0;34m)\u001b[0m\u001b[0;34m\u001b[0m\u001b[0;34m\u001b[0m\u001b[0m\n\u001b[1;32m     26\u001b[0m \u001b[0mstate_obj2\u001b[0m \u001b[0;34m=\u001b[0m \u001b[0mStateDistribution\u001b[0m\u001b[0;34m(\u001b[0m\u001b[0mstate2\u001b[0m\u001b[0;34m,\u001b[0m \u001b[0mbern_p2\u001b[0m\u001b[0;34m,\u001b[0m \u001b[0mgamma_a2\u001b[0m\u001b[0;34m,\u001b[0m \u001b[0mgamma_scale2\u001b[0m\u001b[0;34m)\u001b[0m\u001b[0;34m\u001b[0m\u001b[0;34m\u001b[0m\u001b[0m\n",
      "\u001b[0;31mTypeError\u001b[0m: __init__() takes 4 positional arguments but 5 were given"
     ]
    }
   ],
   "source": [
    "# E: states are defined as StateDistribution objects\n",
    "\n",
    "# State 0 parameters \"Susciptible\"\n",
    "state0 = 0\n",
    "bern_p0 = 0.7\n",
    "expon_scale_beta0 = 20\n",
    "gamma_a0 = 5.0\n",
    "gamma_scale0 = 1.0\n",
    "\n",
    "# State 1 parameters \"Middle state\"\n",
    "state1 = 1\n",
    "bern_p1 = 0.85\n",
    "expon_scale_beta1 = 60\n",
    "gamma_a1 = 10.0\n",
    "gamma_scale1 = 2.0\n",
    "\n",
    "# State 2 parameters \"Resistant\"\n",
    "state2 = 2\n",
    "bern_p2 = 0.99\n",
    "expon_scale_beta2 = 80\n",
    "gamma_a2 = 15.0\n",
    "gamma_scale2 = 3.0\n",
    "\n",
    "state_obj0 = StateDistribution(state0, bern_p0, gamma_a0, gamma_scale0)\n",
    "state_obj1 = StateDistribution(state1, bern_p1, gamma_a1, gamma_scale1)\n",
    "state_obj2 = StateDistribution(state2, bern_p2, gamma_a2, gamma_scale2)\n",
    "\n",
    "E_3 = [state_obj0, state_obj1, state_obj2]"
   ]
  },
  {
   "cell_type": "code",
   "execution_count": null,
   "metadata": {},
   "outputs": [],
   "source": [
    "desired_num_cells = 2**13 - 1 \n",
    "prune_boolean = False # To get the full tree"
   ]
  },
  {
   "cell_type": "code",
   "execution_count": null,
   "metadata": {},
   "outputs": [],
   "source": [
    "lineage3 = LineageTree(pi_3, T_3, E_3, desired_num_cells, prune_boolean)\n",
    "print(lineage3)"
   ]
  },
  {
   "cell_type": "code",
   "execution_count": null,
   "metadata": {},
   "outputs": [],
   "source": [
    "longest3 = get_experiment_time(lineage3)\n",
    "print(longest3)"
   ]
  },
  {
   "cell_type": "markdown",
   "metadata": {},
   "source": [
    "### Estimation of distribution parameters using our estimators for full lineage (3 state)"
   ]
  },
  {
   "cell_type": "code",
   "execution_count": null,
   "metadata": {},
   "outputs": [],
   "source": [
    "for state in range(lineage3.num_states):\n",
    "    print(\"State {}:\".format(state))\n",
    "    print(\"estimated state\", E_3[state].estimator(lineage3.lineage_stats[state].full_lin_cells_obs))\n",
    "    print(\"estimated state\", E_3[state].estimator(lineage3.lineage_stats[state].pruned_lin_cells_obs))\n",
    "    print(\"true_____ state\", E_3[state])"
   ]
  },
  {
   "cell_type": "markdown",
   "metadata": {},
   "source": [
    "### Analyzing a three state lineage"
   ]
  },
  {
   "cell_type": "code",
   "execution_count": null,
   "metadata": {},
   "outputs": [],
   "source": [
    "X = [lineage3] # population just contains one lineage\n",
    "\n",
    "deltas, state_ptrs, all_states, tHMMobj, NF, LL = Analyze(X, 3) # find three states"
   ]
  },
  {
   "cell_type": "code",
   "execution_count": null,
   "metadata": {},
   "outputs": [],
   "source": [
    "for num, lineageObj in enumerate(X):\n",
    "    lin_estimated_states = all_states[num]\n",
    "    lin_true_states = [cell.state for cell in lineageObj.output_lineage]\n",
    "    total = len(lin_estimated_states)\n",
    "    assert total == len(lin_true_states)\n",
    "    counter = [1 if a==b else 0 for (a,b) in zip(lin_estimated_states,lin_true_states)]\n",
    "    print(\"Accuracy {}\".format(sum(counter)/total))"
   ]
  },
  {
   "cell_type": "markdown",
   "metadata": {},
   "source": [
    "### Estimated Markov parameters ($\\pi$, $T$, $E$)"
   ]
  },
  {
   "cell_type": "code",
   "execution_count": null,
   "metadata": {},
   "outputs": [],
   "source": [
    "print(tHMMobj.estimate.pi)"
   ]
  },
  {
   "cell_type": "code",
   "execution_count": null,
   "metadata": {},
   "outputs": [],
   "source": [
    "print(tHMMobj.estimate.T)"
   ]
  },
  {
   "cell_type": "code",
   "execution_count": null,
   "metadata": {},
   "outputs": [],
   "source": [
    "for state in range(tHMMobj.numStates):\n",
    "    print(tHMMobj.estimate.E[state])"
   ]
  },
  {
   "cell_type": "code",
   "execution_count": null,
   "metadata": {},
   "outputs": [],
   "source": [
    "\n",
    "\n",
    "\n",
    "\n"
   ]
  },
  {
   "cell_type": "code",
   "execution_count": null,
   "metadata": {},
   "outputs": [],
   "source": []
  },
  {
   "cell_type": "code",
   "execution_count": null,
   "metadata": {},
   "outputs": [],
   "source": [
    "import matplotlib.pyplot as plt\n",
    "%matplotlib inline"
   ]
  },
  {
   "cell_type": "code",
   "execution_count": null,
   "metadata": {},
   "outputs": [],
   "source": [
    "A = sp.gamma.rvs(a=20,scale=4,size=2)\n",
    "B = sp.gamma.rvs(a=5,scale=1,size=1000)\n",
    "plt.hist(A)\n",
    "plt.hist(B)"
   ]
  },
  {
   "cell_type": "code",
   "execution_count": null,
   "metadata": {},
   "outputs": [],
   "source": [
    "from lineage.StateDistribution import gamma_estimator \n",
    "a, b = gamma_estimator(A)"
   ]
  },
  {
   "cell_type": "code",
   "execution_count": null,
   "metadata": {},
   "outputs": [],
   "source": [
    "import scipy.stats as sp\n",
    "gamma_ll = sp.gamma.pdf(x=A, a=a, scale=b)  # gamma likelihood\n",
    "print(gamma_ll)"
   ]
  },
  {
   "cell_type": "code",
   "execution_count": null,
   "metadata": {},
   "outputs": [],
   "source": [
    "import scipy.stats as sp\n",
    "\n",
    "exp_ll = sp.expon.pdf(80.12274208215076, 80.87972524126674)\n",
    "print(exp_ll)\n"
   ]
  },
  {
   "cell_type": "code",
   "execution_count": null,
   "metadata": {},
   "outputs": [],
   "source": []
  }
 ],
 "metadata": {
  "kernelspec": {
   "display_name": "Python 3",
   "language": "python",
   "name": "python3"
  },
  "language_info": {
   "codemirror_mode": {
    "name": "ipython",
    "version": 3
   },
   "file_extension": ".py",
   "mimetype": "text/x-python",
   "name": "python",
   "nbconvert_exporter": "python",
   "pygments_lexer": "ipython3",
   "version": "3.7.3"
  }
 },
 "nbformat": 4,
 "nbformat_minor": 4
}
