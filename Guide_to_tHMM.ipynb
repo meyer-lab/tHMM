{
 "cells": [
  {
   "cell_type": "markdown",
   "metadata": {},
   "source": [
    "# Guide to tHMM"
   ]
  },
  {
   "cell_type": "code",
   "execution_count": 1,
   "metadata": {},
   "outputs": [],
   "source": [
    "from lineage.CellNode import CellNode\n",
    "from lineage.BaumWelch import fit\n",
    "from lineage.DownwardRecursion import get_root_gammas, get_nonroot_gammas\n",
    "from lineage.Viterbi import get_leaf_deltas, get_nonleaf_deltas, Viterbi\n",
    "from lineage.UpwardRecursion import get_leaf_Normalizing_Factors, get_leaf_betas, get_nonleaf_NF_and_betas\n",
    "from lineage.tHMM import tHMM\n",
    "from lineage.tHMM_utils import max_gen, get_gen, get_parents_for_level, getAccuracy, getAIC\n",
    "from lineage.Lineage_utils import get_numLineages, init_Population, remove_singleton_lineages, remove_unfinished_cells, select_population\n",
    "from lineage.Lineage_utils import generatePopulationWithTime as gpt\n",
    "from lineage.plotting_utils import make_colormap_graph\n",
    "from lineage.Analyze import Analyze\n",
    "from lineage.Depth_Two_State_Lineage import Depth_Two_State_Lineage"
   ]
  },
  {
   "cell_type": "code",
   "execution_count": null,
   "metadata": {},
   "outputs": [],
   "source": [
    "import matplotlib.pyplot as plt\n",
    "%matplotlib inline\n",
    "import numpy as np\n",
    "import networkx as nx\n",
    "from networkx.drawing.nx_agraph import graphviz_layout"
   ]
  },
  {
   "cell_type": "markdown",
   "metadata": {},
   "source": [
    "## Creating and analyzing our synthetic lineage"
   ]
  },
  {
   "cell_type": "markdown",
   "metadata": {},
   "source": [
    "Variables subscripted or prefixed with `MAS` are referring to the first lineage in this heterogeneous lineage, while variables subscripted with `2` are referring to the second lineage. These two lineages are what comprise the _depth two state_ lineage."
   ]
  },
  {
   "cell_type": "code",
   "execution_count": null,
   "metadata": {},
   "outputs": [],
   "source": [
    "T_MAS = 400 # how long the first synthetic lineage runs for\n",
    "T_2 = 150 # how long the second synthetic lineage runs for\n",
    "\n",
    "MASinitCells = [1] # how many initial cells are in the first lineage (has to be one)\n",
    "MASlocBern = [0.999] # the bernoulli parameter regarding the chance of dividing over dying for the master (first) lineage\n",
    "MASbeta = [80] # the exponential parameter regarding how long a cell lives [hours]\n",
    "\n",
    "initCells2 = [1] # how many initial cells are in the second lineage (has to be one)\n",
    "locBern2 = [0.8] # the bernoulli parameter regarding the change of dividing over dying for the second lineage\n",
    "beta2 = [20] # the exponential parameter regarding how long a cell lives [hours]\n",
    "\n",
    "# In general, the above parameters are described as lists because one can have multiple groups of parameters\n",
    "# to describe their population. For example, one can easily create a population with initCells = [10, 50, 3],\n",
    "# locBern = [0.8, 0.9, 0.75], beta = [80, 20, 90] to create three distinct populations. That is to say,\n",
    "# 10+50+3=63 lineages will be created, each tree following their own distribution parameters using the same index\n",
    "# in the other lists. \n",
    "\n",
    "# To create these depth heterogenous lineages, we created the function below that can join one lineage to another\n",
    "# and also perform the right house-keeping tasks to make sure that the lineages are sufficiently joined, such as\n",
    "# making sure the correct parent-daughter links exist, the cells in the second lineage recognize the root cell of\n",
    "# the master lineage tree, etc.\n",
    "\n",
    "max_lin_length = 300 # for the purpose of visualizing data, we set restrictions on the maximum length and\n",
    "min_lin_length = 5 # minimum length of the lineage generated\n",
    "FOM='E' # this just tells the code that we are using an exponential Force of Mortality\n",
    "X, newLineage, masterLineage, subLineage2 = Depth_Two_State_Lineage(T_MAS, MASinitCells, MASlocBern, T_2, initCells2, locBern2, FOM=FOM, betaExp=MASbeta, betaExp2=beta2)\n",
    "\n",
    "\n",
    "X = remove_singleton_lineages(X) # this removes lineages that are just one cell as they seem to break under the analysus\n",
    "X = remove_unfinished_cells(X) # this removes cells that lived past the experimental end time\n",
    "\n",
    "numStates = 2 # need to tell our code how many states we expect to see\n",
    "_, _, all_states, tHMMobj, _, _ = Analyze(X, numStates) # this function contains the bulk of our analysis code\n",
    "# that is, it neatly runs our analysis steps in order"
   ]
  },
  {
   "cell_type": "markdown",
   "metadata": {},
   "source": [
    "# Visualizing results"
   ]
  },
  {
   "cell_type": "code",
   "execution_count": null,
   "metadata": {},
   "outputs": [],
   "source": [
    "getAccuracy(tHMMobj, all_states, verbose=True) # this function simply runs the state comparison and checks for accuracy\n",
    "import matplotlib as mpl\n",
    "from matplotlib import ticker\n",
    "\n",
    "\n",
    "G, cmap, _ = make_colormap_graph(X)\n",
    "M = G.number_of_edges()\n",
    "edge_weights = [d for (u,v,d) in G.edges.data('weight')]\n",
    "#pos prog options: neato, dot, twopi, circo (don't use), fdp (don't use), nop (don't use), wc (don't use), acyclic (don't use), gvpr (don't use), gvcolor (don't use), ccomps (don't use), sccmap (don't use), tred (don't use), sfdp (don't use), unflatten (don't use)\n",
    "pos = graphviz_layout(G, prog='dot', root=0)\n",
    "plt.figure(figsize=(40,31))\n",
    "plt.figaspect(1)\n",
    "node_size = 200\n",
    "nodes = nx.draw_networkx_nodes(G, pos, node_size=node_size, node_color=cmap, alpha=1)\n",
    "edges = nx.draw_networkx_edges(G, pos, node_size=node_size, edge_color=edge_weights, edge_cmap=plt.cm.plasma, width=2)\n",
    "\n",
    "ax = plt.gca()\n",
    "ax.set_axis_off()\n",
    "cb = plt.colorbar(edges, ticks=edge_weights)\n",
    "tick_locator = ticker.MaxNLocator(nbins=5)\n",
    "cb.locator = tick_locator\n",
    "cb.update_ticks()\n",
    "cb.set_label(label=r'Experiment Time [hrs]', labelpad=90)\n",
    "cb.ax.invert_yaxis()\n",
    "plt.title('Simulated Heterogeneous (by Depth) Lineage')\n",
    "plt.rcParams.update({'font.size': 64})\n",
    "plt.savefig('true.svg')\n",
    "plt.show()"
   ]
  },
  {
   "cell_type": "code",
   "execution_count": null,
   "metadata": {},
   "outputs": [],
   "source": [
    "G, cmap, _ = make_colormap_graph(X, tHMMobj.states[0])\n",
    "M = G.number_of_edges()\n",
    "edge_weights = [d for (u,v,d) in G.edges.data('weight')]\n",
    "#pos prog options: neato, dot, twopi, circo (don't use), fdp (don't use), nop (don't use), wc (don't use), acyclic (don't use), gvpr (don't use), gvcolor (don't use), ccomps (don't use), sccmap (don't use), tred (don't use), sfdp (don't use), unflatten (don't use)\n",
    "pos = graphviz_layout(G, prog='dot', root=0)\n",
    "plt.figure(figsize=(40,31))\n",
    "plt.figaspect(1)\n",
    "node_size = 200\n",
    "nodes = nx.draw_networkx_nodes(G, pos, node_size=node_size, node_color=cmap, alpha=1)\n",
    "edges = nx.draw_networkx_edges(G, pos, node_size=node_size, edge_color=edge_weights, edge_cmap=plt.cm.plasma, width=2)\n",
    "\n",
    "ax = plt.gca()\n",
    "ax.set_axis_off()\n",
    "cb = plt.colorbar(edges, ticks=edge_weights)\n",
    "tick_locator = ticker.MaxNLocator(nbins=5)\n",
    "cb.locator = tick_locator\n",
    "cb.update_ticks()\n",
    "cb.set_label(label=r'Experiment Time [hrs]', labelpad=90)\n",
    "cb.ax.invert_yaxis()\n",
    "plt.title('Estimated Subpopulation Classification')\n",
    "plt.rcParams.update({'font.size': 64})\n",
    "plt.savefig('estimated.svg')\n",
    "plt.show()"
   ]
  },
  {
   "cell_type": "markdown",
   "metadata": {},
   "source": [
    "### Farnaz Testing the `select_population` on the accuracy of the model, compared to `remove_unfinished_cells`"
   ]
  },
  {
   "cell_type": "code",
   "execution_count": 9,
   "metadata": {},
   "outputs": [],
   "source": [
    "numStates = 2\n",
    "switchT = 300.\n",
    "experimentTime = switchT + 150.\n",
    "initCells = [2]\n",
    "locBern = [0.99999999999]\n",
    "betaExp = [75]\n",
    "bern2 = [0.6]\n",
    "betaExp2 = [25]\n",
    "LINEAGE = gpt(experimentTime, initCells, locBern, betaExp, switchT, bern2, betaExp2=betaExp2, FOM='E')\n",
    "\n",
    "while len(LINEAGE) <= 30:\n",
    "      LINEAGE = gpt(experimentTime, initCells, locBern, betaExp, switchT, bern2, betaExp2=betaExp2, FOM='E')\n",
    "\n",
    "X = LINEAGE\n"
   ]
  },
  {
   "cell_type": "markdown",
   "metadata": {},
   "source": [
    "#### Remove_unfinished_cells result"
   ]
  },
  {
   "cell_type": "code",
   "execution_count": 10,
   "metadata": {},
   "outputs": [
    {
     "name": "stdout",
     "output_type": "stream",
     "text": [
      "[0.6, 0.5509461426491994]\n"
     ]
    }
   ],
   "source": [
    "Xt = remove_unfinished_cells(X)\n",
    "X1 = remove_singleton_lineages(Xt)\n",
    "tHMMobj1 = tHMM(X1, numStates=numStates, FOM='E')  # build the tHMM class with X\n",
    "fit(tHMMobj1, max_iter=100, verbose=False)\n",
    "\n",
    "deltas1, state_ptrs1 = get_leaf_deltas(tHMMobj1)  # gets the deltas matrix\n",
    "get_nonleaf_deltas(tHMMobj1, deltas1, state_ptrs1)\n",
    "all_states1 = Viterbi(tHMMobj1, deltas1, state_ptrs1)\n",
    "acc1 , _, _ = getAccuracy(tHMMobj1, all_states1, verbose=False)\n",
    "print(acc1)"
   ]
  },
  {
   "cell_type": "markdown",
   "metadata": {},
   "source": [
    "#### select_population result"
   ]
  },
  {
   "cell_type": "code",
   "execution_count": 11,
   "metadata": {},
   "outputs": [
    {
     "name": "stdout",
     "output_type": "stream",
     "text": [
      "this is the intended end time 236.93795204007486\n",
      "[1.0, 1.0]\n"
     ]
    }
   ],
   "source": [
    "# print(\"Now the second\")\n",
    "X2 = remove_singleton_lineages(X)\n",
    "x_new, ti = select_population(X2, experimentTime)\n",
    "print('this is the intended end time', ti)\n",
    "\n",
    "tHMMobj2 = tHMM(x_new, numStates=numStates, FOM='E')  # build the tHMM class with X\n",
    "fit(tHMMobj2, max_iter=100, verbose=False)\n",
    "\n",
    "deltas2, state_ptrs2 = get_leaf_deltas(tHMMobj2)  # gets the deltas matrix\n",
    "get_nonleaf_deltas(tHMMobj2, deltas2, state_ptrs2)\n",
    "all_states2 = Viterbi(tHMMobj2, deltas2, state_ptrs2)\n",
    "acc2, _, _ = getAccuracy(tHMMobj2, all_states2, verbose=False)\n",
    "print(acc2)"
   ]
  }
 ],
 "metadata": {
  "kernelspec": {
   "display_name": "Python 3",
   "language": "python",
   "name": "python3"
  },
  "language_info": {
   "codemirror_mode": {
    "name": "ipython",
    "version": 3
   },
   "file_extension": ".py",
   "mimetype": "text/x-python",
   "name": "python",
   "nbconvert_exporter": "python",
   "pygments_lexer": "ipython3",
   "version": "3.7.3"
  }
 },
 "nbformat": 4,
 "nbformat_minor": 4
}
