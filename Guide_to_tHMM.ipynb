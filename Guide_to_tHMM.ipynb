{
 "cells": [
  {
   "cell_type": "markdown",
   "metadata": {},
   "source": [
    "# Guide to tHMM"
   ]
  },
  {
   "cell_type": "code",
   "execution_count": 1,
   "metadata": {},
   "outputs": [],
   "source": [
    "import numpy as np\n",
    "import scipy.stats as sp"
   ]
  },
  {
   "cell_type": "markdown",
   "metadata": {},
   "source": [
    "### Synthesizing Cells (not required by the user)"
   ]
  },
  {
   "cell_type": "code",
   "execution_count": 2,
   "metadata": {},
   "outputs": [],
   "source": [
    "from lineage.CellVar import CellVar as c\n",
    "from lineage.CellVar import _double"
   ]
  },
  {
   "cell_type": "code",
   "execution_count": 3,
   "metadata": {},
   "outputs": [],
   "source": [
    "T = np.array([[1.0, 0.0],\n",
    "              [0.0, 1.0]])\n",
    "    \n",
    "parent_state = 1\n",
    "parent_cell = c(state=parent_state, left=None, right=None, parent=None, gen=1)\n",
    "left_cell, right_cell = parent_cell._divide(T)"
   ]
  },
  {
   "cell_type": "code",
   "execution_count": 4,
   "metadata": {},
   "outputs": [
    {
     "name": "stdout",
     "output_type": "stream",
     "text": [
      "\n",
      " Generation: 2, State: 1, Observation: This cell has no observations to report. \n",
      " Generation: 2, State: 1, Observation: This cell has no observations to report.\n"
     ]
    }
   ],
   "source": [
    "print(left_cell, parent_cell.left)"
   ]
  },
  {
   "cell_type": "code",
   "execution_count": 5,
   "metadata": {},
   "outputs": [
    {
     "name": "stdout",
     "output_type": "stream",
     "text": [
      "\n",
      " Generation: 2, State: 1, Observation: This cell has no observations to report. \n",
      " Generation: 2, State: 1, Observation: This cell has no observations to report.\n"
     ]
    }
   ],
   "source": [
    "print(right_cell, parent_cell.right)"
   ]
  },
  {
   "cell_type": "markdown",
   "metadata": {},
   "source": [
    "## Creating a synthetic lineage (required by the user) \"Two State Model\""
   ]
  },
  {
   "cell_type": "code",
   "execution_count": 6,
   "metadata": {},
   "outputs": [],
   "source": [
    "from lineage.LineageTree import LineageTree\n",
    "from lineage.StateDistribution import StateDistribution, get_experiment_time"
   ]
  },
  {
   "cell_type": "markdown",
   "metadata": {},
   "source": [
    "### Creating a lineage and setting the full lineage (unpruned) as the one to be used"
   ]
  },
  {
   "cell_type": "markdown",
   "metadata": {},
   "source": [
    "The required probabilities are those that define the tree and act of state switching. This process works by first creating a hidden tree of empty cells. Empty cells are those that have their states set but do not have any observations attached to them. We then draw as many observations from each state distribution and assign those observations to those cells. The $\\pi$ and $T$ parameters are easy to define. The number of states is $k$. We require for $\\pi$ a $k\\times 1$ list of probabilities. These probabilities must add up to $1$ and they should be either in a $1$-dimensional list or a $1$-dimensional numpy array. The $T$ parameter should be a square numpy matrix of size $k\\times k$. The rows are the states in which we are transitioning from and the columns are the states in which we are transitioning to. Each row of $T$ should sum to $1$. The columns need not sum to $1$."
   ]
  },
  {
   "cell_type": "code",
   "execution_count": 7,
   "metadata": {},
   "outputs": [],
   "source": [
    "# pi: the initial probability vector\n",
    "pi = np.array([0.6, 0.4], dtype=\"float\")\n",
    "\n",
    "# T: transition probability matrix\n",
    "T = np.array([[0.85, 0.15],\n",
    "              [0.15, 0.85]])"
   ]
  },
  {
   "cell_type": "markdown",
   "metadata": {},
   "source": [
    "The emission matrix $E$ is a little more complicated to define because this is where the user has complete freedom in defining what type of observation they care about. In particular, the user has to first begin with defining what observation he or she will want in their cells in their synthetic images. For example, if one is observing kinematics or physics, they might want to use Gaaussian distribution observations. In defining the random variables, the user will pull from a Gaussian distribution based on the mean and standard deviation of the different states he or she picks. They can also utilize the Gaussian probability distribution to define the likelihood as well. Furthermore, they can build an analytical estimator for their state distributions that yield the parameter estimates when given a list of observations. Finally, the user can also define a prune rule, which is essentially a boolean function that inspects a cell's observations and returns True if the cell's subtree (all the cells that are related to the cell in question and are of older generation) is to be pruned or False if the cell is safe from pruning. In the Gaussian example, a user can remove a cell's subtree if its observation is higher or lower than some fixed value.\n",
    "\n",
    "We have already built, as an example, and as bioengineers, a model that resembles lineage trees. In our synthetic model, our emissions are multivariate. This first emission is a Bernoulli observation, $0$ implying death and $1$ implying division. The second and third emissions are continuous and are from exponential and gamma distributions respectively. Though these can be thought of cell lifetime's or periods in a certain cell phase, we want the user to know that these values can really mean anything and they are completely free in choosing what the emissions and their values mean. We define ways to calculate random variables for these multivariate observations and likelihoods of an observations. We also provide as a prune rule, keeping with the cell analogy, that if a cell has a $0$ in its Bernoulli observation, then its subtree is pruned from the full lineage tree. Though this will obviously introduce bias into estimation, we keep both the full tree and the pruned tree in the lineage objects, in the case a user would like to see the effects of analyzing on one versus the other.\n",
    "\n",
    "Ultimately, $E$ is defined as a $k\\times 1$ size list of state distribution objects. These distribution objects are rich in what they can already do, and a user can easily add more to their functionality. They only need to be instantiated by what parameters define that state's distribution."
   ]
  },
  {
   "cell_type": "code",
   "execution_count": 8,
   "metadata": {},
   "outputs": [],
   "source": [
    "# E: states are defined as StateDistribution objects\n",
    "\n",
    "# State 0 parameters \"Resistant\"\n",
    "state0 = 0\n",
    "bern_p0 = 0.99\n",
    "gamma_a0 = 9.1\n",
    "gamma_scale0 = 1.9\n",
    "\n",
    "# State 1 parameters \"Susciptible\"\n",
    "state1 = 1\n",
    "bern_p1 = 0.8\n",
    "gamma_a1 = 16\n",
    "gamma_scale1 = 1.3\n",
    "\n",
    "state_obj0 = StateDistribution(state0, bern_p0, gamma_a0, gamma_scale0)\n",
    "state_obj1 = StateDistribution(state1, bern_p1, gamma_a1, gamma_scale1)\n",
    "\n",
    "E = [state_obj0, state_obj1]"
   ]
  },
  {
   "cell_type": "markdown",
   "metadata": {},
   "source": [
    "The final required parameters are more obvious. The first is the desired number of cells one would like in their full unpruned lineage tree. This can be any number. The lineage tree is built 'from left to right'. What this means is that, we construct the binary tree by going to the left-most cell, dividing then walking through the generation. For example, if someone requested for"
   ]
  },
  {
   "cell_type": "code",
   "execution_count": 9,
   "metadata": {},
   "outputs": [],
   "source": [
    "desired_num_cells = 2**7 - 1 \n",
    "prune_boolean = False # To get the full tree"
   ]
  },
  {
   "cell_type": "code",
   "execution_count": 10,
   "metadata": {},
   "outputs": [
    {
     "name": "stdout",
     "output_type": "stream",
     "text": [
      "This tree is NOT pruned. It is made of 2 states.\n",
      " For each state in this tree: \n",
      " \t There are 63 cells of state 0, \n",
      " \t There are 64 cells of state 1.\n",
      " This UNpruned tree has 127 cells in total\n"
     ]
    }
   ],
   "source": [
    "lineage1 = LineageTree(pi, T, E, desired_num_cells, prune_boolean)\n",
    "print(lineage1)"
   ]
  },
  {
   "cell_type": "markdown",
   "metadata": {},
   "source": [
    "### Obtaining how long the experiment ran by checking the time length of the longest branch"
   ]
  },
  {
   "cell_type": "code",
   "execution_count": 11,
   "metadata": {},
   "outputs": [
    {
     "name": "stdout",
     "output_type": "stream",
     "text": [
      "173.31647426747304\n"
     ]
    }
   ],
   "source": [
    "longest_branch_time = get_experiment_time(lineage1)\n",
    "print(longest_branch_time)"
   ]
  },
  {
   "cell_type": "markdown",
   "metadata": {},
   "source": [
    "### Estimation of distribution parameters using our estimators for full lineage"
   ]
  },
  {
   "cell_type": "code",
   "execution_count": 12,
   "metadata": {},
   "outputs": [
    {
     "name": "stdout",
     "output_type": "stream",
     "text": [
      "State 0:\n",
      "                    estimated state State object w/ parameters: 0.9999999999984128, 7.18572722020547, 2.4042275969774702.\n",
      "original parameters given for state State object w/ parameters: 0.99, 9.1, 1.9.\n",
      "State 1:\n",
      "                    estimated state State object w/ parameters: 0.781249999999121, 15.92260900137858, 1.2974471983231777.\n",
      "original parameters given for state State object w/ parameters: 0.8, 16, 1.3.\n"
     ]
    }
   ],
   "source": [
    "for state in range(lineage1.num_states):\n",
    "    print(\"State {}:\".format(state))\n",
    "    print(\"                    estimated state\", E[state].estimator(lineage1.lineage_stats[state].full_lin_cells_obs))\n",
    "    print(\"original parameters given for state\", E[state])"
   ]
  },
  {
   "cell_type": "markdown",
   "metadata": {},
   "source": [
    "### Estimation of distribution parameters using our estimators for pruned lineage"
   ]
  },
  {
   "cell_type": "code",
   "execution_count": 13,
   "metadata": {},
   "outputs": [
    {
     "name": "stdout",
     "output_type": "stream",
     "text": [
      "State 0:\n",
      "                    estimated state State object w/ parameters: 0.9999999999982759, 7.159129135011326, 2.407171850530133.\n",
      "original parameters given for state State object w/ parameters: 0.99, 9.1, 1.9.\n",
      "State 1:\n",
      "                    estimated state State object w/ parameters: 0.8444444444429137, 19.619038315488254, 1.0978266021760414.\n",
      "original parameters given for state State object w/ parameters: 0.8, 16, 1.3.\n"
     ]
    }
   ],
   "source": [
    "for state in range(lineage1.num_states):\n",
    "    print(\"State {}:\".format(state))\n",
    "    print(\"                    estimated state\", E[state].estimator(lineage1.lineage_stats[state].pruned_lin_cells_obs))\n",
    "    print(\"original parameters given for state\", E[state])"
   ]
  },
  {
   "cell_type": "markdown",
   "metadata": {},
   "source": [
    "### Analyzing our first full lineage"
   ]
  },
  {
   "cell_type": "code",
   "execution_count": 14,
   "metadata": {},
   "outputs": [
    {
     "name": "stdout",
     "output_type": "stream",
     "text": [
      "[1, 1, 1, 1, 1, 0, 1, 0, 1, 1, 0, 0, 0, 1, 0, 0, 0, 1, 1, 1, 1, 0, 0, 0, 1, 0, 0, 1, 1, 0, 0, 1, 0, 0, 1, 1, 1, 1, 0, 1, 1, 1, 1, 0, 0, 0, 0, 0, 0, 1, 1, 1, 0, 0, 0, 1, 1, 1, 0, 0, 0, 0, 1, 1, 1, 0, 0, 1, 0, 1, 0, 1, 1, 1, 1, 1, 1, 0, 0, 1, 1, 1, 0, 1, 1, 1, 1, 0, 1, 0, 0, 0, 0, 0, 0, 0, 0, 1, 1, 1, 1, 1, 1, 1, 0, 0, 0, 0, 0, 1, 0, 1, 1, 1, 0, 1, 0, 0, 0, 0, 0, 0, 0, 0, 0, 1, 1]\n",
      "the number of observations is very small, don't go through estimation.\n",
      "[-450.75623766202966]\n",
      "0.99999999995 1 0.99999999995 0.0 31.47572641883067 726.3294110069272 0.007934565297681212\n",
      "0.99999999995 1 0.99999999995 0.0 21.30469150612622 726.3294110069272 0.007934565297681212\n",
      "0.99999999995 1 0.99999999995 0.0 24.406101491472274 726.3294110069272 0.007934565297681212\n",
      "0.99999999995 1 0.99999999995 0.0 20.98955819138526 726.3294110069272 0.007934565297681212\n",
      "0.99999999995 1 0.99999999995 0.0 21.432458078001403 726.3294110069272 0.007934565297681212\n",
      "0.99999999995 1 0.99999999995 0.0 24.457765497409863 726.3294110069272 0.007934565297681212\n",
      "0.99999999995 1 0.99999999995 0.0 21.04225974976272 726.3294110069272 0.007934565297681212\n",
      "0.99999999995 1 0.99999999995 0.0 20.735601298804717 726.3294110069272 0.007934565297681212\n",
      "0.99999999995 1 0.99999999995 0.0 21.771458330831372 726.3294110069272 0.007934565297681212\n",
      "5.000000413701861e-11 0 0.99999999995 0.0 19.786066602232033 726.3294110069272 0.007934565297681212\n",
      "0.99999999995 1 0.99999999995 0.0 20.453388254616428 726.3294110069272 0.007934565297681212\n",
      "0.99999999995 1 0.99999999995 0.0 22.261592886347643 726.3294110069272 0.007934565297681212\n",
      "0.99999999995 1 0.99999999995 0.0 20.49800338522443 726.3294110069272 0.007934565297681212\n",
      "0.99999999995 1 0.99999999995 0.0 20.90516456750741 726.3294110069272 0.007934565297681212\n",
      "0.99999999995 1 0.99999999995 0.0 25.162152694278067 726.3294110069272 0.007934565297681212\n",
      "0.99999999995 1 0.99999999995 0.0 21.87713674397905 726.3294110069272 0.007934565297681212\n",
      "0.99999999995 1 0.99999999995 0.0 21.59181080196794 726.3294110069272 0.007934565297681212\n",
      "5.000000413701861e-11 0 0.99999999995 0.0 24.897551439577764 726.3294110069272 0.007934565297681212\n",
      "0.99999999995 1 0.99999999995 0.0 26.889741866619502 726.3294110069272 0.007934565297681212\n",
      "0.99999999995 1 0.99999999995 0.0 23.952374204558783 726.3294110069272 0.007934565297681212\n",
      "0.99999999995 1 0.99999999995 0.0 29.313634977670617 726.3294110069272 0.007934565297681212\n",
      "0.99999999995 1 0.99999999995 0.0 27.488396923210335 726.3294110069272 0.007934565297681212\n",
      "0.99999999995 1 0.99999999995 0.0 18.290907651609185 726.3294110069272 0.007934565297681212\n",
      "0.99999999995 1 0.99999999995 0.0 21.765735358273204 726.3294110069272 0.007934565297681212\n",
      "0.99999999995 1 0.99999999995 0.0 20.01340101291362 726.3294110069272 0.007934565297681212\n",
      "0.99999999995 1 0.99999999995 0.0 25.046001319808635 726.3294110069272 0.007934565297681212\n",
      "5.000000413701861e-11 0 0.99999999995 0.0 21.431181356769272 726.3294110069272 0.007934565297681212\n",
      "0.99999999995 1 0.99999999995 0.0 24.345366322417984 726.3294110069272 0.007934565297681212\n",
      "5.000000413701861e-11 0 0.99999999995 0.0 19.244266522808683 726.3294110069272 0.007934565297681212\n",
      "0.99999999995 1 0.99999999995 0.0 21.180999702757664 726.3294110069272 0.007934565297681212\n",
      "0.99999999995 1 0.99999999995 0.0 32.7331904196526 726.3294110069272 0.007934565297681212\n",
      "0.99999999995 1 0.99999999995 0.0 20.413998281904053 726.3294110069272 0.007934565297681212\n",
      "0.99999999995 1 0.99999999995 0.0 31.999513757372736 726.3294110069272 0.007934565297681212\n",
      "0.99999999995 1 0.99999999995 0.0 20.02037615188088 726.3294110069272 0.007934565297681212\n",
      "5.000000413701861e-11 0 0.99999999995 0.0 22.49099189811693 726.3294110069272 0.007934565297681212\n",
      "0.99999999995 1 0.99999999995 0.0 18.776074191460243 726.3294110069272 0.007934565297681212\n",
      "0.99999999995 1 0.99999999995 0.0 23.086084515840817 726.3294110069272 0.007934565297681212\n",
      "0.99999999995 1 0.99999999995 0.0 23.610397319989318 726.3294110069272 0.007934565297681212\n",
      "0.99999999995 1 0.99999999995 0.0 23.35637676300447 726.3294110069272 0.007934565297681212\n",
      "0.99999999995 1 0.99999999995 0.0 26.476635342095417 726.3294110069272 0.007934565297681212\n",
      "5.000000413701861e-11 0 0.99999999995 0.0 21.983617982417105 726.3294110069272 0.007934565297681212\n",
      "0.99999999995 1 0.99999999995 0.0 27.582150124125402 726.3294110069272 0.007934565297681212\n",
      "0.99999999995 1 0.99999999995 0.0 22.38504808494731 726.3294110069272 0.007934565297681212\n",
      "0.99999999995 1 0.99999999995 0.0 19.6585494798545 726.3294110069272 0.007934565297681212\n",
      "0.99999999995 1 0.99999999995 0.0 25.169518425193893 726.3294110069272 0.007934565297681212\n",
      "0.99999999995 1 0.99999999995 0.0 24.392259250653485 726.3294110069272 0.007934565297681212\n",
      "0.99999999995 1 0.99999999995 0.0 26.768314494146324 726.3294110069272 0.007934565297681212\n",
      "0.99999999995 1 0.99999999995 0.0 26.726632371410492 726.3294110069272 0.007934565297681212\n",
      "0.99999999995 1 0.99999999995 0.0 24.621610819387953 726.3294110069272 0.007934565297681212\n",
      "0.99999999995 1 0.99999999995 0.0 21.750178951739912 726.3294110069272 0.007934565297681212\n",
      "0.99999999995 1 0.99999999995 0.0 29.302632719205242 726.3294110069272 0.007934565297681212\n",
      "0.99999999995 1 0.99999999995 0.0 26.174879059952385 726.3294110069272 0.007934565297681212\n",
      "0.99999999995 1 0.99999999995 0.0 29.570254250866544 726.3294110069272 0.007934565297681212\n",
      "0.99999999995 1 0.99999999995 0.0 19.259195120482513 726.3294110069272 0.007934565297681212\n",
      "0.99999999995 1 0.99999999995 0.0 18.797934425832768 726.3294110069272 0.007934565297681212\n",
      "0.99999999995 1 0.99999999995 0.0 23.066891140921516 726.3294110069272 0.007934565297681212\n",
      "0.99999999995 1 0.99999999995 0.0 24.44485181344659 726.3294110069272 0.007934565297681212\n",
      "0.99999999995 1 0.99999999995 0.0 19.845096415657977 726.3294110069272 0.007934565297681212\n",
      "0.99999999995 1 0.99999999995 0.0 22.35928559613386 726.3294110069272 0.007934565297681212\n",
      "0.99999999995 1 0.99999999995 0.0 31.51097907110271 726.3294110069272 0.007934565297681212\n",
      "5.000000413701861e-11 0 0.99999999995 0.0 24.51006700583461 726.3294110069272 0.007934565297681212\n",
      "0.99999999995 1 0.99999999995 0.0 23.094828626775247 726.3294110069272 0.007934565297681212\n",
      "0.99999999995 1 0.99999999995 0.0 18.818532570725633 726.3294110069272 0.007934565297681212\n",
      "0.99999999995 1 0.99999999995 0.0 27.106638123127635 726.3294110069272 0.007934565297681212\n",
      "0.99999999995 1 0.99999999995 0.0 26.092179056903287 726.3294110069272 0.007934565297681212\n",
      "0.99999999995 1 0.99999999995 0.0 29.3238318024933 726.3294110069272 0.007934565297681212\n",
      "[-450.65327010898085]\n",
      "0.99999999995 1 0.99999999995 0.0 31.47572641883067 726.3294110069272 0.007934565297681212\n",
      "0.99999999995 1 0.99999999995 0.0 21.30469150612622 726.3294110069272 0.007934565297681212\n",
      "0.99999999995 1 0.99999999995 0.0 24.406101491472274 726.3294110069272 0.007934565297681212\n",
      "0.99999999995 1 0.99999999995 0.0 20.98955819138526 726.3294110069272 0.007934565297681212\n",
      "0.99999999995 1 0.99999999995 0.0 21.432458078001403 726.3294110069272 0.007934565297681212\n",
      "0.99999999995 1 0.99999999995 0.0 24.457765497409863 726.3294110069272 0.007934565297681212\n",
      "0.99999999995 1 0.99999999995 0.0 21.04225974976272 726.3294110069272 0.007934565297681212\n",
      "0.99999999995 1 0.99999999995 0.0 20.735601298804717 726.3294110069272 0.007934565297681212\n",
      "0.99999999995 1 0.99999999995 0.0 21.771458330831372 726.3294110069272 0.007934565297681212\n",
      "5.000000413701861e-11 0 0.99999999995 0.0 19.786066602232033 726.3294110069272 0.007934565297681212\n",
      "0.99999999995 1 0.99999999995 0.0 20.453388254616428 726.3294110069272 0.007934565297681212\n",
      "0.99999999995 1 0.99999999995 0.0 22.261592886347643 726.3294110069272 0.007934565297681212\n",
      "0.99999999995 1 0.99999999995 0.0 20.49800338522443 726.3294110069272 0.007934565297681212\n",
      "0.99999999995 1 0.99999999995 0.0 20.90516456750741 726.3294110069272 0.007934565297681212\n",
      "0.99999999995 1 0.99999999995 0.0 25.162152694278067 726.3294110069272 0.007934565297681212\n",
      "0.99999999995 1 0.99999999995 0.0 21.87713674397905 726.3294110069272 0.007934565297681212\n",
      "0.99999999995 1 0.99999999995 0.0 21.59181080196794 726.3294110069272 0.007934565297681212\n",
      "5.000000413701861e-11 0 0.99999999995 0.0 24.897551439577764 726.3294110069272 0.007934565297681212\n",
      "0.99999999995 1 0.99999999995 0.0 26.889741866619502 726.3294110069272 0.007934565297681212\n",
      "0.99999999995 1 0.99999999995 0.0 23.952374204558783 726.3294110069272 0.007934565297681212\n",
      "0.99999999995 1 0.99999999995 0.0 29.313634977670617 726.3294110069272 0.007934565297681212\n",
      "0.99999999995 1 0.99999999995 0.0 27.488396923210335 726.3294110069272 0.007934565297681212\n",
      "0.99999999995 1 0.99999999995 0.0 18.290907651609185 726.3294110069272 0.007934565297681212\n",
      "0.99999999995 1 0.99999999995 0.0 21.765735358273204 726.3294110069272 0.007934565297681212\n",
      "0.99999999995 1 0.99999999995 0.0 20.01340101291362 726.3294110069272 0.007934565297681212\n",
      "0.99999999995 1 0.99999999995 0.0 25.046001319808635 726.3294110069272 0.007934565297681212\n",
      "5.000000413701861e-11 0 0.99999999995 0.0 21.431181356769272 726.3294110069272 0.007934565297681212\n",
      "0.99999999995 1 0.99999999995 0.0 24.345366322417984 726.3294110069272 0.007934565297681212\n",
      "5.000000413701861e-11 0 0.99999999995 0.0 19.244266522808683 726.3294110069272 0.007934565297681212\n",
      "0.99999999995 1 0.99999999995 0.0 21.180999702757664 726.3294110069272 0.007934565297681212\n",
      "0.99999999995 1 0.99999999995 0.0 32.7331904196526 726.3294110069272 0.007934565297681212\n",
      "0.99999999995 1 0.99999999995 0.0 20.413998281904053 726.3294110069272 0.007934565297681212\n",
      "0.99999999995 1 0.99999999995 0.0 31.999513757372736 726.3294110069272 0.007934565297681212\n",
      "0.99999999995 1 0.99999999995 0.0 20.02037615188088 726.3294110069272 0.007934565297681212\n",
      "5.000000413701861e-11 0 0.99999999995 0.0 22.49099189811693 726.3294110069272 0.007934565297681212\n",
      "0.99999999995 1 0.99999999995 0.0 18.776074191460243 726.3294110069272 0.007934565297681212\n",
      "0.99999999995 1 0.99999999995 0.0 23.086084515840817 726.3294110069272 0.007934565297681212\n",
      "0.99999999995 1 0.99999999995 0.0 23.610397319989318 726.3294110069272 0.007934565297681212\n",
      "0.99999999995 1 0.99999999995 0.0 23.35637676300447 726.3294110069272 0.007934565297681212\n",
      "0.99999999995 1 0.99999999995 0.0 26.476635342095417 726.3294110069272 0.007934565297681212\n",
      "5.000000413701861e-11 0 0.99999999995 0.0 21.983617982417105 726.3294110069272 0.007934565297681212\n",
      "0.99999999995 1 0.99999999995 0.0 27.582150124125402 726.3294110069272 0.007934565297681212\n",
      "0.99999999995 1 0.99999999995 0.0 22.38504808494731 726.3294110069272 0.007934565297681212\n",
      "0.99999999995 1 0.99999999995 0.0 19.6585494798545 726.3294110069272 0.007934565297681212\n",
      "0.99999999995 1 0.99999999995 0.0 25.169518425193893 726.3294110069272 0.007934565297681212\n",
      "0.99999999995 1 0.99999999995 0.0 24.392259250653485 726.3294110069272 0.007934565297681212\n",
      "0.99999999995 1 0.99999999995 0.0 26.768314494146324 726.3294110069272 0.007934565297681212\n",
      "0.99999999995 1 0.99999999995 0.0 26.726632371410492 726.3294110069272 0.007934565297681212\n",
      "0.99999999995 1 0.99999999995 0.0 24.621610819387953 726.3294110069272 0.007934565297681212\n",
      "0.99999999995 1 0.99999999995 0.0 21.750178951739912 726.3294110069272 0.007934565297681212\n",
      "0.99999999995 1 0.99999999995 0.0 29.302632719205242 726.3294110069272 0.007934565297681212\n",
      "0.99999999995 1 0.99999999995 0.0 26.174879059952385 726.3294110069272 0.007934565297681212\n",
      "0.99999999995 1 0.99999999995 0.0 29.570254250866544 726.3294110069272 0.007934565297681212\n",
      "0.99999999995 1 0.99999999995 0.0 19.259195120482513 726.3294110069272 0.007934565297681212\n",
      "0.99999999995 1 0.99999999995 0.0 18.797934425832768 726.3294110069272 0.007934565297681212\n",
      "0.99999999995 1 0.99999999995 0.0 23.066891140921516 726.3294110069272 0.007934565297681212\n",
      "0.99999999995 1 0.99999999995 0.0 24.44485181344659 726.3294110069272 0.007934565297681212\n",
      "0.99999999995 1 0.99999999995 0.0 19.845096415657977 726.3294110069272 0.007934565297681212\n",
      "0.99999999995 1 0.99999999995 0.0 22.35928559613386 726.3294110069272 0.007934565297681212\n",
      "0.99999999995 1 0.99999999995 0.0 31.51097907110271 726.3294110069272 0.007934565297681212\n",
      "5.000000413701861e-11 0 0.99999999995 0.0 24.51006700583461 726.3294110069272 0.007934565297681212\n",
      "0.99999999995 1 0.99999999995 0.0 23.094828626775247 726.3294110069272 0.007934565297681212\n",
      "0.99999999995 1 0.99999999995 0.0 18.818532570725633 726.3294110069272 0.007934565297681212\n",
      "0.99999999995 1 0.99999999995 0.0 27.106638123127635 726.3294110069272 0.007934565297681212\n",
      "0.99999999995 1 0.99999999995 0.0 26.092179056903287 726.3294110069272 0.007934565297681212\n",
      "0.99999999995 1 0.99999999995 0.0 29.3238318024933 726.3294110069272 0.007934565297681212\n",
      "[-447.9692325534197]\n",
      "0.99999999995 1 0.99999999995 0.0 31.47572641883067 726.3294110069272 0.007934565297681212\n",
      "0.99999999995 1 0.99999999995 0.0 21.30469150612622 726.3294110069272 0.007934565297681212\n",
      "0.99999999995 1 0.99999999995 0.0 24.406101491472274 726.3294110069272 0.007934565297681212\n",
      "0.99999999995 1 0.99999999995 0.0 20.98955819138526 726.3294110069272 0.007934565297681212\n",
      "0.99999999995 1 0.99999999995 0.0 21.432458078001403 726.3294110069272 0.007934565297681212\n",
      "0.99999999995 1 0.99999999995 0.0 24.457765497409863 726.3294110069272 0.007934565297681212\n",
      "0.99999999995 1 0.99999999995 0.0 21.04225974976272 726.3294110069272 0.007934565297681212\n",
      "0.99999999995 1 0.99999999995 0.0 20.735601298804717 726.3294110069272 0.007934565297681212\n",
      "0.99999999995 1 0.99999999995 0.0 21.771458330831372 726.3294110069272 0.007934565297681212\n",
      "5.000000413701861e-11 0 0.99999999995 0.0 19.786066602232033 726.3294110069272 0.007934565297681212\n",
      "0.99999999995 1 0.99999999995 0.0 20.453388254616428 726.3294110069272 0.007934565297681212\n",
      "0.99999999995 1 0.99999999995 0.0 22.261592886347643 726.3294110069272 0.007934565297681212\n",
      "0.99999999995 1 0.99999999995 0.0 20.49800338522443 726.3294110069272 0.007934565297681212\n",
      "0.99999999995 1 0.99999999995 0.0 20.90516456750741 726.3294110069272 0.007934565297681212\n",
      "0.99999999995 1 0.99999999995 0.0 25.162152694278067 726.3294110069272 0.007934565297681212\n",
      "0.99999999995 1 0.99999999995 0.0 21.87713674397905 726.3294110069272 0.007934565297681212\n",
      "0.99999999995 1 0.99999999995 0.0 21.59181080196794 726.3294110069272 0.007934565297681212\n",
      "5.000000413701861e-11 0 0.99999999995 0.0 24.897551439577764 726.3294110069272 0.007934565297681212\n",
      "0.99999999995 1 0.99999999995 0.0 26.889741866619502 726.3294110069272 0.007934565297681212\n",
      "0.99999999995 1 0.99999999995 0.0 23.952374204558783 726.3294110069272 0.007934565297681212\n",
      "0.99999999995 1 0.99999999995 0.0 29.313634977670617 726.3294110069272 0.007934565297681212\n",
      "0.99999999995 1 0.99999999995 0.0 27.488396923210335 726.3294110069272 0.007934565297681212\n",
      "0.99999999995 1 0.99999999995 0.0 18.290907651609185 726.3294110069272 0.007934565297681212\n",
      "0.99999999995 1 0.99999999995 0.0 21.765735358273204 726.3294110069272 0.007934565297681212\n",
      "0.99999999995 1 0.99999999995 0.0 20.01340101291362 726.3294110069272 0.007934565297681212\n",
      "0.99999999995 1 0.99999999995 0.0 25.046001319808635 726.3294110069272 0.007934565297681212\n",
      "5.000000413701861e-11 0 0.99999999995 0.0 21.431181356769272 726.3294110069272 0.007934565297681212\n",
      "0.99999999995 1 0.99999999995 0.0 24.345366322417984 726.3294110069272 0.007934565297681212\n",
      "5.000000413701861e-11 0 0.99999999995 0.0 19.244266522808683 726.3294110069272 0.007934565297681212\n",
      "0.99999999995 1 0.99999999995 0.0 21.180999702757664 726.3294110069272 0.007934565297681212\n",
      "0.99999999995 1 0.99999999995 0.0 32.7331904196526 726.3294110069272 0.007934565297681212\n",
      "0.99999999995 1 0.99999999995 0.0 20.413998281904053 726.3294110069272 0.007934565297681212\n",
      "0.99999999995 1 0.99999999995 0.0 31.999513757372736 726.3294110069272 0.007934565297681212\n",
      "0.99999999995 1 0.99999999995 0.0 20.02037615188088 726.3294110069272 0.007934565297681212\n",
      "5.000000413701861e-11 0 0.99999999995 0.0 22.49099189811693 726.3294110069272 0.007934565297681212\n",
      "0.99999999995 1 0.99999999995 0.0 18.776074191460243 726.3294110069272 0.007934565297681212\n",
      "0.99999999995 1 0.99999999995 0.0 23.086084515840817 726.3294110069272 0.007934565297681212\n",
      "0.99999999995 1 0.99999999995 0.0 23.610397319989318 726.3294110069272 0.007934565297681212\n",
      "0.99999999995 1 0.99999999995 0.0 23.35637676300447 726.3294110069272 0.007934565297681212\n",
      "0.99999999995 1 0.99999999995 0.0 26.476635342095417 726.3294110069272 0.007934565297681212\n",
      "5.000000413701861e-11 0 0.99999999995 0.0 21.983617982417105 726.3294110069272 0.007934565297681212\n",
      "0.99999999995 1 0.99999999995 0.0 27.582150124125402 726.3294110069272 0.007934565297681212\n",
      "0.99999999995 1 0.99999999995 0.0 22.38504808494731 726.3294110069272 0.007934565297681212\n",
      "0.99999999995 1 0.99999999995 0.0 19.6585494798545 726.3294110069272 0.007934565297681212\n",
      "0.99999999995 1 0.99999999995 0.0 25.169518425193893 726.3294110069272 0.007934565297681212\n",
      "0.99999999995 1 0.99999999995 0.0 24.392259250653485 726.3294110069272 0.007934565297681212\n",
      "0.99999999995 1 0.99999999995 0.0 26.768314494146324 726.3294110069272 0.007934565297681212\n",
      "0.99999999995 1 0.99999999995 0.0 26.726632371410492 726.3294110069272 0.007934565297681212\n",
      "0.99999999995 1 0.99999999995 0.0 24.621610819387953 726.3294110069272 0.007934565297681212\n",
      "0.99999999995 1 0.99999999995 0.0 21.750178951739912 726.3294110069272 0.007934565297681212\n",
      "0.99999999995 1 0.99999999995 0.0 29.302632719205242 726.3294110069272 0.007934565297681212\n",
      "0.99999999995 1 0.99999999995 0.0 26.174879059952385 726.3294110069272 0.007934565297681212\n",
      "0.99999999995 1 0.99999999995 0.0 29.570254250866544 726.3294110069272 0.007934565297681212\n",
      "0.99999999995 1 0.99999999995 0.0 19.259195120482513 726.3294110069272 0.007934565297681212\n",
      "0.99999999995 1 0.99999999995 0.0 18.797934425832768 726.3294110069272 0.007934565297681212\n",
      "0.99999999995 1 0.99999999995 0.0 23.066891140921516 726.3294110069272 0.007934565297681212\n",
      "0.99999999995 1 0.99999999995 0.0 24.44485181344659 726.3294110069272 0.007934565297681212\n",
      "0.99999999995 1 0.99999999995 0.0 19.845096415657977 726.3294110069272 0.007934565297681212\n",
      "0.99999999995 1 0.99999999995 0.0 22.35928559613386 726.3294110069272 0.007934565297681212\n",
      "0.99999999995 1 0.99999999995 0.0 31.51097907110271 726.3294110069272 0.007934565297681212\n",
      "5.000000413701861e-11 0 0.99999999995 0.0 24.51006700583461 726.3294110069272 0.007934565297681212\n",
      "0.99999999995 1 0.99999999995 0.0 23.094828626775247 726.3294110069272 0.007934565297681212\n",
      "0.99999999995 1 0.99999999995 0.0 18.818532570725633 726.3294110069272 0.007934565297681212\n",
      "0.99999999995 1 0.99999999995 0.0 27.106638123127635 726.3294110069272 0.007934565297681212\n",
      "0.99999999995 1 0.99999999995 0.0 26.092179056903287 726.3294110069272 0.007934565297681212\n",
      "0.99999999995 1 0.99999999995 0.0 29.3238318024933 726.3294110069272 0.007934565297681212\n",
      "[-447.9678107208441]\n"
     ]
    }
   ],
   "source": [
    "from lineage.Analyze import Analyze\n",
    "\n",
    "X = [lineage1] # population just contains one lineage\n",
    "states = [cell.state for cell in lineage1.output_lineage]\n",
    "print(states)\n",
    "deltas, state_ptrs, all_states, tHMMobj, NF, LL = Analyze(X, 2) # find two states"
   ]
  },
  {
   "cell_type": "code",
   "execution_count": 15,
   "metadata": {},
   "outputs": [
    {
     "name": "stdout",
     "output_type": "stream",
     "text": [
      "Accuracy or 1-Accuracy is 0.48031496062992124\n"
     ]
    }
   ],
   "source": [
    "for num, lineageObj in enumerate(X):\n",
    "    lin_estimated_states = all_states[num]\n",
    "    lin_true_states = [cell.state for cell in lineageObj.output_lineage]\n",
    "    total = len(lin_estimated_states)\n",
    "    assert total == len(lin_true_states)\n",
    "    counter = [1 if a==b else 0 for (a,b) in zip(lin_estimated_states,lin_true_states)]\n",
    "    print(\"Accuracy or 1-Accuracy is {}\".format(sum(counter)/total))"
   ]
  },
  {
   "cell_type": "code",
   "execution_count": 16,
   "metadata": {},
   "outputs": [
    {
     "data": {
      "text/plain": [
       "<Figure size 640x480 with 1 Axes>"
      ]
     },
     "metadata": {},
     "output_type": "display_data"
    },
    {
     "data": {
      "text/plain": [
       "<Figure size 640x480 with 1 Axes>"
      ]
     },
     "metadata": {},
     "output_type": "display_data"
    }
   ],
   "source": [
    "import matplotlib.pyplot as plt\n",
    "for state in range(lineage1.num_states):\n",
    "    askjdha, sduhfksj = list(zip(*lineage1.lineage_stats[state].pruned_lin_cells_obs))\n",
    "    plt.hist(sduhfksj)\n",
    "    plt.show()\n"
   ]
  },
  {
   "cell_type": "code",
   "execution_count": 17,
   "metadata": {},
   "outputs": [
    {
     "data": {
      "image/png": "[encoded data removed]",
      "text/plain": [
       "<Figure size 432x288 with 1 Axes>"
      ]
     },
     "metadata": {
      "needs_background": "light"
     },
     "output_type": "display_data"
    }
   ],
   "source": [
    "for state in range(lineage1.num_states):\n",
    "    askjdha, sduhfksj = list(zip(*lineage1.lineage_stats[state].full_lin_cells_obs))\n",
    "    plt.hist(sduhfksj)"
   ]
  },
  {
   "cell_type": "markdown",
   "metadata": {},
   "source": [
    "### Estimated Markov parameters ($\\pi$, $T$, $E$)"
   ]
  },
  {
   "cell_type": "code",
   "execution_count": 18,
   "metadata": {},
   "outputs": [
    {
     "name": "stdout",
     "output_type": "stream",
     "text": [
      "[1. 0.]\n"
     ]
    }
   ],
   "source": [
    "print(tHMMobj.estimate.pi)"
   ]
  },
  {
   "cell_type": "code",
   "execution_count": 19,
   "metadata": {},
   "outputs": [
    {
     "name": "stdout",
     "output_type": "stream",
     "text": [
      "[[9.84694190e-001 1.53058096e-002]\n",
      " [1.00000000e+000 8.01049828e-129]]\n"
     ]
    }
   ],
   "source": [
    "print(tHMMobj.estimate.T)"
   ]
  },
  {
   "cell_type": "code",
   "execution_count": 20,
   "metadata": {},
   "outputs": [
    {
     "name": "stdout",
     "output_type": "stream",
     "text": [
      "State object w/ parameters: 0.8879999999993792, 10.593536581629122, 1.8116927819998303.\n",
      "State object w/ parameters: 0.99999999995, 726.3294110069272, 0.007934565297681212.\n"
     ]
    }
   ],
   "source": [
    "for state in range(tHMMobj.numStates):\n",
    "    print(tHMMobj.estimate.E[state])"
   ]
  },
  {
   "cell_type": "markdown",
   "metadata": {},
   "source": [
    "## Trying another lineage, this time pruning branches with ancestors that die"
   ]
  },
  {
   "cell_type": "code",
   "execution_count": 21,
   "metadata": {},
   "outputs": [],
   "source": [
    "desired_num_cells = 2**12 -1 \n",
    "prune_boolean = True # To get pruned tree"
   ]
  },
  {
   "cell_type": "code",
   "execution_count": 22,
   "metadata": {},
   "outputs": [
    {
     "name": "stdout",
     "output_type": "stream",
     "text": [
      "This tree is pruned. It is made of 2 states.\n",
      " For each state in this tree: \n",
      " \t There are 372 cells of state 0, \n",
      " \t There are 245 cells of state 1.\n",
      " This pruned tree has 617 cells in total\n"
     ]
    }
   ],
   "source": [
    "lineage2 = LineageTree(pi, T, E, desired_num_cells, prune_boolean)\n",
    "print(lineage2)"
   ]
  },
  {
   "cell_type": "code",
   "execution_count": 23,
   "metadata": {},
   "outputs": [
    {
     "name": "stdout",
     "output_type": "stream",
     "text": [
      "265.2632515576209\n"
     ]
    }
   ],
   "source": [
    "longest2 = get_experiment_time(lineage2)\n",
    "print(longest2)"
   ]
  },
  {
   "cell_type": "markdown",
   "metadata": {},
   "source": [
    "### Estimation of distribution parameters using our estimators for pruned lineage"
   ]
  },
  {
   "cell_type": "code",
   "execution_count": 24,
   "metadata": {},
   "outputs": [
    {
     "name": "stdout",
     "output_type": "stream",
     "text": [
      "State 0:\n",
      "                    estimated state State object w/ parameters: 0.989247311827694, 8.971485688613889, 1.9763523483028158.\n",
      "original parameters given for state State object w/ parameters: 0.99, 9.1, 1.9.\n",
      "State 1:\n",
      "                    estimated state State object w/ parameters: 0.7918367346936392, 16.615844958028028, 1.2353624667497578.\n",
      "original parameters given for state State object w/ parameters: 0.8, 16, 1.3.\n"
     ]
    }
   ],
   "source": [
    "for state in range(lineage2.num_states):\n",
    "    print(\"State {}:\".format(state))\n",
    "    print(\"                    estimated state\", E[state].estimator(lineage2.lineage_stats[state].pruned_lin_cells_obs))\n",
    "    print(\"original parameters given for state\", E[state])"
   ]
  },
  {
   "cell_type": "markdown",
   "metadata": {},
   "source": [
    "### Analyzing a population of lineages"
   ]
  },
  {
   "cell_type": "code",
   "execution_count": 25,
   "metadata": {},
   "outputs": [
    {
     "name": "stdout",
     "output_type": "stream",
     "text": [
      "[-450.80520180602167, -2123.483257480858]\n",
      "0.99999999998 1 0.99999999998 0.0 31.47572641883067 447.5883836530577 0.012528532165427\n",
      "0.99999999998 1 0.99999999998 0.0 24.406101491472274 447.5883836530577 0.012528532165427\n",
      "0.99999999998 1 0.99999999998 0.0 24.457765497409863 447.5883836530577 0.012528532165427\n",
      "0.99999999998 1 0.99999999998 0.0 25.162152694278067 447.5883836530577 0.012528532165427\n",
      "2.0000001654807423e-11 0 0.99999999998 0.0 24.897551439577764 447.5883836530577 0.012528532165427\n",
      "0.99999999998 1 0.99999999998 0.0 26.889741866619502 447.5883836530577 0.012528532165427\n",
      "0.99999999998 1 0.99999999998 0.0 23.952374204558783 447.5883836530577 0.012528532165427\n",
      "0.99999999998 1 0.99999999998 0.0 29.313634977670617 447.5883836530577 0.012528532165427\n",
      "0.99999999998 1 0.99999999998 0.0 27.488396923210335 447.5883836530577 0.012528532165427\n",
      "0.99999999998 1 0.99999999998 0.0 25.046001319808635 447.5883836530577 0.012528532165427\n",
      "0.99999999998 1 0.99999999998 0.0 24.345366322417984 447.5883836530577 0.012528532165427\n",
      "0.99999999998 1 0.99999999998 0.0 32.7331904196526 447.5883836530577 0.012528532165427\n",
      "0.99999999998 1 0.99999999998 0.0 31.999513757372736 447.5883836530577 0.012528532165427\n",
      "2.0000001654807423e-11 0 0.99999999998 2.09159376e-316 22.49099189811693 447.5883836530577 0.012528532165427\n",
      "0.99999999998 1 0.99999999998 0.0 23.086084515840817 447.5883836530577 0.012528532165427\n",
      "0.99999999998 1 0.99999999998 0.0 23.610397319989318 447.5883836530577 0.012528532165427\n",
      "0.99999999998 1 0.99999999998 0.0 23.35637676300447 447.5883836530577 0.012528532165427\n",
      "0.99999999998 1 0.99999999998 0.0 26.476635342095417 447.5883836530577 0.012528532165427\n",
      "0.99999999998 1 0.99999999998 0.0 27.582150124125402 447.5883836530577 0.012528532165427\n",
      "0.99999999998 1 0.99999999998 0.0 25.169518425193893 447.5883836530577 0.012528532165427\n",
      "0.99999999998 1 0.99999999998 0.0 24.392259250653485 447.5883836530577 0.012528532165427\n",
      "0.99999999998 1 0.99999999998 0.0 26.768314494146324 447.5883836530577 0.012528532165427\n",
      "0.99999999998 1 0.99999999998 0.0 26.726632371410492 447.5883836530577 0.012528532165427\n",
      "0.99999999998 1 0.99999999998 0.0 24.621610819387953 447.5883836530577 0.012528532165427\n",
      "0.99999999998 1 0.99999999998 0.0 29.302632719205242 447.5883836530577 0.012528532165427\n",
      "0.99999999998 1 0.99999999998 0.0 26.174879059952385 447.5883836530577 0.012528532165427\n",
      "0.99999999998 1 0.99999999998 0.0 29.570254250866544 447.5883836530577 0.012528532165427\n",
      "0.99999999998 1 0.99999999998 0.0 23.066891140921516 447.5883836530577 0.012528532165427\n",
      "0.99999999998 1 0.99999999998 0.0 24.44485181344659 447.5883836530577 0.012528532165427\n",
      "0.99999999998 1 0.99999999998 0.0 31.51097907110271 447.5883836530577 0.012528532165427\n",
      "2.0000001654807423e-11 0 0.99999999998 0.0 24.51006700583461 447.5883836530577 0.012528532165427\n",
      "0.99999999998 1 0.99999999998 0.0 23.094828626775247 447.5883836530577 0.012528532165427\n",
      "0.99999999998 1 0.99999999998 0.0 27.106638123127635 447.5883836530577 0.012528532165427\n",
      "0.99999999998 1 0.99999999998 0.0 26.092179056903287 447.5883836530577 0.012528532165427\n",
      "0.99999999998 1 0.99999999998 0.0 29.3238318024933 447.5883836530577 0.012528532165427\n",
      "2.0000001654807423e-11 0 0.99999999998 0.0 35.38734601453273 447.5883836530577 0.012528532165427\n",
      "0.99999999998 1 0.99999999998 0.0 25.519957243883276 447.5883836530577 0.012528532165427\n",
      "2.0000001654807423e-11 0 0.99999999998 0.0 28.29947581264701 447.5883836530577 0.012528532165427\n",
      "0.99999999998 1 0.99999999998 0.0 31.950649489391424 447.5883836530577 0.012528532165427\n",
      "0.99999999998 1 0.99999999998 0.0 31.96575152096109 447.5883836530577 0.012528532165427\n",
      "0.99999999998 1 0.99999999998 0.0 23.219941160236644 447.5883836530577 0.012528532165427\n",
      "2.0000001654807423e-11 0 0.99999999998 0.0 25.40829175860801 447.5883836530577 0.012528532165427\n",
      "0.99999999998 1 0.99999999998 0.0 25.113979839809797 447.5883836530577 0.012528532165427\n",
      "0.99999999998 1 0.99999999998 0.0 27.574462368266932 447.5883836530577 0.012528532165427\n",
      "0.99999999998 1 0.99999999998 0.0 24.550504901608505 447.5883836530577 0.012528532165427\n",
      "0.99999999998 1 0.99999999998 0.0 24.679923924361272 447.5883836530577 0.012528532165427\n",
      "0.99999999998 1 0.99999999998 0.0 23.27701175544989 447.5883836530577 0.012528532165427\n",
      "2.0000001654807423e-11 0 0.99999999998 0.0 23.894191128201463 447.5883836530577 0.012528532165427\n",
      "0.99999999998 1 0.99999999998 0.0 26.547528210112326 447.5883836530577 0.012528532165427\n",
      "2.0000001654807423e-11 0 0.99999999998 2.76e-321 22.678934124194438 447.5883836530577 0.012528532165427\n",
      "0.99999999998 1 0.99999999998 0.0 23.590094194920486 447.5883836530577 0.012528532165427\n",
      "0.99999999998 1 0.99999999998 0.0 27.1401614910116 447.5883836530577 0.012528532165427\n",
      "0.99999999998 1 0.99999999998 0.0 24.513449165140166 447.5883836530577 0.012528532165427\n",
      "0.99999999998 1 0.99999999998 0.0 24.93301034768996 447.5883836530577 0.012528532165427\n",
      "0.99999999998 1 0.99999999998 0.0 23.209794115544035 447.5883836530577 0.012528532165427\n",
      "0.99999999998 1 0.99999999998 0.0 25.534086093340157 447.5883836530577 0.012528532165427\n",
      "0.99999999998 1 0.99999999998 0.0 25.457412392508594 447.5883836530577 0.012528532165427\n",
      "0.99999999998 1 0.99999999998 0.0 23.362035507478655 447.5883836530577 0.012528532165427\n",
      "0.99999999998 1 0.99999999998 0.0 32.92784318666111 447.5883836530577 0.012528532165427\n",
      "2.0000001654807423e-11 0 0.99999999998 0.0 29.438376906717988 447.5883836530577 0.012528532165427\n",
      "0.99999999998 1 0.99999999998 0.0 26.35792441549128 447.5883836530577 0.012528532165427\n",
      "0.99999999998 1 0.99999999998 0.0 23.548213025389465 447.5883836530577 0.012528532165427\n",
      "0.99999999998 1 0.99999999998 0.0 24.39035834240171 447.5883836530577 0.012528532165427\n",
      "0.99999999998 1 0.99999999998 0.0 26.973769754095954 447.5883836530577 0.012528532165427\n",
      "0.99999999998 1 0.99999999998 0.0 26.869309858030675 447.5883836530577 0.012528532165427\n",
      "0.99999999998 1 0.99999999998 0.0 23.857749595232374 447.5883836530577 0.012528532165427\n",
      "2.0000001654807423e-11 0 0.99999999998 0.0 27.859836539017934 447.5883836530577 0.012528532165427\n",
      "0.99999999998 1 0.99999999998 0.0 26.469430826847628 447.5883836530577 0.012528532165427\n",
      "0.99999999998 1 0.99999999998 0.0 23.80602557666679 447.5883836530577 0.012528532165427\n",
      "0.99999999998 1 0.99999999998 0.0 24.25605801742014 447.5883836530577 0.012528532165427\n",
      "0.99999999998 1 0.99999999998 0.0 23.712531066566914 447.5883836530577 0.012528532165427\n",
      "0.99999999998 1 0.99999999998 0.0 24.1464158590557 447.5883836530577 0.012528532165427\n",
      "0.99999999998 1 0.99999999998 0.0 25.187923551273844 447.5883836530577 0.012528532165427\n",
      "0.99999999998 1 0.99999999998 0.0 31.362367876151698 447.5883836530577 0.012528532165427\n",
      "2.0000001654807423e-11 0 0.99999999998 9.142665e-318 22.543174750023834 447.5883836530577 0.012528532165427\n",
      "0.99999999998 1 0.99999999998 0.0 32.99049418344534 447.5883836530577 0.012528532165427\n",
      "0.99999999998 1 0.99999999998 0.0 26.86577557384746 447.5883836530577 0.012528532165427\n",
      "0.99999999998 1 0.99999999998 0.0 26.19643969582138 447.5883836530577 0.012528532165427\n",
      "0.99999999998 1 0.99999999998 0.0 24.79644447714214 447.5883836530577 0.012528532165427\n",
      "0.99999999998 1 0.99999999998 0.0 34.107698717407565 447.5883836530577 0.012528532165427\n",
      "0.99999999998 1 0.99999999998 0.0 25.33758211052076 447.5883836530577 0.012528532165427\n",
      "0.99999999998 1 0.99999999998 0.0 23.28636847562461 447.5883836530577 0.012528532165427\n",
      "0.99999999998 1 0.99999999998 0.0 24.336975400377955 447.5883836530577 0.012528532165427\n",
      "0.99999999998 1 0.99999999998 0.0 24.621433866733973 447.5883836530577 0.012528532165427\n",
      "0.99999999998 1 0.99999999998 0.0 28.23387007458532 447.5883836530577 0.012528532165427\n",
      "2.0000001654807423e-11 0 0.99999999998 0.0 32.60989272525399 447.5883836530577 0.012528532165427\n",
      "0.99999999998 1 0.99999999998 0.0 24.770485078766022 447.5883836530577 0.012528532165427\n",
      "0.99999999998 1 0.99999999998 0.0 22.899922831110715 447.5883836530577 0.012528532165427\n",
      "0.99999999998 1 0.99999999998 0.0 26.662514940583566 447.5883836530577 0.012528532165427\n",
      "0.99999999998 1 0.99999999998 0.0 24.084083530124943 447.5883836530577 0.012528532165427\n",
      "0.99999999998 1 0.99999999998 0.0 23.675089359934514 447.5883836530577 0.012528532165427\n",
      "2.0000001654807423e-11 0 0.99999999998 0.0 30.550069548453486 447.5883836530577 0.012528532165427\n",
      "0.99999999998 1 0.99999999998 0.0 24.063889951132975 447.5883836530577 0.012528532165427\n",
      "0.99999999998 1 0.99999999998 0.0 25.316661840870747 447.5883836530577 0.012528532165427\n",
      "0.99999999998 1 0.99999999998 0.0 22.78492506477261 447.5883836530577 0.012528532165427\n",
      "2.0000001654807423e-11 0 0.99999999998 7.9e-322 22.699359799832962 447.5883836530577 0.012528532165427\n",
      "0.99999999998 1 0.99999999998 0.0 25.127579454060495 447.5883836530577 0.012528532165427\n",
      "0.99999999998 1 0.99999999998 0.0 24.46560706189495 447.5883836530577 0.012528532165427\n",
      "2.0000001654807423e-11 0 0.99999999998 0.0 25.004926193391885 447.5883836530577 0.012528532165427\n",
      "0.99999999998 1 0.99999999998 0.0 23.71574103496506 447.5883836530577 0.012528532165427\n",
      "0.99999999998 1 0.99999999998 0.0 27.4618610698822 447.5883836530577 0.012528532165427\n",
      "0.99999999998 1 0.99999999998 0.0 30.61446592562272 447.5883836530577 0.012528532165427\n",
      "2.0000001654807423e-11 0 0.99999999998 0.0 28.903503257566122 447.5883836530577 0.012528532165427\n",
      "0.99999999998 1 0.99999999998 0.0 26.763535507782745 447.5883836530577 0.012528532165427\n",
      "0.99999999998 1 0.99999999998 0.0 32.765783518155835 447.5883836530577 0.012528532165427\n",
      "0.99999999998 1 0.99999999998 0.0 22.910023307367428 447.5883836530577 0.012528532165427\n",
      "2.0000001654807423e-11 0 0.99999999998 0.0 26.170082344735487 447.5883836530577 0.012528532165427\n",
      "0.99999999998 1 0.99999999998 0.0 23.118513451372188 447.5883836530577 0.012528532165427\n",
      "0.99999999998 1 0.99999999998 0.0 23.20182573372574 447.5883836530577 0.012528532165427\n",
      "0.99999999998 1 0.99999999998 0.0 26.584710949177193 447.5883836530577 0.012528532165427\n",
      "0.99999999998 1 0.99999999998 0.0 22.917614452477615 447.5883836530577 0.012528532165427\n",
      "0.99999999998 1 0.99999999998 0.0 22.76596349714116 447.5883836530577 0.012528532165427\n",
      "0.99999999998 1 0.99999999998 0.0 24.740916534611323 447.5883836530577 0.012528532165427\n",
      "0.99999999998 1 0.99999999998 0.0 29.47038124892307 447.5883836530577 0.012528532165427\n",
      "0.99999999998 1 0.99999999998 0.0 25.536553839311498 447.5883836530577 0.012528532165427\n",
      "0.99999999998 1 0.99999999998 0.0 28.93554286722387 447.5883836530577 0.012528532165427\n",
      "0.99999999998 1 0.99999999998 0.0 27.628616554211625 447.5883836530577 0.012528532165427\n",
      "0.99999999998 1 0.99999999998 0.0 25.591248321701176 447.5883836530577 0.012528532165427\n",
      "0.99999999998 1 0.99999999998 0.0 24.158423678495595 447.5883836530577 0.012528532165427\n",
      "0.99999999998 1 0.99999999998 0.0 23.11967528540896 447.5883836530577 0.012528532165427\n",
      "0.99999999998 1 0.99999999998 0.0 33.96882254037911 447.5883836530577 0.012528532165427\n",
      "0.99999999998 1 0.99999999998 0.0 23.600460863869174 447.5883836530577 0.012528532165427\n",
      "0.99999999998 1 0.99999999998 0.0 27.079846334639036 447.5883836530577 0.012528532165427\n",
      "0.99999999998 1 0.99999999998 0.0 29.059957212854478 447.5883836530577 0.012528532165427\n",
      "0.99999999998 1 0.99999999998 0.0 27.818237593740015 447.5883836530577 0.012528532165427\n",
      "0.99999999998 1 0.99999999998 0.0 24.05921401074678 447.5883836530577 0.012528532165427\n",
      "0.99999999998 1 0.99999999998 0.0 23.23257909832767 447.5883836530577 0.012528532165427\n",
      "0.99999999998 1 0.99999999998 0.0 23.21245507578432 447.5883836530577 0.012528532165427\n",
      "0.99999999998 1 0.99999999998 0.0 29.810638809324484 447.5883836530577 0.012528532165427\n",
      "0.99999999998 1 0.99999999998 0.0 30.632460219966166 447.5883836530577 0.012528532165427\n",
      "0.99999999998 1 0.99999999998 0.0 27.42346927243285 447.5883836530577 0.012528532165427\n",
      "0.99999999998 1 0.99999999998 0.0 24.470445915907405 447.5883836530577 0.012528532165427\n",
      "2.0000001654807423e-11 0 0.99999999998 0.0 25.10418755893491 447.5883836530577 0.012528532165427\n",
      "0.99999999998 1 0.99999999998 0.0 27.838409402292395 447.5883836530577 0.012528532165427\n",
      "2.0000001654807423e-11 0 0.99999999998 0.0 26.62276409851536 447.5883836530577 0.012528532165427\n",
      "0.99999999998 1 0.99999999998 0.0 27.093746008342634 447.5883836530577 0.012528532165427\n",
      "0.99999999998 1 0.99999999998 0.0 24.318081649844483 447.5883836530577 0.012528532165427\n",
      "0.99999999998 1 0.99999999998 0.0 28.783643020256996 447.5883836530577 0.012528532165427\n",
      "0.99999999998 1 0.99999999998 0.0 27.099078399440003 447.5883836530577 0.012528532165427\n",
      "0.99999999998 1 0.99999999998 0.0 43.114361582941854 447.5883836530577 0.012528532165427\n",
      "0.99999999998 1 0.99999999998 0.0 24.095709556437633 447.5883836530577 0.012528532165427\n",
      "0.99999999998 1 0.99999999998 0.0 26.5414973934625 447.5883836530577 0.012528532165427\n",
      "2.0000001654807423e-11 0 0.99999999998 0.0 35.40385146038417 447.5883836530577 0.012528532165427\n",
      "0.99999999998 1 0.99999999998 0.0 24.128896835742932 447.5883836530577 0.012528532165427\n",
      "0.99999999998 1 0.99999999998 0.0 23.895106270013333 447.5883836530577 0.012528532165427\n",
      "0.99999999998 1 0.99999999998 0.0 24.245809556202033 447.5883836530577 0.012528532165427\n",
      "0.99999999998 1 0.99999999998 0.0 23.882027527087835 447.5883836530577 0.012528532165427\n",
      "0.99999999998 1 0.99999999998 0.0 26.7495050367943 447.5883836530577 0.012528532165427\n",
      "0.99999999998 1 0.99999999998 0.0 28.081605122326927 447.5883836530577 0.012528532165427\n",
      "0.99999999998 1 0.99999999998 0.0 26.68801006625922 447.5883836530577 0.012528532165427\n",
      "0.99999999998 1 0.99999999998 0.0 27.69984852823255 447.5883836530577 0.012528532165427\n",
      "2.0000001654807423e-11 0 0.99999999998 0.0 25.162740458364254 447.5883836530577 0.012528532165427\n",
      "0.99999999998 1 0.99999999998 0.0 25.513057926830033 447.5883836530577 0.012528532165427\n",
      "0.99999999998 1 0.99999999998 0.0 23.77516446074936 447.5883836530577 0.012528532165427\n",
      "0.99999999998 1 0.99999999998 0.0 37.677212556188934 447.5883836530577 0.012528532165427\n",
      "0.99999999998 1 0.99999999998 0.0 23.31371989835557 447.5883836530577 0.012528532165427\n",
      "0.99999999998 1 0.99999999998 0.0 26.019328055118557 447.5883836530577 0.012528532165427\n",
      "0.99999999998 1 0.99999999998 0.0 24.675110057526233 447.5883836530577 0.012528532165427\n",
      "0.99999999998 1 0.99999999998 0.0 25.341851769569953 447.5883836530577 0.012528532165427\n",
      "0.99999999998 1 0.99999999998 0.0 28.104972260911318 447.5883836530577 0.012528532165427\n",
      "2.0000001654807423e-11 0 0.99999999998 0.0 25.4641172263653 447.5883836530577 0.012528532165427\n",
      "0.99999999998 1 0.99999999998 0.0 23.31578854422411 447.5883836530577 0.012528532165427\n",
      "0.99999999998 1 0.99999999998 0.0 22.996426208657585 447.5883836530577 0.012528532165427\n",
      "0.99999999998 1 0.99999999998 0.0 26.952743748610676 447.5883836530577 0.012528532165427\n",
      "0.99999999998 1 0.99999999998 0.0 27.80059582045195 447.5883836530577 0.012528532165427\n",
      "2.0000001654807423e-11 0 0.99999999998 0.0 27.83773098381359 447.5883836530577 0.012528532165427\n",
      "0.99999999998 1 0.99999999998 0.0 23.027232470313276 447.5883836530577 0.012528532165427\n",
      "0.99999999998 1 0.99999999998 0.0 24.48319399722387 447.5883836530577 0.012528532165427\n",
      "0.99999999998 1 0.99999999998 0.0 23.781720287359786 447.5883836530577 0.012528532165427\n",
      "0.99999999998 1 0.99999999998 0.0 24.570560875385116 447.5883836530577 0.012528532165427\n",
      "0.99999999998 1 0.99999999998 0.0 26.41270500566528 447.5883836530577 0.012528532165427\n",
      "0.99999999998 1 0.99999999998 0.0 25.937167744545192 447.5883836530577 0.012528532165427\n",
      "0.99999999998 1 0.99999999998 0.0 27.894943550455793 447.5883836530577 0.012528532165427\n",
      "0.99999999998 1 0.99999999998 0.0 25.90927630198343 447.5883836530577 0.012528532165427\n",
      "0.99999999998 1 0.99999999998 0.0 26.961360865018115 447.5883836530577 0.012528532165427\n",
      "0.99999999998 1 0.99999999998 0.0 29.21751811778123 447.5883836530577 0.012528532165427\n",
      "0.99999999998 1 0.99999999998 0.0 24.08769320920742 447.5883836530577 0.012528532165427\n",
      "0.99999999998 1 0.99999999998 0.0 23.80746198025399 447.5883836530577 0.012528532165427\n",
      "0.99999999998 1 0.99999999998 0.0 26.32679627950905 447.5883836530577 0.012528532165427\n",
      "0.99999999998 1 0.99999999998 0.0 23.238840960582465 447.5883836530577 0.012528532165427\n",
      "0.99999999998 1 0.99999999998 0.0 29.833632597633834 447.5883836530577 0.012528532165427\n",
      "0.99999999998 1 0.99999999998 0.0 37.86489981613562 447.5883836530577 0.012528532165427\n",
      "2.0000001654807423e-11 0 0.99999999998 0.0 26.60358666103983 447.5883836530577 0.012528532165427\n",
      "[-449.0102291055771, -2123.226056073372]\n",
      "0.99999999998 1 0.99999999998 0.0 31.47572641883067 447.5883836530577 0.012528532165427\n",
      "0.99999999998 1 0.99999999998 0.0 24.406101491472274 447.5883836530577 0.012528532165427\n",
      "0.99999999998 1 0.99999999998 0.0 24.457765497409863 447.5883836530577 0.012528532165427\n",
      "0.99999999998 1 0.99999999998 0.0 25.162152694278067 447.5883836530577 0.012528532165427\n",
      "2.0000001654807423e-11 0 0.99999999998 0.0 24.897551439577764 447.5883836530577 0.012528532165427\n",
      "0.99999999998 1 0.99999999998 0.0 26.889741866619502 447.5883836530577 0.012528532165427\n",
      "0.99999999998 1 0.99999999998 0.0 23.952374204558783 447.5883836530577 0.012528532165427\n",
      "0.99999999998 1 0.99999999998 0.0 29.313634977670617 447.5883836530577 0.012528532165427\n",
      "0.99999999998 1 0.99999999998 0.0 27.488396923210335 447.5883836530577 0.012528532165427\n",
      "0.99999999998 1 0.99999999998 0.0 25.046001319808635 447.5883836530577 0.012528532165427\n",
      "0.99999999998 1 0.99999999998 0.0 24.345366322417984 447.5883836530577 0.012528532165427\n",
      "0.99999999998 1 0.99999999998 0.0 32.7331904196526 447.5883836530577 0.012528532165427\n",
      "0.99999999998 1 0.99999999998 0.0 31.999513757372736 447.5883836530577 0.012528532165427\n",
      "2.0000001654807423e-11 0 0.99999999998 2.09159376e-316 22.49099189811693 447.5883836530577 0.012528532165427\n",
      "0.99999999998 1 0.99999999998 0.0 23.086084515840817 447.5883836530577 0.012528532165427\n",
      "0.99999999998 1 0.99999999998 0.0 23.610397319989318 447.5883836530577 0.012528532165427\n",
      "0.99999999998 1 0.99999999998 0.0 23.35637676300447 447.5883836530577 0.012528532165427\n",
      "0.99999999998 1 0.99999999998 0.0 26.476635342095417 447.5883836530577 0.012528532165427\n",
      "0.99999999998 1 0.99999999998 0.0 27.582150124125402 447.5883836530577 0.012528532165427\n",
      "0.99999999998 1 0.99999999998 0.0 25.169518425193893 447.5883836530577 0.012528532165427\n",
      "0.99999999998 1 0.99999999998 0.0 24.392259250653485 447.5883836530577 0.012528532165427\n",
      "0.99999999998 1 0.99999999998 0.0 26.768314494146324 447.5883836530577 0.012528532165427\n",
      "0.99999999998 1 0.99999999998 0.0 26.726632371410492 447.5883836530577 0.012528532165427\n",
      "0.99999999998 1 0.99999999998 0.0 24.621610819387953 447.5883836530577 0.012528532165427\n",
      "0.99999999998 1 0.99999999998 0.0 29.302632719205242 447.5883836530577 0.012528532165427\n",
      "0.99999999998 1 0.99999999998 0.0 26.174879059952385 447.5883836530577 0.012528532165427\n",
      "0.99999999998 1 0.99999999998 0.0 29.570254250866544 447.5883836530577 0.012528532165427\n",
      "0.99999999998 1 0.99999999998 0.0 23.066891140921516 447.5883836530577 0.012528532165427\n",
      "0.99999999998 1 0.99999999998 0.0 24.44485181344659 447.5883836530577 0.012528532165427\n",
      "0.99999999998 1 0.99999999998 0.0 31.51097907110271 447.5883836530577 0.012528532165427\n",
      "2.0000001654807423e-11 0 0.99999999998 0.0 24.51006700583461 447.5883836530577 0.012528532165427\n",
      "0.99999999998 1 0.99999999998 0.0 23.094828626775247 447.5883836530577 0.012528532165427\n",
      "0.99999999998 1 0.99999999998 0.0 27.106638123127635 447.5883836530577 0.012528532165427\n",
      "0.99999999998 1 0.99999999998 0.0 26.092179056903287 447.5883836530577 0.012528532165427\n",
      "0.99999999998 1 0.99999999998 0.0 29.3238318024933 447.5883836530577 0.012528532165427\n",
      "2.0000001654807423e-11 0 0.99999999998 0.0 35.38734601453273 447.5883836530577 0.012528532165427\n",
      "0.99999999998 1 0.99999999998 0.0 25.519957243883276 447.5883836530577 0.012528532165427\n",
      "2.0000001654807423e-11 0 0.99999999998 0.0 28.29947581264701 447.5883836530577 0.012528532165427\n",
      "0.99999999998 1 0.99999999998 0.0 31.950649489391424 447.5883836530577 0.012528532165427\n",
      "0.99999999998 1 0.99999999998 0.0 31.96575152096109 447.5883836530577 0.012528532165427\n",
      "0.99999999998 1 0.99999999998 0.0 23.219941160236644 447.5883836530577 0.012528532165427\n",
      "2.0000001654807423e-11 0 0.99999999998 0.0 25.40829175860801 447.5883836530577 0.012528532165427\n",
      "0.99999999998 1 0.99999999998 0.0 25.113979839809797 447.5883836530577 0.012528532165427\n",
      "0.99999999998 1 0.99999999998 0.0 27.574462368266932 447.5883836530577 0.012528532165427\n",
      "0.99999999998 1 0.99999999998 0.0 24.550504901608505 447.5883836530577 0.012528532165427\n",
      "0.99999999998 1 0.99999999998 0.0 24.679923924361272 447.5883836530577 0.012528532165427\n",
      "0.99999999998 1 0.99999999998 0.0 23.27701175544989 447.5883836530577 0.012528532165427\n",
      "2.0000001654807423e-11 0 0.99999999998 0.0 23.894191128201463 447.5883836530577 0.012528532165427\n",
      "0.99999999998 1 0.99999999998 0.0 26.547528210112326 447.5883836530577 0.012528532165427\n",
      "2.0000001654807423e-11 0 0.99999999998 2.76e-321 22.678934124194438 447.5883836530577 0.012528532165427\n",
      "0.99999999998 1 0.99999999998 0.0 23.590094194920486 447.5883836530577 0.012528532165427\n",
      "0.99999999998 1 0.99999999998 0.0 27.1401614910116 447.5883836530577 0.012528532165427\n",
      "0.99999999998 1 0.99999999998 0.0 24.513449165140166 447.5883836530577 0.012528532165427\n",
      "0.99999999998 1 0.99999999998 0.0 24.93301034768996 447.5883836530577 0.012528532165427\n",
      "0.99999999998 1 0.99999999998 0.0 23.209794115544035 447.5883836530577 0.012528532165427\n",
      "0.99999999998 1 0.99999999998 0.0 25.534086093340157 447.5883836530577 0.012528532165427\n",
      "0.99999999998 1 0.99999999998 0.0 25.457412392508594 447.5883836530577 0.012528532165427\n",
      "0.99999999998 1 0.99999999998 0.0 23.362035507478655 447.5883836530577 0.012528532165427\n",
      "0.99999999998 1 0.99999999998 0.0 32.92784318666111 447.5883836530577 0.012528532165427\n",
      "2.0000001654807423e-11 0 0.99999999998 0.0 29.438376906717988 447.5883836530577 0.012528532165427\n",
      "0.99999999998 1 0.99999999998 0.0 26.35792441549128 447.5883836530577 0.012528532165427\n",
      "0.99999999998 1 0.99999999998 0.0 23.548213025389465 447.5883836530577 0.012528532165427\n",
      "0.99999999998 1 0.99999999998 0.0 24.39035834240171 447.5883836530577 0.012528532165427\n",
      "0.99999999998 1 0.99999999998 0.0 26.973769754095954 447.5883836530577 0.012528532165427\n",
      "0.99999999998 1 0.99999999998 0.0 26.869309858030675 447.5883836530577 0.012528532165427\n",
      "0.99999999998 1 0.99999999998 0.0 23.857749595232374 447.5883836530577 0.012528532165427\n",
      "2.0000001654807423e-11 0 0.99999999998 0.0 27.859836539017934 447.5883836530577 0.012528532165427\n",
      "0.99999999998 1 0.99999999998 0.0 26.469430826847628 447.5883836530577 0.012528532165427\n",
      "0.99999999998 1 0.99999999998 0.0 23.80602557666679 447.5883836530577 0.012528532165427\n",
      "0.99999999998 1 0.99999999998 0.0 24.25605801742014 447.5883836530577 0.012528532165427\n",
      "0.99999999998 1 0.99999999998 0.0 23.712531066566914 447.5883836530577 0.012528532165427\n",
      "0.99999999998 1 0.99999999998 0.0 24.1464158590557 447.5883836530577 0.012528532165427\n",
      "0.99999999998 1 0.99999999998 0.0 25.187923551273844 447.5883836530577 0.012528532165427\n",
      "0.99999999998 1 0.99999999998 0.0 31.362367876151698 447.5883836530577 0.012528532165427\n",
      "2.0000001654807423e-11 0 0.99999999998 9.142665e-318 22.543174750023834 447.5883836530577 0.012528532165427\n",
      "0.99999999998 1 0.99999999998 0.0 32.99049418344534 447.5883836530577 0.012528532165427\n",
      "0.99999999998 1 0.99999999998 0.0 26.86577557384746 447.5883836530577 0.012528532165427\n",
      "0.99999999998 1 0.99999999998 0.0 26.19643969582138 447.5883836530577 0.012528532165427\n",
      "0.99999999998 1 0.99999999998 0.0 24.79644447714214 447.5883836530577 0.012528532165427\n",
      "0.99999999998 1 0.99999999998 0.0 34.107698717407565 447.5883836530577 0.012528532165427\n",
      "0.99999999998 1 0.99999999998 0.0 25.33758211052076 447.5883836530577 0.012528532165427\n",
      "0.99999999998 1 0.99999999998 0.0 23.28636847562461 447.5883836530577 0.012528532165427\n",
      "0.99999999998 1 0.99999999998 0.0 24.336975400377955 447.5883836530577 0.012528532165427\n",
      "0.99999999998 1 0.99999999998 0.0 24.621433866733973 447.5883836530577 0.012528532165427\n",
      "0.99999999998 1 0.99999999998 0.0 28.23387007458532 447.5883836530577 0.012528532165427\n",
      "2.0000001654807423e-11 0 0.99999999998 0.0 32.60989272525399 447.5883836530577 0.012528532165427\n",
      "0.99999999998 1 0.99999999998 0.0 24.770485078766022 447.5883836530577 0.012528532165427\n",
      "0.99999999998 1 0.99999999998 0.0 22.899922831110715 447.5883836530577 0.012528532165427\n",
      "0.99999999998 1 0.99999999998 0.0 26.662514940583566 447.5883836530577 0.012528532165427\n",
      "0.99999999998 1 0.99999999998 0.0 24.084083530124943 447.5883836530577 0.012528532165427\n",
      "0.99999999998 1 0.99999999998 0.0 23.675089359934514 447.5883836530577 0.012528532165427\n",
      "2.0000001654807423e-11 0 0.99999999998 0.0 30.550069548453486 447.5883836530577 0.012528532165427\n",
      "0.99999999998 1 0.99999999998 0.0 24.063889951132975 447.5883836530577 0.012528532165427\n",
      "0.99999999998 1 0.99999999998 0.0 25.316661840870747 447.5883836530577 0.012528532165427\n",
      "0.99999999998 1 0.99999999998 0.0 22.78492506477261 447.5883836530577 0.012528532165427\n",
      "2.0000001654807423e-11 0 0.99999999998 7.9e-322 22.699359799832962 447.5883836530577 0.012528532165427\n",
      "0.99999999998 1 0.99999999998 0.0 25.127579454060495 447.5883836530577 0.012528532165427\n",
      "0.99999999998 1 0.99999999998 0.0 24.46560706189495 447.5883836530577 0.012528532165427\n",
      "2.0000001654807423e-11 0 0.99999999998 0.0 25.004926193391885 447.5883836530577 0.012528532165427\n",
      "0.99999999998 1 0.99999999998 0.0 23.71574103496506 447.5883836530577 0.012528532165427\n",
      "0.99999999998 1 0.99999999998 0.0 27.4618610698822 447.5883836530577 0.012528532165427\n",
      "0.99999999998 1 0.99999999998 0.0 30.61446592562272 447.5883836530577 0.012528532165427\n",
      "2.0000001654807423e-11 0 0.99999999998 0.0 28.903503257566122 447.5883836530577 0.012528532165427\n",
      "0.99999999998 1 0.99999999998 0.0 26.763535507782745 447.5883836530577 0.012528532165427\n",
      "0.99999999998 1 0.99999999998 0.0 32.765783518155835 447.5883836530577 0.012528532165427\n",
      "0.99999999998 1 0.99999999998 0.0 22.910023307367428 447.5883836530577 0.012528532165427\n",
      "2.0000001654807423e-11 0 0.99999999998 0.0 26.170082344735487 447.5883836530577 0.012528532165427\n",
      "0.99999999998 1 0.99999999998 0.0 23.118513451372188 447.5883836530577 0.012528532165427\n",
      "0.99999999998 1 0.99999999998 0.0 23.20182573372574 447.5883836530577 0.012528532165427\n",
      "0.99999999998 1 0.99999999998 0.0 26.584710949177193 447.5883836530577 0.012528532165427\n",
      "0.99999999998 1 0.99999999998 0.0 22.917614452477615 447.5883836530577 0.012528532165427\n",
      "0.99999999998 1 0.99999999998 0.0 22.76596349714116 447.5883836530577 0.012528532165427\n",
      "0.99999999998 1 0.99999999998 0.0 24.740916534611323 447.5883836530577 0.012528532165427\n",
      "0.99999999998 1 0.99999999998 0.0 29.47038124892307 447.5883836530577 0.012528532165427\n",
      "0.99999999998 1 0.99999999998 0.0 25.536553839311498 447.5883836530577 0.012528532165427\n",
      "0.99999999998 1 0.99999999998 0.0 28.93554286722387 447.5883836530577 0.012528532165427\n",
      "0.99999999998 1 0.99999999998 0.0 27.628616554211625 447.5883836530577 0.012528532165427\n",
      "0.99999999998 1 0.99999999998 0.0 25.591248321701176 447.5883836530577 0.012528532165427\n",
      "0.99999999998 1 0.99999999998 0.0 24.158423678495595 447.5883836530577 0.012528532165427\n",
      "0.99999999998 1 0.99999999998 0.0 23.11967528540896 447.5883836530577 0.012528532165427\n",
      "0.99999999998 1 0.99999999998 0.0 33.96882254037911 447.5883836530577 0.012528532165427\n",
      "0.99999999998 1 0.99999999998 0.0 23.600460863869174 447.5883836530577 0.012528532165427\n",
      "0.99999999998 1 0.99999999998 0.0 27.079846334639036 447.5883836530577 0.012528532165427\n",
      "0.99999999998 1 0.99999999998 0.0 29.059957212854478 447.5883836530577 0.012528532165427\n",
      "0.99999999998 1 0.99999999998 0.0 27.818237593740015 447.5883836530577 0.012528532165427\n",
      "0.99999999998 1 0.99999999998 0.0 24.05921401074678 447.5883836530577 0.012528532165427\n",
      "0.99999999998 1 0.99999999998 0.0 23.23257909832767 447.5883836530577 0.012528532165427\n",
      "0.99999999998 1 0.99999999998 0.0 23.21245507578432 447.5883836530577 0.012528532165427\n",
      "0.99999999998 1 0.99999999998 0.0 29.810638809324484 447.5883836530577 0.012528532165427\n",
      "0.99999999998 1 0.99999999998 0.0 30.632460219966166 447.5883836530577 0.012528532165427\n",
      "0.99999999998 1 0.99999999998 0.0 27.42346927243285 447.5883836530577 0.012528532165427\n",
      "0.99999999998 1 0.99999999998 0.0 24.470445915907405 447.5883836530577 0.012528532165427\n",
      "2.0000001654807423e-11 0 0.99999999998 0.0 25.10418755893491 447.5883836530577 0.012528532165427\n",
      "0.99999999998 1 0.99999999998 0.0 27.838409402292395 447.5883836530577 0.012528532165427\n",
      "2.0000001654807423e-11 0 0.99999999998 0.0 26.62276409851536 447.5883836530577 0.012528532165427\n",
      "0.99999999998 1 0.99999999998 0.0 27.093746008342634 447.5883836530577 0.012528532165427\n",
      "0.99999999998 1 0.99999999998 0.0 24.318081649844483 447.5883836530577 0.012528532165427\n",
      "0.99999999998 1 0.99999999998 0.0 28.783643020256996 447.5883836530577 0.012528532165427\n",
      "0.99999999998 1 0.99999999998 0.0 27.099078399440003 447.5883836530577 0.012528532165427\n",
      "0.99999999998 1 0.99999999998 0.0 43.114361582941854 447.5883836530577 0.012528532165427\n",
      "0.99999999998 1 0.99999999998 0.0 24.095709556437633 447.5883836530577 0.012528532165427\n",
      "0.99999999998 1 0.99999999998 0.0 26.5414973934625 447.5883836530577 0.012528532165427\n",
      "2.0000001654807423e-11 0 0.99999999998 0.0 35.40385146038417 447.5883836530577 0.012528532165427\n",
      "0.99999999998 1 0.99999999998 0.0 24.128896835742932 447.5883836530577 0.012528532165427\n",
      "0.99999999998 1 0.99999999998 0.0 23.895106270013333 447.5883836530577 0.012528532165427\n",
      "0.99999999998 1 0.99999999998 0.0 24.245809556202033 447.5883836530577 0.012528532165427\n",
      "0.99999999998 1 0.99999999998 0.0 23.882027527087835 447.5883836530577 0.012528532165427\n",
      "0.99999999998 1 0.99999999998 0.0 26.7495050367943 447.5883836530577 0.012528532165427\n",
      "0.99999999998 1 0.99999999998 0.0 28.081605122326927 447.5883836530577 0.012528532165427\n",
      "0.99999999998 1 0.99999999998 0.0 26.68801006625922 447.5883836530577 0.012528532165427\n",
      "0.99999999998 1 0.99999999998 0.0 27.69984852823255 447.5883836530577 0.012528532165427\n",
      "2.0000001654807423e-11 0 0.99999999998 0.0 25.162740458364254 447.5883836530577 0.012528532165427\n",
      "0.99999999998 1 0.99999999998 0.0 25.513057926830033 447.5883836530577 0.012528532165427\n",
      "0.99999999998 1 0.99999999998 0.0 23.77516446074936 447.5883836530577 0.012528532165427\n",
      "0.99999999998 1 0.99999999998 0.0 37.677212556188934 447.5883836530577 0.012528532165427\n",
      "0.99999999998 1 0.99999999998 0.0 23.31371989835557 447.5883836530577 0.012528532165427\n",
      "0.99999999998 1 0.99999999998 0.0 26.019328055118557 447.5883836530577 0.012528532165427\n",
      "0.99999999998 1 0.99999999998 0.0 24.675110057526233 447.5883836530577 0.012528532165427\n",
      "0.99999999998 1 0.99999999998 0.0 25.341851769569953 447.5883836530577 0.012528532165427\n",
      "0.99999999998 1 0.99999999998 0.0 28.104972260911318 447.5883836530577 0.012528532165427\n",
      "2.0000001654807423e-11 0 0.99999999998 0.0 25.4641172263653 447.5883836530577 0.012528532165427\n",
      "0.99999999998 1 0.99999999998 0.0 23.31578854422411 447.5883836530577 0.012528532165427\n",
      "0.99999999998 1 0.99999999998 0.0 22.996426208657585 447.5883836530577 0.012528532165427\n",
      "0.99999999998 1 0.99999999998 0.0 26.952743748610676 447.5883836530577 0.012528532165427\n",
      "0.99999999998 1 0.99999999998 0.0 27.80059582045195 447.5883836530577 0.012528532165427\n",
      "2.0000001654807423e-11 0 0.99999999998 0.0 27.83773098381359 447.5883836530577 0.012528532165427\n",
      "0.99999999998 1 0.99999999998 0.0 23.027232470313276 447.5883836530577 0.012528532165427\n",
      "0.99999999998 1 0.99999999998 0.0 24.48319399722387 447.5883836530577 0.012528532165427\n",
      "0.99999999998 1 0.99999999998 0.0 23.781720287359786 447.5883836530577 0.012528532165427\n",
      "0.99999999998 1 0.99999999998 0.0 24.570560875385116 447.5883836530577 0.012528532165427\n",
      "0.99999999998 1 0.99999999998 0.0 26.41270500566528 447.5883836530577 0.012528532165427\n",
      "0.99999999998 1 0.99999999998 0.0 25.937167744545192 447.5883836530577 0.012528532165427\n",
      "0.99999999998 1 0.99999999998 0.0 27.894943550455793 447.5883836530577 0.012528532165427\n",
      "0.99999999998 1 0.99999999998 0.0 25.90927630198343 447.5883836530577 0.012528532165427\n",
      "0.99999999998 1 0.99999999998 0.0 26.961360865018115 447.5883836530577 0.012528532165427\n",
      "0.99999999998 1 0.99999999998 0.0 29.21751811778123 447.5883836530577 0.012528532165427\n",
      "0.99999999998 1 0.99999999998 0.0 24.08769320920742 447.5883836530577 0.012528532165427\n",
      "0.99999999998 1 0.99999999998 0.0 23.80746198025399 447.5883836530577 0.012528532165427\n",
      "0.99999999998 1 0.99999999998 0.0 26.32679627950905 447.5883836530577 0.012528532165427\n",
      "0.99999999998 1 0.99999999998 0.0 23.238840960582465 447.5883836530577 0.012528532165427\n",
      "0.99999999998 1 0.99999999998 0.0 29.833632597633834 447.5883836530577 0.012528532165427\n",
      "0.99999999998 1 0.99999999998 0.0 37.86489981613562 447.5883836530577 0.012528532165427\n",
      "2.0000001654807423e-11 0 0.99999999998 0.0 26.60358666103983 447.5883836530577 0.012528532165427\n",
      "[-449.3723586688225, -2122.8256590946526]\n",
      "0.99999999998 1 0.99999999998 0.0 31.47572641883067 447.5883836530577 0.012528532165427\n",
      "0.99999999998 1 0.99999999998 0.0 24.406101491472274 447.5883836530577 0.012528532165427\n",
      "0.99999999998 1 0.99999999998 0.0 24.457765497409863 447.5883836530577 0.012528532165427\n",
      "0.99999999998 1 0.99999999998 0.0 25.162152694278067 447.5883836530577 0.012528532165427\n",
      "2.0000001654807423e-11 0 0.99999999998 0.0 24.897551439577764 447.5883836530577 0.012528532165427\n",
      "0.99999999998 1 0.99999999998 0.0 26.889741866619502 447.5883836530577 0.012528532165427\n",
      "0.99999999998 1 0.99999999998 0.0 23.952374204558783 447.5883836530577 0.012528532165427\n",
      "0.99999999998 1 0.99999999998 0.0 29.313634977670617 447.5883836530577 0.012528532165427\n",
      "0.99999999998 1 0.99999999998 0.0 27.488396923210335 447.5883836530577 0.012528532165427\n",
      "0.99999999998 1 0.99999999998 0.0 25.046001319808635 447.5883836530577 0.012528532165427\n",
      "0.99999999998 1 0.99999999998 0.0 24.345366322417984 447.5883836530577 0.012528532165427\n",
      "0.99999999998 1 0.99999999998 0.0 32.7331904196526 447.5883836530577 0.012528532165427\n",
      "0.99999999998 1 0.99999999998 0.0 31.999513757372736 447.5883836530577 0.012528532165427\n",
      "2.0000001654807423e-11 0 0.99999999998 2.09159376e-316 22.49099189811693 447.5883836530577 0.012528532165427\n",
      "0.99999999998 1 0.99999999998 0.0 23.086084515840817 447.5883836530577 0.012528532165427\n",
      "0.99999999998 1 0.99999999998 0.0 23.610397319989318 447.5883836530577 0.012528532165427\n",
      "0.99999999998 1 0.99999999998 0.0 23.35637676300447 447.5883836530577 0.012528532165427\n",
      "0.99999999998 1 0.99999999998 0.0 26.476635342095417 447.5883836530577 0.012528532165427\n",
      "0.99999999998 1 0.99999999998 0.0 27.582150124125402 447.5883836530577 0.012528532165427\n",
      "0.99999999998 1 0.99999999998 0.0 25.169518425193893 447.5883836530577 0.012528532165427\n",
      "0.99999999998 1 0.99999999998 0.0 24.392259250653485 447.5883836530577 0.012528532165427\n",
      "0.99999999998 1 0.99999999998 0.0 26.768314494146324 447.5883836530577 0.012528532165427\n",
      "0.99999999998 1 0.99999999998 0.0 26.726632371410492 447.5883836530577 0.012528532165427\n",
      "0.99999999998 1 0.99999999998 0.0 24.621610819387953 447.5883836530577 0.012528532165427\n",
      "0.99999999998 1 0.99999999998 0.0 29.302632719205242 447.5883836530577 0.012528532165427\n",
      "0.99999999998 1 0.99999999998 0.0 26.174879059952385 447.5883836530577 0.012528532165427\n",
      "0.99999999998 1 0.99999999998 0.0 29.570254250866544 447.5883836530577 0.012528532165427\n",
      "0.99999999998 1 0.99999999998 0.0 23.066891140921516 447.5883836530577 0.012528532165427\n",
      "0.99999999998 1 0.99999999998 0.0 24.44485181344659 447.5883836530577 0.012528532165427\n",
      "0.99999999998 1 0.99999999998 0.0 31.51097907110271 447.5883836530577 0.012528532165427\n",
      "2.0000001654807423e-11 0 0.99999999998 0.0 24.51006700583461 447.5883836530577 0.012528532165427\n",
      "0.99999999998 1 0.99999999998 0.0 23.094828626775247 447.5883836530577 0.012528532165427\n",
      "0.99999999998 1 0.99999999998 0.0 27.106638123127635 447.5883836530577 0.012528532165427\n",
      "0.99999999998 1 0.99999999998 0.0 26.092179056903287 447.5883836530577 0.012528532165427\n",
      "0.99999999998 1 0.99999999998 0.0 29.3238318024933 447.5883836530577 0.012528532165427\n",
      "2.0000001654807423e-11 0 0.99999999998 0.0 35.38734601453273 447.5883836530577 0.012528532165427\n",
      "0.99999999998 1 0.99999999998 0.0 25.519957243883276 447.5883836530577 0.012528532165427\n",
      "2.0000001654807423e-11 0 0.99999999998 0.0 28.29947581264701 447.5883836530577 0.012528532165427\n",
      "0.99999999998 1 0.99999999998 0.0 31.950649489391424 447.5883836530577 0.012528532165427\n",
      "0.99999999998 1 0.99999999998 0.0 31.96575152096109 447.5883836530577 0.012528532165427\n",
      "0.99999999998 1 0.99999999998 0.0 23.219941160236644 447.5883836530577 0.012528532165427\n",
      "2.0000001654807423e-11 0 0.99999999998 0.0 25.40829175860801 447.5883836530577 0.012528532165427\n",
      "0.99999999998 1 0.99999999998 0.0 25.113979839809797 447.5883836530577 0.012528532165427\n",
      "0.99999999998 1 0.99999999998 0.0 27.574462368266932 447.5883836530577 0.012528532165427\n",
      "0.99999999998 1 0.99999999998 0.0 24.550504901608505 447.5883836530577 0.012528532165427\n",
      "0.99999999998 1 0.99999999998 0.0 24.679923924361272 447.5883836530577 0.012528532165427\n",
      "0.99999999998 1 0.99999999998 0.0 23.27701175544989 447.5883836530577 0.012528532165427\n",
      "2.0000001654807423e-11 0 0.99999999998 0.0 23.894191128201463 447.5883836530577 0.012528532165427\n",
      "0.99999999998 1 0.99999999998 0.0 26.547528210112326 447.5883836530577 0.012528532165427\n",
      "2.0000001654807423e-11 0 0.99999999998 2.76e-321 22.678934124194438 447.5883836530577 0.012528532165427\n",
      "0.99999999998 1 0.99999999998 0.0 23.590094194920486 447.5883836530577 0.012528532165427\n",
      "0.99999999998 1 0.99999999998 0.0 27.1401614910116 447.5883836530577 0.012528532165427\n",
      "0.99999999998 1 0.99999999998 0.0 24.513449165140166 447.5883836530577 0.012528532165427\n",
      "0.99999999998 1 0.99999999998 0.0 24.93301034768996 447.5883836530577 0.012528532165427\n",
      "0.99999999998 1 0.99999999998 0.0 23.209794115544035 447.5883836530577 0.012528532165427\n",
      "0.99999999998 1 0.99999999998 0.0 25.534086093340157 447.5883836530577 0.012528532165427\n",
      "0.99999999998 1 0.99999999998 0.0 25.457412392508594 447.5883836530577 0.012528532165427\n",
      "0.99999999998 1 0.99999999998 0.0 23.362035507478655 447.5883836530577 0.012528532165427\n",
      "0.99999999998 1 0.99999999998 0.0 32.92784318666111 447.5883836530577 0.012528532165427\n",
      "2.0000001654807423e-11 0 0.99999999998 0.0 29.438376906717988 447.5883836530577 0.012528532165427\n",
      "0.99999999998 1 0.99999999998 0.0 26.35792441549128 447.5883836530577 0.012528532165427\n",
      "0.99999999998 1 0.99999999998 0.0 23.548213025389465 447.5883836530577 0.012528532165427\n",
      "0.99999999998 1 0.99999999998 0.0 24.39035834240171 447.5883836530577 0.012528532165427\n",
      "0.99999999998 1 0.99999999998 0.0 26.973769754095954 447.5883836530577 0.012528532165427\n",
      "0.99999999998 1 0.99999999998 0.0 26.869309858030675 447.5883836530577 0.012528532165427\n",
      "0.99999999998 1 0.99999999998 0.0 23.857749595232374 447.5883836530577 0.012528532165427\n",
      "2.0000001654807423e-11 0 0.99999999998 0.0 27.859836539017934 447.5883836530577 0.012528532165427\n",
      "0.99999999998 1 0.99999999998 0.0 26.469430826847628 447.5883836530577 0.012528532165427\n",
      "0.99999999998 1 0.99999999998 0.0 23.80602557666679 447.5883836530577 0.012528532165427\n",
      "0.99999999998 1 0.99999999998 0.0 24.25605801742014 447.5883836530577 0.012528532165427\n",
      "0.99999999998 1 0.99999999998 0.0 23.712531066566914 447.5883836530577 0.012528532165427\n",
      "0.99999999998 1 0.99999999998 0.0 24.1464158590557 447.5883836530577 0.012528532165427\n",
      "0.99999999998 1 0.99999999998 0.0 25.187923551273844 447.5883836530577 0.012528532165427\n",
      "0.99999999998 1 0.99999999998 0.0 31.362367876151698 447.5883836530577 0.012528532165427\n",
      "2.0000001654807423e-11 0 0.99999999998 9.142665e-318 22.543174750023834 447.5883836530577 0.012528532165427\n",
      "0.99999999998 1 0.99999999998 0.0 32.99049418344534 447.5883836530577 0.012528532165427\n",
      "0.99999999998 1 0.99999999998 0.0 26.86577557384746 447.5883836530577 0.012528532165427\n",
      "0.99999999998 1 0.99999999998 0.0 26.19643969582138 447.5883836530577 0.012528532165427\n",
      "0.99999999998 1 0.99999999998 0.0 24.79644447714214 447.5883836530577 0.012528532165427\n",
      "0.99999999998 1 0.99999999998 0.0 34.107698717407565 447.5883836530577 0.012528532165427\n",
      "0.99999999998 1 0.99999999998 0.0 25.33758211052076 447.5883836530577 0.012528532165427\n",
      "0.99999999998 1 0.99999999998 0.0 23.28636847562461 447.5883836530577 0.012528532165427\n",
      "0.99999999998 1 0.99999999998 0.0 24.336975400377955 447.5883836530577 0.012528532165427\n",
      "0.99999999998 1 0.99999999998 0.0 24.621433866733973 447.5883836530577 0.012528532165427\n",
      "0.99999999998 1 0.99999999998 0.0 28.23387007458532 447.5883836530577 0.012528532165427\n",
      "2.0000001654807423e-11 0 0.99999999998 0.0 32.60989272525399 447.5883836530577 0.012528532165427\n",
      "0.99999999998 1 0.99999999998 0.0 24.770485078766022 447.5883836530577 0.012528532165427\n",
      "0.99999999998 1 0.99999999998 0.0 22.899922831110715 447.5883836530577 0.012528532165427\n",
      "0.99999999998 1 0.99999999998 0.0 26.662514940583566 447.5883836530577 0.012528532165427\n",
      "0.99999999998 1 0.99999999998 0.0 24.084083530124943 447.5883836530577 0.012528532165427\n",
      "0.99999999998 1 0.99999999998 0.0 23.675089359934514 447.5883836530577 0.012528532165427\n",
      "2.0000001654807423e-11 0 0.99999999998 0.0 30.550069548453486 447.5883836530577 0.012528532165427\n",
      "0.99999999998 1 0.99999999998 0.0 24.063889951132975 447.5883836530577 0.012528532165427\n",
      "0.99999999998 1 0.99999999998 0.0 25.316661840870747 447.5883836530577 0.012528532165427\n",
      "0.99999999998 1 0.99999999998 0.0 22.78492506477261 447.5883836530577 0.012528532165427\n",
      "2.0000001654807423e-11 0 0.99999999998 7.9e-322 22.699359799832962 447.5883836530577 0.012528532165427\n",
      "0.99999999998 1 0.99999999998 0.0 25.127579454060495 447.5883836530577 0.012528532165427\n",
      "0.99999999998 1 0.99999999998 0.0 24.46560706189495 447.5883836530577 0.012528532165427\n",
      "2.0000001654807423e-11 0 0.99999999998 0.0 25.004926193391885 447.5883836530577 0.012528532165427\n",
      "0.99999999998 1 0.99999999998 0.0 23.71574103496506 447.5883836530577 0.012528532165427\n",
      "0.99999999998 1 0.99999999998 0.0 27.4618610698822 447.5883836530577 0.012528532165427\n",
      "0.99999999998 1 0.99999999998 0.0 30.61446592562272 447.5883836530577 0.012528532165427\n",
      "2.0000001654807423e-11 0 0.99999999998 0.0 28.903503257566122 447.5883836530577 0.012528532165427\n",
      "0.99999999998 1 0.99999999998 0.0 26.763535507782745 447.5883836530577 0.012528532165427\n",
      "0.99999999998 1 0.99999999998 0.0 32.765783518155835 447.5883836530577 0.012528532165427\n",
      "0.99999999998 1 0.99999999998 0.0 22.910023307367428 447.5883836530577 0.012528532165427\n",
      "2.0000001654807423e-11 0 0.99999999998 0.0 26.170082344735487 447.5883836530577 0.012528532165427\n",
      "0.99999999998 1 0.99999999998 0.0 23.118513451372188 447.5883836530577 0.012528532165427\n",
      "0.99999999998 1 0.99999999998 0.0 23.20182573372574 447.5883836530577 0.012528532165427\n",
      "0.99999999998 1 0.99999999998 0.0 26.584710949177193 447.5883836530577 0.012528532165427\n",
      "0.99999999998 1 0.99999999998 0.0 22.917614452477615 447.5883836530577 0.012528532165427\n",
      "0.99999999998 1 0.99999999998 0.0 22.76596349714116 447.5883836530577 0.012528532165427\n",
      "0.99999999998 1 0.99999999998 0.0 24.740916534611323 447.5883836530577 0.012528532165427\n",
      "0.99999999998 1 0.99999999998 0.0 29.47038124892307 447.5883836530577 0.012528532165427\n",
      "0.99999999998 1 0.99999999998 0.0 25.536553839311498 447.5883836530577 0.012528532165427\n",
      "0.99999999998 1 0.99999999998 0.0 28.93554286722387 447.5883836530577 0.012528532165427\n",
      "0.99999999998 1 0.99999999998 0.0 27.628616554211625 447.5883836530577 0.012528532165427\n",
      "0.99999999998 1 0.99999999998 0.0 25.591248321701176 447.5883836530577 0.012528532165427\n",
      "0.99999999998 1 0.99999999998 0.0 24.158423678495595 447.5883836530577 0.012528532165427\n",
      "0.99999999998 1 0.99999999998 0.0 23.11967528540896 447.5883836530577 0.012528532165427\n",
      "0.99999999998 1 0.99999999998 0.0 33.96882254037911 447.5883836530577 0.012528532165427\n",
      "0.99999999998 1 0.99999999998 0.0 23.600460863869174 447.5883836530577 0.012528532165427\n",
      "0.99999999998 1 0.99999999998 0.0 27.079846334639036 447.5883836530577 0.012528532165427\n",
      "0.99999999998 1 0.99999999998 0.0 29.059957212854478 447.5883836530577 0.012528532165427\n",
      "0.99999999998 1 0.99999999998 0.0 27.818237593740015 447.5883836530577 0.012528532165427\n",
      "0.99999999998 1 0.99999999998 0.0 24.05921401074678 447.5883836530577 0.012528532165427\n",
      "0.99999999998 1 0.99999999998 0.0 23.23257909832767 447.5883836530577 0.012528532165427\n",
      "0.99999999998 1 0.99999999998 0.0 23.21245507578432 447.5883836530577 0.012528532165427\n",
      "0.99999999998 1 0.99999999998 0.0 29.810638809324484 447.5883836530577 0.012528532165427\n",
      "0.99999999998 1 0.99999999998 0.0 30.632460219966166 447.5883836530577 0.012528532165427\n",
      "0.99999999998 1 0.99999999998 0.0 27.42346927243285 447.5883836530577 0.012528532165427\n",
      "0.99999999998 1 0.99999999998 0.0 24.470445915907405 447.5883836530577 0.012528532165427\n",
      "2.0000001654807423e-11 0 0.99999999998 0.0 25.10418755893491 447.5883836530577 0.012528532165427\n",
      "0.99999999998 1 0.99999999998 0.0 27.838409402292395 447.5883836530577 0.012528532165427\n",
      "2.0000001654807423e-11 0 0.99999999998 0.0 26.62276409851536 447.5883836530577 0.012528532165427\n",
      "0.99999999998 1 0.99999999998 0.0 27.093746008342634 447.5883836530577 0.012528532165427\n",
      "0.99999999998 1 0.99999999998 0.0 24.318081649844483 447.5883836530577 0.012528532165427\n",
      "0.99999999998 1 0.99999999998 0.0 28.783643020256996 447.5883836530577 0.012528532165427\n",
      "0.99999999998 1 0.99999999998 0.0 27.099078399440003 447.5883836530577 0.012528532165427\n",
      "0.99999999998 1 0.99999999998 0.0 43.114361582941854 447.5883836530577 0.012528532165427\n",
      "0.99999999998 1 0.99999999998 0.0 24.095709556437633 447.5883836530577 0.012528532165427\n",
      "0.99999999998 1 0.99999999998 0.0 26.5414973934625 447.5883836530577 0.012528532165427\n",
      "2.0000001654807423e-11 0 0.99999999998 0.0 35.40385146038417 447.5883836530577 0.012528532165427\n",
      "0.99999999998 1 0.99999999998 0.0 24.128896835742932 447.5883836530577 0.012528532165427\n",
      "0.99999999998 1 0.99999999998 0.0 23.895106270013333 447.5883836530577 0.012528532165427\n",
      "0.99999999998 1 0.99999999998 0.0 24.245809556202033 447.5883836530577 0.012528532165427\n",
      "0.99999999998 1 0.99999999998 0.0 23.882027527087835 447.5883836530577 0.012528532165427\n",
      "0.99999999998 1 0.99999999998 0.0 26.7495050367943 447.5883836530577 0.012528532165427\n",
      "0.99999999998 1 0.99999999998 0.0 28.081605122326927 447.5883836530577 0.012528532165427\n",
      "0.99999999998 1 0.99999999998 0.0 26.68801006625922 447.5883836530577 0.012528532165427\n",
      "0.99999999998 1 0.99999999998 0.0 27.69984852823255 447.5883836530577 0.012528532165427\n",
      "2.0000001654807423e-11 0 0.99999999998 0.0 25.162740458364254 447.5883836530577 0.012528532165427\n",
      "0.99999999998 1 0.99999999998 0.0 25.513057926830033 447.5883836530577 0.012528532165427\n",
      "0.99999999998 1 0.99999999998 0.0 23.77516446074936 447.5883836530577 0.012528532165427\n",
      "0.99999999998 1 0.99999999998 0.0 37.677212556188934 447.5883836530577 0.012528532165427\n",
      "0.99999999998 1 0.99999999998 0.0 23.31371989835557 447.5883836530577 0.012528532165427\n",
      "0.99999999998 1 0.99999999998 0.0 26.019328055118557 447.5883836530577 0.012528532165427\n",
      "0.99999999998 1 0.99999999998 0.0 24.675110057526233 447.5883836530577 0.012528532165427\n",
      "0.99999999998 1 0.99999999998 0.0 25.341851769569953 447.5883836530577 0.012528532165427\n",
      "0.99999999998 1 0.99999999998 0.0 28.104972260911318 447.5883836530577 0.012528532165427\n",
      "2.0000001654807423e-11 0 0.99999999998 0.0 25.4641172263653 447.5883836530577 0.012528532165427\n",
      "0.99999999998 1 0.99999999998 0.0 23.31578854422411 447.5883836530577 0.012528532165427\n",
      "0.99999999998 1 0.99999999998 0.0 22.996426208657585 447.5883836530577 0.012528532165427\n",
      "0.99999999998 1 0.99999999998 0.0 26.952743748610676 447.5883836530577 0.012528532165427\n",
      "0.99999999998 1 0.99999999998 0.0 27.80059582045195 447.5883836530577 0.012528532165427\n",
      "2.0000001654807423e-11 0 0.99999999998 0.0 27.83773098381359 447.5883836530577 0.012528532165427\n",
      "0.99999999998 1 0.99999999998 0.0 23.027232470313276 447.5883836530577 0.012528532165427\n",
      "0.99999999998 1 0.99999999998 0.0 24.48319399722387 447.5883836530577 0.012528532165427\n",
      "0.99999999998 1 0.99999999998 0.0 23.781720287359786 447.5883836530577 0.012528532165427\n",
      "0.99999999998 1 0.99999999998 0.0 24.570560875385116 447.5883836530577 0.012528532165427\n",
      "0.99999999998 1 0.99999999998 0.0 26.41270500566528 447.5883836530577 0.012528532165427\n",
      "0.99999999998 1 0.99999999998 0.0 25.937167744545192 447.5883836530577 0.012528532165427\n",
      "0.99999999998 1 0.99999999998 0.0 27.894943550455793 447.5883836530577 0.012528532165427\n",
      "0.99999999998 1 0.99999999998 0.0 25.90927630198343 447.5883836530577 0.012528532165427\n",
      "0.99999999998 1 0.99999999998 0.0 26.961360865018115 447.5883836530577 0.012528532165427\n",
      "0.99999999998 1 0.99999999998 0.0 29.21751811778123 447.5883836530577 0.012528532165427\n",
      "0.99999999998 1 0.99999999998 0.0 24.08769320920742 447.5883836530577 0.012528532165427\n",
      "0.99999999998 1 0.99999999998 0.0 23.80746198025399 447.5883836530577 0.012528532165427\n",
      "0.99999999998 1 0.99999999998 0.0 26.32679627950905 447.5883836530577 0.012528532165427\n",
      "0.99999999998 1 0.99999999998 0.0 23.238840960582465 447.5883836530577 0.012528532165427\n",
      "0.99999999998 1 0.99999999998 0.0 29.833632597633834 447.5883836530577 0.012528532165427\n",
      "0.99999999998 1 0.99999999998 0.0 37.86489981613562 447.5883836530577 0.012528532165427\n",
      "2.0000001654807423e-11 0 0.99999999998 0.0 26.60358666103983 447.5883836530577 0.012528532165427\n",
      "[-449.38033017070796, -2122.8227030331477]\n",
      "0.99999999998 1 0.99999999998 0.0 31.47572641883067 447.5883836530577 0.012528532165427\n",
      "0.99999999998 1 0.99999999998 0.0 24.406101491472274 447.5883836530577 0.012528532165427\n",
      "0.99999999998 1 0.99999999998 0.0 24.457765497409863 447.5883836530577 0.012528532165427\n",
      "0.99999999998 1 0.99999999998 0.0 25.162152694278067 447.5883836530577 0.012528532165427\n",
      "2.0000001654807423e-11 0 0.99999999998 0.0 24.897551439577764 447.5883836530577 0.012528532165427\n",
      "0.99999999998 1 0.99999999998 0.0 26.889741866619502 447.5883836530577 0.012528532165427\n",
      "0.99999999998 1 0.99999999998 0.0 23.952374204558783 447.5883836530577 0.012528532165427\n",
      "0.99999999998 1 0.99999999998 0.0 29.313634977670617 447.5883836530577 0.012528532165427\n",
      "0.99999999998 1 0.99999999998 0.0 27.488396923210335 447.5883836530577 0.012528532165427\n",
      "0.99999999998 1 0.99999999998 0.0 25.046001319808635 447.5883836530577 0.012528532165427\n",
      "0.99999999998 1 0.99999999998 0.0 24.345366322417984 447.5883836530577 0.012528532165427\n",
      "0.99999999998 1 0.99999999998 0.0 32.7331904196526 447.5883836530577 0.012528532165427\n",
      "0.99999999998 1 0.99999999998 0.0 31.999513757372736 447.5883836530577 0.012528532165427\n",
      "2.0000001654807423e-11 0 0.99999999998 2.09159376e-316 22.49099189811693 447.5883836530577 0.012528532165427\n",
      "0.99999999998 1 0.99999999998 0.0 23.086084515840817 447.5883836530577 0.012528532165427\n",
      "0.99999999998 1 0.99999999998 0.0 23.610397319989318 447.5883836530577 0.012528532165427\n",
      "0.99999999998 1 0.99999999998 0.0 23.35637676300447 447.5883836530577 0.012528532165427\n",
      "0.99999999998 1 0.99999999998 0.0 26.476635342095417 447.5883836530577 0.012528532165427\n",
      "0.99999999998 1 0.99999999998 0.0 27.582150124125402 447.5883836530577 0.012528532165427\n",
      "0.99999999998 1 0.99999999998 0.0 25.169518425193893 447.5883836530577 0.012528532165427\n",
      "0.99999999998 1 0.99999999998 0.0 24.392259250653485 447.5883836530577 0.012528532165427\n",
      "0.99999999998 1 0.99999999998 0.0 26.768314494146324 447.5883836530577 0.012528532165427\n",
      "0.99999999998 1 0.99999999998 0.0 26.726632371410492 447.5883836530577 0.012528532165427\n",
      "0.99999999998 1 0.99999999998 0.0 24.621610819387953 447.5883836530577 0.012528532165427\n",
      "0.99999999998 1 0.99999999998 0.0 29.302632719205242 447.5883836530577 0.012528532165427\n",
      "0.99999999998 1 0.99999999998 0.0 26.174879059952385 447.5883836530577 0.012528532165427\n",
      "0.99999999998 1 0.99999999998 0.0 29.570254250866544 447.5883836530577 0.012528532165427\n",
      "0.99999999998 1 0.99999999998 0.0 23.066891140921516 447.5883836530577 0.012528532165427\n",
      "0.99999999998 1 0.99999999998 0.0 24.44485181344659 447.5883836530577 0.012528532165427\n",
      "0.99999999998 1 0.99999999998 0.0 31.51097907110271 447.5883836530577 0.012528532165427\n",
      "2.0000001654807423e-11 0 0.99999999998 0.0 24.51006700583461 447.5883836530577 0.012528532165427\n",
      "0.99999999998 1 0.99999999998 0.0 23.094828626775247 447.5883836530577 0.012528532165427\n",
      "0.99999999998 1 0.99999999998 0.0 27.106638123127635 447.5883836530577 0.012528532165427\n",
      "0.99999999998 1 0.99999999998 0.0 26.092179056903287 447.5883836530577 0.012528532165427\n",
      "0.99999999998 1 0.99999999998 0.0 29.3238318024933 447.5883836530577 0.012528532165427\n",
      "2.0000001654807423e-11 0 0.99999999998 0.0 35.38734601453273 447.5883836530577 0.012528532165427\n",
      "0.99999999998 1 0.99999999998 0.0 25.519957243883276 447.5883836530577 0.012528532165427\n",
      "2.0000001654807423e-11 0 0.99999999998 0.0 28.29947581264701 447.5883836530577 0.012528532165427\n",
      "0.99999999998 1 0.99999999998 0.0 31.950649489391424 447.5883836530577 0.012528532165427\n",
      "0.99999999998 1 0.99999999998 0.0 31.96575152096109 447.5883836530577 0.012528532165427\n",
      "0.99999999998 1 0.99999999998 0.0 23.219941160236644 447.5883836530577 0.012528532165427\n",
      "2.0000001654807423e-11 0 0.99999999998 0.0 25.40829175860801 447.5883836530577 0.012528532165427\n",
      "0.99999999998 1 0.99999999998 0.0 25.113979839809797 447.5883836530577 0.012528532165427\n",
      "0.99999999998 1 0.99999999998 0.0 27.574462368266932 447.5883836530577 0.012528532165427\n",
      "0.99999999998 1 0.99999999998 0.0 24.550504901608505 447.5883836530577 0.012528532165427\n",
      "0.99999999998 1 0.99999999998 0.0 24.679923924361272 447.5883836530577 0.012528532165427\n",
      "0.99999999998 1 0.99999999998 0.0 23.27701175544989 447.5883836530577 0.012528532165427\n",
      "2.0000001654807423e-11 0 0.99999999998 0.0 23.894191128201463 447.5883836530577 0.012528532165427\n",
      "0.99999999998 1 0.99999999998 0.0 26.547528210112326 447.5883836530577 0.012528532165427\n",
      "2.0000001654807423e-11 0 0.99999999998 2.76e-321 22.678934124194438 447.5883836530577 0.012528532165427\n",
      "0.99999999998 1 0.99999999998 0.0 23.590094194920486 447.5883836530577 0.012528532165427\n",
      "0.99999999998 1 0.99999999998 0.0 27.1401614910116 447.5883836530577 0.012528532165427\n",
      "0.99999999998 1 0.99999999998 0.0 24.513449165140166 447.5883836530577 0.012528532165427\n",
      "0.99999999998 1 0.99999999998 0.0 24.93301034768996 447.5883836530577 0.012528532165427\n",
      "0.99999999998 1 0.99999999998 0.0 23.209794115544035 447.5883836530577 0.012528532165427\n",
      "0.99999999998 1 0.99999999998 0.0 25.534086093340157 447.5883836530577 0.012528532165427\n",
      "0.99999999998 1 0.99999999998 0.0 25.457412392508594 447.5883836530577 0.012528532165427\n",
      "0.99999999998 1 0.99999999998 0.0 23.362035507478655 447.5883836530577 0.012528532165427\n",
      "0.99999999998 1 0.99999999998 0.0 32.92784318666111 447.5883836530577 0.012528532165427\n",
      "2.0000001654807423e-11 0 0.99999999998 0.0 29.438376906717988 447.5883836530577 0.012528532165427\n",
      "0.99999999998 1 0.99999999998 0.0 26.35792441549128 447.5883836530577 0.012528532165427\n",
      "0.99999999998 1 0.99999999998 0.0 23.548213025389465 447.5883836530577 0.012528532165427\n",
      "0.99999999998 1 0.99999999998 0.0 24.39035834240171 447.5883836530577 0.012528532165427\n",
      "0.99999999998 1 0.99999999998 0.0 26.973769754095954 447.5883836530577 0.012528532165427\n",
      "0.99999999998 1 0.99999999998 0.0 26.869309858030675 447.5883836530577 0.012528532165427\n",
      "0.99999999998 1 0.99999999998 0.0 23.857749595232374 447.5883836530577 0.012528532165427\n",
      "2.0000001654807423e-11 0 0.99999999998 0.0 27.859836539017934 447.5883836530577 0.012528532165427\n",
      "0.99999999998 1 0.99999999998 0.0 26.469430826847628 447.5883836530577 0.012528532165427\n",
      "0.99999999998 1 0.99999999998 0.0 23.80602557666679 447.5883836530577 0.012528532165427\n",
      "0.99999999998 1 0.99999999998 0.0 24.25605801742014 447.5883836530577 0.012528532165427\n",
      "0.99999999998 1 0.99999999998 0.0 23.712531066566914 447.5883836530577 0.012528532165427\n",
      "0.99999999998 1 0.99999999998 0.0 24.1464158590557 447.5883836530577 0.012528532165427\n",
      "0.99999999998 1 0.99999999998 0.0 25.187923551273844 447.5883836530577 0.012528532165427\n",
      "0.99999999998 1 0.99999999998 0.0 31.362367876151698 447.5883836530577 0.012528532165427\n",
      "2.0000001654807423e-11 0 0.99999999998 9.142665e-318 22.543174750023834 447.5883836530577 0.012528532165427\n",
      "0.99999999998 1 0.99999999998 0.0 32.99049418344534 447.5883836530577 0.012528532165427\n",
      "0.99999999998 1 0.99999999998 0.0 26.86577557384746 447.5883836530577 0.012528532165427\n",
      "0.99999999998 1 0.99999999998 0.0 26.19643969582138 447.5883836530577 0.012528532165427\n",
      "0.99999999998 1 0.99999999998 0.0 24.79644447714214 447.5883836530577 0.012528532165427\n",
      "0.99999999998 1 0.99999999998 0.0 34.107698717407565 447.5883836530577 0.012528532165427\n",
      "0.99999999998 1 0.99999999998 0.0 25.33758211052076 447.5883836530577 0.012528532165427\n",
      "0.99999999998 1 0.99999999998 0.0 23.28636847562461 447.5883836530577 0.012528532165427\n",
      "0.99999999998 1 0.99999999998 0.0 24.336975400377955 447.5883836530577 0.012528532165427\n",
      "0.99999999998 1 0.99999999998 0.0 24.621433866733973 447.5883836530577 0.012528532165427\n",
      "0.99999999998 1 0.99999999998 0.0 28.23387007458532 447.5883836530577 0.012528532165427\n",
      "2.0000001654807423e-11 0 0.99999999998 0.0 32.60989272525399 447.5883836530577 0.012528532165427\n",
      "0.99999999998 1 0.99999999998 0.0 24.770485078766022 447.5883836530577 0.012528532165427\n",
      "0.99999999998 1 0.99999999998 0.0 22.899922831110715 447.5883836530577 0.012528532165427\n",
      "0.99999999998 1 0.99999999998 0.0 26.662514940583566 447.5883836530577 0.012528532165427\n",
      "0.99999999998 1 0.99999999998 0.0 24.084083530124943 447.5883836530577 0.012528532165427\n",
      "0.99999999998 1 0.99999999998 0.0 23.675089359934514 447.5883836530577 0.012528532165427\n",
      "2.0000001654807423e-11 0 0.99999999998 0.0 30.550069548453486 447.5883836530577 0.012528532165427\n",
      "0.99999999998 1 0.99999999998 0.0 24.063889951132975 447.5883836530577 0.012528532165427\n",
      "0.99999999998 1 0.99999999998 0.0 25.316661840870747 447.5883836530577 0.012528532165427\n",
      "0.99999999998 1 0.99999999998 0.0 22.78492506477261 447.5883836530577 0.012528532165427\n",
      "2.0000001654807423e-11 0 0.99999999998 7.9e-322 22.699359799832962 447.5883836530577 0.012528532165427\n",
      "0.99999999998 1 0.99999999998 0.0 25.127579454060495 447.5883836530577 0.012528532165427\n",
      "0.99999999998 1 0.99999999998 0.0 24.46560706189495 447.5883836530577 0.012528532165427\n",
      "2.0000001654807423e-11 0 0.99999999998 0.0 25.004926193391885 447.5883836530577 0.012528532165427\n",
      "0.99999999998 1 0.99999999998 0.0 23.71574103496506 447.5883836530577 0.012528532165427\n",
      "0.99999999998 1 0.99999999998 0.0 27.4618610698822 447.5883836530577 0.012528532165427\n",
      "0.99999999998 1 0.99999999998 0.0 30.61446592562272 447.5883836530577 0.012528532165427\n",
      "2.0000001654807423e-11 0 0.99999999998 0.0 28.903503257566122 447.5883836530577 0.012528532165427\n",
      "0.99999999998 1 0.99999999998 0.0 26.763535507782745 447.5883836530577 0.012528532165427\n",
      "0.99999999998 1 0.99999999998 0.0 32.765783518155835 447.5883836530577 0.012528532165427\n",
      "0.99999999998 1 0.99999999998 0.0 22.910023307367428 447.5883836530577 0.012528532165427\n",
      "2.0000001654807423e-11 0 0.99999999998 0.0 26.170082344735487 447.5883836530577 0.012528532165427\n",
      "0.99999999998 1 0.99999999998 0.0 23.118513451372188 447.5883836530577 0.012528532165427\n",
      "0.99999999998 1 0.99999999998 0.0 23.20182573372574 447.5883836530577 0.012528532165427\n",
      "0.99999999998 1 0.99999999998 0.0 26.584710949177193 447.5883836530577 0.012528532165427\n",
      "0.99999999998 1 0.99999999998 0.0 22.917614452477615 447.5883836530577 0.012528532165427\n",
      "0.99999999998 1 0.99999999998 0.0 22.76596349714116 447.5883836530577 0.012528532165427\n",
      "0.99999999998 1 0.99999999998 0.0 24.740916534611323 447.5883836530577 0.012528532165427\n",
      "0.99999999998 1 0.99999999998 0.0 29.47038124892307 447.5883836530577 0.012528532165427\n",
      "0.99999999998 1 0.99999999998 0.0 25.536553839311498 447.5883836530577 0.012528532165427\n",
      "0.99999999998 1 0.99999999998 0.0 28.93554286722387 447.5883836530577 0.012528532165427\n",
      "0.99999999998 1 0.99999999998 0.0 27.628616554211625 447.5883836530577 0.012528532165427\n",
      "0.99999999998 1 0.99999999998 0.0 25.591248321701176 447.5883836530577 0.012528532165427\n",
      "0.99999999998 1 0.99999999998 0.0 24.158423678495595 447.5883836530577 0.012528532165427\n",
      "0.99999999998 1 0.99999999998 0.0 23.11967528540896 447.5883836530577 0.012528532165427\n",
      "0.99999999998 1 0.99999999998 0.0 33.96882254037911 447.5883836530577 0.012528532165427\n",
      "0.99999999998 1 0.99999999998 0.0 23.600460863869174 447.5883836530577 0.012528532165427\n",
      "0.99999999998 1 0.99999999998 0.0 27.079846334639036 447.5883836530577 0.012528532165427\n",
      "0.99999999998 1 0.99999999998 0.0 29.059957212854478 447.5883836530577 0.012528532165427\n",
      "0.99999999998 1 0.99999999998 0.0 27.818237593740015 447.5883836530577 0.012528532165427\n",
      "0.99999999998 1 0.99999999998 0.0 24.05921401074678 447.5883836530577 0.012528532165427\n",
      "0.99999999998 1 0.99999999998 0.0 23.23257909832767 447.5883836530577 0.012528532165427\n",
      "0.99999999998 1 0.99999999998 0.0 23.21245507578432 447.5883836530577 0.012528532165427\n",
      "0.99999999998 1 0.99999999998 0.0 29.810638809324484 447.5883836530577 0.012528532165427\n",
      "0.99999999998 1 0.99999999998 0.0 30.632460219966166 447.5883836530577 0.012528532165427\n",
      "0.99999999998 1 0.99999999998 0.0 27.42346927243285 447.5883836530577 0.012528532165427\n",
      "0.99999999998 1 0.99999999998 0.0 24.470445915907405 447.5883836530577 0.012528532165427\n",
      "2.0000001654807423e-11 0 0.99999999998 0.0 25.10418755893491 447.5883836530577 0.012528532165427\n",
      "0.99999999998 1 0.99999999998 0.0 27.838409402292395 447.5883836530577 0.012528532165427\n",
      "2.0000001654807423e-11 0 0.99999999998 0.0 26.62276409851536 447.5883836530577 0.012528532165427\n",
      "0.99999999998 1 0.99999999998 0.0 27.093746008342634 447.5883836530577 0.012528532165427\n",
      "0.99999999998 1 0.99999999998 0.0 24.318081649844483 447.5883836530577 0.012528532165427\n",
      "0.99999999998 1 0.99999999998 0.0 28.783643020256996 447.5883836530577 0.012528532165427\n",
      "0.99999999998 1 0.99999999998 0.0 27.099078399440003 447.5883836530577 0.012528532165427\n",
      "0.99999999998 1 0.99999999998 0.0 43.114361582941854 447.5883836530577 0.012528532165427\n",
      "0.99999999998 1 0.99999999998 0.0 24.095709556437633 447.5883836530577 0.012528532165427\n",
      "0.99999999998 1 0.99999999998 0.0 26.5414973934625 447.5883836530577 0.012528532165427\n",
      "2.0000001654807423e-11 0 0.99999999998 0.0 35.40385146038417 447.5883836530577 0.012528532165427\n",
      "0.99999999998 1 0.99999999998 0.0 24.128896835742932 447.5883836530577 0.012528532165427\n",
      "0.99999999998 1 0.99999999998 0.0 23.895106270013333 447.5883836530577 0.012528532165427\n",
      "0.99999999998 1 0.99999999998 0.0 24.245809556202033 447.5883836530577 0.012528532165427\n",
      "0.99999999998 1 0.99999999998 0.0 23.882027527087835 447.5883836530577 0.012528532165427\n",
      "0.99999999998 1 0.99999999998 0.0 26.7495050367943 447.5883836530577 0.012528532165427\n",
      "0.99999999998 1 0.99999999998 0.0 28.081605122326927 447.5883836530577 0.012528532165427\n",
      "0.99999999998 1 0.99999999998 0.0 26.68801006625922 447.5883836530577 0.012528532165427\n",
      "0.99999999998 1 0.99999999998 0.0 27.69984852823255 447.5883836530577 0.012528532165427\n",
      "2.0000001654807423e-11 0 0.99999999998 0.0 25.162740458364254 447.5883836530577 0.012528532165427\n",
      "0.99999999998 1 0.99999999998 0.0 25.513057926830033 447.5883836530577 0.012528532165427\n",
      "0.99999999998 1 0.99999999998 0.0 23.77516446074936 447.5883836530577 0.012528532165427\n",
      "0.99999999998 1 0.99999999998 0.0 37.677212556188934 447.5883836530577 0.012528532165427\n",
      "0.99999999998 1 0.99999999998 0.0 23.31371989835557 447.5883836530577 0.012528532165427\n",
      "0.99999999998 1 0.99999999998 0.0 26.019328055118557 447.5883836530577 0.012528532165427\n",
      "0.99999999998 1 0.99999999998 0.0 24.675110057526233 447.5883836530577 0.012528532165427\n",
      "0.99999999998 1 0.99999999998 0.0 25.341851769569953 447.5883836530577 0.012528532165427\n",
      "0.99999999998 1 0.99999999998 0.0 28.104972260911318 447.5883836530577 0.012528532165427\n",
      "2.0000001654807423e-11 0 0.99999999998 0.0 25.4641172263653 447.5883836530577 0.012528532165427\n",
      "0.99999999998 1 0.99999999998 0.0 23.31578854422411 447.5883836530577 0.012528532165427\n",
      "0.99999999998 1 0.99999999998 0.0 22.996426208657585 447.5883836530577 0.012528532165427\n",
      "0.99999999998 1 0.99999999998 0.0 26.952743748610676 447.5883836530577 0.012528532165427\n",
      "0.99999999998 1 0.99999999998 0.0 27.80059582045195 447.5883836530577 0.012528532165427\n",
      "2.0000001654807423e-11 0 0.99999999998 0.0 27.83773098381359 447.5883836530577 0.012528532165427\n",
      "0.99999999998 1 0.99999999998 0.0 23.027232470313276 447.5883836530577 0.012528532165427\n",
      "0.99999999998 1 0.99999999998 0.0 24.48319399722387 447.5883836530577 0.012528532165427\n",
      "0.99999999998 1 0.99999999998 0.0 23.781720287359786 447.5883836530577 0.012528532165427\n",
      "0.99999999998 1 0.99999999998 0.0 24.570560875385116 447.5883836530577 0.012528532165427\n",
      "0.99999999998 1 0.99999999998 0.0 26.41270500566528 447.5883836530577 0.012528532165427\n",
      "0.99999999998 1 0.99999999998 0.0 25.937167744545192 447.5883836530577 0.012528532165427\n",
      "0.99999999998 1 0.99999999998 0.0 27.894943550455793 447.5883836530577 0.012528532165427\n",
      "0.99999999998 1 0.99999999998 0.0 25.90927630198343 447.5883836530577 0.012528532165427\n",
      "0.99999999998 1 0.99999999998 0.0 26.961360865018115 447.5883836530577 0.012528532165427\n",
      "0.99999999998 1 0.99999999998 0.0 29.21751811778123 447.5883836530577 0.012528532165427\n",
      "0.99999999998 1 0.99999999998 0.0 24.08769320920742 447.5883836530577 0.012528532165427\n",
      "0.99999999998 1 0.99999999998 0.0 23.80746198025399 447.5883836530577 0.012528532165427\n",
      "0.99999999998 1 0.99999999998 0.0 26.32679627950905 447.5883836530577 0.012528532165427\n",
      "0.99999999998 1 0.99999999998 0.0 23.238840960582465 447.5883836530577 0.012528532165427\n",
      "0.99999999998 1 0.99999999998 0.0 29.833632597633834 447.5883836530577 0.012528532165427\n",
      "0.99999999998 1 0.99999999998 0.0 37.86489981613562 447.5883836530577 0.012528532165427\n",
      "2.0000001654807423e-11 0 0.99999999998 0.0 26.60358666103983 447.5883836530577 0.012528532165427\n",
      "[-449.3805116763844, -2122.8226377733076]\n"
     ]
    }
   ],
   "source": [
    "X = [lineage1, lineage2] # population just contains one lineage\n",
    "\n",
    "deltas, state_ptrs, all_states, tHMMobj, NF, LL = Analyze(X, 2) # find two states"
   ]
  },
  {
   "cell_type": "code",
   "execution_count": 26,
   "metadata": {},
   "outputs": [
    {
     "name": "stdout",
     "output_type": "stream",
     "text": [
      "Accuracy or 1-Accuracy is 0.48031496062992124\n",
      "Accuracy or 1-Accuracy is 0.5980551053484603\n"
     ]
    }
   ],
   "source": [
    "for num, lineageObj in enumerate(X):\n",
    "    lin_estimated_states = all_states[num]\n",
    "    lin_true_states = [cell.state for cell in lineageObj.output_lineage]\n",
    "    total = len(lin_estimated_states)\n",
    "    assert total == len(lin_true_states)\n",
    "    counter = [1 if a==b else 0 for (a,b) in zip(lin_estimated_states,lin_true_states)]\n",
    "    print(\"Accuracy or 1-Accuracy is {}\".format(sum(counter)/total))"
   ]
  },
  {
   "cell_type": "markdown",
   "metadata": {},
   "source": [
    "### Estimated Markov parameters ($\\pi$, $T$, $E$)"
   ]
  },
  {
   "cell_type": "code",
   "execution_count": 27,
   "metadata": {},
   "outputs": [
    {
     "name": "stdout",
     "output_type": "stream",
     "text": [
      "[1. 0.]\n"
     ]
    }
   ],
   "source": [
    "print(tHMMobj.estimate.pi)"
   ]
  },
  {
   "cell_type": "code",
   "execution_count": 28,
   "metadata": {},
   "outputs": [
    {
     "name": "stdout",
     "output_type": "stream",
     "text": [
      "[[9.95048502e-001 4.95149756e-003]\n",
      " [1.00000000e+000 2.90192276e-261]]\n"
     ]
    }
   ],
   "source": [
    "print(tHMMobj.estimate.T)"
   ]
  },
  {
   "cell_type": "code",
   "execution_count": 29,
   "metadata": {},
   "outputs": [
    {
     "name": "stdout",
     "output_type": "stream",
     "text": [
      "State object w/ parameters: 0.9066305818672784, 10.854964001176883, 1.746162193702821.\n",
      "State object w/ parameters: 0.99999999998, 447.5883836530577, 0.012528532165427.\n"
     ]
    }
   ],
   "source": [
    "for state in range(tHMMobj.numStates):\n",
    "    print(tHMMobj.estimate.E[state])"
   ]
  },
  {
   "cell_type": "markdown",
   "metadata": {},
   "source": [
    "## Creating a synthetic lineage that has three states"
   ]
  },
  {
   "cell_type": "markdown",
   "metadata": {},
   "source": [
    "Here we generate a lineage with three states, which would be 1) Susciptible 2) Middle State 3) Resistant. The aim here is to show the transition from susciptible to resistant state doesn't happen immediately, and there is a gradual transition which is modeled as a middle state. The point to be considered here is that transition from 1 to 3 or otherwise is not possible so the probability of these transitions are zero, and most likely the initial cells are in susciptible state.\n",
    "\n",
    "**State 1**: Susceptible\n",
    "\n",
    "**State 2**: Transition state\n",
    "\n",
    "**State 3**: Resistant state\n"
   ]
  },
  {
   "cell_type": "code",
   "execution_count": 30,
   "metadata": {},
   "outputs": [],
   "source": [
    "# pi: the initial probability vector\n",
    "pi_3 = np.array([0.5, 0.25, 0.25])\n",
    "\n",
    "# T: transition probability matrix\n",
    "T_3 = np.array([[0.65, 0.35, 0.00],\n",
    "                [0.20, 0.40, 0.40],\n",
    "                [0.00, 0.10, 0.90]])"
   ]
  },
  {
   "cell_type": "code",
   "execution_count": 31,
   "metadata": {},
   "outputs": [],
   "source": [
    "# E: states are defined as StateDistribution objects\n",
    "\n",
    "# State 0 parameters \"Susciptible\"\n",
    "state0 = 0\n",
    "bern_p0 = 0.7\n",
    "expon_scale_beta0 = 20\n",
    "gamma_a0 = 5.0\n",
    "gamma_scale0 = 1.0\n",
    "\n",
    "# State 1 parameters \"Middle state\"\n",
    "state1 = 1\n",
    "bern_p1 = 0.85\n",
    "expon_scale_beta1 = 60\n",
    "gamma_a1 = 10.0\n",
    "gamma_scale1 = 2.0\n",
    "\n",
    "# State 2 parameters \"Resistant\"\n",
    "state2 = 2\n",
    "bern_p2 = 0.99\n",
    "expon_scale_beta2 = 80\n",
    "gamma_a2 = 15.0\n",
    "gamma_scale2 = 3.0\n",
    "\n",
    "state_obj0 = StateDistribution(state0, bern_p0, gamma_a0, gamma_scale0)\n",
    "state_obj1 = StateDistribution(state1, bern_p1, gamma_a1, gamma_scale1)\n",
    "state_obj2 = StateDistribution(state2, bern_p2, gamma_a2, gamma_scale2)\n",
    "\n",
    "E_3 = [state_obj0, state_obj1, state_obj2]"
   ]
  },
  {
   "cell_type": "code",
   "execution_count": 32,
   "metadata": {},
   "outputs": [],
   "source": [
    "desired_num_cells = 2**13 - 1 \n",
    "prune_boolean = False # To get the full tree"
   ]
  },
  {
   "cell_type": "code",
   "execution_count": 33,
   "metadata": {},
   "outputs": [
    {
     "name": "stdout",
     "output_type": "stream",
     "text": [
      "This tree is NOT pruned. It is made of 3 states.\n",
      " For each state in this tree: \n",
      " \t There are 717 cells of state 0, \n",
      " \t There are 1427 cells of state 1, \n",
      " \t There are 6047 cells of state 2.\n",
      " This UNpruned tree has 8191 cells in total\n"
     ]
    }
   ],
   "source": [
    "lineage3 = LineageTree(pi_3, T_3, E_3, desired_num_cells, prune_boolean)\n",
    "print(lineage3)"
   ]
  },
  {
   "cell_type": "code",
   "execution_count": 34,
   "metadata": {},
   "outputs": [
    {
     "name": "stdout",
     "output_type": "stream",
     "text": [
      "745.3091267681102\n"
     ]
    }
   ],
   "source": [
    "longest3 = get_experiment_time(lineage3)\n",
    "print(longest3)"
   ]
  },
  {
   "cell_type": "markdown",
   "metadata": {},
   "source": [
    "### Estimation of distribution parameters using our estimators for full lineage (3 state)"
   ]
  },
  {
   "cell_type": "code",
   "execution_count": 35,
   "metadata": {},
   "outputs": [
    {
     "name": "stdout",
     "output_type": "stream",
     "text": [
      "State 0:\n",
      "estimated state State object w/ parameters: 0.682008368200786, 4.991749127933855, 1.002987051616193.\n",
      "estimated state State object w/ parameters: 0.6738197424891211, 5.1613055466505475, 0.9823679545500791.\n",
      "true_____ state State object w/ parameters: 0.7, 5.0, 1.0.\n",
      "State 1:\n",
      "estimated state State object w/ parameters: 0.8374211632795603, 9.75718774552801, 2.0208549988328883.\n",
      "estimated state State object w/ parameters: 0.8519003931847047, 9.537947686702955, 2.059090207667336.\n",
      "true_____ state State object w/ parameters: 0.85, 10.0, 2.0.\n",
      "State 2:\n",
      "estimated state State object w/ parameters: 0.9907392095253682, 14.529105368613905, 3.08757506663769.\n",
      "estimated state State object w/ parameters: 0.9906656841070749, 14.378296466163388, 3.12135235791129.\n",
      "true_____ state State object w/ parameters: 0.99, 15.0, 3.0.\n"
     ]
    }
   ],
   "source": [
    "for state in range(lineage3.num_states):\n",
    "    print(\"State {}:\".format(state))\n",
    "    print(\"estimated state\", E_3[state].estimator(lineage3.lineage_stats[state].full_lin_cells_obs))\n",
    "    print(\"estimated state\", E_3[state].estimator(lineage3.lineage_stats[state].pruned_lin_cells_obs))\n",
    "    print(\"true_____ state\", E_3[state])"
   ]
  },
  {
   "cell_type": "markdown",
   "metadata": {},
   "source": [
    "### Analyzing a three state lineage"
   ]
  },
  {
   "cell_type": "code",
   "execution_count": 36,
   "metadata": {},
   "outputs": [
    {
     "ename": "IndexError",
     "evalue": "index 2 is out of bounds for axis 1 with size 2",
     "output_type": "error",
     "traceback": [
      "\u001b[0;31m---------------------------------------------------------------------------\u001b[0m",
      "\u001b[0;31mIndexError\u001b[0m                                Traceback (most recent call last)",
      "\u001b[0;32m<ipython-input-36-6a48c2643002>\u001b[0m in \u001b[0;36m<module>\u001b[0;34m\u001b[0m\n\u001b[1;32m      1\u001b[0m \u001b[0mX\u001b[0m \u001b[0;34m=\u001b[0m \u001b[0;34m[\u001b[0m\u001b[0mlineage3\u001b[0m\u001b[0;34m]\u001b[0m \u001b[0;31m# population just contains one lineage\u001b[0m\u001b[0;34m\u001b[0m\u001b[0;34m\u001b[0m\u001b[0m\n\u001b[1;32m      2\u001b[0m \u001b[0;34m\u001b[0m\u001b[0m\n\u001b[0;32m----> 3\u001b[0;31m \u001b[0mdeltas\u001b[0m\u001b[0;34m,\u001b[0m \u001b[0mstate_ptrs\u001b[0m\u001b[0;34m,\u001b[0m \u001b[0mall_states\u001b[0m\u001b[0;34m,\u001b[0m \u001b[0mtHMMobj\u001b[0m\u001b[0;34m,\u001b[0m \u001b[0mNF\u001b[0m\u001b[0;34m,\u001b[0m \u001b[0mLL\u001b[0m \u001b[0;34m=\u001b[0m \u001b[0mAnalyze\u001b[0m\u001b[0;34m(\u001b[0m\u001b[0mX\u001b[0m\u001b[0;34m,\u001b[0m \u001b[0;36m3\u001b[0m\u001b[0;34m)\u001b[0m \u001b[0;31m# find three states\u001b[0m\u001b[0;34m\u001b[0m\u001b[0;34m\u001b[0m\u001b[0m\n\u001b[0m",
      "\u001b[0;32m~/lineage/accuracy/lineage-growth/lineage/Analyze.py\u001b[0m in \u001b[0;36mAnalyze\u001b[0;34m(X, numStates)\u001b[0m\n\u001b[1;32m     26\u001b[0m     \"\"\"\n\u001b[1;32m     27\u001b[0m \u001b[0;34m\u001b[0m\u001b[0m\n\u001b[0;32m---> 28\u001b[0;31m     \u001b[0mtHMMobj\u001b[0m \u001b[0;34m=\u001b[0m \u001b[0mtHMM\u001b[0m\u001b[0;34m(\u001b[0m\u001b[0mX\u001b[0m\u001b[0;34m,\u001b[0m \u001b[0mnumStates\u001b[0m\u001b[0;34m=\u001b[0m\u001b[0mnumStates\u001b[0m\u001b[0;34m)\u001b[0m  \u001b[0;31m# build the tHMM class with X\u001b[0m\u001b[0;34m\u001b[0m\u001b[0;34m\u001b[0m\u001b[0m\n\u001b[0m\u001b[1;32m     29\u001b[0m     \u001b[0mfit\u001b[0m\u001b[0;34m(\u001b[0m\u001b[0mtHMMobj\u001b[0m\u001b[0;34m,\u001b[0m \u001b[0mmax_iter\u001b[0m\u001b[0;34m=\u001b[0m\u001b[0;36m200\u001b[0m\u001b[0;34m)\u001b[0m\u001b[0;34m\u001b[0m\u001b[0;34m\u001b[0m\u001b[0m\n\u001b[1;32m     30\u001b[0m \u001b[0;34m\u001b[0m\u001b[0m\n",
      "\u001b[0;32m~/lineage/accuracy/lineage-growth/lineage/tHMM.py\u001b[0m in \u001b[0;36m__init__\u001b[0;34m(self, X, numStates)\u001b[0m\n\u001b[1;32m     36\u001b[0m         \u001b[0mself\u001b[0m\u001b[0;34m.\u001b[0m\u001b[0mnumStates\u001b[0m \u001b[0;34m=\u001b[0m \u001b[0mnumStates\u001b[0m  \u001b[0;31m# number of discrete hidden states\u001b[0m\u001b[0;34m\u001b[0m\u001b[0;34m\u001b[0m\u001b[0m\n\u001b[1;32m     37\u001b[0m         \u001b[0mself\u001b[0m\u001b[0;34m.\u001b[0m\u001b[0mestimate\u001b[0m \u001b[0;34m=\u001b[0m \u001b[0mestimate\u001b[0m\u001b[0;34m(\u001b[0m\u001b[0mself\u001b[0m\u001b[0;34m.\u001b[0m\u001b[0mnumStates\u001b[0m\u001b[0;34m)\u001b[0m\u001b[0;34m\u001b[0m\u001b[0;34m\u001b[0m\u001b[0m\n\u001b[0;32m---> 38\u001b[0;31m         \u001b[0mself\u001b[0m\u001b[0;34m.\u001b[0m\u001b[0mMSD\u001b[0m \u001b[0;34m=\u001b[0m \u001b[0mself\u001b[0m\u001b[0;34m.\u001b[0m\u001b[0mget_Marginal_State_Distributions\u001b[0m\u001b[0;34m(\u001b[0m\u001b[0;34m)\u001b[0m  \u001b[0;31m# full Marginal State Distribution holder\u001b[0m\u001b[0;34m\u001b[0m\u001b[0;34m\u001b[0m\u001b[0m\n\u001b[0m\u001b[1;32m     39\u001b[0m         \u001b[0mself\u001b[0m\u001b[0;34m.\u001b[0m\u001b[0mEL\u001b[0m \u001b[0;34m=\u001b[0m \u001b[0mself\u001b[0m\u001b[0;34m.\u001b[0m\u001b[0mget_Emission_Likelihoods\u001b[0m\u001b[0;34m(\u001b[0m\u001b[0;34m)\u001b[0m  \u001b[0;31m# full Emission Likelihood holder\u001b[0m\u001b[0;34m\u001b[0m\u001b[0;34m\u001b[0m\u001b[0m\n\u001b[1;32m     40\u001b[0m \u001b[0;34m\u001b[0m\u001b[0m\n",
      "\u001b[0;32m~/lineage/accuracy/lineage-growth/lineage/tHMM.py\u001b[0m in \u001b[0;36mget_Marginal_State_Distributions\u001b[0;34m(self)\u001b[0m\n\u001b[1;32m     84\u001b[0m \u001b[0;34m\u001b[0m\u001b[0m\n\u001b[1;32m     85\u001b[0m                         \u001b[0;32mfor\u001b[0m \u001b[0mstate_j\u001b[0m \u001b[0;32min\u001b[0m \u001b[0mrange\u001b[0m\u001b[0;34m(\u001b[0m\u001b[0mself\u001b[0m\u001b[0;34m.\u001b[0m\u001b[0mnumStates\u001b[0m\u001b[0;34m)\u001b[0m\u001b[0;34m:\u001b[0m  \u001b[0;31m# for all states j, calculate temp\u001b[0m\u001b[0;34m\u001b[0m\u001b[0;34m\u001b[0m\u001b[0m\n\u001b[0;32m---> 86\u001b[0;31m                             \u001b[0mtemp_sum_holder\u001b[0m \u001b[0;34m+=\u001b[0m \u001b[0mself\u001b[0m\u001b[0;34m.\u001b[0m\u001b[0mestimate\u001b[0m\u001b[0;34m.\u001b[0m\u001b[0mT\u001b[0m\u001b[0;34m[\u001b[0m\u001b[0mstate_j\u001b[0m\u001b[0;34m,\u001b[0m \u001b[0mstate_k\u001b[0m\u001b[0;34m]\u001b[0m \u001b[0;34m*\u001b[0m \u001b[0mMSD\u001b[0m\u001b[0;34m[\u001b[0m\u001b[0mnum\u001b[0m\u001b[0;34m]\u001b[0m\u001b[0;34m[\u001b[0m\u001b[0mparent_cell_idx\u001b[0m\u001b[0;34m,\u001b[0m \u001b[0mstate_j\u001b[0m\u001b[0;34m]\u001b[0m\u001b[0;34m\u001b[0m\u001b[0;34m\u001b[0m\u001b[0m\n\u001b[0m\u001b[1;32m     87\u001b[0m \u001b[0;34m\u001b[0m\u001b[0m\n\u001b[1;32m     88\u001b[0m                         \u001b[0mMSD\u001b[0m\u001b[0;34m[\u001b[0m\u001b[0mnum\u001b[0m\u001b[0;34m]\u001b[0m\u001b[0;34m[\u001b[0m\u001b[0mcurrent_cell_idx\u001b[0m\u001b[0;34m,\u001b[0m \u001b[0mstate_k\u001b[0m\u001b[0;34m]\u001b[0m \u001b[0;34m=\u001b[0m \u001b[0mtemp_sum_holder\u001b[0m\u001b[0;34m\u001b[0m\u001b[0;34m\u001b[0m\u001b[0m\n",
      "\u001b[0;31mIndexError\u001b[0m: index 2 is out of bounds for axis 1 with size 2"
     ]
    }
   ],
   "source": [
    "X = [lineage3] # population just contains one lineage\n",
    "\n",
    "deltas, state_ptrs, all_states, tHMMobj, NF, LL = Analyze(X, 3) # find three states"
   ]
  },
  {
   "cell_type": "code",
   "execution_count": null,
   "metadata": {},
   "outputs": [],
   "source": [
    "for num, lineageObj in enumerate(X):\n",
    "    lin_estimated_states = all_states[num]\n",
    "    lin_true_states = [cell.state for cell in lineageObj.output_lineage]\n",
    "    total = len(lin_estimated_states)\n",
    "    assert total == len(lin_true_states)\n",
    "    counter = [1 if a==b else 0 for (a,b) in zip(lin_estimated_states,lin_true_states)]\n",
    "    print(\"Accuracy {}\".format(sum(counter)/total))"
   ]
  },
  {
   "cell_type": "markdown",
   "metadata": {},
   "source": [
    "### Estimated Markov parameters ($\\pi$, $T$, $E$)"
   ]
  },
  {
   "cell_type": "code",
   "execution_count": null,
   "metadata": {},
   "outputs": [],
   "source": [
    "print(tHMMobj.estimate.pi)"
   ]
  },
  {
   "cell_type": "code",
   "execution_count": null,
   "metadata": {},
   "outputs": [],
   "source": [
    "print(tHMMobj.estimate.T)"
   ]
  },
  {
   "cell_type": "code",
   "execution_count": null,
   "metadata": {},
   "outputs": [],
   "source": [
    "for state in range(tHMMobj.numStates):\n",
    "    print(tHMMobj.estimate.E[state])"
   ]
  },
  {
   "cell_type": "code",
   "execution_count": null,
   "metadata": {},
   "outputs": [],
   "source": [
    "\n",
    "\n",
    "\n",
    "\n"
   ]
  },
  {
   "cell_type": "code",
   "execution_count": null,
   "metadata": {},
   "outputs": [],
   "source": []
  },
  {
   "cell_type": "code",
   "execution_count": null,
   "metadata": {},
   "outputs": [],
   "source": [
    "import matplotlib.pyplot as plt\n",
    "%matplotlib inline"
   ]
  },
  {
   "cell_type": "code",
   "execution_count": null,
   "metadata": {},
   "outputs": [],
   "source": [
    "A = sp.gamma.rvs(a=20,scale=4,size=2)\n",
    "B = sp.gamma.rvs(a=5,scale=1,size=1000)\n",
    "plt.hist(A)\n",
    "plt.figure()\n",
    "plt.hist(B)"
   ]
  },
  {
   "cell_type": "code",
   "execution_count": null,
   "metadata": {},
   "outputs": [],
   "source": [
    "from lineage.StateDistribution import gamma_estimator \n",
    "a, b = gamma_estimator(A)"
   ]
  },
  {
   "cell_type": "code",
   "execution_count": null,
   "metadata": {},
   "outputs": [],
   "source": [
    "import scipy.stats as sp\n",
    "gamma_ll = sp.gamma.pdf(x=A, a=a, scale=b)  # gamma likelihood\n",
    "print(gamma_ll)"
   ]
  },
  {
   "cell_type": "code",
   "execution_count": null,
   "metadata": {},
   "outputs": [],
   "source": []
  }
 ],
 "metadata": {
  "kernelspec": {
   "display_name": "Python 3",
   "language": "python",
   "name": "python3"
  },
  "language_info": {
   "codemirror_mode": {
    "name": "ipython",
    "version": 3
   },
   "file_extension": ".py",
   "mimetype": "text/x-python",
   "name": "python",
   "nbconvert_exporter": "python",
   "pygments_lexer": "ipython3",
   "version": "3.7.3"
  }
 },
 "nbformat": 4,
 "nbformat_minor": 4
}
