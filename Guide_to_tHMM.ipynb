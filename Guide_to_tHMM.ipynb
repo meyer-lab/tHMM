{
 "cells": [
  {
   "cell_type": "markdown",
   "metadata": {},
   "source": [
    "# Guide to tHMM"
   ]
  },
  {
   "cell_type": "code",
   "execution_count": 45,
   "metadata": {},
   "outputs": [],
   "source": [
    "import numpy as np\n",
    "import scipy.stats as sp"
   ]
  },
  {
   "cell_type": "markdown",
   "metadata": {},
   "source": [
    "### Synthesizing Cells (not required by the user)"
   ]
  },
  {
   "cell_type": "code",
   "execution_count": 46,
   "metadata": {},
   "outputs": [],
   "source": [
    "from lineage.CellVar import CellVar as c\n",
    "from lineage.CellVar import _double"
   ]
  },
  {
   "cell_type": "code",
   "execution_count": 47,
   "metadata": {},
   "outputs": [],
   "source": [
    "T = np.array([[1.0, 0.0],\n",
    "              [0.0, 1.0]])\n",
    "    \n",
    "parent_state = 1\n",
    "parent_cell = c(state=parent_state, left=None, right=None, parent=None, gen=1)\n",
    "left_cell, right_cell = parent_cell._divide(T)"
   ]
  },
  {
   "cell_type": "code",
   "execution_count": 48,
   "metadata": {},
   "outputs": [
    {
     "name": "stdout",
     "output_type": "stream",
     "text": [
      "\n",
      " Generation: 2, State: 1, Observation: This cell has no observations to report. \n",
      " Generation: 2, State: 1, Observation: This cell has no observations to report.\n"
     ]
    }
   ],
   "source": [
    "print(left_cell, parent_cell.left)"
   ]
  },
  {
   "cell_type": "code",
   "execution_count": 49,
   "metadata": {},
   "outputs": [
    {
     "name": "stdout",
     "output_type": "stream",
     "text": [
      "\n",
      " Generation: 2, State: 1, Observation: This cell has no observations to report. \n",
      " Generation: 2, State: 1, Observation: This cell has no observations to report.\n"
     ]
    }
   ],
   "source": [
    "print(right_cell, parent_cell.right)"
   ]
  },
  {
   "cell_type": "markdown",
   "metadata": {},
   "source": [
    "## Creating a synthetic lineage (required by the user) \"Two State Model\""
   ]
  },
  {
   "cell_type": "code",
   "execution_count": 50,
   "metadata": {},
   "outputs": [],
   "source": [
    "from lineage.LineageTree import LineageTree\n",
    "from lineage.StateDistribution import StateDistribution, get_experiment_time"
   ]
  },
  {
   "cell_type": "markdown",
   "metadata": {},
   "source": [
    "### Creating a lineage and setting the full lineage (unpruned) as the one to be used"
   ]
  },
  {
   "cell_type": "markdown",
   "metadata": {},
   "source": [
    "The required probabilities are those that define the tree and act of state switching. This process works by first creating a hidden tree of empty cells. Empty cells are those that have their states set but do not have any observations attached to them. We then draw as many observations from each state distribution and assign those observations to those cells. The $\\pi$ and $T$ parameters are easy to define. The number of states is $k$. We require for $\\pi$ a $k\\times 1$ list of probabilities. These probabilities must add up to $1$ and they should be either in a $1$-dimensional list or a $1$-dimensional numpy array. The $T$ parameter should be a square numpy matrix of size $k\\times k$. The rows are the states in which we are transitioning from and the columns are the states in which we are transitioning to. Each row of $T$ should sum to $1$. The columns need not sum to $1$."
   ]
  },
  {
   "cell_type": "code",
   "execution_count": 51,
   "metadata": {},
   "outputs": [],
   "source": [
    "# pi: the initial probability vector\n",
    "pi = np.array([0.6, 0.4], dtype=\"float\")\n",
    "\n",
    "# T: transition probability matrix\n",
    "T = np.array([[0.85, 0.15],\n",
    "              [0.15, 0.85]])"
   ]
  },
  {
   "cell_type": "markdown",
   "metadata": {},
   "source": [
    "The emission matrix $E$ is a little more complicated to define because this is where the user has complete freedom in defining what type of observation they care about. In particular, the user has to first begin with defining what observation he or she will want in their cells in their synthetic images. For example, if one is observing kinematics or physics, they might want to use Gaaussian distribution observations. In defining the random variables, the user will pull from a Gaussian distribution based on the mean and standard deviation of the different states he or she picks. They can also utilize the Gaussian probability distribution to define the likelihood as well. Furthermore, they can build an analytical estimator for their state distributions that yield the parameter estimates when given a list of observations. Finally, the user can also define a prune rule, which is essentially a boolean function that inspects a cell's observations and returns True if the cell's subtree (all the cells that are related to the cell in question and are of older generation) is to be pruned or False if the cell is safe from pruning. In the Gaussian example, a user can remove a cell's subtree if its observation is higher or lower than some fixed value.\n",
    "\n",
    "We have already built, as an example, and as bioengineers, a model that resembles lineage trees. In our synthetic model, our emissions are multivariate. This first emission is a Bernoulli observation, $0$ implying death and $1$ implying division. The second and third emissions are continuous and are from exponential and gamma distributions respectively. Though these can be thought of cell lifetime's or periods in a certain cell phase, we want the user to know that these values can really mean anything and they are completely free in choosing what the emissions and their values mean. We define ways to calculate random variables for these multivariate observations and likelihoods of an observations. We also provide as a prune rule, keeping with the cell analogy, that if a cell has a $0$ in its Bernoulli observation, then its subtree is pruned from the full lineage tree. Though this will obviously introduce bias into estimation, we keep both the full tree and the pruned tree in the lineage objects, in the case a user would like to see the effects of analyzing on one versus the other.\n",
    "\n",
    "Ultimately, $E$ is defined as a $k\\times 1$ size list of state distribution objects. These distribution objects are rich in what they can already do, and a user can easily add more to their functionality. They only need to be instantiated by what parameters define that state's distribution."
   ]
  },
  {
   "cell_type": "code",
   "execution_count": 52,
   "metadata": {},
   "outputs": [],
   "source": [
    "# E: states are defined as StateDistribution objects\n",
    "\n",
    "# State 0 parameters \"Resistant\"\n",
    "state0 = 0\n",
    "bern_p0 = 0.99\n",
    "gamma_a0 = 20\n",
    "gamma_scale0 = 5\n",
    "\n",
    "# State 1 parameters \"Susciptible\"\n",
    "state1 = 1\n",
    "bern_p1 = 0.8\n",
    "gamma_a1 = 10\n",
    "gamma_scale1 = 1\n",
    "\n",
    "state_obj0 = StateDistribution(state0, bern_p0, gamma_a0, gamma_scale0)\n",
    "state_obj1 = StateDistribution(state1, bern_p1, gamma_a1, gamma_scale1)\n",
    "\n",
    "E = [state_obj0, state_obj1]"
   ]
  },
  {
   "cell_type": "markdown",
   "metadata": {},
   "source": [
    "The final required parameters are more obvious. The first is the desired number of cells one would like in their full unpruned lineage tree. This can be any number. The lineage tree is built 'from left to right'. What this means is that, we construct the binary tree by going to the left-most cell, dividing then walking through the generation. For example, if someone requested for"
   ]
  },
  {
   "cell_type": "code",
   "execution_count": 53,
   "metadata": {},
   "outputs": [],
   "source": [
    "desired_num_cells = 2**7 - 1 \n",
    "prune_boolean = False # To get the full tree"
   ]
  },
  {
   "cell_type": "code",
   "execution_count": 54,
   "metadata": {},
   "outputs": [
    {
     "name": "stdout",
     "output_type": "stream",
     "text": [
      "This tree is NOT pruned. It is made of 2 states.\n",
      " For each state in this tree: \n",
      " \t There are 55 cells of state 0, \n",
      " \t There are 72 cells of state 1.\n",
      " This UNpruned tree has 127 cells in total\n"
     ]
    }
   ],
   "source": [
    "lineage1 = LineageTree(pi, T, E, desired_num_cells, prune_boolean)\n",
    "print(lineage1)"
   ]
  },
  {
   "cell_type": "markdown",
   "metadata": {},
   "source": [
    "### Obtaining how long the experiment ran by checking the time length of the longest branch"
   ]
  },
  {
   "cell_type": "code",
   "execution_count": 55,
   "metadata": {},
   "outputs": [
    {
     "name": "stdout",
     "output_type": "stream",
     "text": [
      "636.56896191128\n"
     ]
    }
   ],
   "source": [
    "longest_branch_time = get_experiment_time(lineage1)\n",
    "print(longest_branch_time)"
   ]
  },
  {
   "cell_type": "markdown",
   "metadata": {},
   "source": [
    "### Estimation of distribution parameters using our estimators for full lineage"
   ]
  },
  {
   "cell_type": "code",
   "execution_count": 56,
   "metadata": {},
   "outputs": [
    {
     "name": "stdout",
     "output_type": "stream",
     "text": [
      "State 0:\n",
      "                    estimated state State object w/ parameters: 0.9818181818164299, 24.448860528370616, 4.06648057204041.\n",
      "original parameters given for state State object w/ parameters: 0.99, 20, 5.\n",
      "State 1:\n",
      "                    estimated state State object w/ parameters: 0.7638888888881559, 10.435291084815155, 0.9571838623178807.\n",
      "original parameters given for state State object w/ parameters: 0.8, 10, 1.\n"
     ]
    }
   ],
   "source": [
    "for state in range(lineage1.num_states):\n",
    "    print(\"State {}:\".format(state))\n",
    "    print(\"                    estimated state\", E[state].estimator(lineage1.lineage_stats[state].full_lin_cells_obs))\n",
    "    print(\"original parameters given for state\", E[state])"
   ]
  },
  {
   "cell_type": "markdown",
   "metadata": {},
   "source": [
    "### Estimation of distribution parameters using our estimators for pruned lineage"
   ]
  },
  {
   "cell_type": "code",
   "execution_count": 57,
   "metadata": {},
   "outputs": [
    {
     "name": "stdout",
     "output_type": "stream",
     "text": [
      "State 0:\n",
      "                    estimated state State object w/ parameters: 0.9761904761882088, 25.44852837501961, 3.8633123717564817.\n",
      "original parameters given for state State object w/ parameters: 0.99, 20, 5.\n",
      "State 1:\n",
      "                    estimated state State object w/ parameters: 0.7179487179476003, 13.082497183459358, 0.6764549663126519.\n",
      "original parameters given for state State object w/ parameters: 0.8, 10, 1.\n"
     ]
    }
   ],
   "source": [
    "for state in range(lineage1.num_states):\n",
    "    print(\"State {}:\".format(state))\n",
    "    print(\"                    estimated state\", E[state].estimator(lineage1.lineage_stats[state].pruned_lin_cells_obs))\n",
    "    print(\"original parameters given for state\", E[state])"
   ]
  },
  {
   "cell_type": "markdown",
   "metadata": {},
   "source": [
    "### Analyzing our first full lineage"
   ]
  },
  {
   "cell_type": "code",
   "execution_count": 58,
   "metadata": {},
   "outputs": [
    {
     "name": "stdout",
     "output_type": "stream",
     "text": [
      "[1, 0, 1, 0, 0, 1, 1, 0, 1, 0, 1, 1, 0, 1, 1, 0, 0, 1, 1, 0, 1, 1, 1, 1, 1, 0, 0, 1, 1, 1, 1, 1, 0, 0, 0, 1, 1, 1, 1, 0, 0, 1, 1, 1, 1, 1, 1, 0, 1, 1, 1, 1, 0, 0, 0, 1, 0, 0, 1, 1, 1, 1, 0, 1, 1, 0, 0, 0, 0, 0, 0, 0, 1, 1, 1, 1, 0, 1, 1, 0, 0, 0, 0, 1, 1, 0, 1, 0, 1, 1, 1, 1, 1, 1, 1, 0, 0, 1, 1, 1, 1, 1, 0, 0, 1, 0, 0, 0, 0, 0, 0, 1, 1, 0, 0, 0, 0, 1, 1, 0, 1, 1, 1, 0, 1, 0, 0]\n",
      "the number of observations is very small, don't go through estimation.\n",
      "the number of observations is very small, don't go through estimation.\n"
     ]
    }
   ],
   "source": [
    "from lineage.Analyze import Analyze\n",
    "\n",
    "X = [lineage1] # population just contains one lineage\n",
    "states = [cell.state for cell in lineage1.output_lineage]\n",
    "print(states)\n",
    "deltas, state_ptrs, all_states, tHMMobj, NF, LL = Analyze(X, 2) # find two states"
   ]
  },
  {
   "cell_type": "code",
   "execution_count": 59,
   "metadata": {},
   "outputs": [
    {
     "name": "stdout",
     "output_type": "stream",
     "text": [
      "Accuracy or 1-Accuracy is 0.4881889763779528\n"
     ]
    }
   ],
   "source": [
    "for num, lineageObj in enumerate(X):\n",
    "    lin_estimated_states = all_states[num]\n",
    "    lin_true_states = [cell.state for cell in lineageObj.output_lineage]\n",
    "    total = len(lin_estimated_states)\n",
    "    assert total == len(lin_true_states)\n",
    "    counter = [1 if a==b else 0 for (a,b) in zip(lin_estimated_states,lin_true_states)]\n",
    "    print(\"Accuracy or 1-Accuracy is {}\".format(sum(counter)/total))"
   ]
  },
  {
   "cell_type": "code",
   "execution_count": 60,
   "metadata": {},
   "outputs": [
    {
     "data": {
      "image/png": "[encoded data removed]",
      "text/plain": [
       "<Figure size 432x288 with 1 Axes>"
      ]
     },
     "metadata": {
      "needs_background": "light"
     },
     "output_type": "display_data"
    },
    {
     "data": {
      "image/png": "[encoded data removed]",
      "text/plain": [
       "<Figure size 432x288 with 1 Axes>"
      ]
     },
     "metadata": {
      "needs_background": "light"
     },
     "output_type": "display_data"
    }
   ],
   "source": [
    "import matplotlib.pyplot as plt\n",
    "for state in range(lineage1.num_states):\n",
    "    askjdha, sduhfksj = list(zip(*lineage1.lineage_stats[state].pruned_lin_cells_obs))\n",
    "    plt.hist(sduhfksj)\n",
    "    plt.show()\n"
   ]
  },
  {
   "cell_type": "code",
   "execution_count": 61,
   "metadata": {},
   "outputs": [
    {
     "data": {
      "image/png": "[encoded data removed]",
      "text/plain": [
       "<Figure size 432x288 with 1 Axes>"
      ]
     },
     "metadata": {
      "needs_background": "light"
     },
     "output_type": "display_data"
    }
   ],
   "source": [
    "for state in range(lineage1.num_states):\n",
    "    askjdha, sduhfksj = list(zip(*lineage1.lineage_stats[state].full_lin_cells_obs))\n",
    "    plt.hist(sduhfksj)"
   ]
  },
  {
   "cell_type": "markdown",
   "metadata": {},
   "source": [
    "### Estimated Markov parameters ($\\pi$, $T$, $E$)"
   ]
  },
  {
   "cell_type": "code",
   "execution_count": 62,
   "metadata": {},
   "outputs": [
    {
     "name": "stdout",
     "output_type": "stream",
     "text": [
      "[1.00000000e+00 6.26616975e-36]\n"
     ]
    }
   ],
   "source": [
    "print(tHMMobj.estimate.pi)"
   ]
  },
  {
   "cell_type": "code",
   "execution_count": 63,
   "metadata": {},
   "outputs": [
    {
     "name": "stdout",
     "output_type": "stream",
     "text": [
      "[[9.34400142e-01 6.55998578e-02]\n",
      " [9.99999929e-01 7.07571796e-08]]\n"
     ]
    }
   ],
   "source": [
    "print(tHMMobj.estimate.T)"
   ]
  },
  {
   "cell_type": "code",
   "execution_count": 64,
   "metadata": {},
   "outputs": [
    {
     "name": "stdout",
     "output_type": "stream",
     "text": [
      "State object w/ parameters: 0.9083333333326528, 0.813032935180536, 62.6947840707414.\n",
      "State object w/ parameters: 1.4285714285306123e-11, 90.82340184349687, 0.11099313964314517.\n"
     ]
    }
   ],
   "source": [
    "for state in range(tHMMobj.numStates):\n",
    "    print(tHMMobj.estimate.E[state])"
   ]
  },
  {
   "cell_type": "markdown",
   "metadata": {},
   "source": [
    "## Trying another lineage, this time pruning branches with ancestors that die"
   ]
  },
  {
   "cell_type": "code",
   "execution_count": 65,
   "metadata": {},
   "outputs": [],
   "source": [
    "desired_num_cells = 2**12 -1 \n",
    "prune_boolean = True # To get pruned tree"
   ]
  },
  {
   "cell_type": "code",
   "execution_count": 66,
   "metadata": {},
   "outputs": [
    {
     "name": "stdout",
     "output_type": "stream",
     "text": [
      "This tree is pruned. It is made of 2 states.\n",
      " For each state in this tree: \n",
      " \t There are 1646 cells of state 0, \n",
      " \t There are 1035 cells of state 1.\n",
      " This pruned tree has 2681 cells in total\n"
     ]
    }
   ],
   "source": [
    "lineage2 = LineageTree(pi, T, E, desired_num_cells, prune_boolean)\n",
    "print(lineage2)"
   ]
  },
  {
   "cell_type": "code",
   "execution_count": 67,
   "metadata": {},
   "outputs": [
    {
     "name": "stdout",
     "output_type": "stream",
     "text": [
      "1369.620482519997\n"
     ]
    }
   ],
   "source": [
    "longest2 = get_experiment_time(lineage2)\n",
    "print(longest2)"
   ]
  },
  {
   "cell_type": "markdown",
   "metadata": {},
   "source": [
    "### Estimation of distribution parameters using our estimators for pruned lineage"
   ]
  },
  {
   "cell_type": "code",
   "execution_count": 68,
   "metadata": {},
   "outputs": [
    {
     "name": "stdout",
     "output_type": "stream",
     "text": [
      "State 0:\n",
      "                    estimated state State object w/ parameters: 0.9908869987848735, 18.942454047569267, 5.308403618232046.\n",
      "original parameters given for state State object w/ parameters: 0.99, 20, 5.\n",
      "State 1:\n",
      "                    estimated state State object w/ parameters: 0.8222222222221599, 10.011488752688756, 0.9993051605433716.\n",
      "original parameters given for state State object w/ parameters: 0.8, 10, 1.\n"
     ]
    }
   ],
   "source": [
    "for state in range(lineage2.num_states):\n",
    "    print(\"State {}:\".format(state))\n",
    "    print(\"                    estimated state\", E[state].estimator(lineage2.lineage_stats[state].pruned_lin_cells_obs))\n",
    "    print(\"original parameters given for state\", E[state])"
   ]
  },
  {
   "cell_type": "markdown",
   "metadata": {},
   "source": [
    "### Analyzing a population of lineages"
   ]
  },
  {
   "cell_type": "code",
   "execution_count": 69,
   "metadata": {},
   "outputs": [],
   "source": [
    "X = [lineage1, lineage2] # population just contains one lineage\n",
    "\n",
    "deltas, state_ptrs, all_states, tHMMobj, NF, LL = Analyze(X, 2) # find two states"
   ]
  },
  {
   "cell_type": "code",
   "execution_count": 70,
   "metadata": {},
   "outputs": [
    {
     "name": "stdout",
     "output_type": "stream",
     "text": [
      "Accuracy or 1-Accuracy is 0.49606299212598426\n",
      "Accuracy or 1-Accuracy is 0.6825811264453562\n"
     ]
    }
   ],
   "source": [
    "for num, lineageObj in enumerate(X):\n",
    "    lin_estimated_states = all_states[num]\n",
    "    lin_true_states = [cell.state for cell in lineageObj.output_lineage]\n",
    "    total = len(lin_estimated_states)\n",
    "    assert total == len(lin_true_states)\n",
    "    counter = [1 if a==b else 0 for (a,b) in zip(lin_estimated_states,lin_true_states)]\n",
    "    print(\"Accuracy or 1-Accuracy is {}\".format(sum(counter)/total))"
   ]
  },
  {
   "cell_type": "markdown",
   "metadata": {},
   "source": [
    "### Estimated Markov parameters ($\\pi$, $T$, $E$)"
   ]
  },
  {
   "cell_type": "code",
   "execution_count": 71,
   "metadata": {},
   "outputs": [
    {
     "name": "stdout",
     "output_type": "stream",
     "text": [
      "[1. 0.]\n"
     ]
    }
   ],
   "source": [
    "print(tHMMobj.estimate.pi)"
   ]
  },
  {
   "cell_type": "code",
   "execution_count": 72,
   "metadata": {},
   "outputs": [
    {
     "name": "stdout",
     "output_type": "stream",
     "text": [
      "[[0.93301806 0.06698194]\n",
      " [0.01824235 0.98175765]]\n"
     ]
    }
   ],
   "source": [
    "print(tHMMobj.estimate.T)"
   ]
  },
  {
   "cell_type": "code",
   "execution_count": 73,
   "metadata": {},
   "outputs": [
    {
     "name": "stdout",
     "output_type": "stream",
     "text": [
      "State object w/ parameters: 0.9904434250764151, 1.0820827528624613, 63.64821635994958.\n",
      "State object w/ parameters: 5.208333333327908e-13, 10.210359747823494, 0.9607214759942363.\n"
     ]
    }
   ],
   "source": [
    "for state in range(tHMMobj.numStates):\n",
    "    print(tHMMobj.estimate.E[state])"
   ]
  },
  {
   "cell_type": "markdown",
   "metadata": {},
   "source": [
    "## Creating a synthetic lineage that has three states"
   ]
  },
  {
   "cell_type": "markdown",
   "metadata": {},
   "source": [
    "Here we generate a lineage with three states, which would be 1) Susciptible 2) Middle State 3) Resistant. The aim here is to show the transition from susciptible to resistant state doesn't happen immediately, and there is a gradual transition which is modeled as a middle state. The point to be considered here is that transition from 1 to 3 or otherwise is not possible so the probability of these transitions are zero, and most likely the initial cells are in susciptible state.\n",
    "\n",
    "**State 1**: Susceptible\n",
    "\n",
    "**State 2**: Transition state\n",
    "\n",
    "**State 3**: Resistant state\n"
   ]
  },
  {
   "cell_type": "code",
   "execution_count": 74,
   "metadata": {},
   "outputs": [],
   "source": [
    "# pi: the initial probability vector\n",
    "pi_3 = np.array([0.5, 0.25, 0.25])\n",
    "\n",
    "# T: transition probability matrix\n",
    "T_3 = np.array([[0.65, 0.35, 0.00],\n",
    "                [0.20, 0.40, 0.40],\n",
    "                [0.00, 0.10, 0.90]])"
   ]
  },
  {
   "cell_type": "code",
   "execution_count": 75,
   "metadata": {},
   "outputs": [],
   "source": [
    "# E: states are defined as StateDistribution objects\n",
    "\n",
    "# State 0 parameters \"Susciptible\"\n",
    "state0 = 0\n",
    "bern_p0 = 0.7\n",
    "expon_scale_beta0 = 20\n",
    "gamma_a0 = 5.0\n",
    "gamma_scale0 = 1.0\n",
    "\n",
    "# State 1 parameters \"Middle state\"\n",
    "state1 = 1\n",
    "bern_p1 = 0.85\n",
    "expon_scale_beta1 = 60\n",
    "gamma_a1 = 10.0\n",
    "gamma_scale1 = 2.0\n",
    "\n",
    "# State 2 parameters \"Resistant\"\n",
    "state2 = 2\n",
    "bern_p2 = 0.99\n",
    "expon_scale_beta2 = 80\n",
    "gamma_a2 = 15.0\n",
    "gamma_scale2 = 3.0\n",
    "\n",
    "state_obj0 = StateDistribution(state0, bern_p0, gamma_a0, gamma_scale0)\n",
    "state_obj1 = StateDistribution(state1, bern_p1, gamma_a1, gamma_scale1)\n",
    "state_obj2 = StateDistribution(state2, bern_p2, gamma_a2, gamma_scale2)\n",
    "\n",
    "E_3 = [state_obj0, state_obj1, state_obj2]"
   ]
  },
  {
   "cell_type": "code",
   "execution_count": 76,
   "metadata": {},
   "outputs": [],
   "source": [
    "desired_num_cells = 2**13 - 1 \n",
    "prune_boolean = False # To get the full tree"
   ]
  },
  {
   "cell_type": "code",
   "execution_count": 77,
   "metadata": {},
   "outputs": [
    {
     "name": "stdout",
     "output_type": "stream",
     "text": [
      "This tree is NOT pruned. It is made of 3 states.\n",
      " For each state in this tree: \n",
      " \t There are 829 cells of state 0, \n",
      " \t There are 1462 cells of state 1, \n",
      " \t There are 5900 cells of state 2.\n",
      " This UNpruned tree has 8191 cells in total\n"
     ]
    }
   ],
   "source": [
    "lineage3 = LineageTree(pi_3, T_3, E_3, desired_num_cells, prune_boolean)\n",
    "print(lineage3)"
   ]
  },
  {
   "cell_type": "code",
   "execution_count": 78,
   "metadata": {},
   "outputs": [
    {
     "name": "stdout",
     "output_type": "stream",
     "text": [
      "707.8681596194039\n"
     ]
    }
   ],
   "source": [
    "longest3 = get_experiment_time(lineage3)\n",
    "print(longest3)"
   ]
  },
  {
   "cell_type": "markdown",
   "metadata": {},
   "source": [
    "### Estimation of distribution parameters using our estimators for full lineage (3 state)"
   ]
  },
  {
   "cell_type": "code",
   "execution_count": 79,
   "metadata": {},
   "outputs": [
    {
     "name": "stdout",
     "output_type": "stream",
     "text": [
      "State 0:\n",
      "estimated state State object w/ parameters: 0.7080820265379475, 4.771142845825398, 1.0582622576261276.\n",
      "estimated state State object w/ parameters: 0.6819787985864438, 4.886714512580203, 1.061061034538362.\n",
      "true_____ state State object w/ parameters: 0.7, 5.0, 1.0.\n",
      "State 1:\n",
      "estimated state State object w/ parameters: 0.8447332421340158, 9.686321448514937, 2.091308596628358.\n",
      "estimated state State object w/ parameters: 0.8441273326014613, 10.133762134184085, 1.9850808498110732.\n",
      "true_____ state State object w/ parameters: 0.85, 10.0, 2.0.\n",
      "State 2:\n",
      "estimated state State object w/ parameters: 0.9876271186440513, 15.020703465985628, 2.9890548846166594.\n",
      "estimated state State object w/ parameters: 0.9870460819706737, 14.894028873160005, 3.0186673485312774.\n",
      "true_____ state State object w/ parameters: 0.99, 15.0, 3.0.\n"
     ]
    }
   ],
   "source": [
    "for state in range(lineage3.num_states):\n",
    "    print(\"State {}:\".format(state))\n",
    "    print(\"estimated state\", E_3[state].estimator(lineage3.lineage_stats[state].full_lin_cells_obs))\n",
    "    print(\"estimated state\", E_3[state].estimator(lineage3.lineage_stats[state].pruned_lin_cells_obs))\n",
    "    print(\"true_____ state\", E_3[state])"
   ]
  },
  {
   "cell_type": "markdown",
   "metadata": {},
   "source": [
    "### Analyzing a three state lineage"
   ]
  },
  {
   "cell_type": "code",
   "execution_count": null,
   "metadata": {},
   "outputs": [
    {
     "name": "stdout",
     "output_type": "stream",
     "text": [
      "the number of observations is very small, don't go through estimation.\n",
      "the number of observations is very small, don't go through estimation.\n"
     ]
    }
   ],
   "source": [
    "X = [lineage3] # population just contains one lineage\n",
    "\n",
    "deltas, state_ptrs, all_states, tHMMobj, NF, LL = Analyze(X, 3) # find three states"
   ]
  },
  {
   "cell_type": "code",
   "execution_count": null,
   "metadata": {},
   "outputs": [],
   "source": [
    "for num, lineageObj in enumerate(X):\n",
    "    lin_estimated_states = all_states[num]\n",
    "    lin_true_states = [cell.state for cell in lineageObj.output_lineage]\n",
    "    total = len(lin_estimated_states)\n",
    "    assert total == len(lin_true_states)\n",
    "    counter = [1 if a==b else 0 for (a,b) in zip(lin_estimated_states,lin_true_states)]\n",
    "    print(\"Accuracy {}\".format(sum(counter)/total))"
   ]
  },
  {
   "cell_type": "markdown",
   "metadata": {},
   "source": [
    "### Estimated Markov parameters ($\\pi$, $T$, $E$)"
   ]
  },
  {
   "cell_type": "code",
   "execution_count": null,
   "metadata": {},
   "outputs": [],
   "source": [
    "print(tHMMobj.estimate.pi)"
   ]
  },
  {
   "cell_type": "code",
   "execution_count": null,
   "metadata": {},
   "outputs": [],
   "source": [
    "print(tHMMobj.estimate.T)"
   ]
  },
  {
   "cell_type": "code",
   "execution_count": null,
   "metadata": {},
   "outputs": [],
   "source": [
    "for state in range(tHMMobj.numStates):\n",
    "    print(tHMMobj.estimate.E[state])"
   ]
  },
  {
   "cell_type": "code",
   "execution_count": null,
   "metadata": {},
   "outputs": [],
   "source": [
    "\n",
    "\n",
    "\n",
    "\n"
   ]
  },
  {
   "cell_type": "code",
   "execution_count": null,
   "metadata": {},
   "outputs": [],
   "source": []
  },
  {
   "cell_type": "code",
   "execution_count": null,
   "metadata": {},
   "outputs": [],
   "source": [
    "import matplotlib.pyplot as plt\n",
    "%matplotlib inline"
   ]
  },
  {
   "cell_type": "code",
   "execution_count": null,
   "metadata": {},
   "outputs": [],
   "source": [
    "A = sp.gamma.rvs(a=20,scale=4,size=2)\n",
    "B = sp.gamma.rvs(a=5,scale=1,size=1000)\n",
    "plt.hist(A)\n",
    "plt.figure()\n",
    "plt.hist(B)"
   ]
  },
  {
   "cell_type": "code",
   "execution_count": null,
   "metadata": {},
   "outputs": [],
   "source": [
    "from lineage.StateDistribution import gamma_estimator \n",
    "a, b = gamma_estimator(A)"
   ]
  },
  {
   "cell_type": "code",
   "execution_count": null,
   "metadata": {},
   "outputs": [],
   "source": [
    "import scipy.stats as sp\n",
    "gamma_ll = sp.gamma.pdf(x=A, a=a, scale=b)  # gamma likelihood\n",
    "print(gamma_ll)"
   ]
  },
  {
   "cell_type": "code",
   "execution_count": null,
   "metadata": {},
   "outputs": [],
   "source": []
  }
 ],
 "metadata": {
  "kernelspec": {
   "display_name": "Python 3",
   "language": "python",
   "name": "python3"
  },
  "language_info": {
   "codemirror_mode": {
    "name": "ipython",
    "version": 3
   },
   "file_extension": ".py",
   "mimetype": "text/x-python",
   "name": "python",
   "nbconvert_exporter": "python",
   "pygments_lexer": "ipython3",
   "version": "3.7.3"
  }
 },
 "nbformat": 4,
 "nbformat_minor": 4
}
