{
 "cells": [
  {
   "cell_type": "markdown",
   "metadata": {},
   "source": [
    "# Guide to tHMM"
   ]
  },
  {
   "cell_type": "code",
   "execution_count": 1,
   "metadata": {},
   "outputs": [],
   "source": [
    "import numpy as np"
   ]
  },
  {
   "cell_type": "markdown",
   "metadata": {},
   "source": [
    "### Synthesizing Cells (not required by the user)"
   ]
  },
  {
   "cell_type": "code",
   "execution_count": 2,
   "metadata": {},
   "outputs": [],
   "source": [
    "from lineage.CellVar import CellVar as c"
   ]
  },
  {
   "cell_type": "code",
   "execution_count": 4,
   "metadata": {},
   "outputs": [
    {
     "ename": "AttributeError",
     "evalue": "'CellVar' object has no attribute 'obs'",
     "output_type": "error",
     "traceback": [
      "\u001b[0;31m---------------------------------------------------------------------------\u001b[0m",
      "\u001b[0;31mAttributeError\u001b[0m                            Traceback (most recent call last)",
      "\u001b[0;32m<ipython-input-4-42bc5da7feee>\u001b[0m in \u001b[0;36m<module>\u001b[0;34m\u001b[0m\n\u001b[1;32m      4\u001b[0m \u001b[0mparent_cell\u001b[0m \u001b[0;34m=\u001b[0m \u001b[0mc\u001b[0m\u001b[0;34m(\u001b[0m\u001b[0mstate\u001b[0m\u001b[0;34m=\u001b[0m\u001b[0mparent_state\u001b[0m\u001b[0;34m,\u001b[0m \u001b[0mleft\u001b[0m\u001b[0;34m=\u001b[0m\u001b[0;32mNone\u001b[0m\u001b[0;34m,\u001b[0m \u001b[0mright\u001b[0m\u001b[0;34m=\u001b[0m\u001b[0;32mNone\u001b[0m\u001b[0;34m,\u001b[0m \u001b[0mparent\u001b[0m\u001b[0;34m=\u001b[0m\u001b[0;32mNone\u001b[0m\u001b[0;34m,\u001b[0m \u001b[0mgen\u001b[0m\u001b[0;34m=\u001b[0m\u001b[0;36m1\u001b[0m\u001b[0;34m)\u001b[0m\u001b[0;34m\u001b[0m\u001b[0;34m\u001b[0m\u001b[0m\n\u001b[1;32m      5\u001b[0m \u001b[0mleft_cell\u001b[0m\u001b[0;34m,\u001b[0m \u001b[0mright_cell\u001b[0m \u001b[0;34m=\u001b[0m \u001b[0mparent_cell\u001b[0m\u001b[0;34m.\u001b[0m\u001b[0m_divide\u001b[0m\u001b[0;34m(\u001b[0m\u001b[0mT\u001b[0m\u001b[0;34m)\u001b[0m\u001b[0;34m\u001b[0m\u001b[0;34m\u001b[0m\u001b[0m\n\u001b[0;32m----> 6\u001b[0;31m \u001b[0mprint\u001b[0m\u001b[0;34m(\u001b[0m\u001b[0mparent_cell\u001b[0m\u001b[0;34m,\u001b[0m \u001b[0mleft_cell\u001b[0m\u001b[0;34m,\u001b[0m \u001b[0mright_cell\u001b[0m\u001b[0;34m)\u001b[0m\u001b[0;34m\u001b[0m\u001b[0;34m\u001b[0m\u001b[0m\n\u001b[0m",
      "\u001b[0;32m~/Projects/CAPSTONE/lineage/CellVar.py\u001b[0m in \u001b[0;36m__str__\u001b[0;34m(self)\u001b[0m\n\u001b[1;32m     70\u001b[0m \u001b[0;34m\u001b[0m\u001b[0m\n\u001b[1;32m     71\u001b[0m     \u001b[0;32mdef\u001b[0m \u001b[0m__str__\u001b[0m\u001b[0;34m(\u001b[0m\u001b[0mself\u001b[0m\u001b[0;34m)\u001b[0m\u001b[0;34m:\u001b[0m\u001b[0;34m\u001b[0m\u001b[0;34m\u001b[0m\u001b[0m\n\u001b[0;32m---> 72\u001b[0;31m         \u001b[0;32mreturn\u001b[0m \u001b[0;34m\"Generation: {}, Observation: {}\"\u001b[0m\u001b[0;34m.\u001b[0m\u001b[0mformat\u001b[0m\u001b[0;34m(\u001b[0m\u001b[0mself\u001b[0m\u001b[0;34m.\u001b[0m\u001b[0mgen\u001b[0m\u001b[0;34m,\u001b[0m \u001b[0mself\u001b[0m\u001b[0;34m.\u001b[0m\u001b[0mobs\u001b[0m\u001b[0;34m)\u001b[0m\u001b[0;34m\u001b[0m\u001b[0;34m\u001b[0m\u001b[0m\n\u001b[0m\u001b[1;32m     73\u001b[0m \u001b[0;34m\u001b[0m\u001b[0m\n\u001b[1;32m     74\u001b[0m \u001b[0;34m\u001b[0m\u001b[0m\n",
      "\u001b[0;31mAttributeError\u001b[0m: 'CellVar' object has no attribute 'obs'"
     ]
    }
   ],
   "source": [
    " T = np.array([[1.0, 0.0],\n",
    "               [0.0, 1.0]])\n",
    "parent_state = 1\n",
    "parent_cell = c(state=parent_state, left=None, right=None, parent=None, gen=1)\n",
    "left_cell, right_cell = parent_cell._divide(T)\n"
   ]
  },
  {
   "cell_type": "code",
   "execution_count": null,
   "metadata": {},
   "outputs": [],
   "source": []
  },
  {
   "cell_type": "code",
   "execution_count": null,
   "metadata": {},
   "outputs": [],
   "source": []
  },
  {
   "cell_type": "code",
   "execution_count": null,
   "metadata": {},
   "outputs": [],
   "source": []
  },
  {
   "cell_type": "code",
   "execution_count": null,
   "metadata": {},
   "outputs": [],
   "source": []
  },
  {
   "cell_type": "code",
   "execution_count": null,
   "metadata": {},
   "outputs": [],
   "source": []
  },
  {
   "cell_type": "code",
   "execution_count": null,
   "metadata": {},
   "outputs": [],
   "source": []
  },
  {
   "cell_type": "code",
   "execution_count": null,
   "metadata": {},
   "outputs": [],
   "source": []
  },
  {
   "cell_type": "code",
   "execution_count": null,
   "metadata": {},
   "outputs": [],
   "source": []
  },
  {
   "cell_type": "code",
   "execution_count": null,
   "metadata": {},
   "outputs": [],
   "source": []
  },
  {
   "cell_type": "code",
   "execution_count": null,
   "metadata": {},
   "outputs": [],
   "source": []
  },
  {
   "cell_type": "code",
   "execution_count": null,
   "metadata": {},
   "outputs": [],
   "source": [
    "from lineage.CellNode import CellNode\n",
    "from lineage.BaumWelch import fit\n",
    "from lineage.DownwardRecursion import get_root_gammas, get_nonroot_gammas\n",
    "from lineage.Viterbi import get_leaf_deltas, get_nonleaf_deltas, Viterbi\n",
    "from lineage.UpwardRecursion import get_leaf_Normalizing_Factors, get_leaf_betas, get_nonleaf_NF_and_betas\n",
    "from lineage.tHMM import tHMM\n",
    "from lineage.tHMM_utils import max_gen, get_gen, get_parents_for_level, getAccuracy, getAIC\n",
    "from lineage.Lineage_utils import get_numLineages, init_Population, remove_singleton_lineages, remove_unfinished_cells\n",
    "from lineage.Lineage_utils import generatePopulationWithTime as gpt\n",
    "from lineage.plotting_utils import make_colormap_graph\n",
    "from lineage.Analyze import Analyze\n",
    "from lineage.Depth_Two_State_Lineage import Depth_Two_State_Lineage"
   ]
  },
  {
   "cell_type": "code",
   "execution_count": null,
   "metadata": {},
   "outputs": [],
   "source": [
    "import matplotlib.pyplot as plt\n",
    "%matplotlib inline\n",
    "import numpy as np\n",
    "import networkx as nx\n",
    "from networkx.drawing.nx_agraph import graphviz_layout"
   ]
  },
  {
   "cell_type": "markdown",
   "metadata": {},
   "source": [
    "## Creating and analyzing our synthetic lineage"
   ]
  },
  {
   "cell_type": "markdown",
   "metadata": {},
   "source": [
    "Variables subscripted or prefixed with `MAS` are referring to the first lineage in this heterogeneous lineage, while variables subscripted with `2` are referring to the second lineage. These two lineages are what comprise the _depth two state_ lineage."
   ]
  },
  {
   "cell_type": "code",
   "execution_count": null,
   "metadata": {},
   "outputs": [],
   "source": [
    "T_MAS = 400. # how long the first synthetic lineage runs for\n",
    "T_2 = 250. # how long the second synthetic lineage runs for\n",
    "experimentTime = T_MAS + T_2\n",
    "MASinitCells = [1] # how many initial cells are in the first lineage (has to be one)\n",
    "MASlocBern = [0.999] # the bernoulli parameter regarding the chance of dividing over dying for the master (first) lineage\n",
    "MASbeta = [80] # the exponential parameter regarding how long a cell lives [hours]\n",
    "\n",
    "initCells2 = [1] # how many initial cells are in the second lineage (has to be one)\n",
    "locBern2 = [0.8] # the bernoulli parameter regarding the change of dividing over dying for the second lineage\n",
    "beta2 = [20] # the exponential parameter regarding how long a cell lives [hours]\n",
    "\n",
    "# In general, the above parameters are described as lists because one can have multiple groups of parameters\n",
    "# to describe their population. For example, one can easily create a population with initCells = [10, 50, 3],\n",
    "# locBern = [0.8, 0.9, 0.75], beta = [80, 20, 90] to create three distinct populations. That is to say,\n",
    "# 10+50+3=63 lineages will be created, each tree following their own distribution parameters using the same index\n",
    "# in the other lists. \n",
    "\n",
    "# To create these depth heterogenous lineages, we created the function below that can join one lineage to another\n",
    "# and also perform the right house-keeping tasks to make sure that the lineages are sufficiently joined, such as\n",
    "# making sure the correct parent-daughter links exist, the cells in the second lineage recognize the root cell of\n",
    "# the master lineage tree, etc.\n",
    "\n",
    "max_lin_length = 300 # for the purpose of visualizing data, we set restrictions on the maximum length and\n",
    "min_lin_length = 5 # minimum length of the lineage generated\n",
    "FOM='E' # this just tells the code that we are using an exponential Force of Mortality\n",
    "X, newLineage, masterLineage, subLineage2 = Depth_Two_State_Lineage(T_MAS, MASinitCells, MASlocBern, T_2, initCells2, locBern2, FOM=FOM, betaExp=MASbeta, betaExp2=beta2)\n",
    "\n",
    "X1 = remove_singleton_lineages(X) # this removes lineages that are just one cell as they seem to break under the analysus\n",
    "x_new, end_time = remove_unfinished_cells(X1)\n",
    "# X = remove_unfinished_cells(X) # this removes cells that lived past the experimental end time\n",
    "\n",
    "numStates = 2 # need to tell our code how many states we expect to see\n",
    "_, _, all_states, tHMMobj, _, _ = Analyze(x_new, numStates) # this function contains the bulk of our analysis code\n",
    "# that is, it neatly runs our analysis steps in order"
   ]
  },
  {
   "cell_type": "markdown",
   "metadata": {},
   "source": [
    "# Visualizing results"
   ]
  },
  {
   "cell_type": "code",
   "execution_count": null,
   "metadata": {},
   "outputs": [],
   "source": [
    "getAccuracy(tHMMobj, all_states, verbose=True) # this function simply runs the state comparison and checks for accuracy\n",
    "import matplotlib as mpl\n",
    "from matplotlib import ticker\n",
    "\n",
    "G, cmap, _ = make_colormap_graph(x_new)\n",
    "M = G.number_of_edges()\n",
    "edge_weights = [d for (u,v,d) in G.edges.data('weight')]\n",
    "#pos prog options: neato, dot, twopi, circo (don't use), fdp (don't use), nop (don't use), wc (don't use), acyclic (don't use), gvpr (don't use), gvcolor (don't use), ccomps (don't use), sccmap (don't use), tred (don't use), sfdp (don't use), unflatten (don't use)\n",
    "pos = graphviz_layout(G, prog='dot', root=0)\n",
    "plt.figure(figsize=(40,31))\n",
    "plt.figaspect(1)\n",
    "node_size = 200\n",
    "nodes = nx.draw_networkx_nodes(G, pos, node_size=node_size, node_color=cmap, alpha=1)\n",
    "edges = nx.draw_networkx_edges(G, pos, node_size=node_size, edge_color=edge_weights, edge_cmap=plt.cm.plasma, width=2)\n",
    "\n",
    "ax = plt.gca()\n",
    "ax.set_axis_off()\n",
    "cb = plt.colorbar(edges, ticks=edge_weights)\n",
    "tick_locator = ticker.MaxNLocator(nbins=5)\n",
    "cb.locator = tick_locator\n",
    "cb.update_ticks()\n",
    "cb.set_label(label=r'Experiment Time [hrs]', labelpad=90)\n",
    "cb.ax.invert_yaxis()\n",
    "plt.title('Simulated Heterogeneous (by Depth) Lineage')\n",
    "plt.rcParams.update({'font.size': 64})\n",
    "plt.savefig('true.svg')\n",
    "plt.show()"
   ]
  },
  {
   "cell_type": "code",
   "execution_count": null,
   "metadata": {},
   "outputs": [],
   "source": [
    "G, cmap, _ = make_colormap_graph(x_new, tHMMobj.states[0])\n",
    "M = G.number_of_edges()\n",
    "edge_weights = [d for (u,v,d) in G.edges.data('weight')]\n",
    "#pos prog options: neato, dot, twopi, circo (don't use), fdp (don't use), nop (don't use), wc (don't use), acyclic (don't use), gvpr (don't use), gvcolor (don't use), ccomps (don't use), sccmap (don't use), tred (don't use), sfdp (don't use), unflatten (don't use)\n",
    "pos = graphviz_layout(G, prog='dot', root=0)\n",
    "plt.figure(figsize=(40,31))\n",
    "plt.figaspect(1)\n",
    "node_size = 200\n",
    "nodes = nx.draw_networkx_nodes(G, pos, node_size=node_size, node_color=cmap, alpha=1)\n",
    "edges = nx.draw_networkx_edges(G, pos, node_size=node_size, edge_color=edge_weights, edge_cmap=plt.cm.plasma, width=2)\n",
    "\n",
    "ax = plt.gca()\n",
    "ax.set_axis_off()\n",
    "cb = plt.colorbar(edges, ticks=edge_weights)\n",
    "tick_locator = ticker.MaxNLocator(nbins=5)\n",
    "cb.locator = tick_locator\n",
    "cb.update_ticks()\n",
    "cb.set_label(label=r'Experiment Time [hrs]', labelpad=90)\n",
    "cb.ax.invert_yaxis()\n",
    "plt.title('Estimated Subpopulation Classification')\n",
    "plt.rcParams.update({'font.size': 64})\n",
    "plt.savefig('estimated.svg')\n",
    "plt.show()"
   ]
  }
 ],
 "metadata": {
  "kernelspec": {
   "display_name": "Python 3",
   "language": "python",
   "name": "python3"
  },
  "language_info": {
   "codemirror_mode": {
    "name": "ipython",
    "version": 3
   },
   "file_extension": ".py",
   "mimetype": "text/x-python",
   "name": "python",
   "nbconvert_exporter": "python",
   "pygments_lexer": "ipython3",
   "version": "3.7.3"
  }
 },
 "nbformat": 4,
 "nbformat_minor": 4
}
