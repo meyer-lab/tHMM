{
 "cells": [
  {
   "cell_type": "markdown",
   "metadata": {},
   "source": [
    "# Guide to tHMM"
   ]
  },
  {
   "cell_type": "code",
   "execution_count": 1,
   "metadata": {},
   "outputs": [],
   "source": [
    "import numpy as np\n",
    "import scipy.stats as sp"
   ]
  },
  {
   "cell_type": "markdown",
   "metadata": {},
   "source": [
    "### Synthesizing Cells (not required by the user)"
   ]
  },
  {
   "cell_type": "code",
   "execution_count": 2,
   "metadata": {},
   "outputs": [],
   "source": [
    "from lineage.CellVar import CellVar as c\n",
    "from lineage.CellVar import _double"
   ]
  },
  {
   "cell_type": "code",
   "execution_count": 3,
   "metadata": {},
   "outputs": [],
   "source": [
    "T = np.array([[1.0, 0.0],\n",
    "              [0.0, 1.0]])\n",
    "    \n",
    "parent_state = 1\n",
    "parent_cell = c(state=parent_state, left=None, right=None, parent=None, gen=1)\n",
    "left_cell, right_cell = parent_cell._divide(T)"
   ]
  },
  {
   "cell_type": "code",
   "execution_count": 4,
   "metadata": {},
   "outputs": [
    {
     "name": "stdout",
     "output_type": "stream",
     "text": [
      "\n",
      " Generation: 2, State: 1, Observation: This cell has no observations to report. \n",
      " Generation: 2, State: 1, Observation: This cell has no observations to report.\n"
     ]
    }
   ],
   "source": [
    "print(left_cell, parent_cell.left)"
   ]
  },
  {
   "cell_type": "code",
   "execution_count": 5,
   "metadata": {},
   "outputs": [
    {
     "name": "stdout",
     "output_type": "stream",
     "text": [
      "\n",
      " Generation: 2, State: 1, Observation: This cell has no observations to report. \n",
      " Generation: 2, State: 1, Observation: This cell has no observations to report.\n"
     ]
    }
   ],
   "source": [
    "print(right_cell, parent_cell.right)"
   ]
  },
  {
   "cell_type": "markdown",
   "metadata": {},
   "source": [
    "## Creating a synthetic lineage (required by the user) \"Two State Model\""
   ]
  },
  {
   "cell_type": "code",
   "execution_count": 6,
   "metadata": {},
   "outputs": [],
   "source": [
    "from lineage.LineageTree import LineageTree\n",
    "from lineage.StateDistribution import StateDistribution, get_experiment_time"
   ]
  },
  {
   "cell_type": "markdown",
   "metadata": {},
   "source": [
    "### Creating a lineage and setting the full lineage (unpruned) as the one to be used"
   ]
  },
  {
   "cell_type": "markdown",
   "metadata": {},
   "source": [
    "The required probabilities are those that define the tree and act of state switching. This process works by first creating a hidden tree of empty cells. Empty cells are those that have their states set but do not have any observations attached to them. We then draw as many observations from each state distribution and assign those observations to those cells. The $\\pi$ and $T$ parameters are easy to define. The number of states is $k$. We require for $\\pi$ a $k\\times 1$ list of probabilities. These probabilities must add up to $1$ and they should be either in a $1$-dimensional list or a $1$-dimensional numpy array. The $T$ parameter should be a square numpy matrix of size $k\\times k$. The rows are the states in which we are transitioning from and the columns are the states in which we are transitioning to. Each row of $T$ should sum to $1$. The columns need not sum to $1$."
   ]
  },
  {
   "cell_type": "code",
   "execution_count": 7,
   "metadata": {},
   "outputs": [],
   "source": [
    "# pi: the initial probability vector\n",
    "pi = np.array([0.95, 0.05], dtype=\"float\")\n",
    "\n",
    "# T: transition probability matrix\n",
    "T = np.array([[0.85, 0.15],\n",
    "              [0.10, 0.90]])"
   ]
  },
  {
   "cell_type": "markdown",
   "metadata": {},
   "source": [
    "The emission matrix $E$ is a little more complicated to define because this is where the user has complete freedom in defining what type of observation they care about. In particular, the user has to first begin with defining what observation he or she will want in their cells in their synthetic images. For example, if one is observing kinematics or physics, they might want to use Gaaussian distribution observations. In defining the random variables, the user will pull from a Gaussian distribution based on the mean and standard deviation of the different states he or she picks. They can also utilize the Gaussian probability distribution to define the likelihood as well. Furthermore, they can build an analytical estimator for their state distributions that yield the parameter estimates when given a list of observations. Finally, the user can also define a prune rule, which is essentially a boolean function that inspects a cell's observations and returns True if the cell's subtree (all the cells that are related to the cell in question and are of older generation) is to be pruned or False if the cell is safe from pruning. In the Gaussian example, a user can remove a cell's subtree if its observation is higher or lower than some fixed value.\n",
    "\n",
    "We have already built, as an example, and as bioengineers, a model that resembles lineage trees. In our synthetic model, our emissions are multivariate. This first emission is a Bernoulli observation, $0$ implying death and $1$ implying division. The second and third emissions are continuous and are from exponential and gamma distributions respectively. Though these can be thought of cell lifetime's or periods in a certain cell phase, we want the user to know that these values can really mean anything and they are completely free in choosing what the emissions and their values mean. We define ways to calculate random variables for these multivariate observations and likelihoods of an observations. We also provide as a prune rule, keeping with the cell analogy, that if a cell has a $0$ in its Bernoulli observation, then its subtree is pruned from the full lineage tree. Though this will obviously introduce bias into estimation, we keep both the full tree and the pruned tree in the lineage objects, in the case a user would like to see the effects of analyzing on one versus the other.\n",
    "\n",
    "Ultimately, $E$ is defined as a $k\\times 1$ size list of state distribution objects. These distribution objects are rich in what they can already do, and a user can easily add more to their functionality. They only need to be instantiated by what parameters define that state's distribution."
   ]
  },
  {
   "cell_type": "code",
   "execution_count": 8,
   "metadata": {},
   "outputs": [],
   "source": [
    "# E: states are defined as StateDistribution objects\n",
    "\n",
    "# State 0 parameters \"Resistant\"\n",
    "state0 = 0\n",
    "bern_p0 = 0.99\n",
    "expon_scale_beta0 = 20\n",
    "gamma_a0 = 5.0\n",
    "gamma_scale0 = 1.0\n",
    "\n",
    "# State 1 parameters \"Susciptible\"\n",
    "state1 = 1\n",
    "bern_p1 = 0.8\n",
    "expon_scale_beta1 = 80\n",
    "gamma_a1 = 10.0\n",
    "gamma_scale1 = 2.0\n",
    "\n",
    "state_obj0 = StateDistribution(state0, bern_p0, gamma_a0, gamma_scale0)\n",
    "state_obj1 = StateDistribution(state1, bern_p1, gamma_a1, gamma_scale1)\n",
    "\n",
    "E = [state_obj0, state_obj1]"
   ]
  },
  {
   "cell_type": "markdown",
   "metadata": {},
   "source": [
    "The final required parameters are more obvious. The first is the desired number of cells one would like in their full unpruned lineage tree. This can be any number. The lineage tree is built 'from left to right'. What this means is that, we construct the binary tree by going to the left-most cell, dividing then walking through the generation. For example, if someone requested for"
   ]
  },
  {
   "cell_type": "code",
   "execution_count": 9,
   "metadata": {},
   "outputs": [],
   "source": [
    "desired_num_cells = 2**11 - 1 \n",
    "prune_boolean = True # To get the full tree"
   ]
  },
  {
   "cell_type": "code",
   "execution_count": 10,
   "metadata": {},
   "outputs": [
    {
     "name": "stdout",
     "output_type": "stream",
     "text": [
      "This tree is pruned. It is made of 2 states.\n",
      " For each state in this tree: \n",
<<<<<<< HEAD
      " \t There are 198 cells of state 0, \n",
      " \t There are 249 cells of state 1.\n",
      " This pruned tree has 447 cells in total\n"
=======
      " \t There are 442 cells of state 0, \n",
      " \t There are 411 cells of state 1.\n",
      " This pruned tree has 853 cells in total\n"
>>>>>>> 2d1e63c7149956293ccb170c298fd7d68cf0a2d8
     ]
    }
   ],
   "source": [
    "lineage1 = LineageTree(pi, T, E, desired_num_cells, prune_boolean)\n",
    "print(lineage1)"
   ]
  },
  {
   "cell_type": "markdown",
   "metadata": {},
   "source": [
    "### Obtaining how long the experiment ran by checking the time length of the longest branch"
   ]
  },
  {
   "cell_type": "code",
   "execution_count": 11,
   "metadata": {},
   "outputs": [
    {
     "name": "stdout",
     "output_type": "stream",
     "text": [
<<<<<<< HEAD
      "60.42174744769909\n"
=======
      "256.099078230094\n"
>>>>>>> 2d1e63c7149956293ccb170c298fd7d68cf0a2d8
     ]
    }
   ],
   "source": [
    "longest_branch_time = get_experiment_time(lineage1)\n",
    "print(longest_branch_time)"
   ]
  },
  {
   "cell_type": "markdown",
   "metadata": {},
   "source": [
    "### Estimation of distribution parameters using our estimators for full lineage"
   ]
  },
  {
   "cell_type": "code",
   "execution_count": 12,
   "metadata": {},
   "outputs": [
    {
     "name": "stdout",
     "output_type": "stream",
     "text": [
      "State 0:\n",
<<<<<<< HEAD
      "the number of gamma observations 831\n",
      "                    estimated state State object w/ parameters: 0.9891696750901351, 5.178902143898426, 0.9376501148288849.\n",
      "original parameters given for state State object w/ parameters: 0.99, 5.0, 1.0.\n",
      "State 1:\n",
      "the number of gamma observations 1216\n",
      "                    estimated state State object w/ parameters: 0.7993421052631087, 9.646439468438334, 2.076482036737275.\n",
=======
      "                    estimated state State object w/ parameters: 0.9907529722587872, 4.870896122862688, 1.021560511251239.\n",
      "original parameters given for state State object w/ parameters: 0.99, 5.0, 1.0.\n",
      "State 1:\n",
      "                    estimated state State object w/ parameters: 0.7875968992247616, 10.076918610152306, 2.0021975850322846.\n",
>>>>>>> 2d1e63c7149956293ccb170c298fd7d68cf0a2d8
      "original parameters given for state State object w/ parameters: 0.8, 10.0, 2.0.\n"
     ]
    }
   ],
   "source": [
    "for state in range(lineage1.num_states):\n",
    "    print(\"State {}:\".format(state))\n",
    "    print(\"                    estimated state\", E[state].estimator(lineage1.lineage_stats[state].full_lin_cells_obs))\n",
    "    print(\"original parameters given for state\", E[state])"
   ]
  },
  {
   "cell_type": "markdown",
   "metadata": {},
   "source": [
    "### Analyzing our first full lineage"
   ]
  },
  {
   "cell_type": "code",
   "execution_count": 13,
   "metadata": {},
<<<<<<< HEAD
   "outputs": [
    {
     "name": "stdout",
     "output_type": "stream",
     "text": [
      "lin1 size 447\n",
      "len lineage 447\n",
      "state_j 0\n",
      "this is len cells  193\n",
      "the number of gamma observations 193\n",
      "state_j 1\n",
      "this is len cells  254\n",
      "the number of gamma observations 254\n",
      "len lineage 447\n",
      "state_j 0\n",
      "this is len cells  194\n",
      "the number of gamma observations 194\n",
      "state_j 1\n",
      "this is len cells  253\n",
      "the number of gamma observations 253\n",
      "len lineage 447\n",
      "state_j 0\n",
      "this is len cells  193\n",
      "the number of gamma observations 193\n",
      "state_j 1\n",
      "this is len cells  254\n",
      "the number of gamma observations 254\n",
      "len lineage 447\n",
      "state_j 0\n",
      "this is len cells  193\n",
      "the number of gamma observations 193\n",
      "state_j 1\n",
      "this is len cells  254\n",
      "the number of gamma observations 254\n"
     ]
    }
   ],
=======
   "outputs": [],
>>>>>>> 2d1e63c7149956293ccb170c298fd7d68cf0a2d8
   "source": [
    "from lineage.Analyze import Analyze\n",
    "\n",
    "X = [lineage1] # population just contains one lineage\n",
    "\n",
    "deltas, state_ptrs, all_states, tHMMobj, NF, LL = Analyze(X, 2) # find two states"
   ]
  },
  {
   "cell_type": "code",
   "execution_count": 14,
   "metadata": {},
   "outputs": [
    {
     "name": "stdout",
     "output_type": "stream",
     "text": [
<<<<<<< HEAD
      "Accuracy or 1-Accuracy is 0.9843400447427293\n"
=======
      "Accuracy or 1-Accuracy is 0.9824150058616647\n"
>>>>>>> 2d1e63c7149956293ccb170c298fd7d68cf0a2d8
     ]
    }
   ],
   "source": [
    "for num, lineageObj in enumerate(X):\n",
    "    lin_estimated_states = all_states[num]\n",
    "    lin_true_states = [cell.state for cell in lineageObj.output_lineage]\n",
    "    total = len(lin_estimated_states)\n",
    "    assert total == len(lin_true_states)\n",
    "    counter = [1 if a==b else 0 for (a,b) in zip(lin_estimated_states,lin_true_states)]\n",
    "    print(\"Accuracy or 1-Accuracy is {}\".format(sum(counter)/total))"
   ]
  },
  {
   "cell_type": "code",
   "execution_count": 15,
   "metadata": {},
   "outputs": [
    {
     "name": "stdout",
     "output_type": "stream",
     "text": [
      "the number of gamma observations 6\n"
     ]
    },
    {
     "data": {
      "text/plain": [
       "(10.541011389999175, 2.0501076477579647)"
      ]
     },
     "execution_count": 15,
     "metadata": {},
     "output_type": "execute_result"
    }
   ],
   "source": [
    "from lineage.StateDistribution import gamma_estimator\n",
    "a = [37.0, 41.3, 44.2, 65.9, 33.0, 24.0]\n",
    "gamma_estimator(a)"
   ]
  },
  {
   "cell_type": "markdown",
   "metadata": {},
   "source": [
    "### Estimated Markov parameters ($\\pi$, $T$, $E$)"
   ]
  },
  {
   "cell_type": "code",
   "execution_count": 16,
   "metadata": {},
   "outputs": [
    {
     "name": "stdout",
     "output_type": "stream",
     "text": [
<<<<<<< HEAD
      "[1.00000000e+00 1.84976923e-15]\n"
=======
      "[1.00000000e+00 5.81061556e-22]\n"
>>>>>>> 2d1e63c7149956293ccb170c298fd7d68cf0a2d8
     ]
    }
   ],
   "source": [
    "print(tHMMobj.estimate.pi)"
   ]
  },
  {
   "cell_type": "code",
   "execution_count": 17,
   "metadata": {},
   "outputs": [
    {
     "name": "stdout",
     "output_type": "stream",
     "text": [
<<<<<<< HEAD
      "[[0.76083719 0.23916281]\n",
      " [0.08990872 0.91009128]]\n"
=======
      "[[0.82552738 0.17447262]\n",
      " [0.11519011 0.88480989]]\n"
>>>>>>> 2d1e63c7149956293ccb170c298fd7d68cf0a2d8
     ]
    }
   ],
   "source": [
    "print(tHMMobj.estimate.T)"
   ]
  },
  {
   "cell_type": "code",
   "execution_count": 18,
   "metadata": {},
   "outputs": [
    {
     "name": "stdout",
     "output_type": "stream",
     "text": [
<<<<<<< HEAD
      "State object w/ parameters: 0.9999999999994817, 6.579368242906549, 0.7104408165955152.\n",
      "State object w/ parameters: 0.7952755905509485, 8.579228777329309, 2.2567246175639646.\n"
=======
      "State object w/ parameters: 0.9999999999997712, 5.533616900437469, 0.8705382765097602.\n",
      "State object w/ parameters: 0.8076923076921598, 10.652317186682787, 1.8739168952744156.\n"
>>>>>>> 2d1e63c7149956293ccb170c298fd7d68cf0a2d8
     ]
    }
   ],
   "source": [
    "for state in range(tHMMobj.numStates):\n",
    "    print(tHMMobj.estimate.E[state])"
   ]
  },
  {
   "cell_type": "markdown",
   "metadata": {},
   "source": [
    "## Trying another lineage, this time pruning branches with ancestors that die"
   ]
  },
  {
   "cell_type": "code",
   "execution_count": 19,
   "metadata": {},
   "outputs": [],
   "source": [
    "desired_num_cells = 2**12 -1 \n",
    "prune_boolean = True # To get pruned tree"
   ]
  },
  {
   "cell_type": "code",
   "execution_count": 20,
   "metadata": {},
   "outputs": [
    {
     "name": "stdout",
     "output_type": "stream",
     "text": [
      "This tree is pruned. It is made of 2 states.\n",
      " For each state in this tree: \n",
<<<<<<< HEAD
      " \t There are 1352 cells of state 0, \n",
      " \t There are 1041 cells of state 1.\n",
      " This pruned tree has 2393 cells in total\n"
=======
      " \t There are 1419 cells of state 0, \n",
      " \t There are 878 cells of state 1.\n",
      " This pruned tree has 2297 cells in total\n"
>>>>>>> 2d1e63c7149956293ccb170c298fd7d68cf0a2d8
     ]
    }
   ],
   "source": [
    "lineage2 = LineageTree(pi, T, E, desired_num_cells, prune_boolean)\n",
    "print(lineage2)"
   ]
  },
  {
   "cell_type": "code",
   "execution_count": 21,
   "metadata": {},
   "outputs": [
    {
     "name": "stdout",
     "output_type": "stream",
     "text": [
<<<<<<< HEAD
      "70.77370684221687\n"
=======
      "206.3757664740363\n"
>>>>>>> 2d1e63c7149956293ccb170c298fd7d68cf0a2d8
     ]
    }
   ],
   "source": [
    "longest2 = get_experiment_time(lineage2)\n",
    "print(longest2)"
   ]
  },
  {
   "cell_type": "markdown",
   "metadata": {},
   "source": [
    "### Estimation of distribution parameters using our estimators for pruned lineage"
   ]
  },
  {
   "cell_type": "code",
   "execution_count": 22,
   "metadata": {},
   "outputs": [
    {
     "name": "stdout",
     "output_type": "stream",
     "text": [
      "State 0:\n",
<<<<<<< HEAD
      "the number of gamma observations 1352\n",
      "                    estimated state State object w/ parameters: 0.9837278106508159, 4.896200535582692, 1.0333889893942438.\n",
      "original parameters given for state State object w/ parameters: 0.99, 5.0, 1.0.\n",
      "State 1:\n",
      "the number of gamma observations 1041\n",
      "                    estimated state State object w/ parameters: 0.8107588856867799, 9.290343827622523, 2.142413411151604.\n",
=======
      "                    estimated state State object w/ parameters: 0.9802677942212149, 5.280393298905152, 0.9381090136135449.\n",
      "original parameters given for state State object w/ parameters: 0.99, 5.0, 1.0.\n",
      "State 1:\n",
      "                    estimated state State object w/ parameters: 0.7801822323461777, 9.409552021286277, 2.139699189729947.\n",
>>>>>>> 2d1e63c7149956293ccb170c298fd7d68cf0a2d8
      "original parameters given for state State object w/ parameters: 0.8, 10.0, 2.0.\n"
     ]
    }
   ],
   "source": [
    "for state in range(lineage2.num_states):\n",
    "    print(\"State {}:\".format(state))\n",
    "    print(\"                    estimated state\", E[state].estimator(lineage2.lineage_stats[state].pruned_lin_cells_obs))\n",
    "    print(\"original parameters given for state\", E[state])"
   ]
  },
  {
   "cell_type": "markdown",
   "metadata": {},
   "source": [
    "### Analyzing a population of lineages"
   ]
  },
  {
   "cell_type": "code",
   "execution_count": 23,
   "metadata": {},
   "outputs": [
    {
     "name": "stdout",
     "output_type": "stream",
     "text": [
      "lin1 size 447\n",
      "len lineage 447\n",
      "len lineage 2393\n",
      "state_j 0\n",
      "this is len cells  30\n",
      "the number of gamma observations 30\n",
      "state_j 1\n",
      "this is len cells  2810\n",
      "the number of gamma observations 2810\n",
      "len lineage 447\n",
      "len lineage 2393\n",
      "state_j 0\n",
      "this is len cells  0\n",
      "the number of gamma observations 1\n",
      "state_j 1\n",
      "this is len cells  2840\n",
      "the number of gamma observations 2840\n"
     ]
    },
    {
     "name": "stderr",
     "output_type": "stream",
     "text": [
      "/home/farnazm/.local/lib/python3.7/site-packages/scipy/stats/_distn_infrastructure.py:1662: RuntimeWarning: divide by zero encountered in double_scalars\n",
      "  x = np.asarray((x - loc)/scale, dtype=dtyp)\n"
     ]
    },
    {
     "ename": "AssertionError",
     "evalue": "",
     "output_type": "error",
     "traceback": [
      "\u001b[0;31m---------------------------------------------------------------------------\u001b[0m",
      "\u001b[0;31mAssertionError\u001b[0m                            Traceback (most recent call last)",
      "\u001b[0;32m<ipython-input-23-1b5f00aa9446>\u001b[0m in \u001b[0;36m<module>\u001b[0;34m\u001b[0m\n\u001b[1;32m      1\u001b[0m \u001b[0mX\u001b[0m \u001b[0;34m=\u001b[0m \u001b[0;34m[\u001b[0m\u001b[0mlineage1\u001b[0m\u001b[0;34m,\u001b[0m \u001b[0mlineage2\u001b[0m\u001b[0;34m]\u001b[0m \u001b[0;31m# population just contains one lineage\u001b[0m\u001b[0;34m\u001b[0m\u001b[0;34m\u001b[0m\u001b[0m\n\u001b[1;32m      2\u001b[0m \u001b[0;34m\u001b[0m\u001b[0m\n\u001b[0;32m----> 3\u001b[0;31m \u001b[0mdeltas\u001b[0m\u001b[0;34m,\u001b[0m \u001b[0mstate_ptrs\u001b[0m\u001b[0;34m,\u001b[0m \u001b[0mall_states\u001b[0m\u001b[0;34m,\u001b[0m \u001b[0mtHMMobj\u001b[0m\u001b[0;34m,\u001b[0m \u001b[0mNF\u001b[0m\u001b[0;34m,\u001b[0m \u001b[0mLL\u001b[0m \u001b[0;34m=\u001b[0m \u001b[0mAnalyze\u001b[0m\u001b[0;34m(\u001b[0m\u001b[0mX\u001b[0m\u001b[0;34m,\u001b[0m \u001b[0;36m2\u001b[0m\u001b[0;34m)\u001b[0m \u001b[0;31m# find two states\u001b[0m\u001b[0;34m\u001b[0m\u001b[0;34m\u001b[0m\u001b[0m\n\u001b[0m",
      "\u001b[0;32m~/lineage/accuracy/lineage-growth/lineage/Analyze.py\u001b[0m in \u001b[0;36mAnalyze\u001b[0;34m(X, numStates)\u001b[0m\n\u001b[1;32m     27\u001b[0m \u001b[0;34m\u001b[0m\u001b[0m\n\u001b[1;32m     28\u001b[0m     \u001b[0mtHMMobj\u001b[0m \u001b[0;34m=\u001b[0m \u001b[0mtHMM\u001b[0m\u001b[0;34m(\u001b[0m\u001b[0mX\u001b[0m\u001b[0;34m,\u001b[0m \u001b[0mnumStates\u001b[0m\u001b[0;34m=\u001b[0m\u001b[0mnumStates\u001b[0m\u001b[0;34m)\u001b[0m  \u001b[0;31m# build the tHMM class with X\u001b[0m\u001b[0;34m\u001b[0m\u001b[0;34m\u001b[0m\u001b[0m\n\u001b[0;32m---> 29\u001b[0;31m     \u001b[0mfit\u001b[0m\u001b[0;34m(\u001b[0m\u001b[0mtHMMobj\u001b[0m\u001b[0;34m,\u001b[0m \u001b[0mmax_iter\u001b[0m\u001b[0;34m=\u001b[0m\u001b[0;36m200\u001b[0m\u001b[0;34m,\u001b[0m \u001b[0mverbose\u001b[0m\u001b[0;34m=\u001b[0m\u001b[0;32mTrue\u001b[0m\u001b[0;34m)\u001b[0m\u001b[0;34m\u001b[0m\u001b[0;34m\u001b[0m\u001b[0m\n\u001b[0m\u001b[1;32m     30\u001b[0m \u001b[0;34m\u001b[0m\u001b[0m\n\u001b[1;32m     31\u001b[0m     \u001b[0mdeltas\u001b[0m\u001b[0;34m,\u001b[0m \u001b[0mstate_ptrs\u001b[0m \u001b[0;34m=\u001b[0m \u001b[0mget_leaf_deltas\u001b[0m\u001b[0;34m(\u001b[0m\u001b[0mtHMMobj\u001b[0m\u001b[0;34m)\u001b[0m  \u001b[0;31m# gets the deltas matrix\u001b[0m\u001b[0;34m\u001b[0m\u001b[0;34m\u001b[0m\u001b[0m\n",
      "\u001b[0;32m~/lineage/accuracy/lineage-growth/lineage/BaumWelch.py\u001b[0m in \u001b[0;36mfit\u001b[0;34m(tHMMobj, tolerance, max_iter, verbose)\u001b[0m\n\u001b[1;32m    132\u001b[0m \u001b[0;34m\u001b[0m\u001b[0m\n\u001b[1;32m    133\u001b[0m         \u001b[0mNF\u001b[0m \u001b[0;34m=\u001b[0m \u001b[0mget_leaf_Normalizing_Factors\u001b[0m\u001b[0;34m(\u001b[0m\u001b[0mtHMMobj\u001b[0m\u001b[0;34m)\u001b[0m\u001b[0;34m\u001b[0m\u001b[0;34m\u001b[0m\u001b[0m\n\u001b[0;32m--> 134\u001b[0;31m         \u001b[0mbetas\u001b[0m \u001b[0;34m=\u001b[0m \u001b[0mget_leaf_betas\u001b[0m\u001b[0;34m(\u001b[0m\u001b[0mtHMMobj\u001b[0m\u001b[0;34m,\u001b[0m \u001b[0mNF\u001b[0m\u001b[0;34m)\u001b[0m\u001b[0;34m\u001b[0m\u001b[0;34m\u001b[0m\u001b[0m\n\u001b[0m\u001b[1;32m    135\u001b[0m         \u001b[0mget_nonleaf_NF_and_betas\u001b[0m\u001b[0;34m(\u001b[0m\u001b[0mtHMMobj\u001b[0m\u001b[0;34m,\u001b[0m \u001b[0mNF\u001b[0m\u001b[0;34m,\u001b[0m \u001b[0mbetas\u001b[0m\u001b[0;34m)\u001b[0m\u001b[0;34m\u001b[0m\u001b[0;34m\u001b[0m\u001b[0m\n\u001b[1;32m    136\u001b[0m         \u001b[0mgammas\u001b[0m \u001b[0;34m=\u001b[0m \u001b[0mget_root_gammas\u001b[0m\u001b[0;34m(\u001b[0m\u001b[0mtHMMobj\u001b[0m\u001b[0;34m,\u001b[0m \u001b[0mbetas\u001b[0m\u001b[0;34m)\u001b[0m\u001b[0;34m\u001b[0m\u001b[0;34m\u001b[0m\u001b[0m\n",
      "\u001b[0;32m~/lineage/accuracy/lineage-growth/lineage/UpwardRecursion.py\u001b[0m in \u001b[0;36mget_leaf_betas\u001b[0;34m(tHMMobj, NF)\u001b[0m\n\u001b[1;32m    114\u001b[0m     \u001b[0;32mfor\u001b[0m \u001b[0mnum\u001b[0m\u001b[0;34m,\u001b[0m \u001b[0mlineageObj\u001b[0m \u001b[0;32min\u001b[0m \u001b[0menumerate\u001b[0m\u001b[0;34m(\u001b[0m\u001b[0mtHMMobj\u001b[0m\u001b[0;34m.\u001b[0m\u001b[0mX\u001b[0m\u001b[0;34m)\u001b[0m\u001b[0;34m:\u001b[0m\u001b[0;34m\u001b[0m\u001b[0;34m\u001b[0m\u001b[0m\n\u001b[1;32m    115\u001b[0m         \u001b[0mbetas_last_row_sum\u001b[0m \u001b[0;34m=\u001b[0m \u001b[0mnp\u001b[0m\u001b[0;34m.\u001b[0m\u001b[0msum\u001b[0m\u001b[0;34m(\u001b[0m\u001b[0mbetas\u001b[0m\u001b[0;34m[\u001b[0m\u001b[0mnum\u001b[0m\u001b[0;34m]\u001b[0m\u001b[0;34m[\u001b[0m\u001b[0;34m-\u001b[0m\u001b[0;36m1\u001b[0m\u001b[0;34m]\u001b[0m\u001b[0;34m)\u001b[0m\u001b[0;34m\u001b[0m\u001b[0;34m\u001b[0m\u001b[0m\n\u001b[0;32m--> 116\u001b[0;31m         \u001b[0;32massert\u001b[0m \u001b[0mnp\u001b[0m\u001b[0;34m.\u001b[0m\u001b[0misclose\u001b[0m\u001b[0;34m(\u001b[0m\u001b[0mbetas_last_row_sum\u001b[0m\u001b[0;34m,\u001b[0m \u001b[0;36m1.\u001b[0m\u001b[0;34m)\u001b[0m\u001b[0;34m\u001b[0m\u001b[0;34m\u001b[0m\u001b[0m\n\u001b[0m\u001b[1;32m    117\u001b[0m     \u001b[0;32mreturn\u001b[0m \u001b[0mbetas\u001b[0m\u001b[0;34m\u001b[0m\u001b[0;34m\u001b[0m\u001b[0m\n\u001b[1;32m    118\u001b[0m \u001b[0;34m\u001b[0m\u001b[0m\n",
      "\u001b[0;31mAssertionError\u001b[0m: "
     ]
    }
   ],
   "source": [
    "X = [lineage1, lineage2] # population just contains one lineage\n",
    "\n",
    "deltas, state_ptrs, all_states, tHMMobj, NF, LL = Analyze(X, 2) # find two states"
   ]
  },
  {
   "cell_type": "code",
   "execution_count": 24,
   "metadata": {},
   "outputs": [
    {
     "name": "stdout",
     "output_type": "stream",
     "text": [
      "Accuracy or 1-Accuracy is 0.39859320046893315\n",
      "Accuracy or 1-Accuracy is 0.30735742272529387\n"
     ]
    }
   ],
   "source": [
    "for num, lineageObj in enumerate(X):\n",
    "    lin_estimated_states = all_states[num]\n",
    "    lin_true_states = [cell.state for cell in lineageObj.output_lineage]\n",
    "    total = len(lin_estimated_states)\n",
    "    assert total == len(lin_true_states)\n",
    "    counter = [1 if a==b else 0 for (a,b) in zip(lin_estimated_states,lin_true_states)]\n",
    "    print(\"Accuracy or 1-Accuracy is {}\".format(sum(counter)/total))"
   ]
  },
  {
   "cell_type": "markdown",
   "metadata": {},
   "source": [
    "### Estimated Markov parameters ($\\pi$, $T$, $E$)"
   ]
  },
  {
   "cell_type": "code",
   "execution_count": 25,
   "metadata": {},
   "outputs": [
    {
     "name": "stdout",
     "output_type": "stream",
     "text": [
      "[2.6951682e-233 1.0000000e+000]\n"
     ]
    }
   ],
   "source": [
    "print(tHMMobj.estimate.pi)"
   ]
  },
  {
   "cell_type": "code",
   "execution_count": 26,
   "metadata": {},
   "outputs": [
    {
     "name": "stdout",
     "output_type": "stream",
     "text": [
      "[[0.99821684 0.00178316]\n",
      " [0.08496095 0.91503905]]\n"
     ]
    }
   ],
   "source": [
    "print(tHMMobj.estimate.T)"
   ]
  },
  {
   "cell_type": "code",
   "execution_count": 27,
   "metadata": {},
   "outputs": [
    {
     "name": "stdout",
     "output_type": "stream",
     "text": [
      "State object w/ parameters: 3.597122302155686e-13, 8.2386110070254, 2.3872507156355383.\n",
      "State object w/ parameters: 0.9919916434540047, 1.61672586194621, 6.391235376745454.\n"
     ]
    }
   ],
   "source": [
    "for state in range(tHMMobj.numStates):\n",
    "    print(tHMMobj.estimate.E[state])"
   ]
  },
  {
   "cell_type": "markdown",
   "metadata": {},
   "source": [
    "## Creating a synthetic lineage that has three states"
   ]
  },
  {
   "cell_type": "markdown",
   "metadata": {},
   "source": [
    "Here we generate a lineage with three states, which would be 1) Susciptible 2) Middle State 3) Resistant. The aim here is to show the transition from susciptible to resistant state doesn't happen immediately, and there is a gradual transition which is modeled as a middle state. The point to be considered here is that transition from 1 to 3 or otherwise is not possible so the probability of these transitions are zero, and most likely the initial cells are in susciptible state.\n",
    "\n",
    "**State 1**: Susceptible\n",
    "\n",
    "**State 2**: Transition state\n",
    "\n",
    "**State 3**: Resistant state\n"
   ]
  },
  {
   "cell_type": "code",
   "execution_count": 28,
   "metadata": {},
   "outputs": [],
   "source": [
    "# pi: the initial probability vector\n",
    "pi_3 = np.array([0.5, 0.25, 0.25])\n",
    "\n",
    "# T: transition probability matrix\n",
    "T_3 = np.array([[0.65, 0.35, 0.00],\n",
    "                [0.20, 0.40, 0.40],\n",
    "                [0.00, 0.10, 0.90]])"
   ]
  },
  {
   "cell_type": "code",
   "execution_count": 29,
   "metadata": {},
   "outputs": [
    {
     "ename": "TypeError",
     "evalue": "__init__() takes 5 positional arguments but 6 were given",
     "output_type": "error",
     "traceback": [
      "\u001b[0;31m---------------------------------------------------------------------------\u001b[0m",
      "\u001b[0;31mTypeError\u001b[0m                                 Traceback (most recent call last)",
      "\u001b[0;32m<ipython-input-29-f6cab3756a24>\u001b[0m in \u001b[0;36m<module>\u001b[0;34m\u001b[0m\n\u001b[1;32m     22\u001b[0m \u001b[0mgamma_scale2\u001b[0m \u001b[0;34m=\u001b[0m \u001b[0;36m3.0\u001b[0m\u001b[0;34m\u001b[0m\u001b[0;34m\u001b[0m\u001b[0m\n\u001b[1;32m     23\u001b[0m \u001b[0;34m\u001b[0m\u001b[0m\n\u001b[0;32m---> 24\u001b[0;31m \u001b[0mstate_obj0\u001b[0m \u001b[0;34m=\u001b[0m \u001b[0mStateDistribution\u001b[0m\u001b[0;34m(\u001b[0m\u001b[0mstate0\u001b[0m\u001b[0;34m,\u001b[0m \u001b[0mbern_p0\u001b[0m\u001b[0;34m,\u001b[0m \u001b[0mexpon_scale_beta0\u001b[0m\u001b[0;34m,\u001b[0m \u001b[0mgamma_a0\u001b[0m\u001b[0;34m,\u001b[0m \u001b[0mgamma_scale0\u001b[0m\u001b[0;34m)\u001b[0m\u001b[0;34m\u001b[0m\u001b[0;34m\u001b[0m\u001b[0m\n\u001b[0m\u001b[1;32m     25\u001b[0m \u001b[0mstate_obj1\u001b[0m \u001b[0;34m=\u001b[0m \u001b[0mStateDistribution\u001b[0m\u001b[0;34m(\u001b[0m\u001b[0mstate1\u001b[0m\u001b[0;34m,\u001b[0m \u001b[0mbern_p1\u001b[0m\u001b[0;34m,\u001b[0m \u001b[0mexpon_scale_beta1\u001b[0m\u001b[0;34m,\u001b[0m \u001b[0mgamma_a1\u001b[0m\u001b[0;34m,\u001b[0m \u001b[0mgamma_scale1\u001b[0m\u001b[0;34m)\u001b[0m\u001b[0;34m\u001b[0m\u001b[0;34m\u001b[0m\u001b[0m\n\u001b[1;32m     26\u001b[0m \u001b[0mstate_obj2\u001b[0m \u001b[0;34m=\u001b[0m \u001b[0mStateDistribution\u001b[0m\u001b[0;34m(\u001b[0m\u001b[0mstate2\u001b[0m\u001b[0;34m,\u001b[0m \u001b[0mbern_p2\u001b[0m\u001b[0;34m,\u001b[0m \u001b[0mexpon_scale_beta2\u001b[0m\u001b[0;34m,\u001b[0m \u001b[0mgamma_a2\u001b[0m\u001b[0;34m,\u001b[0m \u001b[0mgamma_scale2\u001b[0m\u001b[0;34m)\u001b[0m\u001b[0;34m\u001b[0m\u001b[0;34m\u001b[0m\u001b[0m\n",
      "\u001b[0;31mTypeError\u001b[0m: __init__() takes 5 positional arguments but 6 were given"
     ]
    }
   ],
   "source": [
    "# E: states are defined as StateDistribution objects\n",
    "\n",
    "# State 0 parameters \"Susciptible\"\n",
    "state0 = 0\n",
    "bern_p0 = 0.7\n",
    "gamma_a0 = 5.0\n",
    "gamma_scale0 = 1.0\n",
    "\n",
    "# State 1 parameters \"Middle state\"\n",
    "state1 = 1\n",
    "bern_p1 = 0.85\n",
    "gamma_a1 = 10.0\n",
    "gamma_scale1 = 2.0\n",
    "\n",
    "# State 2 parameters \"Resistant\"\n",
    "state2 = 2\n",
    "bern_p2 = 0.99\n",
    "gamma_a2 = 15.0\n",
    "gamma_scale2 = 3.0\n",
    "\n",
    "state_obj0 = StateDistribution(state0, bern_p0, gamma_a0, gamma_scale0)\n",
    "state_obj1 = StateDistribution(state1, bern_p1, gamma_a1, gamma_scale1)\n",
    "state_obj2 = StateDistribution(state2, bern_p2, gamma_a2, gamma_scale2)\n",
    "\n",
    "E_3 = [state_obj0, state_obj1, state_obj2]"
   ]
  },
  {
   "cell_type": "code",
   "execution_count": null,
   "metadata": {},
   "outputs": [],
   "source": [
    "desired_num_cells = 2**13 - 1 \n",
    "prune_boolean = False # To get the full tree"
   ]
  },
  {
   "cell_type": "code",
   "execution_count": null,
   "metadata": {},
   "outputs": [],
   "source": [
    "lineage3 = LineageTree(pi_3, T_3, E_3, desired_num_cells, prune_boolean)\n",
    "print(lineage3)"
   ]
  },
  {
   "cell_type": "code",
   "execution_count": null,
   "metadata": {},
   "outputs": [],
   "source": [
    "longest3 = get_experiment_time(lineage3)\n",
    "print(longest3)"
   ]
  },
  {
   "cell_type": "markdown",
   "metadata": {},
   "source": [
    "### Estimation of distribution parameters using our estimators for full lineage (3 state)"
   ]
  },
  {
   "cell_type": "code",
   "execution_count": null,
   "metadata": {},
   "outputs": [],
   "source": [
    "for state in range(lineage3.num_states):\n",
    "    print(\"State {}:\".format(state))\n",
    "    print(\"estimated state for full\", E_3[state].estimator(lineage3.lineage_stats[state].full_lin_cells_obs))\n",
    "    print(\"estimated state for pruned\", E_3[state].estimator(lineage3.lineage_stats[state].pruned_lin_cells_obs))\n",
    "    print(\"true_____ state\", E_3[state])"
   ]
  },
  {
   "cell_type": "markdown",
   "metadata": {},
   "source": [
    "### Analyzing a three state lineage"
   ]
  },
  {
   "cell_type": "code",
   "execution_count": null,
   "metadata": {},
   "outputs": [],
   "source": [
    "X = [lineage3] # population just contains one lineage\n",
    "\n",
    "deltas, state_ptrs, all_states, tHMMobj, NF, LL = Analyze(X, 3) # find three states"
   ]
  },
  {
   "cell_type": "code",
   "execution_count": null,
   "metadata": {},
   "outputs": [],
   "source": [
    "for num, lineageObj in enumerate(X):\n",
    "    lin_estimated_states = all_states[num]\n",
    "    lin_true_states = [cell.state for cell in lineageObj.output_lineage]\n",
    "    total = len(lin_estimated_states)\n",
    "    assert total == len(lin_true_states)\n",
    "    counter = [1 if a==b else 0 for (a,b) in zip(lin_estimated_states,lin_true_states)]\n",
    "    print(\"Accuracy {}\".format(sum(counter)/total))"
   ]
  },
  {
   "cell_type": "markdown",
   "metadata": {},
   "source": [
    "### Estimated Markov parameters ($\\pi$, $T$, $E$)"
   ]
  },
  {
   "cell_type": "code",
   "execution_count": null,
   "metadata": {},
   "outputs": [],
   "source": [
    "print(tHMMobj.estimate.pi)"
   ]
  },
  {
   "cell_type": "code",
   "execution_count": null,
   "metadata": {},
   "outputs": [],
   "source": [
    "print(tHMMobj.estimate.T)"
   ]
  },
  {
   "cell_type": "code",
   "execution_count": null,
   "metadata": {},
   "outputs": [],
   "source": [
    "for state in range(tHMMobj.numStates):\n",
    "    print(tHMMobj.estimate.E[state])"
   ]
  },
  {
   "cell_type": "code",
   "execution_count": null,
   "metadata": {},
   "outputs": [],
   "source": []
  }
 ],
 "metadata": {
  "kernelspec": {
   "display_name": "Python 3",
   "language": "python",
   "name": "python3"
  },
  "language_info": {
   "codemirror_mode": {
    "name": "ipython",
    "version": 3
   },
   "file_extension": ".py",
   "mimetype": "text/x-python",
   "name": "python",
   "nbconvert_exporter": "python",
   "pygments_lexer": "ipython3",
   "version": "3.7.3"
  }
 },
 "nbformat": 4,
 "nbformat_minor": 4
}
