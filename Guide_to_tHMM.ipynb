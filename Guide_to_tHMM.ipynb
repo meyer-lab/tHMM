{
 "cells": [
  {
   "cell_type": "markdown",
   "metadata": {},
   "source": [
    "# Guide to tHMM"
   ]
  },
  {
   "cell_type": "code",
   "execution_count": 1,
   "metadata": {},
   "outputs": [],
   "source": [
    "import numpy as np\n",
    "import scipy.stats as sp"
   ]
  },
  {
   "cell_type": "markdown",
   "metadata": {},
   "source": [
    "### Synthesizing Cells (not required by the user)"
   ]
  },
  {
   "cell_type": "code",
   "execution_count": 2,
   "metadata": {},
   "outputs": [],
   "source": [
    "from lineage.CellVar import CellVar as c\n",
    "from lineage.CellVar import _double"
   ]
  },
  {
   "cell_type": "code",
   "execution_count": 3,
   "metadata": {},
   "outputs": [],
   "source": [
    "T = np.array([[1.0, 0.0],\n",
    "              [0.0, 1.0]])\n",
    "    \n",
    "parent_state = 1\n",
    "parent_cell = c(state=parent_state, left=None, right=None, parent=None, gen=1)\n",
    "left_cell, right_cell = parent_cell._divide(T)"
   ]
  },
  {
   "cell_type": "code",
   "execution_count": 4,
   "metadata": {},
   "outputs": [
    {
     "name": "stdout",
     "output_type": "stream",
     "text": [
      "\n",
      " Generation: 2, State: 1, Observation: This cell has no observations to report. \n",
      " Generation: 2, State: 1, Observation: This cell has no observations to report.\n"
     ]
    }
   ],
   "source": [
    "print(left_cell, parent_cell.left)"
   ]
  },
  {
   "cell_type": "code",
   "execution_count": 5,
   "metadata": {},
   "outputs": [
    {
     "name": "stdout",
     "output_type": "stream",
     "text": [
      "\n",
      " Generation: 2, State: 1, Observation: This cell has no observations to report. \n",
      " Generation: 2, State: 1, Observation: This cell has no observations to report.\n"
     ]
    }
   ],
   "source": [
    "print(right_cell, parent_cell.right)"
   ]
  },
  {
   "cell_type": "markdown",
   "metadata": {},
   "source": [
    "## Creating a synthetic lineage (required by the user) \"Two State Model\""
   ]
  },
  {
   "cell_type": "code",
   "execution_count": 6,
   "metadata": {},
   "outputs": [],
   "source": [
    "from lineage.LineageTree import LineageTree\n",
    "from lineage.StateDistribution import StateDistribution, get_experiment_time"
   ]
  },
  {
   "cell_type": "markdown",
   "metadata": {},
   "source": [
    "### Creating a lineage and setting the full lineage (unpruned) as the one to be used"
   ]
  },
  {
   "cell_type": "markdown",
   "metadata": {},
   "source": [
    "The required probabilities are those that define the tree and act of state switching. This process works by first creating a hidden tree of empty cells. Empty cells are those that have their states set but do not have any observations attached to them. We then draw as many observations from each state distribution and assign those observations to those cells. The $\\pi$ and $T$ parameters are easy to define. The number of states is $k$. We require for $\\pi$ a $k\\times 1$ list of probabilities. These probabilities must add up to $1$ and they should be either in a $1$-dimensional list or a $1$-dimensional numpy array. The $T$ parameter should be a square numpy matrix of size $k\\times k$. The rows are the states in which we are transitioning from and the columns are the states in which we are transitioning to. Each row of $T$ should sum to $1$. The columns need not sum to $1$."
   ]
  },
  {
   "cell_type": "code",
   "execution_count": 7,
   "metadata": {},
   "outputs": [],
   "source": [
    "# pi: the initial probability vector\n",
    "pi = np.array([0.6, 0.4], dtype=\"float\")\n",
    "\n",
    "# T: transition probability matrix\n",
    "T = np.array([[0.85, 0.15],\n",
    "              [0.15, 0.85]])"
   ]
  },
  {
   "cell_type": "markdown",
   "metadata": {},
   "source": [
    "The emission matrix $E$ is a little more complicated to define because this is where the user has complete freedom in defining what type of observation they care about. In particular, the user has to first begin with defining what observation he or she will want in their cells in their synthetic images. For example, if one is observing kinematics or physics, they might want to use Gaaussian distribution observations. In defining the random variables, the user will pull from a Gaussian distribution based on the mean and standard deviation of the different states he or she picks. They can also utilize the Gaussian probability distribution to define the likelihood as well. Furthermore, they can build an analytical estimator for their state distributions that yield the parameter estimates when given a list of observations. Finally, the user can also define a prune rule, which is essentially a boolean function that inspects a cell's observations and returns True if the cell's subtree (all the cells that are related to the cell in question and are of older generation) is to be pruned or False if the cell is safe from pruning. In the Gaussian example, a user can remove a cell's subtree if its observation is higher or lower than some fixed value.\n",
    "\n",
    "We have already built, as an example, and as bioengineers, a model that resembles lineage trees. In our synthetic model, our emissions are multivariate. This first emission is a Bernoulli observation, $0$ implying death and $1$ implying division. The second and third emissions are continuous and are from exponential and gamma distributions respectively. Though these can be thought of cell lifetime's or periods in a certain cell phase, we want the user to know that these values can really mean anything and they are completely free in choosing what the emissions and their values mean. We define ways to calculate random variables for these multivariate observations and likelihoods of an observations. We also provide as a prune rule, keeping with the cell analogy, that if a cell has a $0$ in its Bernoulli observation, then its subtree is pruned from the full lineage tree. Though this will obviously introduce bias into estimation, we keep both the full tree and the pruned tree in the lineage objects, in the case a user would like to see the effects of analyzing on one versus the other.\n",
    "\n",
    "Ultimately, $E$ is defined as a $k\\times 1$ size list of state distribution objects. These distribution objects are rich in what they can already do, and a user can easily add more to their functionality. They only need to be instantiated by what parameters define that state's distribution."
   ]
  },
  {
   "cell_type": "code",
   "execution_count": 8,
   "metadata": {},
   "outputs": [],
   "source": [
    "# E: states are defined as StateDistribution objects\n",
    "\n",
    "# State 0 parameters \"Resistant\"\n",
    "state0 = 0\n",
    "bern_p0 = 0.8\n",
    "gamma_a0 = 5.0\n",
    "gamma_scale0 = 1.0\n",
    "\n",
    "# State 1 parameters \"Susciptible\"\n",
    "state1 = 1\n",
    "bern_p1 = 0.8\n",
    "gamma_a1 = 40.0\n",
    "gamma_scale1 = 8.0\n",
    "\n",
    "state_obj0 = StateDistribution(state0, bern_p0, gamma_a0, gamma_scale0)\n",
    "state_obj1 = StateDistribution(state1, bern_p1, gamma_a1, gamma_scale1)\n",
    "\n",
    "E = [state_obj0, state_obj1]"
   ]
  },
  {
   "cell_type": "markdown",
   "metadata": {},
   "source": [
    "The final required parameters are more obvious. The first is the desired number of cells one would like in their full unpruned lineage tree. This can be any number. The lineage tree is built 'from left to right'. What this means is that, we construct the binary tree by going to the left-most cell, dividing then walking through the generation. For example, if someone requested for"
   ]
  },
  {
   "cell_type": "code",
   "execution_count": 9,
   "metadata": {},
   "outputs": [],
   "source": [
    "desired_num_cells = 2**7 - 1 \n",
    "prune_boolean = True # To get the full tree"
   ]
  },
  {
   "cell_type": "code",
   "execution_count": 10,
   "metadata": {},
   "outputs": [
    {
     "name": "stdout",
     "output_type": "stream",
     "text": [
      "This tree is pruned. It is made of 2 states.\n",
      " For each state in this tree: \n",
      " \t There are 50 cells of state 0, \n",
      " \t There are 25 cells of state 1.\n",
      " This pruned tree has 75 cells in total\n"
     ]
    }
   ],
   "source": [
    "lineage1 = LineageTree(pi, T, E, desired_num_cells, prune_boolean)\n",
    "print(lineage1)"
   ]
  },
  {
   "cell_type": "markdown",
   "metadata": {},
   "source": [
    "### Obtaining how long the experiment ran by checking the time length of the longest branch"
   ]
  },
  {
   "cell_type": "code",
   "execution_count": 11,
   "metadata": {},
   "outputs": [
    {
     "name": "stdout",
     "output_type": "stream",
     "text": [
      "1747.627513159497\n"
     ]
    }
   ],
   "source": [
    "longest_branch_time = get_experiment_time(lineage1)\n",
    "print(longest_branch_time)"
   ]
  },
  {
   "cell_type": "markdown",
   "metadata": {},
   "source": [
    "### Estimation of distribution parameters using our estimators for full lineage"
   ]
  },
  {
   "cell_type": "code",
   "execution_count": 12,
   "metadata": {},
   "outputs": [
    {
     "name": "stdout",
     "output_type": "stream",
     "text": [
      "State 0:\n",
      "the number of gamma observations 85\n",
      "                    estimated state State object w/ parameters: 0.8117647058816194, 5.7822153475077425, 0.8167892182950564.\n",
      "original parameters given for state State object w/ parameters: 0.8, 5.0, 1.0.\n",
      "State 1:\n",
      "the number of gamma observations 42\n",
      "                    estimated state State object w/ parameters: 0.7857142857129252, 38.83780434247561, 7.912547553167613.\n",
      "original parameters given for state State object w/ parameters: 0.8, 40.0, 8.0.\n"
     ]
    }
   ],
   "source": [
    "for state in range(lineage1.num_states):\n",
    "    print(\"State {}:\".format(state))\n",
    "    print(\"                    estimated state\", E[state].estimator(lineage1.lineage_stats[state].full_lin_cells_obs))\n",
    "    print(\"original parameters given for state\", E[state])"
   ]
  },
  {
   "cell_type": "markdown",
   "metadata": {},
   "source": [
    "### Estimation of distribution parameters using our estimators for pruned lineage"
   ]
  },
  {
   "cell_type": "code",
   "execution_count": 13,
   "metadata": {},
   "outputs": [
    {
     "name": "stdout",
     "output_type": "stream",
     "text": [
      "State 0:\n",
      "the number of gamma observations 50\n",
      "                    estimated state State object w/ parameters: 0.7799999999988801, 5.626514193218392, 0.8325671841201683.\n",
      "original parameters given for state State object w/ parameters: 0.8, 5.0, 1.0.\n",
      "State 1:\n",
      "the number of gamma observations 25\n",
      "                    estimated state State object w/ parameters: 0.8399999999972799, 50.88053604130179, 5.638640910674033.\n",
      "original parameters given for state State object w/ parameters: 0.8, 40.0, 8.0.\n"
     ]
    }
   ],
   "source": [
    "for state in range(lineage1.num_states):\n",
    "    print(\"State {}:\".format(state))\n",
    "    print(\"                    estimated state\", E[state].estimator(lineage1.lineage_stats[state].pruned_lin_cells_obs))\n",
    "    print(\"original parameters given for state\", E[state])"
   ]
  },
  {
   "cell_type": "markdown",
   "metadata": {},
   "source": [
    "### Analyzing our first full lineage"
   ]
  },
  {
   "cell_type": "code",
   "execution_count": 14,
   "metadata": {},
   "outputs": [
    {
     "name": "stdout",
     "output_type": "stream",
     "text": [
      "[0, 0, 0, 0, 0, 0, 1, 0, 0, 0, 0, 0, 0, 0, 1, 0, 0, 0, 0, 0, 0, 0, 0, 0, 0, 1, 1, 0, 0, 0, 0, 0, 1, 1, 0, 0, 0, 0, 0, 0, 1, 1, 1, 1, 1, 0, 0, 0, 0, 0, 0, 0, 0, 1, 1, 1, 1, 0, 0, 0, 0, 0, 1, 0, 1, 1, 0, 1, 1, 1, 1, 1, 1, 1, 0]\n",
      "[[1.33587868e-001 1.80857494e-003]\n",
      " [1.41970707e-001 2.76787629e-003]\n",
      " [1.23076980e-002 2.85799314e-008]\n",
      " [1.21766589e-001 9.97401539e-004]\n",
      " [1.54568204e-001 5.42080778e-003]\n",
      " [2.09144818e-002 2.46246751e-007]\n",
      " [4.77235289e-106 0.00000000e+000]\n",
      " [7.57520560e-002 7.56187521e-005]\n",
      " [1.48702077e-001 3.93378283e-003]\n",
      " [2.33485067e-002 4.07889102e-004]\n",
      " [4.00790581e-002 1.15563890e-001]\n",
      " [6.63953145e-003 2.51920701e-009]\n",
      " [1.49419726e-001 4.08753952e-003]\n",
      " [4.70208858e-002 8.01067353e-006]\n",
      " [7.41919146e-097 2.94313691e-313]\n",
      " [9.59653504e-002 2.55634853e-004]\n",
      " [3.47029301e-003 8.06299416e-008]\n",
      " [3.82004370e-002 3.18310398e-006]\n",
      " [1.45200553e-001 3.27119543e-003]\n",
      " [1.56047285e-002 5.32200818e-005]\n",
      " [1.66628231e-001 1.15880705e-002]\n",
      " [2.06546763e-002 2.13509098e-004]\n",
      " [1.07129647e-001 4.68879020e-004]\n",
      " [1.36537009e-001 2.09876966e-003]\n",
      " [9.32628463e-002 2.19453209e-004]\n",
      " [8.36384313e-127 0.00000000e+000]\n",
      " [1.37847525e-073 4.97574080e-239]\n",
      " [4.18895380e-002 4.60385679e-002]\n",
      " [1.35868474e-001 2.02902970e-003]\n",
      " [1.66529902e-001 1.15040732e-002]\n",
      " [1.73494653e-001 2.24231706e-002]\n",
      " [7.07685109e-002 5.41163901e-005]\n",
      " [5.42462607e-107 0.00000000e+000]\n",
      " [2.80917505e-104 0.00000000e+000]\n",
      " [1.71179745e-001 1.70292290e-002]\n",
      " [1.75024297e-001 3.31999675e-002]\n",
      " [1.12579320e-001 6.23546812e-004]\n",
      " [2.59818532e-002 7.38162304e-004]\n",
      " [1.28587841e-001 1.40651240e-003]\n",
      " [4.80118671e-002 8.80154059e-006]\n",
      " [7.74772407e-096 5.20330690e-310]\n",
      " [3.27574602e-119 0.00000000e+000]\n",
      " [4.37391165e-110 0.00000000e+000]\n",
      " [4.94242396e-092 7.00994923e-298]\n",
      " [6.89942532e-114 0.00000000e+000]\n",
      " [1.70159894e-001 6.79041137e-002]\n",
      " [4.75884813e-002 8.45624458e-006]\n",
      " [2.03763439e-002 2.21103373e-007]\n",
      " [1.72528742e-001 1.97283858e-002]\n",
      " [2.58604711e-002 5.96917464e-007]\n",
      " [1.20848708e-001 9.52102211e-004]\n",
      " [1.94923008e-003 8.16072043e-009]\n",
      " [1.53197995e-002 6.89277270e-008]\n",
      " [1.90396786e-090 7.97617791e-293]\n",
      " [1.13752235e-099 3.11261357e-322]\n",
      " [1.34762551e-097 1.28139132e-315]\n",
      " [1.70844987e-092 2.37046890e-299]\n",
      " [5.55671110e-002 1.71765537e-005]\n",
      " [1.42279405e-001 2.81214389e-003]\n",
      " [3.51982754e-002 5.26287869e-003]\n",
      " [3.76468086e-002 9.24295882e-003]\n",
      " [4.18954481e-002 5.49300655e-002]\n",
      " [4.04689742e-105 0.00000000e+000]\n",
      " [9.32872744e-002 2.19758718e-004]\n",
      " [2.70409530e-095 2.79692831e-308]\n",
      " [8.51258133e-132 0.00000000e+000]\n",
      " [1.75019313e-001 3.63988727e-002]\n",
      " [3.58776918e-101 0.00000000e+000]\n",
      " [1.14956811e-082 5.24043843e-268]\n",
      " [2.77021585e-088 8.79478032e-284]\n",
      " [1.30136962e-115 0.00000000e+000]\n",
      " [7.18471159e-120 0.00000000e+000]\n",
      " [2.70817295e-090 2.45311733e-292]\n",
      " [7.08872597e-072 1.44971254e-233]\n",
      " [1.21106190e-001 9.64605139e-004]]\n",
      "[0.00000000e+000 0.00000000e+000 0.00000000e+000 0.00000000e+000\n",
      " 0.00000000e+000 0.00000000e+000 0.00000000e+000 0.00000000e+000\n",
      " 0.00000000e+000 1.18781979e-002 7.78214740e-002 0.00000000e+000\n",
      " 0.00000000e+000 0.00000000e+000 0.00000000e+000 0.00000000e+000\n",
      " 1.73518682e-003 0.00000000e+000 0.00000000e+000 7.82897427e-003\n",
      " 0.00000000e+000 1.04340927e-002 0.00000000e+000 0.00000000e+000\n",
      " 0.00000000e+000 0.00000000e+000 0.00000000e+000 4.39640529e-002\n",
      " 0.00000000e+000 0.00000000e+000 0.00000000e+000 0.00000000e+000\n",
      " 0.00000000e+000 0.00000000e+000 0.00000000e+000 0.00000000e+000\n",
      " 0.00000000e+000 1.33600077e-002 0.00000000e+000 0.00000000e+000\n",
      " 0.00000000e+000 0.00000000e+000 0.00000000e+000 0.00000000e+000\n",
      " 3.44971266e-114 1.19032004e-001 2.37984688e-002 1.01882825e-002\n",
      " 9.61285638e-002 1.29305340e-002 6.09004051e-002 9.74619119e-004\n",
      " 7.65993423e-003 9.51983929e-091 5.68761176e-100 6.73812755e-098\n",
      " 8.54224933e-093 2.77921438e-002 7.25457745e-002 2.02305771e-002\n",
      " 2.34448837e-002 4.84127568e-002 2.02344871e-105 4.67535166e-002\n",
      " 1.35204765e-095 4.25629067e-132 1.05709093e-001 1.79388459e-101\n",
      " 5.74784055e-083 1.38510792e-088 6.50684809e-116 3.59235579e-120\n",
      " 1.35408648e-090 3.54436298e-072 6.10353974e-002]\n",
      "[-5966.485530283834]\n",
      "the number of gamma observations 72\n",
      "the number of gamma observations 3\n",
      "[[1.75670850e-002 9.72943880e-044]\n",
      " [1.81896884e-002 2.68605771e-039]\n",
      " [1.03351424e-002 1.87092587e-178]\n",
      " [1.67907756e-002 3.94158099e-050]\n",
      " [1.93182088e-002 1.50065177e-032]\n",
      " [1.11147946e-002 1.25007108e-150]\n",
      " [3.66106828e-004 0.00000000e+000]\n",
      " [1.42817121e-002 1.35169741e-079]\n",
      " [1.87550966e-002 1.00588096e-035]\n",
      " [3.08197422e-003 6.48433722e-054]\n",
      " [5.54133546e-003 2.02685948e-001]\n",
      " [9.60699980e-003 2.68873010e-210]\n",
      " [1.88199103e-002 2.43544307e-035]\n",
      " [1.27794863e-002 8.94706174e-107]\n",
      " [4.26469935e-004 0.00000000e+000]\n",
      " [1.53272723e-002 2.20184831e-065]\n",
      " [2.11149954e-003 1.89130416e-159]\n",
      " [1.22754415e-002 3.13622813e-118]\n",
      " [1.84521572e-002 1.37733050e-037]\n",
      " [2.74815891e-003 7.39975775e-078]\n",
      " [2.08812042e-002 1.98540315e-025]\n",
      " [2.96410551e-003 2.15711035e-061]\n",
      " [1.59335146e-002 1.71458732e-058]\n",
      " [1.77777673e-002 3.58452508e-042]\n",
      " [1.51846248e-002 3.87153579e-067]\n",
      " [2.63468735e-004 0.00000000e+000]\n",
      " [6.44853944e-004 0.00000000e+000]\n",
      " [4.73505456e-003 8.59636452e-007]\n",
      " [1.77292868e-002 1.58469217e-042]\n",
      " [2.08643979e-002 1.70908313e-025]\n",
      " [2.26022755e-002 7.69662761e-020]\n",
      " [1.40273682e-002 1.42218693e-083]\n",
      " [3.60508396e-004 0.00000000e+000]\n",
      " [3.76882844e-004 0.00000000e+000]\n",
      " [2.18336464e-002 4.35173780e-022]\n",
      " [2.38607169e-002 6.95213585e-017]\n",
      " [1.62425595e-002 2.64394742e-055]\n",
      " [3.20224732e-003 3.40892205e-047]\n",
      " [1.72268431e-002 2.04873316e-046]\n",
      " [1.28340704e-002 1.29475030e-105]\n",
      " [4.33882561e-004 0.00000000e+000]\n",
      " [2.96511354e-004 0.00000000e+000]\n",
      " [3.42873069e-004 0.00000000e+000]\n",
      " [4.63005289e-004 0.00000000e+000]\n",
      " [6.51596979e-005 0.00000000e+000]\n",
      " [2.68862145e-002 1.47071121e-012]\n",
      " [1.28107917e-002 4.15985083e-106]\n",
      " [1.10721251e-002 5.20253296e-152]\n",
      " [2.22344001e-002 7.18653018e-021]\n",
      " [1.14827205e-002 2.50712113e-139]\n",
      " [1.67341845e-002 1.22593114e-050]\n",
      " [1.96609609e-003 2.36010835e-189]\n",
      " [1.06361971e-002 4.99713101e-167]\n",
      " [4.75854401e-004 0.00000000e+000]\n",
      " [4.06783484e-004 0.00000000e+000]\n",
      " [4.21177424e-004 0.00000000e+000]\n",
      " [4.59348121e-004 0.00000000e+000]\n",
      " [1.32405969e-002 2.02363099e-097]\n",
      " [1.82141504e-002 3.91167369e-039]\n",
      " [3.72123087e-003 3.78251449e-026]\n",
      " [3.92098447e-003 1.36518940e-020]\n",
      " [4.86052729e-003 1.48790589e-005]\n",
      " [3.71712597e-004 0.00000000e+000]\n",
      " [1.51859085e-002 4.01713703e-067]\n",
      " [4.37896733e-004 0.00000000e+000]\n",
      " [2.44068429e-004 0.00000000e+000]\n",
      " [2.41891833e-002 3.05300368e-016]\n",
      " [8.01708706e-005 0.00000000e+000]\n",
      " [5.45787043e-004 0.00000000e+000]\n",
      " [9.99007317e-005 0.00000000e+000]\n",
      " [6.33929453e-005 0.00000000e+000]\n",
      " [2.93459542e-004 0.00000000e+000]\n",
      " [4.77117611e-004 0.00000000e+000]\n",
      " [6.66084615e-004 0.00000000e+000]\n",
      " [1.67500141e-002 1.70191880e-050]]\n",
      "[0.00000000e+00 0.00000000e+00 0.00000000e+00 0.00000000e+00\n",
      " 0.00000000e+00 0.00000000e+00 0.00000000e+00 0.00000000e+00\n",
      " 0.00000000e+00 2.93346041e-03 1.50413172e-02 0.00000000e+00\n",
      " 0.00000000e+00 0.00000000e+00 0.00000000e+00 0.00000000e+00\n",
      " 2.00974920e-03 0.00000000e+00 0.00000000e+00 2.61572881e-03\n",
      " 0.00000000e+00 2.82126923e-03 0.00000000e+00 0.00000000e+00\n",
      " 0.00000000e+00 0.00000000e+00 0.00000000e+00 4.50691993e-03\n",
      " 0.00000000e+00 0.00000000e+00 0.00000000e+00 0.00000000e+00\n",
      " 0.00000000e+00 0.00000000e+00 0.00000000e+00 0.00000000e+00\n",
      " 0.00000000e+00 3.04793523e-03 0.00000000e+00 0.00000000e+00\n",
      " 0.00000000e+00 0.00000000e+00 0.00000000e+00 0.00000000e+00\n",
      " 6.20197377e-05 2.55906032e-02 1.21934565e-02 1.05385739e-02\n",
      " 2.11629535e-02 1.09293833e-02 1.59277862e-02 1.87135250e-03\n",
      " 1.01236527e-02 4.52923602e-04 3.87181123e-04 4.00881437e-04\n",
      " 4.37212738e-04 1.26025499e-02 1.73364344e-02 3.54190965e-03\n",
      " 3.73203738e-03 4.62702187e-03 3.53800256e-04 1.44541196e-02\n",
      " 4.16795064e-04 2.32307092e-04 2.30235384e-02 7.63075417e-05\n",
      " 5.19486283e-04 9.50866467e-05 6.03381225e-05 2.79318112e-04\n",
      " 4.54125940e-04 6.33986872e-04 1.59428529e-02]\n",
      "[-428.1160581160227]\n",
      "the number of gamma observations 74\n",
      "the number of gamma observations 1\n",
      "[[1.73361703e-02            nan]\n",
      " [1.79584603e-02            nan]\n",
      " [1.01319162e-02            nan]\n",
      " [1.65606493e-02            nan]\n",
      " [1.90871032e-02            nan]\n",
      " [1.09060679e-02            nan]\n",
      " [3.46840390e-04            nan]\n",
      " [1.40573993e-02            nan]\n",
      " [1.85238209e-02            nan]\n",
      " [3.54253649e-03            nan]\n",
      " [6.41672943e-03            nan]\n",
      " [9.40959073e-03            nan]\n",
      " [1.85886433e-02            nan]\n",
      " [1.25613045e-02            nan]\n",
      " [4.04518194e-04            nan]\n",
      " [1.50999021e-02            nan]\n",
      " [2.41561330e-03            nan]\n",
      " [1.20598113e-02            nan]\n",
      " [1.82208793e-02            nan]\n",
      " [3.15430366e-03            nan]\n",
      " [2.06516557e-02            nan]\n",
      " [3.40538824e-03            nan]\n",
      " [1.57047947e-02            nan]\n",
      " [1.75467154e-02            nan]\n",
      " [1.49576165e-02            nan]\n",
      " [2.48968828e-04            nan]\n",
      " [6.13756531e-04            nan]\n",
      " [5.47217621e-03            nan]\n",
      " [1.74982636e-02            nan]\n",
      " [2.06348245e-02            nan]\n",
      " [2.23761760e-02            nan]\n",
      " [1.38039449e-02            nan]\n",
      " [3.41495101e-04            nan]\n",
      " [3.57131176e-04            nan]\n",
      " [2.16057907e-02            nan]\n",
      " [2.36382123e-02            nan]\n",
      " [1.60132660e-02            nan]\n",
      " [3.68255190e-03            nan]\n",
      " [1.69962186e-02            nan]\n",
      " [1.26156276e-02            nan]\n",
      " [4.11606355e-04            nan]\n",
      " [2.80446300e-04            nan]\n",
      " [3.24662011e-04            nan]\n",
      " [4.39464846e-04            nan]\n",
      " [7.19533190e-05            nan]\n",
      " [2.66757619e-02            nan]\n",
      " [1.25924599e-02            nan]\n",
      " [1.08636809e-02            nan]\n",
      " [2.20074174e-02            nan]\n",
      " [1.12716446e-02            nan]\n",
      " [1.65041335e-02            nan]\n",
      " [2.24728307e-03            nan]\n",
      " [1.04307606e-02            nan]\n",
      " [4.51761346e-04            nan]\n",
      " [3.85698925e-04            nan]\n",
      " [3.99458030e-04            nan]\n",
      " [4.35965535e-04            nan]\n",
      " [1.30203040e-02            nan]\n",
      " [1.79829155e-02            nan]\n",
      " [4.28746960e-03            nan]\n",
      " [4.52059640e-03            nan]\n",
      " [5.61903973e-03            nan]\n",
      " [3.52193409e-04            nan]\n",
      " [1.49588969e-02            nan]\n",
      " [4.15445279e-04            nan]\n",
      " [2.30502694e-04            nan]\n",
      " [2.39677592e-02            nan]\n",
      " [8.86742639e-05            nan]\n",
      " [5.18738537e-04            nan]\n",
      " [1.10693679e-04            nan]\n",
      " [6.99874160e-05            nan]\n",
      " [2.77537743e-04            nan]\n",
      " [4.52970395e-04            nan]\n",
      " [6.34138746e-04            nan]\n",
      " [1.65199417e-02            nan]]\n"
     ]
    },
    {
     "name": "stderr",
     "output_type": "stream",
     "text": [
      "/usr/local/lib/python3.7/dist-packages/scipy/stats/_distn_infrastructure.py:1720: RuntimeWarning: divide by zero encountered in double_scalars\n",
      "  x = np.asarray((x - loc)/scale, dtype=dtyp)\n"
     ]
    },
    {
     "ename": "AssertionError",
     "evalue": "[ 0.  0.  0.  0.  0.  0.  0.  0.  0. nan  0.  0.  0.  0.  0.  0.  0.  0.\n  0.  0.  0.  0.  0.  0.  0.  0.  0.  0.  0.  0.  0.  0.  0.  0.  0.  0.\n  0.  0.  0.  0.  0.  0.  0.  0.  0.  0.  0.  0.  0.  0.  0.  0.  0.  0.\n  0.  0.  0.  0.  0.  0.  0.  0.  0.  0.  0.  0.  0.  0.  0.  0.  0.  0.\n  0.  0.  0.] and nan and [0.99139128 0.00860872] and [0.00354254        nan]",
     "output_type": "error",
     "traceback": [
      "\u001b[0;31m---------------------------------------------------------------------------\u001b[0m",
      "\u001b[0;31mAssertionError\u001b[0m                            Traceback (most recent call last)",
      "\u001b[0;32m<ipython-input-14-1184690b036f>\u001b[0m in \u001b[0;36m<module>\u001b[0;34m\u001b[0m\n\u001b[1;32m      4\u001b[0m \u001b[0mstates\u001b[0m \u001b[0;34m=\u001b[0m \u001b[0;34m[\u001b[0m\u001b[0mcell\u001b[0m\u001b[0;34m.\u001b[0m\u001b[0mstate\u001b[0m \u001b[0;32mfor\u001b[0m \u001b[0mcell\u001b[0m \u001b[0;32min\u001b[0m \u001b[0mlineage1\u001b[0m\u001b[0;34m.\u001b[0m\u001b[0moutput_lineage\u001b[0m\u001b[0;34m]\u001b[0m\u001b[0;34m\u001b[0m\u001b[0;34m\u001b[0m\u001b[0m\n\u001b[1;32m      5\u001b[0m \u001b[0mprint\u001b[0m\u001b[0;34m(\u001b[0m\u001b[0mstates\u001b[0m\u001b[0;34m)\u001b[0m\u001b[0;34m\u001b[0m\u001b[0;34m\u001b[0m\u001b[0m\n\u001b[0;32m----> 6\u001b[0;31m \u001b[0mdeltas\u001b[0m\u001b[0;34m,\u001b[0m \u001b[0mstate_ptrs\u001b[0m\u001b[0;34m,\u001b[0m \u001b[0mall_states\u001b[0m\u001b[0;34m,\u001b[0m \u001b[0mtHMMobj\u001b[0m\u001b[0;34m,\u001b[0m \u001b[0mNF\u001b[0m\u001b[0;34m,\u001b[0m \u001b[0mLL\u001b[0m \u001b[0;34m=\u001b[0m \u001b[0mAnalyze\u001b[0m\u001b[0;34m(\u001b[0m\u001b[0mX\u001b[0m\u001b[0;34m,\u001b[0m \u001b[0;36m2\u001b[0m\u001b[0;34m)\u001b[0m \u001b[0;31m# find two states\u001b[0m\u001b[0;34m\u001b[0m\u001b[0;34m\u001b[0m\u001b[0m\n\u001b[0m",
      "\u001b[0;32m~/Projects/CAPSTONE/lineage/Analyze.py\u001b[0m in \u001b[0;36mAnalyze\u001b[0;34m(X, numStates)\u001b[0m\n\u001b[1;32m     27\u001b[0m \u001b[0;34m\u001b[0m\u001b[0m\n\u001b[1;32m     28\u001b[0m     \u001b[0mtHMMobj\u001b[0m \u001b[0;34m=\u001b[0m \u001b[0mtHMM\u001b[0m\u001b[0;34m(\u001b[0m\u001b[0mX\u001b[0m\u001b[0;34m,\u001b[0m \u001b[0mnumStates\u001b[0m\u001b[0;34m=\u001b[0m\u001b[0mnumStates\u001b[0m\u001b[0;34m)\u001b[0m  \u001b[0;31m# build the tHMM class with X\u001b[0m\u001b[0;34m\u001b[0m\u001b[0;34m\u001b[0m\u001b[0m\n\u001b[0;32m---> 29\u001b[0;31m     \u001b[0mfit\u001b[0m\u001b[0;34m(\u001b[0m\u001b[0mtHMMobj\u001b[0m\u001b[0;34m,\u001b[0m \u001b[0mmax_iter\u001b[0m\u001b[0;34m=\u001b[0m\u001b[0;36m200\u001b[0m\u001b[0;34m)\u001b[0m\u001b[0;34m\u001b[0m\u001b[0;34m\u001b[0m\u001b[0m\n\u001b[0m\u001b[1;32m     30\u001b[0m \u001b[0;34m\u001b[0m\u001b[0m\n\u001b[1;32m     31\u001b[0m     \u001b[0mdeltas\u001b[0m\u001b[0;34m,\u001b[0m \u001b[0mstate_ptrs\u001b[0m \u001b[0;34m=\u001b[0m \u001b[0mget_leaf_deltas\u001b[0m\u001b[0;34m(\u001b[0m\u001b[0mtHMMobj\u001b[0m\u001b[0;34m)\u001b[0m  \u001b[0;31m# gets the deltas matrix\u001b[0m\u001b[0;34m\u001b[0m\u001b[0;34m\u001b[0m\u001b[0m\n",
      "\u001b[0;32m~/Projects/CAPSTONE/lineage/BaumWelch.py\u001b[0m in \u001b[0;36mfit\u001b[0;34m(tHMMobj, tolerance, max_iter)\u001b[0m\n\u001b[1;32m    127\u001b[0m         \u001b[0mtHMMobj\u001b[0m\u001b[0;34m.\u001b[0m\u001b[0mEL\u001b[0m \u001b[0;34m=\u001b[0m \u001b[0mtHMMobj\u001b[0m\u001b[0;34m.\u001b[0m\u001b[0mget_Emission_Likelihoods\u001b[0m\u001b[0;34m(\u001b[0m\u001b[0;34m)\u001b[0m\u001b[0;34m\u001b[0m\u001b[0;34m\u001b[0m\u001b[0m\n\u001b[1;32m    128\u001b[0m \u001b[0;34m\u001b[0m\u001b[0m\n\u001b[0;32m--> 129\u001b[0;31m         \u001b[0mNF\u001b[0m \u001b[0;34m=\u001b[0m \u001b[0mget_leaf_Normalizing_Factors\u001b[0m\u001b[0;34m(\u001b[0m\u001b[0mtHMMobj\u001b[0m\u001b[0;34m)\u001b[0m\u001b[0;34m\u001b[0m\u001b[0;34m\u001b[0m\u001b[0m\n\u001b[0m\u001b[1;32m    130\u001b[0m         \u001b[0mbetas\u001b[0m \u001b[0;34m=\u001b[0m \u001b[0mget_leaf_betas\u001b[0m\u001b[0;34m(\u001b[0m\u001b[0mtHMMobj\u001b[0m\u001b[0;34m,\u001b[0m \u001b[0mNF\u001b[0m\u001b[0;34m)\u001b[0m\u001b[0;34m\u001b[0m\u001b[0;34m\u001b[0m\u001b[0m\n\u001b[1;32m    131\u001b[0m         \u001b[0mget_nonleaf_NF_and_betas\u001b[0m\u001b[0;34m(\u001b[0m\u001b[0mtHMMobj\u001b[0m\u001b[0;34m,\u001b[0m \u001b[0mNF\u001b[0m\u001b[0;34m,\u001b[0m \u001b[0mbetas\u001b[0m\u001b[0;34m)\u001b[0m\u001b[0;34m\u001b[0m\u001b[0;34m\u001b[0m\u001b[0m\n",
      "\u001b[0;32m~/Projects/CAPSTONE/lineage/UpwardRecursion.py\u001b[0m in \u001b[0;36mget_leaf_Normalizing_Factors\u001b[0;34m(tHMMobj)\u001b[0m\n\u001b[1;32m     49\u001b[0m             \u001b[0;31m# the sum of the joint probabilities is the marginal probability\u001b[0m\u001b[0;34m\u001b[0m\u001b[0;34m\u001b[0m\u001b[0;34m\u001b[0m\u001b[0m\n\u001b[1;32m     50\u001b[0m             \u001b[0mNF_array\u001b[0m\u001b[0;34m[\u001b[0m\u001b[0mleaf_cell_idx\u001b[0m\u001b[0;34m]\u001b[0m \u001b[0;34m=\u001b[0m \u001b[0mnp\u001b[0m\u001b[0;34m.\u001b[0m\u001b[0msum\u001b[0m\u001b[0;34m(\u001b[0m\u001b[0mMSD_array\u001b[0m\u001b[0;34m[\u001b[0m\u001b[0mleaf_cell_idx\u001b[0m\u001b[0;34m,\u001b[0m \u001b[0;34m:\u001b[0m\u001b[0;34m]\u001b[0m \u001b[0;34m*\u001b[0m \u001b[0mEL_array\u001b[0m\u001b[0;34m[\u001b[0m\u001b[0mleaf_cell_idx\u001b[0m\u001b[0;34m,\u001b[0m \u001b[0;34m:\u001b[0m\u001b[0;34m]\u001b[0m\u001b[0;34m)\u001b[0m  \u001b[0;31m# def of conditional prob\u001b[0m\u001b[0;34m\u001b[0m\u001b[0;34m\u001b[0m\u001b[0m\n\u001b[0;32m---> 51\u001b[0;31m             \u001b[0;32massert\u001b[0m \u001b[0mNF_array\u001b[0m\u001b[0;34m[\u001b[0m\u001b[0mleaf_cell_idx\u001b[0m\u001b[0;34m]\u001b[0m \u001b[0;34m>\u001b[0m \u001b[0;36m0.0\u001b[0m\u001b[0;34m,\u001b[0m \u001b[0;34m\"{} and {} and {} and {}\"\u001b[0m\u001b[0;34m.\u001b[0m\u001b[0mformat\u001b[0m\u001b[0;34m(\u001b[0m\u001b[0mNF_array\u001b[0m\u001b[0;34m,\u001b[0m \u001b[0mNF_array\u001b[0m\u001b[0;34m[\u001b[0m\u001b[0mleaf_cell_idx\u001b[0m\u001b[0;34m]\u001b[0m\u001b[0;34m,\u001b[0m \u001b[0mMSD_array\u001b[0m\u001b[0;34m[\u001b[0m\u001b[0mleaf_cell_idx\u001b[0m\u001b[0;34m,\u001b[0m \u001b[0;34m:\u001b[0m\u001b[0;34m]\u001b[0m\u001b[0;34m,\u001b[0m \u001b[0mEL_array\u001b[0m\u001b[0;34m[\u001b[0m\u001b[0mleaf_cell_idx\u001b[0m\u001b[0;34m,\u001b[0m \u001b[0;34m:\u001b[0m\u001b[0;34m]\u001b[0m\u001b[0;34m)\u001b[0m\u001b[0;34m\u001b[0m\u001b[0;34m\u001b[0m\u001b[0m\n\u001b[0m\u001b[1;32m     52\u001b[0m         \u001b[0mprint\u001b[0m\u001b[0;34m(\u001b[0m\u001b[0mNF_array\u001b[0m\u001b[0;34m)\u001b[0m\u001b[0;34m\u001b[0m\u001b[0;34m\u001b[0m\u001b[0m\n\u001b[1;32m     53\u001b[0m         \u001b[0mNF\u001b[0m\u001b[0;34m.\u001b[0m\u001b[0mappend\u001b[0m\u001b[0;34m(\u001b[0m\u001b[0mNF_array\u001b[0m\u001b[0;34m)\u001b[0m\u001b[0;34m\u001b[0m\u001b[0;34m\u001b[0m\u001b[0m\n",
      "\u001b[0;31mAssertionError\u001b[0m: [ 0.  0.  0.  0.  0.  0.  0.  0.  0. nan  0.  0.  0.  0.  0.  0.  0.  0.\n  0.  0.  0.  0.  0.  0.  0.  0.  0.  0.  0.  0.  0.  0.  0.  0.  0.  0.\n  0.  0.  0.  0.  0.  0.  0.  0.  0.  0.  0.  0.  0.  0.  0.  0.  0.  0.\n  0.  0.  0.  0.  0.  0.  0.  0.  0.  0.  0.  0.  0.  0.  0.  0.  0.  0.\n  0.  0.  0.] and nan and [0.99139128 0.00860872] and [0.00354254        nan]"
     ]
    }
   ],
   "source": [
    "from lineage.Analyze import Analyze\n",
    "\n",
    "X = [lineage1] # population just contains one lineage\n",
    "states = [cell.state for cell in lineage1.output_lineage]\n",
    "print(states)\n",
    "deltas, state_ptrs, all_states, tHMMobj, NF, LL = Analyze(X, 2) # find two states"
   ]
  },
  {
   "cell_type": "code",
   "execution_count": null,
   "metadata": {},
   "outputs": [],
   "source": [
    "for num, lineageObj in enumerate(X):\n",
    "    lin_estimated_states = all_states[num]\n",
    "    lin_true_states = [cell.state for cell in lineageObj.output_lineage]\n",
    "    total = len(lin_estimated_states)\n",
    "    assert total == len(lin_true_states)\n",
    "    counter = [1 if a==b else 0 for (a,b) in zip(lin_estimated_states,lin_true_states)]\n",
    "    print(\"Accuracy or 1-Accuracy is {}\".format(sum(counter)/total))"
   ]
  },
  {
   "cell_type": "code",
   "execution_count": null,
   "metadata": {},
   "outputs": [],
   "source": []
  },
  {
   "cell_type": "markdown",
   "metadata": {},
   "source": [
    "### Estimated Markov parameters ($\\pi$, $T$, $E$)"
   ]
  },
  {
   "cell_type": "code",
   "execution_count": null,
   "metadata": {},
   "outputs": [],
   "source": [
    "print(tHMMobj.estimate.pi)"
   ]
  },
  {
   "cell_type": "code",
   "execution_count": null,
   "metadata": {},
   "outputs": [],
   "source": [
    "print(tHMMobj.estimate.T)"
   ]
  },
  {
   "cell_type": "code",
   "execution_count": null,
   "metadata": {},
   "outputs": [],
   "source": [
    "for state in range(tHMMobj.numStates):\n",
    "    print(tHMMobj.estimate.E[state])"
   ]
  },
  {
   "cell_type": "markdown",
   "metadata": {},
   "source": [
    "## Trying another lineage, this time pruning branches with ancestors that die"
   ]
  },
  {
   "cell_type": "code",
   "execution_count": null,
   "metadata": {},
   "outputs": [],
   "source": [
    "desired_num_cells = 2**12 -1 \n",
    "prune_boolean = True # To get pruned tree"
   ]
  },
  {
   "cell_type": "code",
   "execution_count": null,
   "metadata": {},
   "outputs": [],
   "source": [
    "lineage2 = LineageTree(pi, T, E, desired_num_cells, prune_boolean)\n",
    "print(lineage2)"
   ]
  },
  {
   "cell_type": "code",
   "execution_count": null,
   "metadata": {},
   "outputs": [],
   "source": [
    "longest2 = get_experiment_time(lineage2)\n",
    "print(longest2)"
   ]
  },
  {
   "cell_type": "markdown",
   "metadata": {},
   "source": [
    "### Estimation of distribution parameters using our estimators for pruned lineage"
   ]
  },
  {
   "cell_type": "code",
   "execution_count": null,
   "metadata": {},
   "outputs": [],
   "source": [
    "for state in range(lineage2.num_states):\n",
    "    print(\"State {}:\".format(state))\n",
    "    print(\"                    estimated state\", E[state].estimator(lineage2.lineage_stats[state].pruned_lin_cells_obs))\n",
    "    print(\"original parameters given for state\", E[state])"
   ]
  },
  {
   "cell_type": "markdown",
   "metadata": {},
   "source": [
    "### Analyzing a population of lineages"
   ]
  },
  {
   "cell_type": "code",
   "execution_count": null,
   "metadata": {},
   "outputs": [],
   "source": [
    "X = [lineage1, lineage2] # population just contains one lineage\n",
    "\n",
    "deltas, state_ptrs, all_states, tHMMobj, NF, LL = Analyze(X, 2) # find two states"
   ]
  },
  {
   "cell_type": "code",
   "execution_count": null,
   "metadata": {},
   "outputs": [],
   "source": [
    "for num, lineageObj in enumerate(X):\n",
    "    lin_estimated_states = all_states[num]\n",
    "    lin_true_states = [cell.state for cell in lineageObj.output_lineage]\n",
    "    total = len(lin_estimated_states)\n",
    "    assert total == len(lin_true_states)\n",
    "    counter = [1 if a==b else 0 for (a,b) in zip(lin_estimated_states,lin_true_states)]\n",
    "    print(\"Accuracy or 1-Accuracy is {}\".format(sum(counter)/total))"
   ]
  },
  {
   "cell_type": "markdown",
   "metadata": {},
   "source": [
    "### Estimated Markov parameters ($\\pi$, $T$, $E$)"
   ]
  },
  {
   "cell_type": "code",
   "execution_count": null,
   "metadata": {},
   "outputs": [],
   "source": [
    "print(tHMMobj.estimate.pi)"
   ]
  },
  {
   "cell_type": "code",
   "execution_count": null,
   "metadata": {},
   "outputs": [],
   "source": [
    "print(tHMMobj.estimate.T)"
   ]
  },
  {
   "cell_type": "code",
   "execution_count": null,
   "metadata": {},
   "outputs": [],
   "source": [
    "for state in range(tHMMobj.numStates):\n",
    "    print(tHMMobj.estimate.E[state])"
   ]
  },
  {
   "cell_type": "markdown",
   "metadata": {},
   "source": [
    "## Creating a synthetic lineage that has three states"
   ]
  },
  {
   "cell_type": "markdown",
   "metadata": {},
   "source": [
    "Here we generate a lineage with three states, which would be 1) Susciptible 2) Middle State 3) Resistant. The aim here is to show the transition from susciptible to resistant state doesn't happen immediately, and there is a gradual transition which is modeled as a middle state. The point to be considered here is that transition from 1 to 3 or otherwise is not possible so the probability of these transitions are zero, and most likely the initial cells are in susciptible state.\n",
    "\n",
    "**State 1**: Susceptible\n",
    "\n",
    "**State 2**: Transition state\n",
    "\n",
    "**State 3**: Resistant state\n"
   ]
  },
  {
   "cell_type": "code",
   "execution_count": null,
   "metadata": {},
   "outputs": [],
   "source": [
    "# pi: the initial probability vector\n",
    "pi_3 = np.array([0.5, 0.25, 0.25])\n",
    "\n",
    "# T: transition probability matrix\n",
    "T_3 = np.array([[0.65, 0.35, 0.00],\n",
    "                [0.20, 0.40, 0.40],\n",
    "                [0.00, 0.10, 0.90]])"
   ]
  },
  {
   "cell_type": "code",
   "execution_count": null,
   "metadata": {},
   "outputs": [],
   "source": [
    "# E: states are defined as StateDistribution objects\n",
    "\n",
    "# State 0 parameters \"Susciptible\"\n",
    "state0 = 0\n",
    "bern_p0 = 0.7\n",
    "expon_scale_beta0 = 20\n",
    "gamma_a0 = 5.0\n",
    "gamma_scale0 = 1.0\n",
    "\n",
    "# State 1 parameters \"Middle state\"\n",
    "state1 = 1\n",
    "bern_p1 = 0.85\n",
    "expon_scale_beta1 = 60\n",
    "gamma_a1 = 10.0\n",
    "gamma_scale1 = 2.0\n",
    "\n",
    "# State 2 parameters \"Resistant\"\n",
    "state2 = 2\n",
    "bern_p2 = 0.99\n",
    "expon_scale_beta2 = 80\n",
    "gamma_a2 = 15.0\n",
    "gamma_scale2 = 3.0\n",
    "\n",
    "state_obj0 = StateDistribution(state0, bern_p0, gamma_a0, gamma_scale0)\n",
    "state_obj1 = StateDistribution(state1, bern_p1, gamma_a1, gamma_scale1)\n",
    "state_obj2 = StateDistribution(state2, bern_p2, gamma_a2, gamma_scale2)\n",
    "\n",
    "E_3 = [state_obj0, state_obj1, state_obj2]"
   ]
  },
  {
   "cell_type": "code",
   "execution_count": null,
   "metadata": {},
   "outputs": [],
   "source": [
    "desired_num_cells = 2**13 - 1 \n",
    "prune_boolean = False # To get the full tree"
   ]
  },
  {
   "cell_type": "code",
   "execution_count": null,
   "metadata": {},
   "outputs": [],
   "source": [
    "lineage3 = LineageTree(pi_3, T_3, E_3, desired_num_cells, prune_boolean)\n",
    "print(lineage3)"
   ]
  },
  {
   "cell_type": "code",
   "execution_count": null,
   "metadata": {},
   "outputs": [],
   "source": [
    "longest3 = get_experiment_time(lineage3)\n",
    "print(longest3)"
   ]
  },
  {
   "cell_type": "markdown",
   "metadata": {},
   "source": [
    "### Estimation of distribution parameters using our estimators for full lineage (3 state)"
   ]
  },
  {
   "cell_type": "code",
   "execution_count": null,
   "metadata": {},
   "outputs": [],
   "source": [
    "for state in range(lineage3.num_states):\n",
    "    print(\"State {}:\".format(state))\n",
    "    print(\"estimated state\", E_3[state].estimator(lineage3.lineage_stats[state].full_lin_cells_obs))\n",
    "    print(\"estimated state\", E_3[state].estimator(lineage3.lineage_stats[state].pruned_lin_cells_obs))\n",
    "    print(\"true_____ state\", E_3[state])"
   ]
  },
  {
   "cell_type": "markdown",
   "metadata": {},
   "source": [
    "### Analyzing a three state lineage"
   ]
  },
  {
   "cell_type": "code",
   "execution_count": null,
   "metadata": {},
   "outputs": [],
   "source": [
    "X = [lineage3] # population just contains one lineage\n",
    "\n",
    "deltas, state_ptrs, all_states, tHMMobj, NF, LL = Analyze(X, 3) # find three states"
   ]
  },
  {
   "cell_type": "code",
   "execution_count": null,
   "metadata": {},
   "outputs": [],
   "source": [
    "for num, lineageObj in enumerate(X):\n",
    "    lin_estimated_states = all_states[num]\n",
    "    lin_true_states = [cell.state for cell in lineageObj.output_lineage]\n",
    "    total = len(lin_estimated_states)\n",
    "    assert total == len(lin_true_states)\n",
    "    counter = [1 if a==b else 0 for (a,b) in zip(lin_estimated_states,lin_true_states)]\n",
    "    print(\"Accuracy {}\".format(sum(counter)/total))"
   ]
  },
  {
   "cell_type": "markdown",
   "metadata": {},
   "source": [
    "### Estimated Markov parameters ($\\pi$, $T$, $E$)"
   ]
  },
  {
   "cell_type": "code",
   "execution_count": null,
   "metadata": {},
   "outputs": [],
   "source": [
    "print(tHMMobj.estimate.pi)"
   ]
  },
  {
   "cell_type": "code",
   "execution_count": null,
   "metadata": {},
   "outputs": [],
   "source": [
    "print(tHMMobj.estimate.T)"
   ]
  },
  {
   "cell_type": "code",
   "execution_count": null,
   "metadata": {},
   "outputs": [],
   "source": [
    "for state in range(tHMMobj.numStates):\n",
    "    print(tHMMobj.estimate.E[state])"
   ]
  },
  {
   "cell_type": "code",
   "execution_count": null,
   "metadata": {},
   "outputs": [],
   "source": [
    "\n",
    "\n",
    "\n",
    "\n"
   ]
  },
  {
   "cell_type": "code",
   "execution_count": null,
   "metadata": {},
   "outputs": [],
   "source": []
  },
  {
   "cell_type": "code",
   "execution_count": null,
   "metadata": {},
   "outputs": [],
   "source": [
    "import matplotlib.pyplot as plt\n",
    "%matplotlib inline"
   ]
  },
  {
   "cell_type": "code",
   "execution_count": null,
   "metadata": {},
   "outputs": [],
   "source": [
    "A = sp.gamma.rvs(a=20,scale=4,size=1000)\n",
    "B = sp.gamma.rvs(a=5,scale=1,size=1000)\n",
    "plt.hist(A)\n",
    "plt.hist(B)"
   ]
  },
  {
   "cell_type": "code",
   "execution_count": null,
   "metadata": {},
   "outputs": [],
   "source": []
  }
 ],
 "metadata": {
  "kernelspec": {
   "display_name": "Python 3",
   "language": "python",
   "name": "python3"
  },
  "language_info": {
   "codemirror_mode": {
    "name": "ipython",
    "version": 3
   },
   "file_extension": ".py",
   "mimetype": "text/x-python",
   "name": "python",
   "nbconvert_exporter": "python",
   "pygments_lexer": "ipython3",
   "version": "3.7.3"
  }
 },
 "nbformat": 4,
 "nbformat_minor": 4
}
