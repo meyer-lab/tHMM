{
 "cells": [
  {
   "cell_type": "markdown",
   "metadata": {},
   "source": [
    "# Guide to tHMM"
   ]
  },
  {
   "cell_type": "code",
   "execution_count": 1,
   "metadata": {},
   "outputs": [],
   "source": [
    "import numpy as np\n",
    "import scipy.stats as sp"
   ]
  },
  {
   "cell_type": "markdown",
   "metadata": {},
   "source": [
    "### Synthesizing Cells (not required by the user)"
   ]
  },
  {
   "cell_type": "code",
   "execution_count": 2,
   "metadata": {},
   "outputs": [],
   "source": [
    "from lineage.CellVar import CellVar as c\n",
    "from lineage.CellVar import _double"
   ]
  },
  {
   "cell_type": "code",
   "execution_count": 3,
   "metadata": {},
   "outputs": [],
   "source": [
    "T = np.array([[1.0, 0.0],\n",
    "              [0.0, 1.0]])\n",
    "    \n",
    "parent_state = 1\n",
    "parent_cell = c(state=parent_state, left=None, right=None, parent=None, gen=1)\n",
    "left_cell, right_cell = parent_cell._divide(T)"
   ]
  },
  {
   "cell_type": "code",
   "execution_count": 4,
   "metadata": {},
   "outputs": [
    {
     "name": "stdout",
     "output_type": "stream",
     "text": [
      "\n",
      " Generation: 2, State: 1, Observation: This cell has no observations to report. \n",
      " Generation: 2, State: 1, Observation: This cell has no observations to report.\n"
     ]
    }
   ],
   "source": [
    "print(left_cell, parent_cell.left)"
   ]
  },
  {
   "cell_type": "code",
   "execution_count": 5,
   "metadata": {},
   "outputs": [
    {
     "name": "stdout",
     "output_type": "stream",
     "text": [
      "\n",
      " Generation: 2, State: 1, Observation: This cell has no observations to report. \n",
      " Generation: 2, State: 1, Observation: This cell has no observations to report.\n"
     ]
    }
   ],
   "source": [
    "print(right_cell, parent_cell.right)"
   ]
  },
  {
   "cell_type": "markdown",
   "metadata": {},
   "source": [
    "## Creating a synthetic lineage (required by the user) \"Two State Model\""
   ]
  },
  {
   "cell_type": "code",
   "execution_count": 6,
   "metadata": {},
   "outputs": [],
   "source": [
    "from lineage.LineageTree import LineageTree\n",
    "from lineage.StateDistribution import StateDistribution, get_experiment_time"
   ]
  },
  {
   "cell_type": "markdown",
   "metadata": {},
   "source": [
    "### Creating a lineage and setting the full lineage (unpruned) as the one to be used"
   ]
  },
  {
   "cell_type": "markdown",
   "metadata": {},
   "source": [
    "The required probabilities are those that define the tree and act of state switching. This process works by first creating a hidden tree of empty cells. Empty cells are those that have their states set but do not have any observations attached to them. We then draw as many observations from each state distribution and assign those observations to those cells. The $\\pi$ and $T$ parameters are easy to define. The number of states is $k$. We require for $\\pi$ a $k\\times 1$ list of probabilities. These probabilities must add up to $1$ and they should be either in a $1$-dimensional list or a $1$-dimensional numpy array. The $T$ parameter should be a square numpy matrix of size $k\\times k$. The rows are the states in which we are transitioning from and the columns are the states in which we are transitioning to. Each row of $T$ should sum to $1$. The columns need not sum to $1$."
   ]
  },
  {
   "cell_type": "code",
   "execution_count": 7,
   "metadata": {},
   "outputs": [],
   "source": [
    "# pi: the initial probability vector\n",
    "pi = np.array([0.6, 0.4], dtype=\"float\")\n",
    "\n",
    "# T: transition probability matrix\n",
    "T = np.array([[0.85, 0.15],\n",
    "              [0.15, 0.85]])"
   ]
  },
  {
   "cell_type": "markdown",
   "metadata": {},
   "source": [
    "The emission matrix $E$ is a little more complicated to define because this is where the user has complete freedom in defining what type of observation they care about. In particular, the user has to first begin with defining what observation he or she will want in their cells in their synthetic images. For example, if one is observing kinematics or physics, they might want to use Gaaussian distribution observations. In defining the random variables, the user will pull from a Gaussian distribution based on the mean and standard deviation of the different states he or she picks. They can also utilize the Gaussian probability distribution to define the likelihood as well. Furthermore, they can build an analytical estimator for their state distributions that yield the parameter estimates when given a list of observations. Finally, the user can also define a prune rule, which is essentially a boolean function that inspects a cell's observations and returns True if the cell's subtree (all the cells that are related to the cell in question and are of older generation) is to be pruned or False if the cell is safe from pruning. In the Gaussian example, a user can remove a cell's subtree if its observation is higher or lower than some fixed value.\n",
    "\n",
    "We have already built, as an example, and as bioengineers, a model that resembles lineage trees. In our synthetic model, our emissions are multivariate. This first emission is a Bernoulli observation, $0$ implying death and $1$ implying division. The second and third emissions are continuous and are from exponential and gamma distributions respectively. Though these can be thought of cell lifetime's or periods in a certain cell phase, we want the user to know that these values can really mean anything and they are completely free in choosing what the emissions and their values mean. We define ways to calculate random variables for these multivariate observations and likelihoods of an observations. We also provide as a prune rule, keeping with the cell analogy, that if a cell has a $0$ in its Bernoulli observation, then its subtree is pruned from the full lineage tree. Though this will obviously introduce bias into estimation, we keep both the full tree and the pruned tree in the lineage objects, in the case a user would like to see the effects of analyzing on one versus the other.\n",
    "\n",
    "Ultimately, $E$ is defined as a $k\\times 1$ size list of state distribution objects. These distribution objects are rich in what they can already do, and a user can easily add more to their functionality. They only need to be instantiated by what parameters define that state's distribution."
   ]
  },
  {
   "cell_type": "code",
   "execution_count": 8,
   "metadata": {},
   "outputs": [],
   "source": [
    "# E: states are defined as StateDistribution objects\n",
    "\n",
    "# State 0 parameters \"Resistant\"\n",
    "state0 = 0\n",
    "bern_p0 = 0.99\n",
    "gamma_a0 = 20\n",
    "gamma_scale0 = 5\n",
    "\n",
    "# State 1 parameters \"Susceptible\"\n",
    "state1 = 1\n",
    "bern_p1 = 0.88\n",
    "gamma_a1 = 10\n",
    "gamma_scale1 = 1\n",
    "\n",
    "state_obj0 = StateDistribution(state0, bern_p0, gamma_a0, gamma_scale0)\n",
    "state_obj1 = StateDistribution(state1, bern_p1, gamma_a1, gamma_scale1)\n",
    "\n",
    "E = [state_obj0, state_obj1]"
   ]
  },
  {
   "cell_type": "markdown",
   "metadata": {},
   "source": [
    "The final required parameters are more obvious. The first is the desired number of cells one would like in their full unpruned lineage tree. This can be any number. The lineage tree is built 'from left to right'. What this means is that, we construct the binary tree by going to the left-most cell, dividing then walking through the generation. For example, if someone requested for"
   ]
  },
  {
   "cell_type": "code",
   "execution_count": 9,
   "metadata": {},
   "outputs": [],
   "source": [
    "desired_num_cells = 2**7 - 1 \n",
    "prune_boolean = False # To get the full tree"
   ]
  },
  {
   "cell_type": "code",
   "execution_count": 10,
   "metadata": {},
   "outputs": [
    {
     "name": "stdout",
     "output_type": "stream",
     "text": [
      "This tree is NOT pruned. It is made of 2 states.\n",
      " For each state in this tree: \n",
      " \t There are 42 cells of state 0, \n",
      " \t There are 85 cells of state 1.\n",
      " This UNpruned tree has 127 cells in total\n"
     ]
    }
   ],
   "source": [
    "lineage1 = LineageTree(pi, T, E, desired_num_cells, prune_boolean)\n",
    "print(lineage1)"
   ]
  },
  {
   "cell_type": "markdown",
   "metadata": {},
   "source": [
    "### Obtaining how long the experiment ran by checking the time length of the longest branch"
   ]
  },
  {
   "cell_type": "code",
   "execution_count": 11,
   "metadata": {},
   "outputs": [
    {
     "name": "stdout",
     "output_type": "stream",
     "text": [
      "514.4803150151614\n"
     ]
    }
   ],
   "source": [
    "longest_branch_time = get_experiment_time(lineage1)\n",
    "print(longest_branch_time)"
   ]
  },
  {
   "cell_type": "markdown",
   "metadata": {},
   "source": [
    "### Estimation of distribution parameters using our estimators for full lineage"
   ]
  },
  {
   "cell_type": "code",
   "execution_count": 12,
   "metadata": {},
   "outputs": [
    {
     "name": "stdout",
     "output_type": "stream",
     "text": [
      "State 0:\n",
      "the number of gamma observations 42\n",
      "                    estimated state State object w/ parameters: 0.9761904761882088, 23.726481420187252, 4.04851107785336.\n",
      "original parameters given for state State object w/ parameters: 0.99, 20, 5.\n",
      "State 1:\n",
      "the number of gamma observations 85\n",
      "                    estimated state State object w/ parameters: 0.9058823529402215, 10, 1.\n",
      "original parameters given for state State object w/ parameters: 0.88, 10, 1.\n"
     ]
    }
   ],
   "source": [
    "for state in range(lineage1.num_states):\n",
    "    print(\"State {}:\".format(state))\n",
    "    print(\"                    estimated state\", E[state].estimator(lineage1.lineage_stats[state].full_lin_cells_obs))\n",
    "    print(\"original parameters given for state\", E[state])"
   ]
  },
  {
   "cell_type": "markdown",
   "metadata": {},
   "source": [
    "### Estimation of distribution parameters using our estimators for pruned lineage"
   ]
  },
  {
   "cell_type": "code",
   "execution_count": 13,
   "metadata": {},
   "outputs": [
    {
     "name": "stdout",
     "output_type": "stream",
     "text": [
      "State 0:\n",
      "the number of gamma observations 17\n",
      "                    estimated state State object w/ parameters: 0.9411764705830449, 23.35561809854436, 4.093976027966714.\n",
      "original parameters given for state State object w/ parameters: 0.99, 20, 5.\n",
      "State 1:\n",
      "the number of gamma observations 40\n",
      "                    estimated state State object w/ parameters: 0.9249999999978751, 10, 1.\n",
      "original parameters given for state State object w/ parameters: 0.88, 10, 1.\n"
     ]
    }
   ],
   "source": [
    "for state in range(lineage1.num_states):\n",
    "    print(\"State {}:\".format(state))\n",
    "    print(\"                    estimated state\", E[state].estimator(lineage1.lineage_stats[state].pruned_lin_cells_obs))\n",
    "    print(\"original parameters given for state\", E[state])"
   ]
  },
  {
   "cell_type": "markdown",
   "metadata": {},
   "source": [
    "### Analyzing our first full lineage"
   ]
  },
  {
   "cell_type": "code",
   "execution_count": 14,
   "metadata": {},
   "outputs": [
    {
     "name": "stdout",
     "output_type": "stream",
     "text": [
      "[1, 1, 1, 1, 0, 1, 1, 0, 1, 0, 1, 1, 1, 1, 1, 1, 0, 1, 1, 0, 0, 1, 1, 1, 1, 1, 1, 1, 0, 1, 1, 1, 1, 1, 0, 1, 1, 0, 1, 0, 0, 0, 0, 1, 0, 1, 1, 1, 0, 1, 1, 1, 1, 0, 0, 1, 0, 0, 0, 1, 1, 1, 1, 1, 1, 1, 1, 1, 1, 0, 0, 1, 1, 1, 1, 0, 0, 0, 1, 1, 1, 1, 1, 0, 1, 0, 0, 1, 1, 0, 0, 1, 1, 1, 1, 1, 1, 0, 0, 1, 1, 1, 1, 1, 1, 1, 0, 0, 1, 0, 0, 1, 1, 0, 1, 1, 0, 0, 0, 1, 1, 0, 1, 1, 1, 0, 1]\n",
      "the number of gamma observations 127\n",
      "[-589.9903066365622]\n",
      "the number of gamma observations 126\n",
      "the number of gamma observations 1\n",
      "[-583.4280696713392]\n",
      "the number of gamma observations 114\n",
      "the number of gamma observations 13\n",
      "[-537.8496803478452]\n",
      "the number of gamma observations 53\n",
      "the number of gamma observations 74\n",
      "[-495.1514382265062]\n",
      "the number of gamma observations 44\n",
      "the number of gamma observations 83\n",
      "[-464.2096103789667]\n",
      "the number of gamma observations 42\n",
      "the number of gamma observations 85\n",
      "[-454.9356799518894]\n",
      "the number of gamma observations 42\n",
      "the number of gamma observations 85\n",
      "[-454.9356792581993]\n"
     ]
    }
   ],
   "source": [
    "from lineage.Analyze import Analyze, accuracy\n",
    "\n",
    "X = [lineage1] # population just contains one lineage\n",
    "states = [cell.state for cell in lineage1.output_lineage]\n",
    "print(states)\n",
    "deltas, state_ptrs, all_states, tHMMobj, NF, LL = Analyze(X, 2) # find two states\n"
   ]
  },
  {
   "cell_type": "code",
   "execution_count": 15,
   "metadata": {},
   "outputs": [
    {
     "data": {
      "text/plain": [
       "[State object w/ parameters: 0.9761904761882088, 23.726481420187252, 4.04851107785336.,\n",
       " State object w/ parameters: 0.9058823529402215, 10, 1.]"
      ]
     },
     "execution_count": 15,
     "metadata": {},
     "output_type": "execute_result"
    }
   ],
   "source": [
    "tHMMobj.estimate.E"
   ]
  },
  {
   "cell_type": "code",
   "execution_count": 16,
   "metadata": {},
   "outputs": [],
   "source": [
    "def accuracy_for_lineages(tHMMobj, all_states):\n",
    "    accuracy = []\n",
    "    for num, lineageObj in enumerate(tHMMobj.X):\n",
    "        lin_true_states = [cell.state for cell in lineageObj.output_lineage]\n",
    "\n",
    "        bern_diff = np.zeros((lineageObj.num_states))\n",
    "        gamma_a_diff = np.zeros((lineageObj.num_states))\n",
    "        gamma_scale_diff = np.zeros((lineageObj.num_states))\n",
    "        for state in range(lineageObj.num_states):\n",
    "            bern_diff[state] = abs(tHMMobj.estimate.E[state].bern_p - lineageObj.E[0].bern_p)\n",
    "            gamma_a_diff[state] = abs(tHMMobj.estimate.E[state].gamma_a - lineageObj.E[0].gamma_a)\n",
    "            gamma_scale_diff[state] = abs(tHMMobj.estimate.E[state].gamma_scale - lineageObj.E[0].gamma_scale)\n",
    "\n",
    "        bern_diff = bern_diff / sum(bern_diff)\n",
    "        gamma_a_diff = gamma_a_diff / sum(gamma_a_diff)\n",
    "        gamma_scale_diff = gamma_scale_diff / sum(gamma_scale_diff)\n",
    "\n",
    "        total_errs = bern_diff + gamma_a_diff + gamma_scale_diff\n",
    "        if total_errs[0] <= total_errs[1]:\n",
    "            new_all_states = all_states[num]\n",
    "        else:\n",
    "            print('SWITCHING!')\n",
    "            new_all_states = [not(x) for x in all_states[num]] \n",
    "            tmp = cp.deepcopy(tHMMobj.estimate.E[1])\n",
    "            tHMMobj.estimate.E[1] = tHMMobj.estimate.E[0]\n",
    "            tHMMobj.estimate.E[0] = tmp\n",
    "\n",
    "        counter = [1 if a==b else 0 for (a,b) in zip(new_all_states,lin_true_states)]\n",
    "        acc = sum(counter)/len(lin_true_states)\n",
    "        accuracy.append(acc)\n",
    "\n",
    "    return accuracy"
   ]
  },
  {
   "cell_type": "code",
   "execution_count": 20,
   "metadata": {},
   "outputs": [
    {
     "name": "stdout",
     "output_type": "stream",
     "text": [
      "the number of gamma observations 42\n",
      "the number of gamma observations 21\n",
      "[-321.2089666983792]\n",
      "the number of gamma observations 42\n",
      "the number of gamma observations 21\n",
      "[-321.20894352820136]\n",
      "the number of gamma observations 45\n",
      "the number of gamma observations 8\n",
      "[-256.5387702535102]\n",
      "the number of gamma observations 34\n",
      "the number of gamma observations 19\n",
      "[-206.02614630586268]\n",
      "the number of gamma observations 33\n",
      "the number of gamma observations 20\n",
      "[-196.87415662819944]\n",
      "the number of gamma observations 33\n",
      "the number of gamma observations 20\n",
      "[-196.87415656730047]\n",
      "the number of gamma observations 1\n",
      "the number of gamma observations 125\n",
      "[-322.80924425543395, -293.9910056983125]\n",
      "the number of gamma observations 126\n",
      "[-322.863657988064, -293.64996694367204]\n",
      "the number of gamma observations 126\n",
      "[-304.7224070625923, -256.6417457254466]\n",
      "the number of gamma observations 67\n",
      "the number of gamma observations 59\n",
      "[-260.3980305294027, -224.6097893816137]\n",
      "the number of gamma observations 71\n",
      "the number of gamma observations 55\n",
      "[-238.1363695462111, -215.91239344460365]\n",
      "the number of gamma observations 71\n",
      "the number of gamma observations 55\n",
      "[-238.15521261125974, -215.9113044833131]\n",
      "the number of gamma observations 71\n",
      "the number of gamma observations 55\n",
      "[-238.15521261125974, -215.9113044833131]\n",
      "the number of gamma observations 104\n",
      "[-274.428660338221, -243.67745689922484]\n",
      "the number of gamma observations 104\n",
      "[-273.6778893458372, -242.8158264511964]\n",
      "the number of gamma observations 104\n",
      "[-255.4591245160867, -218.81528960588696]\n",
      "the number of gamma observations 54\n",
      "the number of gamma observations 50\n",
      "[-209.56523616977478, -186.70639655049686]\n",
      "the number of gamma observations 50\n",
      "the number of gamma observations 54\n",
      "[-198.60464404184043, -182.07663197430057]\n",
      "the number of gamma observations 50\n",
      "the number of gamma observations 54\n",
      "[-198.60677961394154, -182.07661984890606]\n",
      "the number of gamma observations 50\n",
      "the number of gamma observations 54\n",
      "[-198.60677961394154, -182.07661984890606]\n",
      "SWITCHING!\n",
      "the number of gamma observations 16\n",
      "the number of gamma observations 173\n",
      "[-323.9843640190593, -313.1887961311113, -338.74719118942414]\n",
      "the number of gamma observations 189\n",
      "[-321.77580914504495, -304.5002047632786, -345.8741864467151]\n",
      "the number of gamma observations 189\n",
      "[-321.7756046788411, -304.4998240336849, -345.874270257347]\n",
      "the number of gamma observations 157\n",
      "the number of gamma observations 10\n",
      "[-279.53677830548276, -268.6386857248803, -331.9820778485472]\n",
      "the number of gamma observations 54\n",
      "the number of gamma observations 113\n",
      "[-241.0221889383191, -210.79157605598604, -332.8061269425284]\n",
      "the number of gamma observations 55\n",
      "the number of gamma observations 112\n",
      "[-275.00402292395705, -305.58969692080876, -278.8050206702552]\n",
      "the number of gamma observations 55\n",
      "the number of gamma observations 112\n",
      "[-313.39601535062775, -356.57334977761235, -278.7842396397121]\n",
      "the number of gamma observations 53\n",
      "the number of gamma observations 114\n",
      "[-328.8730897269524, -388.4084708839849, -283.279209557057]\n",
      "the number of gamma observations 51\n",
      "the number of gamma observations 116\n",
      "[-339.81292948981104, -404.4973161314219, -287.3945930696985]\n",
      "the number of gamma observations 44\n",
      "the number of gamma observations 123\n",
      "[-307.57632135882864, -337.7587711115296, -302.60458662798635]\n",
      "the number of gamma observations 28\n",
      "the number of gamma observations 139\n",
      "[-280.7962696257258, -279.0341071318558, -321.92073627579026]\n",
      "the number of gamma observations 167\n",
      "[-272.0887858339513, -252.0150582789644, -340.5391244863179]\n",
      "the number of gamma observations 167\n",
      "[-272.8940310452365, -253.28141469667997, -340.14671097075825]\n",
      "the number of gamma observations 167\n",
      "[-273.11993317797874, -253.62890912648, -340.04879792597364]\n",
      "the number of gamma observations 167\n",
      "[-273.21872865160685, -253.77983275706248, -340.0075127865969]\n",
      "the number of gamma observations 167\n",
      "[-273.27002724727794, -253.85793180029887, -339.9864561802572]\n",
      "the number of gamma observations 167\n",
      "[-273.29910025295067, -253.90209941227687, -339.9746548295788]\n",
      "the number of gamma observations 167\n",
      "[-273.3164470985227, -253.9284094571338, -339.9676732383331]\n",
      "the number of gamma observations 167\n",
      "[-273.3271552694457, -253.94462590312207, -339.96339739603343]\n",
      "the number of gamma observations 167\n",
      "[-273.3339358376291, -253.95487778515565, -339.9607125357485]\n",
      "the number of gamma observations 167\n",
      "[-273.33832405576027, -253.96150020464856, -339.9589917716727]\n",
      "the number of gamma observations 167\n",
      "[-273.34122451469415, -253.965867722988, -339.95786756001286]\n",
      "the number of gamma observations 167\n",
      "[-273.3431845546572, -253.96881142196878, -339.9571183715418]\n",
      "the number of gamma observations 167\n",
      "[-273.3445415383079, -253.97084321031542, -339.95660813250544]\n",
      "this is accurcy unpruned [[0.5396825396825397], [1.0, 0.0], [0.4126984126984127, 0.7142857142857143, 0.015873015873015872]]\n",
      "this is unprunedddddddddddddd [0.5396825396825397]\n",
      "this is unprunedddddddddddddd [0.5396825396825397, 0.5]\n",
      "this is unprunedddddddddddddd [0.5396825396825397, 0.5, 0.38095238095238093]\n"
     ]
    }
   ],
   "source": [
    "import copy as cp\n",
    "# pi: the initial probability vector\n",
    "pi = np.array([0.5, 0.5], dtype=\"float\")\n",
    "\n",
    "# T: transition probability matrix\n",
    "T = np.array([[0.99, 0.01],\n",
    "              [0.15, 0.85]], dtype='float')\n",
    "\n",
    "# State 0 parameters \"Resistant\"\n",
    "state0 = 0\n",
    "bern_p0 = 0.99\n",
    "gamma_a0 = 20\n",
    "gamma_scale0 = 5\n",
    "\n",
    "# State 1 parameters \"Susciptible\"\n",
    "state1 = 1\n",
    "bern_p1 = 0.8\n",
    "gamma_a1 = 10\n",
    "gamma_scale1 = 1\n",
    "\n",
    "state_obj0 = StateDistribution(state0, bern_p0, gamma_a0, gamma_scale0)\n",
    "state_obj1 = StateDistribution(state1, bern_p1, gamma_a1, gamma_scale1)\n",
    "\n",
    "E = [state_obj0, state_obj1]\n",
    "\n",
    "desired_num_cells = 2**6 - 1\n",
    "# increasing number of lineages from 1 to 10 and calculating accuracy and estimate parameters for both pruned and unpruned lineages.\n",
    "num_lineages = list(range(1, 4))\n",
    "\n",
    "accuracies_unpruned = []\n",
    "accuracies_pruned = []\n",
    "bern_unpruned = []\n",
    "gamma_a_unpruned = []\n",
    "gamma_scale_unpruned = []\n",
    "bern_pruned = []\n",
    "gamma_a_pruned = []\n",
    "gamma_scale_pruned = []\n",
    "\n",
    "prunedNewAcc = []\n",
    "unprunedNewAcc = []\n",
    "X_p = []\n",
    "X_unp = []\n",
    "for num in num_lineages:\n",
    "    lineage_unpruned = LineageTree(pi, T, E, desired_num_cells, prune_boolean=False)\n",
    "    lineage_pruned = cp.deepcopy(lineage_unpruned)\n",
    "    lineage_pruned.prune_boolean = True\n",
    "\n",
    "    X_unp.append(lineage_unpruned)\n",
    "    X_p.append(lineage_pruned)\n",
    "    deltas, state_ptrs, all_states, tHMMobj, NF, LL = Analyze(X_unp, 2)\n",
    "    deltas2, state_ptrs2, all_states2, tHMMobj2, NF2, LL2 = Analyze(X_p, 2)\n",
    "    acc1 = accuracy_for_lineages(tHMMobj, all_states)\n",
    "    acc2 = accuracy_for_lineages(tHMMobj2, all_states2)\n",
    "    accuracies_unpruned.append(acc1)\n",
    "    accuracies_pruned.append(acc2)\n",
    "\n",
    "    bern_p_total = ()\n",
    "    gamma_a_total = ()\n",
    "    gamma_scale_total = ()\n",
    "    bern_p_total2 = ()\n",
    "    gamma_a_total2 = ()\n",
    "    gamma_scale_total2 = ()\n",
    "\n",
    "    for state in range(tHMMobj.numStates):\n",
    "        bern_p_total += (tHMMobj.estimate.E[state].bern_p,)\n",
    "        gamma_a_total += (tHMMobj.estimate.E[state].gamma_a,)\n",
    "        gamma_scale_total += (tHMMobj.estimate.E[state].gamma_scale,)\n",
    "\n",
    "        bern_p_total2 += (tHMMobj2.estimate.E[state].bern_p,)\n",
    "        gamma_a_total2 += (tHMMobj2.estimate.E[state].gamma_a,)\n",
    "        gamma_scale_total2 += (tHMMobj2.estimate.E[state].gamma_scale,)\n",
    "\n",
    "    bern_unpruned.append(bern_p_total)\n",
    "    gamma_a_unpruned.append(gamma_a_total)\n",
    "    gamma_scale_unpruned.append(gamma_scale_total)\n",
    "    bern_pruned.append(bern_p_total2)\n",
    "    gamma_a_pruned.append(gamma_a_total2)\n",
    "    gamma_scale_pruned.append(gamma_scale_total2)\n",
    "\n",
    "print(\"this is accurcy unpruned\", accuracies_unpruned)\n",
    "for i in range(len(accuracies_unpruned)):\n",
    "    unprunedNewAcc.append(sum(accuracies_unpruned[i])/(i+1))\n",
    "    prunedNewAcc.append(sum(accuracies_pruned[i])/(i+1))\n",
    "    print(\"this is unprunedddddddddddddd\", unprunedNewAcc)"
   ]
  },
  {
   "cell_type": "code",
   "execution_count": null,
   "metadata": {},
   "outputs": [],
   "source": [
    "accuracy_for_lineages(tHMMobj, all_states)"
   ]
  },
  {
   "cell_type": "code",
   "execution_count": null,
   "metadata": {},
   "outputs": [],
   "source": [
    "import matplotlib.pyplot as plt\n",
    "for state in range(lineage1.num_states):\n",
    "    askjdha, sduhfksj = list(zip(*lineage1.lineage_stats[state].pruned_lin_cells_obs))\n",
    "    plt.hist(sduhfksj)\n",
    "    plt.show()\n"
   ]
  },
  {
   "cell_type": "code",
   "execution_count": null,
   "metadata": {},
   "outputs": [],
   "source": [
    "for state in range(lineage1.num_states):\n",
    "    askjdha, sduhfksj = list(zip(*lineage1.lineage_stats[state].full_lin_cells_obs))\n",
    "    plt.hist(sduhfksj)"
   ]
  },
  {
   "cell_type": "markdown",
   "metadata": {},
   "source": [
    "### Estimated Markov parameters ($\\pi$, $T$, $E$)"
   ]
  },
  {
   "cell_type": "code",
   "execution_count": null,
   "metadata": {},
   "outputs": [],
   "source": [
    "print(tHMMobj.estimate.pi)"
   ]
  },
  {
   "cell_type": "code",
   "execution_count": null,
   "metadata": {},
   "outputs": [],
   "source": [
    "print(tHMMobj.estimate.T)"
   ]
  },
  {
   "cell_type": "code",
   "execution_count": null,
   "metadata": {},
   "outputs": [],
   "source": [
    "for state in range(tHMMobj.numStates):\n",
    "    print(tHMMobj.estimate.E[state])"
   ]
  },
  {
   "cell_type": "markdown",
   "metadata": {},
   "source": [
    "## Trying another lineage, this time pruning branches with ancestors that die"
   ]
  },
  {
   "cell_type": "code",
   "execution_count": null,
   "metadata": {},
   "outputs": [],
   "source": [
    "desired_num_cells = 2**12 -1 \n",
    "prune_boolean = True # To get pruned tree"
   ]
  },
  {
   "cell_type": "code",
   "execution_count": null,
   "metadata": {},
   "outputs": [],
   "source": [
    "lineage2 = LineageTree(pi, T, E, desired_num_cells, prune_boolean)\n",
    "print(lineage2)"
   ]
  },
  {
   "cell_type": "code",
   "execution_count": null,
   "metadata": {},
   "outputs": [],
   "source": [
    "longest2 = get_experiment_time(lineage2)\n",
    "print(longest2)"
   ]
  },
  {
   "cell_type": "markdown",
   "metadata": {},
   "source": [
    "### Estimation of distribution parameters using our estimators for pruned lineage"
   ]
  },
  {
   "cell_type": "code",
   "execution_count": null,
   "metadata": {},
   "outputs": [],
   "source": [
    "for state in range(lineage2.num_states):\n",
    "    print(\"State {}:\".format(state))\n",
    "    print(\"                    estimated state\", E[state].estimator(lineage2.lineage_stats[state].pruned_lin_cells_obs))\n",
    "    print(\"original parameters given for state\", E[state])"
   ]
  },
  {
   "cell_type": "markdown",
   "metadata": {},
   "source": [
    "### Analyzing a population of lineages"
   ]
  },
  {
   "cell_type": "code",
   "execution_count": null,
   "metadata": {},
   "outputs": [],
   "source": [
    "X = [lineage1, lineage2] # population just contains one lineage\n",
    "\n",
    "#deltas, state_ptrs, all_states, tHMMobj, NF, LL = Analyze(X, 2) # find two states"
   ]
  },
  {
   "cell_type": "code",
   "execution_count": null,
   "metadata": {},
   "outputs": [],
   "source": [
    "for num, lineageObj in enumerate(X):\n",
    "    lin_estimated_states = all_states[num]\n",
    "    lin_true_states = [cell.state for cell in lineageObj.output_lineage]\n",
    "    total = len(lin_estimated_states)\n",
    "    assert total == len(lin_true_states)\n",
    "    counter = [1 if a==b else 0 for (a,b) in zip(lin_estimated_states,lin_true_states)]\n",
    "    print(\"Accuracy or 1-Accuracy is {}\".format(sum(counter)/total))"
   ]
  },
  {
   "cell_type": "markdown",
   "metadata": {},
   "source": [
    "### Estimated Markov parameters ($\\pi$, $T$, $E$)"
   ]
  },
  {
   "cell_type": "code",
   "execution_count": null,
   "metadata": {},
   "outputs": [],
   "source": [
    "print(tHMMobj.estimate.pi)"
   ]
  },
  {
   "cell_type": "code",
   "execution_count": null,
   "metadata": {},
   "outputs": [],
   "source": [
    "print(tHMMobj.estimate.T)"
   ]
  },
  {
   "cell_type": "code",
   "execution_count": null,
   "metadata": {},
   "outputs": [],
   "source": [
    "for state in range(tHMMobj.numStates):\n",
    "    print(tHMMobj.estimate.E[state])"
   ]
  },
  {
   "cell_type": "markdown",
   "metadata": {},
   "source": [
    "## Creating a synthetic lineage that has three states"
   ]
  },
  {
   "cell_type": "markdown",
   "metadata": {},
   "source": [
    "Here we generate a lineage with three states, which would be 1) Susciptible 2) Middle State 3) Resistant. The aim here is to show the transition from susciptible to resistant state doesn't happen immediately, and there is a gradual transition which is modeled as a middle state. The point to be considered here is that transition from 1 to 3 or otherwise is not possible so the probability of these transitions are zero, and most likely the initial cells are in susciptible state.\n",
    "\n",
    "**State 1**: Susceptible\n",
    "\n",
    "**State 2**: Transition state\n",
    "\n",
    "**State 3**: Resistant state\n"
   ]
  },
  {
   "cell_type": "code",
   "execution_count": null,
   "metadata": {},
   "outputs": [],
   "source": [
    "# pi: the initial probability vector\n",
    "pi_3 = np.array([0.5, 0.25, 0.25])\n",
    "\n",
    "# T: transition probability matrix\n",
    "T_3 = np.array([[0.65, 0.35, 0.00],\n",
    "                [0.20, 0.40, 0.40],\n",
    "                [0.00, 0.10, 0.90]])"
   ]
  },
  {
   "cell_type": "code",
   "execution_count": null,
   "metadata": {},
   "outputs": [],
   "source": [
    "# E: states are defined as StateDistribution objects\n",
    "\n",
    "# State 0 parameters \"Susciptible\"\n",
    "state0 = 0\n",
    "bern_p0 = 0.7\n",
    "expon_scale_beta0 = 20\n",
    "gamma_a0 = 5.0\n",
    "gamma_scale0 = 1.0\n",
    "\n",
    "# State 1 parameters \"Middle state\"\n",
    "state1 = 1\n",
    "bern_p1 = 0.85\n",
    "expon_scale_beta1 = 60\n",
    "gamma_a1 = 10.0\n",
    "gamma_scale1 = 2.0\n",
    "\n",
    "# State 2 parameters \"Resistant\"\n",
    "state2 = 2\n",
    "bern_p2 = 0.99\n",
    "expon_scale_beta2 = 80\n",
    "gamma_a2 = 15.0\n",
    "gamma_scale2 = 3.0\n",
    "\n",
    "state_obj0 = StateDistribution(state0, bern_p0, gamma_a0, gamma_scale0)\n",
    "state_obj1 = StateDistribution(state1, bern_p1, gamma_a1, gamma_scale1)\n",
    "state_obj2 = StateDistribution(state2, bern_p2, gamma_a2, gamma_scale2)\n",
    "\n",
    "E_3 = [state_obj0, state_obj1, state_obj2]"
   ]
  },
  {
   "cell_type": "code",
   "execution_count": null,
   "metadata": {},
   "outputs": [],
   "source": [
    "desired_num_cells = 2**13 - 1 \n",
    "prune_boolean = False # To get the full tree"
   ]
  },
  {
   "cell_type": "code",
   "execution_count": null,
   "metadata": {},
   "outputs": [],
   "source": [
    "lineage3 = LineageTree(pi_3, T_3, E_3, desired_num_cells, prune_boolean)\n",
    "print(lineage3)"
   ]
  },
  {
   "cell_type": "code",
   "execution_count": null,
   "metadata": {},
   "outputs": [],
   "source": [
    "longest3 = get_experiment_time(lineage3)\n",
    "print(longest3)"
   ]
  },
  {
   "cell_type": "markdown",
   "metadata": {},
   "source": [
    "### Estimation of distribution parameters using our estimators for full lineage (3 state)"
   ]
  },
  {
   "cell_type": "code",
   "execution_count": null,
   "metadata": {},
   "outputs": [],
   "source": [
    "for state in range(lineage3.num_states):\n",
    "    print(\"State {}:\".format(state))\n",
    "    print(\"estimated state\", E_3[state].estimator(lineage3.lineage_stats[state].full_lin_cells_obs))\n",
    "    print(\"estimated state\", E_3[state].estimator(lineage3.lineage_stats[state].pruned_lin_cells_obs))\n",
    "    print(\"true_____ state\", E_3[state])"
   ]
  },
  {
   "cell_type": "markdown",
   "metadata": {},
   "source": [
    "### Analyzing a three state lineage"
   ]
  },
  {
   "cell_type": "code",
   "execution_count": null,
   "metadata": {},
   "outputs": [],
   "source": [
    "X = [lineage3] # population just contains one lineage\n",
    "\n",
    "#deltas, state_ptrs, all_states, tHMMobj, NF, LL = Analyze(X, 3) # find three states"
   ]
  },
  {
   "cell_type": "code",
   "execution_count": null,
   "metadata": {},
   "outputs": [],
   "source": [
    "for num, lineageObj in enumerate(X):\n",
    "    lin_estimated_states = all_states[num]\n",
    "    lin_true_states = [cell.state for cell in lineageObj.output_lineage]\n",
    "    total = len(lin_estimated_states)\n",
    "    assert total == len(lin_true_states)\n",
    "    counter = [1 if a==b else 0 for (a,b) in zip(lin_estimated_states,lin_true_states)]\n",
    "    print(\"Accuracy {}\".format(sum(counter)/total))"
   ]
  },
  {
   "cell_type": "markdown",
   "metadata": {},
   "source": [
    "### Estimated Markov parameters ($\\pi$, $T$, $E$)"
   ]
  },
  {
   "cell_type": "code",
   "execution_count": null,
   "metadata": {},
   "outputs": [],
   "source": [
    "print(tHMMobj.estimate.pi)"
   ]
  },
  {
   "cell_type": "code",
   "execution_count": null,
   "metadata": {},
   "outputs": [],
   "source": [
    "print(tHMMobj.estimate.T)"
   ]
  },
  {
   "cell_type": "code",
   "execution_count": null,
   "metadata": {},
   "outputs": [],
   "source": [
    "for state in range(tHMMobj.numStates):\n",
    "    print(tHMMobj.estimate.E[state].shape[0])"
   ]
  },
  {
   "cell_type": "code",
   "execution_count": null,
   "metadata": {},
   "outputs": [],
   "source": [
    "\n",
    "\n",
    "\n",
    "\n"
   ]
  },
  {
   "cell_type": "code",
   "execution_count": null,
   "metadata": {},
   "outputs": [],
   "source": []
  },
  {
   "cell_type": "code",
   "execution_count": null,
   "metadata": {},
   "outputs": [],
   "source": [
    "import matplotlib.pyplot as plt\n",
    "%matplotlib inline"
   ]
  },
  {
   "cell_type": "code",
   "execution_count": null,
   "metadata": {},
   "outputs": [],
   "source": [
    "A = sp.gamma.rvs(a=20,scale=4,size=2)\n",
    "B = sp.gamma.rvs(a=5,scale=1,size=1000)\n",
    "plt.hist(A)\n",
    "plt.figure()\n",
    "plt.hist(B)"
   ]
  },
  {
   "cell_type": "code",
   "execution_count": null,
   "metadata": {},
   "outputs": [],
   "source": [
    "from lineage.StateDistribution import gamma_estimator \n",
    "a, b = gamma_estimator(A)"
   ]
  },
  {
   "cell_type": "code",
   "execution_count": null,
   "metadata": {},
   "outputs": [],
   "source": [
    "import scipy.stats as sp\n",
    "gamma_ll = sp.gamma.pdf(x=A, a=a, scale=b)  # gamma likelihood\n",
    "print(gamma_ll)"
   ]
  },
  {
   "cell_type": "code",
   "execution_count": null,
   "metadata": {},
   "outputs": [],
   "source": []
  }
 ],
 "metadata": {
  "kernelspec": {
   "display_name": "Python 3",
   "language": "python",
   "name": "python3"
  },
  "language_info": {
   "codemirror_mode": {
    "name": "ipython",
    "version": 3
   },
   "file_extension": ".py",
   "mimetype": "text/x-python",
   "name": "python",
   "nbconvert_exporter": "python",
   "pygments_lexer": "ipython3",
   "version": "3.7.3"
  }
 },
 "nbformat": 4,
 "nbformat_minor": 4
}
