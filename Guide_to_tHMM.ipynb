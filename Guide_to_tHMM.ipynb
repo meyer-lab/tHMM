{
 "cells": [
  {
   "cell_type": "markdown",
   "metadata": {},
   "source": [
    "# Guide to tHMM"
   ]
  },
  {
   "cell_type": "code",
   "execution_count": 1,
   "metadata": {},
   "outputs": [],
   "source": [
    "import numpy as np\n",
    "import scipy.stats as sp"
   ]
  },
  {
   "cell_type": "markdown",
   "metadata": {},
   "source": [
    "### Synthesizing Cells (not required by the user)"
   ]
  },
  {
   "cell_type": "code",
   "execution_count": 2,
   "metadata": {},
   "outputs": [],
   "source": [
    "from lineage.CellVar import CellVar as c\n",
    "from lineage.CellVar import _double"
   ]
  },
  {
   "cell_type": "code",
   "execution_count": 3,
   "metadata": {},
   "outputs": [],
   "source": [
    "T = np.array([[1.0, 0.0],\n",
    "              [0.0, 1.0]])\n",
    "    \n",
    "parent_state = 1\n",
    "parent_cell = c(state=parent_state, left=None, right=None, parent=None, gen=1)\n",
    "left_cell, right_cell = parent_cell._divide(T)"
   ]
  },
  {
   "cell_type": "code",
   "execution_count": 4,
   "metadata": {},
   "outputs": [
    {
     "name": "stdout",
     "output_type": "stream",
     "text": [
      "\n",
      " Generation: 2, State: 1, Observation: This cell has no observations to report. \n",
      " Generation: 2, State: 1, Observation: This cell has no observations to report.\n"
     ]
    }
   ],
   "source": [
    "print(left_cell, parent_cell.left)"
   ]
  },
  {
   "cell_type": "code",
   "execution_count": 5,
   "metadata": {},
   "outputs": [
    {
     "name": "stdout",
     "output_type": "stream",
     "text": [
      "\n",
      " Generation: 2, State: 1, Observation: This cell has no observations to report. \n",
      " Generation: 2, State: 1, Observation: This cell has no observations to report.\n"
     ]
    }
   ],
   "source": [
    "print(right_cell, parent_cell.right)"
   ]
  },
  {
   "cell_type": "markdown",
   "metadata": {},
   "source": [
    "## Creating a synthetic lineage (required by the user) \"Two State Model\""
   ]
  },
  {
   "cell_type": "code",
   "execution_count": 6,
   "metadata": {},
   "outputs": [],
   "source": [
    "from lineage.LineageTree import LineageTree\n",
    "from lineage.StateDistribution import StateDistribution, get_experiment_time"
   ]
  },
  {
   "cell_type": "markdown",
   "metadata": {},
   "source": [
    "### Creating a lineage and setting the full lineage (unpruned) as the one to be used"
   ]
  },
  {
   "cell_type": "markdown",
   "metadata": {},
   "source": [
    "The required probabilities are those that define the tree and act of state switching. This process works by first creating a hidden tree of empty cells. Empty cells are those that have their states set but do not have any observations attached to them. We then draw as many observations from each state distribution and assign those observations to those cells. The $\\pi$ and $T$ parameters are easy to define. The number of states is $k$. We require for $\\pi$ a $k\\times 1$ list of probabilities. These probabilities must add up to $1$ and they should be either in a $1$-dimensional list or a $1$-dimensional numpy array. The $T$ parameter should be a square numpy matrix of size $k\\times k$. The rows are the states in which we are transitioning from and the columns are the states in which we are transitioning to. Each row of $T$ should sum to $1$. The columns need not sum to $1$."
   ]
  },
  {
   "cell_type": "code",
   "execution_count": 7,
   "metadata": {},
   "outputs": [],
   "source": [
    "# pi: the initial probability vector\n",
    "pi = np.array([0.6, 0.4], dtype=\"float\")\n",
    "\n",
    "# T: transition probability matrix\n",
    "T = np.array([[0.85, 0.15],\n",
    "              [0.15, 0.85]])"
   ]
  },
  {
   "cell_type": "markdown",
   "metadata": {},
   "source": [
    "The emission matrix $E$ is a little more complicated to define because this is where the user has complete freedom in defining what type of observation they care about. In particular, the user has to first begin with defining what observation he or she will want in their cells in their synthetic images. For example, if one is observing kinematics or physics, they might want to use Gaaussian distribution observations. In defining the random variables, the user will pull from a Gaussian distribution based on the mean and standard deviation of the different states he or she picks. They can also utilize the Gaussian probability distribution to define the likelihood as well. Furthermore, they can build an analytical estimator for their state distributions that yield the parameter estimates when given a list of observations. Finally, the user can also define a prune rule, which is essentially a boolean function that inspects a cell's observations and returns True if the cell's subtree (all the cells that are related to the cell in question and are of older generation) is to be pruned or False if the cell is safe from pruning. In the Gaussian example, a user can remove a cell's subtree if its observation is higher or lower than some fixed value.\n",
    "\n",
    "We have already built, as an example, and as bioengineers, a model that resembles lineage trees. In our synthetic model, our emissions are multivariate. This first emission is a Bernoulli observation, $0$ implying death and $1$ implying division. The second and third emissions are continuous and are from exponential and gamma distributions respectively. Though these can be thought of cell lifetime's or periods in a certain cell phase, we want the user to know that these values can really mean anything and they are completely free in choosing what the emissions and their values mean. We define ways to calculate random variables for these multivariate observations and likelihoods of an observations. We also provide as a prune rule, keeping with the cell analogy, that if a cell has a $0$ in its Bernoulli observation, then its subtree is pruned from the full lineage tree. Though this will obviously introduce bias into estimation, we keep both the full tree and the pruned tree in the lineage objects, in the case a user would like to see the effects of analyzing on one versus the other.\n",
    "\n",
    "Ultimately, $E$ is defined as a $k\\times 1$ size list of state distribution objects. These distribution objects are rich in what they can already do, and a user can easily add more to their functionality. They only need to be instantiated by what parameters define that state's distribution."
   ]
  },
  {
   "cell_type": "code",
   "execution_count": 8,
   "metadata": {},
   "outputs": [],
   "source": [
    "# E: states are defined as StateDistribution objects\n",
    "\n",
    "# State 0 parameters \"Resistant\"\n",
    "state0 = 0\n",
    "bern_p0 = 0.99\n",
    "gamma_loc = 0\n",
    "gamma_a0 = 20\n",
    "gamma_scale0 = 5\n",
    "\n",
    "# State 1 parameters \"Susceptible\"\n",
    "state1 = 1\n",
    "bern_p1 = 0.88\n",
    "gamma_a1 = 10\n",
    "gamma_scale1 = 1\n",
    "\n",
    "state_obj0 = StateDistribution(state0, bern_p0, gamma_a0, gamma_loc, gamma_scale0)\n",
    "state_obj1 = StateDistribution(state1, bern_p1, gamma_a1, gamma_loc,  gamma_scale1)\n",
    "\n",
    "E = [state_obj0, state_obj1]"
   ]
  },
  {
   "cell_type": "markdown",
   "metadata": {},
   "source": [
    "The final required parameters are more obvious. The first is the desired number of cells one would like in their full unpruned lineage tree. This can be any number. The lineage tree is built 'from left to right'. What this means is that, we construct the binary tree by going to the left-most cell, dividing then walking through the generation. For example, if someone requested for"
   ]
  },
  {
   "cell_type": "code",
   "execution_count": 9,
   "metadata": {},
   "outputs": [],
   "source": [
    "desired_num_cells = 2**7 - 1 \n",
    "prune_boolean = False # To get the full tree"
   ]
  },
  {
   "cell_type": "code",
   "execution_count": 10,
   "metadata": {},
   "outputs": [
    {
     "name": "stdout",
     "output_type": "stream",
     "text": [
      "This tree is NOT pruned. It is made of 2 states.\n",
      " For each state in this tree: \n",
      " \t There are 96 cells of state 0, \n",
      " \t There are 31 cells of state 1.\n",
      " This UNpruned tree has 127 cells in total\n"
     ]
    }
   ],
   "source": [
    "lineage1 = LineageTree(pi, T, E, desired_num_cells, prune_boolean)\n",
    "print(lineage1)"
   ]
  },
  {
   "cell_type": "markdown",
   "metadata": {},
   "source": [
    "### Obtaining how long the experiment ran by checking the time length of the longest branch"
   ]
  },
  {
   "cell_type": "code",
   "execution_count": 11,
   "metadata": {},
   "outputs": [
    {
     "name": "stdout",
     "output_type": "stream",
     "text": [
      "887.268375398946\n"
     ]
    }
   ],
   "source": [
    "longest_branch_time = get_experiment_time(lineage1)\n",
    "print(longest_branch_time)"
   ]
  },
  {
   "cell_type": "markdown",
   "metadata": {},
   "source": [
    "### Estimation of distribution parameters using our estimators for full lineage"
   ]
  },
  {
   "cell_type": "code",
   "execution_count": 12,
   "metadata": {},
   "outputs": [
    {
     "name": "stdout",
     "output_type": "stream",
     "text": [
      "State 0:\n",
      "the number of gamma observations 96\n",
      "20.564222362752595 0.0 5.064674502740699\n",
      "                    estimated state State object w/ parameters: 0.9895833333323133, 20.564222362752595, 0.0, 5.064674502740699.\n",
      "original parameters given for state State object w/ parameters: 0.99, 20, 0, 5.\n",
      "State 1:\n",
      "the number of gamma observations 31\n",
      "10 0.0 1\n",
      "                    estimated state State object w/ parameters: 0.8709677419330905, 10, 0.0, 1.\n",
      "original parameters given for state State object w/ parameters: 0.88, 10, 0, 1.\n"
     ]
    }
   ],
   "source": [
    "for state in range(lineage1.num_states):\n",
    "    print(\"State {}:\".format(state))\n",
    "    print(\"                    estimated state\", E[state].estimator(lineage1.lineage_stats[state].full_lin_cells_obs))\n",
    "    print(\"original parameters given for state\", E[state])"
   ]
  },
  {
   "cell_type": "markdown",
   "metadata": {},
   "source": [
    "### Estimation of distribution parameters using our estimators for pruned lineage"
   ]
  },
  {
   "cell_type": "code",
   "execution_count": 13,
   "metadata": {},
   "outputs": [
    {
     "name": "stdout",
     "output_type": "stream",
     "text": [
      "State 0:\n",
      "the number of gamma observations 94\n",
      "20.205780985649763 0.0 5.147886467228911\n",
      "                    estimated state State object w/ parameters: 0.9893617021266183, 20.205780985649763, 0.0, 5.147886467228911.\n",
      "original parameters given for state State object w/ parameters: 0.99, 20, 0, 5.\n",
      "State 1:\n",
      "the number of gamma observations 29\n",
      "10 0.0 1\n",
      "                    estimated state State object w/ parameters: 0.8620689655147443, 10, 0.0, 1.\n",
      "original parameters given for state State object w/ parameters: 0.88, 10, 0, 1.\n"
     ]
    }
   ],
   "source": [
    "for state in range(lineage1.num_states):\n",
    "    print(\"State {}:\".format(state))\n",
    "    print(\"                    estimated state\", E[state].estimator(lineage1.lineage_stats[state].pruned_lin_cells_obs))\n",
    "    print(\"original parameters given for state\", E[state])"
   ]
  },
  {
   "cell_type": "markdown",
   "metadata": {},
   "source": [
    "### Analyzing our first full lineage"
   ]
  },
  {
   "cell_type": "code",
   "execution_count": 14,
   "metadata": {},
   "outputs": [
    {
     "name": "stdout",
     "output_type": "stream",
     "text": [
      "[0, 0, 0, 0, 0, 0, 0, 0, 1, 0, 0, 0, 0, 0, 0, 0, 0, 1, 1, 0, 0, 0, 0, 1, 1, 0, 0, 0, 0, 0, 0, 0, 0, 0, 0, 0, 1, 1, 1, 0, 0, 0, 0, 0, 0, 0, 0, 1, 1, 1, 1, 1, 1, 0, 0, 0, 0, 0, 0, 0, 1, 0, 0, 0, 0, 0, 0, 0, 0, 0, 0, 0, 0, 0, 1, 1, 1, 1, 1, 0, 0, 0, 1, 0, 0, 0, 0, 0, 0, 0, 0, 0, 0, 0, 0, 1, 1, 0, 1, 1, 1, 0, 0, 1, 1, 1, 0, 0, 0, 0, 0, 0, 0, 0, 0, 0, 0, 0, 0, 0, 0, 1, 1, 0, 0, 0, 0]\n",
      "the number of gamma observations 127\n",
      "1.8118898902279723 0.0 44.802696241300936\n",
      "the number of gamma observations 122\n",
      "2.0474378461811495 0.0 41.083977499329336\n",
      "the number of gamma observations 5\n",
      "10 0.0 1\n",
      "the number of gamma observations 106\n",
      "4.1954905224191625 0.0 22.731950499488352\n",
      "the number of gamma observations 21\n",
      "10 0.0 1\n",
      "the number of gamma observations 96\n",
      "20.564222362752595 0.0 5.064674502740699\n",
      "the number of gamma observations 31\n",
      "10 0.0 1\n",
      "the number of gamma observations 96\n",
      "20.564222362752595 0.0 5.064674502740699\n",
      "the number of gamma observations 31\n",
      "10 0.0 1\n",
      "the number of gamma observations 96\n",
      "20.564222362752595 0.0 5.064674502740699\n",
      "the number of gamma observations 31\n",
      "10 0.0 1\n"
     ]
    }
   ],
   "source": [
    "from lineage.Analyze import Analyze, accuracy\n",
    "\n",
    "X = [lineage1] # population just contains one lineage\n",
    "states = [cell.state for cell in lineage1.output_lineage]\n",
    "print(states)\n",
    "deltas, state_ptrs, all_states, tHMMobj, NF, LL = Analyze(X, 2) # find two states\n"
   ]
  },
  {
   "cell_type": "code",
   "execution_count": 15,
   "metadata": {},
   "outputs": [
    {
     "data": {
      "text/plain": [
       "[State object w/ parameters: 0.9895833333323133, 20.564222362752595, 0.0, 5.064674502740699.,\n",
       " State object w/ parameters: 0.8709677419330905, 10, 0.0, 1.]"
      ]
     },
     "execution_count": 15,
     "metadata": {},
     "output_type": "execute_result"
    }
   ],
   "source": [
    "tHMMobj.estimate.E"
   ]
  },
  {
   "cell_type": "markdown",
   "metadata": {},
   "source": [
    "### Estimated Markov parameters ($\\pi$, $T$, $E$)"
   ]
  },
  {
   "cell_type": "code",
   "execution_count": 16,
   "metadata": {},
   "outputs": [
    {
     "name": "stdout",
     "output_type": "stream",
     "text": [
      "[1.00000000e+000 2.95176501e-239]\n"
     ]
    }
   ],
   "source": [
    "print(tHMMobj.estimate.pi)"
   ]
  },
  {
   "cell_type": "code",
   "execution_count": 17,
   "metadata": {},
   "outputs": [
    {
     "name": "stdout",
     "output_type": "stream",
     "text": [
      "[[0.92708333 0.07291667]\n",
      " [0.2        0.8       ]]\n"
     ]
    }
   ],
   "source": [
    "print(tHMMobj.estimate.T)"
   ]
  },
  {
   "cell_type": "code",
   "execution_count": 18,
   "metadata": {},
   "outputs": [
    {
     "name": "stdout",
     "output_type": "stream",
     "text": [
      "State object w/ parameters: 0.9895833333323133, 20.564222362752595, 0.0, 5.064674502740699.\n",
      "State object w/ parameters: 0.8709677419330905, 10, 0.0, 1.\n"
     ]
    }
   ],
   "source": [
    "for state in range(tHMMobj.numStates):\n",
    "    print(tHMMobj.estimate.E[state])"
   ]
  },
  {
   "cell_type": "markdown",
   "metadata": {},
   "source": [
    "## Trying another lineage, this time pruning branches with ancestors that die"
   ]
  },
  {
   "cell_type": "code",
   "execution_count": 19,
   "metadata": {},
   "outputs": [],
   "source": [
    "desired_num_cells = 2**12 -1 \n",
    "prune_boolean = True # To get pruned tree"
   ]
  },
  {
   "cell_type": "code",
   "execution_count": 20,
   "metadata": {},
   "outputs": [
    {
     "name": "stdout",
     "output_type": "stream",
     "text": [
      "This tree is pruned. It is made of 2 states.\n",
      " For each state in this tree: \n",
      " \t There are 1549 cells of state 0, \n",
      " \t There are 1150 cells of state 1.\n",
      " This pruned tree has 2699 cells in total\n"
     ]
    }
   ],
   "source": [
    "lineage2 = LineageTree(pi, T, E, desired_num_cells, prune_boolean)\n",
    "print(lineage2)"
   ]
  },
  {
   "cell_type": "code",
   "execution_count": 21,
   "metadata": {},
   "outputs": [
    {
     "name": "stdout",
     "output_type": "stream",
     "text": [
      "1312.5315997785744\n"
     ]
    }
   ],
   "source": [
    "longest2 = get_experiment_time(lineage2)\n",
    "print(longest2)"
   ]
  },
  {
   "cell_type": "markdown",
   "metadata": {},
   "source": [
    "### Estimation of distribution parameters using our estimators for pruned lineage"
   ]
  },
  {
   "cell_type": "code",
   "execution_count": 22,
   "metadata": {},
   "outputs": [
    {
     "name": "stdout",
     "output_type": "stream",
     "text": [
      "State 0:\n",
      "the number of gamma observations 1549\n",
      "20.75446384435585 0.0 4.78051847402949\n",
      "                    estimated state State object w/ parameters: 0.9890251775338297, 20.75446384435585, 0.0, 4.78051847402949.\n",
      "original parameters given for state State object w/ parameters: 0.99, 20, 0, 5.\n",
      "State 1:\n",
      "the number of gamma observations 1150\n",
      "9.73888894189015 0.0 1.0420819329980064\n",
      "                    estimated state State object w/ parameters: 0.8808695652173251, 9.73888894189015, 0.0, 1.0420819329980064.\n",
      "original parameters given for state State object w/ parameters: 0.88, 10, 0, 1.\n"
     ]
    }
   ],
   "source": [
    "for state in range(lineage2.num_states):\n",
    "    print(\"State {}:\".format(state))\n",
    "    print(\"                    estimated state\", E[state].estimator(lineage2.lineage_stats[state].pruned_lin_cells_obs))\n",
    "    print(\"original parameters given for state\", E[state])"
   ]
  },
  {
   "cell_type": "markdown",
   "metadata": {},
   "source": [
    "### Analyzing a population of lineages"
   ]
  },
  {
   "cell_type": "code",
   "execution_count": 23,
   "metadata": {},
   "outputs": [
    {
     "name": "stdout",
     "output_type": "stream",
     "text": [
      "the number of gamma observations 375\n",
      "10 0.0 1\n",
      "the number of gamma observations 2451\n",
      "1.53327054821461 0.0 45.98839001352823\n",
      "the number of gamma observations 951\n",
      "10 0.0 1\n",
      "the number of gamma observations 1875\n",
      "3.4211200037348055 0.0 25.90906520072425\n",
      "the number of gamma observations 1168\n",
      "10 0.0 1\n",
      "the number of gamma observations 1658\n",
      "16.376040246665937 0.0 6.0359753929981474\n",
      "the number of gamma observations 1181\n",
      "9.83186499191388 0.0 1.0319202599666517\n",
      "the number of gamma observations 1645\n",
      "20.685933334021833 0.0 4.81027554136202\n",
      "the number of gamma observations 1181\n",
      "9.83186499191388 0.0 1.0319202599666517\n",
      "the number of gamma observations 1645\n",
      "20.685933334021833 0.0 4.81027554136202\n"
     ]
    }
   ],
   "source": [
    "X = [lineage1, lineage2] # population just contains one lineage\n",
    "\n",
    "deltas, state_ptrs, all_states, tHMMobj, NF, LL = Analyze(X, 2) # find two states"
   ]
  },
  {
   "cell_type": "code",
   "execution_count": 24,
   "metadata": {},
   "outputs": [
    {
     "name": "stdout",
     "output_type": "stream",
     "text": [
      "SWITCHING!\n"
     ]
    },
    {
     "data": {
      "text/plain": [
       "[100.0, 0.48165987402741756]"
      ]
     },
     "execution_count": 24,
     "metadata": {},
     "output_type": "execute_result"
    }
   ],
   "source": [
    "from lineage.Analyze import accuracy\n",
    "accuracy(tHMMobj, all_states)"
   ]
  },
  {
   "cell_type": "markdown",
   "metadata": {},
   "source": [
    "### Estimated Markov parameters ($\\pi$, $T$, $E$)"
   ]
  },
  {
   "cell_type": "code",
   "execution_count": 25,
   "metadata": {},
   "outputs": [
    {
     "name": "stdout",
     "output_type": "stream",
     "text": [
      "[5.32695096e-103 1.00000000e+000]\n"
     ]
    }
   ],
   "source": [
    "print(tHMMobj.estimate.pi)"
   ]
  },
  {
   "cell_type": "code",
   "execution_count": 26,
   "metadata": {},
   "outputs": [
    {
     "name": "stdout",
     "output_type": "stream",
     "text": [
      "[[0.84044524 0.15955476]\n",
      " [0.15061724 0.84938276]]\n"
     ]
    }
   ],
   "source": [
    "print(tHMMobj.estimate.T)"
   ]
  },
  {
   "cell_type": "code",
   "execution_count": 27,
   "metadata": {},
   "outputs": [
    {
     "name": "stdout",
     "output_type": "stream",
     "text": [
      "State object w/ parameters: 0.9890577507598189, 20.685933334021833, 0.0, 4.81027554136202.\n",
      "State object w/ parameters: 0.8806096528365147, 9.83186499191388, 0.0, 1.0319202599666517.\n"
     ]
    }
   ],
   "source": [
    "for state in range(tHMMobj.numStates):\n",
    "    print(tHMMobj.estimate.E[state])"
   ]
  },
  {
   "cell_type": "markdown",
   "metadata": {},
   "source": [
    "## Creating a synthetic lineage that has three states"
   ]
  },
  {
   "cell_type": "markdown",
   "metadata": {},
   "source": [
    "Here we generate a lineage with three states, which would be 1) Susciptible 2) Middle State 3) Resistant. The aim here is to show the transition from susciptible to resistant state doesn't happen immediately, and there is a gradual transition which is modeled as a middle state. The point to be considered here is that transition from 1 to 3 or otherwise is not possible so the probability of these transitions are zero, and most likely the initial cells are in susciptible state.\n",
    "\n",
    "**State 1**: Susceptible\n",
    "\n",
    "**State 2**: Transition state\n",
    "\n",
    "**State 3**: Resistant state\n"
   ]
  },
  {
   "cell_type": "code",
   "execution_count": 28,
   "metadata": {},
   "outputs": [],
   "source": [
    "# pi: the initial probability vector\n",
    "pi_3 = np.array([0.5, 0.25, 0.25])\n",
    "\n",
    "# T: transition probability matrix\n",
    "T_3 = np.array([[0.65, 0.35, 0.00],\n",
    "                [0.20, 0.40, 0.40],\n",
    "                [0.00, 0.10, 0.90]])"
   ]
  },
  {
   "cell_type": "code",
   "execution_count": 29,
   "metadata": {},
   "outputs": [],
   "source": [
    "# E: states are defined as StateDistribution objects\n",
    "\n",
    "# State 0 parameters \"Susciptible\"\n",
    "state0 = 0\n",
    "bern_p0 = 0.7\n",
    "gamma_a0 = 5.0\n",
    "gamma_scale0 = 1.0\n",
    "\n",
    "# State 1 parameters \"Middle state\"\n",
    "state1 = 1\n",
    "bern_p1 = 0.85\n",
    "gamma_a1 = 10.0\n",
    "gamma_scale1 = 2.0\n",
    "\n",
    "# State 2 parameters \"Resistant\"\n",
    "state2 = 2\n",
    "bern_p2 = 0.99\n",
    "gamma_a2 = 15.0\n",
    "gamma_scale2 = 3.0\n",
    "\n",
    "state_obj0 = StateDistribution(state0, bern_p0, gamma_a0, gamma_loc, gamma_scale0)\n",
    "state_obj1 = StateDistribution(state1, bern_p1, gamma_a1, gamma_loc, gamma_scale1)\n",
    "state_obj2 = StateDistribution(state2, bern_p2, gamma_a2, gamma_loc, gamma_scale2)\n",
    "\n",
    "E_3 = [state_obj0, state_obj1, state_obj2]"
   ]
  },
  {
   "cell_type": "code",
   "execution_count": 30,
   "metadata": {},
   "outputs": [],
   "source": [
    "desired_num_cells = 2**13 - 1 \n",
    "prune_boolean = False # To get the full tree"
   ]
  },
  {
   "cell_type": "code",
   "execution_count": 31,
   "metadata": {},
   "outputs": [
    {
     "name": "stdout",
     "output_type": "stream",
     "text": [
      "This tree is NOT pruned. It is made of 3 states.\n",
      " For each state in this tree: \n",
      " \t There are 1109 cells of state 0, \n",
      " \t There are 1648 cells of state 1, \n",
      " \t There are 5434 cells of state 2.\n",
      " This UNpruned tree has 8191 cells in total\n"
     ]
    }
   ],
   "source": [
    "lineage3 = LineageTree(pi_3, T_3, E_3, desired_num_cells, prune_boolean)\n",
    "print(lineage3)"
   ]
  },
  {
   "cell_type": "code",
   "execution_count": 32,
   "metadata": {},
   "outputs": [
    {
     "name": "stdout",
     "output_type": "stream",
     "text": [
      "640.975617599531\n"
     ]
    }
   ],
   "source": [
    "longest3 = get_experiment_time(lineage3)\n",
    "print(longest3)"
   ]
  },
  {
   "cell_type": "markdown",
   "metadata": {},
   "source": [
    "### Estimation of distribution parameters using our estimators for full lineage (3 state)"
   ]
  },
  {
   "cell_type": "code",
   "execution_count": 33,
   "metadata": {},
   "outputs": [
    {
     "name": "stdout",
     "output_type": "stream",
     "text": [
      "State 0:\n",
      "the number of gamma observations 1109\n",
      "10 0.0 1\n",
      "estimated state State object w/ parameters: 0.7060414788097014, 10, 0.0, 1.\n",
      "the number of gamma observations 283\n",
      "10 0.0 1\n",
      "estimated state State object w/ parameters: 0.7279151943461287, 10, 0.0, 1.\n",
      "true_____ state State object w/ parameters: 0.7, 5.0, 0, 1.0.\n",
      "State 1:\n",
      "the number of gamma observations 1648\n",
      "10.021441545616044 0.0 2.0002980087136915\n",
      "estimated state State object w/ parameters: 0.8592233009708302, 10.021441545616044, 0.0, 2.0002980087136915.\n",
      "the number of gamma observations 613\n",
      "10.82797379224745 0.0 1.867953186440943\n",
      "estimated state State object w/ parameters: 0.8629690048938458, 10.82797379224745, 0.0, 1.867953186440943.\n",
      "true_____ state State object w/ parameters: 0.85, 10.0, 0, 2.0.\n",
      "State 2:\n",
      "the number of gamma observations 5434\n",
      "15.056487612451072 0.0 2.986826357671454\n",
      "estimated state State object w/ parameters: 0.9911667280088152, 15.056487612451072, 0.0, 2.986826357671454.\n",
      "the number of gamma observations 2865\n",
      "14.924257823088881 0.0 3.0170599346036826\n",
      "estimated state State object w/ parameters: 0.9919720767887964, 14.924257823088881, 0.0, 3.0170599346036826.\n",
      "true_____ state State object w/ parameters: 0.99, 15.0, 0, 3.0.\n"
     ]
    }
   ],
   "source": [
    "for state in range(lineage3.num_states):\n",
    "    print(\"State {}:\".format(state))\n",
    "    print(\"estimated state\", E_3[state].estimator(lineage3.lineage_stats[state].full_lin_cells_obs))\n",
    "    print(\"estimated state\", E_3[state].estimator(lineage3.lineage_stats[state].pruned_lin_cells_obs))\n",
    "    print(\"true_____ state\", E_3[state])"
   ]
  },
  {
   "cell_type": "markdown",
   "metadata": {},
   "source": [
    "### Analyzing a three state lineage"
   ]
  },
  {
   "cell_type": "code",
   "execution_count": 34,
   "metadata": {},
   "outputs": [
    {
     "name": "stdout",
     "output_type": "stream",
     "text": [
      "the number of gamma observations 7645\n",
      "3.6383702058217473 0.0 10.097477602760973\n",
      "the number of gamma observations 545\n",
      "10 0.0 1\n",
      "the number of gamma observations 1\n",
      "10 0.0 1\n",
      "the number of gamma observations 7537\n",
      "3.2550310280705066 0.0 11.354095916498498\n",
      "the number of gamma observations 564\n",
      "10 0.0 1\n",
      "the number of gamma observations 90\n",
      "10 0.0 1\n",
      "the number of gamma observations 7438\n",
      "3.5183135692306644 0.0 10.620086256850609\n",
      "the number of gamma observations 591\n",
      "4.403933749817309 0.0 1.4733354759531592\n",
      "the number of gamma observations 162\n",
      "4.718713163907496 0.0 1.3661258657456827\n",
      "the number of gamma observations 7035\n",
      "6.126052535234789 0.0 6.418005065331432\n",
      "the number of gamma observations 811\n",
      "3.5539953174302688 0.0 1.4869425158813823\n",
      "the number of gamma observations 345\n",
      "3.5972131811308077 0.0 1.5448204219011206\n",
      "the number of gamma observations 6953\n",
      "6.647240936913428 0.0 5.967948876930966\n",
      "the number of gamma observations 999\n",
      "3.393822806990745 0.0 1.6406196041425671\n",
      "the number of gamma observations 239\n",
      "3.5095390291415063 0.0 1.6782436155274079\n",
      "the number of gamma observations 6887\n",
      "6.919060441151769 0.0 5.769177518025113\n",
      "the number of gamma observations 1139\n",
      "3.0255324326515454 0.0 1.9561766970568006\n",
      "the number of gamma observations 165\n",
      "3.061797140684435 0.0 2.270057053614798\n",
      "the number of gamma observations 6796\n",
      "7.254431428599039 0.0 5.546742194123452\n",
      "the number of gamma observations 1237\n",
      "2.6790403644844503 0.0 2.3500670518954303\n",
      "the number of gamma observations 158\n",
      "2.964380700179579 0.0 3.308677396919647\n",
      "the number of gamma observations 6651\n",
      "7.74830670355658 0.0 5.256168392160853\n",
      "the number of gamma observations 1230\n",
      "2.496989753453707 0.0 2.5339855367439994\n",
      "the number of gamma observations 310\n",
      "4.370567810473682 0.0 3.0588701280904993\n",
      "the number of gamma observations 6444\n",
      "8.547681691583712 0.0 4.847512289055737\n",
      "the number of gamma observations 1274\n",
      "2.501382353640695 0.0 2.5257734813850155\n",
      "the number of gamma observations 473\n",
      "8.601632299142954 0.0 1.9029294847195646\n",
      "the number of gamma observations 6263\n",
      "9.413016899327657 0.0 4.469840375334726\n",
      "the number of gamma observations 1283\n",
      "2.5191234421870146 0.0 2.4707536559348333\n",
      "the number of gamma observations 645\n",
      "13.756209250956536 0.0 1.2734520977635888\n",
      "the number of gamma observations 6095\n",
      "10.521286933867769 0.0 4.059650025624713\n",
      "the number of gamma observations 1294\n",
      "2.5273679847536106 0.0 2.4695745241806706\n",
      "the number of gamma observations 802\n",
      "15.858983498531487 0.0 1.13120058450775\n",
      "the number of gamma observations 5942\n",
      "11.782303623558592 0.0 3.67614740059142\n",
      "the number of gamma observations 1303\n",
      "2.4869093571004295 0.0 2.53720126711781\n",
      "the number of gamma observations 946\n",
      "16.826614885007597 0.0 1.0810386116005388\n",
      "the number of gamma observations 5845\n",
      "12.631795543912443 0.0 3.458313745696992\n",
      "the number of gamma observations 1316\n",
      "2.3819014433395824 0.0 2.706957559783854\n",
      "the number of gamma observations 1030\n",
      "16.950759788630663 0.0 1.0868721143315228\n",
      "the number of gamma observations 5778\n",
      "13.259192282362031 0.0 3.3139985531176013\n",
      "the number of gamma observations 1331\n",
      "2.3024367186375834 0.0 2.861520492469764\n",
      "the number of gamma observations 1082\n",
      "16.960915208904257 0.0 1.0973529388782255\n",
      "the number of gamma observations 5729\n",
      "13.71046994934977 0.0 3.2183631075678605\n",
      "the number of gamma observations 1346\n",
      "2.2699101104920776 0.0 2.9467007283801614\n",
      "the number of gamma observations 1116\n",
      "17.26792566100253 0.0 1.0898032395490922\n",
      "the number of gamma observations 5693\n",
      "13.972492784626677 0.0 3.1666826477282726\n",
      "the number of gamma observations 1365\n",
      "2.1819156470801597 0.0 3.141637797451522\n",
      "the number of gamma observations 1133\n",
      "17.350990659470636 0.0 1.096030384706007\n",
      "the number of gamma observations 5668\n",
      "14.182627209487588 0.0 3.1261134889059314\n",
      "the number of gamma observations 1375\n",
      "2.155316374609489 0.0 3.214667648877725\n",
      "the number of gamma observations 1148\n",
      "17.570191799824528 0.0 1.089318000800951\n",
      "the number of gamma observations 5652\n",
      "14.347313912633142 0.0 3.094491861164746\n",
      "the number of gamma observations 1384\n",
      "2.135888100283514 0.0 3.2746551844836183\n",
      "the number of gamma observations 1155\n",
      "17.733909444545322 0.0 1.0830000749201907\n",
      "the number of gamma observations 5640\n",
      "14.461323131984873 0.0 3.0731227775984817\n",
      "the number of gamma observations 1392\n",
      "2.1119973677545993 0.0 3.3426194593169685\n",
      "the number of gamma observations 1159\n",
      "17.813100612453923 0.0 1.0811979202682795\n",
      "the number of gamma observations 5631\n",
      "14.531609333671978 0.0 3.0604006761794387\n",
      "the number of gamma observations 1400\n",
      "2.1037242553900346 0.0 3.3787637557638073\n",
      "the number of gamma observations 1160\n",
      "17.913806346002673 0.0 1.079028880551132\n",
      "the number of gamma observations 5627\n",
      "14.562159498804995 0.0 3.0549283735908697\n",
      "the number of gamma observations 1404\n",
      "2.0963415643240255 0.0 3.4041962819242175\n",
      "the number of gamma observations 1160\n",
      "17.956497672681277 0.0 1.0779965375337637\n",
      "the number of gamma observations 5625\n",
      "14.591889265584172 0.0 3.0493023632137306\n",
      "the number of gamma observations 1407\n",
      "2.0985507528009197 0.0 3.4060468039401606\n",
      "the number of gamma observations 1159\n",
      "18.081963176295968 0.0 1.0715558694872305\n"
     ]
    }
   ],
   "source": [
    "X = [lineage3] # population just contains one lineage\n",
    "\n",
    "deltas, state_ptrs, all_states, tHMMobj, NF, LL = Analyze(X, 3) # find three states"
   ]
  },
  {
   "cell_type": "code",
   "execution_count": 35,
   "metadata": {},
   "outputs": [
    {
     "name": "stdout",
     "output_type": "stream",
     "text": [
      "SWITCHING!\n"
     ]
    },
    {
     "data": {
      "text/plain": [
       "[16.713465999267488]"
      ]
     },
     "execution_count": 35,
     "metadata": {},
     "output_type": "execute_result"
    }
   ],
   "source": [
    "accuracy(tHMMobj, all_states)"
   ]
  },
  {
   "cell_type": "markdown",
   "metadata": {},
   "source": [
    "### Estimated Markov parameters ($\\pi$, $T$, $E$)"
   ]
  },
  {
   "cell_type": "code",
   "execution_count": 36,
   "metadata": {},
   "outputs": [
    {
     "name": "stdout",
     "output_type": "stream",
     "text": [
      "[5.02717934e-26 1.41355937e-31 1.00000000e+00]\n"
     ]
    }
   ],
   "source": [
    "print(tHMMobj.estimate.pi)"
   ]
  },
  {
   "cell_type": "code",
   "execution_count": 37,
   "metadata": {},
   "outputs": [
    {
     "name": "stdout",
     "output_type": "stream",
     "text": [
      "[[0.90758509 0.01529329 0.07712162]\n",
      " [0.07825898 0.68428343 0.23745758]\n",
      " [0.42946865 0.29276813 0.27776321]]\n"
     ]
    }
   ],
   "source": [
    "print(tHMMobj.estimate.T)"
   ]
  }
 ],
 "metadata": {
  "kernelspec": {
   "display_name": "Python 3",
   "language": "python",
   "name": "python3"
  },
  "language_info": {
   "codemirror_mode": {
    "name": "ipython",
    "version": 3
   },
   "file_extension": ".py",
   "mimetype": "text/x-python",
   "name": "python",
   "nbconvert_exporter": "python",
   "pygments_lexer": "ipython3",
   "version": "3.7.3"
  }
 },
 "nbformat": 4,
 "nbformat_minor": 4
}
