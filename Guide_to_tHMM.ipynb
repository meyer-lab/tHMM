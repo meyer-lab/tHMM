{
 "cells": [
  {
   "cell_type": "markdown",
   "metadata": {},
   "source": [
    "# Guide to tHMM"
   ]
  },
  {
   "cell_type": "code",
   "execution_count": 54,
   "metadata": {},
   "outputs": [],
   "source": [
    "import numpy as np\n",
    "import scipy.stats as sp\n",
    "import matplotlib.pyplot as plt"
   ]
  },
  {
   "cell_type": "markdown",
   "metadata": {},
   "source": [
    "### Synthesizing Cells (not required by the user)"
   ]
  },
  {
   "cell_type": "code",
   "execution_count": 55,
   "metadata": {},
   "outputs": [],
   "source": [
    "from lineage.CellVar import CellVar as c\n",
    "from lineage.CellVar import _double"
   ]
  },
  {
   "cell_type": "code",
   "execution_count": 56,
   "metadata": {},
   "outputs": [],
   "source": [
    "T = np.array([[1.0, 0.0],\n",
    "              [0.0, 1.0]])\n",
    "    \n",
    "parent_state = 1\n",
    "parent_cell = c(state=parent_state, left=None, right=None, parent=None, gen=1)\n",
    "left_cell, right_cell = parent_cell._divide(T)"
   ]
  },
  {
   "cell_type": "code",
   "execution_count": 57,
   "metadata": {},
   "outputs": [
    {
     "name": "stdout",
     "output_type": "stream",
     "text": [
      "\n",
      " Generation: 2, State: 1, Observation: This cell has no observations to report. \n",
      " Generation: 2, State: 1, Observation: This cell has no observations to report.\n"
     ]
    }
   ],
   "source": [
    "print(left_cell, parent_cell.left)"
   ]
  },
  {
   "cell_type": "code",
   "execution_count": 58,
   "metadata": {},
   "outputs": [
    {
     "name": "stdout",
     "output_type": "stream",
     "text": [
      "\n",
      " Generation: 2, State: 1, Observation: This cell has no observations to report. \n",
      " Generation: 2, State: 1, Observation: This cell has no observations to report.\n"
     ]
    }
   ],
   "source": [
    "print(right_cell, parent_cell.right)"
   ]
  },
  {
   "cell_type": "markdown",
   "metadata": {},
   "source": [
    "## Creating a synthetic lineage (required by the user) \"Two State Model\""
   ]
  },
  {
   "cell_type": "code",
   "execution_count": 59,
   "metadata": {},
   "outputs": [],
   "source": [
    "from lineage.LineageTree import LineageTree\n",
    "from lineage.StateDistribution import StateDistribution, get_experiment_time"
   ]
  },
  {
   "cell_type": "markdown",
   "metadata": {},
   "source": [
    "### Creating a lineage and setting the full lineage (unpruned) as the one to be used"
   ]
  },
  {
   "cell_type": "markdown",
   "metadata": {},
   "source": [
    "The required probabilities are those that define the tree and act of state switching. This process works by first creating a hidden tree of empty cells. Empty cells are those that have their states set but do not have any observations attached to them. We then draw as many observations from each state distribution and assign those observations to those cells. The $\\pi$ and $T$ parameters are easy to define. The number of states is $k$. We require for $\\pi$ a $k\\times 1$ list of probabilities. These probabilities must add up to $1$ and they should be either in a $1$-dimensional list or a $1$-dimensional numpy array. The $T$ parameter should be a square numpy matrix of size $k\\times k$. The rows are the states in which we are transitioning from and the columns are the states in which we are transitioning to. Each row of $T$ should sum to $1$. The columns need not sum to $1$."
   ]
  },
  {
   "cell_type": "code",
   "execution_count": 60,
   "metadata": {},
   "outputs": [],
   "source": [
    "# pi: the initial probability vector\n",
    "pi = np.array([0.6, 0.4], dtype=\"float\")\n",
    "\n",
    "# T: transition probability matrix\n",
    "T = np.array([[0.85, 0.15],\n",
    "              [0.15, 0.85]])"
   ]
  },
  {
   "cell_type": "markdown",
   "metadata": {},
   "source": [
    "The emission matrix $E$ is a little more complicated to define because this is where the user has complete freedom in defining what type of observation they care about. In particular, the user has to first begin with defining what observation he or she will want in their cells in their synthetic images. For example, if one is observing kinematics or physics, they might want to use Gaaussian distribution observations. In defining the random variables, the user will pull from a Gaussian distribution based on the mean and standard deviation of the different states he or she picks. They can also utilize the Gaussian probability distribution to define the likelihood as well. Furthermore, they can build an analytical estimator for their state distributions that yield the parameter estimates when given a list of observations. Finally, the user can also define a prune rule, which is essentially a boolean function that inspects a cell's observations and returns True if the cell's subtree (all the cells that are related to the cell in question and are of older generation) is to be pruned or False if the cell is safe from pruning. In the Gaussian example, a user can remove a cell's subtree if its observation is higher or lower than some fixed value.\n",
    "\n",
    "We have already built, as an example, and as bioengineers, a model that resembles lineage trees. In our synthetic model, our emissions are multivariate. This first emission is a Bernoulli observation, $0$ implying death and $1$ implying division. The second and third emissions are continuous and are from exponential and gamma distributions respectively. Though these can be thought of cell lifetime's or periods in a certain cell phase, we want the user to know that these values can really mean anything and they are completely free in choosing what the emissions and their values mean. We define ways to calculate random variables for these multivariate observations and likelihoods of an observations. We also provide as a prune rule, keeping with the cell analogy, that if a cell has a $0$ in its Bernoulli observation, then its subtree is pruned from the full lineage tree. Though this will obviously introduce bias into estimation, we keep both the full tree and the pruned tree in the lineage objects, in the case a user would like to see the effects of analyzing on one versus the other.\n",
    "\n",
    "Ultimately, $E$ is defined as a $k\\times 1$ size list of state distribution objects. These distribution objects are rich in what they can already do, and a user can easily add more to their functionality. They only need to be instantiated by what parameters define that state's distribution."
   ]
  },
  {
   "cell_type": "code",
   "execution_count": 61,
   "metadata": {},
   "outputs": [],
   "source": [
    "# E: states are defined as StateDistribution objects\n",
    "\n",
    "# State 0 parameters \"Resistant\"\n",
    "state0 = 0\n",
    "bern_p0 = 0.99\n",
    "gamma_loc = 0\n",
    "gamma_a0 = 20\n",
    "gamma_scale0 = 5\n",
    "\n",
    "# State 1 parameters \"Susceptible\"\n",
    "state1 = 1\n",
    "bern_p1 = 0.88\n",
    "gamma_a1 = 15\n",
    "gamma_scale1 = 1\n",
    "\n",
    "state_obj0 = StateDistribution(state0, bern_p0, gamma_a0, gamma_loc, gamma_scale0)\n",
    "state_obj1 = StateDistribution(state1, bern_p1, gamma_a1, gamma_loc,  gamma_scale1)\n",
    "\n",
    "E = [state_obj0, state_obj1]"
   ]
  },
  {
   "cell_type": "markdown",
   "metadata": {},
   "source": [
    "The final required parameters are more obvious. The first is the desired number of cells one would like in their full unpruned lineage tree. This can be any number. The lineage tree is built 'from left to right'. What this means is that, we construct the binary tree by going to the left-most cell, dividing then walking through the generation. For example, if someone requested for"
   ]
  },
  {
   "cell_type": "code",
   "execution_count": 62,
   "metadata": {},
   "outputs": [],
   "source": [
    "desired_num_cells = 2**7 - 1 \n",
    "prune_boolean = False # To get the full tree"
   ]
  },
  {
   "cell_type": "code",
   "execution_count": 63,
   "metadata": {},
   "outputs": [
    {
     "name": "stdout",
     "output_type": "stream",
     "text": [
      "This tree is NOT pruned. It is made of 2 states.\n",
      " For each state in this tree: \n",
      " \t There are 65 cells of state 0, \n",
      " \t There are 62 cells of state 1.\n",
      " This UNpruned tree has 127 many cells in total\n"
     ]
    }
   ],
   "source": [
    "lineage1 = LineageTree(pi, T, E, desired_num_cells, desired_experiment_time=1000, prune_condition='both', prune_boolean=False)\n",
    "print(lineage1)"
   ]
  },
  {
   "cell_type": "markdown",
   "metadata": {},
   "source": [
    "### Obtaining how long the experiment ran by checking the time length of the longest branch"
   ]
  },
  {
   "cell_type": "code",
   "execution_count": 64,
   "metadata": {},
   "outputs": [
    {
     "name": "stdout",
     "output_type": "stream",
     "text": [
      "710.957277373252\n"
     ]
    }
   ],
   "source": [
    "longest_branch_time = get_experiment_time(lineage1)\n",
    "print(longest_branch_time)"
   ]
  },
  {
   "cell_type": "markdown",
   "metadata": {},
   "source": [
    "### Estimation of distribution parameters using our estimators for full lineage"
   ]
  },
  {
   "cell_type": "code",
   "execution_count": 65,
   "metadata": {},
   "outputs": [
    {
     "name": "stdout",
     "output_type": "stream",
     "text": [
      "State 0:\n",
      "                    estimated state State object w/ parameters: 0.9538461538447573, 26.008909508411826, 0.0, 3.750203910672563.\n",
      "original parameters given for state State object w/ parameters: 0.99, 20, 0, 5.\n",
      "State 1:\n",
      "                    estimated state State object w/ parameters: 0.8548387096762748, 14.026058569272587, 0.0, 1.064891497886133.\n",
      "original parameters given for state State object w/ parameters: 0.88, 15, 0, 1.\n"
     ]
    }
   ],
   "source": [
    "for state in range(lineage1.num_states):\n",
    "    print(\"State {}:\".format(state))\n",
    "    print(\"                    estimated state\", E[state].estimator(lineage1.lineage_stats[state].full_lin_cells_obs))\n",
    "    print(\"original parameters given for state\", E[state])"
   ]
  },
  {
   "cell_type": "markdown",
   "metadata": {},
   "source": [
    "### Estimation of distribution parameters using our estimators for pruned lineage"
   ]
  },
  {
   "cell_type": "code",
   "execution_count": 66,
   "metadata": {},
   "outputs": [
    {
     "name": "stdout",
     "output_type": "stream",
     "text": [
      "State 0:\n",
      "                    estimated state State object w/ parameters: 0.9615384615366865, 25.955852053130364, 0.0, 3.6607775564332785.\n",
      "original parameters given for state State object w/ parameters: 0.99, 20, 0, 5.\n",
      "State 1:\n",
      "                    estimated state State object w/ parameters: 0.8775510204066224, 13.173762218560649, 0.0, 1.1221592385061.\n",
      "original parameters given for state State object w/ parameters: 0.88, 15, 0, 1.\n"
     ]
    }
   ],
   "source": [
    "for state in range(lineage1.num_states):\n",
    "    print(\"State {}:\".format(state))\n",
    "    print(\"                    estimated state\", E[state].estimator(lineage1.lineage_stats[state].pruned_lin_cells_obs))\n",
    "    print(\"original parameters given for state\", E[state])"
   ]
  },
  {
   "cell_type": "markdown",
   "metadata": {},
   "source": [
    "### Analyzing our first full lineage"
   ]
  },
  {
   "cell_type": "code",
   "execution_count": 67,
   "metadata": {},
   "outputs": [],
   "source": [
    "from lineage.Analyze import Analyze, accuracy, KL_analyze\n",
    "\n",
    "X = [lineage1] # population just contains one lineage\n",
    "states = [cell.state for cell in lineage1.output_lineage]\n",
    "deltas, state_ptrs, all_states, tHMMobj, NF, LL = Analyze(X, 2) # find two states"
   ]
  },
  {
   "cell_type": "code",
   "execution_count": 68,
   "metadata": {},
   "outputs": [
    {
     "data": {
      "text/plain": [
       "[array([1, 1, 1, 1, 1, 1, 1, 1, 1, 1, 1, 1, 1, 1, 1, 1, 1, 1, 1, 1, 1, 1,\n",
       "        1, 1, 1, 1, 1, 1, 1, 1, 1, 1, 1, 1, 1, 1, 1, 1, 1, 0, 1, 1, 1, 1,\n",
       "        1, 1, 1, 1, 1, 1, 1, 1, 1, 1, 1, 1, 1, 0, 1, 1, 1, 1, 1, 1, 1, 1,\n",
       "        1, 1, 1, 0, 1, 1, 1, 1, 1, 1, 1, 1, 1, 1, 0, 1, 1, 1, 1, 1, 1, 1,\n",
       "        1, 1, 1, 1, 1, 1, 1, 1, 1, 1, 1, 1, 1, 1, 1, 1, 1, 1, 1, 1, 1, 1,\n",
       "        1, 1, 1, 1, 1, 1, 0, 1, 1, 1, 1, 1, 1, 1, 1, 1, 1])]"
      ]
     },
     "execution_count": 68,
     "metadata": {},
     "output_type": "execute_result"
    }
   ],
   "source": [
    "all_states"
   ]
  },
  {
   "cell_type": "code",
   "execution_count": 69,
   "metadata": {},
   "outputs": [],
   "source": [
    "def kl_divergence(p, q):\n",
    "    \"\"\" Performs KL-divergence as:\n",
    "        KL(P||Q) = Integral[ P(x) log(P(x)/Q(x)) ] for continuous distributions,\n",
    "        and summation instead of integral, for discrete distributions. \"\"\"\n",
    "    return np.sum(np.where(p != 0, p * np.log(p / q), 0))\n",
    "import scipy"
   ]
  },
  {
   "cell_type": "code",
   "execution_count": 70,
   "metadata": {},
   "outputs": [
    {
     "name": "stdout",
     "output_type": "stream",
     "text": [
      "the min size 17\n",
      "the min size 15\n",
      "the min size 0\n"
     ]
    }
   ],
   "source": [
    "gamma_a0List = [17.0, 13.0, 10.0]\n",
    "gamma_scale0List = [7.0, 5.0, 3.0]\n",
    "gamma_a1List = [4.0, 7.0, 10.0]\n",
    "gamma_scale1List = [10.0, 8.0, 3.0]\n",
    "\n",
    "gammaKL = []\n",
    "acc = []\n",
    "for i in range(3):\n",
    "    state_obj0 = StateDistribution(state0, bern_p0, gamma_a0List[i], gamma_loc, gamma_scale0List[i])\n",
    "    state_obj1 = StateDistribution(state1, bern_p1, gamma_a1List[i], gamma_loc,  gamma_scale1List[i])\n",
    "\n",
    "    E = [state_obj0, state_obj1]\n",
    "    lineageObj = LineageTree(pi, T, E, desired_num_cells=2**11 -1, desired_experiment_time=100000, prune_condition='both', prune_boolean=False)\n",
    "    X = [lineageObj]\n",
    "    states = [cell.state for cell in lineageObj.output_lineage]\n",
    "    deltas, state_ptrs, all_states, tHMMobj, NF, LL = Analyze(X, 2)\n",
    "\n",
    "    # find the accuracy\n",
    "    temp = accuracy(tHMMobj, all_states)\n",
    "    acc.append(temp[0])\n",
    "\n",
    "    # find the KL divergence\n",
    "    state0obs=[]\n",
    "    state1obs=[]\n",
    "\n",
    "    for indx, cell in enumerate(lineageObj.output_lineage):\n",
    "        if all_states[0][indx] == 0:\n",
    "            state0obs.append(cell.obs[1])\n",
    "        elif all_states[0][indx] == 1:\n",
    "            state1obs.append(cell.obs[1])\n",
    "    p=scipy.stats.gamma.pdf(state0obs, a=gamma_a0List[i], loc=gamma_loc, scale=gamma_scale0List[i])\n",
    "    q=scipy.stats.gamma.pdf(state1obs, a=gamma_a1List[i], loc=gamma_loc, scale=gamma_scale1List[i])\n",
    "    size = min(p.shape[0], q.shape[0])\n",
    "    print(\"the min size {}\".format(size))\n",
    "    gammaKL.append(kl_divergence(p[0:size], q[0:size]))"
   ]
  },
  {
   "cell_type": "code",
   "execution_count": 71,
   "metadata": {},
   "outputs": [
    {
     "name": "stdout",
     "output_type": "stream",
     "text": [
      "acc [50.36638983878847, 47.97264289203713, 55.83781143136297]\n",
      "KL [0.30194252597283744, 0.12636138557785018, 0.0]\n"
     ]
    }
   ],
   "source": [
    "print(\"acc\", acc)\n",
    "print(\"KL\", gammaKL)"
   ]
  },
  {
   "cell_type": "code",
   "execution_count": 72,
   "metadata": {},
   "outputs": [
    {
     "data": {
      "text/plain": [
       "(array([ 37.,  83., 100.,  94.,  80.,  49.,  26.,  16.,  11.,   4.]),\n",
       " array([  4.88096201,  14.91942699,  24.95789197,  34.99635695,\n",
       "         45.03482193,  55.07328691,  65.1117519 ,  75.15021688,\n",
       "         85.18868186,  95.22714684, 105.26561182]),\n",
       " <a list of 10 Patch objects>)"
      ]
     },
     "execution_count": 72,
     "metadata": {},
     "output_type": "execute_result"
    },
    {
     "data": {
      "image/png": "[encoded data removed]",
      "text/plain": [
       "<Figure size 432x288 with 1 Axes>"
      ]
     },
     "metadata": {
      "needs_background": "light"
     },
     "output_type": "display_data"
    }
   ],
   "source": [
    "import matplotlib.pyplot as plt\n",
    "gamma_a0List = [17.0, 13.0, 10.0]\n",
    "gamma_scale0List = [7.0, 5.0, 3.0]\n",
    "gamma_a1List = [4.0, 7.0, 10.0]\n",
    "gamma_scale1List = [10.0, 8.0, 3.0]\n",
    "plt.hist(scipy.stats.gamma.rvs(a=gamma_a1List[0], loc=gamma_loc, scale=gamma_scale1List[0], size=500))"
   ]
  },
  {
   "cell_type": "code",
   "execution_count": 73,
   "metadata": {},
   "outputs": [
    {
     "data": {
      "text/plain": [
       "[0.30194252597283744, 0.12636138557785018, 0.0]"
      ]
     },
     "execution_count": 73,
     "metadata": {},
     "output_type": "execute_result"
    }
   ],
   "source": [
    "# plt.hist(q)\n",
    "gammaKL"
   ]
  },
  {
   "cell_type": "code",
   "execution_count": 74,
   "metadata": {},
   "outputs": [
    {
     "data": {
      "text/plain": [
       "[<matplotlib.lines.Line2D at 0x7ff9aa8b45f8>]"
      ]
     },
     "execution_count": 74,
     "metadata": {},
     "output_type": "execute_result"
    },
    {
     "data": {
      "image/png": "[encoded data removed]",
      "text/plain": [
       "<Figure size 432x288 with 1 Axes>"
      ]
     },
     "metadata": {
      "needs_background": "light"
     },
     "output_type": "display_data"
    }
   ],
   "source": [
    "plt.plot(q)"
   ]
  },
  {
   "cell_type": "markdown",
   "metadata": {},
   "source": [
    "### Estimated Markov parameters ($\\pi$, $T$, $E$)"
   ]
  },
  {
   "cell_type": "code",
   "execution_count": 75,
   "metadata": {},
   "outputs": [
    {
     "name": "stdout",
     "output_type": "stream",
     "text": [
      "[1.00000000e+000 8.04377925e-109]\n"
     ]
    }
   ],
   "source": [
    "print(tHMMobj.estimate.pi)"
   ]
  },
  {
   "cell_type": "code",
   "execution_count": 76,
   "metadata": {},
   "outputs": [
    {
     "name": "stdout",
     "output_type": "stream",
     "text": [
      "[[9.99930971e-01 6.90292635e-05]\n",
      " [9.99999993e-01 6.98207050e-09]]\n"
     ]
    }
   ],
   "source": [
    "print(tHMMobj.estimate.T)"
   ]
  },
  {
   "cell_type": "code",
   "execution_count": 77,
   "metadata": {},
   "outputs": [
    {
     "name": "stdout",
     "output_type": "stream",
     "text": [
      "State object w/ parameters: 0.9433317049340065, 9.827991561406423, 0.0, 3.061589374401238.\n",
      "State object w/ parameters: 0.5, 10, 0, 1.\n"
     ]
    }
   ],
   "source": [
    "for state in range(tHMMobj.numStates):\n",
    "    print(tHMMobj.estimate.E[state])"
   ]
  },
  {
   "cell_type": "markdown",
   "metadata": {},
   "source": [
    "## Trying another lineage, this time pruning branches with ancestors that die"
   ]
  },
  {
   "cell_type": "code",
   "execution_count": 78,
   "metadata": {},
   "outputs": [],
   "source": [
    "desired_num_cells = 2**12 -1 \n",
    "prune_boolean = True # To get pruned tree"
   ]
  },
  {
   "cell_type": "code",
   "execution_count": 79,
   "metadata": {},
   "outputs": [
    {
     "name": "stdout",
     "output_type": "stream",
     "text": [
      "This tree is pruned. It is made of 2 states.\n",
      " For each state in this tree: \n",
      " \t There are 3 cells of state 0, \n",
      " \t There are 0 cells of state 1.\n",
      " This pruned tree has 3 many cells in total\n"
     ]
    }
   ],
   "source": [
    "lineage2 = LineageTree(pi, T, E, desired_num_cells, prune_boolean)\n",
    "print(lineage2)"
   ]
  },
  {
   "cell_type": "code",
   "execution_count": 80,
   "metadata": {},
   "outputs": [
    {
     "name": "stdout",
     "output_type": "stream",
     "text": [
      "61.31041435850814\n"
     ]
    }
   ],
   "source": [
    "longest2 = get_experiment_time(lineage2)\n",
    "print(longest2)"
   ]
  },
  {
   "cell_type": "markdown",
   "metadata": {},
   "source": [
    "### Estimation of distribution parameters using our estimators for pruned lineage"
   ]
  },
  {
   "cell_type": "code",
   "execution_count": 81,
   "metadata": {},
   "outputs": [
    {
     "name": "stdout",
     "output_type": "stream",
     "text": [
      "State 0:\n",
      "                    estimated state State object w/ parameters: 0.9999999999666667, 20.956382919953885, 0.0, 1.2891601003267479.\n",
      "original parameters given for state State object w/ parameters: 0.99, 10.0, 0, 3.0.\n",
      "State 1:\n",
      "                    estimated state State object w/ parameters: 0.5, 10, 0, 1.\n",
      "original parameters given for state State object w/ parameters: 0.88, 10.0, 0, 3.0.\n"
     ]
    }
   ],
   "source": [
    "for state in range(lineage2.num_states):\n",
    "    print(\"State {}:\".format(state))\n",
    "    print(\"                    estimated state\", E[state].estimator(lineage2.lineage_stats[state].pruned_lin_cells_obs))\n",
    "    print(\"original parameters given for state\", E[state])"
   ]
  },
  {
   "cell_type": "markdown",
   "metadata": {},
   "source": [
    "### Analyzing a population of lineages"
   ]
  },
  {
   "cell_type": "code",
   "execution_count": 82,
   "metadata": {},
   "outputs": [],
   "source": [
    "X = [lineage1, lineage2] # population just contains one lineage\n",
    "\n",
    "deltas, state_ptrs, all_states, tHMMobj, NF, LL = Analyze(X, 2) # find two states"
   ]
  },
  {
   "cell_type": "code",
   "execution_count": 83,
   "metadata": {},
   "outputs": [
    {
     "data": {
      "text/plain": [
       "[48.818897637795274, 100.0]"
      ]
     },
     "execution_count": 83,
     "metadata": {},
     "output_type": "execute_result"
    }
   ],
   "source": [
    "from lineage.Analyze import accuracy\n",
    "accuracy(tHMMobj, all_states)"
   ]
  },
  {
   "cell_type": "markdown",
   "metadata": {},
   "source": [
    "### Estimated Markov parameters ($\\pi$, $T$, $E$)"
   ]
  },
  {
   "cell_type": "code",
   "execution_count": 84,
   "metadata": {},
   "outputs": [
    {
     "name": "stdout",
     "output_type": "stream",
     "text": [
      "[1.00000000e+00 5.03234369e-30]\n"
     ]
    }
   ],
   "source": [
    "print(tHMMobj.estimate.pi)"
   ]
  },
  {
   "cell_type": "code",
   "execution_count": 85,
   "metadata": {},
   "outputs": [
    {
     "name": "stdout",
     "output_type": "stream",
     "text": [
      "[[1.00000000e+00 1.67684275e-14]\n",
      " [1.00000000e+00 1.55558022e-14]]\n"
     ]
    }
   ],
   "source": [
    "print(tHMMobj.estimate.T)"
   ]
  },
  {
   "cell_type": "code",
   "execution_count": 86,
   "metadata": {},
   "outputs": [
    {
     "name": "stdout",
     "output_type": "stream",
     "text": [
      "State object w/ parameters: 0.5, 10, 0, 1.\n",
      "State object w/ parameters: 0.9076923076916804, 1.3839094374800456, 0.0, 40.83810528203561.\n"
     ]
    }
   ],
   "source": [
    "for state in range(tHMMobj.numStates):\n",
    "    print(tHMMobj.estimate.E[state])"
   ]
  },
  {
   "cell_type": "markdown",
   "metadata": {},
   "source": [
    "## Creating a synthetic lineage that has three states"
   ]
  },
  {
   "cell_type": "markdown",
   "metadata": {},
   "source": [
    "Here we generate a lineage with three states, which would be 1) Susciptible 2) Middle State 3) Resistant. The aim here is to show the transition from susciptible to resistant state doesn't happen immediately, and there is a gradual transition which is modeled as a middle state. The point to be considered here is that transition from 1 to 3 or otherwise is not possible so the probability of these transitions are zero, and most likely the initial cells are in susciptible state.\n",
    "\n",
    "**State 1**: Susceptible\n",
    "\n",
    "**State 2**: Transition state\n",
    "\n",
    "**State 3**: Resistant state\n"
   ]
  },
  {
   "cell_type": "code",
   "execution_count": 87,
   "metadata": {},
   "outputs": [],
   "source": [
    "# pi: the initial probability vector\n",
    "pi_3 = np.array([0.5, 0.25, 0.25])\n",
    "\n",
    "# T: transition probability matrix\n",
    "T_3 = np.array([[0.65, 0.35, 0.00],\n",
    "                [0.20, 0.40, 0.40],\n",
    "                [0.00, 0.10, 0.90]])"
   ]
  },
  {
   "cell_type": "code",
   "execution_count": 88,
   "metadata": {},
   "outputs": [],
   "source": [
    "# E: states are defined as StateDistribution objects\n",
    "\n",
    "# State 0 parameters \"Susciptible\"\n",
    "state0 = 0\n",
    "bern_p0 = 0.7\n",
    "gamma_a0 = 5.0\n",
    "gamma_scale0 = 1.0\n",
    "\n",
    "# State 1 parameters \"Middle state\"\n",
    "state1 = 1\n",
    "bern_p1 = 0.85\n",
    "gamma_a1 = 10.0\n",
    "gamma_scale1 = 2.0\n",
    "\n",
    "# State 2 parameters \"Resistant\"\n",
    "state2 = 2\n",
    "bern_p2 = 0.99\n",
    "gamma_a2 = 15.0\n",
    "gamma_scale2 = 3.0\n",
    "\n",
    "state_obj0 = StateDistribution(state0, bern_p0, gamma_a0, gamma_loc, gamma_scale0)\n",
    "state_obj1 = StateDistribution(state1, bern_p1, gamma_a1, gamma_loc, gamma_scale1)\n",
    "state_obj2 = StateDistribution(state2, bern_p2, gamma_a2, gamma_loc, gamma_scale2)\n",
    "\n",
    "E_3 = [state_obj0, state_obj1, state_obj2]"
   ]
  },
  {
   "cell_type": "code",
   "execution_count": 89,
   "metadata": {},
   "outputs": [],
   "source": [
    "desired_num_cells = 2**13 - 1 \n",
    "prune_boolean = False # To get the full tree"
   ]
  },
  {
   "cell_type": "code",
   "execution_count": 90,
   "metadata": {},
   "outputs": [
    {
     "name": "stdout",
     "output_type": "stream",
     "text": [
      "This tree is pruned. It is made of 3 states.\n",
      " For each state in this tree: \n",
      " \t There are 2 cells of state 0, \n",
      " \t There are 1 cells of state 1, \n",
      " \t There are 0 cells of state 2.\n",
      " This pruned tree has 3 many cells in total\n"
     ]
    }
   ],
   "source": [
    "lineage3 = LineageTree(pi_3, T_3, E_3, desired_num_cells, prune_boolean)\n",
    "print(lineage3)"
   ]
  },
  {
   "cell_type": "code",
   "execution_count": 91,
   "metadata": {},
   "outputs": [
    {
     "name": "stdout",
     "output_type": "stream",
     "text": [
      "36.1291671805797\n"
     ]
    }
   ],
   "source": [
    "longest3 = get_experiment_time(lineage3)\n",
    "print(longest3)"
   ]
  },
  {
   "cell_type": "markdown",
   "metadata": {},
   "source": [
    "### Estimation of distribution parameters using our estimators for full lineage (3 state)"
   ]
  },
  {
   "cell_type": "code",
   "execution_count": 92,
   "metadata": {},
   "outputs": [
    {
     "name": "stdout",
     "output_type": "stream",
     "text": [
      "State 0:\n",
      "estimated state State object w/ parameters: 0.7030859049207334, 10, 0.0, 1.\n",
      "estimated state State object w/ parameters: 0.99999999995, 10, 0.0, 1.\n",
      "true_____ state State object w/ parameters: 0.7, 5.0, 0, 1.0.\n",
      "State 1:\n",
      "estimated state State object w/ parameters: 0.8541051388068099, 10.238403209621048, 0.0, 1.9613181419902246.\n",
      "estimated state State object w/ parameters: 0.9999999999, 10, 0.0, 1.\n",
      "true_____ state State object w/ parameters: 0.85, 10.0, 0, 2.0.\n",
      "State 2:\n",
      "estimated state State object w/ parameters: 0.98886582374031, 14.451801152057795, 0.0, 3.1225141309744884.\n",
      "estimated state State object w/ parameters: 0.5, 10, 0, 1.\n",
      "true_____ state State object w/ parameters: 0.99, 15.0, 0, 3.0.\n"
     ]
    }
   ],
   "source": [
    "for state in range(lineage3.num_states):\n",
    "    print(\"State {}:\".format(state))\n",
    "    print(\"estimated state\", E_3[state].estimator(lineage3.lineage_stats[state].full_lin_cells_obs))\n",
    "    print(\"estimated state\", E_3[state].estimator(lineage3.lineage_stats[state].pruned_lin_cells_obs))\n",
    "    print(\"true_____ state\", E_3[state])"
   ]
  },
  {
   "cell_type": "markdown",
   "metadata": {},
   "source": [
    "### Analyzing a three state lineage"
   ]
  },
  {
   "cell_type": "code",
   "execution_count": 93,
   "metadata": {},
   "outputs": [],
   "source": [
    "X = [lineage3] # population just contains one lineage\n",
    "\n",
    "deltas, state_ptrs, all_states, tHMMobj, NF, LL = Analyze(X, 3) # find three states"
   ]
  },
  {
   "cell_type": "code",
   "execution_count": 94,
   "metadata": {},
   "outputs": [
    {
     "data": {
      "text/plain": [
       "[100.0]"
      ]
     },
     "execution_count": 94,
     "metadata": {},
     "output_type": "execute_result"
    }
   ],
   "source": [
    "accuracy(tHMMobj, all_states)"
   ]
  },
  {
   "cell_type": "markdown",
   "metadata": {},
   "source": [
    "### Estimated Markov parameters ($\\pi$, $T$, $E$)"
   ]
  },
  {
   "cell_type": "code",
   "execution_count": 95,
   "metadata": {},
   "outputs": [
    {
     "name": "stdout",
     "output_type": "stream",
     "text": [
      "[2.75369175e-57 1.00000000e+00 6.89241946e-64]\n"
     ]
    }
   ],
   "source": [
    "print(tHMMobj.estimate.pi)"
   ]
  },
  {
   "cell_type": "code",
   "execution_count": 96,
   "metadata": {},
   "outputs": [
    {
     "name": "stdout",
     "output_type": "stream",
     "text": [
      "[[7.18783188e-01 2.81216812e-01 2.83875567e-61]\n",
      " [7.18783188e-01 2.81216812e-01 1.59095999e-57]\n",
      " [7.18783188e-01 2.81216812e-01 9.54553193e-60]]\n"
     ]
    }
   ],
   "source": [
    "print(tHMMobj.estimate.T)"
   ]
  }
 ],
 "metadata": {
  "kernelspec": {
   "display_name": "Python 3",
   "language": "python",
   "name": "python3"
  },
  "language_info": {
   "codemirror_mode": {
    "name": "ipython",
    "version": 3
   },
   "file_extension": ".py",
   "mimetype": "text/x-python",
   "name": "python",
   "nbconvert_exporter": "python",
   "pygments_lexer": "ipython3",
   "version": "3.7.3"
  }
 },
 "nbformat": 4,
 "nbformat_minor": 4
}
