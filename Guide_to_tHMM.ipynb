{
 "cells": [
  {
   "cell_type": "markdown",
   "metadata": {},
   "source": [
    "# Guide to tHMM"
   ]
  },
  {
   "cell_type": "code",
   "execution_count": 1,
   "metadata": {},
   "outputs": [],
   "source": [
    "import numpy as np\n",
    "import scipy.stats as sp"
   ]
  },
  {
   "cell_type": "markdown",
   "metadata": {},
   "source": [
    "### Synthesizing Cells (not required by the user)"
   ]
  },
  {
   "cell_type": "code",
   "execution_count": 2,
   "metadata": {},
   "outputs": [],
   "source": [
    "from lineage.CellVar import CellVar as c\n",
    "from lineage.CellVar import _double"
   ]
  },
  {
   "cell_type": "code",
   "execution_count": 3,
   "metadata": {},
   "outputs": [],
   "source": [
    "T = np.array([[1.0, 0.0],\n",
    "              [0.0, 1.0]])\n",
    "    \n",
    "parent_state = 1\n",
    "parent_cell = c(state=parent_state, left=None, right=None, parent=None, gen=1)\n",
    "left_cell, right_cell = parent_cell._divide(T)"
   ]
  },
  {
   "cell_type": "code",
   "execution_count": 4,
   "metadata": {},
   "outputs": [
    {
     "name": "stdout",
     "output_type": "stream",
     "text": [
      "\n",
      " Generation: 2, State: 1, Observation: This cell has no observations to report. \n",
      " Generation: 2, State: 1, Observation: This cell has no observations to report.\n"
     ]
    }
   ],
   "source": [
    "print(left_cell, parent_cell.left)"
   ]
  },
  {
   "cell_type": "code",
   "execution_count": 5,
   "metadata": {},
   "outputs": [
    {
     "name": "stdout",
     "output_type": "stream",
     "text": [
      "\n",
      " Generation: 2, State: 1, Observation: This cell has no observations to report. \n",
      " Generation: 2, State: 1, Observation: This cell has no observations to report.\n"
     ]
    }
   ],
   "source": [
    "print(right_cell, parent_cell.right)"
   ]
  },
  {
   "cell_type": "markdown",
   "metadata": {},
   "source": [
    "## Creating a synthetic lineage (required by the user) \"Two State Model\""
   ]
  },
  {
   "cell_type": "code",
   "execution_count": 6,
   "metadata": {},
   "outputs": [],
   "source": [
    "from lineage.LineageTree import LineageTree\n",
    "from lineage.StateDistribution import StateDistribution, get_experiment_time"
   ]
  },
  {
   "cell_type": "markdown",
   "metadata": {},
   "source": [
    "### Creating a lineage and setting the full lineage (unpruned) as the one to be used"
   ]
  },
  {
   "cell_type": "markdown",
   "metadata": {},
   "source": [
    "The required probabilities are those that define the tree and act of state switching. This process works by first creating a hidden tree of empty cells. Empty cells are those that have their states set but do not have any observations attached to them. We then draw as many observations from each state distribution and assign those observations to those cells. The $\\pi$ and $T$ parameters are easy to define. The number of states is $k$. We require for $\\pi$ a $k\\times 1$ list of probabilities. These probabilities must add up to $1$ and they should be either in a $1$-dimensional list or a $1$-dimensional numpy array. The $T$ parameter should be a square numpy matrix of size $k\\times k$. The rows are the states in which we are transitioning from and the columns are the states in which we are transitioning to. Each row of $T$ should sum to $1$. The columns need not sum to $1$."
   ]
  },
  {
   "cell_type": "code",
   "execution_count": 7,
   "metadata": {},
   "outputs": [],
   "source": [
    "# pi: the initial probability vector\n",
    "pi = np.array([0.6, 0.4], dtype=\"float\")\n",
    "\n",
    "# T: transition probability matrix\n",
    "T = np.array([[0.85, 0.15],\n",
    "              [0.15, 0.85]])"
   ]
  },
  {
   "cell_type": "markdown",
   "metadata": {},
   "source": [
    "The emission matrix $E$ is a little more complicated to define because this is where the user has complete freedom in defining what type of observation they care about. In particular, the user has to first begin with defining what observation he or she will want in their cells in their synthetic images. For example, if one is observing kinematics or physics, they might want to use Gaaussian distribution observations. In defining the random variables, the user will pull from a Gaussian distribution based on the mean and standard deviation of the different states he or she picks. They can also utilize the Gaussian probability distribution to define the likelihood as well. Furthermore, they can build an analytical estimator for their state distributions that yield the parameter estimates when given a list of observations. Finally, the user can also define a prune rule, which is essentially a boolean function that inspects a cell's observations and returns True if the cell's subtree (all the cells that are related to the cell in question and are of older generation) is to be pruned or False if the cell is safe from pruning. In the Gaussian example, a user can remove a cell's subtree if its observation is higher or lower than some fixed value.\n",
    "\n",
    "We have already built, as an example, and as bioengineers, a model that resembles lineage trees. In our synthetic model, our emissions are multivariate. This first emission is a Bernoulli observation, $0$ implying death and $1$ implying division. The second and third emissions are continuous and are from exponential and gamma distributions respectively. Though these can be thought of cell lifetime's or periods in a certain cell phase, we want the user to know that these values can really mean anything and they are completely free in choosing what the emissions and their values mean. We define ways to calculate random variables for these multivariate observations and likelihoods of an observations. We also provide as a prune rule, keeping with the cell analogy, that if a cell has a $0$ in its Bernoulli observation, then its subtree is pruned from the full lineage tree. Though this will obviously introduce bias into estimation, we keep both the full tree and the pruned tree in the lineage objects, in the case a user would like to see the effects of analyzing on one versus the other.\n",
    "\n",
    "Ultimately, $E$ is defined as a $k\\times 1$ size list of state distribution objects. These distribution objects are rich in what they can already do, and a user can easily add more to their functionality. They only need to be instantiated by what parameters define that state's distribution."
   ]
  },
  {
   "cell_type": "code",
   "execution_count": 8,
   "metadata": {},
   "outputs": [],
   "source": [
    "# E: states are defined as StateDistribution objects\n",
    "\n",
    "# State 0 parameters \"Resistant\"\n",
    "state0 = 0\n",
    "bern_p0 = 0.8\n",
    "exp_a0 = 20.0\n",
    "\n",
    "# State 1 parameters \"Susciptible\"\n",
    "state1 = 1\n",
    "bern_p1 = 0.8\n",
    "exp_a1 = 80.0\n",
    "\n",
    "state_obj0 = StateDistribution(state0, bern_p0, exp_a0)\n",
    "state_obj1 = StateDistribution(state1, bern_p1, exp_a1)\n",
    "\n",
    "E = [state_obj0, state_obj1]"
   ]
  },
  {
   "cell_type": "markdown",
   "metadata": {},
   "source": [
    "The final required parameters are more obvious. The first is the desired number of cells one would like in their full unpruned lineage tree. This can be any number. The lineage tree is built 'from left to right'. What this means is that, we construct the binary tree by going to the left-most cell, dividing then walking through the generation. For example, if someone requested for"
   ]
  },
  {
   "cell_type": "code",
   "execution_count": 9,
   "metadata": {},
   "outputs": [],
   "source": [
    "desired_num_cells = 2**7 - 1 \n",
    "prune_boolean = True # To get the full tree"
   ]
  },
  {
   "cell_type": "code",
   "execution_count": 10,
   "metadata": {},
   "outputs": [
    {
     "name": "stdout",
     "output_type": "stream",
     "text": [
      "This tree is pruned. It is made of 2 states.\n",
      " For each state in this tree: \n",
      " \t There are 42 cells of state 0, \n",
      " \t There are 5 cells of state 1.\n",
      " This pruned tree has 47 cells in total\n"
     ]
    }
   ],
   "source": [
    "lineage1 = LineageTree(pi, T, E, desired_num_cells, prune_boolean)\n",
    "print(lineage1)"
   ]
  },
  {
   "cell_type": "markdown",
   "metadata": {},
   "source": [
    "### Obtaining how long the experiment ran by checking the time length of the longest branch"
   ]
  },
  {
   "cell_type": "code",
   "execution_count": 11,
   "metadata": {},
   "outputs": [
    {
     "name": "stdout",
     "output_type": "stream",
     "text": [
      "253.95720794986136\n"
     ]
    }
   ],
   "source": [
    "longest_branch_time = get_experiment_time(lineage1)\n",
    "print(longest_branch_time)"
   ]
  },
  {
   "cell_type": "markdown",
   "metadata": {},
   "source": [
    "### Estimation of distribution parameters using our estimators for full lineage"
   ]
  },
  {
   "cell_type": "code",
   "execution_count": 12,
   "metadata": {},
   "outputs": [
    {
     "name": "stdout",
     "output_type": "stream",
     "text": [
      "State 0:\n",
      "                    estimated state State object w/ parameters: 0.807692307691716, 24.781792827050946.\n",
      "original parameters given for state State object w/ parameters: 0.8, 20.0.\n",
      "State 1:\n",
      "                    estimated state State object w/ parameters: 0.5652173913037807, 88.0989226191853.\n",
      "original parameters given for state State object w/ parameters: 0.8, 80.0.\n"
     ]
    }
   ],
   "source": [
    "for state in range(lineage1.num_states):\n",
    "    print(\"State {}:\".format(state))\n",
    "    print(\"                    estimated state\", E[state].estimator(lineage1.lineage_stats[state].full_lin_cells_obs))\n",
    "    print(\"original parameters given for state\", E[state])"
   ]
  },
  {
   "cell_type": "markdown",
   "metadata": {},
   "source": [
    "### Estimation of distribution parameters using our estimators for pruned lineage"
   ]
  },
  {
   "cell_type": "code",
   "execution_count": 13,
   "metadata": {},
   "outputs": [
    {
     "name": "stdout",
     "output_type": "stream",
     "text": [
      "State 0:\n",
      "                    estimated state State object w/ parameters: 0.8333333333317462, 23.211856116976406.\n",
      "original parameters given for state State object w/ parameters: 0.8, 20.0.\n",
      "State 1:\n",
      "                    estimated state State object w/ parameters: 0.400000000004, 42.45267706026193.\n",
      "original parameters given for state State object w/ parameters: 0.8, 80.0.\n"
     ]
    }
   ],
   "source": [
    "for state in range(lineage1.num_states):\n",
    "    print(\"State {}:\".format(state))\n",
    "    print(\"                    estimated state\", E[state].estimator(lineage1.lineage_stats[state].pruned_lin_cells_obs))\n",
    "    print(\"original parameters given for state\", E[state])"
   ]
  },
  {
   "cell_type": "markdown",
   "metadata": {},
   "source": [
    "### Analyzing our first full lineage"
   ]
  },
  {
   "cell_type": "code",
   "execution_count": 14,
   "metadata": {},
   "outputs": [
    {
     "name": "stdout",
     "output_type": "stream",
     "text": [
      "[0, 0, 0, 0, 0, 0, 0, 1, 0, 0, 0, 0, 0, 0, 0, 0, 0, 0, 0, 0, 0, 0, 0, 1, 0, 0, 0, 0, 0, 0, 0, 0, 1, 0, 1, 0, 0, 0, 0, 0, 1, 0, 0, 0, 0, 0, 0]\n",
      "[[4.06440406e-04 9.53526584e-03]\n",
      " [1.84483299e-02 1.48316729e-02]\n",
      " [8.36904364e-03 1.35344944e-02]\n",
      " [2.43990477e-07 3.18467697e-03]\n",
      " [1.51261317e-08 2.92734106e-03]\n",
      " [6.41300839e-03 1.31236680e-02]\n",
      " [1.28994134e-06 4.89827427e-03]\n",
      " [1.06203339e-06 3.77595854e-03]\n",
      " [3.17067436e-03 1.20957912e-02]\n",
      " [8.16368564e-09 2.14892200e-03]\n",
      " [3.36864344e-02 1.59026193e-02]\n",
      " [2.01080792e-02 1.49803584e-02]\n",
      " [1.54965043e-03 1.11335456e-02]\n",
      " [9.74998827e-02 1.79850167e-02]\n",
      " [8.47497107e-08 3.57380471e-03]\n",
      " [4.40452049e-02 1.64040664e-02]\n",
      " [4.05776809e-03 9.81295360e-03]\n",
      " [5.20336568e-06 4.53877207e-03]\n",
      " [1.86836882e-09 1.81161873e-03]\n",
      " [1.50424615e-01 1.89110473e-02]\n",
      " [3.63016664e-04 9.41133030e-03]\n",
      " [2.34019622e-02 1.52458121e-02]\n",
      " [1.01764374e-01 1.80743859e-02]\n",
      " [2.21280298e-14 4.87114738e-04]\n",
      " [3.81817459e-06 4.37898098e-03]\n",
      " [6.11588097e-03 1.30517776e-02]\n",
      " [1.39198478e-04 8.42265633e-03]\n",
      " [6.37184674e-03 1.31138869e-02]\n",
      " [3.84103079e-04 9.47306021e-03]\n",
      " [2.41010874e-04 8.97539076e-03]\n",
      " [1.85499980e-02 1.48411141e-02]\n",
      " [8.81877344e-03 1.36167727e-02]\n",
      " [1.38510569e-07 2.98259371e-03]\n",
      " [1.14464650e-01 1.83221963e-02]\n",
      " [1.13975792e-01 1.83131186e-02]\n",
      " [1.97732976e-01 1.95194094e-02]\n",
      " [8.16108982e-06 6.06471663e-03]\n",
      " [1.23655301e-11 1.28520923e-03]\n",
      " [4.37831406e-02 1.29244418e-02]\n",
      " [6.05273553e-08 3.43719414e-03]\n",
      " [1.07895575e-04 8.17785250e-03]\n",
      " [1.09148656e-07 3.68004986e-03]\n",
      " [5.67873400e-03 1.29401824e-02]\n",
      " [5.38545407e-09 2.59741552e-03]\n",
      " [5.32526092e-02 1.67686231e-02]\n",
      " [5.60217356e-02 1.68673389e-02]\n",
      " [6.69709808e-04 1.01029034e-02]]\n",
      "[[1.72189675e-03 1.09791826e-02]\n",
      " [3.07889353e-02 1.60481271e-02]\n",
      " [1.69406824e-02 1.48344212e-02]\n",
      " [1.16178570e-06 2.32574599e-03]\n",
      " [7.73059760e-07 3.98009102e-03]\n",
      " [1.38530640e-02 1.44466759e-02]\n",
      " [2.22643492e-05 6.19435968e-03]\n",
      " [3.53123672e-06 2.69224353e-03]\n",
      " [8.13445387e-03 1.34689054e-02]\n",
      " [8.91050750e-08 1.65868192e-03]\n",
      " [4.85337509e-02 1.70388909e-02]\n",
      " [3.28604198e-02 1.61862671e-02]\n",
      " [4.73506500e-03 1.25429141e-02]\n",
      " [1.08367367e-01 1.89392064e-02]\n",
      " [2.84372359e-06 4.72447848e-03]\n",
      " [5.94368701e-02 1.74995360e-02]\n",
      " [1.80068789e-03 6.11659400e-03]\n",
      " [1.17371615e-05 3.15339512e-03]\n",
      " [2.92313035e-08 1.43233978e-03]\n",
      " [1.50394982e-01 1.97741399e-02]\n",
      " [1.58094977e-03 1.08564516e-02]\n",
      " [3.68526526e-02 1.64324154e-02]\n",
      " [1.11931094e-01 1.90200433e-02]\n",
      " [5.52350580e-12 4.63336536e-04]\n",
      " [9.28875142e-06 3.05776299e-03]\n",
      " [1.33651410e-02 1.43786502e-02]\n",
      " [7.66073053e-04 9.86893195e-03]\n",
      " [1.37858059e-02 1.44374237e-02]\n",
      " [1.64987887e-03 1.09176098e-02]\n",
      " [1.16001270e-03 1.04229168e-02]\n",
      " [3.09170968e-02 1.60569044e-02]\n",
      " [1.76243373e-02 1.49118763e-02]\n",
      " [7.57310408e-07 2.19835683e-03]\n",
      " [1.22336334e-01 1.92439012e-02]\n",
      " [1.21941221e-01 1.92357085e-02]\n",
      " [1.84925324e-01 2.03195131e-02]\n",
      " [8.97776177e-05 7.44230170e-03]\n",
      " [3.58560795e-09 1.96204890e-03]\n",
      " [1.08700189e-02 7.74973566e-03]\n",
      " [2.20492880e-06 4.56887714e-03]\n",
      " [6.31904689e-04 9.62195375e-03]\n",
      " [3.44301247e-06 4.84491405e-03]\n",
      " [1.26365934e-02 1.42729494e-02]\n",
      " [3.54174367e-07 3.59145370e-03]\n",
      " [6.86070315e-02 1.78331836e-02]\n",
      " [7.12867522e-02 1.79233532e-02]\n",
      " [2.51153870e-03 1.15384856e-02]]\n",
      "[[8.34508709e-04 1.13920287e-02]\n",
      " [2.69912079e-02 1.72856487e-02]\n",
      " [1.31350226e-02 1.58551160e-02]\n",
      " [2.74877086e-17 2.23288120e-03]\n",
      " [7.68356813e-08 3.73713224e-03]\n",
      " [1.03058891e-02 1.54004810e-02]\n",
      " [4.41479470e-06 6.07512022e-03]\n",
      " [1.04995250e-16 2.62225255e-03]\n",
      " [5.42432599e-03 1.42594313e-02]\n",
      " [1.24366226e-18 1.54032992e-03]\n",
      " [4.67190978e-02 1.84613764e-02]\n",
      " [2.91952929e-02 1.74491592e-02]\n",
      " [2.82516064e-03 1.31862968e-02]\n",
      " [1.23040871e-01 2.07350698e-02]\n",
      " [3.69403156e-07 4.51159567e-03]\n",
      " [5.96479731e-02 1.90103397e-02]\n",
      " [1.92822435e-13 6.45888743e-03]\n",
      " [4.46702182e-16 3.11959841e-03]\n",
      " [3.24459332e-19 1.31106316e-03]\n",
      " [1.82657863e-01 2.17413200e-02]\n",
      " [7.52868126e-04 1.12522225e-02]\n",
      " [3.35230102e-02 1.77408544e-02]\n",
      " [1.27935121e-01 2.08323054e-02]\n",
      " [1.05246232e-23 3.79505289e-04]\n",
      " [3.36921909e-16 3.01583351e-03]\n",
      " [9.86989627e-03 1.53208431e-02]\n",
      " [3.14341178e-04 1.01331133e-02]\n",
      " [1.02455991e-02 1.53896472e-02]\n",
      " [7.92614840e-04 1.13218701e-02]\n",
      " [5.18356926e-04 1.07596269e-02]\n",
      " [2.71267109e-02 1.72960340e-02]\n",
      " [1.37766658e-02 1.59460742e-02]\n",
      " [1.64092283e-17 2.09890596e-03]\n",
      " [1.42406215e-01 2.11017876e-02]\n",
      " [1.41851937e-01 2.10919196e-02]\n",
      " [2.34342178e-01 2.24008698e-02]\n",
      " [2.37098746e-05 7.43213234e-03]\n",
      " [1.18107180e-10 1.71835323e-03]\n",
      " [1.68432534e-12 8.37632637e-03]\n",
      " [2.71830475e-07 4.34864392e-03]\n",
      " [2.49227804e-04 9.85490304e-03]\n",
      " [4.65180367e-07 4.63808466e-03]\n",
      " [9.22498593e-03 1.51971726e-02]\n",
      " [2.99842361e-08 3.33827823e-03]\n",
      " [7.09113167e-02 1.94088482e-02]\n",
      " [7.42635693e-02 1.95166734e-02]\n",
      " [1.31539695e-03 1.20310729e-02]]\n",
      "[[1.20719598e-04 1.19429179e-02]\n",
      " [1.53633823e-02 1.86168397e-02]\n",
      " [5.62915368e-03 1.69810089e-02]\n",
      " [5.97000007e-19 2.00917222e-03]\n",
      " [2.85507879e-10 3.64538242e-03]\n",
      " [4.01409368e-03 1.64630853e-02]\n",
      " [8.09502629e-08 6.11513600e-03]\n",
      " [3.86677367e-18 2.38418892e-03]\n",
      " [1.64064021e-03 1.51676070e-02]\n",
      " [7.97585423e-21 1.35312215e-03]\n",
      " [3.30101590e-02 1.99679069e-02]\n",
      " [1.71399822e-02 1.88043882e-02]\n",
      " [6.60812516e-04 1.39553339e-02]\n",
      " [1.27326226e-01 2.25962337e-02]\n",
      " [2.54839174e-09 4.45476029e-03]\n",
      " [4.64041637e-02 2.06006693e-02]\n",
      " [1.37238871e-13 6.22502963e-03]\n",
      " [2.91063905e-17 2.86841897e-03]\n",
      " [1.22545197e-21 1.13977871e-03]\n",
      " [2.20861335e-01 2.37655253e-02]\n",
      " [1.04579735e-04 1.17869346e-02]\n",
      " [2.07823572e-02 1.91392479e-02]\n",
      " [1.34441527e-01 2.27090669e-02]\n",
      " [6.76888426e-28 3.04505816e-04]\n",
      " [1.96441882e-17 2.76694902e-03]\n",
      " [3.77935225e-03 1.63724620e-02]\n",
      " [3.09502197e-05 1.05429763e-02]\n",
      " [3.98139569e-03 1.64507553e-02]\n",
      " [1.12355663e-04 1.18646256e-02]\n",
      " [6.21566574e-05 1.12383487e-02]\n",
      " [1.54710083e-02 1.86287483e-02]\n",
      " [6.01614458e-03 1.70847454e-02]\n",
      " [2.90830021e-19 1.88107734e-03]\n",
      " [1.56102864e-01 2.30219545e-02]\n",
      " [1.55256510e-01 2.30104925e-02]\n",
      " [3.12587515e-01 2.45338527e-02]\n",
      " [8.43127582e-07 7.57926628e-03]\n",
      " [3.41810287e-14 1.59402614e-03]\n",
      " [2.81606438e-12 8.20990955e-03]\n",
      " [1.66179210e-09 4.28365824e-03]\n",
      " [2.23943197e-05 1.02350692e-02]\n",
      " [3.51429743e-09 4.58785244e-03]\n",
      " [3.43958990e-03 1.62317928e-02]\n",
      " [7.68981688e-11 3.23263936e-03]\n",
      " [5.90577650e-02 2.10607530e-02]\n",
      " [6.29856792e-02 2.11853443e-02]\n",
      " [2.27654474e-04 1.26574624e-02]]\n",
      "[[9.32799613e-06 1.22710228e-02]\n",
      " [6.71617632e-03 1.94927436e-02]\n",
      " [1.71851415e-03 1.77105623e-02]\n",
      " [3.73374344e-21 1.87314789e-03]\n",
      " [2.14667110e-13 3.56125097e-03]\n",
      " [1.08588365e-03 1.71477903e-02]\n",
      " [4.58556682e-10 6.10684853e-03]\n",
      " [4.71692475e-20 2.23900689e-03]\n",
      " [3.22298722e-04 1.57434793e-02]\n",
      " [1.06598629e-23 1.24048903e-03]\n",
      " [1.89697025e-02 2.09697445e-02]\n",
      " [7.79183234e-03 1.96975085e-02]\n",
      " [9.37774291e-05 1.44339709e-02]\n",
      " [1.18570225e-01 2.38550240e-02]\n",
      " [4.19137625e-12 4.38920720e-03]\n",
      " [3.01204099e-02 2.16629678e-02]\n",
      " [7.09367943e-14 6.08942745e-03]\n",
      " [7.30763484e-19 2.71500969e-03]\n",
      " [8.38257377e-25 1.03730961e-03]\n",
      " [2.50445856e-01 2.51433290e-02]\n",
      " [7.67660838e-06 1.21039869e-02]\n",
      " [1.01215919e-02 2.00633229e-02]\n",
      " [1.27654440e-01 2.39792204e-02]\n",
      " [2.67838903e-33 2.62006948e-04]\n",
      " [4.28511430e-19 2.61495947e-03]\n",
      " [1.00058725e-03 1.70493964e-02]\n",
      " [1.46993233e-06 1.07753523e-02]\n",
      " [1.07389275e-03 1.71344017e-02]\n",
      " [8.46164596e-06 1.21871713e-02]\n",
      " [3.78798557e-06 1.15172842e-02]\n",
      " [6.78012982e-03 1.95057428e-02]\n",
      " [1.88084829e-03 1.78233700e-02]\n",
      " [1.40643997e-21 1.74882027e-03]\n",
      " [1.56355417e-01 2.43237552e-02]\n",
      " [1.55205673e-01 2.43111303e-02]\n",
      " [4.01336867e-01 2.59913358e-02]\n",
      " [1.10402607e-08 7.63838394e-03]\n",
      " [1.01746855e-18 1.50342415e-03]\n",
      " [4.28800561e-12 8.12612652e-03]\n",
      " [2.34566661e-12 4.21360090e-03]\n",
      " [9.47372381e-07 1.04474851e-02]\n",
      " [6.48393660e-12 4.52600200e-03]\n",
      " [8.80470809e-04 1.68967112e-02]\n",
      " [3.61695542e-14 3.14194127e-03]\n",
      " [4.17857179e-02 2.21675831e-02]\n",
      " [4.56029185e-02 2.23043147e-02]\n",
      " [2.20700070e-05 1.30373666e-02]]\n",
      "[[1.67706474e-05 1.24294285e-02]\n",
      " [8.16061759e-03 1.99574245e-02]\n",
      " [2.26468139e-03 1.80924842e-02]\n",
      " [1.51770783e-20 1.80641889e-03]\n",
      " [1.09998839e-12 3.50520303e-03]\n",
      " [1.47065297e-03 1.75044628e-02]\n",
      " [1.48843183e-09 6.08638359e-03]\n",
      " [1.64856104e-19 2.16819687e-03]\n",
      " [4.69246189e-04 1.60391297e-02]\n",
      " [6.14213750e-23 1.18491908e-03]\n",
      " [2.16674139e-02 2.15060313e-02]\n",
      " [9.38422424e-03 2.01719586e-02]\n",
      " [1.46950146e-04 1.46754449e-02]\n",
      " [1.21429358e-01 2.45383500e-02]\n",
      " [1.79937503e-11 4.34112212e-03]\n",
      " [3.34695082e-02 2.22337465e-02]\n",
      " [1.06279865e-13 6.03526777e-03]\n",
      " [2.16944565e-18 2.64092514e-03]\n",
      " [5.61970117e-24 9.86739736e-04]\n",
      " [2.45314392e-01 2.58951254e-02]\n",
      " [1.39627224e-05 1.22563401e-02]\n",
      " [1.20016767e-02 2.05553541e-02]\n",
      " [1.30159155e-01 2.46690746e-02]\n",
      " [5.75619500e-32 2.41406205e-04]\n",
      " [1.31322580e-18 2.54139114e-03]\n",
      " [1.36175088e-03 1.74017000e-02]\n",
      " [2.95018278e-06 1.08816007e-02]\n",
      " [1.45537532e-03 1.74904789e-02]\n",
      " [1.53016186e-05 1.23425317e-02]\n",
      " [7.18583650e-06 1.16488225e-02]\n",
      " [8.23367718e-03 1.99710424e-02]\n",
      " [2.46531988e-03 1.82104058e-02]\n",
      " [6.05921586e-21 1.68383633e-03]\n",
      " [1.57509426e-01 2.50318012e-02]\n",
      " [1.56419932e-01 2.50185076e-02]\n",
      " [3.82227763e-01 2.67890874e-02]\n",
      " [2.96509586e-08 7.65239569e-03]\n",
      " [1.08196722e-17 1.45046333e-03]\n",
      " [5.03210209e-12 8.10792288e-03]\n",
      " [1.04242271e-11 4.16349538e-03]\n",
      " [1.95179171e-06 1.05429429e-02]\n",
      " [2.71218758e-11 4.47960543e-03]\n",
      " [1.20743898e-03 1.72422623e-02]\n",
      " [2.06074738e-13 3.08352154e-03]\n",
      " [4.55354847e-02 2.27638102e-02]\n",
      " [4.94371980e-02 2.29074859e-02]\n",
      " [3.76955926e-05 1.32242301e-02]]\n",
      "[[7.70230703e-05 1.25801429e-02]\n",
      " [1.33525331e-02 2.04248567e-02]\n",
      " [4.58891494e-03 1.84737099e-02]\n",
      " [4.62199725e-19 1.74139056e-03]\n",
      " [7.97327732e-11 3.44399749e-03]\n",
      " [3.20249363e-03 1.78594624e-02]\n",
      " [3.24084722e-08 6.05795159e-03]\n",
      " [3.37249878e-18 2.09910713e-03]\n",
      " [1.23632230e-03 1.63309142e-02]\n",
      " [4.68921692e-21 1.13103023e-03]\n",
      " [3.01237432e-02 2.20483196e-02]\n",
      " [1.50009285e-02 2.06495898e-02]\n",
      " [4.69903315e-04 1.49113345e-02]\n",
      " [1.26639805e-01 2.52349953e-02]\n",
      " [8.18305058e-10 4.28675617e-03]\n",
      " [4.32764480e-02 2.28121704e-02]\n",
      " [2.33494961e-13 5.98484527e-03]\n",
      " [2.88736425e-17 2.56861859e-03]\n",
      " [6.39348072e-22 9.37832204e-04]\n",
      " [2.27524325e-01 2.66639016e-02]\n",
      " [6.61173277e-05 1.24008792e-02]\n",
      " [1.84136461e-02 2.10513510e-02]\n",
      " [1.34181287e-01 2.53725907e-02]\n",
      " [1.40880393e-28 2.21993204e-04]\n",
      " [1.90045229e-17 2.46958506e-03]\n",
      " [3.00364822e-03 1.77521655e-02]\n",
      " [1.81053451e-05 1.09792698e-02]\n",
      " [3.17475022e-03 1.78448607e-02]\n",
      " [7.13590791e-05 1.24901386e-02]\n",
      " [3.80140530e-05 1.17721616e-02]\n",
      " [1.34520603e-02 2.04391203e-02]\n",
      " [4.92523279e-03 1.85969477e-02]\n",
      " [2.15067370e-19 1.62054949e-03]\n",
      " [1.57292179e-01 2.57544710e-02]\n",
      " [1.56385145e-01 2.57404732e-02]\n",
      " [3.29231045e-01 2.76063553e-02]\n",
      " [3.91957248e-07 7.65763265e-03]\n",
      " [5.36633636e-15 1.39596588e-03]\n",
      " [5.80938320e-12 8.09601031e-03]\n",
      " [5.19257602e-10 4.10733010e-03]\n",
      " [1.28327138e-05 1.06296925e-02]\n",
      " [1.15183211e-09 4.42676209e-03]\n",
      " [2.71724729e-03 1.75857226e-02]\n",
      " [1.97515146e-11 3.02059104e-03]\n",
      " [5.59307295e-02 2.33689253e-02]\n",
      " [5.98961391e-02 2.35198883e-02]\n",
      " [1.51248099e-04 1.34040410e-02]]\n",
      "[[7.70230703e-05 1.25801429e-02]\n",
      " [1.33525331e-02 2.04248567e-02]\n",
      " [4.58891494e-03 1.84737099e-02]\n",
      " [4.62199725e-19 1.74139056e-03]\n",
      " [7.97327732e-11 3.44399749e-03]\n",
      " [3.20249363e-03 1.78594624e-02]\n",
      " [3.24084722e-08 6.05795159e-03]\n",
      " [3.37249878e-18 2.09910713e-03]\n",
      " [1.23632230e-03 1.63309142e-02]\n",
      " [4.68921692e-21 1.13103023e-03]\n",
      " [3.01237432e-02 2.20483196e-02]\n",
      " [1.50009285e-02 2.06495898e-02]\n",
      " [4.69903315e-04 1.49113345e-02]\n",
      " [1.26639805e-01 2.52349953e-02]\n",
      " [8.18305058e-10 4.28675617e-03]\n",
      " [4.32764480e-02 2.28121704e-02]\n",
      " [2.33494961e-13 5.98484527e-03]\n",
      " [2.88736425e-17 2.56861859e-03]\n",
      " [6.39348072e-22 9.37832204e-04]\n",
      " [2.27524325e-01 2.66639016e-02]\n",
      " [6.61173277e-05 1.24008792e-02]\n",
      " [1.84136461e-02 2.10513510e-02]\n",
      " [1.34181287e-01 2.53725907e-02]\n",
      " [1.40880393e-28 2.21993204e-04]\n",
      " [1.90045229e-17 2.46958506e-03]\n",
      " [3.00364822e-03 1.77521655e-02]\n",
      " [1.81053451e-05 1.09792698e-02]\n",
      " [3.17475022e-03 1.78448607e-02]\n",
      " [7.13590791e-05 1.24901386e-02]\n",
      " [3.80140530e-05 1.17721616e-02]\n",
      " [1.34520603e-02 2.04391203e-02]\n",
      " [4.92523279e-03 1.85969477e-02]\n",
      " [2.15067370e-19 1.62054949e-03]\n",
      " [1.57292179e-01 2.57544710e-02]\n",
      " [1.56385145e-01 2.57404732e-02]\n",
      " [3.29231045e-01 2.76063553e-02]\n",
      " [3.91957248e-07 7.65763265e-03]\n",
      " [5.36633636e-15 1.39596588e-03]\n",
      " [5.80938320e-12 8.09601031e-03]\n",
      " [5.19257602e-10 4.10733010e-03]\n",
      " [1.28327138e-05 1.06296925e-02]\n",
      " [1.15183211e-09 4.42676209e-03]\n",
      " [2.71724729e-03 1.75857226e-02]\n",
      " [1.97515146e-11 3.02059104e-03]\n",
      " [5.59307295e-02 2.33689253e-02]\n",
      " [5.98961391e-02 2.35198883e-02]\n",
      " [1.51248099e-04 1.34040410e-02]]\n",
      "[[7.70230703e-05 1.25801429e-02]\n",
      " [1.33525331e-02 2.04248567e-02]\n",
      " [4.58891494e-03 1.84737099e-02]\n",
      " [4.62199725e-19 1.74139056e-03]\n",
      " [7.97327732e-11 3.44399749e-03]\n",
      " [3.20249363e-03 1.78594624e-02]\n",
      " [3.24084722e-08 6.05795159e-03]\n",
      " [3.37249878e-18 2.09910713e-03]\n",
      " [1.23632230e-03 1.63309142e-02]\n",
      " [4.68921692e-21 1.13103023e-03]\n",
      " [3.01237432e-02 2.20483196e-02]\n",
      " [1.50009285e-02 2.06495898e-02]\n",
      " [4.69903315e-04 1.49113345e-02]\n",
      " [1.26639805e-01 2.52349953e-02]\n",
      " [8.18305058e-10 4.28675617e-03]\n",
      " [4.32764480e-02 2.28121704e-02]\n",
      " [2.33494961e-13 5.98484527e-03]\n",
      " [2.88736425e-17 2.56861859e-03]\n",
      " [6.39348072e-22 9.37832204e-04]\n",
      " [2.27524325e-01 2.66639016e-02]\n",
      " [6.61173277e-05 1.24008792e-02]\n",
      " [1.84136461e-02 2.10513510e-02]\n",
      " [1.34181287e-01 2.53725907e-02]\n",
      " [1.40880393e-28 2.21993204e-04]\n",
      " [1.90045229e-17 2.46958506e-03]\n",
      " [3.00364822e-03 1.77521655e-02]\n",
      " [1.81053451e-05 1.09792698e-02]\n",
      " [3.17475022e-03 1.78448607e-02]\n",
      " [7.13590791e-05 1.24901386e-02]\n",
      " [3.80140530e-05 1.17721616e-02]\n",
      " [1.34520603e-02 2.04391203e-02]\n",
      " [4.92523279e-03 1.85969477e-02]\n",
      " [2.15067370e-19 1.62054949e-03]\n",
      " [1.57292179e-01 2.57544710e-02]\n",
      " [1.56385145e-01 2.57404732e-02]\n",
      " [3.29231045e-01 2.76063553e-02]\n",
      " [3.91957248e-07 7.65763265e-03]\n",
      " [5.36633636e-15 1.39596588e-03]\n",
      " [5.80938320e-12 8.09601031e-03]\n",
      " [5.19257602e-10 4.10733010e-03]\n",
      " [1.28327138e-05 1.06296925e-02]\n",
      " [1.15183211e-09 4.42676209e-03]\n",
      " [2.71724729e-03 1.75857226e-02]\n",
      " [1.97515146e-11 3.02059104e-03]\n",
      " [5.59307295e-02 2.33689253e-02]\n",
      " [5.98961391e-02 2.35198883e-02]\n",
      " [1.51248099e-04 1.34040410e-02]]\n",
      "[[7.70230703e-05 1.25801429e-02]\n",
      " [1.33525331e-02 2.04248567e-02]\n",
      " [4.58891494e-03 1.84737099e-02]\n",
      " [4.62199725e-19 1.74139056e-03]\n",
      " [7.97327732e-11 3.44399749e-03]\n",
      " [3.20249363e-03 1.78594624e-02]\n",
      " [3.24084722e-08 6.05795159e-03]\n",
      " [3.37249878e-18 2.09910713e-03]\n",
      " [1.23632230e-03 1.63309142e-02]\n",
      " [4.68921692e-21 1.13103023e-03]\n",
      " [3.01237432e-02 2.20483196e-02]\n",
      " [1.50009285e-02 2.06495898e-02]\n",
      " [4.69903315e-04 1.49113345e-02]\n",
      " [1.26639805e-01 2.52349953e-02]\n",
      " [8.18305058e-10 4.28675617e-03]\n",
      " [4.32764480e-02 2.28121704e-02]\n",
      " [2.33494961e-13 5.98484527e-03]\n",
      " [2.88736425e-17 2.56861859e-03]\n",
      " [6.39348072e-22 9.37832204e-04]\n",
      " [2.27524325e-01 2.66639016e-02]\n",
      " [6.61173277e-05 1.24008792e-02]\n",
      " [1.84136461e-02 2.10513510e-02]\n",
      " [1.34181287e-01 2.53725907e-02]\n",
      " [1.40880393e-28 2.21993204e-04]\n",
      " [1.90045229e-17 2.46958506e-03]\n",
      " [3.00364822e-03 1.77521655e-02]\n",
      " [1.81053451e-05 1.09792698e-02]\n",
      " [3.17475022e-03 1.78448607e-02]\n",
      " [7.13590791e-05 1.24901386e-02]\n",
      " [3.80140530e-05 1.17721616e-02]\n",
      " [1.34520603e-02 2.04391203e-02]\n",
      " [4.92523279e-03 1.85969477e-02]\n",
      " [2.15067370e-19 1.62054949e-03]\n",
      " [1.57292179e-01 2.57544710e-02]\n",
      " [1.56385145e-01 2.57404732e-02]\n",
      " [3.29231045e-01 2.76063553e-02]\n",
      " [3.91957248e-07 7.65763265e-03]\n",
      " [5.36633636e-15 1.39596588e-03]\n",
      " [5.80938320e-12 8.09601031e-03]\n",
      " [5.19257602e-10 4.10733010e-03]\n",
      " [1.28327138e-05 1.06296925e-02]\n",
      " [1.15183211e-09 4.42676209e-03]\n",
      " [2.71724729e-03 1.75857226e-02]\n",
      " [1.97515146e-11 3.02059104e-03]\n",
      " [5.59307295e-02 2.33689253e-02]\n",
      " [5.98961391e-02 2.35198883e-02]\n",
      " [1.51248099e-04 1.34040410e-02]]\n",
      "[[7.70230703e-05 1.25801429e-02]\n",
      " [1.33525331e-02 2.04248567e-02]\n",
      " [4.58891494e-03 1.84737099e-02]\n",
      " [4.62199725e-19 1.74139056e-03]\n",
      " [7.97327732e-11 3.44399749e-03]\n",
      " [3.20249363e-03 1.78594624e-02]\n",
      " [3.24084722e-08 6.05795159e-03]\n",
      " [3.37249878e-18 2.09910713e-03]\n",
      " [1.23632230e-03 1.63309142e-02]\n",
      " [4.68921692e-21 1.13103023e-03]\n",
      " [3.01237432e-02 2.20483196e-02]\n",
      " [1.50009285e-02 2.06495898e-02]\n",
      " [4.69903315e-04 1.49113345e-02]\n",
      " [1.26639805e-01 2.52349953e-02]\n",
      " [8.18305058e-10 4.28675617e-03]\n",
      " [4.32764480e-02 2.28121704e-02]\n",
      " [2.33494961e-13 5.98484527e-03]\n",
      " [2.88736425e-17 2.56861859e-03]\n",
      " [6.39348072e-22 9.37832204e-04]\n",
      " [2.27524325e-01 2.66639016e-02]\n",
      " [6.61173277e-05 1.24008792e-02]\n",
      " [1.84136461e-02 2.10513510e-02]\n",
      " [1.34181287e-01 2.53725907e-02]\n",
      " [1.40880393e-28 2.21993204e-04]\n",
      " [1.90045229e-17 2.46958506e-03]\n",
      " [3.00364822e-03 1.77521655e-02]\n",
      " [1.81053451e-05 1.09792698e-02]\n",
      " [3.17475022e-03 1.78448607e-02]\n",
      " [7.13590791e-05 1.24901386e-02]\n",
      " [3.80140530e-05 1.17721616e-02]\n",
      " [1.34520603e-02 2.04391203e-02]\n",
      " [4.92523279e-03 1.85969477e-02]\n",
      " [2.15067370e-19 1.62054949e-03]\n",
      " [1.57292179e-01 2.57544710e-02]\n",
      " [1.56385145e-01 2.57404732e-02]\n",
      " [3.29231045e-01 2.76063553e-02]\n",
      " [3.91957248e-07 7.65763265e-03]\n",
      " [5.36633636e-15 1.39596588e-03]\n",
      " [5.80938320e-12 8.09601031e-03]\n",
      " [5.19257602e-10 4.10733010e-03]\n",
      " [1.28327138e-05 1.06296925e-02]\n",
      " [1.15183211e-09 4.42676209e-03]\n",
      " [2.71724729e-03 1.75857226e-02]\n",
      " [1.97515146e-11 3.02059104e-03]\n",
      " [5.59307295e-02 2.33689253e-02]\n",
      " [5.98961391e-02 2.35198883e-02]\n",
      " [1.51248099e-04 1.34040410e-02]]\n",
      "[[7.70230703e-05 1.25801429e-02]\n",
      " [1.33525331e-02 2.04248567e-02]\n",
      " [4.58891494e-03 1.84737099e-02]\n",
      " [4.62199725e-19 1.74139056e-03]\n",
      " [7.97327732e-11 3.44399749e-03]\n",
      " [3.20249363e-03 1.78594624e-02]\n",
      " [3.24084722e-08 6.05795159e-03]\n",
      " [3.37249878e-18 2.09910713e-03]\n",
      " [1.23632230e-03 1.63309142e-02]\n",
      " [4.68921692e-21 1.13103023e-03]\n",
      " [3.01237432e-02 2.20483196e-02]\n",
      " [1.50009285e-02 2.06495898e-02]\n",
      " [4.69903315e-04 1.49113345e-02]\n",
      " [1.26639805e-01 2.52349953e-02]\n",
      " [8.18305058e-10 4.28675617e-03]\n",
      " [4.32764480e-02 2.28121704e-02]\n",
      " [2.33494961e-13 5.98484527e-03]\n",
      " [2.88736425e-17 2.56861859e-03]\n",
      " [6.39348072e-22 9.37832204e-04]\n",
      " [2.27524325e-01 2.66639016e-02]\n",
      " [6.61173277e-05 1.24008792e-02]\n",
      " [1.84136461e-02 2.10513510e-02]\n",
      " [1.34181287e-01 2.53725907e-02]\n",
      " [1.40880393e-28 2.21993204e-04]\n",
      " [1.90045229e-17 2.46958506e-03]\n",
      " [3.00364822e-03 1.77521655e-02]\n",
      " [1.81053451e-05 1.09792698e-02]\n",
      " [3.17475022e-03 1.78448607e-02]\n",
      " [7.13590791e-05 1.24901386e-02]\n",
      " [3.80140530e-05 1.17721616e-02]\n",
      " [1.34520603e-02 2.04391203e-02]\n",
      " [4.92523279e-03 1.85969477e-02]\n",
      " [2.15067370e-19 1.62054949e-03]\n",
      " [1.57292179e-01 2.57544710e-02]\n",
      " [1.56385145e-01 2.57404732e-02]\n",
      " [3.29231045e-01 2.76063553e-02]\n",
      " [3.91957248e-07 7.65763265e-03]\n",
      " [5.36633636e-15 1.39596588e-03]\n",
      " [5.80938320e-12 8.09601031e-03]\n",
      " [5.19257602e-10 4.10733010e-03]\n",
      " [1.28327138e-05 1.06296925e-02]\n",
      " [1.15183211e-09 4.42676209e-03]\n",
      " [2.71724729e-03 1.75857226e-02]\n",
      " [1.97515146e-11 3.02059104e-03]\n",
      " [5.59307295e-02 2.33689253e-02]\n",
      " [5.98961391e-02 2.35198883e-02]\n",
      " [1.51248099e-04 1.34040410e-02]]\n"
     ]
    }
   ],
   "source": [
    "from lineage.Analyze import Analyze\n",
    "\n",
    "X = [lineage1] # population just contains one lineage\n",
    "states = [cell.state for cell in lineage1.output_lineage]\n",
    "print(states)\n",
    "deltas, state_ptrs, all_states, tHMMobj, NF, LL = Analyze(X, 2) # find two states"
   ]
  },
  {
   "cell_type": "code",
   "execution_count": 15,
   "metadata": {},
   "outputs": [
    {
     "name": "stdout",
     "output_type": "stream",
     "text": [
      "Accuracy or 1-Accuracy is 0.14893617021276595\n"
     ]
    }
   ],
   "source": [
    "for num, lineageObj in enumerate(X):\n",
    "    lin_estimated_states = all_states[num]\n",
    "    lin_true_states = [cell.state for cell in lineageObj.output_lineage]\n",
    "    total = len(lin_estimated_states)\n",
    "    assert total == len(lin_true_states)\n",
    "    counter = [1 if a==b else 0 for (a,b) in zip(lin_estimated_states,lin_true_states)]\n",
    "    print(\"Accuracy or 1-Accuracy is {}\".format(sum(counter)/total))"
   ]
  },
  {
   "cell_type": "code",
   "execution_count": 16,
   "metadata": {},
   "outputs": [
    {
     "ename": "NameError",
     "evalue": "name 'plt' is not defined",
     "output_type": "error",
     "traceback": [
      "\u001b[0;31m---------------------------------------------------------------------------\u001b[0m",
      "\u001b[0;31mNameError\u001b[0m                                 Traceback (most recent call last)",
      "\u001b[0;32m<ipython-input-16-697c00f967d9>\u001b[0m in \u001b[0;36m<module>\u001b[0;34m\u001b[0m\n\u001b[1;32m      1\u001b[0m \u001b[0;32mfor\u001b[0m \u001b[0mstate\u001b[0m \u001b[0;32min\u001b[0m \u001b[0mrange\u001b[0m\u001b[0;34m(\u001b[0m\u001b[0mlineage1\u001b[0m\u001b[0;34m.\u001b[0m\u001b[0mnum_states\u001b[0m\u001b[0;34m)\u001b[0m\u001b[0;34m:\u001b[0m\u001b[0;34m\u001b[0m\u001b[0;34m\u001b[0m\u001b[0m\n\u001b[1;32m      2\u001b[0m     \u001b[0maskjdha\u001b[0m\u001b[0;34m,\u001b[0m \u001b[0msduhfksj\u001b[0m \u001b[0;34m=\u001b[0m \u001b[0mlist\u001b[0m\u001b[0;34m(\u001b[0m\u001b[0mzip\u001b[0m\u001b[0;34m(\u001b[0m\u001b[0;34m*\u001b[0m\u001b[0mlineage1\u001b[0m\u001b[0;34m.\u001b[0m\u001b[0mlineage_stats\u001b[0m\u001b[0;34m[\u001b[0m\u001b[0mstate\u001b[0m\u001b[0;34m]\u001b[0m\u001b[0;34m.\u001b[0m\u001b[0mpruned_lin_cells_obs\u001b[0m\u001b[0;34m)\u001b[0m\u001b[0;34m)\u001b[0m\u001b[0;34m\u001b[0m\u001b[0;34m\u001b[0m\u001b[0m\n\u001b[0;32m----> 3\u001b[0;31m     \u001b[0mplt\u001b[0m\u001b[0;34m.\u001b[0m\u001b[0mhist\u001b[0m\u001b[0;34m(\u001b[0m\u001b[0msduhfksj\u001b[0m\u001b[0;34m)\u001b[0m\u001b[0;34m\u001b[0m\u001b[0;34m\u001b[0m\u001b[0m\n\u001b[0m",
      "\u001b[0;31mNameError\u001b[0m: name 'plt' is not defined"
     ]
    }
   ],
   "source": [
    "for state in range(lineage1.num_states):\n",
    "    askjdha, sduhfksj = list(zip(*lineage1.lineage_stats[state].pruned_lin_cells_obs))\n",
    "    plt.hist(sduhfksj)\n"
   ]
  },
  {
   "cell_type": "code",
   "execution_count": null,
   "metadata": {},
   "outputs": [],
   "source": [
    "for state in range(lineage1.num_states):\n",
    "    askjdha, sduhfksj = list(zip(*lineage1.lineage_stats[state].full_lin_cells_obs))\n",
    "    plt.hist(sduhfksj)"
   ]
  },
  {
   "cell_type": "code",
   "execution_count": null,
   "metadata": {},
   "outputs": [],
   "source": []
  },
  {
   "cell_type": "code",
   "execution_count": null,
   "metadata": {},
   "outputs": [],
   "source": []
  },
  {
   "cell_type": "code",
   "execution_count": null,
   "metadata": {},
   "outputs": [],
   "source": []
  },
  {
   "cell_type": "code",
   "execution_count": null,
   "metadata": {},
   "outputs": [],
   "source": []
  },
  {
   "cell_type": "code",
   "execution_count": null,
   "metadata": {},
   "outputs": [],
   "source": []
  },
  {
   "cell_type": "code",
   "execution_count": null,
   "metadata": {},
   "outputs": [],
   "source": []
  },
  {
   "cell_type": "code",
   "execution_count": null,
   "metadata": {},
   "outputs": [],
   "source": []
  },
  {
   "cell_type": "code",
   "execution_count": null,
   "metadata": {},
   "outputs": [],
   "source": []
  },
  {
   "cell_type": "markdown",
   "metadata": {},
   "source": [
    "### Estimated Markov parameters ($\\pi$, $T$, $E$)"
   ]
  },
  {
   "cell_type": "code",
   "execution_count": null,
   "metadata": {},
   "outputs": [],
   "source": [
    "print(tHMMobj.estimate.pi)"
   ]
  },
  {
   "cell_type": "code",
   "execution_count": null,
   "metadata": {},
   "outputs": [],
   "source": [
    "print(tHMMobj.estimate.T)"
   ]
  },
  {
   "cell_type": "code",
   "execution_count": null,
   "metadata": {},
   "outputs": [],
   "source": [
    "for state in range(tHMMobj.numStates):\n",
    "    print(tHMMobj.estimate.E[state])"
   ]
  },
  {
   "cell_type": "markdown",
   "metadata": {},
   "source": [
    "## Trying another lineage, this time pruning branches with ancestors that die"
   ]
  },
  {
   "cell_type": "code",
   "execution_count": null,
   "metadata": {},
   "outputs": [],
   "source": [
    "desired_num_cells = 2**12 -1 \n",
    "prune_boolean = True # To get pruned tree"
   ]
  },
  {
   "cell_type": "code",
   "execution_count": null,
   "metadata": {},
   "outputs": [],
   "source": [
    "lineage2 = LineageTree(pi, T, E, desired_num_cells, prune_boolean)\n",
    "print(lineage2)"
   ]
  },
  {
   "cell_type": "code",
   "execution_count": null,
   "metadata": {},
   "outputs": [],
   "source": [
    "longest2 = get_experiment_time(lineage2)\n",
    "print(longest2)"
   ]
  },
  {
   "cell_type": "markdown",
   "metadata": {},
   "source": [
    "### Estimation of distribution parameters using our estimators for pruned lineage"
   ]
  },
  {
   "cell_type": "code",
   "execution_count": null,
   "metadata": {},
   "outputs": [],
   "source": [
    "for state in range(lineage2.num_states):\n",
    "    print(\"State {}:\".format(state))\n",
    "    print(\"                    estimated state\", E[state].estimator(lineage2.lineage_stats[state].pruned_lin_cells_obs))\n",
    "    print(\"original parameters given for state\", E[state])"
   ]
  },
  {
   "cell_type": "markdown",
   "metadata": {},
   "source": [
    "### Analyzing a population of lineages"
   ]
  },
  {
   "cell_type": "code",
   "execution_count": null,
   "metadata": {},
   "outputs": [],
   "source": [
    "X = [lineage1, lineage2] # population just contains one lineage\n",
    "\n",
    "deltas, state_ptrs, all_states, tHMMobj, NF, LL = Analyze(X, 2) # find two states"
   ]
  },
  {
   "cell_type": "code",
   "execution_count": null,
   "metadata": {},
   "outputs": [],
   "source": [
    "for num, lineageObj in enumerate(X):\n",
    "    lin_estimated_states = all_states[num]\n",
    "    lin_true_states = [cell.state for cell in lineageObj.output_lineage]\n",
    "    total = len(lin_estimated_states)\n",
    "    assert total == len(lin_true_states)\n",
    "    counter = [1 if a==b else 0 for (a,b) in zip(lin_estimated_states,lin_true_states)]\n",
    "    print(\"Accuracy or 1-Accuracy is {}\".format(sum(counter)/total))"
   ]
  },
  {
   "cell_type": "markdown",
   "metadata": {},
   "source": [
    "### Estimated Markov parameters ($\\pi$, $T$, $E$)"
   ]
  },
  {
   "cell_type": "code",
   "execution_count": null,
   "metadata": {},
   "outputs": [],
   "source": [
    "print(tHMMobj.estimate.pi)"
   ]
  },
  {
   "cell_type": "code",
   "execution_count": null,
   "metadata": {},
   "outputs": [],
   "source": [
    "print(tHMMobj.estimate.T)"
   ]
  },
  {
   "cell_type": "code",
   "execution_count": null,
   "metadata": {},
   "outputs": [],
   "source": [
    "for state in range(tHMMobj.numStates):\n",
    "    print(tHMMobj.estimate.E[state])"
   ]
  },
  {
   "cell_type": "markdown",
   "metadata": {},
   "source": [
    "## Creating a synthetic lineage that has three states"
   ]
  },
  {
   "cell_type": "markdown",
   "metadata": {},
   "source": [
    "Here we generate a lineage with three states, which would be 1) Susciptible 2) Middle State 3) Resistant. The aim here is to show the transition from susciptible to resistant state doesn't happen immediately, and there is a gradual transition which is modeled as a middle state. The point to be considered here is that transition from 1 to 3 or otherwise is not possible so the probability of these transitions are zero, and most likely the initial cells are in susciptible state.\n",
    "\n",
    "**State 1**: Susceptible\n",
    "\n",
    "**State 2**: Transition state\n",
    "\n",
    "**State 3**: Resistant state\n"
   ]
  },
  {
   "cell_type": "code",
   "execution_count": null,
   "metadata": {},
   "outputs": [],
   "source": [
    "# pi: the initial probability vector\n",
    "pi_3 = np.array([0.5, 0.25, 0.25])\n",
    "\n",
    "# T: transition probability matrix\n",
    "T_3 = np.array([[0.65, 0.35, 0.00],\n",
    "                [0.20, 0.40, 0.40],\n",
    "                [0.00, 0.10, 0.90]])"
   ]
  },
  {
   "cell_type": "code",
   "execution_count": null,
   "metadata": {},
   "outputs": [],
   "source": [
    "# E: states are defined as StateDistribution objects\n",
    "\n",
    "# State 0 parameters \"Susciptible\"\n",
    "state0 = 0\n",
    "bern_p0 = 0.7\n",
    "expon_scale_beta0 = 20\n",
    "gamma_a0 = 5.0\n",
    "gamma_scale0 = 1.0\n",
    "\n",
    "# State 1 parameters \"Middle state\"\n",
    "state1 = 1\n",
    "bern_p1 = 0.85\n",
    "expon_scale_beta1 = 60\n",
    "gamma_a1 = 10.0\n",
    "gamma_scale1 = 2.0\n",
    "\n",
    "# State 2 parameters \"Resistant\"\n",
    "state2 = 2\n",
    "bern_p2 = 0.99\n",
    "expon_scale_beta2 = 80\n",
    "gamma_a2 = 15.0\n",
    "gamma_scale2 = 3.0\n",
    "\n",
    "state_obj0 = StateDistribution(state0, bern_p0, gamma_a0, gamma_scale0)\n",
    "state_obj1 = StateDistribution(state1, bern_p1, gamma_a1, gamma_scale1)\n",
    "state_obj2 = StateDistribution(state2, bern_p2, gamma_a2, gamma_scale2)\n",
    "\n",
    "E_3 = [state_obj0, state_obj1, state_obj2]"
   ]
  },
  {
   "cell_type": "code",
   "execution_count": null,
   "metadata": {},
   "outputs": [],
   "source": [
    "desired_num_cells = 2**13 - 1 \n",
    "prune_boolean = False # To get the full tree"
   ]
  },
  {
   "cell_type": "code",
   "execution_count": null,
   "metadata": {},
   "outputs": [],
   "source": [
    "lineage3 = LineageTree(pi_3, T_3, E_3, desired_num_cells, prune_boolean)\n",
    "print(lineage3)"
   ]
  },
  {
   "cell_type": "code",
   "execution_count": null,
   "metadata": {},
   "outputs": [],
   "source": [
    "longest3 = get_experiment_time(lineage3)\n",
    "print(longest3)"
   ]
  },
  {
   "cell_type": "markdown",
   "metadata": {},
   "source": [
    "### Estimation of distribution parameters using our estimators for full lineage (3 state)"
   ]
  },
  {
   "cell_type": "code",
   "execution_count": null,
   "metadata": {},
   "outputs": [],
   "source": [
    "for state in range(lineage3.num_states):\n",
    "    print(\"State {}:\".format(state))\n",
    "    print(\"estimated state\", E_3[state].estimator(lineage3.lineage_stats[state].full_lin_cells_obs))\n",
    "    print(\"estimated state\", E_3[state].estimator(lineage3.lineage_stats[state].pruned_lin_cells_obs))\n",
    "    print(\"true_____ state\", E_3[state])"
   ]
  },
  {
   "cell_type": "markdown",
   "metadata": {},
   "source": [
    "### Analyzing a three state lineage"
   ]
  },
  {
   "cell_type": "code",
   "execution_count": null,
   "metadata": {},
   "outputs": [],
   "source": [
    "X = [lineage3] # population just contains one lineage\n",
    "\n",
    "deltas, state_ptrs, all_states, tHMMobj, NF, LL = Analyze(X, 3) # find three states"
   ]
  },
  {
   "cell_type": "code",
   "execution_count": null,
   "metadata": {},
   "outputs": [],
   "source": [
    "for num, lineageObj in enumerate(X):\n",
    "    lin_estimated_states = all_states[num]\n",
    "    lin_true_states = [cell.state for cell in lineageObj.output_lineage]\n",
    "    total = len(lin_estimated_states)\n",
    "    assert total == len(lin_true_states)\n",
    "    counter = [1 if a==b else 0 for (a,b) in zip(lin_estimated_states,lin_true_states)]\n",
    "    print(\"Accuracy {}\".format(sum(counter)/total))"
   ]
  },
  {
   "cell_type": "markdown",
   "metadata": {},
   "source": [
    "### Estimated Markov parameters ($\\pi$, $T$, $E$)"
   ]
  },
  {
   "cell_type": "code",
   "execution_count": null,
   "metadata": {},
   "outputs": [],
   "source": [
    "print(tHMMobj.estimate.pi)"
   ]
  },
  {
   "cell_type": "code",
   "execution_count": null,
   "metadata": {},
   "outputs": [],
   "source": [
    "print(tHMMobj.estimate.T)"
   ]
  },
  {
   "cell_type": "code",
   "execution_count": null,
   "metadata": {},
   "outputs": [],
   "source": [
    "for state in range(tHMMobj.numStates):\n",
    "    print(tHMMobj.estimate.E[state])"
   ]
  },
  {
   "cell_type": "code",
   "execution_count": null,
   "metadata": {},
   "outputs": [],
   "source": [
    "\n",
    "\n",
    "\n",
    "\n"
   ]
  },
  {
   "cell_type": "code",
   "execution_count": null,
   "metadata": {},
   "outputs": [],
   "source": []
  },
  {
   "cell_type": "code",
   "execution_count": null,
   "metadata": {},
   "outputs": [],
   "source": [
    "import matplotlib.pyplot as plt\n",
    "%matplotlib inline"
   ]
  },
  {
   "cell_type": "code",
   "execution_count": null,
   "metadata": {},
   "outputs": [],
   "source": [
    "A = sp.gamma.rvs(a=20,scale=4,size=2)\n",
    "B = sp.gamma.rvs(a=5,scale=1,size=1000)\n",
    "plt.hist(A)\n",
    "plt.hist(B)"
   ]
  },
  {
   "cell_type": "code",
   "execution_count": null,
   "metadata": {},
   "outputs": [],
   "source": [
    "from lineage.StateDistribution import gamma_estimator \n",
    "a, b = gamma_estimator(A)"
   ]
  },
  {
   "cell_type": "code",
   "execution_count": null,
   "metadata": {},
   "outputs": [],
   "source": [
    "import scipy.stats as sp\n",
    "gamma_ll = sp.gamma.pdf(x=A, a=a, scale=b)  # gamma likelihood\n",
    "print(gamma_ll)"
   ]
  },
  {
   "cell_type": "code",
   "execution_count": null,
   "metadata": {},
   "outputs": [],
   "source": [
    "import scipy.stats as sp\n",
    "\n",
    "exp_ll = sp.expon.pdf(80.12274208215076, 80.87972524126674)\n",
    "print(exp_ll)\n"
   ]
  },
  {
   "cell_type": "code",
   "execution_count": null,
   "metadata": {},
   "outputs": [],
   "source": []
  },
  {
   "cell_type": "code",
   "execution_count": null,
   "metadata": {},
   "outputs": [],
   "source": []
  }
 ],
 "metadata": {
  "kernelspec": {
   "display_name": "Python 3",
   "language": "python",
   "name": "python3"
  },
  "language_info": {
   "codemirror_mode": {
    "name": "ipython",
    "version": 3
   },
   "file_extension": ".py",
   "mimetype": "text/x-python",
   "name": "python",
   "nbconvert_exporter": "python",
   "pygments_lexer": "ipython3",
   "version": "3.7.3"
  }
 },
 "nbformat": 4,
 "nbformat_minor": 4
}
