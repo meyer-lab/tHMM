{
 "cells": [
  {
   "cell_type": "markdown",
   "metadata": {},
   "source": [
    "# Guide to tHMM"
   ]
  },
  {
   "cell_type": "code",
   "execution_count": 1,
   "metadata": {},
   "outputs": [],
   "source": [
    "import numpy as np\n",
    "import scipy.stats as sp\n",
    "import matplotlib.pyplot as plt"
   ]
  },
  {
   "cell_type": "markdown",
   "metadata": {},
   "source": [
    "### Synthesizing Cells (not required by the user)"
   ]
  },
  {
   "cell_type": "code",
   "execution_count": 2,
   "metadata": {},
   "outputs": [],
   "source": [
    "from lineage.CellVar import CellVar as c\n",
    "from lineage.CellVar import _double"
   ]
  },
  {
   "cell_type": "code",
   "execution_count": 3,
   "metadata": {},
   "outputs": [],
   "source": [
    "T = np.array([[1.0, 0.0],\n",
    "              [0.0, 1.0]])\n",
    "    \n",
    "parent_state = 1\n",
    "parent_cell = c(state=parent_state, left=None, right=None, parent=None, gen=1)\n",
    "left_cell, right_cell = parent_cell._divide(T)"
   ]
  },
  {
   "cell_type": "code",
   "execution_count": 4,
   "metadata": {},
   "outputs": [
    {
     "name": "stdout",
     "output_type": "stream",
     "text": [
      "\n",
      " Generation: 2, State: 1, Observation: This cell has no observations to report. \n",
      " Generation: 2, State: 1, Observation: This cell has no observations to report.\n"
     ]
    }
   ],
   "source": [
    "print(left_cell, parent_cell.left)"
   ]
  },
  {
   "cell_type": "code",
   "execution_count": 5,
   "metadata": {},
   "outputs": [
    {
     "name": "stdout",
     "output_type": "stream",
     "text": [
      "\n",
      " Generation: 2, State: 1, Observation: This cell has no observations to report. \n",
      " Generation: 2, State: 1, Observation: This cell has no observations to report.\n"
     ]
    }
   ],
   "source": [
    "print(right_cell, parent_cell.right)"
   ]
  },
  {
   "cell_type": "markdown",
   "metadata": {},
   "source": [
    "## Creating a synthetic lineage (required by the user) \"Two State Model\""
   ]
  },
  {
   "cell_type": "code",
   "execution_count": 6,
   "metadata": {},
   "outputs": [],
   "source": [
    "from lineage.LineageTree import LineageTree\n",
    "from lineage.StateDistribution import StateDistribution, get_experiment_time"
   ]
  },
  {
   "cell_type": "markdown",
   "metadata": {},
   "source": [
    "### Creating a lineage and setting the full lineage (unpruned) as the one to be used"
   ]
  },
  {
   "cell_type": "markdown",
   "metadata": {},
   "source": [
    "The required probabilities are those that define the tree and act of state switching. This process works by first creating a hidden tree of empty cells. Empty cells are those that have their states set but do not have any observations attached to them. We then draw as many observations from each state distribution and assign those observations to those cells. The $\\pi$ and $T$ parameters are easy to define. The number of states is $k$. We require for $\\pi$ a $k\\times 1$ list of probabilities. These probabilities must add up to $1$ and they should be either in a $1$-dimensional list or a $1$-dimensional numpy array. The $T$ parameter should be a square numpy matrix of size $k\\times k$. The rows are the states in which we are transitioning from and the columns are the states in which we are transitioning to. Each row of $T$ should sum to $1$. The columns need not sum to $1$."
   ]
  },
  {
   "cell_type": "code",
   "execution_count": 7,
   "metadata": {},
   "outputs": [],
   "source": [
    "# pi: the initial probability vector\n",
    "pi = np.array([0.6, 0.4], dtype=\"float\")\n",
    "\n",
    "# T: transition probability matrix\n",
    "T = np.array([[0.85, 0.15],\n",
    "              [0.15, 0.85]])"
   ]
  },
  {
   "cell_type": "markdown",
   "metadata": {},
   "source": [
    "The emission matrix $E$ is a little more complicated to define because this is where the user has complete freedom in defining what type of observation they care about. In particular, the user has to first begin with defining what observation he or she will want in their cells in their synthetic images. For example, if one is observing kinematics or physics, they might want to use Gaaussian distribution observations. In defining the random variables, the user will pull from a Gaussian distribution based on the mean and standard deviation of the different states he or she picks. They can also utilize the Gaussian probability distribution to define the likelihood as well. Furthermore, they can build an analytical estimator for their state distributions that yield the parameter estimates when given a list of observations. Finally, the user can also define a prune rule, which is essentially a boolean function that inspects a cell's observations and returns True if the cell's subtree (all the cells that are related to the cell in question and are of older generation) is to be pruned or False if the cell is safe from pruning. In the Gaussian example, a user can remove a cell's subtree if its observation is higher or lower than some fixed value.\n",
    "\n",
    "We have already built, as an example, and as bioengineers, a model that resembles lineage trees. In our synthetic model, our emissions are multivariate. This first emission is a Bernoulli observation, $0$ implying death and $1$ implying division. The second and third emissions are continuous and are from exponential and gamma distributions respectively. Though these can be thought of cell lifetime's or periods in a certain cell phase, we want the user to know that these values can really mean anything and they are completely free in choosing what the emissions and their values mean. We define ways to calculate random variables for these multivariate observations and likelihoods of an observations. We also provide as a prune rule, keeping with the cell analogy, that if a cell has a $0$ in its Bernoulli observation, then its subtree is pruned from the full lineage tree. Though this will obviously introduce bias into estimation, we keep both the full tree and the pruned tree in the lineage objects, in the case a user would like to see the effects of analyzing on one versus the other.\n",
    "\n",
    "Ultimately, $E$ is defined as a $k\\times 1$ size list of state distribution objects. These distribution objects are rich in what they can already do, and a user can easily add more to their functionality. They only need to be instantiated by what parameters define that state's distribution."
   ]
  },
  {
   "cell_type": "code",
   "execution_count": 8,
   "metadata": {},
   "outputs": [],
   "source": [
    "# E: states are defined as StateDistribution objects\n",
    "\n",
    "# State 0 parameters \"Resistant\"\n",
    "state0 = 0\n",
    "bern_p0 = 0.99\n",
    "gamma_loc = 0\n",
    "gamma_a0 = 20\n",
    "gamma_scale0 = 5\n",
    "\n",
    "# State 1 parameters \"Susceptible\"\n",
    "state1 = 1\n",
    "bern_p1 = 0.88\n",
    "gamma_a1 = 15\n",
    "gamma_scale1 = 1\n",
    "\n",
    "state_obj0 = StateDistribution(state0, bern_p0, gamma_a0, gamma_loc, gamma_scale0)\n",
    "state_obj1 = StateDistribution(state1, bern_p1, gamma_a1, gamma_loc,  gamma_scale1)\n",
    "\n",
    "E = [state_obj0, state_obj1]"
   ]
  },
  {
   "cell_type": "markdown",
   "metadata": {},
   "source": [
    "The final required parameters are more obvious. The first is the desired number of cells one would like in their full unpruned lineage tree. This can be any number. The lineage tree is built 'from left to right'. What this means is that, we construct the binary tree by going to the left-most cell, dividing then walking through the generation. For example, if someone requested for"
   ]
  },
  {
   "cell_type": "code",
   "execution_count": 9,
   "metadata": {},
   "outputs": [],
   "source": [
    "desired_num_cells = 2**7 - 1 \n",
    "prune_boolean = False # To get the full tree"
   ]
  },
  {
   "cell_type": "code",
   "execution_count": 10,
   "metadata": {},
   "outputs": [
    {
     "name": "stdout",
     "output_type": "stream",
     "text": [
      "This tree is NOT pruned. It is made of 2 states.\n",
      " For each state in this tree: \n",
      " \t There are 80 cells of state 0, \n",
      " \t There are 47 cells of state 1.\n",
      " This UNpruned tree has 127 many cells in total\n"
     ]
    }
   ],
   "source": [
    "lineage1 = LineageTree(pi, T, E, desired_num_cells, desired_experiment_time=1000, prune_condition='both', prune_boolean=False)\n",
    "print(lineage1)"
   ]
  },
  {
   "cell_type": "markdown",
   "metadata": {},
   "source": [
    "### Obtaining how long the experiment ran by checking the time length of the longest branch"
   ]
  },
  {
   "cell_type": "code",
   "execution_count": 11,
   "metadata": {},
   "outputs": [
    {
     "name": "stdout",
     "output_type": "stream",
     "text": [
      "778.7948735790198\n"
     ]
    }
   ],
   "source": [
    "longest_branch_time = get_experiment_time(lineage1)\n",
    "print(longest_branch_time)"
   ]
  },
  {
   "cell_type": "markdown",
   "metadata": {},
   "source": [
    "### Estimation of distribution parameters using our estimators for full lineage"
   ]
  },
  {
   "cell_type": "code",
   "execution_count": 12,
   "metadata": {},
   "outputs": [
    {
     "name": "stdout",
     "output_type": "stream",
     "text": [
      "State 0:\n",
      "                    estimated state State object w/ parameters: 0.99999999999875, 21.81674046489479, 0, 4.488846717996455.\n",
      "original parameters given for state State object w/ parameters: 0.99, 20, 0, 5.\n",
      "State 1:\n",
      "                    estimated state State object w/ parameters: 0.8510638297857402, 12.987244628796763, 0, 1.1480681724814765.\n",
      "original parameters given for state State object w/ parameters: 0.88, 15, 0, 1.\n"
     ]
    }
   ],
   "source": [
    "for state in range(lineage1.num_states):\n",
    "    print(\"State {}:\".format(state))\n",
    "    print(\"                    estimated state\", E[state].estimator(lineage1.lineage_stats[state].full_lin_cells_obs))\n",
    "    print(\"original parameters given for state\", E[state])"
   ]
  },
  {
   "cell_type": "markdown",
   "metadata": {},
   "source": [
    "### Estimation of distribution parameters using our estimators for pruned lineage"
   ]
  },
  {
   "cell_type": "code",
   "execution_count": 13,
   "metadata": {},
   "outputs": [
    {
     "name": "stdout",
     "output_type": "stream",
     "text": [
      "State 0:\n",
      "                    estimated state State object w/ parameters: 0.9999999999987341, 21.930033791742158, 0, 4.478513185990882.\n",
      "original parameters given for state State object w/ parameters: 0.99, 20, 0, 5.\n",
      "State 1:\n",
      "                    estimated state State object w/ parameters: 0.799999999998, 11.612727953968214, 0, 1.2710303248402774.\n",
      "original parameters given for state State object w/ parameters: 0.88, 15, 0, 1.\n"
     ]
    }
   ],
   "source": [
    "for state in range(lineage1.num_states):\n",
    "    print(\"State {}:\".format(state))\n",
    "    print(\"                    estimated state\", E[state].estimator(lineage1.lineage_stats[state].pruned_lin_cells_obs))\n",
    "    print(\"original parameters given for state\", E[state])"
   ]
  },
  {
   "cell_type": "markdown",
   "metadata": {},
   "source": [
    "### Analyzing our first full lineage"
   ]
  },
  {
   "cell_type": "code",
   "execution_count": 16,
   "metadata": {},
   "outputs": [
    {
     "name": "stdout",
     "output_type": "stream",
     "text": [
      "It took 1 tries to fit.\n"
     ]
    }
   ],
   "source": [
    "from lineage.Analyze import Analyze, accuracy\n",
    "\n",
    "X = [lineage1] # population just contains one lineage\n",
    "states = [cell.state for cell in lineage1.output_lineage]\n",
    "deltas, state_ptrs, all_states, tHMMobj, NF, LL = Analyze(X, 2) # find two states"
   ]
  },
  {
   "cell_type": "code",
   "execution_count": 17,
   "metadata": {},
   "outputs": [
    {
     "data": {
      "text/plain": [
       "[array([1, 0, 0, 1, 1, 1, 1, 0, 0, 0, 0, 0, 0, 0, 0, 1, 1, 1, 1, 1, 1, 1,\n",
       "        1, 1, 1, 1, 1, 1, 1, 1, 1, 0, 0, 0, 0, 0, 0, 0, 0, 0, 0, 0, 0, 0,\n",
       "        0, 0, 0, 0, 0, 0, 0, 0, 0, 0, 0, 0, 0, 0, 0, 0, 0, 0, 0, 1, 1, 1,\n",
       "        1, 1, 1, 1, 1, 1, 1, 1, 1, 1, 1, 1, 1, 1, 1, 1, 1, 1, 1, 1, 1, 1,\n",
       "        1, 1, 1, 1, 1, 1, 1, 1, 1, 1, 1, 1, 1, 1, 1, 1, 1, 1, 1, 1, 1, 1,\n",
       "        1, 1, 1, 1, 1, 1, 1, 1, 1, 1, 1, 1, 1, 1, 1, 1, 1])]"
      ]
     },
     "execution_count": 17,
     "metadata": {},
     "output_type": "execute_result"
    }
   ],
   "source": [
    "all_states"
   ]
  },
  {
   "cell_type": "code",
   "execution_count": 105,
   "metadata": {},
   "outputs": [],
   "source": [
    "def distributionPlot():\n",
    "    \n",
    "    gamma_loc = 0\n",
    "    bern_p0 = 0.99\n",
    "    bern_p1 = 0.88\n",
    "    a0 = np.linspace(5.0, 17.0, 10)\n",
    "    scale0 = 10*([2.0])\n",
    "    a1 = np.linspace(30.0, 17.0, 10)\n",
    "    scale1 = 10*([3.0])\n",
    "\n",
    "    dist1 = np.concatenate((sp.gamma.rvs(a=a0[0], loc=gamma_loc, scale=scale0[0], \n",
    "                         size=500), sp.gamma.rvs(a=a1[0], loc=gamma_loc,\n",
    "                         scale=scale1[0], \n",
    "                         size=500), sp.gamma.rvs(a=a0[1], \n",
    "                         loc=gamma_loc, scale=scale0[1], \n",
    "                         size=500), sp.gamma.rvs(a=a1[1], \n",
    "                         loc=gamma_loc, scale=scale1[1], \n",
    "                         size=500), sp.gamma.rvs(a=a0[2],\n",
    "                         loc=gamma_loc, scale=scale0[2], size=500), \n",
    "                         sp.gamma.rvs(a=a1[2], loc=gamma_loc,\n",
    "                         scale=scale1[2], size=500), sp.gamma.rvs(a=a0[3],\n",
    "                         loc=gamma_loc, scale=scale0[3], size=500),\n",
    "                         sp.gamma.rvs(a=a1[3], loc=gamma_loc,\n",
    "                         scale=scale1[3], size=500),sp.gamma.rvs(a=a0[4],\n",
    "                         loc=gamma_loc, scale=scale0[4], size=500),\n",
    "                         sp.gamma.rvs(a=a1[4], loc=gamma_loc,\n",
    "                         scale=scale1[4], size=500),\n",
    "                         sp.gamma.rvs(a=a0[5], loc=gamma_loc,\n",
    "                         scale=scale0[5], size=500), sp.gamma.rvs(a=a1[5],\n",
    "                         loc=gamma_loc, scale=scale1[5], size=500),\n",
    "                         sp.gamma.rvs(a=a0[6], loc=gamma_loc, scale=scale0[6],\n",
    "                         size=500), sp.gamma.rvs(a=a1[6], loc=gamma_loc,\n",
    "                         scale=scale1[6], size=500), sp.gamma.rvs(a=a0[7],\n",
    "                         loc=gamma_loc, scale=scale0[7], size=500), \n",
    "                         sp.gamma.rvs(a=a1[7], loc=gamma_loc, scale=scale1[7],\n",
    "                         size=500), sp.gamma.rvs(a=a0[8], loc=gamma_loc,\n",
    "                         scale=scale0[8], size=500), sp.gamma.rvs(a=a1[8],\n",
    "                         loc=gamma_loc, scale=scale1[8], size=500),\n",
    "                         sp.gamma.rvs(a=a0[9], loc=gamma_loc, scale=scale0[9],\n",
    "                         size=500), sp.gamma.rvs(a=a1[9], loc=gamma_loc,\n",
    "                         scale=scale1[9], size=500)))\n",
    "    \n",
    "    dists = pd.DataFrame(columns = ['lifetime [hr]', 'distributions'])\n",
    "    dists['lifetime [hr]']=dist1\n",
    "    dists['distributions']=1000*(['d1']) + 1000*(['d2']) + 1000*(['d3']) + 1000*(['d4']) + 1000*(['d5']) + 1000*(['d6']) + 1000*(['d7']) + 1000*(['d8']) + 1000*(['d9']) + 1000*(['d10'])\n",
    "    return dists"
   ]
  },
  {
   "cell_type": "code",
   "execution_count": 106,
   "metadata": {},
   "outputs": [
    {
     "data": {
      "image/png": "[encoded data removed]",
      "text/plain": [
       "<Figure size 1200x800 with 1 Axes>"
      ]
     },
     "metadata": {},
     "output_type": "display_data"
    }
   ],
   "source": [
    "import seaborn as sns\n",
    "\n",
    "dists = distributionPlot()\n",
    "plt.figure(dpi=200)\n",
    "sns.set(style=\"whitegrid\", palette=\"pastel\", color_codes=True)\n",
    "\n",
    "sns.violinplot(x=\"distributions\", y=\"lifetime [hr]\",\n",
    "               split=True, inner=\"quart\",\n",
    "               data=dists)\n",
    "sns.despine(left=True)\n"
   ]
  },
  {
   "cell_type": "code",
   "execution_count": 62,
   "metadata": {},
   "outputs": [
    {
     "data": {
      "text/html": [
       "<div>\n",
       "<style scoped>\n",
       "    .dataframe tbody tr th:only-of-type {\n",
       "        vertical-align: middle;\n",
       "    }\n",
       "\n",
       "    .dataframe tbody tr th {\n",
       "        vertical-align: top;\n",
       "    }\n",
       "\n",
       "    .dataframe thead th {\n",
       "        text-align: right;\n",
       "    }\n",
       "</style>\n",
       "<table border=\"1\" class=\"dataframe\">\n",
       "  <thead>\n",
       "    <tr style=\"text-align: right;\">\n",
       "      <th></th>\n",
       "      <th>total_bill</th>\n",
       "      <th>tip</th>\n",
       "      <th>sex</th>\n",
       "      <th>smoker</th>\n",
       "      <th>day</th>\n",
       "      <th>time</th>\n",
       "      <th>size</th>\n",
       "    </tr>\n",
       "  </thead>\n",
       "  <tbody>\n",
       "    <tr>\n",
       "      <th>0</th>\n",
       "      <td>16.99</td>\n",
       "      <td>1.01</td>\n",
       "      <td>Female</td>\n",
       "      <td>No</td>\n",
       "      <td>Sun</td>\n",
       "      <td>Dinner</td>\n",
       "      <td>2</td>\n",
       "    </tr>\n",
       "    <tr>\n",
       "      <th>1</th>\n",
       "      <td>10.34</td>\n",
       "      <td>1.66</td>\n",
       "      <td>Male</td>\n",
       "      <td>No</td>\n",
       "      <td>Sun</td>\n",
       "      <td>Dinner</td>\n",
       "      <td>3</td>\n",
       "    </tr>\n",
       "    <tr>\n",
       "      <th>2</th>\n",
       "      <td>21.01</td>\n",
       "      <td>3.50</td>\n",
       "      <td>Male</td>\n",
       "      <td>No</td>\n",
       "      <td>Sun</td>\n",
       "      <td>Dinner</td>\n",
       "      <td>3</td>\n",
       "    </tr>\n",
       "    <tr>\n",
       "      <th>3</th>\n",
       "      <td>23.68</td>\n",
       "      <td>3.31</td>\n",
       "      <td>Male</td>\n",
       "      <td>No</td>\n",
       "      <td>Sun</td>\n",
       "      <td>Dinner</td>\n",
       "      <td>2</td>\n",
       "    </tr>\n",
       "    <tr>\n",
       "      <th>4</th>\n",
       "      <td>24.59</td>\n",
       "      <td>3.61</td>\n",
       "      <td>Female</td>\n",
       "      <td>No</td>\n",
       "      <td>Sun</td>\n",
       "      <td>Dinner</td>\n",
       "      <td>4</td>\n",
       "    </tr>\n",
       "    <tr>\n",
       "      <th>...</th>\n",
       "      <td>...</td>\n",
       "      <td>...</td>\n",
       "      <td>...</td>\n",
       "      <td>...</td>\n",
       "      <td>...</td>\n",
       "      <td>...</td>\n",
       "      <td>...</td>\n",
       "    </tr>\n",
       "    <tr>\n",
       "      <th>239</th>\n",
       "      <td>29.03</td>\n",
       "      <td>5.92</td>\n",
       "      <td>Male</td>\n",
       "      <td>No</td>\n",
       "      <td>Sat</td>\n",
       "      <td>Dinner</td>\n",
       "      <td>3</td>\n",
       "    </tr>\n",
       "    <tr>\n",
       "      <th>240</th>\n",
       "      <td>27.18</td>\n",
       "      <td>2.00</td>\n",
       "      <td>Female</td>\n",
       "      <td>Yes</td>\n",
       "      <td>Sat</td>\n",
       "      <td>Dinner</td>\n",
       "      <td>2</td>\n",
       "    </tr>\n",
       "    <tr>\n",
       "      <th>241</th>\n",
       "      <td>22.67</td>\n",
       "      <td>2.00</td>\n",
       "      <td>Male</td>\n",
       "      <td>Yes</td>\n",
       "      <td>Sat</td>\n",
       "      <td>Dinner</td>\n",
       "      <td>2</td>\n",
       "    </tr>\n",
       "    <tr>\n",
       "      <th>242</th>\n",
       "      <td>17.82</td>\n",
       "      <td>1.75</td>\n",
       "      <td>Male</td>\n",
       "      <td>No</td>\n",
       "      <td>Sat</td>\n",
       "      <td>Dinner</td>\n",
       "      <td>2</td>\n",
       "    </tr>\n",
       "    <tr>\n",
       "      <th>243</th>\n",
       "      <td>18.78</td>\n",
       "      <td>3.00</td>\n",
       "      <td>Female</td>\n",
       "      <td>No</td>\n",
       "      <td>Thur</td>\n",
       "      <td>Dinner</td>\n",
       "      <td>2</td>\n",
       "    </tr>\n",
       "  </tbody>\n",
       "</table>\n",
       "<p>244 rows × 7 columns</p>\n",
       "</div>"
      ],
      "text/plain": [
       "     total_bill   tip     sex smoker   day    time  size\n",
       "0         16.99  1.01  Female     No   Sun  Dinner     2\n",
       "1         10.34  1.66    Male     No   Sun  Dinner     3\n",
       "2         21.01  3.50    Male     No   Sun  Dinner     3\n",
       "3         23.68  3.31    Male     No   Sun  Dinner     2\n",
       "4         24.59  3.61  Female     No   Sun  Dinner     4\n",
       "..          ...   ...     ...    ...   ...     ...   ...\n",
       "239       29.03  5.92    Male     No   Sat  Dinner     3\n",
       "240       27.18  2.00  Female    Yes   Sat  Dinner     2\n",
       "241       22.67  2.00    Male    Yes   Sat  Dinner     2\n",
       "242       17.82  1.75    Male     No   Sat  Dinner     2\n",
       "243       18.78  3.00  Female     No  Thur  Dinner     2\n",
       "\n",
       "[244 rows x 7 columns]"
      ]
     },
     "execution_count": 62,
     "metadata": {},
     "output_type": "execute_result"
    },
    {
     "data": {
      "image/png": "[encoded data removed]",
      "text/plain": [
       "<Figure size 432x288 with 1 Axes>"
      ]
     },
     "metadata": {},
     "output_type": "display_data"
    }
   ],
   "source": [
    "# Load the example tips dataset\n",
    "\n",
    "import seaborn as sns\n",
    "sns.set(style=\"whitegrid\", palette=\"pastel\", color_codes=True)\n",
    "\n",
    "tips = sns.load_dataset(\"tips\")\n",
    "\n",
    "# Draw a nested violinplot and split the violins for easier comparison\n",
    "sns.violinplot(x=\"day\", y=\"total_bill\", hue=\"smoker\",\n",
    "               split=True, inner=\"quart\",\n",
    "               palette={\"Yes\": \"y\", \"No\": \"b\"},\n",
    "               data=tips)\n",
    "sns.despine(left=True)\n",
    "tips"
   ]
  },
  {
   "cell_type": "markdown",
   "metadata": {},
   "source": [
    "### Estimated Markov parameters ($\\pi$, $T$, $E$)"
   ]
  },
  {
   "cell_type": "code",
   "execution_count": null,
   "metadata": {},
   "outputs": [],
   "source": [
    "print(tHMMobj.estimate.pi)"
   ]
  },
  {
   "cell_type": "code",
   "execution_count": null,
   "metadata": {},
   "outputs": [],
   "source": [
    "print(tHMMobj.estimate.T)"
   ]
  },
  {
   "cell_type": "code",
   "execution_count": null,
   "metadata": {},
   "outputs": [],
   "source": [
    "for state in range(tHMMobj.numStates):\n",
    "    print(tHMMobj.estimate.E[state])"
   ]
  },
  {
   "cell_type": "markdown",
   "metadata": {},
   "source": [
    "## Trying another lineage, this time pruning branches with ancestors that die"
   ]
  },
  {
   "cell_type": "code",
   "execution_count": null,
   "metadata": {},
   "outputs": [],
   "source": [
    "desired_num_cells = 2**12 -1 \n",
    "prune_boolean = True # To get pruned tree"
   ]
  },
  {
   "cell_type": "code",
   "execution_count": null,
   "metadata": {},
   "outputs": [],
   "source": [
    "lineage2 = LineageTree(pi, T, E, desired_num_cells, prune_boolean)\n",
    "print(lineage2)"
   ]
  },
  {
   "cell_type": "code",
   "execution_count": null,
   "metadata": {},
   "outputs": [],
   "source": [
    "longest2 = get_experiment_time(lineage2)\n",
    "print(longest2)"
   ]
  },
  {
   "cell_type": "markdown",
   "metadata": {},
   "source": [
    "### Estimation of distribution parameters using our estimators for pruned lineage"
   ]
  },
  {
   "cell_type": "code",
   "execution_count": null,
   "metadata": {},
   "outputs": [],
   "source": [
    "for state in range(lineage2.num_states):\n",
    "    print(\"State {}:\".format(state))\n",
    "    print(\"                    estimated state\", E[state].estimator(lineage2.lineage_stats[state].pruned_lin_cells_obs))\n",
    "    print(\"original parameters given for state\", E[state])"
   ]
  },
  {
   "cell_type": "markdown",
   "metadata": {},
   "source": [
    "### Analyzing a population of lineages"
   ]
  },
  {
   "cell_type": "code",
   "execution_count": null,
   "metadata": {},
   "outputs": [],
   "source": [
    "X = [lineage1, lineage2] # population just contains one lineage\n",
    "\n",
    "deltas, state_ptrs, all_states, tHMMobj, NF, LL = Analyze(X, 2) # find two states"
   ]
  },
  {
   "cell_type": "code",
   "execution_count": null,
   "metadata": {},
   "outputs": [],
   "source": [
    "from lineage.Analyze import accuracy\n",
    "accuracy(tHMMobj, all_states)"
   ]
  },
  {
   "cell_type": "markdown",
   "metadata": {},
   "source": [
    "### Estimated Markov parameters ($\\pi$, $T$, $E$)"
   ]
  },
  {
   "cell_type": "code",
   "execution_count": null,
   "metadata": {},
   "outputs": [],
   "source": [
    "print(tHMMobj.estimate.pi)"
   ]
  },
  {
   "cell_type": "code",
   "execution_count": null,
   "metadata": {},
   "outputs": [],
   "source": [
    "print(tHMMobj.estimate.T)"
   ]
  },
  {
   "cell_type": "code",
   "execution_count": null,
   "metadata": {},
   "outputs": [],
   "source": [
    "for state in range(tHMMobj.numStates):\n",
    "    print(tHMMobj.estimate.E[state])"
   ]
  },
  {
   "cell_type": "markdown",
   "metadata": {},
   "source": [
    "## Creating a synthetic lineage that has three states"
   ]
  },
  {
   "cell_type": "markdown",
   "metadata": {},
   "source": [
    "Here we generate a lineage with three states, which would be 1) Susciptible 2) Middle State 3) Resistant. The aim here is to show the transition from susciptible to resistant state doesn't happen immediately, and there is a gradual transition which is modeled as a middle state. The point to be considered here is that transition from 1 to 3 or otherwise is not possible so the probability of these transitions are zero, and most likely the initial cells are in susciptible state.\n",
    "\n",
    "**State 1**: Susceptible\n",
    "\n",
    "**State 2**: Transition state\n",
    "\n",
    "**State 3**: Resistant state\n"
   ]
  },
  {
   "cell_type": "code",
   "execution_count": null,
   "metadata": {},
   "outputs": [],
   "source": [
    "# pi: the initial probability vector\n",
    "pi_3 = np.array([0.5, 0.25, 0.25])\n",
    "\n",
    "# T: transition probability matrix\n",
    "T_3 = np.array([[0.65, 0.35, 0.00],\n",
    "                [0.20, 0.40, 0.40],\n",
    "                [0.00, 0.10, 0.90]])"
   ]
  },
  {
   "cell_type": "code",
   "execution_count": null,
   "metadata": {},
   "outputs": [],
   "source": [
    "# E: states are defined as StateDistribution objects\n",
    "\n",
    "# State 0 parameters \"Susciptible\"\n",
    "state0 = 0\n",
    "bern_p0 = 0.7\n",
    "gamma_a0 = 5.0\n",
    "gamma_scale0 = 1.0\n",
    "\n",
    "# State 1 parameters \"Middle state\"\n",
    "state1 = 1\n",
    "bern_p1 = 0.85\n",
    "gamma_a1 = 10.0\n",
    "gamma_scale1 = 2.0\n",
    "\n",
    "# State 2 parameters \"Resistant\"\n",
    "state2 = 2\n",
    "bern_p2 = 0.99\n",
    "gamma_a2 = 15.0\n",
    "gamma_scale2 = 3.0\n",
    "\n",
    "state_obj0 = StateDistribution(state0, bern_p0, gamma_a0, gamma_loc, gamma_scale0)\n",
    "state_obj1 = StateDistribution(state1, bern_p1, gamma_a1, gamma_loc, gamma_scale1)\n",
    "state_obj2 = StateDistribution(state2, bern_p2, gamma_a2, gamma_loc, gamma_scale2)\n",
    "\n",
    "E_3 = [state_obj0, state_obj1, state_obj2]"
   ]
  },
  {
   "cell_type": "code",
   "execution_count": null,
   "metadata": {},
   "outputs": [],
   "source": [
    "desired_num_cells = 2**13 - 1 \n",
    "prune_boolean = False # To get the full tree"
   ]
  },
  {
   "cell_type": "code",
   "execution_count": null,
   "metadata": {},
   "outputs": [],
   "source": [
    "lineage3 = LineageTree(pi_3, T_3, E_3, desired_num_cells, prune_boolean)\n",
    "print(lineage3)"
   ]
  },
  {
   "cell_type": "code",
   "execution_count": null,
   "metadata": {},
   "outputs": [],
   "source": [
    "longest3 = get_experiment_time(lineage3)\n",
    "print(longest3)"
   ]
  },
  {
   "cell_type": "markdown",
   "metadata": {},
   "source": [
    "### Estimation of distribution parameters using our estimators for full lineage (3 state)"
   ]
  },
  {
   "cell_type": "code",
   "execution_count": null,
   "metadata": {},
   "outputs": [],
   "source": [
    "for state in range(lineage3.num_states):\n",
    "    print(\"State {}:\".format(state))\n",
    "    print(\"estimated state\", E_3[state].estimator(lineage3.lineage_stats[state].full_lin_cells_obs))\n",
    "    print(\"estimated state\", E_3[state].estimator(lineage3.lineage_stats[state].pruned_lin_cells_obs))\n",
    "    print(\"true_____ state\", E_3[state])"
   ]
  },
  {
   "cell_type": "markdown",
   "metadata": {},
   "source": [
    "### Analyzing a three state lineage"
   ]
  },
  {
   "cell_type": "code",
   "execution_count": null,
   "metadata": {},
   "outputs": [],
   "source": [
    "X = [lineage3] # population just contains one lineage\n",
    "\n",
    "deltas, state_ptrs, all_states, tHMMobj, NF, LL = Analyze(X, 3) # find three states"
   ]
  },
  {
   "cell_type": "code",
   "execution_count": null,
   "metadata": {},
   "outputs": [],
   "source": [
    "accuracy(tHMMobj, all_states)"
   ]
  },
  {
   "cell_type": "markdown",
   "metadata": {},
   "source": [
    "### Estimated Markov parameters ($\\pi$, $T$, $E$)"
   ]
  },
  {
   "cell_type": "code",
   "execution_count": null,
   "metadata": {},
   "outputs": [],
   "source": [
    "print(tHMMobj.estimate.pi)"
   ]
  },
  {
   "cell_type": "code",
   "execution_count": null,
   "metadata": {},
   "outputs": [],
   "source": [
    "print(tHMMobj.estimate.T)"
   ]
  }
 ],
 "metadata": {
  "kernelspec": {
   "display_name": "Python 3",
   "language": "python",
   "name": "python3"
  },
  "language_info": {
   "codemirror_mode": {
    "name": "ipython",
    "version": 3
   },
   "file_extension": ".py",
   "mimetype": "text/x-python",
   "name": "python",
   "nbconvert_exporter": "python",
   "pygments_lexer": "ipython3",
   "version": "3.7.5rc1"
  }
 },
 "nbformat": 4,
 "nbformat_minor": 4
}
