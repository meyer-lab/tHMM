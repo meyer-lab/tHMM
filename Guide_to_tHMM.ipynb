{
 "cells": [
  {
   "cell_type": "markdown",
   "metadata": {},
   "source": [
    "# Guide to tHMM"
   ]
  },
  {
   "cell_type": "code",
   "execution_count": 1,
   "metadata": {},
   "outputs": [],
   "source": [
    "import numpy as np\n",
    "import scipy.stats as sp"
   ]
  },
  {
   "cell_type": "markdown",
   "metadata": {},
   "source": [
    "### Synthesizing Cells (not required by the user)"
   ]
  },
  {
   "cell_type": "code",
   "execution_count": 2,
   "metadata": {},
   "outputs": [],
   "source": [
    "from lineage.CellVar import CellVar as c\n",
    "from lineage.CellVar import _double"
   ]
  },
  {
   "cell_type": "code",
   "execution_count": 3,
   "metadata": {},
   "outputs": [],
   "source": [
    "T = np.array([[1.0, 0.0],\n",
    "              [0.0, 1.0]])\n",
    "    \n",
    "parent_state = 1\n",
    "parent_cell = c(state=parent_state, left=None, right=None, parent=None, gen=1)\n",
    "left_cell, right_cell = parent_cell._divide(T)"
   ]
  },
  {
   "cell_type": "code",
   "execution_count": 4,
   "metadata": {},
   "outputs": [
    {
     "name": "stdout",
     "output_type": "stream",
     "text": [
      "\n",
      " Generation: 2, State: 1, Observation: This cell has no observations to report. \n",
      " Generation: 2, State: 1, Observation: This cell has no observations to report.\n"
     ]
    }
   ],
   "source": [
    "print(left_cell, parent_cell.left)"
   ]
  },
  {
   "cell_type": "code",
   "execution_count": 5,
   "metadata": {},
   "outputs": [
    {
     "name": "stdout",
     "output_type": "stream",
     "text": [
      "\n",
      " Generation: 2, State: 1, Observation: This cell has no observations to report. \n",
      " Generation: 2, State: 1, Observation: This cell has no observations to report.\n"
     ]
    }
   ],
   "source": [
    "print(right_cell, parent_cell.right)"
   ]
  },
  {
   "cell_type": "markdown",
   "metadata": {},
   "source": [
    "## Creating a synthetic lineage (required by the user) \"Two State Model\""
   ]
  },
  {
   "cell_type": "code",
   "execution_count": 6,
   "metadata": {},
   "outputs": [],
   "source": [
    "from lineage.LineageTree import LineageTree\n",
    "from lineage.StateDistribution import StateDistribution, get_experiment_time"
   ]
  },
  {
   "cell_type": "markdown",
   "metadata": {},
   "source": [
    "### Creating a lineage and setting the full lineage (unpruned) as the one to be used"
   ]
  },
  {
   "cell_type": "markdown",
   "metadata": {},
   "source": [
    "The required probabilities are those that define the tree and act of state switching. This process works by first creating a hidden tree of empty cells. Empty cells are those that have their states set but do not have any observations attached to them. We then draw as many observations from each state distribution and assign those observations to those cells. The $\\pi$ and $T$ parameters are easy to define. The number of states is $k$. We require for $\\pi$ a $k\\times 1$ list of probabilities. These probabilities must add up to $1$ and they should be either in a $1$-dimensional list or a $1$-dimensional numpy array. The $T$ parameter should be a square numpy matrix of size $k\\times k$. The rows are the states in which we are transitioning from and the columns are the states in which we are transitioning to. Each row of $T$ should sum to $1$. The columns need not sum to $1$."
   ]
  },
  {
   "cell_type": "code",
   "execution_count": 7,
   "metadata": {},
   "outputs": [],
   "source": [
    "# pi: the initial probability vector\n",
    "pi = np.array([0.6, 0.4], dtype=\"float\")\n",
    "\n",
    "# T: transition probability matrix\n",
    "T = np.array([[0.85, 0.15],\n",
    "              [0.15, 0.85]])"
   ]
  },
  {
   "cell_type": "markdown",
   "metadata": {},
   "source": [
    "The emission matrix $E$ is a little more complicated to define because this is where the user has complete freedom in defining what type of observation they care about. In particular, the user has to first begin with defining what observation he or she will want in their cells in their synthetic images. For example, if one is observing kinematics or physics, they might want to use Gaaussian distribution observations. In defining the random variables, the user will pull from a Gaussian distribution based on the mean and standard deviation of the different states he or she picks. They can also utilize the Gaussian probability distribution to define the likelihood as well. Furthermore, they can build an analytical estimator for their state distributions that yield the parameter estimates when given a list of observations. Finally, the user can also define a prune rule, which is essentially a boolean function that inspects a cell's observations and returns True if the cell's subtree (all the cells that are related to the cell in question and are of older generation) is to be pruned or False if the cell is safe from pruning. In the Gaussian example, a user can remove a cell's subtree if its observation is higher or lower than some fixed value.\n",
    "\n",
    "We have already built, as an example, and as bioengineers, a model that resembles lineage trees. In our synthetic model, our emissions are multivariate. This first emission is a Bernoulli observation, $0$ implying death and $1$ implying division. The second and third emissions are continuous and are from exponential and gamma distributions respectively. Though these can be thought of cell lifetime's or periods in a certain cell phase, we want the user to know that these values can really mean anything and they are completely free in choosing what the emissions and their values mean. We define ways to calculate random variables for these multivariate observations and likelihoods of an observations. We also provide as a prune rule, keeping with the cell analogy, that if a cell has a $0$ in its Bernoulli observation, then its subtree is pruned from the full lineage tree. Though this will obviously introduce bias into estimation, we keep both the full tree and the pruned tree in the lineage objects, in the case a user would like to see the effects of analyzing on one versus the other.\n",
    "\n",
    "Ultimately, $E$ is defined as a $k\\times 1$ size list of state distribution objects. These distribution objects are rich in what they can already do, and a user can easily add more to their functionality. They only need to be instantiated by what parameters define that state's distribution."
   ]
  },
  {
   "cell_type": "code",
   "execution_count": 8,
   "metadata": {},
   "outputs": [],
   "source": [
    "# E: states are defined as StateDistribution objects\n",
    "\n",
    "# State 0 parameters \"Resistant\"\n",
    "state0 = 0\n",
    "bern_p0 = 0.8\n",
    "gamma_a0 = 5.0\n",
    "gamma_scale0 = 1.0\n",
    "\n",
    "# State 1 parameters \"Susciptible\"\n",
    "state1 = 1\n",
    "bern_p1 = 0.8\n",
    "gamma_a1 = 40.0\n",
    "gamma_scale1 = 8.0\n",
    "\n",
    "state_obj0 = StateDistribution(state0, bern_p0, gamma_a0, gamma_scale0)\n",
    "state_obj1 = StateDistribution(state1, bern_p1, gamma_a1, gamma_scale1)\n",
    "\n",
    "E = [state_obj0, state_obj1]"
   ]
  },
  {
   "cell_type": "markdown",
   "metadata": {},
   "source": [
    "The final required parameters are more obvious. The first is the desired number of cells one would like in their full unpruned lineage tree. This can be any number. The lineage tree is built 'from left to right'. What this means is that, we construct the binary tree by going to the left-most cell, dividing then walking through the generation. For example, if someone requested for"
   ]
  },
  {
   "cell_type": "code",
   "execution_count": 9,
   "metadata": {},
   "outputs": [],
   "source": [
    "desired_num_cells = 2**7 - 1 \n",
    "prune_boolean = True # To get the full tree"
   ]
  },
  {
   "cell_type": "code",
   "execution_count": 10,
   "metadata": {},
   "outputs": [
    {
     "name": "stdout",
     "output_type": "stream",
     "text": [
      "This tree is pruned. It is made of 2 states.\n",
      " For each state in this tree: \n",
      " \t There are 51 cells of state 0, \n",
      " \t There are 20 cells of state 1.\n",
      " This pruned tree has 71 cells in total\n"
     ]
    }
   ],
   "source": [
    "lineage1 = LineageTree(pi, T, E, desired_num_cells, prune_boolean)\n",
    "print(lineage1)"
   ]
  },
  {
   "cell_type": "markdown",
   "metadata": {},
   "source": [
    "### Obtaining how long the experiment ran by checking the time length of the longest branch"
   ]
  },
  {
   "cell_type": "code",
   "execution_count": 11,
   "metadata": {},
   "outputs": [
    {
     "name": "stdout",
     "output_type": "stream",
     "text": [
      "1326.4130392932898\n"
     ]
    }
   ],
   "source": [
    "longest_branch_time = get_experiment_time(lineage1)\n",
    "print(longest_branch_time)"
   ]
  },
  {
   "cell_type": "markdown",
   "metadata": {},
   "source": [
    "### Estimation of distribution parameters using our estimators for full lineage"
   ]
  },
  {
   "cell_type": "code",
   "execution_count": 12,
   "metadata": {},
   "outputs": [
    {
     "name": "stdout",
     "output_type": "stream",
     "text": [
      "State 0:\n",
      "                    estimated state State object w/ parameters: 0.7959183673463348, 5.376104627956453, 0.9748925644512912.\n",
      "original parameters given for state State object w/ parameters: 0.8, 5.0, 1.0.\n",
      "State 1:\n",
      "                    estimated state State object w/ parameters: 0.8965517241351961, 53.80664204820447, 5.77105812912798.\n",
      "original parameters given for state State object w/ parameters: 0.8, 40.0, 8.0.\n"
     ]
    }
   ],
   "source": [
    "for state in range(lineage1.num_states):\n",
    "    print(\"State {}:\".format(state))\n",
    "    print(\"                    estimated state\", E[state].estimator(lineage1.lineage_stats[state].full_lin_cells_obs))\n",
    "    print(\"original parameters given for state\", E[state])"
   ]
  },
  {
   "cell_type": "markdown",
   "metadata": {},
   "source": [
    "### Estimation of distribution parameters using our estimators for pruned lineage"
   ]
  },
  {
   "cell_type": "code",
   "execution_count": 13,
   "metadata": {},
   "outputs": [
    {
     "name": "stdout",
     "output_type": "stream",
     "text": [
      "State 0:\n",
      "                    estimated state State object w/ parameters: 0.7843137254890812, 4.200987435430233, 1.3622597951205477.\n",
      "original parameters given for state State object w/ parameters: 0.8, 5.0, 1.0.\n",
      "State 1:\n",
      "                    estimated state State object w/ parameters: 0.8499999999964999, 73.31965471302493, 4.1111167112216025.\n",
      "original parameters given for state State object w/ parameters: 0.8, 40.0, 8.0.\n"
     ]
    }
   ],
   "source": [
    "for state in range(lineage1.num_states):\n",
    "    print(\"State {}:\".format(state))\n",
    "    print(\"                    estimated state\", E[state].estimator(lineage1.lineage_stats[state].pruned_lin_cells_obs))\n",
    "    print(\"original parameters given for state\", E[state])"
   ]
  },
  {
   "cell_type": "markdown",
   "metadata": {},
   "source": [
    "### Analyzing our first full lineage"
   ]
  },
  {
   "cell_type": "code",
   "execution_count": 14,
   "metadata": {},
   "outputs": [
    {
     "name": "stdout",
     "output_type": "stream",
     "text": [
      "[0, 0, 0, 0, 0, 0, 1, 0, 1, 0, 0, 0, 0, 1, 0, 0, 0, 0, 1, 0, 0, 0, 0, 1, 1, 0, 1, 0, 0, 0, 0, 1, 0, 0, 0, 1, 0, 0, 0, 0, 0, 1, 0, 0, 0, 1, 0, 0, 0, 1, 0, 1, 1, 0, 1, 0, 0, 0, 0, 1, 1, 0, 0, 0, 0, 0, 0, 1, 1, 1, 0]\n",
      "[[1.63087361e-001 1.09039569e-002]\n",
      " [9.39903849e-002 6.35821201e-002]\n",
      " [8.16769478e-002 3.07919088e-003]\n",
      " [1.83214165e-001 3.70586201e-002]\n",
      " [1.96843279e-001 2.29429994e-002]\n",
      " [5.71978982e-004 3.77980327e-002]\n",
      " [7.32692971e-191 1.95662353e-085]\n",
      " [1.63764068e-001 4.47068654e-002]\n",
      " [1.43879575e-192 3.20936276e-086]\n",
      " [4.61529856e-002 5.83472928e-003]\n",
      " [4.82400999e-002 6.42460035e-003]\n",
      " [4.32382155e-002 7.22429087e-002]\n",
      " [1.84126075e-001 3.66213035e-002]\n",
      " [5.07582938e-207 7.17655523e-093]\n",
      " [1.29380046e-001 5.49599539e-002]\n",
      " [2.79814979e-002 4.47015055e-002]\n",
      " [1.91157788e-001 1.83276199e-002]\n",
      " [4.08962054e-002 7.24281429e-002]\n",
      " [1.87131225e-225 2.32372902e-101]\n",
      " [7.68501328e-003 6.44741250e-002]\n",
      " [5.33570086e-003 6.08972058e-002]\n",
      " [2.12982605e-002 7.18155212e-002]\n",
      " [1.13471231e-001 5.90321801e-002]\n",
      " [8.30288170e-184 4.01671081e-082]\n",
      " [1.45827306e-200 7.89595630e-090]\n",
      " [3.16043277e-002 4.29527099e-002]\n",
      " [1.97553824e-200 7.74736385e-090]\n",
      " [1.97343522e-001 2.54016370e-002]\n",
      " [2.57869204e-003 5.32356901e-002]\n",
      " [3.67613092e-002 7.26620089e-002]\n",
      " [9.70986730e-002 6.28885706e-002]\n",
      " [7.13754195e-210 3.49076342e-094]\n",
      " [7.52007949e-006 1.07567624e-002]\n",
      " [1.48058629e-002 6.98293045e-002]\n",
      " [6.87439185e-003 6.34131187e-002]\n",
      " [1.66512891e-187 6.84028519e-084]\n",
      " [1.97193625e-001 2.61826445e-002]\n",
      " [1.18203084e-002 5.01211625e-002]\n",
      " [8.10523567e-002 6.63228029e-002]\n",
      " [1.53021265e-001 4.81923963e-002]\n",
      " [3.57620678e-004 3.07270866e-002]\n",
      " [4.74576033e-159 8.05033854e-071]\n",
      " [1.52659778e-001 9.32949249e-003]\n",
      " [1.91800775e-001 1.86559668e-002]\n",
      " [1.92246236e-001 3.19333321e-002]\n",
      " [3.82854226e-163 1.06506404e-072]\n",
      " [1.49247452e-001 4.93443782e-002]\n",
      " [2.98996731e-002 7.27084775e-002]\n",
      " [6.14318370e-002 2.09377679e-002]\n",
      " [9.88255989e-162 5.54182052e-072]\n",
      " [5.63867222e-002 2.70877272e-002]\n",
      " [1.61976963e-189 8.12562881e-085]\n",
      " [3.88402764e-154 1.44381328e-068]\n",
      " [9.46541939e-002 6.34350832e-002]\n",
      " [8.69400670e-166 6.51263584e-074]\n",
      " [3.38649050e-002 7.27413099e-002]\n",
      " [6.55845134e-004 3.51244632e-002]\n",
      " [1.08119800e-001 6.03294655e-002]\n",
      " [1.49282442e-001 4.93338443e-002]\n",
      " [4.76540536e-180 1.83209821e-080]\n",
      " [3.89586377e-218 5.46654239e-098]\n",
      " [8.50099304e-002 6.55109572e-002]\n",
      " [1.12266387e-002 6.77903878e-002]\n",
      " [4.05050391e-002 4.50017996e-003]\n",
      " [1.75459142e-002 1.21454682e-003]\n",
      " [1.75832441e-001 1.33867707e-002]\n",
      " [1.23559715e-001 5.64885251e-002]\n",
      " [7.86286641e-208 3.04129960e-093]\n",
      " [2.17945245e-198 6.74675913e-089]\n",
      " [2.95853931e-141 1.15748153e-062]\n",
      " [3.77354401e-002 7.26187409e-002]]\n",
      "[[1.85954998e-001 1.75403849e-002]\n",
      " [9.02960731e-002 1.12666032e-002]\n",
      " [6.70784939e-002 2.15265060e-002]\n",
      " [2.28145205e-001 1.35865364e-002]\n",
      " [2.48615156e-001 1.52009646e-002]\n",
      " [6.50292525e-005 7.43800549e-003]\n",
      " [4.47353904e-272 5.07146442e-004]\n",
      " [1.95837486e-001 1.28895766e-002]\n",
      " [1.62111185e-274 5.00980885e-004]\n",
      " [3.78167188e-002 4.58266497e-003]\n",
      " [4.03854426e-002 4.50779822e-003]\n",
      " [3.02214523e-002 1.01089108e-002]\n",
      " [2.29664909e-001 1.36288608e-002]\n",
      " [3.49274201e-295 4.52413621e-004]\n",
      " [1.41249726e-001 1.20232005e-002]\n",
      " [1.99041833e-002 2.78761385e-003]\n",
      " [2.36778416e-001 1.59176715e-002]\n",
      " [2.79338133e-002 1.00450880e-002]\n",
      " [1.52172219e-321 3.98717614e-004]\n",
      " [2.61303521e-003 8.66413790e-003]\n",
      " [1.55642468e-003 8.44728218e-003]\n",
      " [1.10939719e-002 9.40554627e-003]\n",
      " [1.17589707e-001 1.16768269e-002]\n",
      " [6.80934301e-262 1.33908491e-004]\n",
      " [7.47314103e-286 1.18753693e-004]\n",
      " [2.36156014e-002 2.84776580e-003]\n",
      " [9.26730719e-286 4.73784000e-004]\n",
      " [2.50337664e-001 1.48702599e-002]\n",
      " [5.53839014e-004 8.06759242e-003]\n",
      " [2.40255191e-002 9.92768761e-003]\n",
      " [9.45164786e-002 1.13318148e-002]\n",
      " [2.91694289e-299 4.43541614e-004]\n",
      " [1.35993227e-007 6.24822255e-003]\n",
      " [6.62595055e-003 9.11329242e-003]\n",
      " [2.23054167e-003 8.59571259e-003]\n",
      " [2.82068311e-267 5.19557055e-004]\n",
      " [2.50315228e-001 1.47709591e-002]\n",
      " [5.90216080e-003 2.48636453e-003]\n",
      " [7.33256643e-002 1.09930244e-002]\n",
      " [1.78345238e-001 1.25908372e-002]\n",
      " [4.11553195e-005 1.92538693e-003]\n",
      " [1.37792855e-226 6.42514927e-004]\n",
      " [1.68499826e-001 1.80248778e-002]\n",
      " [2.38043684e-001 1.58615116e-002]\n",
      " [2.43040786e-001 1.41062051e-002]\n",
      " [1.93255785e-232 6.22612687e-004]\n",
      " [1.72285997e-001 1.24935843e-002]\n",
      " [1.79358536e-002 9.71594020e-003]\n",
      " [5.90849607e-002 3.56995776e-003]\n",
      " [2.51204937e-230 1.57950891e-004]\n",
      " [5.27783120e-002 3.34464577e-003]\n",
      " [3.74352336e-270 5.12071594e-004]\n",
      " [1.46019567e-219 6.67550626e-004]\n",
      " [9.11928896e-002 1.12805361e-002]\n",
      " [3.20370197e-236 6.10194339e-004]\n",
      " [2.13922372e-002 9.84122781e-003]\n",
      " [9.74980650e-005 1.99124110e-003]\n",
      " [1.09897852e-001 1.15633959e-002]\n",
      " [1.72341955e-001 1.24944712e-002]\n",
      " [1.29730073e-256 5.48561927e-004]\n",
      " [4.45718542e-311 4.19035024e-004]\n",
      " [7.84111821e-002 1.10772845e-002]\n",
      " [4.47475865e-003 8.91309798e-003]\n",
      " [3.11742436e-002 4.78522366e-003]\n",
      " [9.14469548e-003 5.84257176e-003]\n",
      " [2.08232044e-001 1.69023568e-002]\n",
      " [1.32461306e-001 1.18943997e-002]\n",
      " [2.42655633e-296 4.49871624e-004]\n",
      " [7.72503850e-283 4.80665664e-004]\n",
      " [3.83914007e-201 7.39850187e-004]\n",
      " [2.49308170e-002 9.95594065e-003]]\n",
      "[[1.22916487e-001 1.12096613e-002]\n",
      " [1.20843914e-001 8.27848284e-003]\n",
      " [4.95613962e-002 1.28873899e-002]\n",
      " [1.85332718e-001 9.41416501e-003]\n",
      " [1.74271284e-001 1.01659679e-002]\n",
      " [1.40552318e-003 6.20705109e-003]\n",
      " [3.96455877e-183 7.03390967e-004]\n",
      " [1.76788486e-001 9.08040645e-003]\n",
      " [8.95581530e-185 6.95362039e-004]\n",
      " [3.04375645e-002 2.22145486e-003]\n",
      " [3.23854190e-002 2.19665213e-003]\n",
      " [6.46755906e-002 7.68219999e-003]\n",
      " [1.85551029e-001 9.43424501e-003]\n",
      " [1.03247090e-198 6.31640697e-004]\n",
      " [1.52628030e-001 8.65688427e-003]\n",
      " [3.34894380e-002 1.58069956e-003]\n",
      " [1.60531829e-001 1.04910694e-002]\n",
      " [6.17360550e-002 7.64866505e-003]\n",
      " [1.71613417e-216 5.60189727e-004]\n",
      " [1.45436686e-002 6.90386923e-003]\n",
      " [1.05229111e-002 6.78327996e-003]\n",
      " [3.54487587e-002 7.30846014e-003]\n",
      " [1.39087468e-001 8.48468670e-003]\n",
      " [2.21726344e-176 1.42368037e-004]\n",
      " [1.54025232e-192 1.27192223e-004]\n",
      " [3.67514009e-002 1.60409812e-003]\n",
      " [2.34277683e-192 6.59783757e-004]\n",
      " [1.79241142e-001 1.00142365e-002]\n",
      " [5.49229809e-003 6.56950101e-003]\n",
      " [5.64527667e-002 7.58678640e-003]\n",
      " [1.23873418e-001 8.31143096e-003]\n",
      " [1.83332902e-201 6.19908220e-004]\n",
      " [2.60142233e-005 5.49075880e-003]\n",
      " [2.58665678e-002 7.15034624e-003]\n",
      " [1.31774265e-002 6.86593412e-003]\n",
      " [6.83965918e-180 7.19511538e-004]\n",
      " [1.80514942e-001 9.96845620e-003]\n",
      " [1.66184775e-002 1.46080170e-003]\n",
      " [1.07750926e-001 8.13954192e-003]\n",
      " [1.70142145e-001 8.93549030e-003]\n",
      " [7.57824631e-004 1.22308399e-003]\n",
      " [1.86843599e-152 8.76351195e-004]\n",
      " [1.11693352e-001 1.14198637e-002]\n",
      " [1.61719972e-001 1.04657741e-002]\n",
      " [1.85850318e-001 9.65928094e-003]\n",
      " [2.11430197e-156 8.51311737e-004]\n",
      " [1.67588050e-001 8.88806368e-003]\n",
      " [4.73976282e-002 7.47453873e-003]\n",
      " [5.37231310e-002 1.87317248e-003]\n",
      " [4.27749743e-155 1.65940636e-004]\n",
      " [5.33541508e-002 1.79138420e-003]\n",
      " [7.84861800e-182 7.09794930e-004]\n",
      " [1.01819579e-147 9.07663927e-004]\n",
      " [1.21494657e-001 8.28552787e-003]\n",
      " [5.97290193e-159 8.35621147e-004]\n",
      " [5.26765052e-002 7.54105454e-003]\n",
      " [1.31061978e-003 1.25213783e-003]\n",
      " [1.34253346e-001 8.42791934e-003]\n",
      " [1.67612200e-001 8.88849674e-003]\n",
      " [1.06044429e-172 7.56976047e-004]\n",
      " [1.96596433e-209 5.87350389e-004]\n",
      " [1.11839047e-001 8.18245907e-003]\n",
      " [2.03074913e-002 7.04102215e-003]\n",
      " [2.55046014e-002 2.28789743e-003]\n",
      " [8.99003422e-003 2.62079152e-003]\n",
      " [1.38043827e-001 1.09298774e-002]\n",
      " [1.47822655e-001 8.59305096e-003]\n",
      " [1.70895610e-199 6.28282056e-004]\n",
      " [2.18627319e-190 6.68811230e-004]\n",
      " [2.66195167e-135 9.96956688e-004]\n",
      " [5.77085549e-002 7.60170074e-003]]\n",
      "[[8.87473510e-002 3.55801037e-009]\n",
      " [1.17276195e-001 6.89113634e-008]\n",
      " [4.58220141e-002 8.83035282e-010]\n",
      " [1.33063240e-001 1.98787062e-008]\n",
      " [1.19328248e-001 9.35878445e-009]\n",
      " [1.15703131e-002 9.95618212e-007]\n",
      " [3.51433566e-106 2.39072896e-003]\n",
      " [1.33987572e-001 2.82500347e-008]\n",
      " [3.92011732e-107 2.36316729e-003]\n",
      " [2.21760600e-002 4.39742715e-010]\n",
      " [2.32377669e-002 4.91771607e-010]\n",
      " [8.75467711e-002 1.40247727e-007]\n",
      " [1.32884496e-001 1.94695483e-008]\n",
      " [3.36666093e-115 2.11931291e-003]\n",
      " [1.28736597e-001 4.48524244e-008]\n",
      " [3.24146877e-002 1.22963344e-008]\n",
      " [1.10403978e-001 6.86064511e-009]\n",
      " [8.55659515e-002 1.46155595e-007]\n",
      " [1.72657948e-125 1.79894261e-003]\n",
      " [4.06939090e-002 3.79660713e-007]\n",
      " [3.42835526e-002 4.46313431e-007]\n",
      " [6.47139124e-002 2.23961136e-007]\n",
      " [1.24321762e-001 5.44248320e-008]\n",
      " [1.62739140e-102 4.17979486e-004]\n",
      " [7.26453427e-112 3.73100585e-004]\n",
      " [3.37396322e-002 1.06828984e-008]\n",
      " [1.60491021e-111 2.23236354e-003]\n",
      " [1.23044970e-001 1.08513588e-008]\n",
      " [2.42163054e-002 5.97602184e-007]\n",
      " [8.18586575e-002 1.57777107e-007]\n",
      " [1.18527992e-001 6.63396220e-008]\n",
      " [8.61600642e-117 2.06983312e-003]\n",
      " [1.27771713e-003 2.89890238e-006]\n",
      " [5.50109988e-002 2.74529538e-007]\n",
      " [3.86271071e-002 3.99388919e-007]\n",
      " [2.62345014e-104 2.44383122e-003]\n",
      " [1.24092985e-001 1.13512640e-008]\n",
      " [2.32479988e-002 2.59920609e-008]\n",
      " [1.11492503e-001 8.10115065e-008]\n",
      " [1.33057443e-001 3.30217487e-008]\n",
      " [4.57041157e-003 1.33450770e-007]\n",
      " [1.96393086e-088 2.80015009e-003]\n",
      " [8.24688490e-002 2.95765242e-009]\n",
      " [1.11133616e-001 7.02622354e-009]\n",
      " [1.30056800e-001 1.54619680e-008]\n",
      " [1.02356891e-090 2.76270334e-003]\n",
      " [1.32562223e-001 3.47685787e-008]\n",
      " [7.50018523e-002 1.81495861e-007]\n",
      " [3.62997540e-002 2.37406417e-009]\n",
      " [3.36315205e-090 4.63485874e-004]\n",
      " [3.77246563e-002 3.67282335e-009]\n",
      " [1.97760013e-105 2.41218345e-003]\n",
      " [1.07909024e-085 2.83700360e-003]\n",
      " [1.17547801e-001 6.83525009e-008]\n",
      " [3.43112995e-092 2.73554138e-003]\n",
      " [7.90821612e-002 1.67008609e-007]\n",
      " [6.14615322e-003 1.07991682e-007]\n",
      " [1.22571325e-001 5.80503917e-008]\n",
      " [1.32567182e-001 3.47521802e-008]\n",
      " [3.79774727e-100 2.55548925e-003]\n",
      " [2.10289717e-121 1.92583997e-003]\n",
      " [1.13364251e-001 7.70444145e-008]\n",
      " [4.84964319e-002 3.16657637e-007]\n",
      " [1.94553348e-002 3.27738280e-010]\n",
      " [9.32183363e-003 8.39087076e-011]\n",
      " [9.72573114e-002 4.57299279e-009]\n",
      " [1.27257356e-001 4.81685773e-008]\n",
      " [1.18884238e-115 2.10528535e-003]\n",
      " [2.21553593e-110 2.26686724e-003]\n",
      " [1.64299794e-078 2.88494425e-003]\n",
      " [8.27578527e-002 1.54887228e-007]]\n",
      "[[8.69562173e-002 1.77131669e-120]\n",
      " [1.11587325e-001 1.66845324e-096]\n",
      " [4.88099798e-002 9.88656045e-132]\n",
      " [1.24137301e-001 1.43389094e-106]\n",
      " [1.12720727e-001 1.15855319e-112]\n",
      " [1.50329257e-002 8.37498591e-075]\n",
      " [1.97316300e-092 9.27601831e-003]\n",
      " [1.24994788e-001 1.00116478e-103]\n",
      " [2.93765571e-093 9.05313594e-003]\n",
      " [2.15097851e-002 1.20142520e-123]\n",
      " [2.24074794e-002 9.61431673e-123]\n",
      " [8.67213171e-002 9.64318337e-091]\n",
      " [1.23986084e-001 9.73313608e-107]\n",
      " [2.90816809e-100 6.03386141e-003]\n",
      " [1.20868605e-001 5.53711998e-100]\n",
      " [3.01566416e-002 1.05200782e-096]\n",
      " [1.05282080e-001 3.57993544e-115]\n",
      " [8.50236245e-002 2.08458033e-090]\n",
      " [3.37307187e-109 2.25868928e-003]\n",
      " [4.46979484e-002 1.18270245e-082]\n",
      " [3.85317106e-002 2.44554416e-081]\n",
      " [6.67828702e-002 6.07752450e-087]\n",
      " [1.17317349e-001 2.04241487e-098]\n",
      " [2.48287934e-089 1.70862551e-003]\n",
      " [1.88554530e-097 1.35174921e-003]\n",
      " [3.12132824e-002 7.62358524e-098]\n",
      " [4.54689937e-097 7.57868810e-003]\n",
      " [1.15805821e-001 1.82101527e-111]\n",
      " [2.85121595e-002 5.80705321e-079]\n",
      " [8.18310376e-002 8.70781358e-090]\n",
      " [1.12610247e-001 8.20546814e-097]\n",
      " [1.20575854e-101 5.35284258e-003]\n",
      " [2.22461511e-003 4.52726816e-066]\n",
      " [5.80261233e-002 2.73855043e-085]\n",
      " [4.27252873e-002 3.05370984e-082]\n",
      " [8.34924638e-091 9.58068618e-003]\n",
      " [1.16674900e-001 4.21202515e-111]\n",
      " [2.26379502e-002 1.23644881e-090]\n",
      " [1.06835726e-001 3.41539854e-095]\n",
      " [1.24289120e-001 1.83594607e-102]\n",
      " [5.53562373e-003 2.47530629e-077]\n",
      " [5.08548557e-077 4.95484878e-003]\n",
      " [8.15512702e-002 5.69440418e-122]\n",
      " [1.05892281e-001 5.57989868e-115]\n",
      " [1.21622209e-001 1.33010962e-108]\n",
      " [5.29478324e-079 6.10482356e-003]\n",
      " [1.23903188e-001 4.79929338e-102]\n",
      " [7.58713581e-002 1.19303431e-088]\n",
      " [3.31359657e-002 5.09524719e-110]\n",
      " [1.22777700e-078 9.82412984e-004]\n",
      " [3.42997133e-002 1.72642385e-106]\n",
      " [8.84499590e-092 9.42034672e-003]\n",
      " [1.21783548e-074 3.64166258e-003]\n",
      " [1.11809442e-001 1.43326113e-096]\n",
      " [2.77515410e-080 6.83347830e-003]\n",
      " [7.94266192e-002 2.52002236e-089]\n",
      " [7.15568027e-003 4.66944980e-079]\n",
      " [1.15900201e-001 6.80155364e-098]\n",
      " [1.23907067e-001 4.75727151e-102]\n",
      " [3.42478168e-087 9.53241603e-003]\n",
      " [1.19094238e-105 3.53425661e-003]\n",
      " [1.08377965e-001 1.33803122e-095]\n",
      " [5.20287973e-002 3.95989246e-084]\n",
      " [1.91847734e-002 5.07608245e-126]\n",
      " [1.00928693e-002 5.09159265e-137]\n",
      " [9.42113289e-002 1.88752455e-118]\n",
      " [1.19682877e-001 2.09406903e-099]\n",
      " [1.17773943e-100 5.83948895e-003]\n",
      " [4.44308492e-096 8.01774093e-003]\n",
      " [2.10212442e-068 1.17205542e-003]\n",
      " [8.26072441e-002 6.16434150e-090]]\n",
      "[[8.69562173e-002 1.77131669e-120]\n",
      " [1.11587325e-001 1.66845324e-096]\n",
      " [4.88099798e-002 9.88656045e-132]\n",
      " [1.24137301e-001 1.43389094e-106]\n",
      " [1.12720727e-001 1.15855319e-112]\n",
      " [1.50329257e-002 8.37498591e-075]\n",
      " [1.97316300e-092 9.27601831e-003]\n",
      " [1.24994788e-001 1.00116478e-103]\n",
      " [2.93765571e-093 9.05313594e-003]\n",
      " [2.15097851e-002 1.20142520e-123]\n",
      " [2.24074794e-002 9.61431673e-123]\n",
      " [8.67213171e-002 9.64318337e-091]\n",
      " [1.23986084e-001 9.73313608e-107]\n",
      " [2.90816809e-100 6.03386141e-003]\n",
      " [1.20868605e-001 5.53711998e-100]\n",
      " [3.01566416e-002 1.05200782e-096]\n",
      " [1.05282080e-001 3.57993544e-115]\n",
      " [8.50236245e-002 2.08458033e-090]\n",
      " [3.37307187e-109 2.25868928e-003]\n",
      " [4.46979484e-002 1.18270245e-082]\n",
      " [3.85317106e-002 2.44554416e-081]\n",
      " [6.67828702e-002 6.07752450e-087]\n",
      " [1.17317349e-001 2.04241487e-098]\n",
      " [2.48287934e-089 1.70862551e-003]\n",
      " [1.88554530e-097 1.35174921e-003]\n",
      " [3.12132824e-002 7.62358524e-098]\n",
      " [4.54689937e-097 7.57868810e-003]\n",
      " [1.15805821e-001 1.82101527e-111]\n",
      " [2.85121595e-002 5.80705321e-079]\n",
      " [8.18310376e-002 8.70781358e-090]\n",
      " [1.12610247e-001 8.20546814e-097]\n",
      " [1.20575854e-101 5.35284258e-003]\n",
      " [2.22461511e-003 4.52726816e-066]\n",
      " [5.80261233e-002 2.73855043e-085]\n",
      " [4.27252873e-002 3.05370984e-082]\n",
      " [8.34924638e-091 9.58068618e-003]\n",
      " [1.16674900e-001 4.21202515e-111]\n",
      " [2.26379502e-002 1.23644881e-090]\n",
      " [1.06835726e-001 3.41539854e-095]\n",
      " [1.24289120e-001 1.83594607e-102]\n",
      " [5.53562373e-003 2.47530629e-077]\n",
      " [5.08548557e-077 4.95484878e-003]\n",
      " [8.15512702e-002 5.69440418e-122]\n",
      " [1.05892281e-001 5.57989868e-115]\n",
      " [1.21622209e-001 1.33010962e-108]\n",
      " [5.29478324e-079 6.10482356e-003]\n",
      " [1.23903188e-001 4.79929338e-102]\n",
      " [7.58713581e-002 1.19303431e-088]\n",
      " [3.31359657e-002 5.09524719e-110]\n",
      " [1.22777700e-078 9.82412984e-004]\n",
      " [3.42997133e-002 1.72642385e-106]\n",
      " [8.84499590e-092 9.42034672e-003]\n",
      " [1.21783548e-074 3.64166258e-003]\n",
      " [1.11809442e-001 1.43326113e-096]\n",
      " [2.77515410e-080 6.83347830e-003]\n",
      " [7.94266192e-002 2.52002236e-089]\n",
      " [7.15568027e-003 4.66944980e-079]\n",
      " [1.15900201e-001 6.80155364e-098]\n",
      " [1.23907067e-001 4.75727151e-102]\n",
      " [3.42478168e-087 9.53241603e-003]\n",
      " [1.19094238e-105 3.53425661e-003]\n",
      " [1.08377965e-001 1.33803122e-095]\n",
      " [5.20287973e-002 3.95989246e-084]\n",
      " [1.91847734e-002 5.07608245e-126]\n",
      " [1.00928693e-002 5.09159265e-137]\n",
      " [9.42113289e-002 1.88752455e-118]\n",
      " [1.19682877e-001 2.09406903e-099]\n",
      " [1.17773943e-100 5.83948895e-003]\n",
      " [4.44308492e-096 8.01774093e-003]\n",
      " [2.10212442e-068 1.17205542e-003]\n",
      " [8.26072441e-002 6.16434150e-090]]\n"
     ]
    }
   ],
   "source": [
    "from lineage.Analyze import Analyze\n",
    "\n",
    "X = [lineage1] # population just contains one lineage\n",
    "states = [cell.state for cell in lineage1.output_lineage]\n",
    "print(states)\n",
    "deltas, state_ptrs, all_states, tHMMobj, NF, LL = Analyze(X, 2) # find two states"
   ]
  },
  {
   "cell_type": "code",
   "execution_count": 15,
   "metadata": {},
   "outputs": [
    {
     "name": "stdout",
     "output_type": "stream",
     "text": [
      "Accuracy or 1-Accuracy is 1.0\n"
     ]
    }
   ],
   "source": [
    "for num, lineageObj in enumerate(X):\n",
    "    lin_estimated_states = all_states[num]\n",
    "    lin_true_states = [cell.state for cell in lineageObj.output_lineage]\n",
    "    total = len(lin_estimated_states)\n",
    "    assert total == len(lin_true_states)\n",
    "    counter = [1 if a==b else 0 for (a,b) in zip(lin_estimated_states,lin_true_states)]\n",
    "    print(\"Accuracy or 1-Accuracy is {}\".format(sum(counter)/total))"
   ]
  },
  {
   "cell_type": "code",
   "execution_count": null,
   "metadata": {},
   "outputs": [],
   "source": []
  },
  {
   "cell_type": "markdown",
   "metadata": {},
   "source": [
    "### Estimated Markov parameters ($\\pi$, $T$, $E$)"
   ]
  },
  {
   "cell_type": "code",
   "execution_count": 16,
   "metadata": {},
   "outputs": [
    {
     "name": "stdout",
     "output_type": "stream",
     "text": [
      "[1.00000000e+000 1.05855123e-132]\n"
     ]
    }
   ],
   "source": [
    "print(tHMMobj.estimate.pi)"
   ]
  },
  {
   "cell_type": "code",
   "execution_count": 17,
   "metadata": {},
   "outputs": [
    {
     "name": "stdout",
     "output_type": "stream",
     "text": [
      "[[0.85185185 0.14814815]\n",
      " [0.25       0.75      ]]\n"
     ]
    }
   ],
   "source": [
    "print(tHMMobj.estimate.T)"
   ]
  },
  {
   "cell_type": "code",
   "execution_count": 18,
   "metadata": {},
   "outputs": [
    {
     "name": "stdout",
     "output_type": "stream",
     "text": [
      "State object w/ parameters: 0.7843137254890812, 4.200987435430233, 1.3622597951205477.\n",
      "State object w/ parameters: 0.8499999999964999, 73.31965471302493, 4.1111167112216025.\n"
     ]
    }
   ],
   "source": [
    "for state in range(tHMMobj.numStates):\n",
    "    print(tHMMobj.estimate.E[state])"
   ]
  },
  {
   "cell_type": "markdown",
   "metadata": {},
   "source": [
    "## Trying another lineage, this time pruning branches with ancestors that die"
   ]
  },
  {
   "cell_type": "code",
   "execution_count": 19,
   "metadata": {},
   "outputs": [],
   "source": [
    "desired_num_cells = 2**12 -1 \n",
    "prune_boolean = True # To get pruned tree"
   ]
  },
  {
   "cell_type": "code",
   "execution_count": 20,
   "metadata": {},
   "outputs": [
    {
     "name": "stdout",
     "output_type": "stream",
     "text": [
      "This tree is pruned. It is made of 2 states.\n",
      " For each state in this tree: \n",
      " \t There are 388 cells of state 0, \n",
      " \t There are 243 cells of state 1.\n",
      " This pruned tree has 631 cells in total\n"
     ]
    }
   ],
   "source": [
    "lineage2 = LineageTree(pi, T, E, desired_num_cells, prune_boolean)\n",
    "print(lineage2)"
   ]
  },
  {
   "cell_type": "code",
   "execution_count": 21,
   "metadata": {},
   "outputs": [
    {
     "name": "stdout",
     "output_type": "stream",
     "text": [
      "4059.868277159157\n"
     ]
    }
   ],
   "source": [
    "longest2 = get_experiment_time(lineage2)\n",
    "print(longest2)"
   ]
  },
  {
   "cell_type": "markdown",
   "metadata": {},
   "source": [
    "### Estimation of distribution parameters using our estimators for pruned lineage"
   ]
  },
  {
   "cell_type": "code",
   "execution_count": 22,
   "metadata": {},
   "outputs": [
    {
     "name": "stdout",
     "output_type": "stream",
     "text": [
      "State 0:\n",
      "                    estimated state State object w/ parameters: 0.8298969072163248, 4.593192738850598, 1.1460461124057775.\n",
      "original parameters given for state State object w/ parameters: 0.8, 5.0, 1.0.\n",
      "State 1:\n",
      "                    estimated state State object w/ parameters: 0.8106995884771104, 37.72943314503968, 8.414973185549428.\n",
      "original parameters given for state State object w/ parameters: 0.8, 40.0, 8.0.\n"
     ]
    }
   ],
   "source": [
    "for state in range(lineage2.num_states):\n",
    "    print(\"State {}:\".format(state))\n",
    "    print(\"                    estimated state\", E[state].estimator(lineage2.lineage_stats[state].pruned_lin_cells_obs))\n",
    "    print(\"original parameters given for state\", E[state])"
   ]
  },
  {
   "cell_type": "markdown",
   "metadata": {},
   "source": [
    "### Analyzing a population of lineages"
   ]
  },
  {
   "cell_type": "code",
   "execution_count": 23,
   "metadata": {},
   "outputs": [
    {
     "name": "stdout",
     "output_type": "stream",
     "text": [
      "[[5.24955515e-100 5.40947509e-003]\n",
      " [1.19787167e-228 6.99085937e-006]\n",
      " [5.45658935e-067 2.86701295e-002]\n",
      " [4.46609226e-162 2.22450814e-004]\n",
      " [2.37130448e-131 1.08624872e-003]\n",
      " [0.00000000e+000 1.47923977e-011]\n",
      " [0.00000000e+000 3.39575843e-305]\n",
      " [1.09640060e-178 9.40625762e-005]\n",
      " [0.00000000e+000 8.30645792e-308]\n",
      " [1.29874389e-092 1.14574333e-002]\n",
      " [1.37651250e-095 9.85054890e-003]\n",
      " [4.09415786e-278 5.27446096e-007]\n",
      " [3.84065453e-161 2.33473324e-004]\n",
      " [0.00000000e+000 0.00000000e+000]\n",
      " [4.43540438e-203 2.64838620e-005]\n",
      " [9.31002574e-234 7.79569433e-006]\n",
      " [2.17593286e-120 1.90777339e-003]\n",
      " [2.71308869e-281 4.46618536e-007]\n",
      " [0.00000000e+000 0.00000000e+000]\n",
      " [0.00000000e+000 5.28295031e-009]\n",
      " [0.00000000e+000 2.19757452e-009]\n",
      " [2.21716825e-316 7.10780581e-008]\n",
      " [3.14655794e-214 1.48223259e-005]\n",
      " [0.00000000e+000 1.72703475e-293]\n",
      " [0.00000000e+000 3.99990606e-319]\n",
      " [6.87416212e-225 1.23797166e-005]\n",
      " [0.00000000e+000 7.82402357e-320]\n",
      " [6.61372699e-137 8.16101363e-004]\n",
      " [0.00000000e+000 4.06121438e-010]\n",
      " [2.77292469e-287 3.26406019e-007]\n",
      " [2.91900184e-226 7.91743577e-006]\n",
      " [0.00000000e+000 0.00000000e+000]\n",
      " [0.00000000e+000 2.35473710e-015]\n",
      " [0.00000000e+000 2.72923939e-008]\n",
      " [0.00000000e+000 4.03123331e-009]\n",
      " [0.00000000e+000 4.64504740e-300]\n",
      " [1.21768715e-138 7.46318307e-004]\n",
      " [3.95592872e-287 4.79069295e-007]\n",
      " [4.42296078e-239 4.05641309e-006]\n",
      " [1.39063041e-186 6.24306476e-005]\n",
      " [0.00000000e+000 9.02918407e-011]\n",
      " [0.00000000e+000 1.77988319e-256]\n",
      " [6.90543705e-095 7.01931877e-003]\n",
      " [3.37049112e-121 1.83012068e-003]\n",
      " [3.95371448e-151 3.91808315e-004]\n",
      " [0.00000000e+000 9.45483391e-263]\n",
      " [2.89082760e-189 5.43116331e-005]\n",
      " [1.39830105e-298 1.80646169e-007]\n",
      " [1.77230291e-148 6.53793927e-004]\n",
      " [0.00000000e+000 1.12660426e-259]\n",
      " [1.49974870e-167 2.43831176e-004]\n",
      " [0.00000000e+000 3.87421264e-303]\n",
      " [0.00000000e+000 6.08568186e-249]\n",
      " [3.90394916e-228 7.18044579e-006]\n",
      " [0.00000000e+000 8.39182057e-267]\n",
      " [8.10067227e-292 2.57425685e-007]\n",
      " [0.00000000e+000 3.46894728e-010]\n",
      " [4.45536226e-218 1.21292847e-005]\n",
      " [3.06012492e-189 5.43814167e-005]\n",
      " [0.00000000e+000 1.20349014e-288]\n",
      " [0.00000000e+000 0.00000000e+000]\n",
      " [8.57211363e-236 4.81559068e-006]\n",
      " [0.00000000e+000 1.34904622e-008]\n",
      " [3.32357533e-085 1.66763451e-002]\n",
      " [1.45250023e-057 6.65494487e-002]\n",
      " [2.23787582e-107 3.71407908e-003]\n",
      " [4.01597225e-207 2.14587083e-005]\n",
      " [0.00000000e+000 0.00000000e+000]\n",
      " [0.00000000e+000 1.04076272e-316]\n",
      " [0.00000000e+000 3.57359879e-229]\n",
      " [7.97773586e-286 3.52311879e-007]]\n",
      "[[0.00000000e+000 1.31423585e-277]\n",
      " [0.00000000e+000 9.73309322e-322]\n",
      " [0.00000000e+000 9.13842828e-291]\n",
      " ...\n",
      " [0.00000000e+000 1.75051116e-259]\n",
      " [0.00000000e+000 1.57074259e-316]\n",
      " [0.00000000e+000 6.89271047e-009]]\n"
     ]
    },
    {
     "ename": "AssertionError",
     "evalue": "[0.00000000e+000 0.00000000e+000 0.00000000e+000 0.00000000e+000\n 0.00000000e+000 0.00000000e+000 0.00000000e+000 0.00000000e+000\n 0.00000000e+000 5.72871664e-003 4.92527445e-003 0.00000000e+000\n 0.00000000e+000 0.00000000e+000 0.00000000e+000 3.89784716e-006\n 0.00000000e+000 0.00000000e+000 0.00000000e+000 0.00000000e+000\n 0.00000000e+000 0.00000000e+000 0.00000000e+000 8.63517374e-294\n 1.99997773e-319 6.18985830e-006 0.00000000e+000 0.00000000e+000\n 0.00000000e+000 0.00000000e+000 0.00000000e+000 0.00000000e+000\n 0.00000000e+000 0.00000000e+000 0.00000000e+000 0.00000000e+000\n 0.00000000e+000 2.39534647e-007 0.00000000e+000 0.00000000e+000\n 4.51459203e-011 0.00000000e+000 0.00000000e+000 9.15060340e-004\n 1.95904158e-004 4.72741695e-263 2.71558166e-005 9.03230844e-008\n 3.26896963e-004 5.63302128e-260 1.21915588e-004 1.93710632e-303\n 3.04284093e-249 3.59022290e-006 4.19591028e-267 1.28712843e-007\n 1.73447364e-010 6.06464233e-006 2.71907083e-005 6.01745068e-289\n 0.00000000e+000 0.00000000e+000 0.00000000e+000 0.00000000e+000\n 0.00000000e+000 0.00000000e+000 0.00000000e+000 0.00000000e+000\n 0.00000000e+000 0.00000000e+000 0.00000000e+000] and 0.0 and [0.5 0.5] and [0. 0.]",
     "output_type": "error",
     "traceback": [
      "\u001b[0;31m---------------------------------------------------------------------------\u001b[0m",
      "\u001b[0;31mAssertionError\u001b[0m                            Traceback (most recent call last)",
      "\u001b[0;32m<ipython-input-23-1b5f00aa9446>\u001b[0m in \u001b[0;36m<module>\u001b[0;34m\u001b[0m\n\u001b[1;32m      1\u001b[0m \u001b[0mX\u001b[0m \u001b[0;34m=\u001b[0m \u001b[0;34m[\u001b[0m\u001b[0mlineage1\u001b[0m\u001b[0;34m,\u001b[0m \u001b[0mlineage2\u001b[0m\u001b[0;34m]\u001b[0m \u001b[0;31m# population just contains one lineage\u001b[0m\u001b[0;34m\u001b[0m\u001b[0;34m\u001b[0m\u001b[0m\n\u001b[1;32m      2\u001b[0m \u001b[0;34m\u001b[0m\u001b[0m\n\u001b[0;32m----> 3\u001b[0;31m \u001b[0mdeltas\u001b[0m\u001b[0;34m,\u001b[0m \u001b[0mstate_ptrs\u001b[0m\u001b[0;34m,\u001b[0m \u001b[0mall_states\u001b[0m\u001b[0;34m,\u001b[0m \u001b[0mtHMMobj\u001b[0m\u001b[0;34m,\u001b[0m \u001b[0mNF\u001b[0m\u001b[0;34m,\u001b[0m \u001b[0mLL\u001b[0m \u001b[0;34m=\u001b[0m \u001b[0mAnalyze\u001b[0m\u001b[0;34m(\u001b[0m\u001b[0mX\u001b[0m\u001b[0;34m,\u001b[0m \u001b[0;36m2\u001b[0m\u001b[0;34m)\u001b[0m \u001b[0;31m# find two states\u001b[0m\u001b[0;34m\u001b[0m\u001b[0;34m\u001b[0m\u001b[0m\n\u001b[0m",
      "\u001b[0;32m~/lineage/accuracy/lineage-growth/lineage/Analyze.py\u001b[0m in \u001b[0;36mAnalyze\u001b[0;34m(X, numStates)\u001b[0m\n\u001b[1;32m     27\u001b[0m \u001b[0;34m\u001b[0m\u001b[0m\n\u001b[1;32m     28\u001b[0m     \u001b[0mtHMMobj\u001b[0m \u001b[0;34m=\u001b[0m \u001b[0mtHMM\u001b[0m\u001b[0;34m(\u001b[0m\u001b[0mX\u001b[0m\u001b[0;34m,\u001b[0m \u001b[0mnumStates\u001b[0m\u001b[0;34m=\u001b[0m\u001b[0mnumStates\u001b[0m\u001b[0;34m)\u001b[0m  \u001b[0;31m# build the tHMM class with X\u001b[0m\u001b[0;34m\u001b[0m\u001b[0;34m\u001b[0m\u001b[0m\n\u001b[0;32m---> 29\u001b[0;31m     \u001b[0mfit\u001b[0m\u001b[0;34m(\u001b[0m\u001b[0mtHMMobj\u001b[0m\u001b[0;34m,\u001b[0m \u001b[0mmax_iter\u001b[0m\u001b[0;34m=\u001b[0m\u001b[0;36m200\u001b[0m\u001b[0;34m)\u001b[0m\u001b[0;34m\u001b[0m\u001b[0;34m\u001b[0m\u001b[0m\n\u001b[0m\u001b[1;32m     30\u001b[0m \u001b[0;34m\u001b[0m\u001b[0m\n\u001b[1;32m     31\u001b[0m     \u001b[0mdeltas\u001b[0m\u001b[0;34m,\u001b[0m \u001b[0mstate_ptrs\u001b[0m \u001b[0;34m=\u001b[0m \u001b[0mget_leaf_deltas\u001b[0m\u001b[0;34m(\u001b[0m\u001b[0mtHMMobj\u001b[0m\u001b[0;34m)\u001b[0m  \u001b[0;31m# gets the deltas matrix\u001b[0m\u001b[0;34m\u001b[0m\u001b[0;34m\u001b[0m\u001b[0m\n",
      "\u001b[0;32m~/lineage/accuracy/lineage-growth/lineage/BaumWelch.py\u001b[0m in \u001b[0;36mfit\u001b[0;34m(tHMMobj, tolerance, max_iter)\u001b[0m\n\u001b[1;32m     72\u001b[0m     \u001b[0;31m# first E step\u001b[0m\u001b[0;34m\u001b[0m\u001b[0;34m\u001b[0m\u001b[0;34m\u001b[0m\u001b[0m\n\u001b[1;32m     73\u001b[0m \u001b[0;34m\u001b[0m\u001b[0m\n\u001b[0;32m---> 74\u001b[0;31m     \u001b[0mNF\u001b[0m \u001b[0;34m=\u001b[0m \u001b[0mget_leaf_Normalizing_Factors\u001b[0m\u001b[0;34m(\u001b[0m\u001b[0mtHMMobj\u001b[0m\u001b[0;34m)\u001b[0m\u001b[0;34m\u001b[0m\u001b[0;34m\u001b[0m\u001b[0m\n\u001b[0m\u001b[1;32m     75\u001b[0m     \u001b[0mbetas\u001b[0m \u001b[0;34m=\u001b[0m \u001b[0mget_leaf_betas\u001b[0m\u001b[0;34m(\u001b[0m\u001b[0mtHMMobj\u001b[0m\u001b[0;34m,\u001b[0m \u001b[0mNF\u001b[0m\u001b[0;34m)\u001b[0m\u001b[0;34m\u001b[0m\u001b[0;34m\u001b[0m\u001b[0m\n\u001b[1;32m     76\u001b[0m     \u001b[0mget_nonleaf_NF_and_betas\u001b[0m\u001b[0;34m(\u001b[0m\u001b[0mtHMMobj\u001b[0m\u001b[0;34m,\u001b[0m \u001b[0mNF\u001b[0m\u001b[0;34m,\u001b[0m \u001b[0mbetas\u001b[0m\u001b[0;34m)\u001b[0m\u001b[0;34m\u001b[0m\u001b[0;34m\u001b[0m\u001b[0m\n",
      "\u001b[0;32m~/lineage/accuracy/lineage-growth/lineage/UpwardRecursion.py\u001b[0m in \u001b[0;36mget_leaf_Normalizing_Factors\u001b[0;34m(tHMMobj)\u001b[0m\n\u001b[1;32m     49\u001b[0m             \u001b[0;31m# the sum of the joint probabilities is the marginal probability\u001b[0m\u001b[0;34m\u001b[0m\u001b[0;34m\u001b[0m\u001b[0;34m\u001b[0m\u001b[0m\n\u001b[1;32m     50\u001b[0m             \u001b[0mNF_array\u001b[0m\u001b[0;34m[\u001b[0m\u001b[0mleaf_cell_idx\u001b[0m\u001b[0;34m]\u001b[0m \u001b[0;34m=\u001b[0m \u001b[0mnp\u001b[0m\u001b[0;34m.\u001b[0m\u001b[0msum\u001b[0m\u001b[0;34m(\u001b[0m\u001b[0mMSD_array\u001b[0m\u001b[0;34m[\u001b[0m\u001b[0mleaf_cell_idx\u001b[0m\u001b[0;34m,\u001b[0m \u001b[0;34m:\u001b[0m\u001b[0;34m]\u001b[0m \u001b[0;34m*\u001b[0m \u001b[0mEL_array\u001b[0m\u001b[0;34m[\u001b[0m\u001b[0mleaf_cell_idx\u001b[0m\u001b[0;34m,\u001b[0m \u001b[0;34m:\u001b[0m\u001b[0;34m]\u001b[0m\u001b[0;34m)\u001b[0m  \u001b[0;31m# def of conditional prob\u001b[0m\u001b[0;34m\u001b[0m\u001b[0;34m\u001b[0m\u001b[0m\n\u001b[0;32m---> 51\u001b[0;31m             \u001b[0;32massert\u001b[0m \u001b[0mNF_array\u001b[0m\u001b[0;34m[\u001b[0m\u001b[0mleaf_cell_idx\u001b[0m\u001b[0;34m]\u001b[0m \u001b[0;34m>\u001b[0m \u001b[0;36m0.0\u001b[0m\u001b[0;34m,\u001b[0m \u001b[0;34m\"{} and {} and {} and {}\"\u001b[0m\u001b[0;34m.\u001b[0m\u001b[0mformat\u001b[0m\u001b[0;34m(\u001b[0m\u001b[0mNF_array\u001b[0m\u001b[0;34m,\u001b[0m \u001b[0mNF_array\u001b[0m\u001b[0;34m[\u001b[0m\u001b[0mleaf_cell_idx\u001b[0m\u001b[0;34m]\u001b[0m\u001b[0;34m,\u001b[0m \u001b[0mMSD_array\u001b[0m\u001b[0;34m[\u001b[0m\u001b[0mleaf_cell_idx\u001b[0m\u001b[0;34m,\u001b[0m \u001b[0;34m:\u001b[0m\u001b[0;34m]\u001b[0m\u001b[0;34m,\u001b[0m \u001b[0mEL_array\u001b[0m\u001b[0;34m[\u001b[0m\u001b[0mleaf_cell_idx\u001b[0m\u001b[0;34m,\u001b[0m \u001b[0;34m:\u001b[0m\u001b[0;34m]\u001b[0m\u001b[0;34m)\u001b[0m\u001b[0;34m\u001b[0m\u001b[0;34m\u001b[0m\u001b[0m\n\u001b[0m\u001b[1;32m     52\u001b[0m         \u001b[0mNF\u001b[0m\u001b[0;34m.\u001b[0m\u001b[0mappend\u001b[0m\u001b[0;34m(\u001b[0m\u001b[0mNF_array\u001b[0m\u001b[0;34m)\u001b[0m\u001b[0;34m\u001b[0m\u001b[0;34m\u001b[0m\u001b[0m\n\u001b[1;32m     53\u001b[0m     \u001b[0;32mreturn\u001b[0m \u001b[0mNF\u001b[0m\u001b[0;34m\u001b[0m\u001b[0;34m\u001b[0m\u001b[0m\n",
      "\u001b[0;31mAssertionError\u001b[0m: [0.00000000e+000 0.00000000e+000 0.00000000e+000 0.00000000e+000\n 0.00000000e+000 0.00000000e+000 0.00000000e+000 0.00000000e+000\n 0.00000000e+000 5.72871664e-003 4.92527445e-003 0.00000000e+000\n 0.00000000e+000 0.00000000e+000 0.00000000e+000 3.89784716e-006\n 0.00000000e+000 0.00000000e+000 0.00000000e+000 0.00000000e+000\n 0.00000000e+000 0.00000000e+000 0.00000000e+000 8.63517374e-294\n 1.99997773e-319 6.18985830e-006 0.00000000e+000 0.00000000e+000\n 0.00000000e+000 0.00000000e+000 0.00000000e+000 0.00000000e+000\n 0.00000000e+000 0.00000000e+000 0.00000000e+000 0.00000000e+000\n 0.00000000e+000 2.39534647e-007 0.00000000e+000 0.00000000e+000\n 4.51459203e-011 0.00000000e+000 0.00000000e+000 9.15060340e-004\n 1.95904158e-004 4.72741695e-263 2.71558166e-005 9.03230844e-008\n 3.26896963e-004 5.63302128e-260 1.21915588e-004 1.93710632e-303\n 3.04284093e-249 3.59022290e-006 4.19591028e-267 1.28712843e-007\n 1.73447364e-010 6.06464233e-006 2.71907083e-005 6.01745068e-289\n 0.00000000e+000 0.00000000e+000 0.00000000e+000 0.00000000e+000\n 0.00000000e+000 0.00000000e+000 0.00000000e+000 0.00000000e+000\n 0.00000000e+000 0.00000000e+000 0.00000000e+000] and 0.0 and [0.5 0.5] and [0. 0.]"
     ]
    }
   ],
   "source": [
    "X = [lineage1, lineage2] # population just contains one lineage\n",
    "\n",
    "deltas, state_ptrs, all_states, tHMMobj, NF, LL = Analyze(X, 2) # find two states"
   ]
  },
  {
   "cell_type": "code",
   "execution_count": null,
   "metadata": {},
   "outputs": [],
   "source": [
    "for num, lineageObj in enumerate(X):\n",
    "    lin_estimated_states = all_states[num]\n",
    "    lin_true_states = [cell.state for cell in lineageObj.output_lineage]\n",
    "    total = len(lin_estimated_states)\n",
    "    assert total == len(lin_true_states)\n",
    "    counter = [1 if a==b else 0 for (a,b) in zip(lin_estimated_states,lin_true_states)]\n",
    "    print(\"Accuracy or 1-Accuracy is {}\".format(sum(counter)/total))"
   ]
  },
  {
   "cell_type": "markdown",
   "metadata": {},
   "source": [
    "### Estimated Markov parameters ($\\pi$, $T$, $E$)"
   ]
  },
  {
   "cell_type": "code",
   "execution_count": null,
   "metadata": {},
   "outputs": [],
   "source": [
    "print(tHMMobj.estimate.pi)"
   ]
  },
  {
   "cell_type": "code",
   "execution_count": null,
   "metadata": {},
   "outputs": [],
   "source": [
    "print(tHMMobj.estimate.T)"
   ]
  },
  {
   "cell_type": "code",
   "execution_count": null,
   "metadata": {},
   "outputs": [],
   "source": [
    "for state in range(tHMMobj.numStates):\n",
    "    print(tHMMobj.estimate.E[state])"
   ]
  },
  {
   "cell_type": "markdown",
   "metadata": {},
   "source": [
    "## Creating a synthetic lineage that has three states"
   ]
  },
  {
   "cell_type": "markdown",
   "metadata": {},
   "source": [
    "Here we generate a lineage with three states, which would be 1) Susciptible 2) Middle State 3) Resistant. The aim here is to show the transition from susciptible to resistant state doesn't happen immediately, and there is a gradual transition which is modeled as a middle state. The point to be considered here is that transition from 1 to 3 or otherwise is not possible so the probability of these transitions are zero, and most likely the initial cells are in susciptible state.\n",
    "\n",
    "**State 1**: Susceptible\n",
    "\n",
    "**State 2**: Transition state\n",
    "\n",
    "**State 3**: Resistant state\n"
   ]
  },
  {
   "cell_type": "code",
   "execution_count": null,
   "metadata": {},
   "outputs": [],
   "source": [
    "# pi: the initial probability vector\n",
    "pi_3 = np.array([0.5, 0.25, 0.25])\n",
    "\n",
    "# T: transition probability matrix\n",
    "T_3 = np.array([[0.65, 0.35, 0.00],\n",
    "                [0.20, 0.40, 0.40],\n",
    "                [0.00, 0.10, 0.90]])"
   ]
  },
  {
   "cell_type": "code",
   "execution_count": null,
   "metadata": {},
   "outputs": [],
   "source": [
    "# E: states are defined as StateDistribution objects\n",
    "\n",
    "# State 0 parameters \"Susciptible\"\n",
    "state0 = 0\n",
    "bern_p0 = 0.7\n",
    "expon_scale_beta0 = 20\n",
    "gamma_a0 = 5.0\n",
    "gamma_scale0 = 1.0\n",
    "\n",
    "# State 1 parameters \"Middle state\"\n",
    "state1 = 1\n",
    "bern_p1 = 0.85\n",
    "expon_scale_beta1 = 60\n",
    "gamma_a1 = 10.0\n",
    "gamma_scale1 = 2.0\n",
    "\n",
    "# State 2 parameters \"Resistant\"\n",
    "state2 = 2\n",
    "bern_p2 = 0.99\n",
    "expon_scale_beta2 = 80\n",
    "gamma_a2 = 15.0\n",
    "gamma_scale2 = 3.0\n",
    "\n",
    "state_obj0 = StateDistribution(state0, bern_p0, gamma_a0, gamma_scale0)\n",
    "state_obj1 = StateDistribution(state1, bern_p1, gamma_a1, gamma_scale1)\n",
    "state_obj2 = StateDistribution(state2, bern_p2, gamma_a2, gamma_scale2)\n",
    "\n",
    "E_3 = [state_obj0, state_obj1, state_obj2]"
   ]
  },
  {
   "cell_type": "code",
   "execution_count": null,
   "metadata": {},
   "outputs": [],
   "source": [
    "desired_num_cells = 2**13 - 1 \n",
    "prune_boolean = False # To get the full tree"
   ]
  },
  {
   "cell_type": "code",
   "execution_count": null,
   "metadata": {},
   "outputs": [],
   "source": [
    "lineage3 = LineageTree(pi_3, T_3, E_3, desired_num_cells, prune_boolean)\n",
    "print(lineage3)"
   ]
  },
  {
   "cell_type": "code",
   "execution_count": null,
   "metadata": {},
   "outputs": [],
   "source": [
    "longest3 = get_experiment_time(lineage3)\n",
    "print(longest3)"
   ]
  },
  {
   "cell_type": "markdown",
   "metadata": {},
   "source": [
    "### Estimation of distribution parameters using our estimators for full lineage (3 state)"
   ]
  },
  {
   "cell_type": "code",
   "execution_count": null,
   "metadata": {},
   "outputs": [],
   "source": [
    "for state in range(lineage3.num_states):\n",
    "    print(\"State {}:\".format(state))\n",
    "    print(\"estimated state\", E_3[state].estimator(lineage3.lineage_stats[state].full_lin_cells_obs))\n",
    "    print(\"estimated state\", E_3[state].estimator(lineage3.lineage_stats[state].pruned_lin_cells_obs))\n",
    "    print(\"true_____ state\", E_3[state])"
   ]
  },
  {
   "cell_type": "markdown",
   "metadata": {},
   "source": [
    "### Analyzing a three state lineage"
   ]
  },
  {
   "cell_type": "code",
   "execution_count": null,
   "metadata": {},
   "outputs": [],
   "source": [
    "X = [lineage3] # population just contains one lineage\n",
    "\n",
    "deltas, state_ptrs, all_states, tHMMobj, NF, LL = Analyze(X, 3) # find three states"
   ]
  },
  {
   "cell_type": "code",
   "execution_count": null,
   "metadata": {},
   "outputs": [],
   "source": [
    "for num, lineageObj in enumerate(X):\n",
    "    lin_estimated_states = all_states[num]\n",
    "    lin_true_states = [cell.state for cell in lineageObj.output_lineage]\n",
    "    total = len(lin_estimated_states)\n",
    "    assert total == len(lin_true_states)\n",
    "    counter = [1 if a==b else 0 for (a,b) in zip(lin_estimated_states,lin_true_states)]\n",
    "    print(\"Accuracy {}\".format(sum(counter)/total))"
   ]
  },
  {
   "cell_type": "markdown",
   "metadata": {},
   "source": [
    "### Estimated Markov parameters ($\\pi$, $T$, $E$)"
   ]
  },
  {
   "cell_type": "code",
   "execution_count": null,
   "metadata": {},
   "outputs": [],
   "source": [
    "print(tHMMobj.estimate.pi)"
   ]
  },
  {
   "cell_type": "code",
   "execution_count": null,
   "metadata": {},
   "outputs": [],
   "source": [
    "print(tHMMobj.estimate.T)"
   ]
  },
  {
   "cell_type": "code",
   "execution_count": null,
   "metadata": {},
   "outputs": [],
   "source": [
    "for state in range(tHMMobj.numStates):\n",
    "    print(tHMMobj.estimate.E[state])"
   ]
  },
  {
   "cell_type": "code",
   "execution_count": null,
   "metadata": {},
   "outputs": [],
   "source": [
    "\n",
    "\n",
    "\n",
    "\n"
   ]
  },
  {
   "cell_type": "code",
   "execution_count": null,
   "metadata": {},
   "outputs": [],
   "source": []
  },
  {
   "cell_type": "code",
   "execution_count": null,
   "metadata": {},
   "outputs": [],
   "source": [
    "import matplotlib.pyplot as plt\n",
    "%matplotlib inline"
   ]
  },
  {
   "cell_type": "code",
   "execution_count": null,
   "metadata": {},
   "outputs": [],
   "source": [
    "A = sp.gamma.rvs(a=20,scale=4,size=1000)\n",
    "B = sp.gamma.rvs(a=5,scale=1,size=1000)\n",
    "plt.hist(A)\n",
    "plt.hist(B)"
   ]
  },
  {
   "cell_type": "code",
   "execution_count": null,
   "metadata": {},
   "outputs": [],
   "source": []
  }
 ],
 "metadata": {
  "kernelspec": {
   "display_name": "Python 3",
   "language": "python",
   "name": "python3"
  },
  "language_info": {
   "codemirror_mode": {
    "name": "ipython",
    "version": 3
   },
   "file_extension": ".py",
   "mimetype": "text/x-python",
   "name": "python",
   "nbconvert_exporter": "python",
   "pygments_lexer": "ipython3",
   "version": "3.7.3"
  }
 },
 "nbformat": 4,
 "nbformat_minor": 4
}
