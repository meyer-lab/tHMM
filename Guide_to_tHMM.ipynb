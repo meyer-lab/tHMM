{
 "cells": [
  {
   "cell_type": "markdown",
   "metadata": {},
   "source": [
    "# Guide to tHMM"
   ]
  },
  {
   "cell_type": "code",
   "execution_count": 1,
   "metadata": {},
   "outputs": [],
   "source": [
    "import numpy as np\n",
    "import scipy.stats as sp"
   ]
  },
  {
   "cell_type": "markdown",
   "metadata": {},
   "source": [
    "## Synthesizing Cells (not required by the user)"
   ]
  },
  {
   "cell_type": "code",
   "execution_count": 2,
   "metadata": {},
   "outputs": [],
   "source": [
    "from lineage.CellVar import CellVar as c\n",
    "from lineage.CellVar import _double"
   ]
  },
  {
   "cell_type": "code",
   "execution_count": 3,
   "metadata": {},
   "outputs": [],
   "source": [
    " T = np.array([[1.0, 0.0],\n",
    "               [0.0, 1.0]])\n",
    "    \n",
    "parent_state = 1\n",
    "parent_cell = c(state=parent_state, left=None, right=None, parent=None, gen=1)\n",
    "left_cell, right_cell = parent_cell._divide(T)"
   ]
  },
  {
   "cell_type": "code",
   "execution_count": 4,
   "metadata": {},
   "outputs": [
    {
     "name": "stdout",
     "output_type": "stream",
     "text": [
      "Generation: 2, State: 1, Observation: This cell has no observations to report. \n",
      " Generation: 2, State: 1, Observation: This cell has no observations to report.\n"
     ]
    }
   ],
   "source": [
    "print(left_cell, '\\n', parent_cell.left)"
   ]
  },
  {
   "cell_type": "code",
   "execution_count": 5,
   "metadata": {},
   "outputs": [
    {
     "name": "stdout",
     "output_type": "stream",
     "text": [
      "Generation: 2, State: 1, Observation: This cell has no observations to report. \n",
      " Generation: 2, State: 1, Observation: This cell has no observations to report.\n"
     ]
    }
   ],
   "source": [
    "print(right_cell, '\\n', parent_cell.right)"
   ]
  },
  {
   "cell_type": "markdown",
   "metadata": {},
   "source": [
    "## Creating a synthetic lineage (required by the user)"
   ]
  },
  {
   "cell_type": "code",
   "execution_count": 6,
   "metadata": {},
   "outputs": [],
   "source": [
    "from lineage.LineageTree import LineageTree\n",
    "from lineage.StateDistribution import StateDistribution"
   ]
  },
  {
   "cell_type": "markdown",
   "metadata": {},
   "source": [
    "### Creating a lineage and setting the full lineage (unpruned) as the one to be used"
   ]
  },
  {
   "cell_type": "markdown",
   "metadata": {},
   "source": [
    "The required probabilities are those that define the tree and act of state switching. This process works by first creating a hidden tree of empty cells. Empty cells are those that have their states set but do not have any observations attached to them. We then draw as many observations from each state distribution and assign those observations to those cells. The $\\pi$ and $T$ parameters are easy to define. The number of states is $k$. We require for $\\pi$ a $k\\times 1$ list of probabilities. These probabilities must add up to $1$ and they should be either in a $1$-dimensional list or a $1$-dimensional numpy array. The $T$ parameter should be a square numpy matrix of size $k\\times k$. The rows are the states in which we are transitioning from and the columns are the states in which we are transitioning to. Each row of $T$ should sum to $1$. The columns need not sum to $1$. "
   ]
  },
  {
   "cell_type": "code",
   "execution_count": 7,
   "metadata": {},
   "outputs": [],
   "source": [
    "# pi: the initial probability vector\n",
    "pi = np.array([0.8, 0.2])\n",
    "\n",
    "# T: transition probability matrix\n",
    "T = np.array([[0.7, 0.3],\n",
    "              [0.4, 0.6]])"
   ]
  },
  {
   "cell_type": "markdown",
   "metadata": {},
   "source": [
    "The emission matrix $E$ is a little more complicated to define because this is where the user has complete freedom in defining what type of observation they care about. In particular, the user has to first begin with defining what observation he or she will want in their cells in their synthetic images. For example, if one is observing kinematics or physics, they might want to use Gaaussian distribution observations. In defining the random variables, the user will pull from a Gaussian distribution based on the mean and standard deviation of the different states he or she picks. They can also utilize the Gaussian probability distribution to define the likelihood as well. Furthermore, they can build an analytical estimator for their state distributions that yield the parameter estimates when given a list of observations. Finally, the user can also define a prune rule, which is essentially a boolean function that inspects a cell's observations and returns `True` if the cell's subtree (all the cells that are related to the cell in question and are of older generation) is to be pruned or `False` if the cell is safe from pruning. In the Gaussian example, a user can remove a cell's subtree if its observation is higher or lower than some fixed value.\n",
    "\n",
    "We have already built, as an example, and as bioengineers, a model that resembles lineage trees. In our synthetic model, our emissions are multivariate. This first emission is a Bernoulli observation, $0$ implying death and $1$ implying division. The second and third emissions are continuous and are from exponential and gamma distributions respectively. Though these can be thought of cell lifetime's or periods in a certain cell phase, we want the user to know that these values can really mean anything and they are completely free in choosing what the emissions and their values mean. We define ways to calculate random variables for these multivariate observations and likelihoods of an observations. We also provide as a prune rule, keeping with the cell analogy, that if a cell has a $0$ in its Bernoulli observation, then its subtree is pruned from the full lineage tree. Though this will obviously introduce bias into estimation, we keep both the full tree and the pruned tree in the lineage objects, in the case a user would like to see the effects of analyzing on one versus the other. \n",
    "\n",
    "Ultimately, $E$ is defined as a $k\\times 1$ size list of state distribution objects. These distribution objects are rich in what they can already do, and a user can easily add more to their functionality. They only need to be instantiated by what parameters define that state's distribution."
   ]
  },
  {
   "cell_type": "code",
   "execution_count": 8,
   "metadata": {},
   "outputs": [],
   "source": [
    "# E: states are defined as StateDistribution objects\n",
    "# State 0 parameters\n",
    "state0 = 0\n",
    "bern_p0 = 0.7\n",
    "expon_scale_beta0 = 20\n",
    "gamma_a0 = 5.0\n",
    "gamma_scale0 = 1.0\n",
    "\n",
    "# State 1 parameters\n",
    "state1 = 1\n",
    "bern_p1 = 0.99\n",
    "expon_scale_beta1 = 80\n",
    "gamma_a1 = 10.0\n",
    "gamma_scale1 = 2.0\n",
    "\n",
    "state_obj0 = StateDistribution(state0, bern_p0, expon_scale_beta0, gamma_a0, gamma_scale0)\n",
    "state_obj1 = StateDistribution(state1, bern_p1, expon_scale_beta1, gamma_a1, gamma_scale1)\n",
    "\n",
    "E = [state_obj0, state_obj1]"
   ]
  },
  {
   "cell_type": "markdown",
   "metadata": {},
   "source": [
    "The final required parameters are more obvious. The first is the desired number of cells one would like in their full unpruned lineage tree. This can be any number. The lineage tree is built '_from left to right_'. What this means is that, we construct the binary tree by going to the left-most cell, dividing then walking through the generation. For example, if someone requested for"
   ]
  },
  {
   "cell_type": "code",
   "execution_count": 9,
   "metadata": {},
   "outputs": [],
   "source": [
    "desired_num_cells = 2**8 - 1 \n",
    "prune_boolean = False # To get the full tree"
   ]
  },
  {
   "cell_type": "code",
   "execution_count": 10,
   "metadata": {},
   "outputs": [
    {
     "name": "stdout",
     "output_type": "stream",
     "text": [
      "This tree is NOT pruned. It is made of 2 states.\n",
      " For each state in this tree: \n",
      " \t There are 144 cells of state 0, \n",
      " \t There are 111 cells of state 1.\n",
      " This UNpruned tree has 255 cells in total\n"
     ]
    }
   ],
   "source": [
    "lineage1 = LineageTree(pi, T, E, desired_num_cells, prune_boolean)\n",
    "print(lineage1)"
   ]
  },
  {
   "cell_type": "code",
   "execution_count": 11,
   "metadata": {},
   "outputs": [],
   "source": [
    "desired_num_cells = 2**9 -1 \n",
    "prune_boolean = True # To get pruned tree"
   ]
  },
  {
   "cell_type": "code",
   "execution_count": 12,
   "metadata": {},
   "outputs": [
    {
     "name": "stdout",
     "output_type": "stream",
     "text": [
      "This tree is pruned. It is made of 2 states.\n",
      " For each state in this tree: \n",
      " \t There are 5 cells of state 0, \n",
      " \t There are 3 cells of state 1.\n",
      " This pruned tree has 8 cells in total\n"
     ]
    }
   ],
   "source": [
    "lineage2 = LineageTree(pi, T, E, desired_num_cells, prune_boolean)\n",
    "print(lineage2)"
   ]
  },
  {
   "cell_type": "code",
   "execution_count": null,
   "metadata": {},
   "outputs": [],
   "source": []
  },
  {
   "cell_type": "code",
   "execution_count": null,
   "metadata": {},
   "outputs": [],
   "source": []
  },
  {
   "cell_type": "code",
   "execution_count": null,
   "metadata": {},
   "outputs": [],
   "source": []
  },
  {
   "cell_type": "code",
   "execution_count": null,
   "metadata": {},
   "outputs": [],
   "source": []
  },
  {
   "cell_type": "code",
   "execution_count": null,
   "metadata": {},
   "outputs": [],
   "source": []
  },
  {
   "cell_type": "code",
   "execution_count": 13,
   "metadata": {},
   "outputs": [
    {
     "ename": "ModuleNotFoundError",
     "evalue": "No module named 'lineage.CellNode'",
     "output_type": "error",
     "traceback": [
      "\u001b[0;31m---------------------------------------------------------------------------\u001b[0m",
      "\u001b[0;31mModuleNotFoundError\u001b[0m                       Traceback (most recent call last)",
      "\u001b[0;32m<ipython-input-13-6f8a3b8728f4>\u001b[0m in \u001b[0;36m<module>\u001b[0;34m\u001b[0m\n\u001b[0;32m----> 1\u001b[0;31m \u001b[0;32mfrom\u001b[0m \u001b[0mlineage\u001b[0m\u001b[0;34m.\u001b[0m\u001b[0mCellNode\u001b[0m \u001b[0;32mimport\u001b[0m \u001b[0mCellNode\u001b[0m\u001b[0;34m\u001b[0m\u001b[0;34m\u001b[0m\u001b[0m\n\u001b[0m\u001b[1;32m      2\u001b[0m \u001b[0;32mfrom\u001b[0m \u001b[0mlineage\u001b[0m\u001b[0;34m.\u001b[0m\u001b[0mBaumWelch\u001b[0m \u001b[0;32mimport\u001b[0m \u001b[0mfit\u001b[0m\u001b[0;34m\u001b[0m\u001b[0;34m\u001b[0m\u001b[0m\n\u001b[1;32m      3\u001b[0m \u001b[0;32mfrom\u001b[0m \u001b[0mlineage\u001b[0m\u001b[0;34m.\u001b[0m\u001b[0mDownwardRecursion\u001b[0m \u001b[0;32mimport\u001b[0m \u001b[0mget_root_gammas\u001b[0m\u001b[0;34m,\u001b[0m \u001b[0mget_nonroot_gammas\u001b[0m\u001b[0;34m\u001b[0m\u001b[0;34m\u001b[0m\u001b[0m\n\u001b[1;32m      4\u001b[0m \u001b[0;32mfrom\u001b[0m \u001b[0mlineage\u001b[0m\u001b[0;34m.\u001b[0m\u001b[0mViterbi\u001b[0m \u001b[0;32mimport\u001b[0m \u001b[0mget_leaf_deltas\u001b[0m\u001b[0;34m,\u001b[0m \u001b[0mget_nonleaf_deltas\u001b[0m\u001b[0;34m,\u001b[0m \u001b[0mViterbi\u001b[0m\u001b[0;34m\u001b[0m\u001b[0;34m\u001b[0m\u001b[0m\n\u001b[1;32m      5\u001b[0m \u001b[0;32mfrom\u001b[0m \u001b[0mlineage\u001b[0m\u001b[0;34m.\u001b[0m\u001b[0mUpwardRecursion\u001b[0m \u001b[0;32mimport\u001b[0m \u001b[0mget_leaf_Normalizing_Factors\u001b[0m\u001b[0;34m,\u001b[0m \u001b[0mget_leaf_betas\u001b[0m\u001b[0;34m,\u001b[0m \u001b[0mget_nonleaf_NF_and_betas\u001b[0m\u001b[0;34m\u001b[0m\u001b[0;34m\u001b[0m\u001b[0m\n",
      "\u001b[0;31mModuleNotFoundError\u001b[0m: No module named 'lineage.CellNode'"
     ]
    }
   ],
   "source": [
    "from lineage.CellNode import CellNode\n",
    "from lineage.BaumWelch import fit\n",
    "from lineage.DownwardRecursion import get_root_gammas, get_nonroot_gammas\n",
    "from lineage.Viterbi import get_leaf_deltas, get_nonleaf_deltas, Viterbi\n",
    "from lineage.UpwardRecursion import get_leaf_Normalizing_Factors, get_leaf_betas, get_nonleaf_NF_and_betas\n",
    "from lineage.tHMM import tHMM\n",
    "from lineage.tHMM_utils import max_gen, get_gen, get_parents_for_level, getAccuracy, getAIC\n",
    "from lineage.Lineage_utils import get_numLineages, init_Population, remove_singleton_lineages, remove_unfinished_cells\n",
    "from lineage.Lineage_utils import generatePopulationWithTime as gpt\n",
    "from lineage.plotting_utils import make_colormap_graph\n",
    "from lineage.Analyze import Analyze\n",
    "from lineage.Depth_Two_State_Lineage import Depth_Two_State_Lineage"
   ]
  },
  {
   "cell_type": "code",
   "execution_count": null,
   "metadata": {},
   "outputs": [],
   "source": [
    "import matplotlib.pyplot as plt\n",
    "%matplotlib inline\n",
    "import numpy as np\n",
    "import networkx as nx\n",
    "from networkx.drawing.nx_agraph import graphviz_layout"
   ]
  },
  {
   "cell_type": "markdown",
   "metadata": {},
   "source": [
    "## Creating and analyzing our synthetic lineage"
   ]
  },
  {
   "cell_type": "markdown",
   "metadata": {},
   "source": [
    "Variables subscripted or prefixed with `MAS` are referring to the first lineage in this heterogeneous lineage, while variables subscripted with `2` are referring to the second lineage. These two lineages are what comprise the _depth two state_ lineage."
   ]
  },
  {
   "cell_type": "code",
   "execution_count": null,
   "metadata": {},
   "outputs": [],
   "source": [
    "T_MAS = 400. # how long the first synthetic lineage runs for\n",
    "T_2 = 250. # how long the second synthetic lineage runs for\n",
    "experimentTime = T_MAS + T_2\n",
    "MASinitCells = [1] # how many initial cells are in the first lineage (has to be one)\n",
    "MASlocBern = [0.999] # the bernoulli parameter regarding the chance of dividing over dying for the master (first) lineage\n",
    "MASbeta = [80] # the exponential parameter regarding how long a cell lives [hours]\n",
    "\n",
    "initCells2 = [1] # how many initial cells are in the second lineage (has to be one)\n",
    "locBern2 = [0.8] # the bernoulli parameter regarding the change of dividing over dying for the second lineage\n",
    "beta2 = [20] # the exponential parameter regarding how long a cell lives [hours]\n",
    "\n",
    "# In general, the above parameters are described as lists because one can have multiple groups of parameters\n",
    "# to describe their population. For example, one can easily create a population with initCells = [10, 50, 3],\n",
    "# locBern = [0.8, 0.9, 0.75], beta = [80, 20, 90] to create three distinct populations. That is to say,\n",
    "# 10+50+3=63 lineages will be created, each tree following their own distribution parameters using the same index\n",
    "# in the other lists. \n",
    "\n",
    "# To create these depth heterogenous lineages, we created the function below that can join one lineage to another\n",
    "# and also perform the right house-keeping tasks to make sure that the lineages are sufficiently joined, such as\n",
    "# making sure the correct parent-daughter links exist, the cells in the second lineage recognize the root cell of\n",
    "# the master lineage tree, etc.\n",
    "\n",
    "max_lin_length = 300 # for the purpose of visualizing data, we set restrictions on the maximum length and\n",
    "min_lin_length = 5 # minimum length of the lineage generated\n",
    "FOM='E' # this just tells the code that we are using an exponential Force of Mortality\n",
    "X, newLineage, masterLineage, subLineage2 = Depth_Two_State_Lineage(T_MAS, MASinitCells, MASlocBern, T_2, initCells2, locBern2, FOM=FOM, betaExp=MASbeta, betaExp2=beta2)\n",
    "\n",
    "X1 = remove_singleton_lineages(X) # this removes lineages that are just one cell as they seem to break under the analysus\n",
    "x_new, end_time = remove_unfinished_cells(X1)\n",
    "# X = remove_unfinished_cells(X) # this removes cells that lived past the experimental end time\n",
    "\n",
    "numStates = 2 # need to tell our code how many states we expect to see\n",
    "_, _, all_states, tHMMobj, _, _ = Analyze(x_new, numStates) # this function contains the bulk of our analysis code\n",
    "# that is, it neatly runs our analysis steps in order"
   ]
  },
  {
   "cell_type": "markdown",
   "metadata": {},
   "source": [
    "# Visualizing results"
   ]
  },
  {
   "cell_type": "code",
   "execution_count": null,
   "metadata": {},
   "outputs": [],
   "source": [
    "getAccuracy(tHMMobj, all_states, verbose=True) # this function simply runs the state comparison and checks for accuracy\n",
    "import matplotlib as mpl\n",
    "from matplotlib import ticker\n",
    "\n",
    "G, cmap, _ = make_colormap_graph(x_new)\n",
    "M = G.number_of_edges()\n",
    "edge_weights = [d for (u,v,d) in G.edges.data('weight')]\n",
    "#pos prog options: neato, dot, twopi, circo (don't use), fdp (don't use), nop (don't use), wc (don't use), acyclic (don't use), gvpr (don't use), gvcolor (don't use), ccomps (don't use), sccmap (don't use), tred (don't use), sfdp (don't use), unflatten (don't use)\n",
    "pos = graphviz_layout(G, prog='dot', root=0)\n",
    "plt.figure(figsize=(40,31))\n",
    "plt.figaspect(1)\n",
    "node_size = 200\n",
    "nodes = nx.draw_networkx_nodes(G, pos, node_size=node_size, node_color=cmap, alpha=1)\n",
    "edges = nx.draw_networkx_edges(G, pos, node_size=node_size, edge_color=edge_weights, edge_cmap=plt.cm.plasma, width=2)\n",
    "\n",
    "ax = plt.gca()\n",
    "ax.set_axis_off()\n",
    "cb = plt.colorbar(edges, ticks=edge_weights)\n",
    "tick_locator = ticker.MaxNLocator(nbins=5)\n",
    "cb.locator = tick_locator\n",
    "cb.update_ticks()\n",
    "cb.set_label(label=r'Experiment Time [hrs]', labelpad=90)\n",
    "cb.ax.invert_yaxis()\n",
    "plt.title('Simulated Heterogeneous (by Depth) Lineage')\n",
    "plt.rcParams.update({'font.size': 64})\n",
    "plt.savefig('true.svg')\n",
    "plt.show()"
   ]
  },
  {
   "cell_type": "code",
   "execution_count": null,
   "metadata": {},
   "outputs": [],
   "source": [
    "G, cmap, _ = make_colormap_graph(x_new, tHMMobj.states[0])\n",
    "M = G.number_of_edges()\n",
    "edge_weights = [d for (u,v,d) in G.edges.data('weight')]\n",
    "#pos prog options: neato, dot, twopi, circo (don't use), fdp (don't use), nop (don't use), wc (don't use), acyclic (don't use), gvpr (don't use), gvcolor (don't use), ccomps (don't use), sccmap (don't use), tred (don't use), sfdp (don't use), unflatten (don't use)\n",
    "pos = graphviz_layout(G, prog='dot', root=0)\n",
    "plt.figure(figsize=(40,31))\n",
    "plt.figaspect(1)\n",
    "node_size = 200\n",
    "nodes = nx.draw_networkx_nodes(G, pos, node_size=node_size, node_color=cmap, alpha=1)\n",
    "edges = nx.draw_networkx_edges(G, pos, node_size=node_size, edge_color=edge_weights, edge_cmap=plt.cm.plasma, width=2)\n",
    "\n",
    "ax = plt.gca()\n",
    "ax.set_axis_off()\n",
    "cb = plt.colorbar(edges, ticks=edge_weights)\n",
    "tick_locator = ticker.MaxNLocator(nbins=5)\n",
    "cb.locator = tick_locator\n",
    "cb.update_ticks()\n",
    "cb.set_label(label=r'Experiment Time [hrs]', labelpad=90)\n",
    "cb.ax.invert_yaxis()\n",
    "plt.title('Estimated Subpopulation Classification')\n",
    "plt.rcParams.update({'font.size': 64})\n",
    "plt.savefig('estimated.svg')\n",
    "plt.show()"
   ]
  }
 ],
 "metadata": {
  "kernelspec": {
   "display_name": "Python 3",
   "language": "python",
   "name": "python3"
  },
  "language_info": {
   "codemirror_mode": {
    "name": "ipython",
    "version": 3
   },
   "file_extension": ".py",
   "mimetype": "text/x-python",
   "name": "python",
   "nbconvert_exporter": "python",
   "pygments_lexer": "ipython3",
   "version": "3.7.3"
  }
 },
 "nbformat": 4,
 "nbformat_minor": 4
}
