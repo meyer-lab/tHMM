{
 "cells": [
  {
   "cell_type": "code",
   "execution_count": 1,
   "metadata": {},
   "outputs": [],
   "source": [
    "import CellNode as c \n",
    "import matplotlib.pyplot as plt\n",
    "%matplotlib inline\n",
    "import numpy as np"
   ]
  },
  {
   "cell_type": "code",
   "execution_count": null,
   "metadata": {},
   "outputs": [],
   "source": [
    "exampleLineage = c.Tree()\n",
    "exampleLineage.tree = []\n",
    "\n",
    "locBern = np.linspace(0,1,34)\n",
    "estimator_holder = []\n",
    "for param in locBern:\n",
    "    mle_param_holder = []\n",
    "    for i in range(200):\n",
    "        exampleLineage.tree = []\n",
    "        exampleLineage.tree = c.generate(numCells=10000, locBern=param, cGom=1000)  \n",
    "        for cell in exampleLineage.tree:\n",
    "            if not cell.isUnfinished():\n",
    "                mle_param_holder.append(cell.fate*1)\n",
    "    estimator_holder.append((sum(mle_param_holder)/len(mle_param_holder)))\n",
    "\n",
    "plt.figure(figsize=(20,10))\n",
    "plt.plot(locBern, estimator_holder, 'b-o', label=\"Seen Behaviour (cumulative all lineages)\", alpha=0.5)\n",
    "plt.plot(locBern, locBern, 'r-o', label=\"True Bernoulli Behaviour\", alpha=0.5)\n",
    "plt.scatter(locBern, locBern, c='r')\n",
    "plt.scatter(locBern, estimator_holder, c='b')\n",
    "plt.xticks(locBern[::2])\n",
    "plt.yticks(locBern[::2])\n",
    "plt.xlabel('Actual (given) Bernoulli Parameter')\n",
    "plt.ylabel('Estimated Bernoulli Parameter')\n",
    "plt.legend()\n",
    "plt.title('Estimates of 34 known Bernoulli parameters for 200 lineages cumulative, each linage having at most ~10000 cells, NO restriction on lineage length')\n",
    "plt.grid()\n",
    "plt.tight_layout()\n",
    "plt.savefig('bern.png')\n",
    "\n",
    "'''\n",
    "plt.figure(figsize=(20,10))\n",
    "\n",
    "plt.violinplot(dataset=bernEst, positions=locBern, widths=0.05, showmedians=True, showextrema=False)\n",
    "plt.xticks(locBern)\n",
    "plt.grid()\n",
    "plt.tight_layout()\n",
    "plt.savefig('death_events.png')\n",
    "'''\n",
    "#exampleLineage.plotTree()"
   ]
  },
  {
   "cell_type": "code",
   "execution_count": null,
   "metadata": {},
   "outputs": [],
   "source": [
    "plt.plot(locBern, (estimator_holder-locBern))\n",
    "plt.xticks(locBern[::4])\n"
   ]
  },
  {
   "cell_type": "code",
   "execution_count": null,
   "metadata": {},
   "outputs": [],
   "source": [
    "fate_holder = []\n",
    "for cell in exampleLineage.tree:\n",
    "    fate_holder.append(cell.fate)"
   ]
  },
  {
   "cell_type": "code",
   "execution_count": null,
   "metadata": {},
   "outputs": [],
   "source": [
    "print(sum(fate_holder)/len(fate_holder))"
   ]
  },
  {
   "cell_type": "markdown",
   "metadata": {},
   "source": [
    "#### "
   ]
  }
 ],
 "metadata": {
  "kernelspec": {
   "display_name": "Python 3",
   "language": "python",
   "name": "python3"
  },
  "language_info": {
   "codemirror_mode": {
    "name": "ipython",
    "version": 3
   },
   "file_extension": ".py",
   "mimetype": "text/x-python",
   "name": "python",
   "nbconvert_exporter": "python",
   "pygments_lexer": "ipython3",
   "version": "3.6.7rc1"
  }
 },
 "nbformat": 4,
 "nbformat_minor": 2
}
