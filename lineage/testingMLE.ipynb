{
 "cells": [
  {
   "cell_type": "code",
   "execution_count": 1,
   "metadata": {},
   "outputs": [],
   "source": [
    "import CellNode as c "
   ]
  },
  {
   "cell_type": "code",
   "execution_count": 42,
   "metadata": {},
   "outputs": [
    {
     "name": "stdout",
     "output_type": "stream",
     "text": [
      "0.9601593625489427\n"
     ]
    }
   ],
   "source": [
    "exampleLineage = c.Tree()\n",
    "exampleLineage.tree = []\n",
    "\n",
    "mle_param_holder = []\n",
    "for i in range(50000):\n",
    "    while len(exampleLineage.tree) < 250:\n",
    "        exampleLineage.tree = c.generate(numCells=250, locBern=0.9, cGom=10000000)\n",
    "    fate_holder = []\n",
    "    for cell in exampleLineage.tree:\n",
    "        fate_holder.append(cell.fate)\n",
    "    mle_param_holder.append(sum(fate_holder)/len(fate_holder))\n",
    "print(sum(mle_param_holder)/len(mle_param_holder))\n",
    "\n",
    "#exampleLineage.plotTree()"
   ]
  },
  {
   "cell_type": "code",
   "execution_count": 30,
   "metadata": {},
   "outputs": [],
   "source": [
    "fate_holder = []\n",
    "for cell in exampleLineage.tree:\n",
    "    fate_holder.append(cell.fate)"
   ]
  },
  {
   "cell_type": "code",
   "execution_count": 4,
   "metadata": {},
   "outputs": [
    {
     "name": "stdout",
     "output_type": "stream",
     "text": [
      "0.49019607843137253\n"
     ]
    }
   ],
   "source": [
    "print(sum(fate_holder)/len(fate_holder))"
   ]
  },
  {
   "cell_type": "code",
   "execution_count": null,
   "metadata": {},
   "outputs": [],
   "source": []
  }
 ],
 "metadata": {
  "kernelspec": {
   "display_name": "Python 3",
   "language": "python",
   "name": "python3"
  },
  "language_info": {
   "codemirror_mode": {
    "name": "ipython",
    "version": 3
   },
   "file_extension": ".py",
   "mimetype": "text/x-python",
   "name": "python",
   "nbconvert_exporter": "python",
   "pygments_lexer": "ipython3",
   "version": "3.6.7rc1"
  }
 },
 "nbformat": 4,
 "nbformat_minor": 2
}
