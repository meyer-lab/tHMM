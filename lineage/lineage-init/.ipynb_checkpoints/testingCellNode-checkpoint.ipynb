{
 "cells": [
  {
   "cell_type": "code",
   "execution_count": 1,
   "metadata": {},
   "outputs": [],
   "source": [
    "import CellNode as c"
   ]
  },
  {
   "cell_type": "code",
   "execution_count": 2,
   "metadata": {},
   "outputs": [
    {
     "name": "stdout",
     "output_type": "stream",
     "text": [
      "nan\n",
      "nan\n"
     ]
    }
   ],
   "source": [
    "cell1 = c.CellNode(key=0, startT=20)\n",
    "print(cell1.endT)\n",
    "print(cell1.tau)"
   ]
  },
  {
   "cell_type": "code",
   "execution_count": 3,
   "metadata": {},
   "outputs": [
    {
     "name": "stdout",
     "output_type": "stream",
     "text": [
      "nan\n",
      "480\n"
     ]
    }
   ],
   "source": [
    "cell1.endT = 500\n",
    "print(cell1.tau)\n",
    "cell1.calcTau()\n",
    "print(cell1.tau)"
   ]
  },
  {
   "cell_type": "code",
   "execution_count": 4,
   "metadata": {},
   "outputs": [],
   "source": [
    "cell2 = c.CellNode(key=0, startT=0)\n",
    "cell3= c.CellNode(key=0, startT=0)"
   ]
  },
  {
   "cell_type": "code",
   "execution_count": 5,
   "metadata": {},
   "outputs": [],
   "source": [
    "cell2, cell3 = cell1.divide(endT=30)"
   ]
  },
  {
   "cell_type": "code",
   "execution_count": 6,
   "metadata": {},
   "outputs": [
    {
     "data": {
      "text/plain": [
       "30"
      ]
     },
     "execution_count": 6,
     "metadata": {},
     "output_type": "execute_result"
    }
   ],
   "source": [
    "cell2.startT"
   ]
  },
  {
   "cell_type": "code",
   "execution_count": 7,
   "metadata": {},
   "outputs": [
    {
     "name": "stdout",
     "output_type": "stream",
     "text": [
      "480\n",
      "<CellNode.CellNode object at 0x7f4681596fd0>\n",
      "<CellNode.CellNode object at 0x7f47442ccf98>\n",
      "<CellNode.CellNode object at 0x7f47442cc7f0>\n"
     ]
    }
   ],
   "source": [
    "print(cell1.tau)\n",
    "print(cell1)\n",
    "print(cell1.left)\n",
    "print(cell1.right)"
   ]
  },
  {
   "cell_type": "code",
   "execution_count": 10,
   "metadata": {},
   "outputs": [
    {
     "name": "stdout",
     "output_type": "stream",
     "text": [
      "cell ID: 1\n",
      "cell startT: 0\n",
      "cell lifetime: 1.1140453273946727\n",
      "cell endT: 1.1140453273946727\n",
      "cell ID: 2\n",
      "cell startT: 1.1140453273946727\n",
      "cell lifetime: 0.4607095828888826\n",
      "cell endT: 1.5747549102835552\n",
      "cell ID: 3\n",
      "cell startT: 1.1140453273946727\n",
      "cell lifetime: 1.292473370045557\n",
      "cell endT: 2.4065186974402297\n",
      "cell ID: 4\n",
      "cell startT: 1.5747549102835552\n",
      "cell lifetime: 0.91733175782332\n",
      "cell endT: 2.492086668106875\n",
      "cell ID: 5\n",
      "cell startT: 1.5747549102835552\n",
      "cell lifetime: 0.43834925048090456\n",
      "cell endT: 2.0131041607644597\n",
      "cell ID: 6\n",
      "cell startT: 2.4065186974402297\n",
      "cell lifetime: 1.5363064049054855\n",
      "cell endT: 3.942825102345715\n",
      "cell ID: 7\n",
      "cell startT: 2.4065186974402297\n",
      "cell lifetime: 0.38592393453674695\n",
      "cell endT: 2.792442631976977\n",
      "cell ID: 12\n",
      "cell startT: 3.942825102345715\n",
      "cell lifetime: nan\n",
      "cell endT: nan\n",
      "cell ID: 13\n",
      "cell startT: 3.942825102345715\n",
      "cell lifetime: nan\n",
      "cell endT: nan\n",
      "cell ID: 14\n",
      "cell startT: 2.792442631976977\n",
      "cell lifetime: nan\n",
      "cell endT: nan\n",
      "cell ID: 15\n",
      "cell startT: 2.792442631976977\n",
      "cell lifetime: nan\n",
      "cell endT: nan\n"
     ]
    },
    {
     "data": {
      "image/png": "[encoded data removed]",
      "text/plain": [
       "<Figure size 432x288 with 1 Axes>"
      ]
     },
     "metadata": {
      "needs_background": "light"
     },
     "output_type": "display_data"
    }
   ],
   "source": [
    "something = c.generate(10, 0.7, 0.947)\n",
    "for cell in something:\n",
    "    print(\"cell ID: {}\".format(cell.key))\n",
    "    print(\"cell startT: {}\".format(cell.startT))\n",
    "    print(\"cell lifetime: {}\".format(cell.tau))\n",
    "    print(\"cell endT: {}\".format(cell.endT))\n",
    "\n",
    "\n",
    "    \n",
    "import matplotlib.pyplot as plt\n",
    "%matplotlib inline\n",
    "\n",
    "for cell in something:\n",
    "    plt.plot([cell.startT,cell.endT],[0,0])\n",
    "plt.show()"
   ]
  },
  {
   "cell_type": "code",
   "execution_count": null,
   "metadata": {},
   "outputs": [],
   "source": []
  }
 ],
 "metadata": {
  "kernelspec": {
   "display_name": "Python 3",
   "language": "python",
   "name": "python3"
  },
  "language_info": {
   "codemirror_mode": {
    "name": "ipython",
    "version": 3
   },
   "file_extension": ".py",
   "mimetype": "text/x-python",
   "name": "python",
   "nbconvert_exporter": "python",
   "pygments_lexer": "ipython3",
   "version": "3.6.6"
  }
 },
 "nbformat": 4,
 "nbformat_minor": 2
}
