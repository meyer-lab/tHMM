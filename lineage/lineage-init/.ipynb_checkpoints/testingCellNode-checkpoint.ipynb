{
 "cells": [
  {
   "cell_type": "code",
   "execution_count": 1,
   "metadata": {},
   "outputs": [],
   "source": [
    "import CellNode as c\n",
    "import math"
   ]
  },
  {
   "cell_type": "code",
   "execution_count": 2,
   "metadata": {},
   "outputs": [
    {
     "name": "stdout",
     "output_type": "stream",
     "text": [
      "nan\n",
      "nan\n"
     ]
    }
   ],
   "source": [
    "cell1 = c.CellNode(key=0, startT=20)\n",
    "print(cell1.endT)\n",
    "print(cell1.tau)"
   ]
  },
  {
   "cell_type": "code",
   "execution_count": 3,
   "metadata": {},
   "outputs": [
    {
     "name": "stdout",
     "output_type": "stream",
     "text": [
      "nan\n",
      "480\n"
     ]
    }
   ],
   "source": [
    "cell1.endT = 500\n",
    "print(cell1.tau)\n",
    "cell1.calcTau()\n",
    "print(cell1.tau)"
   ]
  },
  {
   "cell_type": "code",
   "execution_count": 4,
   "metadata": {},
   "outputs": [
    {
     "name": "stdout",
     "output_type": "stream",
     "text": [
      "480\n",
      "<CellNode.CellNode object at 0x7ffa51e17c88>\n",
      "None\n",
      "None\n"
     ]
    }
   ],
   "source": [
    "print(cell1.tau)\n",
    "print(cell1)\n",
    "print(cell1.left)\n",
    "print(cell1.right)"
   ]
  },
  {
   "cell_type": "code",
   "execution_count": 6,
   "metadata": {},
   "outputs": [
    {
     "data": {
      "image/png": "[encoded data removed]",
      "text/plain": [
       "<Figure size 432x288 with 2 Axes>"
      ]
     },
     "metadata": {
      "needs_background": "light"
     },
     "output_type": "display_data"
    }
   ],
   "source": [
    "numcells = 1000\n",
    "something = c.generate(numcells, 0.4, 20)\n",
    "something2 = c.generate(numcells, 0.6, 20)\n",
    "\n",
    "while len(something) < 100:\n",
    "    something = c.generate(numcells, 0.4, 20)\n",
    "while len(something2) < 100:\n",
    "    something2 = c.generate(numcells, 0.6, 20)\n",
    "\n",
    "\n",
    "\n",
    "    \n",
    "import matplotlib.pyplot as plt\n",
    "%matplotlib inline\n",
    "\n",
    "\n",
    "plt.figure(figsize(12,12))\n",
    "plt.subplot(211)\n",
    "for cell in something:\n",
    "    if cell.isRootParent():\n",
    "        plt.plot(cell.startT, cell.plotVal, 'bo', markersize=10)\n",
    "    plt.plot([cell.startT,cell.endT],[cell.plotVal,cell.plotVal], 'k')\n",
    "    if cell.fate:\n",
    "        if not math.isnan(cell.endT):\n",
    "            plt.plot([cell.endT,cell.endT],[cell.left.plotVal,cell.right.plotVal],'k')\n",
    "    else:\n",
    "        if cell.isRootParent():\n",
    "            plt.plot(cell.endT, cell.plotVal, 'ro', markersize=10)\n",
    "        else:\n",
    "            if cell.isLeft():\n",
    "                plt.plot(cell.endT,(cell.plotVal), 'ro', markersize=10)\n",
    "            if cell.isRight():\n",
    "                plt.plot(cell.endT,(cell.plotVal), 'ro', markersize=10)\n",
    "plt.title('Parameters: Bernoulli: 0.4, Gompertz: 20')\n",
    "plt.subplot(212)\n",
    "for cell in something2:\n",
    "    if cell.isRootParent():\n",
    "        plt.plot(cell.startT, cell.plotVal, 'bo', markersize=10)\n",
    "    plt.plot([cell.startT,cell.endT],[cell.plotVal,cell.plotVal], 'k')\n",
    "    if cell.fate:\n",
    "        if not math.isnan(cell.endT):\n",
    "            plt.plot([cell.endT,cell.endT],[cell.left.plotVal,cell.right.plotVal],'k')\n",
    "    else:\n",
    "        if cell.isRootParent():\n",
    "            plt.plot(cell.endT, cell.plotVal, 'ro', markersize=10)\n",
    "        else:\n",
    "            if cell.isLeft():\n",
    "                plt.plot(cell.endT,(cell.plotVal), 'ro', markersize=10)\n",
    "            if cell.isRight():\n",
    "                plt.plot(cell.endT,(cell.plotVal), 'ro', markersize=10)            \n",
    "plt.title('Parameters: Bernoulli: 0.6, Gompertz: 20')\n",
    "plt.show()"
   ]
  },
  {
   "cell_type": "code",
   "execution_count": null,
   "metadata": {},
   "outputs": [],
   "source": []
  },
  {
   "cell_type": "code",
   "execution_count": null,
   "metadata": {},
   "outputs": [],
   "source": []
  }
 ],
 "metadata": {
  "kernelspec": {
   "display_name": "Python 3",
   "language": "python",
   "name": "python3"
  },
  "language_info": {
   "codemirror_mode": {
    "name": "ipython",
    "version": 3
   },
   "file_extension": ".py",
   "mimetype": "text/x-python",
   "name": "python",
   "nbconvert_exporter": "python",
   "pygments_lexer": "ipython3",
   "version": "3.6.6"
  }
 },
 "nbformat": 4,
 "nbformat_minor": 2
}
