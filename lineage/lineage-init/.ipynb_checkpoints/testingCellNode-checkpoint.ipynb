{
 "cells": [
  {
   "cell_type": "code",
   "execution_count": 12,
   "metadata": {},
   "outputs": [],
   "source": [
    "import CellNode as c"
   ]
  },
  {
   "cell_type": "code",
   "execution_count": 15,
   "metadata": {},
   "outputs": [],
   "source": [
    "cell0 =  c.CellNode(key=0, startT=0, endT=600, fate=True, left=None, right=None, parent=None)\n",
    "cell1 =  c.CellNode(key=1, startT=0, endT=600, fate=True, left=None, right=None, parent=None)\n",
    "cell2 =  c.CellNode(key=2, startT=0, endT=600, fate=True, left=None, right=None, parent=None)\n",
    "cell3 =  c.CellNode(key=3, startT=0, endT=600, fate=True, left=None, right=None, parent=None)\n",
    "cell4 =  c.CellNode(key=4, startT=0, endT=600, fate=True, left=None, right=None, parent=None)\n",
    "cell5 =  c.CellNode(key=5, startT=0, endT=600, fate=True, left=None, right=None, parent=None)\n",
    "cell6 =  c.CellNode(key=6, startT=0, endT=600, fate=True, left=None, right=None, parent=None)\n",
    "cell7 =  c.CellNode(key=7, startT=0, endT=600, fate=True, left=None, right=None, parent=None)\n",
    "cell8 =  c.CellNode(key=8, startT=0, endT=600, fate=True, left=None, right=None, parent=None)\n",
    "cell9 =  c.CellNode(key=9, startT=0, endT=600, fate=True, left=None, right=None, parent=None)\n",
    "cell10 = c.CellNode(key=10, startT=0, endT=600, fate=True, left=None, right=None, parent=None)\n",
    "cell11 = c.CellNode(key=11, startT=0, endT=600, fate=True, left=None, right=None, parent=None)\n",
    "cell12 = c.CellNode(key=12, startT=0, endT=600, fate=True, left=None, right=None, parent=None)\n",
    "\n"
   ]
  },
  {
   "cell_type": "code",
   "execution_count": 16,
   "metadata": {},
   "outputs": [],
   "source": [
    "family = [cell0,\n",
    "          cell1, \n",
    "          cell2,\n",
    "          cell3,\n",
    "          cell4,\n",
    "          cell5,\n",
    "          cell6,\n",
    "          cell7,\n",
    "          cell8,\n",
    "          cell9,\n",
    "          cell10,\n",
    "          cell11,\n",
    "          cell12]"
   ]
  },
  {
   "cell_type": "code",
   "execution_count": null,
   "metadata": {},
   "outputs": [],
   "source": []
  }
 ],
 "metadata": {
  "kernelspec": {
   "display_name": "Python 3",
   "language": "python",
   "name": "python3"
  },
  "language_info": {
   "codemirror_mode": {
    "name": "ipython",
    "version": 3
   },
   "file_extension": ".py",
   "mimetype": "text/x-python",
   "name": "python",
   "nbconvert_exporter": "python",
   "pygments_lexer": "ipython3",
   "version": "3.6.6"
  }
 },
 "nbformat": 4,
 "nbformat_minor": 2
}
