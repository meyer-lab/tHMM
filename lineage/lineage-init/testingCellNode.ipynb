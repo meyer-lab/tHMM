{
 "cells": [
  {
   "cell_type": "code",
   "execution_count": 1,
   "metadata": {},
   "outputs": [],
   "source": [
    "import CellNode as c\n",
    "import generate"
   ]
  },
  {
   "cell_type": "code",
   "execution_count": 2,
   "metadata": {},
   "outputs": [
    {
     "name": "stdout",
     "output_type": "stream",
     "text": [
      "nan\n",
      "nan\n"
     ]
    }
   ],
   "source": [
    "cell1 = c.CellNode(key=0, startT=20)\n",
    "print(cell1.endT)\n",
    "print(cell1.tau)"
   ]
  },
  {
   "cell_type": "code",
   "execution_count": 3,
   "metadata": {},
   "outputs": [
    {
     "name": "stdout",
     "output_type": "stream",
     "text": [
      "nan\n",
      "480\n"
     ]
    }
   ],
   "source": [
    "cell1.endT = 500\n",
    "print(cell1.tau)\n",
    "cell1.calcTau()\n",
    "print(cell1.tau)"
   ]
  },
  {
   "cell_type": "code",
   "execution_count": 4,
   "metadata": {},
   "outputs": [],
   "source": [
    "cell2 = c.CellNode(key=0, startT=0)\n",
    "cell3= c.CellNode(key=0, startT=0)"
   ]
  },
  {
   "cell_type": "code",
   "execution_count": 5,
   "metadata": {},
   "outputs": [],
   "source": [
    "cell2, cell3 = cell1.divide(endT=30)"
   ]
  },
  {
   "cell_type": "code",
   "execution_count": 6,
   "metadata": {},
   "outputs": [
    {
     "data": {
      "text/plain": [
       "30"
      ]
     },
     "execution_count": 6,
     "metadata": {},
     "output_type": "execute_result"
    }
   ],
   "source": [
    "cell2.startT"
   ]
  },
  {
   "cell_type": "code",
   "execution_count": 7,
   "metadata": {},
   "outputs": [
    {
     "name": "stdout",
     "output_type": "stream",
     "text": [
      "480\n",
      "<CellNode.CellNode object at 0x7f7eb54829e8>\n",
      "<CellNode.CellNode object at 0x7f7eb5482898>\n",
      "<CellNode.CellNode object at 0x7f7eb54828d0>\n"
     ]
    }
   ],
   "source": [
    "print(cell1.tau)\n",
    "print(cell1)\n",
    "print(cell1.left)\n",
    "print(cell1.right)"
   ]
  },
  {
   "cell_type": "code",
   "execution_count": 8,
   "metadata": {},
   "outputs": [
    {
     "name": "stdout",
     "output_type": "stream",
     "text": [
      "[<CellNode.CellNode object at 0x7f7eb5482d30>]\n"
     ]
    }
   ],
   "source": [
    "something = generate.generate(10, 0.7, 0.947, 0)\n",
    "print(something)"
   ]
  }
 ],
 "metadata": {
  "kernelspec": {
   "display_name": "Python 3",
   "language": "python",
   "name": "python3"
  },
  "language_info": {
   "codemirror_mode": {
    "name": "ipython",
    "version": 3
   },
   "file_extension": ".py",
   "mimetype": "text/x-python",
   "name": "python",
   "nbconvert_exporter": "python",
   "pygments_lexer": "ipython3",
   "version": "3.6.6"
  }
 },
 "nbformat": 4,
 "nbformat_minor": 2
}
